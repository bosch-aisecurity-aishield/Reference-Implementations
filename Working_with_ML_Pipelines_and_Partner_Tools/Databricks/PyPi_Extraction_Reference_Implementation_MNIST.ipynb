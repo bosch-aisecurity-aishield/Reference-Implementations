{
 "cells": [
  {
   "cell_type": "markdown",
   "metadata": {},
   "source": [
    "# Vulnerability Analysis and Defense Generation using AIShield SDK\n",
    "* <b>File Name</b>                          : PyPi_Extraction_Reference_Implementation_MNIST.ipynb\n",
    "* <b>Date of creation(dd-mm-yyyy)</b>       : 01-04-2023\n",
    "* <b>Author Name/Dept</b>                   : AIShield\n",
    "* <b>Organization</b>                       : BGSW\n",
    "* <b>Description</b>                        : Source Code of Reference Implementation\n",
    "* <b>Copyright</b>                          : Copyright 2022 Bosch Global Software Technologies Private Limited. All Rights Reserved.\n",
    "\n",
    "### Input\n",
    "This Example does the following:\n",
    "* Downloads the MNIST-Dataset from Tensorflow-Datasets\n",
    "* Trains a Tensorflow Model for Image Classification on the MNIST Dataset\n",
    "* Trained Model File : \"mnist_model.h5\"\n",
    "\n",
    "### Output and Artifacts\n",
    "1. Vulnerability report\n",
    "2. Defense report\n",
    "3. Defense model\n",
    "4. attack samples"
   ]
  },
  {
   "cell_type": "code",
   "execution_count": 9,
   "metadata": {
    "application/vnd.databricks.v1+cell": {
     "cellMetadata": {
      "byteLimit": 2048000,
      "rowLimit": 10000
     },
     "inputWidgets": {},
     "nuid": "44f15b31-b7c6-4ff6-85cf-906f7f7d5b8f",
     "showTitle": false,
     "title": ""
    }
   },
   "outputs": [],
   "source": [
    "\"\"\"\n",
    "Description: commands to install all the packages\n",
    "\"\"\"\n",
    "%pip install mlflow==2.2.2\n",
    "%pip install tensorflow==2.9.1\n",
    "%pip install opencv-python\n",
    "%pip install aishield"
   ]
  },
  {
   "cell_type": "markdown",
   "metadata": {
    "application/vnd.databricks.v1+cell": {
     "cellMetadata": {
      "byteLimit": 2048000,
      "rowLimit": 10000
     },
     "inputWidgets": {},
     "nuid": "cf68273a-1fd5-457b-97a4-79ef04b62468",
     "showTitle": false,
     "title": ""
    }
   },
   "source": [
    "1.0 Importing libraries"
   ]
  },
  {
   "cell_type": "code",
   "execution_count": 0,
   "metadata": {
    "application/vnd.databricks.v1+cell": {
     "cellMetadata": {
      "byteLimit": 2048000,
      "rowLimit": 10000
     },
     "inputWidgets": {},
     "nuid": "de323b98-6f8f-498b-b5bc-1a3e53569f48",
     "showTitle": false,
     "title": ""
    }
   },
   "outputs": [
    {
     "data": {
      "application/vnd.databricks.v1+bamboolib_hint": "{\"pd.DataFrames\": [], \"version\": \"0.0.1\"}",
      "text/plain": []
     },
     "metadata": {
      "application/vnd.databricks.v1+output": {
       "addedWidgets": {},
       "arguments": {},
       "data": {
        "application/vnd.databricks.v1+bamboolib_hint": "{\"pd.DataFrames\": [], \"version\": \"0.0.1\"}",
        "text/plain": ""
       },
       "datasetInfos": [],
       "executionCount": null,
       "metadata": {},
       "removedWidgets": [],
       "type": "mimeBundle"
      }
     },
     "output_type": "display_data"
    }
   ],
   "source": [
    "\"\"\"\n",
    "Description: Import libraries\n",
    "\"\"\"\n",
    "import aishield as ais   # importing AIShield pypi package \n",
    "import tensorflow as tf\n",
    "import numpy as np\n",
    "import matplotlib.pyplot as plt\n",
    "from sklearn.model_selection import train_test_split\n",
    "from sklearn import metrics\n",
    "import zipfile \n",
    "import pandas as pd\n",
    "import cv2\n",
    "import os\n",
    "import random\n",
    "import requests\n",
    "import json\n",
    "import time\n",
    "from tqdm import tqdm\n",
    "import shutil\n",
    "#from humanfriendly import format_timespan\n",
    "from datetime import datetime\n",
    "import mlflow\n",
    "from mlflow.utils.environment import _mlflow_conda_env\n",
    "import cloudpickle\n",
    "import mlflow.sklearn\n",
    "import sklearn"
   ]
  },
  {
   "cell_type": "markdown",
   "metadata": {
    "application/vnd.databricks.v1+cell": {
     "cellMetadata": {
      "byteLimit": 2048000,
      "rowLimit": 10000
     },
     "inputWidgets": {},
     "nuid": "9eb0c771-2815-49ba-a98c-40eed9ba03ac",
     "showTitle": false,
     "title": ""
    }
   },
   "source": [
    "2.0 Data Loading and Preprocessing"
   ]
  },
  {
   "cell_type": "code",
   "execution_count": 0,
   "metadata": {
    "application/vnd.databricks.v1+cell": {
     "cellMetadata": {
      "byteLimit": 2048000,
      "rowLimit": 10000
     },
     "inputWidgets": {},
     "nuid": "9c757f7a-f284-4616-ba41-53070ff4ac5b",
     "showTitle": false,
     "title": ""
    }
   },
   "outputs": [
    {
     "name": "stdout",
     "output_type": "stream",
     "text": [
      "Downloading data from https://storage.googleapis.com/tensorflow/tf-keras-datasets/mnist.npz\n",
      "\r",
      "    8192/11490434 [..............................] - ETA: 0s\b\b\b\b\b\b\b\b\b\b\b\b\b\b\b\b\b\b\b\b\b\b\b\b\b\b\b\b\b\b\b\b\b\b\b\b\b\b\b\b\b\b\b\b\b\b\b\b\b\b\b\b\b\b\b\b\b\b\b\b\r",
      "  278528/11490434 [..............................] - ETA: 2s\b\b\b\b\b\b\b\b\b\b\b\b\b\b\b\b\b\b\b\b\b\b\b\b\b\b\b\b\b\b\b\b\b\b\b\b\b\b\b\b\b\b\b\b\b\b\b\b\b\b\b\b\b\b\b\b\b\b\b\b\r",
      "  655360/11490434 [>.............................] - ETA: 1s\b\b\b\b\b\b\b\b\b\b\b\b\b\b\b\b\b\b\b\b\b\b\b\b\b\b\b\b\b\b\b\b\b\b\b\b\b\b\b\b\b\b\b\b\b\b\b\b\b\b\b\b\b\b\b\b\b\b\b\b\r",
      " 1097728/11490434 [=>............................] - ETA: 1s\b\b\b\b\b\b\b\b\b\b\b\b\b\b\b\b\b\b\b\b\b\b\b\b\b\b\b\b\b\b\b\b\b\b\b\b\b\b\b\b\b\b\b\b\b\b\b\b\b\b\b\b\b\b\b\b\b\b\b\b\r",
      " 1703936/11490434 [===>..........................] - ETA: 1s\b\b\b\b\b\b\b\b\b\b\b\b\b\b\b\b\b\b\b\b\b\b\b\b\b\b\b\b\b\b\b\b\b\b\b\b\b\b\b\b\b\b\b\b\b\b\b\b\b\b\b\b\b\b\b\b\b\b\b\b\r",
      " 2392064/11490434 [=====>........................] - ETA: 0s\b\b\b\b\b\b\b\b\b\b\b\b\b\b\b\b\b\b\b\b\b\b\b\b\b\b\b\b\b\b\b\b\b\b\b\b\b\b\b\b\b\b\b\b\b\b\b\b\b\b\b\b\b\b\b\b\b\b\b\b\r",
      " 3178496/11490434 [=======>......................] - ETA: 0s\b\b\b\b\b\b\b\b\b\b\b\b\b\b\b\b\b\b\b\b\b\b\b\b\b\b\b\b\b\b\b\b\b\b\b\b\b\b\b\b\b\b\b\b\b\b\b\b\b\b\b\b\b\b\b\b\b\b\b\b\r",
      " 4161536/11490434 [=========>....................] - ETA: 0s\b\b\b\b\b\b\b\b\b\b\b\b\b\b\b\b\b\b\b\b\b\b\b\b\b\b\b\b\b\b\b\b\b\b\b\b\b\b\b\b\b\b\b\b\b\b\b\b\b\b\b\b\b\b\b\b\b\b\b\b\r",
      " 5373952/11490434 [=============>................] - ETA: 0s\b\b\b\b\b\b\b\b\b\b\b\b\b\b\b\b\b\b\b\b\b\b\b\b\b\b\b\b\b\b\b\b\b\b\b\b\b\b\b\b\b\b\b\b\b\b\b\b\b\b\b\b\b\b\b\b\b\b\b\b\r",
      " 6955008/11490434 [=================>............] - ETA: 0s\b\b\b\b\b\b\b\b\b\b\b\b\b\b\b\b\b\b\b\b\b\b\b\b\b\b\b\b\b\b\b\b\b\b\b\b\b\b\b\b\b\b\b\b\b\b\b\b\b\b\b\b\b\b\b\b\b\b\b\b\r",
      " 8863744/11490434 [======================>.......] - ETA: 0s\b\b\b\b\b\b\b\b\b\b\b\b\b\b\b\b\b\b\b\b\b\b\b\b\b\b\b\b\b\b\b\b\b\b\b\b\b\b\b\b\b\b\b\b\b\b\b\b\b\b\b\b\b\b\b\b\b\b\b\b\r",
      "11223040/11490434 [============================>.] - ETA: 0s\b\b\b\b\b\b\b\b\b\b\b\b\b\b\b\b\b\b\b\b\b\b\b\b\b\b\b\b\b\b\b\b\b\b\b\b\b\b\b\b\b\b\b\b\b\b\b\b\b\b\b\b\b\b\b\b\b\b\b\b\r",
      "11490434/11490434 [==============================] - 1s 0us/step\n"
     ]
    }
   ],
   "source": [
    "'''\n",
    "Description : Loading mnist dataset\n",
    "'''\n",
    "(X_train,y_train),(X_test,y_test)=tf.keras.datasets.mnist.load_data()"
   ]
  },
  {
   "cell_type": "code",
   "execution_count": 0,
   "metadata": {
    "application/vnd.databricks.v1+cell": {
     "cellMetadata": {
      "byteLimit": 2048000,
      "rowLimit": 10000
     },
     "inputWidgets": {},
     "nuid": "a5b5bbeb-9848-4d4f-8eee-f5d43bb4cb53",
     "showTitle": false,
     "title": ""
    }
   },
   "outputs": [],
   "source": [
    "'''\n",
    "Description : Splitting data for validation\n",
    "'''\n",
    "X_train, X_val, y_train, y_val = train_test_split(X_train,y_train,stratify = y_train,test_size = 0.1,random_state = 42)"
   ]
  },
  {
   "cell_type": "code",
   "execution_count": 0,
   "metadata": {
    "application/vnd.databricks.v1+cell": {
     "cellMetadata": {
      "byteLimit": 2048000,
      "rowLimit": 10000
     },
     "inputWidgets": {},
     "nuid": "e66655a5-64d8-46fc-b2ae-cfddf2a3d551",
     "showTitle": false,
     "title": ""
    }
   },
   "outputs": [
    {
     "name": "stdout",
     "output_type": "stream",
     "text": [
      "shape of x_train:  (54000, 28, 28)\n",
      "shape of y_train: (54000,)\n",
      "shape of x_test: (10000, 28, 28)\n",
      "shape of y_test: (10000,)\n",
      "shape of x_val: (6000, 28, 28)\n",
      "shape of y_val: (6000,)\n"
     ]
    }
   ],
   "source": [
    "'''\n",
    "Description : Check size of dataset\n",
    "'''\n",
    "print(\"shape of x_train: \",X_train.shape)\n",
    "print(\"shape of y_train: {}\".format(y_train.shape))\n",
    "print(f'shape of x_test: {X_test.shape}')\n",
    "print(f'shape of y_test: {y_test.shape}')\n",
    "print(f'shape of x_val: {X_val.shape}')\n",
    "print(f'shape of y_val: {y_val.shape}')"
   ]
  },
  {
   "cell_type": "code",
   "execution_count": 0,
   "metadata": {
    "application/vnd.databricks.v1+cell": {
     "cellMetadata": {
      "byteLimit": 2048000,
      "rowLimit": 10000
     },
     "inputWidgets": {},
     "nuid": "b22a2a1f-3d58-4079-b768-35604adcbad9",
     "showTitle": false,
     "title": ""
    }
   },
   "outputs": [],
   "source": [
    "def plot(x, y=None, row: int = 2):\n",
    "    \"\"\"\n",
    "    to visualize random sample\n",
    "    \"\"\"\n",
    "    rows = row\n",
    "    random_indices = random.sample(range(x.shape[0]), rows * rows)\n",
    "    sample_images = x[random_indices, :]\n",
    "    if y is not None:\n",
    "        sample_labels = y[random_indices]\n",
    "\n",
    "    fig, axs = plt.subplots(nrows=rows, ncols=rows, figsize=(12, 9), sharex=True, sharey=True)\n",
    "    for i in range(rows * rows):\n",
    "        subplot_row = i // rows\n",
    "        subplot_col = i % rows\n",
    "        axs[subplot_row, subplot_col].imshow(sample_images[i, :])\n",
    "        if y is not None:\n",
    "            axs[subplot_row, subplot_col].set_title(\"Class. %d\" % sample_labels[i])\n",
    "    plt.tight_layout()\n",
    "    plt.show()"
   ]
  },
  {
   "cell_type": "code",
   "execution_count": 0,
   "metadata": {
    "application/vnd.databricks.v1+cell": {
     "cellMetadata": {
      "byteLimit": 2048000,
      "rowLimit": 10000
     },
     "inputWidgets": {},
     "nuid": "e9a466a0-8bff-47bb-afd7-89b0c421078e",
     "showTitle": false,
     "title": ""
    }
   },
   "outputs": [
    {
     "data": {
      "image/png": "[encoded data removed]"
     },
     "metadata": {
      "application/vnd.databricks.v1+output": {
       "addedWidgets": {},
       "arguments": {},
       "data": "data:image/png;base64,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\n",
       "datasetInfos": [],
       "metadata": {},
       "removedWidgets": [],
       "type": "image"
      }
     },
     "output_type": "display_data"
    }
   ],
   "source": [
    "\"\"\"\n",
    "Description: visualize data\n",
    "\"\"\"\n",
    "plot(X_train, y_train, row=3)"
   ]
  },
  {
   "cell_type": "code",
   "execution_count": 0,
   "metadata": {
    "application/vnd.databricks.v1+cell": {
     "cellMetadata": {
      "byteLimit": 2048000,
      "rowLimit": 10000
     },
     "inputWidgets": {},
     "nuid": "fef74b48-c231-4c17-874b-ba2ea42bf26c",
     "showTitle": false,
     "title": ""
    }
   },
   "outputs": [],
   "source": [
    "'''\n",
    "Description : Set num_classes and input shape \n",
    "'''\n",
    "img_row,img_col,channel=28,28,1\n",
    "num_classes=10\n",
    "input_shape=(img_row,img_col,channel)"
   ]
  },
  {
   "cell_type": "code",
   "execution_count": 0,
   "metadata": {
    "application/vnd.databricks.v1+cell": {
     "cellMetadata": {
      "byteLimit": 2048000,
      "rowLimit": 10000
     },
     "inputWidgets": {},
     "nuid": "64e680a1-1759-408f-b692-bdef9756ade7",
     "showTitle": false,
     "title": ""
    }
   },
   "outputs": [],
   "source": [
    "\"\"\"\n",
    "Description: Normalizing and reshaping the data\n",
    "\"\"\"\n",
    "X_train = X_train.reshape(-1,*input_shape)/255.0\n",
    "X_val =  X_val.reshape(-1,*input_shape)/255.0\n",
    "X_test =  X_test.reshape(-1,*input_shape)/255.0"
   ]
  },
  {
   "cell_type": "code",
   "execution_count": 0,
   "metadata": {
    "application/vnd.databricks.v1+cell": {
     "cellMetadata": {
      "byteLimit": 2048000,
      "rowLimit": 10000
     },
     "inputWidgets": {},
     "nuid": "c1f52e97-719f-416f-807a-a24bfb1d4de6",
     "showTitle": false,
     "title": ""
    }
   },
   "outputs": [],
   "source": [
    "\"\"\"\n",
    "Description : Convert label to one hot encoder\n",
    "\"\"\"\n",
    "y_train=tf.keras.utils.to_categorical(y_train,num_classes)\n",
    "y_test=tf.keras.utils.to_categorical(y_test,num_classes)"
   ]
  },
  {
   "cell_type": "markdown",
   "metadata": {
    "application/vnd.databricks.v1+cell": {
     "cellMetadata": {
      "byteLimit": 2048000,
      "rowLimit": 10000
     },
     "inputWidgets": {},
     "nuid": "a4814c2a-a2f2-478d-b126-7588d3f0acac",
     "showTitle": false,
     "title": ""
    }
   },
   "source": [
    "d 3.0 Model Development and Training"
   ]
  },
  {
   "cell_type": "code",
   "execution_count": 0,
   "metadata": {
    "application/vnd.databricks.v1+cell": {
     "cellMetadata": {
      "byteLimit": 2048000,
      "rowLimit": 10000
     },
     "inputWidgets": {},
     "nuid": "cbeb20f6-e85e-41e4-baca-1d69563c210e",
     "showTitle": false,
     "title": ""
    }
   },
   "outputs": [],
   "source": [
    "def make_directory(directory):\n",
    "    \"\"\"\n",
    "    create directory\n",
    "\n",
    "    Parameters\n",
    "    ----------\n",
    "    directorys : list containing the directorys path to create \n",
    "    Returns\n",
    "    -------\n",
    "    None.\n",
    "\n",
    "    \"\"\"\n",
    "    for d in directory:\n",
    "        if os.path.isdir(d):\n",
    "            print(\"directory {} already exist\".format(d))\n",
    "        if os.path.isdir(d)==False:\n",
    "            os.mkdir(path=d)\n",
    "            print(\"directory {} created successfully\".format(d))"
   ]
  },
  {
   "cell_type": "code",
   "execution_count": 0,
   "metadata": {
    "application/vnd.databricks.v1+cell": {
     "cellMetadata": {
      "byteLimit": 2048000,
      "rowLimit": 10000
     },
     "inputWidgets": {},
     "nuid": "dfe43563-11ee-4794-884c-c9f63c8844e9",
     "showTitle": false,
     "title": ""
    }
   },
   "outputs": [],
   "source": [
    "def delete_directory(directorys):\n",
    "    \"\"\"\n",
    "    delete directory \n",
    "\n",
    "    Parameters\n",
    "    ----------\n",
    "    directorys : list containing the directorys to deleate along with all the files\n",
    "\n",
    "    Returns\n",
    "    -------\n",
    "    None.\n",
    "\n",
    "    \"\"\"\n",
    "    if len(directorys)>=1:\n",
    "        for d in directorys:\n",
    "            if os.path.isdir(d):\n",
    "                try:\n",
    "                    if os.path.isfile(d):\n",
    "                        os.remove(path=d)\n",
    "                    else:\n",
    "                        shutil.rmtree(path=d)\n",
    "                        print(\"Removed: {}\".format(d))\n",
    "                except:\n",
    "                    print(\"Failed to removed: {}\".format(d))"
   ]
  },
  {
   "cell_type": "code",
   "execution_count": 0,
   "metadata": {
    "application/vnd.databricks.v1+cell": {
     "cellMetadata": {
      "byteLimit": 2048000,
      "rowLimit": 10000
     },
     "inputWidgets": {},
     "nuid": "e0c48871-6dab-463c-bfb6-d9daed02de21",
     "showTitle": false,
     "title": ""
    }
   },
   "outputs": [],
   "source": [
    "def make_archive(base_name,root_dir,zip_format='zip'):\n",
    "    \"\"\"\n",
    "    created zip for given folder\n",
    "\n",
    "    Parameters\n",
    "    ----------\n",
    "    base_name : name of zip file\n",
    "    root_dir : directory to archive/zip\n",
    "    zip_format : zip or tar \n",
    "        DESCRIPTION. The default is 'zip'.\n",
    "\n",
    "    Returns\n",
    "    -------\n",
    "    None.\n",
    "\n",
    "    \"\"\"\n",
    "    shutil.make_archive(base_name=base_name, format=zip_format, root_dir=root_dir)"
   ]
  },
  {
   "cell_type": "code",
   "execution_count": 0,
   "metadata": {
    "application/vnd.databricks.v1+cell": {
     "cellMetadata": {
      "byteLimit": 2048000,
      "rowLimit": 10000
     },
     "inputWidgets": {},
     "nuid": "a0e4c5fc-8a08-4173-9cbf-f731327a1373",
     "showTitle": false,
     "title": ""
    }
   },
   "outputs": [],
   "source": [
    "def get_file_path(path):\n",
    "    \"\"\"\n",
    "    To get full file path from directory and child directory\n",
    "    Args:\n",
    "        path: Directory path\n",
    "\n",
    "    Returns: list containing full path of all the file from the given directory\n",
    "\n",
    "    \"\"\"\n",
    "    list_id = []\n",
    "    for (root, dirs, files) in os.walk(path, topdown=True):\n",
    "        if len(dirs) == 0:\n",
    "            for file in files:\n",
    "                list_id.append(os.path.join(root, file))\n",
    "    return list_id"
   ]
  },
  {
   "cell_type": "code",
   "execution_count": 0,
   "metadata": {
    "application/vnd.databricks.v1+cell": {
     "cellMetadata": {
      "byteLimit": 2048000,
      "rowLimit": 10000
     },
     "inputWidgets": {},
     "nuid": "6aa4b219-4c5e-4046-a2c0-b9840fbc2a24",
     "showTitle": false,
     "title": ""
    }
   },
   "outputs": [
    {
     "name": "stdout",
     "output_type": "stream",
     "text": [
      "directory /databricks/driver/dataais1 created successfully\n",
      "directory /databricks/driver/modelais1 created successfully\n",
      "directory /databricks/driver/labelais1 created successfully\n",
      "directory /databricks/driver/zipais1 created successfully\n",
      "directory /databricks/driver/reportsais1 created successfully\n",
      "directory /databricks/driver/reportsais1/sample_data_ais1 created successfully\n",
      "directory /databricks/driver/reportsais1/defense_artifactais1 created successfully\n"
     ]
    }
   ],
   "source": [
    "\"\"\"\n",
    "Description : Create data, model and label folder\n",
    "\"\"\"\n",
    "mnist_data_path = os.path.join(os.getcwd(), \"dataais1\")\n",
    "mnist_model_path = os.path.join(os.getcwd(), \"modelais1\")\n",
    "mnist_label_path = os.path.join(os.getcwd(), \"labelais1\")\n",
    "zip_path = os.path.join(os.getcwd(), \"zipais1\")\n",
    "#pyc_model_path = os.path.join(os.getcwd(), \"pyc_model\")\n",
    "report_path = os.path.join(os.getcwd(), \"reportsais1\")\n",
    "sample_data = os.path.join(report_path, \"sample_data_ais1\")\n",
    "defense_artifact = os.path.join(report_path, \"defense_artifactais1\")\n",
    "#deleting folder\n",
    "delete_directory(\n",
    "    directorys=[mnist_data_path, mnist_model_path, mnist_label_path, zip_path, report_path])\n",
    "\n",
    "# # creating folder\n",
    "make_directory([mnist_data_path, mnist_model_path, mnist_label_path, zip_path, report_path, sample_data,defense_artifact])"
   ]
  },
  {
   "cell_type": "code",
   "execution_count": 0,
   "metadata": {
    "application/vnd.databricks.v1+cell": {
     "cellMetadata": {
      "byteLimit": 2048000,
      "rowLimit": 10000
     },
     "inputWidgets": {},
     "nuid": "f2f29367-2264-4bb5-8ec9-01e45841f71c",
     "showTitle": false,
     "title": ""
    }
   },
   "outputs": [],
   "source": [
    "def cnn_model(input_shape=input_shape, num_classes=num_classes):\n",
    "    \"\"\"\n",
    "    Description: Create model architecture\n",
    "    \"\"\"\n",
    "    model = tf.keras.Sequential([\n",
    "        tf.keras.layers.Conv2D(32, (5,5), padding='same', activation='relu', input_shape=input_shape),\n",
    "        tf.keras.layers.Conv2D(32, (5,5), padding='same', activation='relu'),\n",
    "        tf.keras.layers.MaxPool2D(),\n",
    "        tf.keras.layers.Dropout(0.25),\n",
    "        tf.keras.layers.Conv2D(64, (3,3), padding='same', activation='relu'),\n",
    "        tf.keras.layers.Conv2D(64, (3,3), padding='same', activation='relu'),\n",
    "        tf.keras.layers.MaxPool2D(strides=(2,2)),\n",
    "        tf.keras.layers.Dropout(0.25),\n",
    "        tf.keras.layers.Flatten(),\n",
    "        tf.keras.layers.Dense(128, activation='relu'),\n",
    "        tf.keras.layers.Dropout(0.5),\n",
    "        tf.keras.layers.Dense(num_classes, activation='softmax')  \n",
    "    ])\n",
    "    #Compile model\n",
    "    model.compile(optimizer=tf.keras.optimizers.Adam(learning_rate=1e-3), loss = 'categorical_crossentropy', metrics=['accuracy'])\n",
    "    return model"
   ]
  },
  {
   "cell_type": "code",
   "execution_count": 0,
   "metadata": {
    "application/vnd.databricks.v1+cell": {
     "cellMetadata": {
      "byteLimit": 2048000,
      "rowLimit": 10000
     },
     "inputWidgets": {},
     "nuid": "fe4e1550-4be0-4099-8c1b-ee3a27e1e111",
     "showTitle": false,
     "title": ""
    }
   },
   "outputs": [],
   "source": [
    "\"\"\"\n",
    "Description: train model\n",
    "\"\"\"\n",
    "def train_model(model,X_train, y_train, X_test, y_test,batch_size=16,epochs=5,filename='mnist_model'):\n",
    "    '''\n",
    "    Description:Training  model\n",
    "    Args:\n",
    "        model:model to train \n",
    "        X_train: X_train for training \n",
    "        X_test: for validation\n",
    "        y_train: label for X_train\n",
    "        y_test: label for X_test\n",
    "        batch_size: batch size for training model\n",
    "        epochs: number of epochs to train model \n",
    "        filename : name to save extracted model\n",
    "    '''    \n",
    "    # Callbacks\n",
    "    checkpoint=tf.keras.callbacks.ModelCheckpoint(filepath=filename+'.h5',monitor='val_loss',verbose=1,save_best_only=True,mode='auto')\n",
    "    ES=tf.keras.callbacks.EarlyStopping(monitor='val_loss',min_delta=0,patience=5,mode='min',restore_best_weights=True)\n",
    "    \n",
    "    #train and record time for training\n",
    "    start_time=time.time()\n",
    "    history=model.fit(X_train,y_train,epochs=epochs,batch_size=batch_size,verbose=1, callbacks=[ES,checkpoint],validation_data=(X_test,y_test))#tensorboard_callback,,validation_split=0.05\n",
    "    elapsed_time = time.time() - start_time\n",
    "    \n",
    "    #print(\"Elapsed time: {}\".format(format_timespan(elapsed_time)))\n",
    "    \n",
    "    return model,history"
   ]
  },
  {
   "cell_type": "code",
   "execution_count": 0,
   "metadata": {
    "application/vnd.databricks.v1+cell": {
     "cellMetadata": {
      "byteLimit": 2048000,
      "rowLimit": 10000
     },
     "inputWidgets": {},
     "nuid": "e85e3ae6-a4d8-4ae8-bd55-cdbe136249a8",
     "showTitle": false,
     "title": ""
    }
   },
   "outputs": [],
   "source": [
    "def Plot_model_training_parameters(training_history):\n",
    "    \"\"\"\n",
    "    Description : plot model to visualize model training \n",
    "    \n",
    "    Args:\n",
    "        training_history: history from which model training parameter can be taken for plotting \n",
    "    \"\"\"\n",
    "    loss=training_history.history['loss']\n",
    "    accuracy=training_history.history['accuracy']\n",
    "    val_loss=training_history.history['val_loss']\n",
    "    val_accuracy=training_history.history['val_accuracy']\n",
    "    epochs_range=np.arange(1,len(loss)+1)\n",
    "    \n",
    "    plt.figure(figsize=(12,6))\n",
    "    plt.subplot(1,2,1)\n",
    "    plt.plot(epochs_range,loss,label=\"Training Loss\")\n",
    "    plt.plot(epochs_range,val_loss,label=\"Validation Loss\")\n",
    "    plt.title(\"Training loss \")\n",
    "    plt.xlabel('Epochs',fontsize=16,fontweight='bold')\n",
    "    plt.ylabel(\"Loss\",fontsize=16,fontweight='bold')\n",
    "    plt.legend()\n",
    "    plt.subplot(1,2,2)\n",
    "    plt.plot(epochs_range,accuracy,label=\"Training Accuracy\")\n",
    "    plt.plot(epochs_range,val_accuracy,label=\"Validation Accuracy\")\n",
    "    plt.title(\"Training accuracy\")\n",
    "    plt.xlabel('Epochs',fontsize=16,fontweight='bold')\n",
    "    plt.ylabel(\"Accuracy\",fontsize=16,fontweight='bold')\n",
    "    plt.legend()\n",
    "    plt.show()"
   ]
  },
  {
   "cell_type": "code",
   "execution_count": 0,
   "metadata": {
    "application/vnd.databricks.v1+cell": {
     "cellMetadata": {
      "byteLimit": 2048000,
      "rowLimit": 10000
     },
     "inputWidgets": {},
     "nuid": "2ab8dec6-6591-4428-80de-957f576fa13c",
     "showTitle": false,
     "title": ""
    }
   },
   "outputs": [],
   "source": [
    "\"\"\"\n",
    "Description : Created architecture of the model\n",
    "\"\"\"\n",
    "model=cnn_model()"
   ]
  },
  {
   "cell_type": "code",
   "execution_count": 0,
   "metadata": {
    "application/vnd.databricks.v1+cell": {
     "cellMetadata": {
      "byteLimit": 2048000,
      "rowLimit": 10000
     },
     "inputWidgets": {},
     "nuid": "2f97e3bb-328f-40c6-922d-f254ba71146c",
     "showTitle": false,
     "title": ""
    }
   },
   "outputs": [
    {
     "name": "stdout",
     "output_type": "stream",
     "text": [
      "Model: \"sequential\"\n",
      "_________________________________________________________________\n",
      " Layer (type)                Output Shape              Param #   \n",
      "=================================================================\n",
      " conv2d (Conv2D)             (None, 28, 28, 32)        832       \n",
      "                                                                 \n",
      " conv2d_1 (Conv2D)           (None, 28, 28, 32)        25632     \n",
      "                                                                 \n",
      " max_pooling2d (MaxPooling2D  (None, 14, 14, 32)       0         \n",
      " )                                                               \n",
      "                                                                 \n",
      " dropout (Dropout)           (None, 14, 14, 32)        0         \n",
      "                                                                 \n",
      " conv2d_2 (Conv2D)           (None, 14, 14, 64)        18496     \n",
      "                                                                 \n",
      " conv2d_3 (Conv2D)           (None, 14, 14, 64)        36928     \n",
      "                                                                 \n",
      " max_pooling2d_1 (MaxPooling  (None, 7, 7, 64)         0         \n",
      " 2D)                                                             \n",
      "                                                                 \n",
      " dropout_1 (Dropout)         (None, 7, 7, 64)          0         \n",
      "                                                                 \n",
      " flatten (Flatten)           (None, 3136)              0         \n",
      "                                                                 \n",
      " dense (Dense)               (None, 128)               401536    \n",
      "                                                                 \n",
      " dropout_2 (Dropout)         (None, 128)               0         \n",
      "                                                                 \n",
      " dense_1 (Dense)             (None, 10)                1290      \n",
      "                                                                 \n",
      "=================================================================\n",
      "Total params: 484,714\n",
      "Trainable params: 484,714\n",
      "Non-trainable params: 0\n",
      "_________________________________________________________________\n"
     ]
    }
   ],
   "source": [
    "\"\"\"\n",
    "Description : Get model summary\n",
    "\"\"\"\n",
    "model.summary()"
   ]
  },
  {
   "cell_type": "code",
   "execution_count": 0,
   "metadata": {
    "application/vnd.databricks.v1+cell": {
     "cellMetadata": {
      "byteLimit": 2048000,
      "rowLimit": 10000
     },
     "inputWidgets": {},
     "nuid": "eafb2e9d-bfc1-4bf7-ad5d-54b7c654775f",
     "showTitle": false,
     "title": ""
    }
   },
   "outputs": [
    {
     "name": "stdout",
     "output_type": "stream",
     "text": [
      "Active run id is : 472936035fd340e8b8c9dd02965ce96e\n",
      "Epoch 1/5\n",
      "\r",
      "   1/1688 [..............................] - ETA: 28:49 - loss: 2.3022 - accuracy: 0.0938\b\b\b\b\b\b\b\b\b\b\b\b\b\b\b\b\b\b\b\b\b\b\b\b\b\b\b\b\b\b\b\b\b\b\b\b\b\b\b\b\b\b\b\b\b\b\b\b\b\b\b\b\b\b\b\b\b\b\b\b\b\b\b\b\b\b\b\b\b\b\b\b\b\b\b\b\b\b\b\b\b\b\b\b\b\b\b\b\b\r",
      "   2/1688 [..............................] - ETA: 4:31 - loss: 2.3050 - accuracy: 0.0938 \b\b\b\b\b\b\b\b\b\b\b\b\b\b\b\b\b\b\b\b\b\b\b\b\b\b\b\b\b\b\b\b\b\b\b\b\b\b\b\b\b\b\b\b\b\b\b\b\b\b\b\b\b\b\b\b\b\b\b\b\b\b\b\b\b\b\b\b\b\b\b\b\b\b\b\b\b\b\b\b\b\b\b\b\b\b\b\b\r",
      "   3/1688 [..............................] - ETA: 4:47 - loss: 2.2971 - accuracy: 0.0938\b\b\b\b\b\b\b\b\b\b\b\b\b\b\b\b\b\b\b\b\b\b\b\b\b\b\b\b\b\b\b\b\b\b\b\b\b\b\b\b\b\b\b\b\b\b\b\b\b\b\b\b\b\b\b\b\b\b\b\b\b\b\b\b\b\b\b\b\b\b\b\b\b\b\b\b\b\b\b\b\b\b\b\b\b\b\b\b\r",
      "   4/1688 [..............................] - ETA: 5:06 - loss: 2.2854 - accuracy: 0.1016\b\b\b\b\b\b\b\b\b\b\b\b\b\b\b\b\b\b\b\b\b\b\b\b\b\b\b\b\b\b\b\b\b\b\b\b\b\b\b\b\b\b\b\b\b\b\b\b\b\b\b\b\b\b\b\b\b\b\b\b\b\b\b\b\b\b\b\b\b\b\b\b\b\b\b\b\b\b\b\b\b\b\b\b\b\b\b\b\r",
      "   5/1688 [..............................] - ETA: 4:48 - loss: 2.2821 - accuracy: 0.1000\b\b\b\b\b\b\b\b\b\b\b\b\b\b\b\b\b\b\b\b\b\b\b\b\b\b\b\b\b\b\b\b\b\b\b\b\b\b\b\b\b\b\b\b\b\b\b\b\b\b\b\b\b\b\b\b\b\b\b\b\b\b\b\b\b\b\b\b\b\b\b\b\b\b\b\b\b\b\b\b\b\b\b\b\b\b\b\b\r",
      "   6/1688 [..............................] - ETA: 4:40 - loss: 2.2858 - accuracy: 0.1094\b\b\b\b\b\b\b\b\b\b\b\b\b\b\b\b\b\b\b\b\b\b\b\b\b\b\b\b\b\b\b\b\b\b\b\b\b\b\b\b\b\b\b\b\b\b\b\b\b\b\b\b\b\b\b\b\b\b\b\b\b\b\b\b\b\b\b\b\b\b\b\b\b\b\b\b\b\b\b\b\b\b\b\b\b\b\b\b\r",
      "   7/1688 [..............................] - ETA: 4:33 - loss: 2.2843 - accuracy: 0.1116\b\b\b\b\b\b\b\b\b\b\b\b\b\b\b\b\b\b\b\b\b\b\b\b\b\b\b\b\b\b\b\b\b\b\b\b\b\b\b\b\b\b\b\b\b\b\b\b\b\b\b\b\b\b\b\b\b\b\b\b\b\b\b\b\b\b\b\b\b\b\b\b\b\b\b\b\b\b\b\b\b\b\b\b\b\b\b\b\r",
      "   8/1688 [..............................] - ETA: 4:31 - loss: 2.2796 - accuracy: 0.1133\b\b\b\b\b\b\b\b\b\b\b\b\b\b\b\b\b\b\b\b\b\b\b\b\b\b\b\b\b\b\b\b\b\b\b\b\b\b\b\b\b\b\b\b\b\b\b\b\b\b\b\b\b\b\b\b\b\b\b\b\b\b\b\b\b\b\b\b\b\b\b\b\b\b\b\b\b\b\b\b\b\b\b\b\b\b\b\b\r",
      "   9/1688 [..............................] - ETA: 4:34 - loss: 2.2728 - accuracy: 0.1285\b\b\b\b\b\b\b\b\b\b\b\b\b\b\b\b\b\b\b\b\b\b\b\b\b\b\b\b\b\b\b\b\b\b\b\b\b\b\b\b\b\b\b\b\b\b\b\b\b\b\b\b\b\b\b\b\b\b\b\b\b\b\b\b\b\b\b\b\b\b\b\b\b\b\b\b\b\b\b\b\b\b\b\b\b\b\b\b\r",
      "  10/1688 [..............................] - ETA: 4:38 - loss: 2.2612 - accuracy: 0.1437\b\b\b\b\b\b\b\b\b\b\b\b\b\b\b\b\b\b\b\b\b\b\b\b\b\b\b\b\b\b\b\b\b\b\b\b\b\b\b\b\b\b\b\b\b\b\b\b\b\b\b\b\b\b\b\b\b\b\b\b\b\b\b\b\b\b\b\b\b\b\b\b\b\b\b\b\b\b\b\b\b\b\b\b\b\b\b\b\r",
      "  11/1688 [..............................] - ETA: 4:35 - loss: 2.2564 - accuracy: 0.1477\b\b\b\b\b\b\b\b\b\b\b\b\b\b\b\b\b\b\b\b\b\b\b\b\b\b\b\b\b\b\b\b\b\b\b\b\b\b\b\b\b\b\b\b\b\b\b\b\b\b\b\b\b\b\b\b\b\b\b\b\b\b\b\b\b\b\b\b\b\b\b\b\b\b\b\b\b\b\b\b\b\b\b\b\b\b\b\b\r",
      "  12/1688 [..............................] - ETA: 4:30 - loss: 2.2508 - accuracy: 0.1536\b\b\b\b\b\b\b\b\b\b\b\b\b\b\b\b\b\b\b\b\b\b\b\b\b\b\b\b\b\b\b\b\b\b\b\b\b\b\b\b\b\b\b\b\b\b\b\b\b\b\b\b\b\b\b\b\b\b\b\b\b\b\b\b\b\b\b\b\b\b\b\b\b\b\b\b\b\b\b\b\b\b\b\b\b\b\b\b\r",
      "  13/1688 [..............................] - ETA: 4:30 - loss: 2.2451 - accuracy: 0.1587\b\b\b\b\b\b\b\b\b\b\b\b\b\b\b\b\b\b\b\b\b\b\b\b\b\b\b\b\b\b\b\b\b\b\b\b\b\b\b\b\b\b\b\b\b\b\b\b\b\b\b\b\b\b\b\b\b\b\b\b\b\b\b\b\b\b\b\b\b\b\b\b\b\b\b\b\b\b\b\b\b\b\b\b\b\b\b\b\r",
      "  14/1688 [..............................] - ETA: 4:28 - loss: 2.2365 - accuracy: 0.1562\b\b\b\b\b\b\b\b\b\b\b\b\b\b\b\b\b\b\b\b\b\b\b\b\b\b\b\b\b\b\b\b\b\b\b\b\b\b\b\b\b\b\b\b\b\b\b\b\b\b\b\b\b\b\b\b\b\b\b\b\b\b\b\b\b\b\b\b\b\b\b\b\b\b\b\b\b\b\b\b\b\b\b\b\b\b\b\b\r",
      "  15/1688 [..............................] - ETA: 4:27 - loss: 2.2230 - accuracy: 0.1625\b\b\b\b\b\b\b\b\b\b\b\b\b\b\b\b\b\b\b\b\b\b\b\b\b\b\b\b\b\b\b\b\b\b\b\b\b\b\b\b\b\b\b\b\b\b\b\b\b\b\b\b\b\b\b\b\b\b\b\b\b\b\b\b\b\b\b\b\b\b\b\b\b\b\b\b\b\b\b\b\b\b\b\b\b\b\b\b\r",
      "  16/1688 [..............................] - ETA: 4:29 - loss: 2.2139 - accuracy: 0.1699\b\b\b\b\b\b\b\b\b\b\b\b\b\b\b\b\b\b\b\b\b\b\b\b\b\b\b\b\b\b\b\b\b\b\b\b\b\b\b\b\b\b\b\b\b\b\b\b\b\b\b\b\b\b\b\b\b\b\b\b\b\b\b\b\b\b\b\b\b\b\b\b\b\b\b\b\b\b\b\b\b\b\b\b\b\b\b\b\r",
      "  17/1688 [..............................] - ETA: 4:27 - loss: 2.1980 - accuracy: 0.1801\b\b\b\b\b\b\b\b\b\b\b\b\b\b\b\b\b\b\b\b\b\b\b\b\b\b\b\b\b\b\b\b\b\b\b\b\b\b\b\b\b\b\b\b\b\b\b\b\b\b\b\b\b\b\b\b\b\b\b\b\b\b\b\b\b\b\b\b\b\b\b\b\b\b\b\b\b\b\b\b\b\b\b\b\b\b\b\b\r",
      "  18/1688 [..............................] - ETA: 4:28 - loss: 2.1737 - accuracy: 0.1944\b\b\b\b\b\b\b\b\b\b\b\b\b\b\b\b\b\b\b\b\b\b\b\b\b\b\b\b\b\b\b\b\b\b\b\b\b\b\b\b\b\b\b\b\b\b\b\b\b\b\b\b\b\b\b\b\b\b\b\b\b\b\b\b\b\b\b\b\b\b\b\b\b\b\b\b\b\b\b\b\b\b\b\b\b\b\b\b\r",
      "  19/1688 [..............................] - ETA: 4:28 - loss: 2.1591 - accuracy: 0.2007\b\b\b\b\b\b\b\b\b\b\b\b\b\b\b\b\b\b\b\b\b\b\b\b\b\b\b\b\b\b\b\b\b\b\b\b\b\b\b\b\b\b\b\b\b\b\b\b\b\b\b\b\b\b\b\b\b\b\b\b\b\b\b\b\b\b\b\b\b\b\b\b\b\b\b\b\b\b\b\b\b\b\b\b\b\b\b\b\r",
      "  20/1688 [..............................] - ETA: 4:28 - loss: 2.1321 - accuracy: 0.2141\b\b\b\b\b\b\b\b\b\b\b\b\b\b\b\b\b\b\b\b\b\b\b\b\b\b\b\b\b\b\b\b\b\b\b\b\b\b\b\b\b\b\b\b\b\b\b\b\b\b\b\b\b\b\b\b\b\b\b\b\b\b\b\b\b\b\b\b\b\b\b\b\b\b\b\b\b\b\b\b\b\b\b\b\b\b\b\b\r",
      "  21/1688 [..............................] - ETA: 4:29 - loss: 2.1198 - accuracy: 0.2247\b\b\b\b\b\b\b\b\b\b\b\b\b\b\b\b\b\b\b\b\b\b\b\b\b\b\b\b\b\b\b\b\b\b\b\b\b\b\b\b\b\b\b\b\b\b\b\b\b\b\b\b\b\b\b\b\b\b\b\b\b\b\b\b\b\b\b\b\b\b\b\b\b\b\b\b\b\b\b\b\b\b\b\b\b\b\b\b\r",
      "  22/1688 [..............................] - ETA: 4:26 - loss: 2.1144 - accuracy: 0.2287\b\b\b\b\b\b\b\b\b\b\b\b\b\b\b\b\b\b\b\b\b\b\b\b\b\b\b\b\b\b\b\b\b\b\b\b\b\b\b\b\b\b\b\b\b\b\b\b\b\b\b\b\b\b\b\b\b\b\b\b\b\b\b\b\b\b\b\b\b\b\b\b\b\b\b\b\b\b\b\b\b\b\b\b\b\b\b\b\r",
      "  23/1688 [..............................] - ETA: 4:25 - loss: 2.0925 - accuracy: 0.2337\b\b\b\b\b\b\b\b\b\b\b\b\b\b\b\b\b\b\b\b\b\b\b\b\b\b\b\b\b\b\b\b\b\b\b\b\b\b\b\b\b\b\b\b\b\b\b\b\b\b\b\b\b\b\b\b\b\b\b\b\b\b\b\b\b\b\b\b\b\b\b\b\b\b\b\b\b\b\b\b\b\b\b\b\b\b\b\b\r",
      "  24/1688 [..............................] - ETA: 4:24 - loss: 2.0753 - accuracy: 0.2409\b\b\b\b\b\b\b\b\b\b\b\b\b\b\b\b\b\b\b\b\b\b\b\b\b\b\b\b\b\b\b\b\b\b\b\b\b\b\b\b\b\b\b\b\b\b\b\b\b\b\b\b\b\b\b\b\b\b\b\b\b\b\b\b\b\b\b\b\b\b\b\b\b\b\b\b\b\b\b\b\b\b\b\b\b\b\b\b\r",
      "  25/1688 [..............................] - ETA: 4:22 - loss: 2.0511 - accuracy: 0.2550\b\b\b\b\b\b\b\b\b\b\b\b\b\b\b\b\b\b\b\b\b\b\b\b\b\b\b\b\b\b\b\b\b\b\b\b\b\b\b\b\b\b\b\b\b\b\b\b\b\b\b\b\b\b\b\b\b\b\b\b\b\b\b\b\b\b\b\b\b\b\b\b\b\b\b\b\b\b\b\b\b\b\b\b\b\b\b\b\r",
      "  26/1688 [..............................] - ETA: 4:22 - loss: 2.0452 - accuracy: 0.2608\b\b\b\b\b\b\b\b\b\b\b\b\b\b\b\b\b\b\b\b\b\b\b\b\b\b\b\b\b\b\b\b\b\b\b\b\b\b\b\b\b\b\b\b\b\b\b\b\b\b\b\b\b\b\b\b\b\b\b\b\b\b\b\b\b\b\b\b\b\b\b\b\b\b\b\b\b\b\b\b\b\b\b\b\b\b\b\b\r",
      "  27/1688 [..............................] - ETA: 4:21 - loss: 2.0281 - accuracy: 0.2674\b\b\b\b\b\b\b\b\b\b\b\b\b\b\b\b\b\b\b\b\b\b\b\b\b\b\b\b\b\b\b\b\b\b\b\b\b\b\b\b\b\b\b\b\b\b\b\b\b\b\b\b\b\b\b\b\b\b\b\b\b\b\b\b\b\b\b\b\b\b\b\b\b\b\b\b\b\b\b\b\b\b\b\b\b\b\b\b\r",
      "  28/1688 [..............................] - ETA: 4:19 - loss: 2.0064 - accuracy: 0.2757\b\b\b\b\b\b\b\b\b\b\b\b\b\b\b\b\b\b\b\b\b\b\b\b\b\b\b\b\b\b\b\b\b\b\b\b\b\b\b\b\b\b\b\b\b\b\b\b\b\b\b\b\b\b\b\b\b\b\b\b\b\b\b\b\b\b\b\b\b\b\b\b\b\b\b\b\b\b\b\b\b\b\b\b\b\b\b\b\r",
      "  29/1688 [..............................] - ETA: 4:20 - loss: 1.9836 - accuracy: 0.2845\b\b\b\b\b\b\b\b\b\b\b\b\b\b\b\b\b\b\b\b\b\b\b\b\b\b\b\b\b\b\b\b\b\b\b\b\b\b\b\b\b\b\b\b\b\b\b\b\b\b\b\b\b\b\b\b\b\b\b\b\b\b\b\b\b\b\b\b\b\b\b\b\b\b\b\b\b\b\b\b\b\b\b\b\b\b\b\b\r",
      "  30/1688 [..............................] - ETA: 4:20 - loss: 1.9569 - accuracy: 0.2979\b\b\b\b\b\b\b\b\b\b\b\b\b\b\b\b\b\b\b\b\b\b\b\b\b\b\b\b\b\b\b\b\b\b\b\b\b\b\b\b\b\b\b\b\b\b\b\b\b\b\b\b\b\b\b\b\b\b\b\b\b\b\b\b\b\b\b\b\b\b\b\b\b\b\b\b\b\b\b\b\b\b\b\b\b\b\b\b\r",
      "  31/1688 [..............................] - ETA: 4:19 - loss: 1.9456 - accuracy: 0.3014\b\b\b\b\b\b\b\b\b\b\b\b\b\b\b\b\b\b\b\b\b\b\b\b\b\b\b\b\b\b\b\b\b\b\b\b\b\b\b\b\b\b\b\b\b\b\b\b\b\b\b\b\b\b\b\b\b\b\b\b\b\b\b\b\b\b\b\b\b\b\b\b\b\b\b\b\b\b\b\b\b\b\b\b\b\b\b\b\r",
      "  32/1688 [..............................] - ETA: 4:19 - loss: 1.9283 - accuracy: 0.3057\b\b\b\b\b\b\b\b\b\b\b\b\b\b\b\b\b\b\b\b\b\b\b\b\b\b\b\b\b\b\b\b\b\b\b\b\b\b\b\b\b\b\b\b\b\b\b\b\b\b\b\b\b\b\b\b\b\b\b\b\b\b\b\b\b\b\b\b\b\b\b\b\b\b\b\b\b\b\b\b\b\b\b\b\b\b\b\b\r",
      "  33/1688 [..............................] - ETA: 4:18 - loss: 1.8990 - accuracy: 0.3172\b\b\b\b\b\b\b\b\b\b\b\b\b\b\b\b\b\b\b\b\b\b\b\b\b\b\b\b\b\b\b\b\b\b\b\b\b\b\b\b\b\b\b\b\b\b\b\b\b\b\b\b\b\b\b\b\b\b\b\b\b\b\b\b\b\b\b\b\b\b\b\b\b\b\b\b\b\b\b\b\b\b\b\b\b\b\b\b\r",
      "  34/1688 [..............................] - ETA: 4:18 - loss: 1.8748 - accuracy: 0.3263\b\b\b\b\b\b\b\b\b\b\b\b\b\b\b\b\b\b\b\b\b\b\b\b\b\b\b\b\b\b\b\b\b\b\b\b\b\b\b\b\b\b\b\b\b\b\b\b\b\b\b\b\b\b\b\b\b\b\b\b\b\b\b\b\b\b\b\b\b\b\b\b\b\b\b\b\b\b\b\b\b\b\b\b\b\b\b\b\r",
      "  35/1688 [..............................] - ETA: 4:18 - loss: 1.8474 - accuracy: 0.3357\b\b\b\b\b\b\b\b\b\b\b\b\b\b\b\b\b\b\b\b\b\b\b\b\b\b\b\b\b\b\b\b\b\b\b\b\b\b\b\b\b\b\b\b\b\b\b\b\b\b\b\b\b\b\b\b\b\b\b\b\b\b\b\b\b\b\b\b\b\b\b\b\b\b\b\b\b\b\b\b\b\b\b\b\b\b\b\b\r",
      "  36/1688 [..............................] - ETA: 4:17 - loss: 1.8232 - accuracy: 0.3438\b\b\b\b\b\b\b\b\b\b\b\b\b\b\b\b\b\b\b\b\b\b\b\b\b\b\b\b\b\b\b\b\b\b\b\b\b\b\b\b\b\b\b\b\b\b\b\b\b\b\b\b\b\b\b\b\b\b\b\b\b\b\b\b\b\b\b\b\b\b\b\b\b\b\b\b\b\b\b\b\b\b\b\b\b\b\b\b\r",
      "  37/1688 [..............................] - ETA: 4:17 - loss: 1.8073 - accuracy: 0.3514\b\b\b\b\b\b\b\b\b\b\b\b\b\b\b\b\b\b\b\b\b\b\b\b\b\b\b\b\b\b\b\b\b\b\b\b\b\b\b\b\b\b\b\b\b\b\b\b\b\b\b\b\b\b\b\b\b\b\b\b\b\b\b\b\b\b\b\b\b\b\b\b\b\b\b\b\b\b\b\b\b\b\b\b\b\b\b\b\r",
      "  38/1688 [..............................] - ETA: 4:16 - loss: 1.7885 - accuracy: 0.3594\b\b\b\b\b\b\b\b\b\b\b\b\b\b\b\b\b\b\b\b\b\b\b\b\b\b\b\b\b\b\b\b\b\b\b\b\b\b\b\b\b\b\b\b\b\b\b\b\b\b\b\b\b\b\b\b\b\b\b\b\b\b\b\b\b\b\b\b\b\b\b\b\b\b\b\b\b\b\b\b\b\b\b\b\b\b\b\b\r",
      "  39/1688 [..............................] - ETA: 4:15 - loss: 1.7717 - accuracy: 0.3662\b\b\b\b\b\b\b\b\b\b\b\b\b\b\b\b\b\b\b\b\b\b\b\b\b\b\b\b\b\b\b\b\b\b\b\b\b\b\b\b\b\b\b\b\b\b\b\b\b\b\b\b\b\b\b\b\b\b\b\b\b\b\b\b\b\b\b\b\b\b\b\b\b\b\b\b\b\b\b\b\b\b\b\b\b\b\b\b\r",
      "  40/1688 [..............................] - ETA: 4:15 - loss: 1.7557 - accuracy: 0.3727\b\b\b\b\b\b\b\b\b\b\b\b\b\b\b\b\b\b\b\b\b\b\b\b\b\b\b\b\b\b\b\b\b\b\b\b\b\b\b\b\b\b\b\b\b\b\b\b\b\b\b\b\b\b\b\b\b\b\b\b\b\b\b\b\b\b\b\b\b\b\b\b\b\b\b\b\b\b\b\b\b\b\b\b\b\b\b\b\r",
      "  41/1688 [..............................] - ETA: 4:14 - loss: 1.7352 - accuracy: 0.3803\b\b\b\b\b\b\b\b\b\b\b\b\b\b\b\b\b\b\b\b\b\b\b\b\b\b\b\b\b\b\b\b\b\b\b\b\b\b\b\b\b\b\b\b\b\b\b\b\b\b\b\b\b\b\b\b\b\b\b\b\b\b\b\b\b\b\b\b\b\b\b\b\b\b\b\b\b\b\b\b\b\b\b\b\b\b\b\b\r",
      "  42/1688 [..............................] - ETA: 4:14 - loss: 1.7063 - accuracy: 0.3906\b\b\b\b\b\b\b\b\b\b\b\b\b\b\b\b\b\b\b\b\b\b\b\b\b\b\b\b\b\b\b\b\b\b\b\b\b\b\b\b\b\b\b\b\b\b\b\b\b\b\b\b\b\b\b\b\b\b\b\b\b\b\b\b\b\b\b\b\b\b\b\b\b\b\b\b\b\b\b\b\b\b\b\b\b\b\b\b\r",
      "  43/1688 [..............................] - ETA: 4:14 - loss: 1.6910 - accuracy: 0.3975\b\b\b\b\b\b\b\b\b\b\b\b\b\b\b\b\b\b\b\b\b\b\b\b\b\b\b\b\b\b\b\b\b\b\b\b\b\b\b\b\b\b\b\b\b\b\b\b\b\b\b\b\b\b\b\b\b\b\b\b\b\b\b\b\b\b\b\b\b\b\b\b\b\b\b\b\b\b\b\b\b\b\b\b\b\b\b\b\r",
      "  44/1688 [..............................] - ETA: 4:13 - loss: 1.6688 - accuracy: 0.4055\b\b\b\b\b\b\b\b\b\b\b\b\b\b\b\b\b\b\b\b\b\b\b\b\b\b\b\b\b\b\b\b\b\b\b\b\b\b\b\b\b\b\b\b\b\b\b\b\b\b\b\b\b\b\b\b\b\b\b\b\b\b\b\b\b\b\b\b\b\b\b\b\b\b\b\b\b\b\b\b\b\b\b\b\b\b\b\b\r",
      "  45/1688 [..............................] - ETA: 4:13 - loss: 1.6557 - accuracy: 0.4111\b\b\b\b\b\b\b\b\b\b\b\b\b\b\b\b\b\b\b\b\b\b\b\b\b\b\b\b\b\b\b\b\b\b\b\b\b\b\b\b\b\b\b\b\b\b\b\b\b\b\b\b\b\b\b\b\b\b\b\b\b\b\b\b\b\b\b\b\b\b\b\b\b\b\b\b\b\b\b\b\b\b\b\b\b\b\b\b\r",
      "  46/1688 [..............................] - ETA: 4:12 - loss: 1.6422 - accuracy: 0.4158\b\b\b\b\b\b\b\b\b\b\b\b\b\b\b\b\b\b\b\b\b\b\b\b\b\b\b\b\b\b\b\b\b\b\b\b\b\b\b\b\b\b\b\b\b\b\b\b\b\b\b\b\b\b\b\b\b\b\b\b\b\b\b\b\b\b\b\b\b\b\b\b\b\b\b\b\b\b\b\b\b\b\b\b\b\b\b\b\r",
      "  47/1688 [..............................] - ETA: 4:12 - loss: 1.6229 - accuracy: 0.4222\b\b\b\b\b\b\b\b\b\b\b\b\b\b\b\b\b\b\b\b\b\b\b\b\b\b\b\b\b\b\b\b\b\b\b\b\b\b\b\b\b\b\b\b\b\b\b\b\b\b\b\b\b\b\b\b\b\b\b\b\b\b\b\b\b\b\b\b\b\b\b\b\b\b\b\b\b\b\b\b\b\b\b\b\b\b\b\b\r",
      "  48/1688 [..............................] - ETA: 4:13 - loss: 1.6123 - accuracy: 0.4258\b\b\b\b\b\b\b\b\b\b\b\b\b\b\b\b\b\b\b\b\b\b\b\b\b\b\b\b\b\b\b\b\b\b\b\b\b\b\b\b\b\b\b\b\b\b\b\b\b\b\b\b\b\b\b\b\b\b\b\b\b\b\b\b\b\b\b\b\b\b\b\b\b\b\b\b\b\b\b\b\b\b\b\b\b\b\b\b\r",
      "  49/1688 [..............................] - ETA: 4:12 - loss: 1.5907 - accuracy: 0.4343\b\b\b\b\b\b\b\b\b\b\b\b\b\b\b\b\b\b\b\b\b\b\b\b\b\b\b\b\b\b\b\b\b\b\b\b\b\b\b\b\b\b\b\b\b\b\b\b\b\b\b\b\b\b\b\b\b\b\b\b\b\b\b\b\b\b\b\b\b\b\b\b\b\b\b\b\b\b\b\b\b\b\b\b\b\b\b\b\r",
      "  50/1688 [..............................] - ETA: 4:12 - loss: 1.5706 - accuracy: 0.4431\b\b\b\b\b\b\b\b\b\b\b\b\b\b\b\b\b\b\b\b\b\b\b\b\b\b\b\b\b\b\b\b\b\b\b\b\b\b\b\b\b\b\b\b\b\b\b\b\b\b\b\b\b\b\b\b\b\b\b\b\b\b\b\b\b\b\b\b\b\b\b\b\b\b\b\b\b\b\b\b\b\b\b\b\b\b\b\b\r",
      "  51/1688 [..............................] - ETA: 4:12 - loss: 1.5496 - accuracy: 0.4510\b\b\b\b\b\b\b\b\b\b\b\b\b\b\b\b\b\b\b\b\b\b\b\b\b\b\b\b\b\b\b\b\b\b\b\b\b\b\b\b\b\b\b\b\b\b\b\b\b\b\b\b\b\b\b\b\b\b\b\b\b\b\b\b\b\b\b\b\b\b\b\b\b\b\b\b\b\b\b\b\b\b\b\b\b\b\b\b\r",
      "  52/1688 [..............................] - ETA: 4:11 - loss: 1.5388 - accuracy: 0.4555\b\b\b\b\b\b\b\b\b\b\b\b\b\b\b\b\b\b\b\b\b\b\b\b\b\b\b\b\b\b\b\b\b\b\b\b\b\b\b\b\b\b\b\b\b\b\b\b\b\b\b\b\b\b\b\b\b\b\b\b\b\b\b\b\b\b\b\b\b\b\b\b\b\b\b\b\b\b\b\b\b\b\b\b\b\b\b\b\r",
      "  53/1688 [..............................] - ETA: 4:12 - loss: 1.5306 - accuracy: 0.4575\b\b\b\b\b\b\b\b\b\b\b\b\b\b\b\b\b\b\b\b\b\b\b\b\b\b\b\b\b\b\b\b\b\b\b\b\b\b\b\b\b\b\b\b\b\b\b\b\b\b\b\b\b\b\b\b\b\b\b\b\b\b\b\b\b\b\b\b\b\b\b\b\b\b\b\b\b\b\b\b\b\b\b\b\b\b\b\b\r",
      "  54/1688 [..............................] - ETA: 4:12 - loss: 1.5179 - accuracy: 0.4624\b\b\b\b\b\b\b\b\b\b\b\b\b\b\b\b\b\b\b\b\b\b\b\b\b\b\b\b\b\b\b\b\b\b\b\b\b\b\b\b\b\b\b\b\b\b\b\b\b\b\b\b\b\b\b\b\b\b\b\b\b\b\b\b\b\b\b\b\b\b\b\b\b\b\b\b\b\b\b\b\b\b\b\b\b\b\b\b\r",
      "  55/1688 [..............................] - ETA: 4:11 - loss: 1.5005 - accuracy: 0.4688\b\b\b\b\b\b\b\b\b\b\b\b\b\b\b\b\b\b\b\b\b\b\b\b\b\b\b\b\b\b\b\b\b\b\b\b\b\b\b\b\b\b\b\b\b\b\b\b\b\b\b\b\b\b\b\b\b\b\b\b\b\b\b\b\b\b\b\b\b\b\b\b\b\b\b\b\b\b\b\b\b\b\b\b\b\b\b\b\r",
      "  56/1688 [..............................] - ETA: 4:14 - loss: 1.4876 - accuracy: 0.4743\b\b\b\b\b\b\b\b\b\b\b\b\b\b\b\b\b\b\b\b\b\b\b\b\b\b\b\b\b\b\b\b\b\b\b\b\b\b\b\b\b\b\b\b\b\b\b\b\b\b\b\b\b\b\b\b\b\b\b\b\b\b\b\b\b\b\b\b\b\b\b\b\b\b\b\b\b\b\b\b\b\b\b\b\b\b\b\b\r",
      "  57/1688 [>.............................] - ETA: 4:15 - loss: 1.4702 - accuracy: 0.4814\b\b\b\b\b\b\b\b\b\b\b\b\b\b\b\b\b\b\b\b\b\b\b\b\b\b\b\b\b\b\b\b\b\b\b\b\b\b\b\b\b\b\b\b\b\b\b\b\b\b\b\b\b\b\b\b\b\b\b\b\b\b\b\b\b\b\b\b\b\b\b\b\b\b\b\b\b\b\b\b\b\b\b\b\b\b\b\b\r",
      "  58/1688 [>.............................] - ETA: 4:19 - loss: 1.4544 - accuracy: 0.4876\b\b\b\b\b\b\b\b\b\b\b\b\b\b\b\b\b\b\b\b\b\b\b\b\b\b\b\b\b\b\b\b\b\b\b\b\b\b\b\b\b\b\b\b\b\b\b\b\b\b\b\b\b\b\b\b\b\b\b\b\b\b\b\b\b\b\b\b\b\b\b\b\b\b\b\b\b\b\b\b\b\b\b\b\b\b\b\b\r",
      "  59/1688 [>.............................] - ETA: 4:21 - loss: 1.4433 - accuracy: 0.4899\b\b\b\b\b\b\b\b\b\b\b\b\b\b\b\b\b\b\b\b\b\b\b\b\b\b\b\b\b\b\b\b\b\b\b\b\b\b\b\b\b\b\b\b\b\b\b\b\b\b\b\b\b\b\b\b\b\b\b\b\b\b\b\b\b\b\b\b\b\b\b\b\b\b\b\b\b\b\b\b\b\b\b\b\b\b\b\b\r",
      "  60/1688 [>.............................] - ETA: 4:23 - loss: 1.4320 - accuracy: 0.4938\b\b\b\b\b\b\b\b\b\b\b\b\b\b\b\b\b\b\b\b\b\b\b\b\b\b\b\b\b\b\b\b\b\b\b\b\b\b\b\b\b\b\b\b\b\b\b\b\b\b\b\b\b\b\b\b\b\b\b\b\b\b\b\b\b\b\b\b\b\b\b\b\b\b\b\b\b\b\b\b\b\b\b\b\b\b\b\b\r",
      "  61/1688 [>.............................] - ETA: 4:26 - loss: 1.4187 - accuracy: 0.5000\b\b\b\b\b\b\b\b\b\b\b\b\b\b\b\b\b\b\b\b\b\b\b\b\b\b\b\b\b\b\b\b\b\b\b\b\b\b\b\b\b\b\b\b\b\b\b\b\b\b\b\b\b\b\b\b\b\b\b\b\b\b\b\b\b\b\b\b\b\b\b\b\b\b\b\b\b\b\b\b\b\b\b\b\b\b\b\b\r",
      "  62/1688 [>.............................] - ETA: 4:30 - loss: 1.4060 - accuracy: 0.5040\b\b\b\b\b\b\b\b\b\b\b\b\b\b\b\b\b\b\b\b\b\b\b\b\b\b\b\b\b\b\b\b\b\b\b\b\b\b\b\b\b\b\b\b\b\b\b\b\b\b\b\b\b\b\b\b\b\b\b\b\b\b\b\b\b\b\b\b\b\b\b\b\b\b\b\b\b\b\b\b\b\b\b\b\b\b\b\b\r",
      "  63/1688 [>.............................] - ETA: 4:32 - loss: 1.3986 - accuracy: 0.5069\b\b\b\b\b\b\b\b\b\b\b\b\b\b\b\b\b\b\b\b\b\b\b\b\b\b\b\b\b\b\b\b\b\b\b\b\b\b\b\b\b\b\b\b\b\b\b\b\b\b\b\b\b\b\b\b\b\b\b\b\b\b\b\b\b\b\b\b\b\b\b\b\b\b\b\b\b\b\b\b\b\b\b\b\b\b\b\b\r",
      "  64/1688 [>.............................] - ETA: 4:35 - loss: 1.3900 - accuracy: 0.5103\b\b\b\b\b\b\b\b\b\b\b\b\b\b\b\b\b\b\b\b\b\b\b\b\b\b\b\b\b\b\b\b\b\b\b\b\b\b\b\b\b\b\b\b\b\b\b\b\b\b\b\b\b\b\b\b\b\b\b\b\b\b\b\b\b\b\b\b\b\b\b\b\b\b\b\b\b\b\b\b\b\b\b\b\b\b\b\b\r",
      "  65/1688 [>.............................] - ETA: 4:37 - loss: 1.3811 - accuracy: 0.5144\b\b\b\b\b\b\b\b\b\b\b\b\b\b\b\b\b\b\b\b\b\b\b\b\b\b\b\b\b\b\b\b\b\b\b\b\b\b\b\b\b\b\b\b\b\b\b\b\b\b\b\b\b\b\b\b\b\b\b\b\b\b\b\b\b\b\b\b\b\b\b\b\b\b\b\b\b\b\b\b\b\b\b\b\b\b\b\b\r",
      "  66/1688 [>.............................] - ETA: 4:40 - loss: 1.3703 - accuracy: 0.5180\b\b\b\b\b\b\b\b\b\b\b\b\b\b\b\b\b\b\b\b\b\b\b\b\b\b\b\b\b\b\b\b\b\b\b\b\b\b\b\b\b\b\b\b\b\b\b\b\b\b\b\b\b\b\b\b\b\b\b\b\b\b\b\b\b\b\b\b\b\b\b\b\b\b\b\b\b\b\b\b\b\b\b\b\b\b\b\b\r",
      "  67/1688 [>.............................] - ETA: 4:42 - loss: 1.3652 - accuracy: 0.5196\b\b\b\b\b\b\b\b\b\b\b\b\b\b\b\b\b\b\b\b\b\b\b\b\b\b\b\b\b\b\b\b\b\b\b\b\b\b\b\b\b\b\b\b\b\b\b\b\b\b\b\b\b\b\b\b\b\b\b\b\b\b\b\b\b\b\b\b\b\b\b\b\b\b\b\b\b\b\b\b\b\b\b\b\b\b\b\b\r",
      "  68/1688 [>.............................] - ETA: 4:44 - loss: 1.3531 - accuracy: 0.5230\b\b\b\b\b\b\b\b\b\b\b\b\b\b\b\b\b\b\b\b\b\b\b\b\b\b\b\b\b\b\b\b\b\b\b\b\b\b\b\b\b\b\b\b\b\b\b\b\b\b\b\b\b\b\b\b\b\b\b\b\b\b\b\b\b\b\b\b\b\b\b\b\b\b\b\b\b\b\b\b\b\b\b\b\b\b\b\b\r",
      "  69/1688 [>.............................] - ETA: 4:44 - loss: 1.3412 - accuracy: 0.5267\b\b\b\b\b\b\b\b\b\b\b\b\b\b\b\b\b\b\b\b\b\b\b\b\b\b\b\b\b\b\b\b\b\b\b\b\b\b\b\b\b\b\b\b\b\b\b\b\b\b\b\b\b\b\b\b\b\b\b\b\b\b\b\b\b\b\b\b\b\b\b\b\b\b\b\b\b\b\b\b\b\b\b\b\b\b\b\b\r",
      "  70/1688 [>.............................] - ETA: 4:44 - loss: 1.3307 - accuracy: 0.5295\b\b\b\b\b\b\b\b\b\b\b\b\b\b\b\b\b\b\b\b\b\b\b\b\b\b\b\b\b\b\b\b\b\b\b\b\b\b\b\b\b\b\b\b\b\b\b\b\b\b\b\b\b\b\b\b\b\b\b\b\b\b\b\b\b\b\b\b\b\b\b\b\b\b\b\b\b\b\b\b\b\b\b\b\b\b\b\b\r",
      "  71/1688 [>.............................] - ETA: 4:44 - loss: 1.3209 - accuracy: 0.5339\b\b\b\b\b\b\b\b\b\b\b\b\b\b\b\b\b\b\b\b\b\b\b\b\b\b\b\b\b\b\b\b\b\b\b\b\b\b\b\b\b\b\b\b\b\b\b\b\b\b\b\b\b\b\b\b\b\b\b\b\b\b\b\b\b\b\b\b\b\b\b\b\b\b\b\b\b\b\b\b\b\b\b\b\b\b\b\b\r",
      "  72/1688 [>.............................] - ETA: 4:43 - loss: 1.3097 - accuracy: 0.5373\b\b\b\b\b\b\b\b\b\b\b\b\b\b\b\b\b\b\b\b\b\b\b\b\b\b\b\b\b\b\b\b\b\b\b\b\b\b\b\b\b\b\b\b\b\b\b\b\b\b\b\b\b\b\b\b\b\b\b\b\b\b\b\b\b\b\b\b\b\b\b\b\b\b\b\b\b\b\b\b\b\b\b\b\b\b\b\b\r",
      "  73/1688 [>.............................] - ETA: 4:43 - loss: 1.3072 - accuracy: 0.5385\b\b\b\b\b\b\b\b\b\b\b\b\b\b\b\b\b\b\b\b\b\b\b\b\b\b\b\b\b\b\b\b\b\b\b\b\b\b\b\b\b\b\b\b\b\b\b\b\b\b\b\b\b\b\b\b\b\b\b\b\b\b\b\b\b\b\b\b\b\b\b\b\b\b\b\b\b\b\b\b\b\b\b\b\b\b\b\b\r",
      "  74/1688 [>.............................] - ETA: 4:42 - loss: 1.2989 - accuracy: 0.5422\b\b\b\b\b\b\b\b\b\b\b\b\b\b\b\b\b\b\b\b\b\b\b\b\b\b\b\b\b\b\b\b\b\b\b\b\b\b\b\b\b\b\b\b\b\b\b\b\b\b\b\b\b\b\b\b\b\b\b\b\b\b\b\b\b\b\b\b\b\b\b\b\b\b\b\b\b\b\b\b\b\b\b\b\b\b\b\b\r",
      "  75/1688 [>.............................] - ETA: 4:41 - loss: 1.2910 - accuracy: 0.5446\b\b\b\b\b\b\b\b\b\b\b\b\b\b\b\b\b\b\b\b\b\b\b\b\b\b\b\b\b\b\b\b\b\b\b\b\b\b\b\b\b\b\b\b\b\b\b\b\b\b\b\b\b\b\b\b\b\b\b\b\b\b\b\b\b\b\b\b\b\b\b\b\b\b\b\b\b\b\b\b\b\b\b\b\b\b\b\b\r",
      "  76/1688 [>.............................] - ETA: 4:40 - loss: 1.2847 - accuracy: 0.5481\b\b\b\b\b\b\b\b\b\b\b\b\b\b\b\b\b\b\b\b\b\b\b\b\b\b\b\b\b\b\b\b\b\b\b\b\b\b\b\b\b\b\b\b\b\b\b\b\b\b\b\b\b\b\b\b\b\b\b\b\b\b\b\b\b\b\b\b\b\b\b\b\b\b\b\b\b\b\b\b\b\b\b\b\b\b\b\b\r",
      "  77/1688 [>.............................] - ETA: 4:41 - loss: 1.2765 - accuracy: 0.5511\b\b\b\b\b\b\b\b\b\b\b\b\b\b\b\b\b\b\b\b\b\b\b\b\b\b\b\b\b\b\b\b\b\b\b\b\b\b\b\b\b\b\b\b\b\b\b\b\b\b\b\b\b\b\b\b\b\b\b\b\b\b\b\b\b\b\b\b\b\b\b\b\b\b\b\b\b\b\b\b\b\b\b\b\b\b\b\b\r",
      "  78/1688 [>.............................] - ETA: 4:41 - loss: 1.2638 - accuracy: 0.5565\b\b\b\b\b\b\b\b\b\b\b\b\b\b\b\b\b\b\b\b\b\b\b\b\b\b\b\b\b\b\b\b\b\b\b\b\b\b\b\b\b\b\b\b\b\b\b\b\b\b\b\b\b\b\b\b\b\b\b\b\b\b\b\b\b\b\b\b\b\b\b\b\b\b\b\b\b\b\b\b\b\b\b\b\b\b\b\b\r",
      "  79/1688 [>.............................] - ETA: 4:41 - loss: 1.2552 - accuracy: 0.5589\b\b\b\b\b\b\b\b\b\b\b\b\b\b\b\b\b\b\b\b\b\b\b\b\b\b\b\b\b\b\b\b\b\b\b\b\b\b\b\b\b\b\b\b\b\b\b\b\b\b\b\b\b\b\b\b\b\b\b\b\b\b\b\b\b\b\b\b\b\b\b\b\b\b\b\b\b\b\b\b\b\b\b\b\b\b\b\b\r",
      "  80/1688 [>.............................] - ETA: 4:40 - loss: 1.2452 - accuracy: 0.5621\b\b\b\b\b\b\b\b\b\b\b\b\b\b\b\b\b\b\b\b\b\b\b\b\b\b\b\b\b\b\b\b\b\b\b\b\b\b\b\b\b\b\b\b\b\b\b\b\b\b\b\b\b\b\b\b\b\b\b\b\b\b\b\b\b\b\b\b\b\b\b\b\b\b\b\b\b\b\b\b\b\b\b\b\b\b\b\b\r",
      "  81/1688 [>.............................] - ETA: 4:41 - loss: 1.2378 - accuracy: 0.5652\b\b\b\b\b\b\b\b\b\b\b\b\b\b\b\b\b\b\b\b\b\b\b\b\b\b\b\b\b\b\b\b\b\b\b\b\b\b\b\b\b\b\b\b\b\b\b\b\b\b\b\b\b\b\b\b\b\b\b\b\b\b\b\b\b\b\b\b\b\b\b\b\b\b\b\b\b\b\b\b\b\b\b\b\b\b\b\b\r",
      "  82/1688 [>.............................] - ETA: 4:41 - loss: 1.2264 - accuracy: 0.5690\b\b\b\b\b\b\b\b\b\b\b\b\b\b\b\b\b\b\b\b\b\b\b\b\b\b\b\b\b\b\b\b\b\b\b\b\b\b\b\b\b\b\b\b\b\b\b\b\b\b\b\b\b\b\b\b\b\b\b\b\b\b\b\b\b\b\b\b\b\b\b\b\b\b\b\b\b\b\b\b\b\b\b\b\b\b\b\b\r",
      "  83/1688 [>.............................] - ETA: 4:40 - loss: 1.2158 - accuracy: 0.5727\b\b\b\b\b\b\b\b\b\b\b\b\b\b\b\b\b\b\b\b\b\b\b\b\b\b\b\b\b\b\b\b\b\b\b\b\b\b\b\b\b\b\b\b\b\b\b\b\b\b\b\b\b\b\b\b\b\b\b\b\b\b\b\b\b\b\b\b\b\b\b\b\b\b\b\b\b\b\b\b\b\b\b\b\b\b\b\b\r",
      "  84/1688 [>.............................] - ETA: 4:40 - loss: 1.2068 - accuracy: 0.5763\b\b\b\b\b\b\b\b\b\b\b\b\b\b\b\b\b\b\b\b\b\b\b\b\b\b\b\b\b\b\b\b\b\b\b\b\b\b\b\b\b\b\b\b\b\b\b\b\b\b\b\b\b\b\b\b\b\b\b\b\b\b\b\b\b\b\b\b\b\b\b\b\b\b\b\b\b\b\b\b\b\b\b\b\b\b\b\b\r",
      "  85/1688 [>.............................] - ETA: 4:39 - loss: 1.2008 - accuracy: 0.5783\b\b\b\b\b\b\b\b\b\b\b\b\b\b\b\b\b\b\b\b\b\b\b\b\b\b\b\b\b\b\b\b\b\b\b\b\b\b\b\b\b\b\b\b\b\b\b\b\b\b\b\b\b\b\b\b\b\b\b\b\b\b\b\b\b\b\b\b\b\b\b\b\b\b\b\b\b\b\b\b\b\b\b\b\b\b\b\b\r",
      "  86/1688 [>.............................] - ETA: 4:39 - loss: 1.1905 - accuracy: 0.5818\b\b\b\b\b\b\b\b\b\b\b\b\b\b\b\b\b\b\b\b\b\b\b\b\b\b\b\b\b\b\b\b\b\b\b\b\b\b\b\b\b\b\b\b\b\b\b\b\b\b\b\b\b\b\b\b\b\b\b\b\b\b\b\b\b\b\b\b\b\b\b\b\b\b\b\b\b\b\b\b\b\b\b\b\b\b\b\b\r",
      "  87/1688 [>.............................] - ETA: 4:39 - loss: 1.1807 - accuracy: 0.5848\b\b\b\b\b\b\b\b\b\b\b\b\b\b\b\b\b\b\b\b\b\b\b\b\b\b\b\b\b\b\b\b\b\b\b\b\b\b\b\b\b\b\b\b\b\b\b\b\b\b\b\b\b\b\b\b\b\b\b\b\b\b\b\b\b\b\b\b\b\b\b\b\b\b\b\b\b\b\b\b\b\b\b\b\b\b\b\b\r",
      "  88/1688 [>.............................] - ETA: 4:39 - loss: 1.1741 - accuracy: 0.5877\b\b\b\b\b\b\b\b\b\b\b\b\b\b\b\b\b\b\b\b\b\b\b\b\b\b\b\b\b\b\b\b\b\b\b\b\b\b\b\b\b\b\b\b\b\b\b\b\b\b\b\b\b\b\b\b\b\b\b\b\b\b\b\b\b\b\b\b\b\b\b\b\b\b\b\b\b\b\b\b\b\b\b\b\b\b\b\b\r",
      "  89/1688 [>.............................] - ETA: 4:39 - loss: 1.1645 - accuracy: 0.5913\b\b\b\b\b\b\b\b\b\b\b\b\b\b\b\b\b\b\b\b\b\b\b\b\b\b\b\b\b\b\b\b\b\b\b\b\b\b\b\b\b\b\b\b\b\b\b\b\b\b\b\b\b\b\b\b\b\b\b\b\b\b\b\b\b\b\b\b\b\b\b\b\b\b\b\b\b\b\b\b\b\b\b\b\b\b\b\b\r",
      "  90/1688 [>.............................] - ETA: 4:38 - loss: 1.1563 - accuracy: 0.5944\b\b\b\b\b\b\b\b\b\b\b\b\b\b\b\b\b\b\b\b\b\b\b\b\b\b\b\b\b\b\b\b\b\b\b\b\b\b\b\b\b\b\b\b\b\b\b\b\b\b\b\b\b\b\b\b\b\b\b\b\b\b\b\b\b\b\b\b\b\b\b\b\b\b\b\b\b\b\b\b\b\b\b\b\b\b\b\b\r",
      "  91/1688 [>.............................] - ETA: 4:38 - loss: 1.1531 - accuracy: 0.5968\b\b\b\b\b\b\b\b\b\b\b\b\b\b\b\b\b\b\b\b\b\b\b\b\b\b\b\b\b\b\b\b\b\b\b\b\b\b\b\b\b\b\b\b\b\b\b\b\b\b\b\b\b\b\b\b\b\b\b\b\b\b\b\b\b\b\b\b\b\b\b\b\b\b\b\b\b\b\b\b\b\b\b\b\b\b\b\b\r",
      "  92/1688 [>.............................] - ETA: 4:38 - loss: 1.1450 - accuracy: 0.5999\b\b\b\b\b\b\b\b\b\b\b\b\b\b\b\b\b\b\b\b\b\b\b\b\b\b\b\b\b\b\b\b\b\b\b\b\b\b\b\b\b\b\b\b\b\b\b\b\b\b\b\b\b\b\b\b\b\b\b\b\b\b\b\b\b\b\b\b\b\b\b\b\b\b\b\b\b\b\b\b\b\b\b\b\b\b\b\b\r",
      "  93/1688 [>.............................] - ETA: 4:38 - loss: 1.1373 - accuracy: 0.6035\b\b\b\b\b\b\b\b\b\b\b\b\b\b\b\b\b\b\b\b\b\b\b\b\b\b\b\b\b\b\b\b\b\b\b\b\b\b\b\b\b\b\b\b\b\b\b\b\b\b\b\b\b\b\b\b\b\b\b\b\b\b\b\b\b\b\b\b\b\b\b\b\b\b\b\b\b\b\b\b\b\b\b\b\b\b\b\b\r",
      "  94/1688 [>.............................] - ETA: 4:37 - loss: 1.1278 - accuracy: 0.6070\b\b\b\b\b\b\b\b\b\b\b\b\b\b\b\b\b\b\b\b\b\b\b\b\b\b\b\b\b\b\b\b\b\b\b\b\b\b\b\b\b\b\b\b\b\b\b\b\b\b\b\b\b\b\b\b\b\b\b\b\b\b\b\b\b\b\b\b\b\b\b\b\b\b\b\b\b\b\b\b\b\b\b\b\b\b\b\b\r",
      "  95/1688 [>.............................] - ETA: 4:36 - loss: 1.1187 - accuracy: 0.6102\b\b\b\b\b\b\b\b\b\b\b\b\b\b\b\b\b\b\b\b\b\b\b\b\b\b\b\b\b\b\b\b\b\b\b\b\b\b\b\b\b\b\b\b\b\b\b\b\b\b\b\b\b\b\b\b\b\b\b\b\b\b\b\b\b\b\b\b\b\b\b\b\b\b\b\b\b\b\b\b\b\b\b\b\b\b\b\b\r",
      "  96/1688 [>.............................] - ETA: 4:37 - loss: 1.1106 - accuracy: 0.6130\b\b\b\b\b\b\b\b\b\b\b\b\b\b\b\b\b\b\b\b\b\b\b\b\b\b\b\b\b\b\b\b\b\b\b\b\b\b\b\b\b\b\b\b\b\b\b\b\b\b\b\b\b\b\b\b\b\b\b\b\b\b\b\b\b\b\b\b\b\b\b\b\b\b\b\b\b\b\b\b\b\b\b\b\b\b\b\b\r",
      "  97/1688 [>.............................] - ETA: 4:36 - loss: 1.1044 - accuracy: 0.6150\b\b\b\b\b\b\b\b\b\b\b\b\b\b\b\b\b\b\b\b\b\b\b\b\b\b\b\b\b\b\b\b\b\b\b\b\b\b\b\b\b\b\b\b\b\b\b\b\b\b\b\b\b\b\b\b\b\b\b\b\b\b\b\b\b\b\b\b\b\b\b\b\b\b\b\b\b\b\b\b\b\b\b\b\b\b\b\b\r",
      "  98/1688 [>.............................] - ETA: 4:36 - loss: 1.0957 - accuracy: 0.6183\b\b\b\b\b\b\b\b\b\b\b\b\b\b\b\b\b\b\b\b\b\b\b\b\b\b\b\b\b\b\b\b\b\b\b\b\b\b\b\b\b\b\b\b\b\b\b\b\b\b\b\b\b\b\b\b\b\b\b\b\b\b\b\b\b\b\b\b\b\b\b\b\b\b\b\b\b\b\b\b\b\b\b\b\b\b\b\b\r",
      "  99/1688 [>.............................] - ETA: 4:36 - loss: 1.0896 - accuracy: 0.6193\b\b\b\b\b\b\b\b\b\b\b\b\b\b\b\b\b\b\b\b\b\b\b\b\b\b\b\b\b\b\b\b\b\b\b\b\b\b\b\b\b\b\b\b\b\b\b\b\b\b\b\b\b\b\b\b\b\b\b\b\b\b\b\b\b\b\b\b\b\b\b\b\b\b\b\b\b\b\b\b\b\b\b\b\b\b\b\b\r",
      " 100/1688 [>.............................] - ETA: 4:35 - loss: 1.0803 - accuracy: 0.6228\b\b\b\b\b\b\b\b\b\b\b\b\b\b\b\b\b\b\b\b\b\b\b\b\b\b\b\b\b\b\b\b\b\b\b\b\b\b\b\b\b\b\b\b\b\b\b\b\b\b\b\b\b\b\b\b\b\b\b\b\b\b\b\b\b\b\b\b\b\b\b\b\b\b\b\b\b\b\b\b\b\b\b\b\b\b\b\b\r",
      " 101/1688 [>.............................] - ETA: 4:35 - loss: 1.0713 - accuracy: 0.6256\b\b\b\b\b\b\b\b\b\b\b\b\b\b\b\b\b\b\b\b\b\b\b\b\b\b\b\b\b\b\b\b\b\b\b\b\b\b\b\b\b\b\b\b\b\b\b\b\b\b\b\b\b\b\b\b\b\b\b\b\b\b\b\b\b\b\b\b\b\b\b\b\b\b\b\b\b\b\b\b\b\b\b\b\b\b\b\b\r",
      " 102/1688 [>.............................] - ETA: 4:35 - loss: 1.0647 - accuracy: 0.6284\b\b\b\b\b\b\b\b\b\b\b\b\b\b\b\b\b\b\b\b\b\b\b\b\b\b\b\b\b\b\b\b\b\b\b\b\b\b\b\b\b\b\b\b\b\b\b\b\b\b\b\b\b\b\b\b\b\b\b\b\b\b\b\b\b\b\b\b\b\b\b\b\b\b\b\b\b\b\b\b\b\b\b\b\b\b\b\b\r",
      " 103/1688 [>.............................] - ETA: 4:34 - loss: 1.0580 - accuracy: 0.6302\b\b\b\b\b\b\b\b\b\b\b\b\b\b\b\b\b\b\b\b\b\b\b\b\b\b\b\b\b\b\b\b\b\b\b\b\b\b\b\b\b\b\b\b\b\b\b\b\b\b\b\b\b\b\b\b\b\b\b\b\b\b\b\b\b\b\b\b\b\b\b\b\b\b\b\b\b\b\b\b\b\b\b\b\b\b\b\b\r",
      " 104/1688 [>.............................] - ETA: 4:34 - loss: 1.0550 - accuracy: 0.6319\b\b\b\b\b\b\b\b\b\b\b\b\b\b\b\b\b\b\b\b\b\b\b\b\b\b\b\b\b\b\b\b\b\b\b\b\b\b\b\b\b\b\b\b\b\b\b\b\b\b\b\b\b\b\b\b\b\b\b\b\b\b\b\b\b\b\b\b\b\b\b\b\b\b\b\b\b\b\b\b\b\b\b\b\b\b\b\b\r",
      " 105/1688 [>.............................] - ETA: 4:34 - loss: 1.0504 - accuracy: 0.6339\b\b\b\b\b\b\b\b\b\b\b\b\b\b\b\b\b\b\b\b\b\b\b\b\b\b\b\b\b\b\b\b\b\b\b\b\b\b\b\b\b\b\b\b\b\b\b\b\b\b\b\b\b\b\b\b\b\b\b\b\b\b\b\b\b\b\b\b\b\b\b\b\b\b\b\b\b\b\b\b\b\b\b\b\b\b\b\b\r",
      " 106/1688 [>.............................] - ETA: 4:34 - loss: 1.0453 - accuracy: 0.6362\b\b\b\b\b\b\b\b\b\b\b\b\b\b\b\b\b\b\b\b\b\b\b\b\b\b\b\b\b\b\b\b\b\b\b\b\b\b\b\b\b\b\b\b\b\b\b\b\b\b\b\b\b\b\b\b\b\b\b\b\b\b\b\b\b\b\b\b\b\b\b\b\b\b\b\b\b\b\b\b\b\b\b\b\b\b\b\b\r",
      " 107/1688 [>.............................] - ETA: 4:34 - loss: 1.0386 - accuracy: 0.6384\b\b\b\b\b\b\b\b\b\b\b\b\b\b\b\b\b\b\b\b\b\b\b\b\b\b\b\b\b\b\b\b\b\b\b\b\b\b\b\b\b\b\b\b\b\b\b\b\b\b\b\b\b\b\b\b\b\b\b\b\b\b\b\b\b\b\b\b\b\b\b\b\b\b\b\b\b\b\b\b\b\b\b\b\b\b\b\b\r",
      " 108/1688 [>.............................] - ETA: 4:34 - loss: 1.0318 - accuracy: 0.6409\b\b\b\b\b\b\b\b\b\b\b\b\b\b\b\b\b\b\b\b\b\b\b\b\b\b\b\b\b\b\b\b\b\b\b\b\b\b\b\b\b\b\b\b\b\b\b\b\b\b\b\b\b\b\b\b\b\b\b\b\b\b\b\b\b\b\b\b\b\b\b\b\b\b\b\b\b\b\b\b\b\b\b\b\b\b\b\b\r",
      " 109/1688 [>.............................] - ETA: 4:33 - loss: 1.0288 - accuracy: 0.6419\b\b\b\b\b\b\b\b\b\b\b\b\b\b\b\b\b\b\b\b\b\b\b\b\b\b\b\b\b\b\b\b\b\b\b\b\b\b\b\b\b\b\b\b\b\b\b\b\b\b\b\b\b\b\b\b\b\b\b\b\b\b\b\b\b\b\b\b\b\b\b\b\b\b\b\b\b\b\b\b\b\b\b\b\b\b\b\b\r",
      " 110/1688 [>.............................] - ETA: 4:33 - loss: 1.0236 - accuracy: 0.6435\b\b\b\b\b\b\b\b\b\b\b\b\b\b\b\b\b\b\b\b\b\b\b\b\b\b\b\b\b\b\b\b\b\b\b\b\b\b\b\b\b\b\b\b\b\b\b\b\b\b\b\b\b\b\b\b\b\b\b\b\b\b\b\b\b\b\b\b\b\b\b\b\b\b\b\b\b\b\b\b\b\b\b\b\b\b\b\b\r",
      " 111/1688 [>.............................] - ETA: 4:32 - loss: 1.0174 - accuracy: 0.6461\b\b\b\b\b\b\b\b\b\b\b\b\b\b\b\b\b\b\b\b\b\b\b\b\b\b\b\b\b\b\b\b\b\b\b\b\b\b\b\b\b\b\b\b\b\b\b\b\b\b\b\b\b\b\b\b\b\b\b\b\b\b\b\b\b\b\b\b\b\b\b\b\b\b\b\b\b\b\b\b\b\b\b\b\b\b\b\b\r",
      " 112/1688 [>.............................] - ETA: 4:32 - loss: 1.0119 - accuracy: 0.6487\b\b\b\b\b\b\b\b\b\b\b\b\b\b\b\b\b\b\b\b\b\b\b\b\b\b\b\b\b\b\b\b\b\b\b\b\b\b\b\b\b\b\b\b\b\b\b\b\b\b\b\b\b\b\b\b\b\b\b\b\b\b\b\b\b\b\b\b\b\b\b\b\b\b\b\b\b\b\b\b\b\b\b\b\b\b\b\b\r",
      " 113/1688 [=>............................] - ETA: 4:31 - loss: 1.0058 - accuracy: 0.6504\b\b\b\b\b\b\b\b\b\b\b\b\b\b\b\b\b\b\b\b\b\b\b\b\b\b\b\b\b\b\b\b\b\b\b\b\b\b\b\b\b\b\b\b\b\b\b\b\b\b\b\b\b\b\b\b\b\b\b\b\b\b\b\b\b\b\b\b\b\b\b\b\b\b\b\b\b\b\b\b\b\b\b\b\b\b\b\b\r",
      " 114/1688 [=>............................] - ETA: 4:31 - loss: 0.9994 - accuracy: 0.6527\b\b\b\b\b\b\b\b\b\b\b\b\b\b\b\b\b\b\b\b\b\b\b\b\b\b\b\b\b\b\b\b\b\b\b\b\b\b\b\b\b\b\b\b\b\b\b\b\b\b\b\b\b\b\b\b\b\b\b\b\b\b\b\b\b\b\b\b\b\b\b\b\b\b\b\b\b\b\b\b\b\b\b\b\b\b\b\b\r",
      " 115/1688 [=>............................] - ETA: 4:30 - loss: 0.9926 - accuracy: 0.6554\b\b\b\b\b\b\b\b\b\b\b\b\b\b\b\b\b\b\b\b\b\b\b\b\b\b\b\b\b\b\b\b\b\b\b\b\b\b\b\b\b\b\b\b\b\b\b\b\b\b\b\b\b\b\b\b\b\b\b\b\b\b\b\b\b\b\b\b\b\b\b\b\b\b\b\b\b\b\b\b\b\b\b\b\b\b\b\b\r",
      " 116/1688 [=>............................] - ETA: 4:30 - loss: 0.9921 - accuracy: 0.6562\b\b\b\b\b\b\b\b\b\b\b\b\b\b\b\b\b\b\b\b\b\b\b\b\b\b\b\b\b\b\b\b\b\b\b\b\b\b\b\b\b\b\b\b\b\b\b\b\b\b\b\b\b\b\b\b\b\b\b\b\b\b\b\b\b\b\b\b\b\b\b\b\b\b\b\b\b\b\b\b\b\b\b\b\b\b\b\b\r",
      " 117/1688 [=>............................] - ETA: 4:30 - loss: 0.9878 - accuracy: 0.6579\b\b\b\b\b\b\b\b\b\b\b\b\b\b\b\b\b\b\b\b\b\b\b\b\b\b\b\b\b\b\b\b\b\b\b\b\b\b\b\b\b\b\b\b\b\b\b\b\b\b\b\b\b\b\b\b\b\b\b\b\b\b\b\b\b\b\b\b\b\b\b\b\b\b\b\b\b\b\b\b\b\b\b\b\b\b\b\b\r",
      " 118/1688 [=>............................] - ETA: 4:30 - loss: 0.9830 - accuracy: 0.6600\b\b\b\b\b\b\b\b\b\b\b\b\b\b\b\b\b\b\b\b\b\b\b\b\b\b\b\b\b\b\b\b\b\b\b\b\b\b\b\b\b\b\b\b\b\b\b\b\b\b\b\b\b\b\b\b\b\b\b\b\b\b\b\b\b\b\b\b\b\b\b\b\b\b\b\b\b\b\b\b\b\b\b\b\b\b\b\b\r",
      " 119/1688 [=>............................] - ETA: 4:30 - loss: 0.9765 - accuracy: 0.6623\b\b\b\b\b\b\b\b\b\b\b\b\b\b\b\b\b\b\b\b\b\b\b\b\b\b\b\b\b\b\b\b\b\b\b\b\b\b\b\b\b\b\b\b\b\b\b\b\b\b\b\b\b\b\b\b\b\b\b\b\b\b\b\b\b\b\b\b\b\b\b\b\b\b\b\b\b\b\b\b\b\b\b\b\b\b\b\b\r",
      " 120/1688 [=>............................] - ETA: 4:29 - loss: 0.9721 - accuracy: 0.6638\b\b\b\b\b\b\b\b\b\b\b\b\b\b\b\b\b\b\b\b\b\b\b\b\b\b\b\b\b\b\b\b\b\b\b\b\b\b\b\b\b\b\b\b\b\b\b\b\b\b\b\b\b\b\b\b\b\b\b\b\b\b\b\b\b\b\b\b\b\b\b\b\b\b\b\b\b\b\b\b\b\b\b\b\b\b\b\b\r",
      " 121/1688 [=>............................] - ETA: 4:29 - loss: 0.9666 - accuracy: 0.6658\b\b\b\b\b\b\b\b\b\b\b\b\b\b\b\b\b\b\b\b\b\b\b\b\b\b\b\b\b\b\b\b\b\b\b\b\b\b\b\b\b\b\b\b\b\b\b\b\b\b\b\b\b\b\b\b\b\b\b\b\b\b\b\b\b\b\b\b\b\b\b\b\b\b\b\b\b\b\b\b\b\b\b\b\b\b\b\b\r",
      " 122/1688 [=>............................] - ETA: 4:28 - loss: 0.9616 - accuracy: 0.6683\b\b\b\b\b\b\b\b\b\b\b\b\b\b\b\b\b\b\b\b\b\b\b\b\b\b\b\b\b\b\b\b\b\b\b\b\b\b\b\b\b\b\b\b\b\b\b\b\b\b\b\b\b\b\b\b\b\b\b\b\b\b\b\b\b\b\b\b\b\b\b\b\b\b\b\b\b\b\b\b\b\b\b\b\b\b\b\b\r",
      " 123/1688 [=>............................] - ETA: 4:28 - loss: 0.9577 - accuracy: 0.6697\b\b\b\b\b\b\b\b\b\b\b\b\b\b\b\b\b\b\b\b\b\b\b\b\b\b\b\b\b\b\b\b\b\b\b\b\b\b\b\b\b\b\b\b\b\b\b\b\b\b\b\b\b\b\b\b\b\b\b\b\b\b\b\b\b\b\b\b\b\b\b\b\b\b\b\b\b\b\b\b\b\b\b\b\b\b\b\b\r",
      " 124/1688 [=>............................] - ETA: 4:28 - loss: 0.9520 - accuracy: 0.6716\b\b\b\b\b\b\b\b\b\b\b\b\b\b\b\b\b\b\b\b\b\b\b\b\b\b\b\b\b\b\b\b\b\b\b\b\b\b\b\b\b\b\b\b\b\b\b\b\b\b\b\b\b\b\b\b\b\b\b\b\b\b\b\b\b\b\b\b\b\b\b\b\b\b\b\b\b\b\b\b\b\b\b\b\b\b\b\b\r",
      " 125/1688 [=>............................] - ETA: 4:27 - loss: 0.9462 - accuracy: 0.6737\b\b\b\b\b\b\b\b\b\b\b\b\b\b\b\b\b\b\b\b\b\b\b\b\b\b\b\b\b\b\b\b\b\b\b\b\b\b\b\b\b\b\b\b\b\b\b\b\b\b\b\b\b\b\b\b\b\b\b\b\b\b\b\b\b\b\b\b\b\b\b\b\b\b\b\b\b\b\b\b\b\b\b\b\b\b\b\b\r",
      " 126/1688 [=>............................] - ETA: 4:27 - loss: 0.9403 - accuracy: 0.6756\b\b\b\b\b\b\b\b\b\b\b\b\b\b\b\b\b\b\b\b\b\b\b\b\b\b\b\b\b\b\b\b\b\b\b\b\b\b\b\b\b\b\b\b\b\b\b\b\b\b\b\b\b\b\b\b\b\b\b\b\b\b\b\b\b\b\b\b\b\b\b\b\b\b\b\b\b\b\b\b\b\b\b\b\b\b\b\b\r",
      " 127/1688 [=>............................] - ETA: 4:26 - loss: 0.9346 - accuracy: 0.6777\b\b\b\b\b\b\b\b\b\b\b\b\b\b\b\b\b\b\b\b\b\b\b\b\b\b\b\b\b\b\b\b\b\b\b\b\b\b\b\b\b\b\b\b\b\b\b\b\b\b\b\b\b\b\b\b\b\b\b\b\b\b\b\b\b\b\b\b\b\b\b\b\b\b\b\b\b\b\b\b\b\b\b\b\b\b\b\b\r",
      " 128/1688 [=>............................] - ETA: 4:26 - loss: 0.9292 - accuracy: 0.6794\b\b\b\b\b\b\b\b\b\b\b\b\b\b\b\b\b\b\b\b\b\b\b\b\b\b\b\b\b\b\b\b\b\b\b\b\b\b\b\b\b\b\b\b\b\b\b\b\b\b\b\b\b\b\b\b\b\b\b\b\b\b\b\b\b\b\b\b\b\b\b\b\b\b\b\b\b\b\b\b\b\b\b\b\b\b\b\b\r",
      " 129/1688 [=>............................] - ETA: 4:25 - loss: 0.9241 - accuracy: 0.6812\b\b\b\b\b\b\b\b\b\b\b\b\b\b\b\b\b\b\b\b\b\b\b\b\b\b\b\b\b\b\b\b\b\b\b\b\b\b\b\b\b\b\b\b\b\b\b\b\b\b\b\b\b\b\b\b\b\b\b\b\b\b\b\b\b\b\b\b\b\b\b\b\b\b\b\b\b\b\b\b\b\b\b\b\b\b\b\b\r",
      " 130/1688 [=>............................] - ETA: 4:25 - loss: 0.9194 - accuracy: 0.6829\b\b\b\b\b\b\b\b\b\b\b\b\b\b\b\b\b\b\b\b\b\b\b\b\b\b\b\b\b\b\b\b\b\b\b\b\b\b\b\b\b\b\b\b\b\b\b\b\b\b\b\b\b\b\b\b\b\b\b\b\b\b\b\b\b\b\b\b\b\b\b\b\b\b\b\b\b\b\b\b\b\b\b\b\b\b\b\b\r",
      " 131/1688 [=>............................] - ETA: 4:24 - loss: 0.9172 - accuracy: 0.6846\b\b\b\b\b\b\b\b\b\b\b\b\b\b\b\b\b\b\b\b\b\b\b\b\b\b\b\b\b\b\b\b\b\b\b\b\b\b\b\b\b\b\b\b\b\b\b\b\b\b\b\b\b\b\b\b\b\b\b\b\b\b\b\b\b\b\b\b\b\b\b\b\b\b\b\b\b\b\b\b\b\b\b\b\b\b\b\b\r",
      " 132/1688 [=>............................] - ETA: 4:24 - loss: 0.9126 - accuracy: 0.6863\b\b\b\b\b\b\b\b\b\b\b\b\b\b\b\b\b\b\b\b\b\b\b\b\b\b\b\b\b\b\b\b\b\b\b\b\b\b\b\b\b\b\b\b\b\b\b\b\b\b\b\b\b\b\b\b\b\b\b\b\b\b\b\b\b\b\b\b\b\b\b\b\b\b\b\b\b\b\b\b\b\b\b\b\b\b\b\b\r",
      " 133/1688 [=>............................] - ETA: 4:23 - loss: 0.9079 - accuracy: 0.6880\b\b\b\b\b\b\b\b\b\b\b\b\b\b\b\b\b\b\b\b\b\b\b\b\b\b\b\b\b\b\b\b\b\b\b\b\b\b\b\b\b\b\b\b\b\b\b\b\b\b\b\b\b\b\b\b\b\b\b\b\b\b\b\b\b\b\b\b\b\b\b\b\b\b\b\b\b\b\b\b\b\b\b\b\b\b\b\b\r",
      " 134/1688 [=>............................] - ETA: 4:23 - loss: 0.9051 - accuracy: 0.6889\b\b\b\b\b\b\b\b\b\b\b\b\b\b\b\b\b\b\b\b\b\b\b\b\b\b\b\b\b\b\b\b\b\b\b\b\b\b\b\b\b\b\b\b\b\b\b\b\b\b\b\b\b\b\b\b\b\b\b\b\b\b\b\b\b\b\b\b\b\b\b\b\b\b\b\b\b\b\b\b\b\b\b\b\b\b\b\b\r",
      " 135/1688 [=>............................] - ETA: 4:23 - loss: 0.9001 - accuracy: 0.6905\b\b\b\b\b\b\b\b\b\b\b\b\b\b\b\b\b\b\b\b\b\b\b\b\b\b\b\b\b\b\b\b\b\b\b\b\b\b\b\b\b\b\b\b\b\b\b\b\b\b\b\b\b\b\b\b\b\b\b\b\b\b\b\b\b\b\b\b\b\b\b\b\b\b\b\b\b\b\b\b\b\b\b\b\b\b\b\b\r",
      " 136/1688 [=>............................] - ETA: 4:22 - loss: 0.8959 - accuracy: 0.6921\b\b\b\b\b\b\b\b\b\b\b\b\b\b\b\b\b\b\b\b\b\b\b\b\b\b\b\b\b\b\b\b\b\b\b\b\b\b\b\b\b\b\b\b\b\b\b\b\b\b\b\b\b\b\b\b\b\b\b\b\b\b\b\b\b\b\b\b\b\b\b\b\b\b\b\b\b\b\b\b\b\b\b\b\b\b\b\b\r",
      " 137/1688 [=>............................] - ETA: 4:22 - loss: 0.8910 - accuracy: 0.6939\b\b\b\b\b\b\b\b\b\b\b\b\b\b\b\b\b\b\b\b\b\b\b\b\b\b\b\b\b\b\b\b\b\b\b\b\b\b\b\b\b\b\b\b\b\b\b\b\b\b\b\b\b\b\b\b\b\b\b\b\b\b\b\b\b\b\b\b\b\b\b\b\b\b\b\b\b\b\b\b\b\b\b\b\b\b\b\b\r",
      " 138/1688 [=>............................] - ETA: 4:22 - loss: 0.8879 - accuracy: 0.6952\b\b\b\b\b\b\b\b\b\b\b\b\b\b\b\b\b\b\b\b\b\b\b\b\b\b\b\b\b\b\b\b\b\b\b\b\b\b\b\b\b\b\b\b\b\b\b\b\b\b\b\b\b\b\b\b\b\b\b\b\b\b\b\b\b\b\b\b\b\b\b\b\b\b\b\b\b\b\b\b\b\b\b\b\b\b\b\b\r",
      " 139/1688 [=>............................] - ETA: 4:22 - loss: 0.8837 - accuracy: 0.6969\b\b\b\b\b\b\b\b\b\b\b\b\b\b\b\b\b\b\b\b\b\b\b\b\b\b\b\b\b\b\b\b\b\b\b\b\b\b\b\b\b\b\b\b\b\b\b\b\b\b\b\b\b\b\b\b\b\b\b\b\b\b\b\b\b\b\b\b\b\b\b\b\b\b\b\b\b\b\b\b\b\b\b\b\b\b\b\b\r",
      " 140/1688 [=>............................] - ETA: 4:22 - loss: 0.8806 - accuracy: 0.6982\b\b\b\b\b\b\b\b\b\b\b\b\b\b\b\b\b\b\b\b\b\b\b\b\b\b\b\b\b\b\b\b\b\b\b\b\b\b\b\b\b\b\b\b\b\b\b\b\b\b\b\b\b\b\b\b\b\b\b\b\b\b\b\b\b\b\b\b\b\b\b\b\b\b\b\b\b\b\b\b\b\b\b\b\b\b\b\b\r",
      " 141/1688 [=>............................] - ETA: 4:21 - loss: 0.8788 - accuracy: 0.6990\b\b\b\b\b\b\b\b\b\b\b\b\b\b\b\b\b\b\b\b\b\b\b\b\b\b\b\b\b\b\b\b\b\b\b\b\b\b\b\b\b\b\b\b\b\b\b\b\b\b\b\b\b\b\b\b\b\b\b\b\b\b\b\b\b\b\n",
      "\n",
      "*** WARNING: max output size exceeded, skipping output. ***\n",
      "\n",
      "8 [==========================>...] - ETA: 20s - loss: 0.0425 - accuracy: 0.9870\b\b\b\b\b\b\b\b\b\b\b\b\b\b\b\b\b\b\b\b\b\b\b\b\b\b\b\b\b\b\b\b\b\b\b\b\b\b\b\b\b\b\b\b\b\b\b\b\b\b\b\b\b\b\b\b\b\b\b\b\b\b\b\b\b\b\b\b\b\b\b\b\b\b\b\b\b\b\b\b\b\b\b\b\b\b\b\r",
      "1553/1688 [==========================>...] - ETA: 20s - loss: 0.0425 - accuracy: 0.9870\b\b\b\b\b\b\b\b\b\b\b\b\b\b\b\b\b\b\b\b\b\b\b\b\b\b\b\b\b\b\b\b\b\b\b\b\b\b\b\b\b\b\b\b\b\b\b\b\b\b\b\b\b\b\b\b\b\b\b\b\b\b\b\b\b\b\b\b\b\b\b\b\b\b\b\b\b\b\b\b\b\b\b\b\b\b\b\r",
      "1554/1688 [==========================>...] - ETA: 19s - loss: 0.0425 - accuracy: 0.9870\b\b\b\b\b\b\b\b\b\b\b\b\b\b\b\b\b\b\b\b\b\b\b\b\b\b\b\b\b\b\b\b\b\b\b\b\b\b\b\b\b\b\b\b\b\b\b\b\b\b\b\b\b\b\b\b\b\b\b\b\b\b\b\b\b\b\b\b\b\b\b\b\b\b\b\b\b\b\b\b\b\b\b\b\b\b\b\r",
      "1555/1688 [==========================>...] - ETA: 19s - loss: 0.0425 - accuracy: 0.9870\b\b\b\b\b\b\b\b\b\b\b\b\b\b\b\b\b\b\b\b\b\b\b\b\b\b\b\b\b\b\b\b\b\b\b\b\b\b\b\b\b\b\b\b\b\b\b\b\b\b\b\b\b\b\b\b\b\b\b\b\b\b\b\b\b\b\b\b\b\b\b\b\b\b\b\b\b\b\b\b\b\b\b\b\b\b\b\r",
      "1556/1688 [==========================>...] - ETA: 19s - loss: 0.0425 - accuracy: 0.9870\b\b\b\b\b\b\b\b\b\b\b\b\b\b\b\b\b\b\b\b\b\b\b\b\b\b\b\b\b\b\b\b\b\b\b\b\b\b\b\b\b\b\b\b\b\b\b\b\b\b\b\b\b\b\b\b\b\b\b\b\b\b\b\b\b\b\b\b\b\b\b\b\b\b\b\b\b\b\b\b\b\b\b\b\b\b\b\r",
      "1557/1688 [==========================>...] - ETA: 19s - loss: 0.0425 - accuracy: 0.9870\b\b\b\b\b\b\b\b\b\b\b\b\b\b\b\b\b\b\b\b\b\b\b\b\b\b\b\b\b\b\b\b\b\b\b\b\b\b\b\b\b\b\b\b\b\b\b\b\b\b\b\b\b\b\b\b\b\b\b\b\b\b\b\b\b\b\b\b\b\b\b\b\b\b\b\b\b\b\b\b\b\b\b\b\b\b\b\r",
      "1558/1688 [==========================>...] - ETA: 19s - loss: 0.0425 - accuracy: 0.9870\b\b\b\b\b\b\b\b\b\b\b\b\b\b\b\b\b\b\b\b\b\b\b\b\b\b\b\b\b\b\b\b\b\b\b\b\b\b\b\b\b\b\b\b\b\b\b\b\b\b\b\b\b\b\b\b\b\b\b\b\b\b\b\b\b\b\b\b\b\b\b\b\b\b\b\b\b\b\b\b\b\b\b\b\b\b\b\r",
      "1559/1688 [==========================>...] - ETA: 19s - loss: 0.0425 - accuracy: 0.9870\b\b\b\b\b\b\b\b\b\b\b\b\b\b\b\b\b\b\b\b\b\b\b\b\b\b\b\b\b\b\b\b\b\b\b\b\b\b\b\b\b\b\b\b\b\b\b\b\b\b\b\b\b\b\b\b\b\b\b\b\b\b\b\b\b\b\b\b\b\b\b\b\b\b\b\b\b\b\b\b\b\b\b\b\b\b\b\r",
      "1560/1688 [==========================>...] - ETA: 19s - loss: 0.0425 - accuracy: 0.9870\b\b\b\b\b\b\b\b\b\b\b\b\b\b\b\b\b\b\b\b\b\b\b\b\b\b\b\b\b\b\b\b\b\b\b\b\b\b\b\b\b\b\b\b\b\b\b\b\b\b\b\b\b\b\b\b\b\b\b\b\b\b\b\b\b\b\b\b\b\b\b\b\b\b\b\b\b\b\b\b\b\b\b\b\b\b\b\r",
      "1561/1688 [==========================>...] - ETA: 18s - loss: 0.0425 - accuracy: 0.9870\b\b\b\b\b\b\b\b\b\b\b\b\b\b\b\b\b\b\b\b\b\b\b\b\b\b\b\b\b\b\b\b\b\b\b\b\b\b\b\b\b\b\b\b\b\b\b\b\b\b\b\b\b\b\b\b\b\b\b\b\b\b\b\b\b\b\b\b\b\b\b\b\b\b\b\b\b\b\b\b\b\b\b\b\b\b\b\r",
      "1562/1688 [==========================>...] - ETA: 18s - loss: 0.0425 - accuracy: 0.9870\b\b\b\b\b\b\b\b\b\b\b\b\b\b\b\b\b\b\b\b\b\b\b\b\b\b\b\b\b\b\b\b\b\b\b\b\b\b\b\b\b\b\b\b\b\b\b\b\b\b\b\b\b\b\b\b\b\b\b\b\b\b\b\b\b\b\b\b\b\b\b\b\b\b\b\b\b\b\b\b\b\b\b\b\b\b\b\r",
      "1563/1688 [==========================>...] - ETA: 18s - loss: 0.0425 - accuracy: 0.9870\b\b\b\b\b\b\b\b\b\b\b\b\b\b\b\b\b\b\b\b\b\b\b\b\b\b\b\b\b\b\b\b\b\b\b\b\b\b\b\b\b\b\b\b\b\b\b\b\b\b\b\b\b\b\b\b\b\b\b\b\b\b\b\b\b\b\b\b\b\b\b\b\b\b\b\b\b\b\b\b\b\b\b\b\b\b\b\r",
      "1564/1688 [==========================>...] - ETA: 18s - loss: 0.0425 - accuracy: 0.9870\b\b\b\b\b\b\b\b\b\b\b\b\b\b\b\b\b\b\b\b\b\b\b\b\b\b\b\b\b\b\b\b\b\b\b\b\b\b\b\b\b\b\b\b\b\b\b\b\b\b\b\b\b\b\b\b\b\b\b\b\b\b\b\b\b\b\b\b\b\b\b\b\b\b\b\b\b\b\b\b\b\b\b\b\b\b\b\r",
      "1565/1688 [==========================>...] - ETA: 18s - loss: 0.0424 - accuracy: 0.9870\b\b\b\b\b\b\b\b\b\b\b\b\b\b\b\b\b\b\b\b\b\b\b\b\b\b\b\b\b\b\b\b\b\b\b\b\b\b\b\b\b\b\b\b\b\b\b\b\b\b\b\b\b\b\b\b\b\b\b\b\b\b\b\b\b\b\b\b\b\b\b\b\b\b\b\b\b\b\b\b\b\b\b\b\b\b\b\r",
      "1566/1688 [==========================>...] - ETA: 18s - loss: 0.0424 - accuracy: 0.9870\b\b\b\b\b\b\b\b\b\b\b\b\b\b\b\b\b\b\b\b\b\b\b\b\b\b\b\b\b\b\b\b\b\b\b\b\b\b\b\b\b\b\b\b\b\b\b\b\b\b\b\b\b\b\b\b\b\b\b\b\b\b\b\b\b\b\b\b\b\b\b\b\b\b\b\b\b\b\b\b\b\b\b\b\b\b\b\r",
      "1567/1688 [==========================>...] - ETA: 17s - loss: 0.0425 - accuracy: 0.9870\b\b\b\b\b\b\b\b\b\b\b\b\b\b\b\b\b\b\b\b\b\b\b\b\b\b\b\b\b\b\b\b\b\b\b\b\b\b\b\b\b\b\b\b\b\b\b\b\b\b\b\b\b\b\b\b\b\b\b\b\b\b\b\b\b\b\b\b\b\b\b\b\b\b\b\b\b\b\b\b\b\b\b\b\b\b\b\r",
      "1568/1688 [==========================>...] - ETA: 17s - loss: 0.0425 - accuracy: 0.9870\b\b\b\b\b\b\b\b\b\b\b\b\b\b\b\b\b\b\b\b\b\b\b\b\b\b\b\b\b\b\b\b\b\b\b\b\b\b\b\b\b\b\b\b\b\b\b\b\b\b\b\b\b\b\b\b\b\b\b\b\b\b\b\b\b\b\b\b\b\b\b\b\b\b\b\b\b\b\b\b\b\b\b\b\b\b\b\r",
      "1569/1688 [==========================>...] - ETA: 17s - loss: 0.0424 - accuracy: 0.9870\b\b\b\b\b\b\b\b\b\b\b\b\b\b\b\b\b\b\b\b\b\b\b\b\b\b\b\b\b\b\b\b\b\b\b\b\b\b\b\b\b\b\b\b\b\b\b\b\b\b\b\b\b\b\b\b\b\b\b\b\b\b\b\b\b\b\b\b\b\b\b\b\b\b\b\b\b\b\b\b\b\b\b\b\b\b\b\r",
      "1570/1688 [==========================>...] - ETA: 17s - loss: 0.0424 - accuracy: 0.9870\b\b\b\b\b\b\b\b\b\b\b\b\b\b\b\b\b\b\b\b\b\b\b\b\b\b\b\b\b\b\b\b\b\b\b\b\b\b\b\b\b\b\b\b\b\b\b\b\b\b\b\b\b\b\b\b\b\b\b\b\b\b\b\b\b\b\b\b\b\b\b\b\b\b\b\b\b\b\b\b\b\b\b\b\b\b\b\r",
      "1571/1688 [==========================>...] - ETA: 17s - loss: 0.0425 - accuracy: 0.9870\b\b\b\b\b\b\b\b\b\b\b\b\b\b\b\b\b\b\b\b\b\b\b\b\b\b\b\b\b\b\b\b\b\b\b\b\b\b\b\b\b\b\b\b\b\b\b\b\b\b\b\b\b\b\b\b\b\b\b\b\b\b\b\b\b\b\b\b\b\b\b\b\b\b\b\b\b\b\b\b\b\b\b\b\b\b\b\r",
      "1572/1688 [==========================>...] - ETA: 17s - loss: 0.0425 - accuracy: 0.9870\b\b\b\b\b\b\b\b\b\b\b\b\b\b\b\b\b\b\b\b\b\b\b\b\b\b\b\b\b\b\b\b\b\b\b\b\b\b\b\b\b\b\b\b\b\b\b\b\b\b\b\b\b\b\b\b\b\b\b\b\b\b\b\b\b\b\b\b\b\b\b\b\b\b\b\b\b\b\b\b\b\b\b\b\b\b\b\r",
      "1573/1688 [==========================>...] - ETA: 17s - loss: 0.0425 - accuracy: 0.9869\b\b\b\b\b\b\b\b\b\b\b\b\b\b\b\b\b\b\b\b\b\b\b\b\b\b\b\b\b\b\b\b\b\b\b\b\b\b\b\b\b\b\b\b\b\b\b\b\b\b\b\b\b\b\b\b\b\b\b\b\b\b\b\b\b\b\b\b\b\b\b\b\b\b\b\b\b\b\b\b\b\b\b\b\b\b\b\r",
      "1574/1688 [==========================>...] - ETA: 16s - loss: 0.0425 - accuracy: 0.9869\b\b\b\b\b\b\b\b\b\b\b\b\b\b\b\b\b\b\b\b\b\b\b\b\b\b\b\b\b\b\b\b\b\b\b\b\b\b\b\b\b\b\b\b\b\b\b\b\b\b\b\b\b\b\b\b\b\b\b\b\b\b\b\b\b\b\b\b\b\b\b\b\b\b\b\b\b\b\b\b\b\b\b\b\b\b\b\r",
      "1575/1688 [==========================>...] - ETA: 16s - loss: 0.0425 - accuracy: 0.9869\b\b\b\b\b\b\b\b\b\b\b\b\b\b\b\b\b\b\b\b\b\b\b\b\b\b\b\b\b\b\b\b\b\b\b\b\b\b\b\b\b\b\b\b\b\b\b\b\b\b\b\b\b\b\b\b\b\b\b\b\b\b\b\b\b\b\b\b\b\b\b\b\b\b\b\b\b\b\b\b\b\b\b\b\b\b\b\r",
      "1576/1688 [===========================>..] - ETA: 16s - loss: 0.0425 - accuracy: 0.9869\b\b\b\b\b\b\b\b\b\b\b\b\b\b\b\b\b\b\b\b\b\b\b\b\b\b\b\b\b\b\b\b\b\b\b\b\b\b\b\b\b\b\b\b\b\b\b\b\b\b\b\b\b\b\b\b\b\b\b\b\b\b\b\b\b\b\b\b\b\b\b\b\b\b\b\b\b\b\b\b\b\b\b\b\b\b\b\r",
      "1577/1688 [===========================>..] - ETA: 16s - loss: 0.0425 - accuracy: 0.9869\b\b\b\b\b\b\b\b\b\b\b\b\b\b\b\b\b\b\b\b\b\b\b\b\b\b\b\b\b\b\b\b\b\b\b\b\b\b\b\b\b\b\b\b\b\b\b\b\b\b\b\b\b\b\b\b\b\b\b\b\b\b\b\b\b\b\b\b\b\b\b\b\b\b\b\b\b\b\b\b\b\b\b\b\b\b\b\r",
      "1578/1688 [===========================>..] - ETA: 16s - loss: 0.0425 - accuracy: 0.9869\b\b\b\b\b\b\b\b\b\b\b\b\b\b\b\b\b\b\b\b\b\b\b\b\b\b\b\b\b\b\b\b\b\b\b\b\b\b\b\b\b\b\b\b\b\b\b\b\b\b\b\b\b\b\b\b\b\b\b\b\b\b\b\b\b\b\b\b\b\b\b\b\b\b\b\b\b\b\b\b\b\b\b\b\b\b\b\r",
      "1579/1688 [===========================>..] - ETA: 16s - loss: 0.0425 - accuracy: 0.9869\b\b\b\b\b\b\b\b\b\b\b\b\b\b\b\b\b\b\b\b\b\b\b\b\b\b\b\b\b\b\b\b\b\b\b\b\b\b\b\b\b\b\b\b\b\b\b\b\b\b\b\b\b\b\b\b\b\b\b\b\b\b\b\b\b\b\b\b\b\b\b\b\b\b\b\b\b\b\b\b\b\b\b\b\b\b\b\r",
      "1580/1688 [===========================>..] - ETA: 16s - loss: 0.0425 - accuracy: 0.9869\b\b\b\b\b\b\b\b\b\b\b\b\b\b\b\b\b\b\b\b\b\b\b\b\b\b\b\b\b\b\b\b\b\b\b\b\b\b\b\b\b\b\b\b\b\b\b\b\b\b\b\b\b\b\b\b\b\b\b\b\b\b\b\b\b\b\b\b\b\b\b\b\b\b\b\b\b\b\b\b\b\b\b\b\b\b\b\r",
      "1581/1688 [===========================>..] - ETA: 15s - loss: 0.0425 - accuracy: 0.9869\b\b\b\b\b\b\b\b\b\b\b\b\b\b\b\b\b\b\b\b\b\b\b\b\b\b\b\b\b\b\b\b\b\b\b\b\b\b\b\b\b\b\b\b\b\b\b\b\b\b\b\b\b\b\b\b\b\b\b\b\b\b\b\b\b\b\b\b\b\b\b\b\b\b\b\b\b\b\b\b\b\b\b\b\b\b\b\r",
      "1582/1688 [===========================>..] - ETA: 15s - loss: 0.0425 - accuracy: 0.9869\b\b\b\b\b\b\b\b\b\b\b\b\b\b\b\b\b\b\b\b\b\b\b\b\b\b\b\b\b\b\b\b\b\b\b\b\b\b\b\b\b\b\b\b\b\b\b\b\b\b\b\b\b\b\b\b\b\b\b\b\b\b\b\b\b\b\b\b\b\b\b\b\b\b\b\b\b\b\b\b\b\b\b\b\b\b\b\r",
      "1583/1688 [===========================>..] - ETA: 15s - loss: 0.0425 - accuracy: 0.9870\b\b\b\b\b\b\b\b\b\b\b\b\b\b\b\b\b\b\b\b\b\b\b\b\b\b\b\b\b\b\b\b\b\b\b\b\b\b\b\b\b\b\b\b\b\b\b\b\b\b\b\b\b\b\b\b\b\b\b\b\b\b\b\b\b\b\b\b\b\b\b\b\b\b\b\b\b\b\b\b\b\b\b\b\b\b\b\r",
      "1584/1688 [===========================>..] - ETA: 15s - loss: 0.0425 - accuracy: 0.9869\b\b\b\b\b\b\b\b\b\b\b\b\b\b\b\b\b\b\b\b\b\b\b\b\b\b\b\b\b\b\b\b\b\b\b\b\b\b\b\b\b\b\b\b\b\b\b\b\b\b\b\b\b\b\b\b\b\b\b\b\b\b\b\b\b\b\b\b\b\b\b\b\b\b\b\b\b\b\b\b\b\b\b\b\b\b\b\r",
      "1585/1688 [===========================>..] - ETA: 15s - loss: 0.0428 - accuracy: 0.9869\b\b\b\b\b\b\b\b\b\b\b\b\b\b\b\b\b\b\b\b\b\b\b\b\b\b\b\b\b\b\b\b\b\b\b\b\b\b\b\b\b\b\b\b\b\b\b\b\b\b\b\b\b\b\b\b\b\b\b\b\b\b\b\b\b\b\b\b\b\b\b\b\b\b\b\b\b\b\b\b\b\b\b\b\b\b\b\r",
      "1586/1688 [===========================>..] - ETA: 15s - loss: 0.0428 - accuracy: 0.9869\b\b\b\b\b\b\b\b\b\b\b\b\b\b\b\b\b\b\b\b\b\b\b\b\b\b\b\b\b\b\b\b\b\b\b\b\b\b\b\b\b\b\b\b\b\b\b\b\b\b\b\b\b\b\b\b\b\b\b\b\b\b\b\b\b\b\b\b\b\b\b\b\b\b\b\b\b\b\b\b\b\b\b\b\b\b\b\r",
      "1587/1688 [===========================>..] - ETA: 14s - loss: 0.0428 - accuracy: 0.9869\b\b\b\b\b\b\b\b\b\b\b\b\b\b\b\b\b\b\b\b\b\b\b\b\b\b\b\b\b\b\b\b\b\b\b\b\b\b\b\b\b\b\b\b\b\b\b\b\b\b\b\b\b\b\b\b\b\b\b\b\b\b\b\b\b\b\b\b\b\b\b\b\b\b\b\b\b\b\b\b\b\b\b\b\b\b\b\r",
      "1588/1688 [===========================>..] - ETA: 14s - loss: 0.0428 - accuracy: 0.9869\b\b\b\b\b\b\b\b\b\b\b\b\b\b\b\b\b\b\b\b\b\b\b\b\b\b\b\b\b\b\b\b\b\b\b\b\b\b\b\b\b\b\b\b\b\b\b\b\b\b\b\b\b\b\b\b\b\b\b\b\b\b\b\b\b\b\b\b\b\b\b\b\b\b\b\b\b\b\b\b\b\b\b\b\b\b\b\r",
      "1589/1688 [===========================>..] - ETA: 14s - loss: 0.0428 - accuracy: 0.9869\b\b\b\b\b\b\b\b\b\b\b\b\b\b\b\b\b\b\b\b\b\b\b\b\b\b\b\b\b\b\b\b\b\b\b\b\b\b\b\b\b\b\b\b\b\b\b\b\b\b\b\b\b\b\b\b\b\b\b\b\b\b\b\b\b\b\b\b\b\b\b\b\b\b\b\b\b\b\b\b\b\b\b\b\b\b\b\r",
      "1590/1688 [===========================>..] - ETA: 14s - loss: 0.0428 - accuracy: 0.9869\b\b\b\b\b\b\b\b\b\b\b\b\b\b\b\b\b\b\b\b\b\b\b\b\b\b\b\b\b\b\b\b\b\b\b\b\b\b\b\b\b\b\b\b\b\b\b\b\b\b\b\b\b\b\b\b\b\b\b\b\b\b\b\b\b\b\b\b\b\b\b\b\b\b\b\b\b\b\b\b\b\b\b\b\b\b\b\r",
      "1591/1688 [===========================>..] - ETA: 14s - loss: 0.0429 - accuracy: 0.9869\b\b\b\b\b\b\b\b\b\b\b\b\b\b\b\b\b\b\b\b\b\b\b\b\b\b\b\b\b\b\b\b\b\b\b\b\b\b\b\b\b\b\b\b\b\b\b\b\b\b\b\b\b\b\b\b\b\b\b\b\b\b\b\b\b\b\b\b\b\b\b\b\b\b\b\b\b\b\b\b\b\b\b\b\b\b\b\r",
      "1592/1688 [===========================>..] - ETA: 14s - loss: 0.0429 - accuracy: 0.9869\b\b\b\b\b\b\b\b\b\b\b\b\b\b\b\b\b\b\b\b\b\b\b\b\b\b\b\b\b\b\b\b\b\b\b\b\b\b\b\b\b\b\b\b\b\b\b\b\b\b\b\b\b\b\b\b\b\b\b\b\b\b\b\b\b\b\b\b\b\b\b\b\b\b\b\b\b\b\b\b\b\b\b\b\b\b\b\r",
      "1593/1688 [===========================>..] - ETA: 14s - loss: 0.0429 - accuracy: 0.9869\b\b\b\b\b\b\b\b\b\b\b\b\b\b\b\b\b\b\b\b\b\b\b\b\b\b\b\b\b\b\b\b\b\b\b\b\b\b\b\b\b\b\b\b\b\b\b\b\b\b\b\b\b\b\b\b\b\b\b\b\b\b\b\b\b\b\b\b\b\b\b\b\b\b\b\b\b\b\b\b\b\b\b\b\b\b\b\r",
      "1594/1688 [===========================>..] - ETA: 13s - loss: 0.0428 - accuracy: 0.9869\b\b\b\b\b\b\b\b\b\b\b\b\b\b\b\b\b\b\b\b\b\b\b\b\b\b\b\b\b\b\b\b\b\b\b\b\b\b\b\b\b\b\b\b\b\b\b\b\b\b\b\b\b\b\b\b\b\b\b\b\b\b\b\b\b\b\b\b\b\b\b\b\b\b\b\b\b\b\b\b\b\b\b\b\b\b\b\r",
      "1595/1688 [===========================>..] - ETA: 13s - loss: 0.0428 - accuracy: 0.9870\b\b\b\b\b\b\b\b\b\b\b\b\b\b\b\b\b\b\b\b\b\b\b\b\b\b\b\b\b\b\b\b\b\b\b\b\b\b\b\b\b\b\b\b\b\b\b\b\b\b\b\b\b\b\b\b\b\b\b\b\b\b\b\b\b\b\b\b\b\b\b\b\b\b\b\b\b\b\b\b\b\b\b\b\b\b\b\r",
      "1596/1688 [===========================>..] - ETA: 13s - loss: 0.0428 - accuracy: 0.9870\b\b\b\b\b\b\b\b\b\b\b\b\b\b\b\b\b\b\b\b\b\b\b\b\b\b\b\b\b\b\b\b\b\b\b\b\b\b\b\b\b\b\b\b\b\b\b\b\b\b\b\b\b\b\b\b\b\b\b\b\b\b\b\b\b\b\b\b\b\b\b\b\b\b\b\b\b\b\b\b\b\b\b\b\b\b\b\r",
      "1597/1688 [===========================>..] - ETA: 13s - loss: 0.0429 - accuracy: 0.9869\b\b\b\b\b\b\b\b\b\b\b\b\b\b\b\b\b\b\b\b\b\b\b\b\b\b\b\b\b\b\b\b\b\b\b\b\b\b\b\b\b\b\b\b\b\b\b\b\b\b\b\b\b\b\b\b\b\b\b\b\b\b\b\b\b\b\b\b\b\b\b\b\b\b\b\b\b\b\b\b\b\b\b\b\b\b\b\r",
      "1598/1688 [===========================>..] - ETA: 13s - loss: 0.0429 - accuracy: 0.9869\b\b\b\b\b\b\b\b\b\b\b\b\b\b\b\b\b\b\b\b\b\b\b\b\b\b\b\b\b\b\b\b\b\b\b\b\b\b\b\b\b\b\b\b\b\b\b\b\b\b\b\b\b\b\b\b\b\b\b\b\b\b\b\b\b\b\b\b\b\b\b\b\b\b\b\b\b\b\b\b\b\b\b\b\b\b\b\r",
      "1599/1688 [===========================>..] - ETA: 13s - loss: 0.0429 - accuracy: 0.9869\b\b\b\b\b\b\b\b\b\b\b\b\b\b\b\b\b\b\b\b\b\b\b\b\b\b\b\b\b\b\b\b\b\b\b\b\b\b\b\b\b\b\b\b\b\b\b\b\b\b\b\b\b\b\b\b\b\b\b\b\b\b\b\b\b\b\b\b\b\b\b\b\b\b\b\b\b\b\b\b\b\b\b\b\b\b\b\r",
      "1600/1688 [===========================>..] - ETA: 13s - loss: 0.0428 - accuracy: 0.9869\b\b\b\b\b\b\b\b\b\b\b\b\b\b\b\b\b\b\b\b\b\b\b\b\b\b\b\b\b\b\b\b\b\b\b\b\b\b\b\b\b\b\b\b\b\b\b\b\b\b\b\b\b\b\b\b\b\b\b\b\b\b\b\b\b\b\b\b\b\b\b\b\b\b\b\b\b\b\b\b\b\b\b\b\b\b\b\r",
      "1601/1688 [===========================>..] - ETA: 12s - loss: 0.0429 - accuracy: 0.9869\b\b\b\b\b\b\b\b\b\b\b\b\b\b\b\b\b\b\b\b\b\b\b\b\b\b\b\b\b\b\b\b\b\b\b\b\b\b\b\b\b\b\b\b\b\b\b\b\b\b\b\b\b\b\b\b\b\b\b\b\b\b\b\b\b\b\b\b\b\b\b\b\b\b\b\b\b\b\b\b\b\b\b\b\b\b\b\r",
      "1602/1688 [===========================>..] - ETA: 12s - loss: 0.0430 - accuracy: 0.9869\b\b\b\b\b\b\b\b\b\b\b\b\b\b\b\b\b\b\b\b\b\b\b\b\b\b\b\b\b\b\b\b\b\b\b\b\b\b\b\b\b\b\b\b\b\b\b\b\b\b\b\b\b\b\b\b\b\b\b\b\b\b\b\b\b\b\b\b\b\b\b\b\b\b\b\b\b\b\b\b\b\b\b\b\b\b\b\r",
      "1603/1688 [===========================>..] - ETA: 12s - loss: 0.0430 - accuracy: 0.9869\b\b\b\b\b\b\b\b\b\b\b\b\b\b\b\b\b\b\b\b\b\b\b\b\b\b\b\b\b\b\b\b\b\b\b\b\b\b\b\b\b\b\b\b\b\b\b\b\b\b\b\b\b\b\b\b\b\b\b\b\b\b\b\b\b\b\b\b\b\b\b\b\b\b\b\b\b\b\b\b\b\b\b\b\b\b\b\r",
      "1604/1688 [===========================>..] - ETA: 12s - loss: 0.0430 - accuracy: 0.9869\b\b\b\b\b\b\b\b\b\b\b\b\b\b\b\b\b\b\b\b\b\b\b\b\b\b\b\b\b\b\b\b\b\b\b\b\b\b\b\b\b\b\b\b\b\b\b\b\b\b\b\b\b\b\b\b\b\b\b\b\b\b\b\b\b\b\b\b\b\b\b\b\b\b\b\b\b\b\b\b\b\b\b\b\b\b\b\r",
      "1605/1688 [===========================>..] - ETA: 12s - loss: 0.0430 - accuracy: 0.9869\b\b\b\b\b\b\b\b\b\b\b\b\b\b\b\b\b\b\b\b\b\b\b\b\b\b\b\b\b\b\b\b\b\b\b\b\b\b\b\b\b\b\b\b\b\b\b\b\b\b\b\b\b\b\b\b\b\b\b\b\b\b\b\b\b\b\b\b\b\b\b\b\b\b\b\b\b\b\b\b\b\b\b\b\b\b\b\r",
      "1606/1688 [===========================>..] - ETA: 12s - loss: 0.0430 - accuracy: 0.9869\b\b\b\b\b\b\b\b\b\b\b\b\b\b\b\b\b\b\b\b\b\b\b\b\b\b\b\b\b\b\b\b\b\b\b\b\b\b\b\b\b\b\b\b\b\b\b\b\b\b\b\b\b\b\b\b\b\b\b\b\b\b\b\b\b\b\b\b\b\b\b\b\b\b\b\b\b\b\b\b\b\b\b\b\b\b\b\r",
      "1607/1688 [===========================>..] - ETA: 12s - loss: 0.0430 - accuracy: 0.9869\b\b\b\b\b\b\b\b\b\b\b\b\b\b\b\b\b\b\b\b\b\b\b\b\b\b\b\b\b\b\b\b\b\b\b\b\b\b\b\b\b\b\b\b\b\b\b\b\b\b\b\b\b\b\b\b\b\b\b\b\b\b\b\b\b\b\b\b\b\b\b\b\b\b\b\b\b\b\b\b\b\b\b\b\b\b\b\r",
      "1608/1688 [===========================>..] - ETA: 11s - loss: 0.0431 - accuracy: 0.9869\b\b\b\b\b\b\b\b\b\b\b\b\b\b\b\b\b\b\b\b\b\b\b\b\b\b\b\b\b\b\b\b\b\b\b\b\b\b\b\b\b\b\b\b\b\b\b\b\b\b\b\b\b\b\b\b\b\b\b\b\b\b\b\b\b\b\b\b\b\b\b\b\b\b\b\b\b\b\b\b\b\b\b\b\b\b\b\r",
      "1609/1688 [===========================>..] - ETA: 11s - loss: 0.0430 - accuracy: 0.9869\b\b\b\b\b\b\b\b\b\b\b\b\b\b\b\b\b\b\b\b\b\b\b\b\b\b\b\b\b\b\b\b\b\b\b\b\b\b\b\b\b\b\b\b\b\b\b\b\b\b\b\b\b\b\b\b\b\b\b\b\b\b\b\b\b\b\b\b\b\b\b\b\b\b\b\b\b\b\b\b\b\b\b\b\b\b\b\r",
      "1610/1688 [===========================>..] - ETA: 11s - loss: 0.0431 - accuracy: 0.9869\b\b\b\b\b\b\b\b\b\b\b\b\b\b\b\b\b\b\b\b\b\b\b\b\b\b\b\b\b\b\b\b\b\b\b\b\b\b\b\b\b\b\b\b\b\b\b\b\b\b\b\b\b\b\b\b\b\b\b\b\b\b\b\b\b\b\b\b\b\b\b\b\b\b\b\b\b\b\b\b\b\b\b\b\b\b\b\r",
      "1611/1688 [===========================>..] - ETA: 11s - loss: 0.0431 - accuracy: 0.9869\b\b\b\b\b\b\b\b\b\b\b\b\b\b\b\b\b\b\b\b\b\b\b\b\b\b\b\b\b\b\b\b\b\b\b\b\b\b\b\b\b\b\b\b\b\b\b\b\b\b\b\b\b\b\b\b\b\b\b\b\b\b\b\b\b\b\b\b\b\b\b\b\b\b\b\b\b\b\b\b\b\b\b\b\b\b\b\r",
      "1612/1688 [===========================>..] - ETA: 11s - loss: 0.0431 - accuracy: 0.9869\b\b\b\b\b\b\b\b\b\b\b\b\b\b\b\b\b\b\b\b\b\b\b\b\b\b\b\b\b\b\b\b\b\b\b\b\b\b\b\b\b\b\b\b\b\b\b\b\b\b\b\b\b\b\b\b\b\b\b\b\b\b\b\b\b\b\b\b\b\b\b\b\b\b\b\b\b\b\b\b\b\b\b\b\b\b\b\r",
      "1613/1688 [===========================>..] - ETA: 11s - loss: 0.0431 - accuracy: 0.9869\b\b\b\b\b\b\b\b\b\b\b\b\b\b\b\b\b\b\b\b\b\b\b\b\b\b\b\b\b\b\b\b\b\b\b\b\b\b\b\b\b\b\b\b\b\b\b\b\b\b\b\b\b\b\b\b\b\b\b\b\b\b\b\b\b\b\b\b\b\b\b\b\b\b\b\b\b\b\b\b\b\b\b\b\b\b\b\r",
      "1614/1688 [===========================>..] - ETA: 10s - loss: 0.0431 - accuracy: 0.9869\b\b\b\b\b\b\b\b\b\b\b\b\b\b\b\b\b\b\b\b\b\b\b\b\b\b\b\b\b\b\b\b\b\b\b\b\b\b\b\b\b\b\b\b\b\b\b\b\b\b\b\b\b\b\b\b\b\b\b\b\b\b\b\b\b\b\b\b\b\b\b\b\b\b\b\b\b\b\b\b\b\b\b\b\b\b\b\r",
      "1615/1688 [===========================>..] - ETA: 10s - loss: 0.0432 - accuracy: 0.9868\b\b\b\b\b\b\b\b\b\b\b\b\b\b\b\b\b\b\b\b\b\b\b\b\b\b\b\b\b\b\b\b\b\b\b\b\b\b\b\b\b\b\b\b\b\b\b\b\b\b\b\b\b\b\b\b\b\b\b\b\b\b\b\b\b\b\b\b\b\b\b\b\b\b\b\b\b\b\b\b\b\b\b\b\b\b\b\r",
      "1616/1688 [===========================>..] - ETA: 10s - loss: 0.0432 - accuracy: 0.9868\b\b\b\b\b\b\b\b\b\b\b\b\b\b\b\b\b\b\b\b\b\b\b\b\b\b\b\b\b\b\b\b\b\b\b\b\b\b\b\b\b\b\b\b\b\b\b\b\b\b\b\b\b\b\b\b\b\b\b\b\b\b\b\b\b\b\b\b\b\b\b\b\b\b\b\b\b\b\b\b\b\b\b\b\b\b\b\r",
      "1617/1688 [===========================>..] - ETA: 10s - loss: 0.0432 - accuracy: 0.9868\b\b\b\b\b\b\b\b\b\b\b\b\b\b\b\b\b\b\b\b\b\b\b\b\b\b\b\b\b\b\b\b\b\b\b\b\b\b\b\b\b\b\b\b\b\b\b\b\b\b\b\b\b\b\b\b\b\b\b\b\b\b\b\b\b\b\b\b\b\b\b\b\b\b\b\b\b\b\b\b\b\b\b\b\b\b\b\r",
      "1618/1688 [===========================>..] - ETA: 10s - loss: 0.0431 - accuracy: 0.9868\b\b\b\b\b\b\b\b\b\b\b\b\b\b\b\b\b\b\b\b\b\b\b\b\b\b\b\b\b\b\b\b\b\b\b\b\b\b\b\b\b\b\b\b\b\b\b\b\b\b\b\b\b\b\b\b\b\b\b\b\b\b\b\b\b\b\b\b\b\b\b\b\b\b\b\b\b\b\b\b\b\b\b\b\b\b\b\r",
      "1619/1688 [===========================>..] - ETA: 10s - loss: 0.0431 - accuracy: 0.9869\b\b\b\b\b\b\b\b\b\b\b\b\b\b\b\b\b\b\b\b\b\b\b\b\b\b\b\b\b\b\b\b\b\b\b\b\b\b\b\b\b\b\b\b\b\b\b\b\b\b\b\b\b\b\b\b\b\b\b\b\b\b\b\b\b\b\b\b\b\b\b\b\b\b\b\b\b\b\b\b\b\b\b\b\b\b\b\r",
      "1620/1688 [===========================>..] - ETA: 10s - loss: 0.0431 - accuracy: 0.9868\b\b\b\b\b\b\b\b\b\b\b\b\b\b\b\b\b\b\b\b\b\b\b\b\b\b\b\b\b\b\b\b\b\b\b\b\b\b\b\b\b\b\b\b\b\b\b\b\b\b\b\b\b\b\b\b\b\b\b\b\b\b\b\b\b\b\b\b\b\b\b\b\b\b\b\b\b\b\b\b\b\b\b\b\b\b\b\r",
      "1621/1688 [===========================>..] - ETA: 9s - loss: 0.0431 - accuracy: 0.9868 \b\b\b\b\b\b\b\b\b\b\b\b\b\b\b\b\b\b\b\b\b\b\b\b\b\b\b\b\b\b\b\b\b\b\b\b\b\b\b\b\b\b\b\b\b\b\b\b\b\b\b\b\b\b\b\b\b\b\b\b\b\b\b\b\b\b\b\b\b\b\b\b\b\b\b\b\b\b\b\b\b\b\b\b\b\b\r",
      "1622/1688 [===========================>..] - ETA: 9s - loss: 0.0431 - accuracy: 0.9868\b\b\b\b\b\b\b\b\b\b\b\b\b\b\b\b\b\b\b\b\b\b\b\b\b\b\b\b\b\b\b\b\b\b\b\b\b\b\b\b\b\b\b\b\b\b\b\b\b\b\b\b\b\b\b\b\b\b\b\b\b\b\b\b\b\b\b\b\b\b\b\b\b\b\b\b\b\b\b\b\b\b\b\b\b\b\r",
      "1623/1688 [===========================>..] - ETA: 9s - loss: 0.0431 - accuracy: 0.9868\b\b\b\b\b\b\b\b\b\b\b\b\b\b\b\b\b\b\b\b\b\b\b\b\b\b\b\b\b\b\b\b\b\b\b\b\b\b\b\b\b\b\b\b\b\b\b\b\b\b\b\b\b\b\b\b\b\b\b\b\b\b\b\b\b\b\b\b\b\b\b\b\b\b\b\b\b\b\b\b\b\b\b\b\b\b\r",
      "1624/1688 [===========================>..] - ETA: 9s - loss: 0.0431 - accuracy: 0.9869\b\b\b\b\b\b\b\b\b\b\b\b\b\b\b\b\b\b\b\b\b\b\b\b\b\b\b\b\b\b\b\b\b\b\b\b\b\b\b\b\b\b\b\b\b\b\b\b\b\b\b\b\b\b\b\b\b\b\b\b\b\b\b\b\b\b\b\b\b\b\b\b\b\b\b\b\b\b\b\b\b\b\b\b\b\b\r",
      "1625/1688 [===========================>..] - ETA: 9s - loss: 0.0431 - accuracy: 0.9869\b\b\b\b\b\b\b\b\b\b\b\b\b\b\b\b\b\b\b\b\b\b\b\b\b\b\b\b\b\b\b\b\b\b\b\b\b\b\b\b\b\b\b\b\b\b\b\b\b\b\b\b\b\b\b\b\b\b\b\b\b\b\b\b\b\b\b\b\b\b\b\b\b\b\b\b\b\b\b\b\b\b\b\b\b\b\r",
      "1626/1688 [===========================>..] - ETA: 9s - loss: 0.0430 - accuracy: 0.9869\b\b\b\b\b\b\b\b\b\b\b\b\b\b\b\b\b\b\b\b\b\b\b\b\b\b\b\b\b\b\b\b\b\b\b\b\b\b\b\b\b\b\b\b\b\b\b\b\b\b\b\b\b\b\b\b\b\b\b\b\b\b\b\b\b\b\b\b\b\b\b\b\b\b\b\b\b\b\b\b\b\b\b\b\b\b\r",
      "1627/1688 [===========================>..] - ETA: 9s - loss: 0.0430 - accuracy: 0.9869\b\b\b\b\b\b\b\b\b\b\b\b\b\b\b\b\b\b\b\b\b\b\b\b\b\b\b\b\b\b\b\b\b\b\b\b\b\b\b\b\b\b\b\b\b\b\b\b\b\b\b\b\b\b\b\b\b\b\b\b\b\b\b\b\b\b\b\b\b\b\b\b\b\b\b\b\b\b\b\b\b\b\b\b\b\b\r",
      "1628/1688 [===========================>..] - ETA: 8s - loss: 0.0430 - accuracy: 0.9869\b\b\b\b\b\b\b\b\b\b\b\b\b\b\b\b\b\b\b\b\b\b\b\b\b\b\b\b\b\b\b\b\b\b\b\b\b\b\b\b\b\b\b\b\b\b\b\b\b\b\b\b\b\b\b\b\b\b\b\b\b\b\b\b\b\b\b\b\b\b\b\b\b\b\b\b\b\b\b\b\b\b\b\b\b\b\r",
      "1629/1688 [===========================>..] - ETA: 8s - loss: 0.0430 - accuracy: 0.9869\b\b\b\b\b\b\b\b\b\b\b\b\b\b\b\b\b\b\b\b\b\b\b\b\b\b\b\b\b\b\b\b\b\b\b\b\b\b\b\b\b\b\b\b\b\b\b\b\b\b\b\b\b\b\b\b\b\b\b\b\b\b\b\b\b\b\b\b\b\b\b\b\b\b\b\b\b\b\b\b\b\b\b\b\b\b\r",
      "1630/1688 [===========================>..] - ETA: 8s - loss: 0.0430 - accuracy: 0.9869\b\b\b\b\b\b\b\b\b\b\b\b\b\b\b\b\b\b\b\b\b\b\b\b\b\b\b\b\b\b\b\b\b\b\b\b\b\b\b\b\b\b\b\b\b\b\b\b\b\b\b\b\b\b\b\b\b\b\b\b\b\b\b\b\b\b\b\b\b\b\b\b\b\b\b\b\b\b\b\b\b\b\b\b\b\b\r",
      "1631/1688 [===========================>..] - ETA: 8s - loss: 0.0430 - accuracy: 0.9869\b\b\b\b\b\b\b\b\b\b\b\b\b\b\b\b\b\b\b\b\b\b\b\b\b\b\b\b\b\b\b\b\b\b\b\b\b\b\b\b\b\b\b\b\b\b\b\b\b\b\b\b\b\b\b\b\b\b\b\b\b\b\b\b\b\b\b\b\b\b\b\b\b\b\b\b\b\b\b\b\b\b\b\b\b\b\r",
      "1632/1688 [============================>.] - ETA: 8s - loss: 0.0430 - accuracy: 0.9869\b\b\b\b\b\b\b\b\b\b\b\b\b\b\b\b\b\b\b\b\b\b\b\b\b\b\b\b\b\b\b\b\b\b\b\b\b\b\b\b\b\b\b\b\b\b\b\b\b\b\b\b\b\b\b\b\b\b\b\b\b\b\b\b\b\b\b\b\b\b\b\b\b\b\b\b\b\b\b\b\b\b\b\b\b\b\r",
      "1633/1688 [============================>.] - ETA: 8s - loss: 0.0430 - accuracy: 0.9869\b\b\b\b\b\b\b\b\b\b\b\b\b\b\b\b\b\b\b\b\b\b\b\b\b\b\b\b\b\b\b\b\b\b\b\b\b\b\b\b\b\b\b\b\b\b\b\b\b\b\b\b\b\b\b\b\b\b\b\b\b\b\b\b\b\b\b\b\b\b\b\b\b\b\b\b\b\b\b\b\b\b\b\b\b\b\r",
      "1634/1688 [============================>.] - ETA: 8s - loss: 0.0430 - accuracy: 0.9869\b\b\b\b\b\b\b\b\b\b\b\b\b\b\b\b\b\b\b\b\b\b\b\b\b\b\b\b\b\b\b\b\b\b\b\b\b\b\b\b\b\b\b\b\b\b\b\b\b\b\b\b\b\b\b\b\b\b\b\b\b\b\b\b\b\b\b\b\b\b\b\b\b\b\b\b\b\b\b\b\b\b\b\b\b\b\r",
      "1635/1688 [============================>.] - ETA: 7s - loss: 0.0430 - accuracy: 0.9869\b\b\b\b\b\b\b\b\b\b\b\b\b\b\b\b\b\b\b\b\b\b\b\b\b\b\b\b\b\b\b\b\b\b\b\b\b\b\b\b\b\b\b\b\b\b\b\b\b\b\b\b\b\b\b\b\b\b\b\b\b\b\b\b\b\b\b\b\b\b\b\b\b\b\b\b\b\b\b\b\b\b\b\b\b\b\r",
      "1636/1688 [============================>.] - ETA: 7s - loss: 0.0430 - accuracy: 0.9869\b\b\b\b\b\b\b\b\b\b\b\b\b\b\b\b\b\b\b\b\b\b\b\b\b\b\b\b\b\b\b\b\b\b\b\b\b\b\b\b\b\b\b\b\b\b\b\b\b\b\b\b\b\b\b\b\b\b\b\b\b\b\b\b\b\b\b\b\b\b\b\b\b\b\b\b\b\b\b\b\b\b\b\b\b\b\r",
      "1637/1688 [============================>.] - ETA: 7s - loss: 0.0429 - accuracy: 0.9869\b\b\b\b\b\b\b\b\b\b\b\b\b\b\b\b\b\b\b\b\b\b\b\b\b\b\b\b\b\b\b\b\b\b\b\b\b\b\b\b\b\b\b\b\b\b\b\b\b\b\b\b\b\b\b\b\b\b\b\b\b\b\b\b\b\b\b\b\b\b\b\b\b\b\b\b\b\b\b\b\b\b\b\b\b\b\r",
      "1638/1688 [============================>.] - ETA: 7s - loss: 0.0429 - accuracy: 0.9869\b\b\b\b\b\b\b\b\b\b\b\b\b\b\b\b\b\b\b\b\b\b\b\b\b\b\b\b\b\b\b\b\b\b\b\b\b\b\b\b\b\b\b\b\b\b\b\b\b\b\b\b\b\b\b\b\b\b\b\b\b\b\b\b\b\b\b\b\b\b\b\b\b\b\b\b\b\b\b\b\b\b\b\b\b\b\r",
      "1639/1688 [============================>.] - ETA: 7s - loss: 0.0429 - accuracy: 0.9869\b\b\b\b\b\b\b\b\b\b\b\b\b\b\b\b\b\b\b\b\b\b\b\b\b\b\b\b\b\b\b\b\b\b\b\b\b\b\b\b\b\b\b\b\b\b\b\b\b\b\b\b\b\b\b\b\b\b\b\b\b\b\b\b\b\b\b\b\b\b\b\b\b\b\b\b\b\b\b\b\b\b\b\b\b\b\r",
      "1640/1688 [============================>.] - ETA: 7s - loss: 0.0429 - accuracy: 0.9869\b\b\b\b\b\b\b\b\b\b\b\b\b\b\b\b\b\b\b\b\b\b\b\b\b\b\b\b\b\b\b\b\b\b\b\b\b\b\b\b\b\b\b\b\b\b\b\b\b\b\b\b\b\b\b\b\b\b\b\b\b\b\b\b\b\b\b\b\b\b\b\b\b\b\b\b\b\b\b\b\b\b\b\b\b\b\r",
      "1641/1688 [============================>.] - ETA: 6s - loss: 0.0429 - accuracy: 0.9869\b\b\b\b\b\b\b\b\b\b\b\b\b\b\b\b\b\b\b\b\b\b\b\b\b\b\b\b\b\b\b\b\b\b\b\b\b\b\b\b\b\b\b\b\b\b\b\b\b\b\b\b\b\b\b\b\b\b\b\b\b\b\b\b\b\b\b\b\b\b\b\b\b\b\b\b\b\b\b\b\b\b\b\b\b\b\r",
      "1642/1688 [============================>.] - ETA: 6s - loss: 0.0428 - accuracy: 0.9869\b\b\b\b\b\b\b\b\b\b\b\b\b\b\b\b\b\b\b\b\b\b\b\b\b\b\b\b\b\b\b\b\b\b\b\b\b\b\b\b\b\b\b\b\b\b\b\b\b\b\b\b\b\b\b\b\b\b\b\b\b\b\b\b\b\b\b\b\b\b\b\b\b\b\b\b\b\b\b\b\b\b\b\b\b\b\r",
      "1643/1688 [============================>.] - ETA: 6s - loss: 0.0428 - accuracy: 0.9869\b\b\b\b\b\b\b\b\b\b\b\b\b\b\b\b\b\b\b\b\b\b\b\b\b\b\b\b\b\b\b\b\b\b\b\b\b\b\b\b\b\b\b\b\b\b\b\b\b\b\b\b\b\b\b\b\b\b\b\b\b\b\b\b\b\b\b\b\b\b\b\b\b\b\b\b\b\b\b\b\b\b\b\b\b\b\r",
      "1644/1688 [============================>.] - ETA: 6s - loss: 0.0428 - accuracy: 0.9869\b\b\b\b\b\b\b\b\b\b\b\b\b\b\b\b\b\b\b\b\b\b\b\b\b\b\b\b\b\b\b\b\b\b\b\b\b\b\b\b\b\b\b\b\b\b\b\b\b\b\b\b\b\b\b\b\b\b\b\b\b\b\b\b\b\b\b\b\b\b\b\b\b\b\b\b\b\b\b\b\b\b\b\b\b\b\r",
      "1645/1688 [============================>.] - ETA: 6s - loss: 0.0428 - accuracy: 0.9869\b\b\b\b\b\b\b\b\b\b\b\b\b\b\b\b\b\b\b\b\b\b\b\b\b\b\b\b\b\b\b\b\b\b\b\b\b\b\b\b\b\b\b\b\b\b\b\b\b\b\b\b\b\b\b\b\b\b\b\b\b\b\b\b\b\b\b\b\b\b\b\b\b\b\b\b\b\b\b\b\b\b\b\b\b\b\r",
      "1646/1688 [============================>.] - ETA: 6s - loss: 0.0428 - accuracy: 0.9869\b\b\b\b\b\b\b\b\b\b\b\b\b\b\b\b\b\b\b\b\b\b\b\b\b\b\b\b\b\b\b\b\b\b\b\b\b\b\b\b\b\b\b\b\b\b\b\b\b\b\b\b\b\b\b\b\b\b\b\b\b\b\b\b\b\b\b\b\b\b\b\b\b\b\b\b\b\b\b\b\b\b\b\b\b\b\r",
      "1647/1688 [============================>.] - ETA: 6s - loss: 0.0429 - accuracy: 0.9869\b\b\b\b\b\b\b\b\b\b\b\b\b\b\b\b\b\b\b\b\b\b\b\b\b\b\b\b\b\b\b\b\b\b\b\b\b\b\b\b\b\b\b\b\b\b\b\b\b\b\b\b\b\b\b\b\b\b\b\b\b\b\b\b\b\b\b\b\b\b\b\b\b\b\b\b\b\b\b\b\b\b\b\b\b\b\r",
      "1648/1688 [============================>.] - ETA: 5s - loss: 0.0429 - accuracy: 0.9869\b\b\b\b\b\b\b\b\b\b\b\b\b\b\b\b\b\b\b\b\b\b\b\b\b\b\b\b\b\b\b\b\b\b\b\b\b\b\b\b\b\b\b\b\b\b\b\b\b\b\b\b\b\b\b\b\b\b\b\b\b\b\b\b\b\b\b\b\b\b\b\b\b\b\b\b\b\b\b\b\b\b\b\b\b\b\r",
      "1649/1688 [============================>.] - ETA: 5s - loss: 0.0428 - accuracy: 0.9869\b\b\b\b\b\b\b\b\b\b\b\b\b\b\b\b\b\b\b\b\b\b\b\b\b\b\b\b\b\b\b\b\b\b\b\b\b\b\b\b\b\b\b\b\b\b\b\b\b\b\b\b\b\b\b\b\b\b\b\b\b\b\b\b\b\b\b\b\b\b\b\b\b\b\b\b\b\b\b\b\b\b\b\b\b\b\r",
      "1650/1688 [============================>.] - ETA: 5s - loss: 0.0428 - accuracy: 0.9869\b\b\b\b\b\b\b\b\b\b\b\b\b\b\b\b\b\b\b\b\b\b\b\b\b\b\b\b\b\b\b\b\b\b\b\b\b\b\b\b\b\b\b\b\b\b\b\b\b\b\b\b\b\b\b\b\b\b\b\b\b\b\b\b\b\b\b\b\b\b\b\b\b\b\b\b\b\b\b\b\b\b\b\b\b\b\r",
      "1651/1688 [============================>.] - ETA: 5s - loss: 0.0428 - accuracy: 0.9869\b\b\b\b\b\b\b\b\b\b\b\b\b\b\b\b\b\b\b\b\b\b\b\b\b\b\b\b\b\b\b\b\b\b\b\b\b\b\b\b\b\b\b\b\b\b\b\b\b\b\b\b\b\b\b\b\b\b\b\b\b\b\b\b\b\b\b\b\b\b\b\b\b\b\b\b\b\b\b\b\b\b\b\b\b\b\r",
      "1652/1688 [============================>.] - ETA: 5s - loss: 0.0429 - accuracy: 0.9869\b\b\b\b\b\b\b\b\b\b\b\b\b\b\b\b\b\b\b\b\b\b\b\b\b\b\b\b\b\b\b\b\b\b\b\b\b\b\b\b\b\b\b\b\b\b\b\b\b\b\b\b\b\b\b\b\b\b\b\b\b\b\b\b\b\b\b\b\b\b\b\b\b\b\b\b\b\b\b\b\b\b\b\b\b\b\r",
      "1653/1688 [============================>.] - ETA: 5s - loss: 0.0428 - accuracy: 0.9869\b\b\b\b\b\b\b\b\b\b\b\b\b\b\b\b\b\b\b\b\b\b\b\b\b\b\b\b\b\b\b\b\b\b\b\b\b\b\b\b\b\b\b\b\b\b\b\b\b\b\b\b\b\b\b\b\b\b\b\b\b\b\b\b\b\b\b\b\b\b\b\b\b\b\b\b\b\b\b\b\b\b\b\b\b\b\r",
      "1654/1688 [============================>.] - ETA: 5s - loss: 0.0428 - accuracy: 0.9869\b\b\b\b\b\b\b\b\b\b\b\b\b\b\b\b\b\b\b\b\b\b\b\b\b\b\b\b\b\b\b\b\b\b\b\b\b\b\b\b\b\b\b\b\b\b\b\b\b\b\b\b\b\b\b\b\b\b\b\b\b\b\b\b\b\b\b\b\b\b\b\b\b\b\b\b\b\b\b\b\b\b\b\b\b\b\r",
      "1655/1688 [============================>.] - ETA: 4s - loss: 0.0428 - accuracy: 0.9870\b\b\b\b\b\b\b\b\b\b\b\b\b\b\b\b\b\b\b\b\b\b\b\b\b\b\b\b\b\b\b\b\b\b\b\b\b\b\b\b\b\b\b\b\b\b\b\b\b\b\b\b\b\b\b\b\b\b\b\b\b\b\b\b\b\b\b\b\b\b\b\b\b\b\b\b\b\b\b\b\b\b\b\b\b\b\r",
      "1656/1688 [============================>.] - ETA: 4s - loss: 0.0428 - accuracy: 0.9869\b\b\b\b\b\b\b\b\b\b\b\b\b\b\b\b\b\b\b\b\b\b\b\b\b\b\b\b\b\b\b\b\b\b\b\b\b\b\b\b\b\b\b\b\b\b\b\b\b\b\b\b\b\b\b\b\b\b\b\b\b\b\b\b\b\b\b\b\b\b\b\b\b\b\b\b\b\b\b\b\b\b\b\b\b\b\r",
      "1657/1688 [============================>.] - ETA: 4s - loss: 0.0428 - accuracy: 0.9869\b\b\b\b\b\b\b\b\b\b\b\b\b\b\b\b\b\b\b\b\b\b\b\b\b\b\b\b\b\b\b\b\b\b\b\b\b\b\b\b\b\b\b\b\b\b\b\b\b\b\b\b\b\b\b\b\b\b\b\b\b\b\b\b\b\b\b\b\b\b\b\b\b\b\b\b\b\b\b\b\b\b\b\b\b\b\r",
      "1658/1688 [============================>.] - ETA: 4s - loss: 0.0429 - accuracy: 0.9869\b\b\b\b\b\b\b\b\b\b\b\b\b\b\b\b\b\b\b\b\b\b\b\b\b\b\b\b\b\b\b\b\b\b\b\b\b\b\b\b\b\b\b\b\b\b\b\b\b\b\b\b\b\b\b\b\b\b\b\b\b\b\b\b\b\b\b\b\b\b\b\b\b\b\b\b\b\b\b\b\b\b\b\b\b\b\r",
      "1659/1688 [============================>.] - ETA: 4s - loss: 0.0429 - accuracy: 0.9869\b\b\b\b\b\b\b\b\b\b\b\b\b\b\b\b\b\b\b\b\b\b\b\b\b\b\b\b\b\b\b\b\b\b\b\b\b\b\b\b\b\b\b\b\b\b\b\b\b\b\b\b\b\b\b\b\b\b\b\b\b\b\b\b\b\b\b\b\b\b\b\b\b\b\b\b\b\b\b\b\b\b\b\b\b\b\r",
      "1660/1688 [============================>.] - ETA: 4s - loss: 0.0428 - accuracy: 0.9869\b\b\b\b\b\b\b\b\b\b\b\b\b\b\b\b\b\b\b\b\b\b\b\b\b\b\b\b\b\b\b\b\b\b\b\b\b\b\b\b\b\b\b\b\b\b\b\b\b\b\b\b\b\b\b\b\b\b\b\b\b\b\b\b\b\b\b\b\b\b\b\b\b\b\b\b\b\b\b\b\b\b\b\b\b\b\r",
      "1661/1688 [============================>.] - ETA: 4s - loss: 0.0428 - accuracy: 0.9869\b\b\b\b\b\b\b\b\b\b\b\b\b\b\b\b\b\b\b\b\b\b\b\b\b\b\b\b\b\b\b\b\b\b\b\b\b\b\b\b\b\b\b\b\b\b\b\b\b\b\b\b\b\b\b\b\b\b\b\b\b\b\b\b\b\b\b\b\b\b\b\b\b\b\b\b\b\b\b\b\b\b\b\b\b\b\r",
      "1662/1688 [============================>.] - ETA: 3s - loss: 0.0428 - accuracy: 0.9869\b\b\b\b\b\b\b\b\b\b\b\b\b\b\b\b\b\b\b\b\b\b\b\b\b\b\b\b\b\b\b\b\b\b\b\b\b\b\b\b\b\b\b\b\b\b\b\b\b\b\b\b\b\b\b\b\b\b\b\b\b\b\b\b\b\b\b\b\b\b\b\b\b\b\b\b\b\b\b\b\b\b\b\b\b\b\r",
      "1663/1688 [============================>.] - ETA: 3s - loss: 0.0428 - accuracy: 0.9869\b\b\b\b\b\b\b\b\b\b\b\b\b\b\b\b\b\b\b\b\b\b\b\b\b\b\b\b\b\b\b\b\b\b\b\b\b\b\b\b\b\b\b\b\b\b\b\b\b\b\b\b\b\b\b\b\b\b\b\b\b\b\b\b\b\b\b\b\b\b\b\b\b\b\b\b\b\b\b\b\b\b\b\b\b\b\r",
      "1664/1688 [============================>.] - ETA: 3s - loss: 0.0428 - accuracy: 0.9869\b\b\b\b\b\b\b\b\b\b\b\b\b\b\b\b\b\b\b\b\b\b\b\b\b\b\b\b\b\b\b\b\b\b\b\b\b\b\b\b\b\b\b\b\b\b\b\b\b\b\b\b\b\b\b\b\b\b\b\b\b\b\b\b\b\b\b\b\b\b\b\b\b\b\b\b\b\b\b\b\b\b\b\b\b\b\r",
      "1665/1688 [============================>.] - ETA: 3s - loss: 0.0430 - accuracy: 0.9869\b\b\b\b\b\b\b\b\b\b\b\b\b\b\b\b\b\b\b\b\b\b\b\b\b\b\b\b\b\b\b\b\b\b\b\b\b\b\b\b\b\b\b\b\b\b\b\b\b\b\b\b\b\b\b\b\b\b\b\b\b\b\b\b\b\b\b\b\b\b\b\b\b\b\b\b\b\b\b\b\b\b\b\b\b\b\r",
      "1666/1688 [============================>.] - ETA: 3s - loss: 0.0430 - accuracy: 0.9869\b\b\b\b\b\b\b\b\b\b\b\b\b\b\b\b\b\b\b\b\b\b\b\b\b\b\b\b\b\b\b\b\b\b\b\b\b\b\b\b\b\b\b\b\b\b\b\b\b\b\b\b\b\b\b\b\b\b\b\b\b\b\b\b\b\b\b\b\b\b\b\b\b\b\b\b\b\b\b\b\b\b\b\b\b\b\r",
      "1667/1688 [============================>.] - ETA: 3s - loss: 0.0430 - accuracy: 0.9869\b\b\b\b\b\b\b\b\b\b\b\b\b\b\b\b\b\b\b\b\b\b\b\b\b\b\b\b\b\b\b\b\b\b\b\b\b\b\b\b\b\b\b\b\b\b\b\b\b\b\b\b\b\b\b\b\b\b\b\b\b\b\b\b\b\b\b\b\b\b\b\b\b\b\b\b\b\b\b\b\b\b\b\b\b\b\r",
      "1668/1688 [============================>.] - ETA: 2s - loss: 0.0431 - accuracy: 0.9869\b\b\b\b\b\b\b\b\b\b\b\b\b\b\b\b\b\b\b\b\b\b\b\b\b\b\b\b\b\b\b\b\b\b\b\b\b\b\b\b\b\b\b\b\b\b\b\b\b\b\b\b\b\b\b\b\b\b\b\b\b\b\b\b\b\b\b\b\b\b\b\b\b\b\b\b\b\b\b\b\b\b\b\b\b\b\r",
      "1669/1688 [============================>.] - ETA: 2s - loss: 0.0430 - accuracy: 0.9869\b\b\b\b\b\b\b\b\b\b\b\b\b\b\b\b\b\b\b\b\b\b\b\b\b\b\b\b\b\b\b\b\b\b\b\b\b\b\b\b\b\b\b\b\b\b\b\b\b\b\b\b\b\b\b\b\b\b\b\b\b\b\b\b\b\b\b\b\b\b\b\b\b\b\b\b\b\b\b\b\b\b\b\b\b\b\r",
      "1670/1688 [============================>.] - ETA: 2s - loss: 0.0430 - accuracy: 0.9869\b\b\b\b\b\b\b\b\b\b\b\b\b\b\b\b\b\b\b\b\b\b\b\b\b\b\b\b\b\b\b\b\b\b\b\b\b\b\b\b\b\b\b\b\b\b\b\b\b\b\b\b\b\b\b\b\b\b\b\b\b\b\b\b\b\b\b\b\b\b\b\b\b\b\b\b\b\b\b\b\b\b\b\b\b\b\r",
      "1671/1688 [============================>.] - ETA: 2s - loss: 0.0430 - accuracy: 0.9869\b\b\b\b\b\b\b\b\b\b\b\b\b\b\b\b\b\b\b\b\b\b\b\b\b\b\b\b\b\b\b\b\b\b\b\b\b\b\b\b\b\b\b\b\b\b\b\b\b\b\b\b\b\b\b\b\b\b\b\b\b\b\b\b\b\b\b\b\b\b\b\b\b\b\b\b\b\b\b\b\b\b\b\b\b\b\r",
      "1672/1688 [============================>.] - ETA: 2s - loss: 0.0430 - accuracy: 0.9869\b\b\b\b\b\b\b\b\b\b\b\b\b\b\b\b\b\b\b\b\b\b\b\b\b\b\b\b\b\b\b\b\b\b\b\b\b\b\b\b\b\b\b\b\b\b\b\b\b\b\b\b\b\b\b\b\b\b\b\b\b\b\b\b\b\b\b\b\b\b\b\b\b\b\b\b\b\b\b\b\b\b\b\b\b\b\r",
      "1673/1688 [============================>.] - ETA: 2s - loss: 0.0430 - accuracy: 0.9869\b\b\b\b\b\b\b\b\b\b\b\b\b\b\b\b\b\b\b\b\b\b\b\b\b\b\b\b\b\b\b\b\b\b\b\b\b\b\b\b\b\b\b\b\b\b\b\b\b\b\b\b\b\b\b\b\b\b\b\b\b\b\b\b\b\b\b\b\b\b\b\b\b\b\b\b\b\b\b\b\b\b\b\b\b\b\r",
      "1674/1688 [============================>.] - ETA: 2s - loss: 0.0430 - accuracy: 0.9869\b\b\b\b\b\b\b\b\b\b\b\b\b\b\b\b\b\b\b\b\b\b\b\b\b\b\b\b\b\b\b\b\b\b\b\b\b\b\b\b\b\b\b\b\b\b\b\b\b\b\b\b\b\b\b\b\b\b\b\b\b\b\b\b\b\b\b\b\b\b\b\b\b\b\b\b\b\b\b\b\b\b\b\b\b\b\r",
      "1675/1688 [============================>.] - ETA: 1s - loss: 0.0430 - accuracy: 0.9869\b\b\b\b\b\b\b\b\b\b\b\b\b\b\b\b\b\b\b\b\b\b\b\b\b\b\b\b\b\b\b\b\b\b\b\b\b\b\b\b\b\b\b\b\b\b\b\b\b\b\b\b\b\b\b\b\b\b\b\b\b\b\b\b\b\b\b\b\b\b\b\b\b\b\b\b\b\b\b\b\b\b\b\b\b\b\r",
      "1676/1688 [============================>.] - ETA: 1s - loss: 0.0430 - accuracy: 0.9869\b\b\b\b\b\b\b\b\b\b\b\b\b\b\b\b\b\b\b\b\b\b\b\b\b\b\b\b\b\b\b\b\b\b\b\b\b\b\b\b\b\b\b\b\b\b\b\b\b\b\b\b\b\b\b\b\b\b\b\b\b\b\b\b\b\b\b\b\b\b\b\b\b\b\b\b\b\b\b\b\b\b\b\b\b\b\r",
      "1677/1688 [============================>.] - ETA: 1s - loss: 0.0430 - accuracy: 0.9869\b\b\b\b\b\b\b\b\b\b\b\b\b\b\b\b\b\b\b\b\b\b\b\b\b\b\b\b\b\b\b\b\b\b\b\b\b\b\b\b\b\b\b\b\b\b\b\b\b\b\b\b\b\b\b\b\b\b\b\b\b\b\b\b\b\b\b\b\b\b\b\b\b\b\b\b\b\b\b\b\b\b\b\b\b\b\r",
      "1678/1688 [============================>.] - ETA: 1s - loss: 0.0430 - accuracy: 0.9869\b\b\b\b\b\b\b\b\b\b\b\b\b\b\b\b\b\b\b\b\b\b\b\b\b\b\b\b\b\b\b\b\b\b\b\b\b\b\b\b\b\b\b\b\b\b\b\b\b\b\b\b\b\b\b\b\b\b\b\b\b\b\b\b\b\b\b\b\b\b\b\b\b\b\b\b\b\b\b\b\b\b\b\b\b\b\r",
      "1679/1688 [============================>.] - ETA: 1s - loss: 0.0430 - accuracy: 0.9869\b\b\b\b\b\b\b\b\b\b\b\b\b\b\b\b\b\b\b\b\b\b\b\b\b\b\b\b\b\b\b\b\b\b\b\b\b\b\b\b\b\b\b\b\b\b\b\b\b\b\b\b\b\b\b\b\b\b\b\b\b\b\b\b\b\b\b\b\b\b\b\b\b\b\b\b\b\b\b\b\b\b\b\b\b\b\r",
      "1680/1688 [============================>.] - ETA: 1s - loss: 0.0431 - accuracy: 0.9869\b\b\b\b\b\b\b\b\b\b\b\b\b\b\b\b\b\b\b\b\b\b\b\b\b\b\b\b\b\b\b\b\b\b\b\b\b\b\b\b\b\b\b\b\b\b\b\b\b\b\b\b\b\b\b\b\b\b\b\b\b\b\b\b\b\b\b\b\b\b\b\b\b\b\b\b\b\b\b\b\b\b\b\b\b\b\r",
      "1681/1688 [============================>.] - ETA: 1s - loss: 0.0431 - accuracy: 0.9869\b\b\b\b\b\b\b\b\b\b\b\b\b\b\b\b\b\b\b\b\b\b\b\b\b\b\b\b\b\b\b\b\b\b\b\b\b\b\b\b\b\b\b\b\b\b\b\b\b\b\b\b\b\b\b\b\b\b\b\b\b\b\b\b\b\b\b\b\b\b\b\b\b\b\b\b\b\b\b\b\b\b\b\b\b\b\r",
      "1682/1688 [============================>.] - ETA: 0s - loss: 0.0431 - accuracy: 0.9869\b\b\b\b\b\b\b\b\b\b\b\b\b\b\b\b\b\b\b\b\b\b\b\b\b\b\b\b\b\b\b\b\b\b\b\b\b\b\b\b\b\b\b\b\b\b\b\b\b\b\b\b\b\b\b\b\b\b\b\b\b\b\b\b\b\b\b\b\b\b\b\b\b\b\b\b\b\b\b\b\b\b\b\b\b\b\r",
      "1683/1688 [============================>.] - ETA: 0s - loss: 0.0431 - accuracy: 0.9869\b\b\b\b\b\b\b\b\b\b\b\b\b\b\b\b\b\b\b\b\b\b\b\b\b\b\b\b\b\b\b\b\b\b\b\b\b\b\b\b\b\b\b\b\b\b\b\b\b\b\b\b\b\b\b\b\b\b\b\b\b\b\b\b\b\b\b\b\b\b\b\b\b\b\b\b\b\b\b\b\b\b\b\b\b\b\r",
      "1684/1688 [============================>.] - ETA: 0s - loss: 0.0431 - accuracy: 0.9869\b\b\b\b\b\b\b\b\b\b\b\b\b\b\b\b\b\b\b\b\b\b\b\b\b\b\b\b\b\b\b\b\b\b\b\b\b\b\b\b\b\b\b\b\b\b\b\b\b\b\b\b\b\b\b\b\b\b\b\b\b\b\b\b\b\b\b\b\b\b\b\b\b\b\b\b\b\b\b\b\b\b\b\b\b\b\r",
      "1685/1688 [============================>.] - ETA: 0s - loss: 0.0431 - accuracy: 0.9869\b\b\b\b\b\b\b\b\b\b\b\b\b\b\b\b\b\b\b\b\b\b\b\b\b\b\b\b\b\b\b\b\b\b\b\b\b\b\b\b\b\b\b\b\b\b\b\b\b\b\b\b\b\b\b\b\b\b\b\b\b\b\b\b\b\b\b\b\b\b\b\b\b\b\b\b\b\b\b\b\b\b\b\b\b\b\r",
      "1686/1688 [============================>.] - ETA: 0s - loss: 0.0431 - accuracy: 0.9869\b\b\b\b\b\b\b\b\b\b\b\b\b\b\b\b\b\b\b\b\b\b\b\b\b\b\b\b\b\b\b\b\b\b\b\b\b\b\b\b\b\b\b\b\b\b\b\b\b\b\b\b\b\b\b\b\b\b\b\b\b\b\b\b\b\b\b\b\b\b\b\b\b\b\b\b\b\b\b\b\b\b\b\b\b\b\r",
      "1687/1688 [============================>.] - ETA: 0s - loss: 0.0430 - accuracy: 0.9869\b\b\b\b\b\b\b\b\b\b\b\b\b\b\b\b\b\b\b\b\b\b\b\b\b\b\b\b\b\b\b\b\b\b\b\b\b\b\b\b\b\b\b\b\b\b\b\b\b\b\b\b\b\b\b\b\b\b\b\b\b\b\b\b\b\b\b\b\b\b\b\b\b\b\b\b\b\b\b\b\b\b\b\b\b\b\r",
      "1688/1688 [==============================] - ETA: 0s - loss: 0.0430 - accuracy: 0.9869\n",
      "Epoch 5: val_loss did not improve from 0.02189\n",
      "\b\b\b\b\b\b\b\b\b\b\b\b\b\b\b\b\b\b\b\b\b\b\b\b\b\b\b\b\b\b\b\b\b\b\b\b\b\b\b\b\b\b\b\b\b\b\b\b\b\b\b\b\b\b\b\b\b\b\b\b\b\b\b\b\b\b\b\b\b\b\b\b\b\b\b\b\b\b\b\b\b\b\b\b\b\b\r",
      "1688/1688 [==============================] - 260s 154ms/step - loss: 0.0430 - accuracy: 0.9869 - val_loss: 0.0221 - val_accuracy: 0.9918\n",
      "\r",
      "1/1 [==============================] - ETA: 0s\b\b\b\b\b\b\b\b\b\b\b\b\b\b\b\b\b\b\b\b\b\b\b\b\b\b\b\b\b\b\b\b\b\b\b\b\b\b\b\b\b\b\b\b\b\b\r",
      "1/1 [==============================] - 0s 126ms/step\n",
      "WARNING:absl:Found untraced functions such as _jit_compiled_convolution_op, _jit_compiled_convolution_op, _jit_compiled_convolution_op, _jit_compiled_convolution_op while saving (showing 4 of 4). These functions will not be directly callable after loading.\n",
      "INFO:tensorflow:Assets written to: /tmp/tmpq5xgdz12/model/data/model/assets\n",
      "INFO:tensorflow:Assets written to: /tmp/tmpq5xgdz12/model/data/model/assets\n",
      "WARNING:absl:Found untraced functions such as _jit_compiled_convolution_op, _jit_compiled_convolution_op, _jit_compiled_convolution_op, _jit_compiled_convolution_op while saving (showing 4 of 4). These functions will not be directly callable after loading.\n",
      "INFO:tensorflow:Assets written to: ram://8b3c4682-8f23-4bd9-90fa-2d5bc9e1ddef/assets\n",
      "INFO:tensorflow:Assets written to: ram://8b3c4682-8f23-4bd9-90fa-2d5bc9e1ddef/assets\n"
     ]
    }
   ],
   "source": [
    "\"\"\"\n",
    "Description: integrating mlflow for auto logging \n",
    "\"\"\"\n",
    "with mlflow.start_run(): #run_name='MLFLOWMnistAIShield'\n",
    "    # Enable auto-logging to MLflow to capture TensorBoard metrics.\n",
    "    mlflow.tensorflow.autolog()\n",
    "    run_id=mlflow.active_run().info.run_id\n",
    "    print(\"Active run id is : {}\".format(run_id))\n",
    "    model,history=train_model(model,X_train, y_train , X_test, y_test,batch_size=32,epochs=5,filename='mnist_model_for_ais_1')\n",
    "    \n",
    "    class SklearnModelWrapper(mlflow.pyfunc.PythonModel):\n",
    "          def __init__(self, model):\n",
    "            self.model = model\n",
    "            \n",
    "    wrappedModel = SklearnModelWrapper(model)\n",
    "    \n",
    "    conda_env =  _mlflow_conda_env(\n",
    "        additional_conda_deps=None,\n",
    "        additional_pip_deps=[\"cloudpickle=={}\".format(cloudpickle.__version__), \"scikit-learn=={}\".format(sklearn.__version__)],\n",
    "        additional_conda_channels=None,\n",
    "    )\n",
    "    \n",
    "    mlflow.pyfunc.log_model(\"MnistModelAIS\", python_model=wrappedModel, conda_env=conda_env)\n",
    "    \n",
    "    # get trained model path\n",
    "    artifact_path=mlflow.get_artifact_uri('model')"
   ]
  },
  {
   "cell_type": "code",
   "execution_count": 0,
   "metadata": {
    "application/vnd.databricks.v1+cell": {
     "cellMetadata": {
      "byteLimit": 2048000,
      "rowLimit": 10000
     },
     "inputWidgets": {},
     "nuid": "677b891d-e956-438d-9768-2ddf1bc0d1bf",
     "showTitle": false,
     "title": ""
    }
   },
   "outputs": [
    {
     "name": "stdout",
     "output_type": "stream",
     "text": [
      "Registered model 'MnistClassificationAIS' already exists. Creating a new version of this model...\n",
      "2023/03/30 06:02:00 INFO mlflow.tracking._model_registry.client: Waiting up to 300 seconds for model version to finish creation.                     Model name: MnistClassificationAIS, version 17\n",
      "Created version '17' of model 'MnistClassificationAIS'.\n"
     ]
    }
   ],
   "source": [
    "\"\"\"\n",
    "Description: Registering the Model on model registry\n",
    "\"\"\"\n",
    "\n",
    "model_name = \"MnistClassificationAIS\"\n",
    "model_version = mlflow.register_model(f\"runs:/{run_id}/MnistModelAIS\", model_name)\n",
    " \n",
    "# Registering the model takes a few seconds, so add a small delay\n",
    "time.sleep(15)"
   ]
  },
  {
   "cell_type": "code",
   "execution_count": 0,
   "metadata": {
    "application/vnd.databricks.v1+cell": {
     "cellMetadata": {
      "byteLimit": 2048000,
      "rowLimit": 10000
     },
     "inputWidgets": {},
     "nuid": "0e4aa452-1d76-4c0c-9023-606cf5565ef3",
     "showTitle": false,
     "title": ""
    }
   },
   "outputs": [
    {
     "name": "stdout",
     "output_type": "stream",
     "text": [
      "Out[22]: <ModelVersion: creation_timestamp=1680156119929, current_stage='Production', description='', last_updated_timestamp=1680156141250, name='MnistClassificationAIS', run_id='472936035fd340e8b8c9dd02965ce96e', run_link='', source='dbfs:/databricks/mlflow-tracking/1123443484504986/472936035fd340e8b8c9dd02965ce96e/artifacts/MnistModelAIS', status='READY', status_message='', tags={}, user_id='627414901360264', version='17'>"
     ]
    }
   ],
   "source": [
    "\"\"\"\n",
    "Description: Pushing the Registered model into Production Stage\n",
    "\"\"\"\n",
    "\n",
    "from mlflow.tracking import MlflowClient\n",
    " \n",
    "client = MlflowClient()\n",
    "client.transition_model_version_stage(\n",
    "  name=model_name,\n",
    "  version=model_version.version,\n",
    "  stage=\"Production\",\n",
    ")"
   ]
  },
  {
   "cell_type": "code",
   "execution_count": 0,
   "metadata": {
    "application/vnd.databricks.v1+cell": {
     "cellMetadata": {
      "byteLimit": 2048000,
      "rowLimit": 10000
     },
     "inputWidgets": {},
     "nuid": "dc27cb1a-06c9-486c-a79a-dc028e2e3701",
     "showTitle": false,
     "title": ""
    }
   },
   "outputs": [],
   "source": [
    "\"\"\"\n",
    "Description: loading model form model registry\n",
    "\"\"\"\n",
    "modelupload = mlflow.pyfunc.load_model(f\"models:/{model_name}/production\")"
   ]
  },
  {
   "cell_type": "code",
   "execution_count": 0,
   "metadata": {
    "application/vnd.databricks.v1+cell": {
     "cellMetadata": {
      "byteLimit": 2048000,
      "rowLimit": 10000
     },
     "inputWidgets": {},
     "nuid": "cce63a3c-622a-42b3-8193-35404005de06",
     "showTitle": false,
     "title": ""
    }
   },
   "outputs": [
    {
     "name": "stdout",
     "output_type": "stream",
     "text": [
      "\r",
      "  1/188 [..............................] - ETA: 9s\b\b\b\b\b\b\b\b\b\b\b\b\b\b\b\b\b\b\b\b\b\b\b\b\b\b\b\b\b\b\b\b\b\b\b\b\b\b\b\b\b\b\b\b\b\b\b\b\b\b\r",
      "  3/188 [..............................] - ETA: 5s\b\b\b\b\b\b\b\b\b\b\b\b\b\b\b\b\b\b\b\b\b\b\b\b\b\b\b\b\b\b\b\b\b\b\b\b\b\b\b\b\b\b\b\b\b\b\b\b\b\b\r",
      "  5/188 [..............................] - ETA: 4s\b\b\b\b\b\b\b\b\b\b\b\b\b\b\b\b\b\b\b\b\b\b\b\b\b\b\b\b\b\b\b\b\b\b\b\b\b\b\b\b\b\b\b\b\b\b\b\b\b\b\r",
      "  7/188 [>.............................] - ETA: 4s\b\b\b\b\b\b\b\b\b\b\b\b\b\b\b\b\b\b\b\b\b\b\b\b\b\b\b\b\b\b\b\b\b\b\b\b\b\b\b\b\b\b\b\b\b\b\b\b\b\b\r",
      "  9/188 [>.............................] - ETA: 4s\b\b\b\b\b\b\b\b\b\b\b\b\b\b\b\b\b\b\b\b\b\b\b\b\b\b\b\b\b\b\b\b\b\b\b\b\b\b\b\b\b\b\b\b\b\b\b\b\b\b\r",
      " 11/188 [>.............................] - ETA: 5s\b\b\b\b\b\b\b\b\b\b\b\b\b\b\b\b\b\b\b\b\b\b\b\b\b\b\b\b\b\b\b\b\b\b\b\b\b\b\b\b\b\b\b\b\b\b\b\b\b\b\r",
      " 13/188 [=>............................] - ETA: 5s\b\b\b\b\b\b\b\b\b\b\b\b\b\b\b\b\b\b\b\b\b\b\b\b\b\b\b\b\b\b\b\b\b\b\b\b\b\b\b\b\b\b\b\b\b\b\b\b\b\b\r",
      " 15/188 [=>............................] - ETA: 5s\b\b\b\b\b\b\b\b\b\b\b\b\b\b\b\b\b\b\b\b\b\b\b\b\b\b\b\b\b\b\b\b\b\b\b\b\b\b\b\b\b\b\b\b\b\b\b\b\b\b\r",
      " 17/188 [=>............................] - ETA: 5s\b\b\b\b\b\b\b\b\b\b\b\b\b\b\b\b\b\b\b\b\b\b\b\b\b\b\b\b\b\b\b\b\b\b\b\b\b\b\b\b\b\b\b\b\b\b\b\b\b\b\r",
      " 19/188 [==>...........................] - ETA: 5s\b\b\b\b\b\b\b\b\b\b\b\b\b\b\b\b\b\b\b\b\b\b\b\b\b\b\b\b\b\b\b\b\b\b\b\b\b\b\b\b\b\b\b\b\b\b\b\b\b\b\r",
      " 21/188 [==>...........................] - ETA: 5s\b\b\b\b\b\b\b\b\b\b\b\b\b\b\b\b\b\b\b\b\b\b\b\b\b\b\b\b\b\b\b\b\b\b\b\b\b\b\b\b\b\b\b\b\b\b\b\b\b\b\r",
      " 23/188 [==>...........................] - ETA: 4s\b\b\b\b\b\b\b\b\b\b\b\b\b\b\b\b\b\b\b\b\b\b\b\b\b\b\b\b\b\b\b\b\b\b\b\b\b\b\b\b\b\b\b\b\b\b\b\b\b\b\r",
      " 25/188 [==>...........................] - ETA: 4s\b\b\b\b\b\b\b\b\b\b\b\b\b\b\b\b\b\b\b\b\b\b\b\b\b\b\b\b\b\b\b\b\b\b\b\b\b\b\b\b\b\b\b\b\b\b\b\b\b\b\r",
      " 27/188 [===>..........................] - ETA: 4s\b\b\b\b\b\b\b\b\b\b\b\b\b\b\b\b\b\b\b\b\b\b\b\b\b\b\b\b\b\b\b\b\b\b\b\b\b\b\b\b\b\b\b\b\b\b\b\b\b\b\r",
      " 29/188 [===>..........................] - ETA: 4s\b\b\b\b\b\b\b\b\b\b\b\b\b\b\b\b\b\b\b\b\b\b\b\b\b\b\b\b\b\b\b\b\b\b\b\b\b\b\b\b\b\b\b\b\b\b\b\b\b\b\r",
      " 31/188 [===>..........................] - ETA: 4s\b\b\b\b\b\b\b\b\b\b\b\b\b\b\b\b\b\b\b\b\b\b\b\b\b\b\b\b\b\b\b\b\b\b\b\b\b\b\b\b\b\b\b\b\b\b\b\b\b\b\r",
      " 33/188 [====>.........................] - ETA: 4s\b\b\b\b\b\b\b\b\b\b\b\b\b\b\b\b\b\b\b\b\b\b\b\b\b\b\b\b\b\b\b\b\b\b\b\b\b\b\b\b\b\b\b\b\b\b\b\b\b\b\r",
      " 35/188 [====>.........................] - ETA: 4s\b\b\b\b\b\b\b\b\b\b\b\b\b\b\b\b\b\b\b\b\b\b\b\b\b\b\b\b\b\b\b\b\b\b\b\b\b\b\b\b\b\b\b\b\b\b\b\b\b\b\r",
      " 37/188 [====>.........................] - ETA: 4s\b\b\b\b\b\b\b\b\b\b\b\b\b\b\b\b\b\b\b\b\b\b\b\b\b\b\b\b\b\b\b\b\b\b\b\b\b\b\b\b\b\b\b\b\b\b\b\b\b\b\r",
      " 39/188 [=====>........................] - ETA: 4s\b\b\b\b\b\b\b\b\b\b\b\b\b\b\b\b\b\b\b\b\b\b\b\b\b\b\b\b\b\b\b\b\b\b\b\b\b\b\b\b\b\b\b\b\b\b\b\b\b\b\r",
      " 41/188 [=====>........................] - ETA: 4s\b\b\b\b\b\b\b\b\b\b\b\b\b\b\b\b\b\b\b\b\b\b\b\b\b\b\b\b\b\b\b\b\b\b\b\b\b\b\b\b\b\b\b\b\b\b\b\b\b\b\r",
      " 43/188 [=====>........................] - ETA: 4s\b\b\b\b\b\b\b\b\b\b\b\b\b\b\b\b\b\b\b\b\b\b\b\b\b\b\b\b\b\b\b\b\b\b\b\b\b\b\b\b\b\b\b\b\b\b\b\b\b\b\r",
      " 45/188 [======>.......................] - ETA: 4s\b\b\b\b\b\b\b\b\b\b\b\b\b\b\b\b\b\b\b\b\b\b\b\b\b\b\b\b\b\b\b\b\b\b\b\b\b\b\b\b\b\b\b\b\b\b\b\b\b\b\r",
      " 47/188 [======>.......................] - ETA: 4s\b\b\b\b\b\b\b\b\b\b\b\b\b\b\b\b\b\b\b\b\b\b\b\b\b\b\b\b\b\b\b\b\b\b\b\b\b\b\b\b\b\b\b\b\b\b\b\b\b\b\r",
      " 49/188 [======>.......................] - ETA: 4s\b\b\b\b\b\b\b\b\b\b\b\b\b\b\b\b\b\b\b\b\b\b\b\b\b\b\b\b\b\b\b\b\b\b\b\b\b\b\b\b\b\b\b\b\b\b\b\b\b\b\r",
      " 51/188 [=======>......................] - ETA: 4s\b\b\b\b\b\b\b\b\b\b\b\b\b\b\b\b\b\b\b\b\b\b\b\b\b\b\b\b\b\b\b\b\b\b\b\b\b\b\b\b\b\b\b\b\b\b\b\b\b\b\r",
      " 53/188 [=======>......................] - ETA: 4s\b\b\b\b\b\b\b\b\b\b\b\b\b\b\b\b\b\b\b\b\b\b\b\b\b\b\b\b\b\b\b\b\b\b\b\b\b\b\b\b\b\b\b\b\b\b\b\b\b\b\r",
      " 55/188 [=======>......................] - ETA: 4s\b\b\b\b\b\b\b\b\b\b\b\b\b\b\b\b\b\b\b\b\b\b\b\b\b\b\b\b\b\b\b\b\b\b\b\b\b\b\b\b\b\b\b\b\b\b\b\b\b\b\r",
      " 57/188 [========>.....................] - ETA: 4s\b\b\b\b\b\b\b\b\b\b\b\b\b\b\b\b\b\b\b\b\b\b\b\b\b\b\b\b\b\b\b\b\b\b\b\b\b\b\b\b\b\b\b\b\b\b\b\b\b\b\r",
      " 59/188 [========>.....................] - ETA: 3s\b\b\b\b\b\b\b\b\b\b\b\b\b\b\b\b\b\b\b\b\b\b\b\b\b\b\b\b\b\b\b\b\b\b\b\b\b\b\b\b\b\b\b\b\b\b\b\b\b\b\r",
      " 61/188 [========>.....................] - ETA: 3s\b\b\b\b\b\b\b\b\b\b\b\b\b\b\b\b\b\b\b\b\b\b\b\b\b\b\b\b\b\b\b\b\b\b\b\b\b\b\b\b\b\b\b\b\b\b\b\b\b\b\r",
      " 63/188 [=========>....................] - ETA: 3s\b\b\b\b\b\b\b\b\b\b\b\b\b\b\b\b\b\b\b\b\b\b\b\b\b\b\b\b\b\b\b\b\b\b\b\b\b\b\b\b\b\b\b\b\b\b\b\b\b\b\r",
      " 65/188 [=========>....................] - ETA: 3s\b\b\b\b\b\b\b\b\b\b\b\b\b\b\b\b\b\b\b\b\b\b\b\b\b\b\b\b\b\b\b\b\b\b\b\b\b\b\b\b\b\b\b\b\b\b\b\b\b\b\r",
      " 67/188 [=========>....................] - ETA: 3s\b\b\b\b\b\b\b\b\b\b\b\b\b\b\b\b\b\b\b\b\b\b\b\b\b\b\b\b\b\b\b\b\b\b\b\b\b\b\b\b\b\b\b\b\b\b\b\b\b\b\r",
      " 69/188 [==========>...................] - ETA: 3s\b\b\b\b\b\b\b\b\b\b\b\b\b\b\b\b\b\b\b\b\b\b\b\b\b\b\b\b\b\b\b\b\b\b\b\b\b\b\b\b\b\b\b\b\b\b\b\b\b\b\r",
      " 71/188 [==========>...................] - ETA: 3s\b\b\b\b\b\b\b\b\b\b\b\b\b\b\b\b\b\b\b\b\b\b\b\b\b\b\b\b\b\b\b\b\b\b\b\b\b\b\b\b\b\b\b\b\b\b\b\b\b\b\r",
      " 73/188 [==========>...................] - ETA: 3s\b\b\b\b\b\b\b\b\b\b\b\b\b\b\b\b\b\b\b\b\b\b\b\b\b\b\b\b\b\b\b\b\b\b\b\b\b\b\b\b\b\b\b\b\b\b\b\b\b\b\r",
      " 75/188 [==========>...................] - ETA: 3s\b\b\b\b\b\b\b\b\b\b\b\b\b\b\b\b\b\b\b\b\b\b\b\b\b\b\b\b\b\b\b\b\b\b\b\b\b\b\b\b\b\b\b\b\b\b\b\b\b\b\r",
      " 77/188 [===========>..................] - ETA: 3s\b\b\b\b\b\b\b\b\b\b\b\b\b\b\b\b\b\b\b\b\b\b\b\b\b\b\b\b\b\b\b\b\b\b\b\b\b\b\b\b\b\b\b\b\b\b\b\b\b\b\r",
      " 79/188 [===========>..................] - ETA: 3s\b\b\b\b\b\b\b\b\b\b\b\b\b\b\b\b\b\b\b\b\b\b\b\b\b\b\b\b\b\b\b\b\b\b\b\b\b\b\b\b\b\b\b\b\b\b\b\b\b\b\r",
      " 81/188 [===========>..................] - ETA: 3s\b\b\b\b\b\b\b\b\b\b\b\b\b\b\b\b\b\b\b\b\b\b\b\b\b\b\b\b\b\b\b\b\b\b\b\b\b\b\b\b\b\b\b\b\b\b\b\b\b\b\r",
      " 83/188 [============>.................] - ETA: 3s\b\b\b\b\b\b\b\b\b\b\b\b\b\b\b\b\b\b\b\b\b\b\b\b\b\b\b\b\b\b\b\b\b\b\b\b\b\b\b\b\b\b\b\b\b\b\b\b\b\b\r",
      " 85/188 [============>.................] - ETA: 3s\b\b\b\b\b\b\b\b\b\b\b\b\b\b\b\b\b\b\b\b\b\b\b\b\b\b\b\b\b\b\b\b\b\b\b\b\b\b\b\b\b\b\b\b\b\b\b\b\b\b\r",
      " 87/188 [============>.................] - ETA: 3s\b\b\b\b\b\b\b\b\b\b\b\b\b\b\b\b\b\b\b\b\b\b\b\b\b\b\b\b\b\b\b\b\b\b\b\b\b\b\b\b\b\b\b\b\b\b\b\b\b\b\r",
      " 89/188 [=============>................] - ETA: 3s\b\b\b\b\b\b\b\b\b\b\b\b\b\b\b\b\b\b\b\b\b\b\b\b\b\b\b\b\b\b\b\b\b\b\b\b\b\b\b\b\b\b\b\b\b\b\b\b\b\b\r",
      " 91/188 [=============>................] - ETA: 2s\b\b\b\b\b\b\b\b\b\b\b\b\b\b\b\b\b\b\b\b\b\b\b\b\b\b\b\b\b\b\b\b\b\b\b\b\b\b\b\b\b\b\b\b\b\b\b\b\b\b\r",
      " 93/188 [=============>................] - ETA: 2s\b\b\b\b\b\b\b\b\b\b\b\b\b\b\b\b\b\b\b\b\b\b\b\b\b\b\b\b\b\b\b\b\b\b\b\b\b\b\b\b\b\b\b\b\b\b\b\b\b\b\r",
      " 95/188 [==============>...............] - ETA: 2s\b\b\b\b\b\b\b\b\b\b\b\b\b\b\b\b\b\b\b\b\b\b\b\b\b\b\b\b\b\b\b\b\b\b\b\b\b\b\b\b\b\b\b\b\b\b\b\b\b\b\r",
      " 97/188 [==============>...............] - ETA: 2s\b\b\b\b\b\b\b\b\b\b\b\b\b\b\b\b\b\b\b\b\b\b\b\b\b\b\b\b\b\b\b\b\b\b\b\b\b\b\b\b\b\b\b\b\b\b\b\b\b\b\r",
      " 99/188 [==============>...............] - ETA: 2s\b\b\b\b\b\b\b\b\b\b\b\b\b\b\b\b\b\b\b\b\b\b\b\b\b\b\b\b\b\b\b\b\b\b\b\b\b\b\b\b\b\b\b\b\b\b\b\b\b\b\r",
      "101/188 [===============>..............] - ETA: 2s\b\b\b\b\b\b\b\b\b\b\b\b\b\b\b\b\b\b\b\b\b\b\b\b\b\b\b\b\b\b\b\b\b\b\b\b\b\b\b\b\b\b\b\b\b\b\b\b\b\b\r",
      "103/188 [===============>..............] - ETA: 2s\b\b\b\b\b\b\b\b\b\b\b\b\b\b\b\b\b\b\b\b\b\b\b\b\b\b\b\b\b\b\b\b\b\b\b\b\b\b\b\b\b\b\b\b\b\b\b\b\b\b\r",
      "105/188 [===============>..............] - ETA: 2s\b\b\b\b\b\b\b\b\b\b\b\b\b\b\b\b\b\b\b\b\b\b\b\b\b\b\b\b\b\b\b\b\b\b\b\b\b\b\b\b\b\b\b\b\b\b\b\b\b\b\r",
      "107/188 [================>.............] - ETA: 2s\b\b\b\b\b\b\b\b\b\b\b\b\b\b\b\b\b\b\b\b\b\b\b\b\b\b\b\b\b\b\b\b\b\b\b\b\b\b\b\b\b\b\b\b\b\b\b\b\b\b\r",
      "109/188 [================>.............] - ETA: 2s\b\b\b\b\b\b\b\b\b\b\b\b\b\b\b\b\b\b\b\b\b\b\b\b\b\b\b\b\b\b\b\b\b\b\b\b\b\b\b\b\b\b\b\b\b\b\b\b\b\b\r",
      "111/188 [================>.............] - ETA: 2s\b\b\b\b\b\b\b\b\b\b\b\b\b\b\b\b\b\b\b\b\b\b\b\b\b\b\b\b\b\b\b\b\b\b\b\b\b\b\b\b\b\b\b\b\b\b\b\b\b\b\r",
      "113/188 [=================>............] - ETA: 2s\b\b\b\b\b\b\b\b\b\b\b\b\b\b\b\b\b\b\b\b\b\b\b\b\b\b\b\b\b\b\b\b\b\b\b\b\b\b\b\b\b\b\b\b\b\b\b\b\b\b\r",
      "115/188 [=================>............] - ETA: 2s\b\b\b\b\b\b\b\b\b\b\b\b\b\b\b\b\b\b\b\b\b\b\b\b\b\b\b\b\b\b\b\b\b\b\b\b\b\b\b\b\b\b\b\b\b\b\b\b\b\b\r",
      "117/188 [=================>............] - ETA: 2s\b\b\b\b\b\b\b\b\b\b\b\b\b\b\b\b\b\b\b\b\b\b\b\b\b\b\b\b\b\b\b\b\b\b\b\b\b\b\b\b\b\b\b\b\b\b\b\b\b\b\r",
      "119/188 [=================>............] - ETA: 2s\b\b\b\b\b\b\b\b\b\b\b\b\b\b\b\b\b\b\b\b\b\b\b\b\b\b\b\b\b\b\b\b\b\b\b\b\b\b\b\b\b\b\b\b\b\b\b\b\b\b\r",
      "121/188 [==================>...........] - ETA: 2s\b\b\b\b\b\b\b\b\b\b\b\b\b\b\b\b\b\b\b\b\b\b\b\b\b\b\b\b\b\b\b\b\b\b\b\b\b\b\b\b\b\b\b\b\b\b\b\b\b\b\r",
      "123/188 [==================>...........] - ETA: 1s\b\b\b\b\b\b\b\b\b\b\b\b\b\b\b\b\b\b\b\b\b\b\b\b\b\b\b\b\b\b\b\b\b\b\b\b\b\b\b\b\b\b\b\b\b\b\b\b\b\b\r",
      "125/188 [==================>...........] - ETA: 1s\b\b\b\b\b\b\b\b\b\b\b\b\b\b\b\b\b\b\b\b\b\b\b\b\b\b\b\b\b\b\b\b\b\b\b\b\b\b\b\b\b\b\b\b\b\b\b\b\b\b\r",
      "127/188 [===================>..........] - ETA: 1s\b\b\b\b\b\b\b\b\b\b\b\b\b\b\b\b\b\b\b\b\b\b\b\b\b\b\b\b\b\b\b\b\b\b\b\b\b\b\b\b\b\b\b\b\b\b\b\b\b\b\r",
      "129/188 [===================>..........] - ETA: 1s\b\b\b\b\b\b\b\b\b\b\b\b\b\b\b\b\b\b\b\b\b\b\b\b\b\b\b\b\b\b\b\b\b\b\b\b\b\b\b\b\b\b\b\b\b\b\b\b\b\b\r",
      "131/188 [===================>..........] - ETA: 1s\b\b\b\b\b\b\b\b\b\b\b\b\b\b\b\b\b\b\b\b\b\b\b\b\b\b\b\b\b\b\b\b\b\b\b\b\b\b\b\b\b\b\b\b\b\b\b\b\b\b\r",
      "133/188 [====================>.........] - ETA: 1s\b\b\b\b\b\b\b\b\b\b\b\b\b\b\b\b\b\b\b\b\b\b\b\b\b\b\b\b\b\b\b\b\b\b\b\b\b\b\b\b\b\b\b\b\b\b\b\b\b\b\r",
      "135/188 [====================>.........] - ETA: 1s\b\b\b\b\b\b\b\b\b\b\b\b\b\b\b\b\b\b\b\b\b\b\b\b\b\b\b\b\b\b\b\b\b\b\b\b\b\b\b\b\b\b\b\b\b\b\b\b\b\b\r",
      "137/188 [====================>.........] - ETA: 1s\b\b\b\b\b\b\b\b\b\b\b\b\b\b\b\b\b\b\b\b\b\b\b\b\b\b\b\b\b\b\b\b\b\b\b\b\b\b\b\b\b\b\b\b\b\b\b\b\b\b\r",
      "139/188 [=====================>........] - ETA: 1s\b\b\b\b\b\b\b\b\b\b\b\b\b\b\b\b\b\b\b\b\b\b\b\b\b\b\b\b\b\b\b\b\b\b\b\b\b\b\b\b\b\b\b\b\b\b\b\b\b\b\r",
      "141/188 [=====================>........] - ETA: 1s\b\b\b\b\b\b\b\b\b\b\b\b\b\b\b\b\b\b\b\b\b\b\b\b\b\b\b\b\b\b\b\b\b\b\b\b\b\b\b\b\b\b\b\b\b\b\b\b\b\b\r",
      "143/188 [=====================>........] - ETA: 1s\b\b\b\b\b\b\b\b\b\b\b\b\b\b\b\b\b\b\b\b\b\b\b\b\b\b\b\b\b\b\b\b\b\b\b\b\b\b\b\b\b\b\b\b\b\b\b\b\b\b\r",
      "145/188 [======================>.......] - ETA: 1s\b\b\b\b\b\b\b\b\b\b\b\b\b\b\b\b\b\b\b\b\b\b\b\b\b\b\b\b\b\b\b\b\b\b\b\b\b\b\b\b\b\b\b\b\b\b\b\b\b\b\r",
      "147/188 [======================>.......] - ETA: 1s\b\b\b\b\b\b\b\b\b\b\b\b\b\b\b\b\b\b\b\b\b\b\b\b\b\b\b\b\b\b\b\b\b\b\b\b\b\b\b\b\b\b\b\b\b\b\b\b\b\b\r",
      "149/188 [======================>.......] - ETA: 1s\b\b\b\b\b\b\b\b\b\b\b\b\b\b\b\b\b\b\b\b\b\b\b\b\b\b\b\b\b\b\b\b\b\b\b\b\b\b\b\b\b\b\b\b\b\b\b\b\b\b\r",
      "151/188 [=======================>......] - ETA: 1s\b\b\b\b\b\b\b\b\b\b\b\b\b\b\b\b\b\b\b\b\b\b\b\b\b\b\b\b\b\b\b\b\b\b\b\b\b\b\b\b\b\b\b\b\b\b\b\b\b\b\r",
      "153/188 [=======================>......] - ETA: 1s\b\b\b\b\b\b\b\b\b\b\b\b\b\b\b\b\b\b\b\b\b\b\b\b\b\b\b\b\b\b\b\b\b\b\b\b\b\b\b\b\b\b\b\b\b\b\b\b\b\b\r",
      "155/188 [=======================>......] - ETA: 1s\b\b\b\b\b\b\b\b\b\b\b\b\b\b\b\b\b\b\b\b\b\b\b\b\b\b\b\b\b\b\b\b\b\b\b\b\b\b\b\b\b\b\b\b\b\b\b\b\b\b\r",
      "157/188 [========================>.....] - ETA: 0s\b\b\b\b\b\b\b\b\b\b\b\b\b\b\b\b\b\b\b\b\b\b\b\b\b\b\b\b\b\b\b\b\b\b\b\b\b\b\b\b\b\b\b\b\b\b\b\b\b\b\r",
      "159/188 [========================>.....] - ETA: 0s\b\b\b\b\b\b\b\b\b\b\b\b\b\b\b\b\b\b\b\b\b\b\b\b\b\b\b\b\b\b\b\b\b\b\b\b\b\b\b\b\b\b\b\b\b\b\b\b\b\b\r",
      "161/188 [========================>.....] - ETA: 0s\b\b\b\b\b\b\b\b\b\b\b\b\b\b\b\b\b\b\b\b\b\b\b\b\b\b\b\b\b\b\b\b\b\b\b\b\b\b\b\b\b\b\b\b\b\b\b\b\b\b\r",
      "163/188 [=========================>....] - ETA: 0s\b\b\b\b\b\b\b\b\b\b\b\b\b\b\b\b\b\b\b\b\b\b\b\b\b\b\b\b\b\b\b\b\b\b\b\b\b\b\b\b\b\b\b\b\b\b\b\b\b\b\r",
      "165/188 [=========================>....] - ETA: 0s\b\b\b\b\b\b\b\b\b\b\b\b\b\b\b\b\b\b\b\b\b\b\b\b\b\b\b\b\b\b\b\b\b\b\b\b\b\b\b\b\b\b\b\b\b\b\b\b\b\b\r",
      "167/188 [=========================>....] - ETA: 0s\b\b\b\b\b\b\b\b\b\b\b\b\b\b\b\b\b\b\b\b\b\b\b\b\b\b\b\b\b\b\b\b\b\b\b\b\b\b\b\b\b\b\b\b\b\b\b\b\b\b\r",
      "169/188 [=========================>....] - ETA: 0s\b\b\b\b\b\b\b\b\b\b\b\b\b\b\b\b\b\b\b\b\b\b\b\b\b\b\b\b\b\b\b\b\b\b\b\b\b\b\b\b\b\b\b\b\b\b\b\b\b\b\r",
      "171/188 [==========================>...] - ETA: 0s\b\b\b\b\b\b\b\b\b\b\b\b\b\b\b\b\b\b\b\b\b\b\b\b\b\b\b\b\b\b\b\b\b\b\b\b\b\b\b\b\b\b\b\b\b\b\b\b\b\b\r",
      "173/188 [==========================>...] - ETA: 0s\b\b\b\b\b\b\b\b\b\b\b\b\b\b\b\b\b\b\b\b\b\b\b\b\b\b\b\b\b\b\b\b\b\b\b\b\b\b\b\b\b\b\b\b\b\b\b\b\b\b\r",
      "175/188 [==========================>...] - ETA: 0s\b\b\b\b\b\b\b\b\b\b\b\b\b\b\b\b\b\b\b\b\b\b\b\b\b\b\b\b\b\b\b\b\b\b\b\b\b\b\b\b\b\b\b\b\b\b\b\b\b\b\r",
      "177/188 [===========================>..] - ETA: 0s\b\b\b\b\b\b\b\b\b\b\b\b\b\b\b\b\b\b\b\b\b\b\b\b\b\b\b\b\b\b\b\b\b\b\b\b\b\b\b\b\b\b\b\b\b\b\b\b\b\b\r",
      "179/188 [===========================>..] - ETA: 0s\b\b\b\b\b\b\b\b\b\b\b\b\b\b\b\b\b\b\b\b\b\b\b\b\b\b\b\b\b\b\b\b\b\b\b\b\b\b\b\b\b\b\b\b\b\b\b\b\b\b\r",
      "181/188 [===========================>..] - ETA: 0s\b\b\b\b\b\b\b\b\b\b\b\b\b\b\b\b\b\b\b\b\b\b\b\b\b\b\b\b\b\b\b\b\b\b\b\b\b\b\b\b\b\b\b\b\b\b\b\b\b\b\r",
      "183/188 [============================>.] - ETA: 0s\b\b\b\b\b\b\b\b\b\b\b\b\b\b\b\b\b\b\b\b\b\b\b\b\b\b\b\b\b\b\b\b\b\b\b\b\b\b\b\b\b\b\b\b\b\b\b\b\b\b\r",
      "185/188 [============================>.] - ETA: 0s\b\b\b\b\b\b\b\b\b\b\b\b\b\b\b\b\b\b\b\b\b\b\b\b\b\b\b\b\b\b\b\b\b\b\b\b\b\b\b\b\b\b\b\b\b\b\b\b\b\b\r",
      "187/188 [============================>.] - ETA: 0s\b\b\b\b\b\b\b\b\b\b\b\b\b\b\b\b\b\b\b\b\b\b\b\b\b\b\b\b\b\b\b\b\b\b\b\b\b\b\b\b\b\b\b\b\b\b\b\b\b\b\r",
      "188/188 [==============================] - 6s 31ms/step\n"
     ]
    }
   ],
   "source": [
    "\"\"\"\n",
    "Description: Predicting the output with Data\n",
    "\"\"\"\n",
    "\n",
    "pred=model.predict(X_val)\n"
   ]
  },
  {
   "cell_type": "code",
   "execution_count": 0,
   "metadata": {
    "application/vnd.databricks.v1+cell": {
     "cellMetadata": {
      "byteLimit": 2048000,
      "rowLimit": 10000
     },
     "inputWidgets": {},
     "nuid": "474ebc22-ea54-4d5b-9dea-ab1470ffaedf",
     "showTitle": false,
     "title": ""
    }
   },
   "outputs": [
    {
     "name": "stdout",
     "output_type": "stream",
     "text": [
      "Out[25]: array([1, 9, 3, 4, 6, 5, 0, 8, 5, 1])"
     ]
    }
   ],
   "source": [
    "\"\"\"\n",
    "Description: getting prediction label\n",
    "\"\"\"\n",
    "y_pred = np.argmax(pred,axis=-1)\n",
    "y_pred[:10]"
   ]
  },
  {
   "cell_type": "code",
   "execution_count": 0,
   "metadata": {
    "application/vnd.databricks.v1+cell": {
     "cellMetadata": {
      "byteLimit": 2048000,
      "rowLimit": 10000
     },
     "inputWidgets": {},
     "nuid": "94241dc2-3ac7-4d1e-b0c6-b75a0fe402ce",
     "showTitle": false,
     "title": ""
    }
   },
   "outputs": [
    {
     "name": "stdout",
     "output_type": "stream",
     "text": [
      "Accuracy is : 0.9901666666666666\n"
     ]
    }
   ],
   "source": [
    "\"\"\"\n",
    "Description: Calculate Accuracy\n",
    "\"\"\"\n",
    "acc=metrics.accuracy_score(y_true=y_val,y_pred=y_pred)\n",
    "print(\"Accuracy is : {}\".format(acc))"
   ]
  },
  {
   "cell_type": "code",
   "execution_count": 0,
   "metadata": {
    "application/vnd.databricks.v1+cell": {
     "cellMetadata": {
      "byteLimit": 2048000,
      "rowLimit": 10000
     },
     "inputWidgets": {},
     "nuid": "8cf03876-d9e0-4653-a355-8c755930765c",
     "showTitle": false,
     "title": ""
    }
   },
   "outputs": [
    {
     "name": "stdout",
     "output_type": "stream",
     "text": [
      "              precision    recall  f1-score   support\n",
      "\n",
      "           0       0.99      1.00      0.99       592\n",
      "           1       0.99      1.00      0.99       674\n",
      "           2       0.99      0.99      0.99       596\n",
      "           3       0.99      0.99      0.99       613\n",
      "           4       0.99      0.99      0.99       584\n",
      "           5       0.99      1.00      0.99       542\n",
      "           6       0.99      0.99      0.99       592\n",
      "           7       0.99      0.99      0.99       627\n",
      "           8       0.99      0.99      0.99       585\n",
      "           9       0.98      0.97      0.98       595\n",
      "\n",
      "    accuracy                           0.99      6000\n",
      "   macro avg       0.99      0.99      0.99      6000\n",
      "weighted avg       0.99      0.99      0.99      6000\n",
      "\n"
     ]
    }
   ],
   "source": [
    "\"\"\"\n",
    "Description: Calculate classification report\n",
    "\"\"\"\n",
    "print(metrics.classification_report(y_val, y_pred))"
   ]
  },
  {
   "cell_type": "code",
   "execution_count": 0,
   "metadata": {
    "application/vnd.databricks.v1+cell": {
     "cellMetadata": {
      "byteLimit": 2048000,
      "rowLimit": 10000
     },
     "inputWidgets": {},
     "nuid": "080c9450-5bf1-44da-b6c8-0b2ddeba2197",
     "showTitle": false,
     "title": ""
    }
   },
   "outputs": [
    {
     "data": {
      "image/png": "[encoded data removed]"
     },
     "metadata": {
      "application/vnd.databricks.v1+output": {
       "addedWidgets": {},
       "arguments": {},
       "data": "data:image/png;base64,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\n",
       "datasetInfos": [],
       "metadata": {},
       "removedWidgets": [],
       "type": "image"
      }
     },
     "output_type": "display_data"
    }
   ],
   "source": [
    "\"\"\"\n",
    "Description: Plot model learning \n",
    "\"\"\"\n",
    "Plot_model_training_parameters(history)"
   ]
  },
  {
   "cell_type": "markdown",
   "metadata": {
    "application/vnd.databricks.v1+cell": {
     "cellMetadata": {
      "byteLimit": 2048000,
      "rowLimit": 10000
     },
     "inputWidgets": {},
     "nuid": "4177a451-35e7-4d83-a8c6-041771f4a347",
     "showTitle": false,
     "title": ""
    }
   },
   "source": [
    "4.0 Prepare Data , Model and Label"
   ]
  },
  {
   "cell_type": "code",
   "execution_count": 0,
   "metadata": {
    "application/vnd.databricks.v1+cell": {
     "cellMetadata": {
      "byteLimit": 2048000,
      "rowLimit": 10000
     },
     "inputWidgets": {},
     "nuid": "aeb86ce8-58ac-4162-902d-2e0aa4f96987",
     "showTitle": false,
     "title": ""
    }
   },
   "outputs": [],
   "source": [
    "\"\"\"\n",
    "Description: Navigate to tensorflow saved format model using run id\n",
    "\"\"\"\n",
    "model_path = \"runs:/\"+run_id+\"/MnistModelAIS\""
   ]
  },
  {
   "cell_type": "code",
   "execution_count": 0,
   "metadata": {
    "application/vnd.databricks.v1+cell": {
     "cellMetadata": {
      "byteLimit": 2048000,
      "rowLimit": 10000
     },
     "inputWidgets": {},
     "nuid": "b0c5680b-8dce-4fb3-a99b-5d58e6f661ae",
     "showTitle": false,
     "title": ""
    }
   },
   "outputs": [],
   "source": [
    "import mlflow.pyfunc"
   ]
  },
  {
   "cell_type": "code",
   "execution_count": 0,
   "metadata": {
    "application/vnd.databricks.v1+cell": {
     "cellMetadata": {
      "byteLimit": 2048000,
      "rowLimit": 10000
     },
     "inputWidgets": {},
     "nuid": "baab22e4-d28e-43d8-89a5-f4b02f5aa76c",
     "showTitle": false,
     "title": ""
    }
   },
   "outputs": [],
   "source": [
    "\"\"\"\n",
    "Description: Loading mlflow flavoured tensorflow model\n",
    "\"\"\"\n",
    "modelload = mlflow.pyfunc.load_model(model_path)"
   ]
  },
  {
   "cell_type": "code",
   "execution_count": 0,
   "metadata": {
    "application/vnd.databricks.v1+cell": {
     "cellMetadata": {
      "byteLimit": 2048000,
      "rowLimit": 10000
     },
     "inputWidgets": {},
     "nuid": "c00552b6-4a7f-4ca1-8bf9-69bc0f472d3c",
     "showTitle": false,
     "title": ""
    }
   },
   "outputs": [],
   "source": [
    "\"\"\"\n",
    "Description: Save the model in .h5 format in local Databricks Directory\n",
    "\"\"\"\n",
    "model.save(\"/tmp/MNISTModelAIS1.h5\")"
   ]
  },
  {
   "cell_type": "code",
   "execution_count": 0,
   "metadata": {
    "application/vnd.databricks.v1+cell": {
     "cellMetadata": {
      "byteLimit": 2048000,
      "rowLimit": 10000
     },
     "inputWidgets": {},
     "nuid": "f74f8466-bbca-432b-b0ae-837acaedcb0f",
     "showTitle": false,
     "title": ""
    }
   },
   "outputs": [
    {
     "name": "stdout",
     "output_type": "stream",
     "text": [
      "Out[33]: True"
     ]
    }
   ],
   "source": [
    "\"\"\"\n",
    "Description: Create a directory on dbfs and copy the saved model from local directory.\n",
    "\"\"\"\n",
    "dbutils.fs.cp(\"file:/tmp/MNISTModelAIS1.h5\", \"dbfs:/databricks/driver/modelais1/MNISTModeAiS.h5\")"
   ]
  },
  {
   "cell_type": "code",
   "execution_count": 0,
   "metadata": {
    "application/vnd.databricks.v1+cell": {
     "cellMetadata": {
      "byteLimit": 2048000,
      "rowLimit": 10000
     },
     "inputWidgets": {},
     "nuid": "d99b5ee9-7fec-448d-b2ce-a71c0ca7cffc",
     "showTitle": false,
     "title": ""
    }
   },
   "outputs": [],
   "source": [
    "\"\"\"\n",
    "Description: loading the model from the created dbfs directory\n",
    "\"\"\"\n",
    "modelone=tf.keras.models.load_model(\"/dbfs/databricks/driver/modelais1/MNISTModeAiS.h5\")"
   ]
  },
  {
   "cell_type": "code",
   "execution_count": 0,
   "metadata": {
    "application/vnd.databricks.v1+cell": {
     "cellMetadata": {
      "byteLimit": 2048000,
      "rowLimit": 10000
     },
     "inputWidgets": {},
     "nuid": "ab6cb9b6-c9a3-48b0-bf2a-1bea5ff94584",
     "showTitle": false,
     "title": ""
    }
   },
   "outputs": [
    {
     "name": "stdout",
     "output_type": "stream",
     "text": [
      "Model: \"sequential\"\n",
      "_________________________________________________________________\n",
      " Layer (type)                Output Shape              Param #   \n",
      "=================================================================\n",
      " conv2d (Conv2D)             (None, 28, 28, 32)        832       \n",
      "                                                                 \n",
      " conv2d_1 (Conv2D)           (None, 28, 28, 32)        25632     \n",
      "                                                                 \n",
      " max_pooling2d (MaxPooling2D  (None, 14, 14, 32)       0         \n",
      " )                                                               \n",
      "                                                                 \n",
      " dropout (Dropout)           (None, 14, 14, 32)        0         \n",
      "                                                                 \n",
      " conv2d_2 (Conv2D)           (None, 14, 14, 64)        18496     \n",
      "                                                                 \n",
      " conv2d_3 (Conv2D)           (None, 14, 14, 64)        36928     \n",
      "                                                                 \n",
      " max_pooling2d_1 (MaxPooling  (None, 7, 7, 64)         0         \n",
      " 2D)                                                             \n",
      "                                                                 \n",
      " dropout_1 (Dropout)         (None, 7, 7, 64)          0         \n",
      "                                                                 \n",
      " flatten (Flatten)           (None, 3136)              0         \n",
      "                                                                 \n",
      " dense (Dense)               (None, 128)               401536    \n",
      "                                                                 \n",
      " dropout_2 (Dropout)         (None, 128)               0         \n",
      "                                                                 \n",
      " dense_1 (Dense)             (None, 10)                1290      \n",
      "                                                                 \n",
      "=================================================================\n",
      "Total params: 484,714\n",
      "Trainable params: 484,714\n",
      "Non-trainable params: 0\n",
      "_________________________________________________________________\n"
     ]
    }
   ],
   "source": [
    "\"\"\"\n",
    "Description: get model summary\n",
    "\"\"\"\n",
    "modelone.summary()"
   ]
  },
  {
   "cell_type": "code",
   "execution_count": 0,
   "metadata": {
    "application/vnd.databricks.v1+cell": {
     "cellMetadata": {
      "byteLimit": 2048000,
      "rowLimit": 10000
     },
     "inputWidgets": {},
     "nuid": "f7761b3c-64ca-46e2-b607-8eb48876e5d4",
     "showTitle": false,
     "title": ""
    }
   },
   "outputs": [],
   "source": [
    "def save_data_label(x, y, n, data_path=mnist_data_path, label_path = mnist_label_path):\n",
    "    \"\"\"\n",
    "    x: data\n",
    "    y: label\n",
    "    n: number of sample to save\n",
    "    data_path= path to save data\n",
    "    label_path = path to save label path\n",
    "    \"\"\"\n",
    "    if len(y.shape)==2:\n",
    "        y = np.argmax(y, axis=-1)\n",
    " \n",
    "    label=pd.DataFrame()\n",
    "    img_name = []\n",
    "    img_label = [] \n",
    "\n",
    "    for i in tqdm(range(n)):\n",
    "        cv2.imwrite(\"/dbfs/tmp/dataais\"+str(i)+\".jpg\" ,x[i]*255.0) # don't use plt.imread otheriwse while loading the saved images , and passing to model there is accuarcy drop \n",
    "        img_name.append(str(i)+\".jpg\")\n",
    "        img_label.append(y[i])\n",
    "    label['image'] = img_name\n",
    "    label[\"label\"] = img_label\n",
    "\n",
    "#     # write data and label to dbfs directory\n",
    "    for i in tqdm(range(n)):\n",
    "        dbutils.fs.cp(\"file:/dbfs/tmp/dataais\"+str(i)+\".jpg\", \"dbfs:/databricks/driver/dataais1/\"+str(i)+\".jpg\")\n",
    "    label.to_csv(('/dbfs/tmp/labelsais1.csv'),index=False)\n",
    "    dbutils.fs.cp(\"file:/dbfs/tmp/labelsais1.csv\", \"dbfs:/databricks/driver/labelais1/label.csv\")\n"
   ]
  },
  {
   "cell_type": "code",
   "execution_count": 0,
   "metadata": {
    "application/vnd.databricks.v1+cell": {
     "cellMetadata": {
      "byteLimit": 2048000,
      "rowLimit": 10000
     },
     "inputWidgets": {},
     "nuid": "b75430e1-8877-4379-a990-6db56e47f8cc",
     "showTitle": false,
     "title": ""
    }
   },
   "outputs": [
    {
     "name": "stdout",
     "output_type": "stream",
     "text": [
      "\r",
      "  0%|          | 0/6000 [00:00<?, ?it/s]\r",
      "  0%|          | 1/6000 [00:00<11:36,  8.62it/s]\r",
      "  0%|          | 4/6000 [00:00<05:20, 18.71it/s]\r",
      "  0%|          | 6/6000 [00:00<05:45, 17.36it/s]\r",
      "  0%|          | 8/6000 [00:00<06:04, 16.43it/s]\r",
      "  0%|          | 11/6000 [00:00<05:48, 17.17it/s]\r",
      "  0%|          | 13/6000 [00:00<05:49, 17.13it/s]\r",
      "  0%|          | 15/6000 [00:00<05:40, 17.58it/s]\r",
      "  0%|          | 18/6000 [00:01<05:12, 19.14it/s]\r",
      "  0%|          | 21/6000 [00:01<05:13, 19.10it/s]\r",
      "  0%|          | 24/6000 [00:01<06:23, 15.60it/s]\r",
      "  0%|          | 26/6000 [00:01<06:27, 15.42it/s]\r",
      "  0%|          | 29/6000 [00:01<05:57, 16.69it/s]\r",
      "  1%|          | 31/6000 [00:01<05:44, 17.33it/s]\r",
      "  1%|          | 34/6000 [00:01<05:16, 18.86it/s]\r",
      "  1%|          | 37/6000 [00:02<05:23, 18.44it/s]\r",
      "  1%|          | 39/6000 [00:02<05:38, 17.59it/s]\r",
      "  1%|          | 41/6000 [00:02<05:35, 17.77it/s]\r",
      "  1%|          | 44/6000 [00:02<05:18, 18.68it/s]\r",
      "  1%|          | 46/6000 [00:02<06:05, 16.30it/s]\r",
      "  1%|          | 49/6000 [00:02<05:17, 18.75it/s]\r",
      "  1%|          | 51/6000 [00:02<05:52, 16.88it/s]\r",
      "  1%|          | 53/6000 [00:03<07:45, 12.76it/s]\r",
      "  1%|          | 56/6000 [00:03<06:32, 15.14it/s]\r",
      "  1%|          | 58/6000 [00:03<06:08, 16.13it/s]\r",
      "  1%|          | 60/6000 [00:03<05:52, 16.87it/s]\r",
      "  1%|          | 62/6000 [00:03<05:45, 17.16it/s]\r",
      "  1%|          | 65/6000 [00:03<05:15, 18.80it/s]\r",
      "  1%|          | 68/6000 [00:03<04:49, 20.48it/s]\r",
      "  1%|          | 71/6000 [00:04<04:56, 19.98it/s]\r",
      "  1%|          | 74/6000 [00:04<05:22, 18.39it/s]\r",
      "  1%|▏         | 76/6000 [00:04<05:28, 18.05it/s]\r",
      "  1%|▏         | 78/6000 [00:04<06:04, 16.25it/s]\r",
      "  1%|▏         | 80/6000 [00:04<05:55, 16.67it/s]\r",
      "  1%|▏         | 83/6000 [00:04<05:08, 19.17it/s]\r",
      "  1%|▏         | 86/6000 [00:04<04:49, 20.43it/s]\r",
      "  1%|▏         | 89/6000 [00:05<04:28, 21.99it/s]\r",
      "  2%|▏         | 92/6000 [00:05<04:18, 22.89it/s]\r",
      "  2%|▏         | 95/6000 [00:05<04:05, 24.03it/s]\r",
      "  2%|▏         | 98/6000 [00:05<04:11, 23.47it/s]\r",
      "  2%|▏         | 101/6000 [00:05<04:12, 23.37it/s]\r",
      "  2%|▏         | 104/6000 [00:05<04:12, 23.31it/s]\r",
      "  2%|▏         | 107/6000 [00:05<04:18, 22.78it/s]\r",
      "  2%|▏         | 110/6000 [00:05<05:06, 19.22it/s]\r",
      "  2%|▏         | 113/6000 [00:06<04:55, 19.91it/s]\r",
      "  2%|▏         | 116/6000 [00:06<05:21, 18.32it/s]\r",
      "  2%|▏         | 118/6000 [00:06<05:15, 18.63it/s]\r",
      "  2%|▏         | 121/6000 [00:06<04:55, 19.91it/s]\r",
      "  2%|▏         | 124/6000 [00:06<04:56, 19.79it/s]\r",
      "  2%|▏         | 127/6000 [00:06<05:00, 19.55it/s]\r",
      "  2%|▏         | 129/6000 [00:06<05:03, 19.33it/s]\r",
      "  2%|▏         | 132/6000 [00:07<04:59, 19.60it/s]\r",
      "  2%|▏         | 134/6000 [00:07<05:05, 19.18it/s]\r",
      "  2%|▏         | 137/6000 [00:07<04:55, 19.86it/s]\r",
      "  2%|▏         | 139/6000 [00:07<05:42, 17.12it/s]\r",
      "  2%|▏         | 141/6000 [00:07<06:08, 15.89it/s]\r",
      "  2%|▏         | 143/6000 [00:07<05:50, 16.73it/s]\r",
      "  2%|▏         | 145/6000 [00:07<05:58, 16.33it/s]\r",
      "  2%|▏         | 147/6000 [00:08<05:44, 16.98it/s]\r",
      "  2%|▏         | 149/6000 [00:08<05:40, 17.18it/s]\r",
      "  3%|▎         | 152/6000 [00:08<05:28, 17.79it/s]\r",
      "  3%|▎         | 155/6000 [00:08<05:12, 18.71it/s]\r",
      "  3%|▎         | 157/6000 [00:08<05:29, 17.72it/s]\r",
      "  3%|▎         | 159/6000 [00:08<05:52, 16.56it/s]\r",
      "  3%|▎         | 162/6000 [00:08<05:40, 17.14it/s]\r",
      "  3%|▎         | 164/6000 [00:08<05:37, 17.29it/s]\r",
      "  3%|▎         | 167/6000 [00:09<05:02, 19.29it/s]\r",
      "  3%|▎         | 169/6000 [00:09<05:00, 19.38it/s]\r",
      "  3%|▎         | 171/6000 [00:09<05:05, 19.08it/s]\r",
      "  3%|▎         | 173/6000 [00:09<06:08, 15.82it/s]\r",
      "  3%|▎         | 175/6000 [00:09<06:16, 15.48it/s]\r",
      "  3%|▎         | 177/6000 [00:09<06:09, 15.74it/s]\r",
      "  3%|▎         | 180/6000 [00:09<05:27, 17.80it/s]\r",
      "  3%|▎         | 182/6000 [00:10<05:39, 17.13it/s]\r",
      "  3%|▎         | 185/6000 [00:10<05:20, 18.16it/s]\r",
      "  3%|▎         | 187/6000 [00:10<05:31, 17.52it/s]\r",
      "  3%|▎         | 189/6000 [00:10<05:41, 17.03it/s]\r",
      "  3%|▎         | 192/6000 [00:10<05:18, 18.21it/s]\r",
      "  3%|▎         | 194/6000 [00:10<05:12, 18.59it/s]\r",
      "  3%|▎         | 196/6000 [00:10<05:35, 17.29it/s]\r",
      "  3%|▎         | 199/6000 [00:10<05:07, 18.89it/s]\r",
      "  3%|▎         | 201/6000 [00:11<06:02, 15.99it/s]\r",
      "  3%|▎         | 203/6000 [00:11<05:51, 16.51it/s]\r",
      "  3%|▎         | 206/6000 [00:11<05:30, 17.53it/s]\r",
      "  3%|▎         | 209/6000 [00:11<04:51, 19.85it/s]\r",
      "  4%|▎         | 212/6000 [00:11<05:00, 19.23it/s]\r",
      "  4%|▎         | 215/6000 [00:11<04:42, 20.48it/s]\r",
      "  4%|▎         | 218/6000 [00:11<04:25, 21.81it/s]\r",
      "  4%|▎         | 221/6000 [00:12<04:37, 20.83it/s]\r",
      "  4%|▎         | 224/6000 [00:12<04:56, 19.50it/s]\r",
      "  4%|▍         | 227/6000 [00:12<04:59, 19.29it/s]\r",
      "  4%|▍         | 230/6000 [00:12<04:48, 19.97it/s]\r",
      "  4%|▍         | 233/6000 [00:12<05:04, 18.92it/s]\r",
      "  4%|▍         | 235/6000 [00:12<05:44, 16.72it/s]\r",
      "  4%|▍         | 238/6000 [00:13<05:31, 17.38it/s]\r",
      "  4%|▍         | 240/6000 [00:13<06:11, 15.49it/s]\r",
      "  4%|▍         | 243/6000 [00:13<05:23, 17.77it/s]\r",
      "  4%|▍         | 246/6000 [00:13<05:05, 18.83it/s]\r",
      "  4%|▍         | 248/6000 [00:13<05:14, 18.27it/s]\r",
      "  4%|▍         | 250/6000 [00:13<05:18, 18.03it/s]\r",
      "  4%|▍         | 252/6000 [00:13<05:11, 18.45it/s]\r",
      "  4%|▍         | 254/6000 [00:13<05:11, 18.47it/s]\r",
      "  4%|▍         | 256/6000 [00:14<05:10, 18.53it/s]\r",
      "  4%|▍         | 259/6000 [00:14<04:55, 19.46it/s]\r",
      "  4%|▍         | 262/6000 [00:14<04:50, 19.72it/s]\r",
      "  4%|▍         | 264/6000 [00:14<04:59, 19.16it/s]\r",
      "  4%|▍         | 267/6000 [00:14<04:33, 20.96it/s]\r",
      "  4%|▍         | 270/6000 [00:14<04:14, 22.52it/s]\r",
      "  5%|▍         | 273/6000 [00:14<05:27, 17.51it/s]\r",
      "  5%|▍         | 276/6000 [00:15<04:54, 19.41it/s]\r",
      "  5%|▍         | 279/6000 [00:15<04:46, 19.96it/s]\r",
      "  5%|▍         | 282/6000 [00:15<04:50, 19.70it/s]\r",
      "  5%|▍         | 285/6000 [00:15<05:02, 18.89it/s]\r",
      "  5%|▍         | 288/6000 [00:15<04:36, 20.69it/s]\r",
      "  5%|▍         | 291/6000 [00:15<04:39, 20.42it/s]\r",
      "  5%|▍         | 294/6000 [00:15<04:35, 20.69it/s]\r",
      "  5%|▍         | 297/6000 [00:16<04:34, 20.75it/s]\r",
      "  5%|▌         | 300/6000 [00:16<04:54, 19.38it/s]\r",
      "  5%|▌         | 303/6000 [00:16<04:41, 20.25it/s]\r",
      "  5%|▌         | 306/6000 [00:16<04:57, 19.15it/s]\r",
      "  5%|▌         | 308/6000 [00:16<05:04, 18.71it/s]\r",
      "  5%|▌         | 311/6000 [00:16<04:59, 19.01it/s]\r",
      "  5%|▌         | 313/6000 [00:16<05:09, 18.36it/s]\r",
      "  5%|▌         | 316/6000 [00:17<05:11, 18.24it/s]\r",
      "  5%|▌         | 318/6000 [00:17<05:09, 18.37it/s]\r",
      "  5%|▌         | 321/6000 [00:17<05:04, 18.65it/s]\r",
      "  5%|▌         | 324/6000 [00:17<04:49, 19.58it/s]\r",
      "  5%|▌         | 326/6000 [00:17<05:07, 18.43it/s]\r",
      "  5%|▌         | 328/6000 [00:17<05:17, 17.88it/s]\r",
      "  6%|▌         | 330/6000 [00:17<05:38, 16.77it/s]\r",
      "  6%|▌         | 333/6000 [00:18<05:03, 18.69it/s]\r",
      "  6%|▌         | 336/6000 [00:18<04:39, 20.30it/s]\r",
      "  6%|▌         | 339/6000 [00:18<05:12, 18.11it/s]\r",
      "  6%|▌         | 342/6000 [00:18<04:47, 19.70it/s]\r",
      "  6%|▌         | 345/6000 [00:18<04:47, 19.66it/s]\r",
      "  6%|▌         | 348/6000 [00:18<04:28, 21.02it/s]\r",
      "  6%|▌         | 351/6000 [00:18<05:01, 18.74it/s]\r",
      "  6%|▌         | 354/6000 [00:19<04:37, 20.35it/s]\r",
      "  6%|▌         | 357/6000 [00:19<04:53, 19.21it/s]\r",
      "  6%|▌         | 360/6000 [00:19<04:37, 20.32it/s]\r",
      "  6%|▌         | 363/6000 [00:19<04:21, 21.55it/s]\r",
      "  6%|▌         | 366/6000 [00:19<04:33, 20.58it/s]\r",
      "  6%|▌         | 369/6000 [00:19<04:20, 21.62it/s]\r",
      "  6%|▌         | 372/6000 [00:19<04:45, 19.72it/s]\r",
      "  6%|▋         | 375/6000 [00:20<04:44, 19.77it/s]\r",
      "  6%|▋         | 378/6000 [00:20<04:42, 19.89it/s]\r",
      "  6%|▋         | 381/6000 [00:20<04:56, 18.93it/s]\r",
      "  6%|▋         | 384/6000 [00:20<05:05, 18.40it/s]\r",
      "  6%|▋         | 387/6000 [00:20<05:21, 17.45it/s]\r",
      "  6%|▋         | 390/6000 [00:20<04:58, 18.78it/s]\r",
      "  7%|▋         | 392/6000 [00:21<05:15, 17.77it/s]\r",
      "  7%|▋         | 394/6000 [00:21<05:16, 17.72it/s]\r",
      "  7%|▋         | 397/6000 [00:21<04:51, 19.22it/s]\r",
      "  7%|▋         | 399/6000 [00:21<05:08, 18.15it/s]\r",
      "  7%|▋         | 401/6000 [00:21<05:10, 18.05it/s]\r",
      "  7%|▋         | 403/6000 [00:21<05:08, 18.13it/s]\r",
      "  7%|▋         | 405/6000 [00:21<05:30, 16.93it/s]\r",
      "  7%|▋         | 407/6000 [00:21<05:16, 17.69it/s]\r",
      "  7%|▋         | 410/6000 [00:22<04:47, 19.43it/s]\r",
      "  7%|▋         | 412/6000 [00:22<05:14, 17.75it/s]\r",
      "  7%|▋         | 415/6000 [00:22<05:14, 17.75it/s]\r",
      "  7%|▋         | 417/6000 [00:22<05:06, 18.20it/s]\r",
      "  7%|▋         | 420/6000 [00:22<04:44, 19.61it/s]\r",
      "  7%|▋         | 423/6000 [00:22<04:53, 19.02it/s]\r",
      "  7%|▋         | 426/6000 [00:22<04:45, 19.55it/s]\r",
      "  7%|▋         | 428/6000 [00:22<04:52, 19.04it/s]\r",
      "  7%|▋         | 431/6000 [00:23<04:49, 19.26it/s]\r",
      "  7%|▋         | 434/6000 [00:23<04:32, 20.44it/s]\r",
      "  7%|▋         | 437/6000 [00:23<04:57, 18.72it/s]\r",
      "  7%|▋         | 440/6000 [00:23<04:58, 18.65it/s]\r",
      "  7%|▋         | 443/6000 [00:23<04:48, 19.28it/s]\r",
      "  7%|▋         | 445/6000 [00:23<05:12, 17.75it/s]\r",
      "  7%|▋         | 448/6000 [00:24<05:13, 17.74it/s]\r",
      "  8%|▊         | 450/6000 [00:24<05:28, 16.88it/s]\r",
      "  8%|▊         | 452/6000 [00:24<05:58, 15.49it/s]\r",
      "  8%|▊         | 454/6000 [00:24<05:41, 16.23it/s]\r",
      "  8%|▊         | 456/6000 [00:24<05:27, 16.92it/s]\r",
      "  8%|▊         | 459/6000 [00:24<05:12, 17.70it/s]\r",
      "  8%|▊         | 462/6000 [00:24<05:01, 18.39it/s]\r",
      "  8%|▊         | 465/6000 [00:25<04:53, 18.87it/s]\r",
      "  8%|▊         | 468/6000 [00:25<04:45, 19.40it/s]\r",
      "  8%|▊         | 470/6000 [00:25<05:10, 17.82it/s]\r",
      "  8%|▊         | 472/6000 [00:25<05:28, 16.81it/s]\r",
      "  8%|▊         | 474/6000 [00:25<05:16, 17.44it/s]\r",
      "  8%|▊         | 476/6000 [00:25<05:09, 17.87it/s]\r",
      "  8%|▊         | 479/6000 [00:25<04:38, 19.85it/s]\r",
      "  8%|▊         | 482/6000 [00:25<04:18, 21.33it/s]\r",
      "  8%|▊         | 485/6000 [00:26<04:23, 20.90it/s]\r",
      "  8%|▊         | 488/6000 [00:26<04:29, 20.43it/s]\r",
      "  8%|▊         | 491/6000 [00:26<05:12, 17.62it/s]\r",
      "  8%|▊         | 493/6000 [00:26<05:21, 17.13it/s]\r",
      "  8%|▊         | 496/6000 [00:26<04:51, 18.86it/s]\r",
      "  8%|▊         | 499/6000 [00:26<05:01, 18.24it/s]\r",
      "  8%|▊         | 501/6000 [00:26<04:55, 18.61it/s]\r",
      "  8%|▊         | 503/6000 [00:27<05:29, 16.67it/s]\r",
      "  8%|▊         | 505/6000 [00:27<05:22, 17.06it/s]\r",
      "  8%|▊         | 507/6000 [00:27<05:28, 16.74it/s]\r",
      "  8%|▊         | 509/6000 [00:27<05:14, 17.48it/s]\r",
      "  9%|▊         | 511/6000 [00:27<05:27, 16.77it/s]\r",
      "  9%|▊         | 514/6000 [00:27<04:57, 18.41it/s]\r",
      "  9%|▊         | 516/6000 [00:27<05:02, 18.14it/s]\r",
      "  9%|▊         | 518/6000 [00:27<05:04, 18.02it/s]\r",
      "  9%|▊         | 520/6000 [00:28<05:29, 16.61it/s]\r",
      "  9%|▊         | 522/6000 [00:28<05:14, 17.44it/s]\r",
      "  9%|▊         | 524/6000 [00:28<05:28, 16.69it/s]\r",
      "  9%|▉         | 527/6000 [00:28<04:51, 18.81it/s]\r",
      "  9%|▉         | 530/6000 [00:28<04:27, 20.48it/s]\r",
      "  9%|▉         | 533/6000 [00:28<04:20, 21.00it/s]\r",
      "  9%|▉         | 536/6000 [00:28<04:16, 21.30it/s]\r",
      "  9%|▉         | 539/6000 [00:28<04:11, 21.70it/s]\r",
      "  9%|▉         | 542/6000 [00:29<04:27, 20.37it/s]\r",
      "  9%|▉         | 545/6000 [00:29<05:55, 15.33it/s]\r",
      "  9%|▉         | 548/6000 [00:29<05:17, 17.18it/s]\r",
      "  9%|▉         | 551/6000 [00:29<05:04, 17.92it/s]\r",
      "  9%|▉         | 554/6000 [00:29<04:48, 18.89it/s]\r",
      "  9%|▉         | 557/6000 [00:30<04:24, 20.55it/s]\r",
      "  9%|▉         | 560/6000 [00:30<04:29, 20.20it/s]\r",
      "  9%|▉         | 563/6000 [00:30<04:18, 21.01it/s]\r",
      "  9%|▉         | 566/6000 [00:30<04:31, 20.02it/s]\r",
      "  9%|▉         | 569/6000 [00:30<04:40, 19.39it/s]\r",
      " 10%|▉         | 571/6000 [00:30<05:23, 16.76it/s]\r",
      " 10%|▉         | 573/6000 [00:30<05:11, 17.42it/s]\r",
      " 10%|▉         | 576/6000 [00:31<05:03, 17.86it/s]\r",
      " 10%|▉         | 578/6000 [00:31<05:00, 18.04it/s]\r",
      " 10%|▉         | 581/6000 [00:31<04:36, 19.58it/s]\r",
      " 10%|▉         | 584/6000 [00:31<04:24, 20.48it/s]\r",
      " 10%|▉         | 587/6000 [00:31<05:05, 17.74it/s]\r",
      " 10%|▉         | 590/6000 [00:31<04:41, 19.19it/s]\r",
      " 10%|▉         | 593/6000 [00:31<04:41, 19.18it/s]\r",
      " 10%|▉         | 596/6000 [00:32<04:33, 19.74it/s]\r",
      " 10%|▉         | 599/6000 [00:32<04:53, 18.39it/s]\r",
      " 10%|█         | 601/6000 [00:32<04:53, 18.38it/s]\r",
      " 10%|█         | 603/6000 [00:32<05:07, 17.56it/s]\r",
      " 10%|█         | 606/6000 [00:32<05:11, 17.32it/s]\r",
      " 10%|█         | 609/6000 [00:32<04:46, 18.82it/s]\r",
      " 10%|█         | 611/6000 [00:32<04:52, 18.41it/s]\r",
      " 10%|█         | 613/6000 [00:33<05:17, 16.98it/s]\r",
      " 10%|█         | 616/6000 [00:33<04:52, 18.43it/s]\r",
      " 10%|█         | 618/6000 [00:33<04:53, 18.33it/s]\r",
      " 10%|█         | 621/6000 [00:33<04:42, 19.07it/s]\r",
      " 10%|█         | 623/6000 [00:33<04:46, 18.76it/s]\r",
      " 10%|█         | 625/6000 [00:33<05:22, 16.66it/s]\r",
      " 10%|█         | 627/6000 [00:33<05:09, 17.36it/s]\r",
      " 10%|█         | 629/6000 [00:33<05:16, 16.97it/s]\r",
      " 11%|█         | 632/6000 [00:34<04:48, 18.59it/s]\r",
      " 11%|█         | 634/6000 [00:34<05:04, 17.65it/s]\r",
      " 11%|█         | 637/6000 [00:34<04:38, 19.26it/s]\r",
      " 11%|█         | 640/6000 [00:34<04:36, 19.39it/s]\r",
      " 11%|█         | 642/6000 [00:34<04:36, 19.39it/s]\r",
      " 11%|█         | 644/6000 [00:34<05:11, 17.22it/s]\r",
      " 11%|█         | 647/6000 [00:34<05:02, 17.68it/s]\r",
      " 11%|█         | 650/6000 [00:35<04:38, 19.22it/s]\r",
      " 11%|█         | 652/6000 [00:35<04:39, 19.12it/s]\r",
      " 11%|█         | 654/6000 [00:35<04:38, 19.17it/s]\r",
      " 11%|█         | 656/6000 [00:35<05:04, 17.54it/s]\r",
      " 11%|█         | 658/6000 [00:35<04:55, 18.08it/s]\r",
      " 11%|█         | 661/6000 [00:35<04:41, 18.97it/s]\r",
      " 11%|█         | 663/6000 [00:35<04:38, 19.15it/s]\r",
      " 11%|█         | 665/6000 [00:35<04:40, 19.01it/s]\r",
      " 11%|█         | 667/6000 [00:36<05:24, 16.45it/s]\r",
      " 11%|█         | 669/6000 [00:36<06:09, 14.44it/s]\r",
      " 11%|█         | 672/6000 [00:36<05:30, 16.13it/s]\r",
      " 11%|█         | 674/6000 [00:36<05:26, 16.33it/s]\r",
      " 11%|█▏        | 676/6000 [00:36<05:28, 16.21it/s]\r",
      " 11%|█▏        | 678/6000 [00:36<05:13, 16.97it/s]\r",
      " 11%|█▏        | 680/6000 [00:36<05:54, 15.01it/s]\r",
      " 11%|█▏        | 683/6000 [00:37<05:13, 16.98it/s]\r",
      " 11%|█▏        | 685/6000 [00:37<05:10, 17.14it/s]\r",
      " 11%|█▏        | 688/6000 [00:37<04:29, 19.73it/s]\r",
      " 12%|█▏        | 691/6000 [00:37<04:09, 21.28it/s]\r",
      " 12%|█▏        | 694/6000 [00:37<03:48, 23.26it/s]\r",
      " 12%|█▏        | 697/6000 [00:37<04:01, 21.96it/s]\r",
      " 12%|█▏        | 700/6000 [00:37<04:05, 21.60it/s]\r",
      " 12%|█▏        | 703/6000 [00:37<04:42, 18.76it/s]\r",
      " 12%|█▏        | 706/6000 [00:38<04:23, 20.10it/s]\r",
      " 12%|█▏        | 709/6000 [00:38<04:36, 19.12it/s]\r",
      " 12%|█▏        | 712/6000 [00:38<04:16, 20.61it/s]\r",
      " 12%|█▏        | 715/6000 [00:38<04:09, 21.22it/s]\r",
      " 12%|█▏        | 718/6000 [00:38<04:00, 21.96it/s]\r",
      " 12%|█▏        | 721/6000 [00:38<03:53, 22.58it/s]\r",
      " 12%|█▏        | 724/6000 [00:38<03:48, 23.09it/s]\r",
      " 12%|█▏        | 727/6000 [00:39<04:00, 21.89it/s]\r",
      " 12%|█▏        | 730/6000 [00:39<03:55, 22.34it/s]\r",
      " 12%|█▏        | 733/6000 [00:39<03:44, 23.45it/s]\r",
      " 12%|█▏        | 736/6000 [00:39<04:09, 21.12it/s]\r",
      " 12%|█▏        | 739/6000 [00:39<04:14, 20.65it/s]\r",
      " 12%|█▏        | 742/6000 [00:39<04:21, 20.10it/s]\r",
      " 12%|█▏        | 745/6000 [00:39<04:32, 19.28it/s]\r",
      " 12%|█▏        | 747/6000 [00:40<04:56, 17.70it/s]\r",
      " 12%|█▏        | 749/6000 [00:40<04:58, 17.57it/s]\r",
      " 13%|█▎        | 752/6000 [00:40<04:27, 19.60it/s]\r",
      " 13%|█▎        | 755/6000 [00:40<04:17, 20.34it/s]\r",
      " 13%|█▎        | 758/6000 [00:40<04:09, 20.98it/s]\r",
      " 13%|█▎        | 761/6000 [00:40<04:20, 20.10it/s]\r",
      " 13%|█▎        | 764/6000 [00:40<05:10, 16.88it/s]\r",
      " 13%|█▎        | 766/6000 [00:41<05:32, 15.73it/s]\r",
      " 13%|█▎        | 769/6000 [00:41<04:58, 17.51it/s]\r",
      " 13%|█▎        | 771/6000 [00:41<04:57, 17.57it/s]\r",
      " 13%|█▎        | 774/6000 [00:41<04:32, 19.19it/s]\r",
      " 13%|█▎        | 777/6000 [00:41<04:18, 20.18it/s]\r",
      " 13%|█▎        | 780/6000 [00:41<04:47, 18.16it/s]\r",
      " 13%|█▎        | 782/6000 [00:41<04:59, 17.43it/s]\r",
      " 13%|█▎        | 784/6000 [00:42<05:31, 15.75it/s]\r",
      " 13%|█▎        | 786/6000 [00:42<05:15, 16.53it/s]\r",
      " 13%|█▎        | 788/6000 [00:42<05:25, 16.01it/s]\r",
      " 13%|█▎        | 790/6000 [00:42<05:36, 15.50it/s]\r",
      " 13%|█▎        | 792/6000 [00:42<05:18, 16.34it/s]\r",
      " 13%|█▎        | 794/6000 [00:42<05:08, 16.89it/s]\r",
      " 13%|█▎        | 797/6000 [00:42<04:31, 19.17it/s]\r",
      " 13%|█▎        | 800/6000 [00:43<04:33, 19.00it/s]\r",
      " 13%|█▎        | 803/6000 [00:43<04:14, 20.41it/s]\r",
      " 13%|█▎        | 806/6000 [00:43<04:31, 19.12it/s]\r",
      " 13%|█▎        | 809/6000 [00:43<05:11, 16.64it/s]\r",
      " 14%|█▎        | 812/6000 [00:43<04:44, 18.25it/s]\r",
      " 14%|█▎        | 815/6000 [00:43<04:27, 19.36it/s]\r",
      " 14%|█▎        | 818/6000 [00:43<04:35, 18.79it/s]\r",
      " 14%|█▎        | 821/6000 [00:44<04:16, 20.19it/s]\r",
      " 14%|█▎        | 824/6000 [00:44<04:34, 18.85it/s]\r",
      " 14%|█▍        | 827/6000 [00:44<04:26, 19.41it/s]\r",
      " 14%|█▍        | 830/6000 [00:44<04:22, 19.71it/s]\r",
      " 14%|█▍        | 833/6000 [00:44<04:20, 19.85it/s]\r",
      " 14%|█▍        | 836/6000 [00:44<04:16, 20.11it/s]\r",
      " 14%|█▍        | 839/6000 [00:45<04:25, 19.43it/s]\r",
      " 14%|█▍        | 841/6000 [00:45<04:57, 17.35it/s]\r",
      " 14%|█▍        | 844/6000 [00:45<04:42, 18.23it/s]\r",
      " 14%|█▍        | 847/6000 [00:45<04:27, 19.29it/s]\r",
      " 14%|█▍        | 850/6000 [00:45<04:28, 19.22it/s]\r",
      " 14%|█▍        | 853/6000 [00:45<04:15, 20.18it/s]\r",
      " 14%|█▍        | 856/6000 [00:45<04:02, 21.20it/s]\r",
      " 14%|█▍        | 859/6000 [00:46<04:11, 20.45it/s]\r",
      " 14%|█▍        | 862/6000 [00:46<04:24, 19.39it/s]\r",
      " 14%|█▍        | 865/6000 [00:46<04:17, 19.97it/s]\r",
      " 14%|█▍        | 868/6000 [00:46<04:22, 19.52it/s]\r",
      " 14%|█▍        | 870/6000 [00:46<04:21, 19.59it/s]\r",
      " 15%|█▍        | 873/6000 [00:46<04:12, 20.31it/s]\r",
      " 15%|█▍        | 876/6000 [00:47<04:53, 17.48it/s]\r",
      " 15%|█▍        | 878/6000 [00:47<04:48, 17.77it/s]\r",
      " 15%|█▍        | 881/6000 [00:47<04:35, 18.61it/s]\r",
      " 15%|█▍        | 884/6000 [00:47<04:18, 19.81it/s]\r",
      " 15%|█▍        | 887/6000 [00:47<04:49, 17.68it/s]\r",
      " 15%|█▍        | 890/6000 [00:47<04:42, 18.09it/s]\r",
      " 15%|█▍        | 893/6000 [00:47<04:20, 19.57it/s]\r",
      " 15%|█▍        | 896/6000 [00:48<04:10, 20.39it/s]\r",
      " 15%|█▍        | 899/6000 [00:48<04:10, 20.35it/s]\r",
      " 15%|█▌        | 902/6000 [00:48<04:09, 20.46it/s]\r",
      " 15%|█▌        | 905/6000 [00:48<04:19, 19.67it/s]\r",
      " 15%|█▌        | 907/6000 [00:48<04:17, 19.74it/s]\r",
      " 15%|█▌        | 909/6000 [00:48<05:00, 16.93it/s]\r",
      " 15%|█▌        | 912/6000 [00:48<04:31, 18.75it/s]\r",
      " 15%|█▌        | 914/6000 [00:48<04:37, 18.34it/s]\r",
      " 15%|█▌        | 916/6000 [00:49<04:44, 17.88it/s]\r",
      " 15%|█▌        | 919/6000 [00:49<04:22, 19.37it/s]\r",
      " 15%|█▌        | 921/6000 [00:49<04:34, 18.52it/s]\r",
      " 15%|█▌        | 923/6000 [00:49<05:23, 15.68it/s]\r",
      " 15%|█▌        | 925/6000 [00:49<05:27, 15.49it/s]\r",
      " 15%|█▌        | 928/6000 [00:49<04:51, 17.38it/s]\r",
      " 16%|█▌        | 931/6000 [00:49<04:24, 19.18it/s]\r",
      " 16%|█▌        | 934/6000 [00:50<04:23, 19.20it/s]\r",
      " 16%|█▌        | 936/6000 [00:50<04:26, 18.98it/s]\r",
      " 16%|█▌        | 938/6000 [00:50<04:29, 18.76it/s]\r",
      " 16%|█▌        | 940/6000 [00:50<05:30, 15.29it/s]\r",
      " 16%|█▌        | 943/6000 [00:50<04:54, 17.19it/s]\r",
      " 16%|█▌        | 945/6000 [00:50<04:57, 16.98it/s]\r",
      " 16%|█▌        | 948/6000 [00:50<04:32, 18.54it/s]\r",
      " 16%|█▌        | 950/6000 [00:51<04:33, 18.43it/s]\r",
      " 16%|█▌        | 952/6000 [00:51<04:46, 17.59it/s]\r",
      " 16%|█▌        | 955/6000 [00:51<04:21, 19.29it/s]\r",
      " 16%|█▌        | 957/6000 [00:51<04:33, 18.44it/s]\r",
      " 16%|█▌        | 960/6000 [00:51<04:16, 19.61it/s]\r",
      " 16%|█▌        | 962/6000 [00:51<04:22, 19.21it/s]\r",
      " 16%|█▌        | 964/6000 [00:51<04:40, 17.93it/s]\r",
      " 16%|█▌        | 966/6000 [00:51<04:35, 18.27it/s]\r",
      " 16%|█▌        | 968/6000 [00:52<04:55, 17.00it/s]\r",
      " 16%|█▌        | 970/6000 [00:52<04:46, 17.55it/s]\r",
      " 16%|█▌        | 972/6000 [00:52<04:46, 17.53it/s]\r",
      " 16%|█▋        | 975/6000 [00:52<04:20, 19.25it/s]\r",
      " 16%|█▋        | 977/6000 [00:52<04:27, 18.75it/s]\r",
      " 16%|█▋        | 980/6000 [00:52<04:14, 19.69it/s]\r",
      " 16%|█▋        | 982/6000 [00:52<05:22, 15.57it/s]\r",
      " 16%|█▋        | 984/6000 [00:52<05:56, 14.06it/s]\r",
      " 16%|█▋        | 986/6000 [00:53<05:32, 15.10it/s]\r",
      " 16%|█▋        | 989/6000 [00:53<04:51, 17.20it/s]\r",
      " 17%|█▋        | 992/6000 [00:53<04:48, 17.35it/s]\r",
      " 17%|█▋        | 994/6000 [00:53<04:55, 16.97it/s]\r",
      " 17%|█▋        | 996/6000 [00:53<04:51, 17.18it/s]\r",
      " 17%|█▋        | 998/6000 [00:53<05:15, 15.87it/s]\r",
      " 17%|█▋        | 1000/6000 [00:53<05:20, 15.62it/s]\r",
      " 17%|█▋        | 1002/6000 [00:54<05:20, 15.58it/s]\r",
      " 17%|█▋        | 1004/6000 [00:54<05:00, 16.60it/s]\r",
      " 17%|█▋        | 1007/6000 [00:54<04:24, 18.88it/s]\r",
      " 17%|█▋        | 1009/6000 [00:54<04:30, 18.48it/s]\r",
      " 17%|█▋        | 1011/6000 [00:54<04:33, 18.22it/s]\r",
      " 17%|█▋        | 1014/6000 [00:54<04:32, 18.31it/s]\r",
      " 17%|█▋        | 1016/6000 [00:54<05:30, 15.06it/s]\r",
      " 17%|█▋        | 1018/6000 [00:54<05:11, 15.98it/s]\r",
      " 17%|█▋        | 1021/6000 [00:55<04:36, 17.99it/s]\r",
      " 17%|█▋        | 1024/6000 [00:55<04:12, 19.74it/s]\r",
      " 17%|█▋        | 1027/6000 [00:55<04:02, 20.53it/s]\r",
      " 17%|█▋        | 1030/6000 [00:55<04:14, 19.49it/s]\r",
      " 17%|█▋        | 1033/6000 [00:55<04:06, 20.19it/s]\r",
      " 17%|█▋        | 1036/6000 [00:55<04:38, 17.84it/s]\r",
      " 17%|█▋        | 1038/6000 [00:56<04:41, 17.61it/s]\r",
      " 17%|█▋        | 1041/6000 [00:56<04:53, 16.88it/s]\r",
      " 17%|█▋        | 1044/6000 [00:56<04:41, 17.63it/s]\r",
      " 17%|█▋        | 1046/6000 [00:56<04:42, 17.55it/s]\r",
      " 17%|█▋        | 1049/6000 [00:56<04:26, 18.59it/s]\r",
      " 18%|█▊        | 1052/6000 [00:56<04:23, 18.80it/s]\r",
      " 18%|█▊        | 1054/6000 [00:56<04:28, 18.44it/s]\r",
      " 18%|█▊        | 1057/6000 [00:57<04:41, 17.58it/s]\r",
      " 18%|█▊        | 1059/6000 [00:57<04:34, 18.01it/s]\r",
      " 18%|█▊        | 1062/6000 [00:57<04:19, 19.01it/s]\r",
      " 18%|█▊        | 1065/6000 [00:57<04:05, 20.12it/s]\r",
      " 18%|█▊        | 1068/6000 [00:57<03:54, 21.04it/s]\r",
      " 18%|█▊        | 1071/6000 [00:57<03:50, 21.39it/s]\r",
      " 18%|█▊        | 1074/6000 [00:57<04:07, 19.87it/s]\r",
      " 18%|█▊        | 1077/6000 [00:58<04:14, 19.32it/s]\r",
      " 18%|█▊        | 1079/6000 [00:58<04:33, 18.00it/s]\r",
      " 18%|█▊        | 1082/6000 [00:58<04:18, 18.99it/s]\r",
      " 18%|█▊        | 1085/6000 [00:58<03:58, 20.64it/s]\r",
      " 18%|█▊        | 1088/6000 [00:58<03:40, 22.24it/s]\r",
      " 18%|█▊        | 1091/6000 [00:58<03:37, 22.58it/s]\r",
      " 18%|█▊        | 1094/6000 [00:58<03:40, 22.21it/s]\r",
      " 18%|█▊        | 1097/6000 [00:58<03:45, 21.70it/s]\r",
      " 18%|█▊        | 1100/6000 [00:59<04:01, 20.26it/s]\r",
      " 18%|█▊        | 1103/6000 [00:59<04:08, 19.71it/s]\r",
      " 18%|█▊        | 1105/6000 [00:59<04:08, 19.73it/s]\r",
      " 18%|█▊        | 1107/6000 [00:59<04:11, 19.46it/s]\r",
      " 18%|█▊        | 1109/6000 [00:59<04:10, 19.50it/s]\r",
      " 19%|█▊        | 1111/6000 [00:59<04:33, 17.88it/s]\r",
      " 19%|█▊        | 1114/6000 [00:59<04:11, 19.43it/s]\r",
      " 19%|█▊        | 1117/6000 [01:00<03:59, 20.35it/s]\r",
      " 19%|█▊        | 1120/6000 [01:00<03:48, 21.37it/s]\r",
      " 19%|█▊        | 1123/6000 [01:00<04:17, 18.92it/s]\r",
      " 19%|█▉        | 1126/6000 [01:00<04:04, 19.89it/s]\r",
      " 19%|█▉        | 1129/6000 [01:00<03:49, 21.27it/s]\r",
      " 19%|█▉        | 1132/6000 [01:00<04:11, 19.35it/s]\r",
      " 19%|█▉        | 1135/6000 [01:00<04:43, 17.19it/s]\r",
      " 19%|█▉        | 1137/6000 [01:01<04:53, 16.56it/s]\r",
      " 19%|█▉        | 1139/6000 [01:01<04:41, 17.24it/s]\r",
      " 19%|█▉        | 1141/6000 [01:01<04:38, 17.47it/s]\r",
      " 19%|█▉        | 1144/6000 [01:01<04:32, 17.79it/s]\r",
      " 19%|█▉        | 1146/6000 [01:01<04:29, 18.02it/s]\r",
      " 19%|█▉        | 1149/6000 [01:01<04:11, 19.29it/s]\r",
      " 19%|█▉        | 1151/6000 [01:01<04:21, 18.51it/s]\r",
      " 19%|█▉        | 1153/6000 [01:01<04:23, 18.41it/s]\r",
      " 19%|█▉        | 1156/6000 [01:02<04:03, 19.89it/s]\r",
      " 19%|█▉        | 1159/6000 [01:02<03:52, 20.79it/s]\r",
      " 19%|█▉        | 1162/6000 [01:02<03:48, 21.18it/s]\r",
      " 19%|█▉        | 1165/6000 [01:02<04:04, 19.79it/s]\r",
      " 19%|█▉        | 1167/6000 [01:02<04:19, 18.60it/s]\r",
      " 19%|█▉        | 1169/6000 [01:02<04:18, 18.68it/s]\r",
      " 20%|█▉        | 1172/6000 [01:02<04:16, 18.80it/s]\r",
      " 20%|█▉        | 1174/6000 [01:03<04:23, 18.31it/s]\r",
      " 20%|█▉        | 1176/6000 [01:03<04:43, 17.02it/s]\r",
      " 20%|█▉        | 1178/6000 [01:03<04:55, 16.33it/s]\r",
      " 20%|█▉        | 1181/6000 [01:03<04:30, 17.81it/s]\r",
      " 20%|█▉        | 1184/6000 [01:03<04:09, 19.32it/s]\r",
      " 20%|█▉        | 1186/6000 [01:03<04:08, 19.39it/s]\r",
      " 20%|█▉        | 1189/6000 [01:03<03:50, 20.90it/s]\r",
      " 20%|█▉        | 1192/6000 [01:04<04:17, 18.67it/s]\r",
      " 20%|█▉        | 1195/6000 [01:04<04:03, 19.77it/s]\r",
      " 20%|█▉        | 1198/6000 [01:04<03:46, 21.24it/s]\r",
      " 20%|██        | 1201/6000 [01:04<03:34, 22.39it/s]\r",
      " 20%|██        | 1204/6000 [01:04<03:46, 21.20it/s]\r",
      " 20%|██        | 1207/6000 [01:04<03:34, 22.34it/s]\r",
      " 20%|██        | 1210/6000 [01:04<04:31, 17.67it/s]\r",
      " 20%|██        | 1213/6000 [01:05<04:06, 19.42it/s]\r",
      " 20%|██        | 1216/6000 [01:05<03:48, 20.90it/s]\r",
      " 20%|██        | 1219/6000 [01:05<03:33, 22.42it/s]\r",
      " 20%|██        | 1222/6000 [01:05<03:42, 21.49it/s]\r",
      " 20%|██        | 1225/6000 [01:05<03:46, 21.04it/s]\r",
      " 20%|██        | 1228/6000 [01:05<03:45, 21.15it/s]\r",
      " 21%|██        | 1231/6000 [01:05<03:41, 21.55it/s]\r",
      " 21%|██        | 1234/6000 [01:06<03:54, 20.33it/s]\r",
      " 21%|██        | 1237/6000 [01:06<03:42, 21.45it/s]\r",
      " 21%|██        | 1240/6000 [01:06<03:43, 21.28it/s]\r",
      " 21%|██        | 1243/6000 [01:06<03:54, 20.33it/s]\r",
      " 21%|██        | 1246/6000 [01:06<03:44, 21.18it/s]\r",
      " 21%|██        | 1249/6000 [01:06<03:48, 20.79it/s]\r",
      " 21%|██        | 1252/6000 [01:06<03:35, 22.06it/s]\r",
      " 21%|██        | 1255/6000 [01:06<03:30, 22.59it/s]\r",
      " 21%|██        | 1258/6000 [01:07<03:37, 21.82it/s]\r",
      " 21%|██        | 1261/6000 [01:07<03:33, 22.19it/s]\r",
      " 21%|██        | 1264/6000 [01:07<04:05, 19.31it/s]\r",
      " 21%|██        | 1267/6000 [01:07<04:11, 18.80it/s]\r",
      " 21%|██        | 1270/6000 [01:07<04:02, 19.48it/s]\r",
      " 21%|██        | 1273/6000 [01:07<03:52, 20.36it/s]\r",
      " 21%|██▏       | 1276/6000 [01:07<03:34, 22.02it/s]\r",
      " 21%|██▏       | 1279/6000 [01:08<03:44, 21.05it/s]\r",
      " 21%|██▏  \n",
      "\n",
      "*** WARNING: max output size exceeded, skipping output. ***\n",
      "\n",
      "██▏| 5521/6000 [14:03<01:16,  6.28it/s]\r",
      " 92%|█████████▏| 5522/6000 [14:03<01:13,  6.47it/s]\r",
      " 92%|█████████▏| 5523/6000 [14:03<01:08,  6.99it/s]\r",
      " 92%|█████████▏| 5524/6000 [14:03<01:13,  6.48it/s]\r",
      " 92%|█████████▏| 5525/6000 [14:04<01:25,  5.55it/s]\r",
      " 92%|█████████▏| 5526/6000 [14:04<01:16,  6.18it/s]\r",
      " 92%|█████████▏| 5527/6000 [14:04<01:13,  6.41it/s]\r",
      " 92%|█████████▏| 5528/6000 [14:04<01:16,  6.20it/s]\r",
      " 92%|█████████▏| 5529/6000 [14:04<01:13,  6.43it/s]\r",
      " 92%|█████████▏| 5530/6000 [14:04<01:12,  6.45it/s]\r",
      " 92%|█████████▏| 5531/6000 [14:04<01:23,  5.61it/s]\r",
      " 92%|█████████▏| 5532/6000 [14:05<01:16,  6.13it/s]\r",
      " 92%|█████████▏| 5533/6000 [14:05<01:28,  5.30it/s]\r",
      " 92%|█████████▏| 5534/6000 [14:05<01:23,  5.59it/s]\r",
      " 92%|█████████▏| 5535/6000 [14:05<01:20,  5.78it/s]\r",
      " 92%|█████████▏| 5536/6000 [14:05<01:14,  6.24it/s]\r",
      " 92%|█████████▏| 5537/6000 [14:05<01:11,  6.44it/s]\r",
      " 92%|█████████▏| 5538/6000 [14:06<01:08,  6.72it/s]\r",
      " 92%|█████████▏| 5539/6000 [14:06<01:08,  6.70it/s]\r",
      " 92%|█████████▏| 5540/6000 [14:06<01:10,  6.52it/s]\r",
      " 92%|█████████▏| 5541/6000 [14:06<01:16,  6.02it/s]\r",
      " 92%|█████████▏| 5542/6000 [14:06<01:11,  6.40it/s]\r",
      " 92%|█████████▏| 5543/6000 [14:06<01:08,  6.72it/s]\r",
      " 92%|█████████▏| 5544/6000 [14:07<01:10,  6.49it/s]\r",
      " 92%|█████████▏| 5545/6000 [14:07<01:08,  6.62it/s]\r",
      " 92%|█████████▏| 5546/6000 [14:07<01:06,  6.83it/s]\r",
      " 92%|█████████▏| 5547/6000 [14:07<01:02,  7.29it/s]\r",
      " 92%|█████████▏| 5548/6000 [14:07<01:04,  7.03it/s]\r",
      " 92%|█████████▏| 5549/6000 [14:07<01:04,  7.04it/s]\r",
      " 92%|█████████▎| 5550/6000 [14:07<01:06,  6.76it/s]\r",
      " 93%|█████████▎| 5551/6000 [14:07<01:04,  6.93it/s]\r",
      " 93%|█████████▎| 5552/6000 [14:08<01:06,  6.78it/s]\r",
      " 93%|█████████▎| 5553/6000 [14:08<01:02,  7.15it/s]\r",
      " 93%|█████████▎| 5554/6000 [14:08<01:11,  6.26it/s]\r",
      " 93%|█████████▎| 5555/6000 [14:08<01:06,  6.70it/s]\r",
      " 93%|█████████▎| 5556/6000 [14:08<01:06,  6.63it/s]\r",
      " 93%|█████████▎| 5557/6000 [14:08<01:03,  6.95it/s]\r",
      " 93%|█████████▎| 5558/6000 [14:09<01:13,  6.05it/s]\r",
      " 93%|█████████▎| 5559/6000 [14:09<01:15,  5.88it/s]\r",
      " 93%|█████████▎| 5560/6000 [14:09<01:08,  6.38it/s]\r",
      " 93%|█████████▎| 5561/6000 [14:09<01:03,  6.87it/s]\r",
      " 93%|█████████▎| 5562/6000 [14:09<01:03,  6.86it/s]\r",
      " 93%|█████████▎| 5563/6000 [14:09<01:06,  6.59it/s]\r",
      " 93%|█████████▎| 5564/6000 [14:09<01:06,  6.56it/s]\r",
      " 93%|█████████▎| 5565/6000 [14:10<01:19,  5.44it/s]\r",
      " 93%|█████████▎| 5566/6000 [14:10<01:27,  4.95it/s]\r",
      " 93%|█████████▎| 5567/6000 [14:10<01:26,  4.99it/s]\r",
      " 93%|█████████▎| 5568/6000 [14:10<01:19,  5.41it/s]\r",
      " 93%|█████████▎| 5569/6000 [14:11<01:18,  5.50it/s]\r",
      " 93%|█████████▎| 5570/6000 [14:11<01:20,  5.32it/s]\r",
      " 93%|█████████▎| 5571/6000 [14:11<01:15,  5.67it/s]\r",
      " 93%|█████████▎| 5572/6000 [14:11<01:11,  6.01it/s]\r",
      " 93%|█████████▎| 5573/6000 [14:11<01:12,  5.86it/s]\r",
      " 93%|█████████▎| 5574/6000 [14:11<01:19,  5.37it/s]\r",
      " 93%|█████████▎| 5575/6000 [14:12<01:13,  5.77it/s]\r",
      " 93%|█████████▎| 5576/6000 [14:12<01:08,  6.23it/s]\r",
      " 93%|█████████▎| 5577/6000 [14:12<01:05,  6.43it/s]\r",
      " 93%|█████████▎| 5578/6000 [14:12<01:06,  6.33it/s]\r",
      " 93%|█████████▎| 5579/6000 [14:12<01:06,  6.35it/s]\r",
      " 93%|█████████▎| 5580/6000 [14:12<01:02,  6.70it/s]\r",
      " 93%|█████████▎| 5581/6000 [14:12<01:03,  6.64it/s]\r",
      " 93%|█████████▎| 5582/6000 [14:13<01:23,  5.04it/s]\r",
      " 93%|█████████▎| 5583/6000 [14:13<01:14,  5.60it/s]\r",
      " 93%|█████████▎| 5584/6000 [14:13<01:12,  5.74it/s]\r",
      " 93%|█████████▎| 5585/6000 [14:13<01:11,  5.76it/s]\r",
      " 93%|█████████▎| 5586/6000 [14:13<01:16,  5.42it/s]\r",
      " 93%|█████████▎| 5587/6000 [14:14<01:20,  5.13it/s]\r",
      " 93%|█████████▎| 5588/6000 [14:14<01:20,  5.14it/s]\r",
      " 93%|█████████▎| 5589/6000 [14:14<01:15,  5.45it/s]\r",
      " 93%|█████████▎| 5590/6000 [14:14<01:08,  5.95it/s]\r",
      " 93%|█████████▎| 5591/6000 [14:14<01:06,  6.16it/s]\r",
      " 93%|█████████▎| 5592/6000 [14:14<01:09,  5.91it/s]\r",
      " 93%|█████████▎| 5593/6000 [14:15<01:09,  5.86it/s]\r",
      " 93%|█████████▎| 5594/6000 [14:15<01:09,  5.80it/s]\r",
      " 93%|█████████▎| 5595/6000 [14:15<01:07,  5.98it/s]\r",
      " 93%|█████████▎| 5596/6000 [14:15<01:08,  5.91it/s]\r",
      " 93%|█████████▎| 5597/6000 [14:15<01:12,  5.59it/s]\r",
      " 93%|█████████▎| 5598/6000 [14:16<01:12,  5.53it/s]\r",
      " 93%|█████████▎| 5599/6000 [14:16<01:12,  5.50it/s]\r",
      " 93%|█████████▎| 5600/6000 [14:16<01:08,  5.86it/s]\r",
      " 93%|█████████▎| 5601/6000 [14:16<01:11,  5.61it/s]\r",
      " 93%|█████████▎| 5602/6000 [14:16<01:08,  5.81it/s]\r",
      " 93%|█████████▎| 5603/6000 [14:16<01:03,  6.25it/s]\r",
      " 93%|█████████▎| 5604/6000 [14:16<00:59,  6.64it/s]\r",
      " 93%|█████████▎| 5605/6000 [14:17<01:02,  6.31it/s]\r",
      " 93%|█████████▎| 5606/6000 [14:17<01:05,  6.03it/s]\r",
      " 93%|█████████▎| 5607/6000 [14:17<01:02,  6.26it/s]\r",
      " 93%|█████████▎| 5608/6000 [14:17<01:02,  6.25it/s]\r",
      " 93%|█████████▎| 5609/6000 [14:17<01:13,  5.32it/s]\r",
      " 94%|█████████▎| 5610/6000 [14:18<01:11,  5.46it/s]\r",
      " 94%|█████████▎| 5611/6000 [14:18<01:08,  5.71it/s]\r",
      " 94%|█████████▎| 5612/6000 [14:18<01:12,  5.36it/s]\r",
      " 94%|█████████▎| 5613/6000 [14:18<01:10,  5.49it/s]\r",
      " 94%|█████████▎| 5614/6000 [14:18<01:10,  5.51it/s]\r",
      " 94%|█████████▎| 5615/6000 [14:18<01:09,  5.54it/s]\r",
      " 94%|█████████▎| 5616/6000 [14:19<01:11,  5.38it/s]\r",
      " 94%|█████████▎| 5617/6000 [14:19<01:08,  5.62it/s]\r",
      " 94%|█████████▎| 5618/6000 [14:19<01:04,  5.95it/s]\r",
      " 94%|█████████▎| 5619/6000 [14:19<01:11,  5.33it/s]\r",
      " 94%|█████████▎| 5620/6000 [14:19<01:05,  5.84it/s]\r",
      " 94%|█████████▎| 5621/6000 [14:19<01:03,  5.95it/s]\r",
      " 94%|█████████▎| 5622/6000 [14:20<01:07,  5.63it/s]\r",
      " 94%|█████████▎| 5623/6000 [14:20<01:06,  5.70it/s]\r",
      " 94%|█████████▎| 5624/6000 [14:20<01:06,  5.65it/s]\r",
      " 94%|█████████▍| 5625/6000 [14:20<01:12,  5.14it/s]\r",
      " 94%|█████████▍| 5626/6000 [14:20<01:08,  5.49it/s]\r",
      " 94%|█████████▍| 5627/6000 [14:21<01:08,  5.46it/s]\r",
      " 94%|█████████▍| 5628/6000 [14:21<01:03,  5.81it/s]\r",
      " 94%|█████████▍| 5629/6000 [14:21<00:59,  6.19it/s]\r",
      " 94%|█████████▍| 5630/6000 [14:21<01:01,  6.02it/s]\r",
      " 94%|█████████▍| 5631/6000 [14:21<01:02,  5.88it/s]\r",
      " 94%|█████████▍| 5632/6000 [14:21<01:08,  5.37it/s]\r",
      " 94%|█████████▍| 5633/6000 [14:22<01:04,  5.73it/s]\r",
      " 94%|█████████▍| 5634/6000 [14:22<00:59,  6.11it/s]\r",
      " 94%|█████████▍| 5635/6000 [14:22<00:57,  6.36it/s]\r",
      " 94%|█████████▍| 5636/6000 [14:22<01:02,  5.81it/s]\r",
      " 94%|█████████▍| 5637/6000 [14:22<00:59,  6.12it/s]\r",
      " 94%|█████████▍| 5638/6000 [14:22<01:04,  5.58it/s]\r",
      " 94%|█████████▍| 5639/6000 [14:23<00:59,  6.07it/s]\r",
      " 94%|█████████▍| 5640/6000 [14:23<00:56,  6.37it/s]\r",
      " 94%|█████████▍| 5641/6000 [14:23<00:54,  6.60it/s]\r",
      " 94%|█████████▍| 5642/6000 [14:23<00:55,  6.47it/s]\r",
      " 94%|█████████▍| 5643/6000 [14:23<01:03,  5.61it/s]\r",
      " 94%|█████████▍| 5644/6000 [14:23<01:07,  5.28it/s]\r",
      " 94%|█████████▍| 5645/6000 [14:24<01:04,  5.51it/s]\r",
      " 94%|█████████▍| 5646/6000 [14:24<01:02,  5.63it/s]\r",
      " 94%|█████████▍| 5647/6000 [14:24<01:00,  5.83it/s]\r",
      " 94%|█████████▍| 5648/6000 [14:24<00:59,  5.95it/s]\r",
      " 94%|█████████▍| 5649/6000 [14:24<00:56,  6.25it/s]\r",
      " 94%|█████████▍| 5650/6000 [14:24<00:55,  6.31it/s]\r",
      " 94%|█████████▍| 5651/6000 [14:25<00:53,  6.50it/s]\r",
      " 94%|█████████▍| 5652/6000 [14:25<00:58,  5.97it/s]\r",
      " 94%|█████████▍| 5653/6000 [14:25<00:57,  6.06it/s]\r",
      " 94%|█████████▍| 5654/6000 [14:25<01:00,  5.73it/s]\r",
      " 94%|█████████▍| 5655/6000 [14:25<01:00,  5.69it/s]\r",
      " 94%|█████████▍| 5656/6000 [14:26<01:02,  5.52it/s]\r",
      " 94%|█████████▍| 5657/6000 [14:26<01:02,  5.51it/s]\r",
      " 94%|█████████▍| 5658/6000 [14:26<01:04,  5.31it/s]\r",
      " 94%|█████████▍| 5659/6000 [14:26<00:59,  5.68it/s]\r",
      " 94%|█████████▍| 5660/6000 [14:26<00:59,  5.70it/s]\r",
      " 94%|█████████▍| 5661/6000 [14:26<01:00,  5.61it/s]\r",
      " 94%|█████████▍| 5662/6000 [14:27<00:56,  5.98it/s]\r",
      " 94%|█████████▍| 5663/6000 [14:27<00:59,  5.66it/s]\r",
      " 94%|█████████▍| 5664/6000 [14:27<01:00,  5.59it/s]\r",
      " 94%|█████████▍| 5665/6000 [14:27<01:02,  5.34it/s]\r",
      " 94%|█████████▍| 5666/6000 [14:27<00:58,  5.68it/s]\r",
      " 94%|█████████▍| 5667/6000 [14:27<00:57,  5.79it/s]\r",
      " 94%|█████████▍| 5668/6000 [14:28<00:58,  5.64it/s]\r",
      " 94%|█████████▍| 5669/6000 [14:28<00:55,  5.94it/s]\r",
      " 94%|█████████▍| 5670/6000 [14:28<00:52,  6.31it/s]\r",
      " 95%|█████████▍| 5671/6000 [14:28<00:54,  6.05it/s]\r",
      " 95%|█████████▍| 5672/6000 [14:28<00:51,  6.35it/s]\r",
      " 95%|█████████▍| 5673/6000 [14:28<00:50,  6.46it/s]\r",
      " 95%|█████████▍| 5674/6000 [14:29<00:49,  6.65it/s]\r",
      " 95%|█████████▍| 5675/6000 [14:29<00:49,  6.55it/s]\r",
      " 95%|█████████▍| 5676/6000 [14:29<00:49,  6.51it/s]\r",
      " 95%|█████████▍| 5677/6000 [14:29<00:48,  6.60it/s]\r",
      " 95%|█████████▍| 5678/6000 [14:29<00:49,  6.52it/s]\r",
      " 95%|█████████▍| 5679/6000 [14:29<00:51,  6.25it/s]\r",
      " 95%|█████████▍| 5680/6000 [14:30<00:54,  5.83it/s]\r",
      " 95%|█████████▍| 5681/6000 [14:30<00:56,  5.60it/s]\r",
      " 95%|█████████▍| 5682/6000 [14:30<00:55,  5.71it/s]\r",
      " 95%|█████████▍| 5683/6000 [14:30<00:56,  5.57it/s]\r",
      " 95%|█████████▍| 5684/6000 [14:30<00:58,  5.36it/s]\r",
      " 95%|█████████▍| 5685/6000 [14:30<00:54,  5.74it/s]\r",
      " 95%|█████████▍| 5686/6000 [14:31<00:53,  5.92it/s]\r",
      " 95%|█████████▍| 5687/6000 [14:31<00:55,  5.65it/s]\r",
      " 95%|█████████▍| 5688/6000 [14:31<00:52,  5.96it/s]\r",
      " 95%|█████████▍| 5689/6000 [14:31<00:54,  5.74it/s]\r",
      " 95%|█████████▍| 5690/6000 [14:31<00:54,  5.68it/s]\r",
      " 95%|█████████▍| 5691/6000 [14:31<00:53,  5.80it/s]\r",
      " 95%|█████████▍| 5692/6000 [14:32<00:52,  5.84it/s]\r",
      " 95%|█████████▍| 5693/6000 [14:32<00:50,  6.07it/s]\r",
      " 95%|█████████▍| 5694/6000 [14:32<00:50,  6.10it/s]\r",
      " 95%|█████████▍| 5695/6000 [14:32<00:47,  6.40it/s]\r",
      " 95%|█████████▍| 5696/6000 [14:32<00:48,  6.33it/s]\r",
      " 95%|█████████▍| 5697/6000 [14:32<00:45,  6.73it/s]\r",
      " 95%|█████████▍| 5698/6000 [14:33<00:47,  6.38it/s]\r",
      " 95%|█████████▍| 5699/6000 [14:33<00:49,  6.12it/s]\r",
      " 95%|█████████▌| 5700/6000 [14:33<00:52,  5.66it/s]\r",
      " 95%|█████████▌| 5701/6000 [14:33<00:50,  5.86it/s]\r",
      " 95%|█████████▌| 5702/6000 [14:33<00:54,  5.50it/s]\r",
      " 95%|█████████▌| 5703/6000 [14:33<00:52,  5.70it/s]\r",
      " 95%|█████████▌| 5704/6000 [14:34<00:55,  5.30it/s]\r",
      " 95%|█████████▌| 5705/6000 [14:34<00:50,  5.85it/s]\r",
      " 95%|█████████▌| 5706/6000 [14:34<00:52,  5.63it/s]\r",
      " 95%|█████████▌| 5707/6000 [14:34<00:52,  5.55it/s]\r",
      " 95%|█████████▌| 5708/6000 [14:34<01:02,  4.69it/s]\r",
      " 95%|█████████▌| 5709/6000 [14:35<00:58,  4.96it/s]\r",
      " 95%|█████████▌| 5710/6000 [14:35<01:15,  3.85it/s]\r",
      " 95%|█████████▌| 5711/6000 [14:35<01:08,  4.19it/s]\r",
      " 95%|█████████▌| 5712/6000 [14:35<01:00,  4.79it/s]\r",
      " 95%|█████████▌| 5713/6000 [14:36<00:55,  5.20it/s]\r",
      " 95%|█████████▌| 5714/6000 [14:36<00:52,  5.41it/s]\r",
      " 95%|█████████▌| 5715/6000 [14:36<00:51,  5.55it/s]\r",
      " 95%|█████████▌| 5716/6000 [14:36<00:48,  5.82it/s]\r",
      " 95%|█████████▌| 5717/6000 [14:36<00:49,  5.67it/s]\r",
      " 95%|█████████▌| 5718/6000 [14:36<00:53,  5.28it/s]\r",
      " 95%|█████████▌| 5719/6000 [14:37<00:48,  5.74it/s]\r",
      " 95%|█████████▌| 5720/6000 [14:37<00:47,  5.86it/s]\r",
      " 95%|█████████▌| 5721/6000 [14:37<00:46,  5.96it/s]\r",
      " 95%|█████████▌| 5722/6000 [14:37<00:43,  6.33it/s]\r",
      " 95%|█████████▌| 5723/6000 [14:37<00:45,  6.11it/s]\r",
      " 95%|█████████▌| 5724/6000 [14:37<00:50,  5.41it/s]\r",
      " 95%|█████████▌| 5725/6000 [14:38<00:48,  5.65it/s]\r",
      " 95%|█████████▌| 5726/6000 [14:38<00:47,  5.71it/s]\r",
      " 95%|█████████▌| 5727/6000 [14:38<00:46,  5.90it/s]\r",
      " 95%|█████████▌| 5728/6000 [14:38<00:43,  6.20it/s]\r",
      " 95%|█████████▌| 5729/6000 [14:38<00:42,  6.41it/s]\r",
      " 96%|█████████▌| 5730/6000 [14:38<00:45,  5.97it/s]\r",
      " 96%|█████████▌| 5731/6000 [14:39<00:46,  5.81it/s]\r",
      " 96%|█████████▌| 5732/6000 [14:39<00:49,  5.37it/s]\r",
      " 96%|█████████▌| 5733/6000 [14:39<00:56,  4.69it/s]\r",
      " 96%|█████████▌| 5734/6000 [14:39<00:51,  5.16it/s]\r",
      " 96%|█████████▌| 5735/6000 [14:39<00:48,  5.47it/s]\r",
      " 96%|█████████▌| 5736/6000 [14:40<00:48,  5.41it/s]\r",
      " 96%|█████████▌| 5737/6000 [14:40<00:49,  5.34it/s]\r",
      " 96%|█████████▌| 5738/6000 [14:40<00:49,  5.31it/s]\r",
      " 96%|█████████▌| 5739/6000 [14:40<00:50,  5.14it/s]\r",
      " 96%|█████████▌| 5740/6000 [14:40<00:48,  5.35it/s]\r",
      " 96%|█████████▌| 5741/6000 [14:40<00:47,  5.50it/s]\r",
      " 96%|█████████▌| 5742/6000 [14:41<00:46,  5.58it/s]\r",
      " 96%|█████████▌| 5743/6000 [14:41<00:41,  6.23it/s]\r",
      " 96%|█████████▌| 5744/6000 [14:41<00:38,  6.73it/s]\r",
      " 96%|█████████▌| 5745/6000 [14:41<00:39,  6.44it/s]\r",
      " 96%|█████████▌| 5746/6000 [14:41<00:37,  6.69it/s]\r",
      " 96%|█████████▌| 5747/6000 [14:41<00:36,  6.94it/s]\r",
      " 96%|█████████▌| 5748/6000 [14:42<00:41,  6.05it/s]\r",
      " 96%|█████████▌| 5749/6000 [14:42<00:39,  6.28it/s]\r",
      " 96%|█████████▌| 5750/6000 [14:42<00:36,  6.77it/s]\r",
      " 96%|█████████▌| 5751/6000 [14:42<00:39,  6.34it/s]\r",
      " 96%|█████████▌| 5752/6000 [14:42<00:37,  6.61it/s]\r",
      " 96%|█████████▌| 5753/6000 [14:42<00:39,  6.28it/s]\r",
      " 96%|█████████▌| 5754/6000 [14:42<00:39,  6.18it/s]\r",
      " 96%|█████████▌| 5755/6000 [14:43<00:39,  6.20it/s]\r",
      " 96%|█████████▌| 5756/6000 [14:43<00:40,  5.97it/s]\r",
      " 96%|█████████▌| 5757/6000 [14:43<00:38,  6.25it/s]\r",
      " 96%|█████████▌| 5758/6000 [14:43<00:36,  6.61it/s]\r",
      " 96%|█████████▌| 5759/6000 [14:43<00:34,  7.04it/s]\r",
      " 96%|█████████▌| 5760/6000 [14:43<00:33,  7.14it/s]\r",
      " 96%|█████████▌| 5761/6000 [14:44<00:34,  7.00it/s]\r",
      " 96%|█████████▌| 5762/6000 [14:44<00:34,  6.86it/s]\r",
      " 96%|█████████▌| 5763/6000 [14:44<00:42,  5.60it/s]\r",
      " 96%|█████████▌| 5764/6000 [14:44<00:39,  5.94it/s]\r",
      " 96%|█████████▌| 5765/6000 [14:44<00:40,  5.87it/s]\r",
      " 96%|█████████▌| 5766/6000 [14:44<00:39,  5.91it/s]\r",
      " 96%|█████████▌| 5767/6000 [14:45<00:39,  5.84it/s]\r",
      " 96%|█████████▌| 5768/6000 [14:45<00:37,  6.26it/s]\r",
      " 96%|█████████▌| 5769/6000 [14:45<00:36,  6.27it/s]\r",
      " 96%|█████████▌| 5770/6000 [14:45<00:34,  6.63it/s]\r",
      " 96%|█████████▌| 5771/6000 [14:45<00:32,  7.06it/s]\r",
      " 96%|█████████▌| 5772/6000 [14:45<00:35,  6.37it/s]\r",
      " 96%|█████████▌| 5773/6000 [14:45<00:34,  6.59it/s]\r",
      " 96%|█████████▌| 5774/6000 [14:46<00:36,  6.22it/s]\r",
      " 96%|█████████▋| 5775/6000 [14:46<00:34,  6.52it/s]\r",
      " 96%|█████████▋| 5776/6000 [14:46<00:32,  6.84it/s]\r",
      " 96%|█████████▋| 5777/6000 [14:46<00:35,  6.29it/s]\r",
      " 96%|█████████▋| 5778/6000 [14:46<00:38,  5.72it/s]\r",
      " 96%|█████████▋| 5779/6000 [14:47<00:45,  4.84it/s]\r",
      " 96%|█████████▋| 5780/6000 [14:47<00:49,  4.42it/s]\r",
      " 96%|█████████▋| 5781/6000 [14:47<00:41,  5.24it/s]\r",
      " 96%|█████████▋| 5782/6000 [14:47<00:39,  5.51it/s]\r",
      " 96%|█████████▋| 5783/6000 [14:47<00:37,  5.81it/s]\r",
      " 96%|█████████▋| 5784/6000 [14:47<00:36,  5.94it/s]\r",
      " 96%|█████████▋| 5785/6000 [14:48<00:35,  6.06it/s]\r",
      " 96%|█████████▋| 5786/6000 [14:48<00:32,  6.65it/s]\r",
      " 96%|█████████▋| 5787/6000 [14:48<00:32,  6.49it/s]\r",
      " 96%|█████████▋| 5788/6000 [14:48<00:31,  6.72it/s]\r",
      " 96%|█████████▋| 5789/6000 [14:48<00:31,  6.64it/s]\r",
      " 96%|█████████▋| 5790/6000 [14:48<00:30,  7.00it/s]\r",
      " 97%|█████████▋| 5791/6000 [14:48<00:31,  6.55it/s]\r",
      " 97%|█████████▋| 5792/6000 [14:49<00:30,  6.90it/s]\r",
      " 97%|█████████▋| 5793/6000 [14:49<00:30,  6.83it/s]\r",
      " 97%|█████████▋| 5794/6000 [14:49<00:30,  6.66it/s]\r",
      " 97%|█████████▋| 5795/6000 [14:49<00:30,  6.72it/s]\r",
      " 97%|█████████▋| 5796/6000 [14:49<00:28,  7.16it/s]\r",
      " 97%|█████████▋| 5797/6000 [14:49<00:29,  6.85it/s]\r",
      " 97%|█████████▋| 5798/6000 [14:49<00:31,  6.44it/s]\r",
      " 97%|█████████▋| 5799/6000 [14:50<00:32,  6.21it/s]\r",
      " 97%|█████████▋| 5800/6000 [14:50<00:31,  6.27it/s]\r",
      " 97%|█████████▋| 5801/6000 [14:50<00:31,  6.38it/s]\r",
      " 97%|█████████▋| 5802/6000 [14:50<00:30,  6.53it/s]\r",
      " 97%|█████████▋| 5803/6000 [14:50<00:28,  6.83it/s]\r",
      " 97%|█████████▋| 5804/6000 [14:50<00:28,  6.84it/s]\r",
      " 97%|█████████▋| 5805/6000 [14:51<00:28,  6.88it/s]\r",
      " 97%|█████████▋| 5806/6000 [14:51<00:27,  7.08it/s]\r",
      " 97%|█████████▋| 5807/6000 [14:51<00:25,  7.56it/s]\r",
      " 97%|█████████▋| 5808/6000 [14:51<00:24,  7.92it/s]\r",
      " 97%|█████████▋| 5809/6000 [14:51<00:26,  7.33it/s]\r",
      " 97%|█████████▋| 5810/6000 [14:51<00:27,  6.83it/s]\r",
      " 97%|█████████▋| 5811/6000 [14:51<00:32,  5.80it/s]\r",
      " 97%|█████████▋| 5812/6000 [14:52<00:29,  6.40it/s]\r",
      " 97%|█████████▋| 5813/6000 [14:52<00:27,  6.88it/s]\r",
      " 97%|█████████▋| 5814/6000 [14:52<00:26,  7.11it/s]\r",
      " 97%|█████████▋| 5815/6000 [14:52<00:32,  5.76it/s]\r",
      " 97%|█████████▋| 5816/6000 [14:52<00:38,  4.79it/s]\r",
      " 97%|█████████▋| 5817/6000 [14:53<00:42,  4.33it/s]\r",
      " 97%|█████████▋| 5818/6000 [14:53<00:38,  4.73it/s]\r",
      " 97%|█████████▋| 5819/6000 [14:53<00:35,  5.09it/s]\r",
      " 97%|█████████▋| 5820/6000 [14:53<00:32,  5.51it/s]\r",
      " 97%|█████████▋| 5821/6000 [14:53<00:36,  4.97it/s]\r",
      " 97%|█████████▋| 5822/6000 [14:54<00:33,  5.27it/s]\r",
      " 97%|█████████▋| 5823/6000 [14:54<00:31,  5.56it/s]\r",
      " 97%|█████████▋| 5824/6000 [14:54<00:28,  6.24it/s]\r",
      " 97%|█████████▋| 5825/6000 [14:54<00:26,  6.65it/s]\r",
      " 97%|█████████▋| 5826/6000 [14:54<00:25,  6.88it/s]\r",
      " 97%|█████████▋| 5827/6000 [14:54<00:23,  7.34it/s]\r",
      " 97%|█████████▋| 5828/6000 [14:54<00:24,  6.93it/s]\r",
      " 97%|█████████▋| 5829/6000 [14:54<00:23,  7.38it/s]\r",
      " 97%|█████████▋| 5830/6000 [14:55<00:22,  7.39it/s]\r",
      " 97%|█████████▋| 5831/6000 [14:55<00:22,  7.42it/s]\r",
      " 97%|█████████▋| 5832/6000 [14:55<00:23,  7.04it/s]\r",
      " 97%|█████████▋| 5833/6000 [14:55<00:22,  7.30it/s]\r",
      " 97%|█████████▋| 5834/6000 [14:55<00:21,  7.57it/s]\r",
      " 97%|█████████▋| 5835/6000 [14:55<00:21,  7.57it/s]\r",
      " 97%|█████████▋| 5836/6000 [14:55<00:22,  7.39it/s]\r",
      " 97%|█████████▋| 5837/6000 [14:56<00:23,  7.01it/s]\r",
      " 97%|█████████▋| 5838/6000 [14:56<00:22,  7.15it/s]\r",
      " 97%|█████████▋| 5839/6000 [14:56<00:23,  6.82it/s]\r",
      " 97%|█████████▋| 5840/6000 [14:56<00:22,  7.15it/s]\r",
      " 97%|█████████▋| 5841/6000 [14:56<00:21,  7.39it/s]\r",
      " 97%|█████████▋| 5842/6000 [14:56<00:21,  7.39it/s]\r",
      " 97%|█████████▋| 5843/6000 [14:56<00:22,  7.02it/s]\r",
      " 97%|█████████▋| 5844/6000 [14:57<00:21,  7.40it/s]\r",
      " 97%|█████████▋| 5845/6000 [14:57<00:22,  7.03it/s]\r",
      " 97%|█████████▋| 5846/6000 [14:57<00:23,  6.46it/s]\r",
      " 97%|█████████▋| 5847/6000 [14:57<00:21,  7.03it/s]\r",
      " 97%|█████████▋| 5848/6000 [14:57<00:24,  6.32it/s]\r",
      " 97%|█████████▋| 5849/6000 [14:57<00:24,  6.27it/s]\r",
      " 98%|█████████▊| 5850/6000 [14:58<00:25,  5.95it/s]\r",
      " 98%|█████████▊| 5851/6000 [14:58<00:22,  6.58it/s]\r",
      " 98%|█████████▊| 5852/6000 [14:58<00:22,  6.49it/s]\r",
      " 98%|█████████▊| 5853/6000 [14:58<00:22,  6.63it/s]\r",
      " 98%|█████████▊| 5854/6000 [14:58<00:21,  6.74it/s]\r",
      " 98%|█████████▊| 5855/6000 [14:58<00:22,  6.41it/s]\r",
      " 98%|█████████▊| 5856/6000 [14:58<00:20,  6.92it/s]\r",
      " 98%|█████████▊| 5857/6000 [14:59<00:21,  6.67it/s]\r",
      " 98%|█████████▊| 5858/6000 [14:59<00:20,  6.88it/s]\r",
      " 98%|█████████▊| 5859/6000 [14:59<00:18,  7.45it/s]\r",
      " 98%|█████████▊| 5860/6000 [14:59<00:19,  7.15it/s]\r",
      " 98%|█████████▊| 5861/6000 [14:59<00:21,  6.58it/s]\r",
      " 98%|█████████▊| 5862/6000 [14:59<00:20,  6.81it/s]\r",
      " 98%|█████████▊| 5863/6000 [14:59<00:20,  6.77it/s]\r",
      " 98%|█████████▊| 5864/6000 [15:00<00:21,  6.33it/s]\r",
      " 98%|█████████▊| 5865/6000 [15:00<00:23,  5.72it/s]\r",
      " 98%|█████████▊| 5866/6000 [15:00<00:20,  6.45it/s]\r",
      " 98%|█████████▊| 5867/6000 [15:00<00:19,  6.75it/s]\r",
      " 98%|█████████▊| 5868/6000 [15:00<00:18,  7.30it/s]\r",
      " 98%|█████████▊| 5869/6000 [15:00<00:17,  7.36it/s]\r",
      " 98%|█████████▊| 5870/6000 [15:00<00:18,  7.13it/s]\r",
      " 98%|█████████▊| 5871/6000 [15:01<00:19,  6.58it/s]\r",
      " 98%|█████████▊| 5872/6000 [15:01<00:18,  6.76it/s]\r",
      " 98%|█████████▊| 5873/6000 [15:01<00:18,  7.00it/s]\r",
      " 98%|█████████▊| 5874/6000 [15:01<00:17,  7.24it/s]\r",
      " 98%|█████████▊| 5875/6000 [15:01<00:17,  7.20it/s]\r",
      " 98%|█████████▊| 5876/6000 [15:01<00:16,  7.52it/s]\r",
      " 98%|█████████▊| 5877/6000 [15:01<00:19,  6.25it/s]\r",
      " 98%|█████████▊| 5878/6000 [15:02<00:19,  6.18it/s]\r",
      " 98%|█████████▊| 5879/6000 [15:02<00:18,  6.57it/s]\r",
      " 98%|█████████▊| 5880/6000 [15:02<00:20,  5.86it/s]\r",
      " 98%|█████████▊| 5881/6000 [15:02<00:19,  5.98it/s]\r",
      " 98%|█████████▊| 5882/6000 [15:02<00:18,  6.53it/s]\r",
      " 98%|█████████▊| 5883/6000 [15:02<00:18,  6.22it/s]\r",
      " 98%|█████████▊| 5884/6000 [15:03<00:19,  5.90it/s]\r",
      " 98%|█████████▊| 5885/6000 [15:03<00:20,  5.66it/s]\r",
      " 98%|█████████▊| 5886/6000 [15:03<00:18,  6.10it/s]\r",
      " 98%|█████████▊| 5887/6000 [15:03<00:19,  5.84it/s]\r",
      " 98%|█████████▊| 5888/6000 [15:03<00:18,  6.05it/s]\r",
      " 98%|█████████▊| 5889/6000 [15:03<00:18,  6.16it/s]\r",
      " 98%|█████████▊| 5890/6000 [15:04<00:16,  6.64it/s]\r",
      " 98%|█████████▊| 5891/6000 [15:04<00:15,  6.91it/s]\r",
      " 98%|█████████▊| 5892/6000 [15:04<00:16,  6.61it/s]\r",
      " 98%|█████████▊| 5893/6000 [15:04<00:16,  6.61it/s]\r",
      " 98%|█████████▊| 5894/6000 [15:04<00:15,  6.79it/s]\r",
      " 98%|█████████▊| 5895/6000 [15:04<00:14,  7.05it/s]\r",
      " 98%|█████████▊| 5896/6000 [15:04<00:14,  7.12it/s]\r",
      " 98%|█████████▊| 5897/6000 [15:05<00:13,  7.62it/s]\r",
      " 98%|█████████▊| 5898/6000 [15:05<00:14,  6.94it/s]\r",
      " 98%|█████████▊| 5899/6000 [15:05<00:14,  6.86it/s]\r",
      " 98%|█████████▊| 5900/6000 [15:05<00:13,  7.36it/s]\r",
      " 98%|█████████▊| 5901/6000 [15:05<00:14,  6.86it/s]\r",
      " 98%|█████████▊| 5902/6000 [15:05<00:15,  6.49it/s]\r",
      " 98%|█████████▊| 5903/6000 [15:05<00:13,  6.95it/s]\r",
      " 98%|█████████▊| 5904/6000 [15:06<00:12,  7.44it/s]\r",
      " 98%|█████████▊| 5905/6000 [15:06<00:13,  7.29it/s]\r",
      " 98%|█████████▊| 5906/6000 [15:06<00:12,  7.64it/s]\r",
      " 98%|█████████▊| 5907/6000 [15:06<00:13,  7.06it/s]\r",
      " 98%|█████████▊| 5908/6000 [15:06<00:13,  7.03it/s]\r",
      " 98%|█████████▊| 5909/6000 [15:06<00:13,  6.96it/s]\r",
      " 98%|█████████▊| 5910/6000 [15:06<00:13,  6.85it/s]\r",
      " 99%|█████████▊| 5911/6000 [15:07<00:12,  6.87it/s]\r",
      " 99%|█████████▊| 5912/6000 [15:07<00:12,  6.92it/s]\r",
      " 99%|█████████▊| 5913/6000 [15:07<00:11,  7.25it/s]\r",
      " 99%|█████████▊| 5914/6000 [15:07<00:12,  6.81it/s]\r",
      " 99%|█████████▊| 5915/6000 [15:07<00:12,  6.76it/s]\r",
      " 99%|█████████▊| 5916/6000 [15:07<00:12,  6.74it/s]\r",
      " 99%|█████████▊| 5917/6000 [15:07<00:12,  6.55it/s]\r",
      " 99%|█████████▊| 5918/6000 [15:08<00:12,  6.81it/s]\r",
      " 99%|█████████▊| 5919/6000 [15:08<00:11,  7.27it/s]\r",
      " 99%|█████████▊| 5920/6000 [15:08<00:11,  7.17it/s]\r",
      " 99%|█████████▊| 5921/6000 [15:08<00:12,  6.51it/s]\r",
      " 99%|█████████▊| 5922/6000 [15:08<00:12,  6.11it/s]\r",
      " 99%|█████████▊| 5923/6000 [15:08<00:12,  6.28it/s]\r",
      " 99%|█████████▊| 5924/6000 [15:09<00:12,  5.98it/s]\r",
      " 99%|█████████▉| 5925/6000 [15:09<00:12,  6.20it/s]\r",
      " 99%|█████████▉| 5926/6000 [15:09<00:12,  5.97it/s]\r",
      " 99%|█████████▉| 5927/6000 [15:09<00:11,  6.32it/s]\r",
      " 99%|█████████▉| 5928/6000 [15:09<00:11,  6.51it/s]\r",
      " 99%|█████████▉| 5929/6000 [15:09<00:10,  6.96it/s]\r",
      " 99%|█████████▉| 5930/6000 [15:09<00:09,  7.30it/s]\r",
      " 99%|█████████▉| 5931/6000 [15:10<00:09,  7.05it/s]\r",
      " 99%|█████████▉| 5932/6000 [15:10<00:10,  6.72it/s]\r",
      " 99%|█████████▉| 5933/6000 [15:10<00:10,  6.47it/s]\r",
      " 99%|█████████▉| 5934/6000 [15:10<00:10,  6.19it/s]\r",
      " 99%|█████████▉| 5935/6000 [15:10<00:10,  6.49it/s]\r",
      " 99%|█████████▉| 5936/6000 [15:10<00:12,  5.30it/s]\r",
      " 99%|█████████▉| 5937/6000 [15:11<00:10,  5.78it/s]\r",
      " 99%|█████████▉| 5938/6000 [15:11<00:10,  5.66it/s]\r",
      " 99%|█████████▉| 5939/6000 [15:11<00:10,  5.90it/s]\r",
      " 99%|█████████▉| 5940/6000 [15:11<00:10,  5.87it/s]\r",
      " 99%|█████████▉| 5941/6000 [15:11<00:09,  6.00it/s]\r",
      " 99%|█████████▉| 5942/6000 [15:11<00:09,  5.84it/s]\r",
      " 99%|█████████▉| 5943/6000 [15:12<00:09,  6.12it/s]\r",
      " 99%|█████████▉| 5944/6000 [15:12<00:08,  6.43it/s]\r",
      " 99%|█████████▉| 5945/6000 [15:12<00:09,  6.11it/s]\r",
      " 99%|█████████▉| 5946/6000 [15:12<00:09,  5.63it/s]\r",
      " 99%|█████████▉| 5947/6000 [15:12<00:08,  5.94it/s]\r",
      " 99%|█████████▉| 5948/6000 [15:12<00:08,  6.11it/s]\r",
      " 99%|█████████▉| 5949/6000 [15:13<00:07,  6.49it/s]\r",
      " 99%|█████████▉| 5950/6000 [15:13<00:07,  6.39it/s]\r",
      " 99%|█████████▉| 5951/6000 [15:13<00:08,  5.75it/s]\r",
      " 99%|█████████▉| 5952/6000 [15:13<00:08,  5.61it/s]\r",
      " 99%|█████████▉| 5953/6000 [15:13<00:07,  5.93it/s]\r",
      " 99%|█████████▉| 5954/6000 [15:13<00:07,  6.15it/s]\r",
      " 99%|█████████▉| 5955/6000 [15:14<00:08,  5.18it/s]\r",
      " 99%|█████████▉| 5956/6000 [15:14<00:08,  5.20it/s]\r",
      " 99%|█████████▉| 5957/6000 [15:14<00:09,  4.69it/s]\r",
      " 99%|█████████▉| 5958/6000 [15:14<00:08,  4.93it/s]\r",
      " 99%|█████████▉| 5959/6000 [15:14<00:07,  5.36it/s]\r",
      " 99%|█████████▉| 5960/6000 [15:15<00:06,  5.83it/s]\r",
      " 99%|█████████▉| 5961/6000 [15:15<00:06,  6.36it/s]\r",
      " 99%|█████████▉| 5962/6000 [15:15<00:05,  6.34it/s]\r",
      " 99%|█████████▉| 5963/6000 [15:15<00:05,  6.55it/s]\r",
      " 99%|█████████▉| 5964/6000 [15:15<00:05,  6.72it/s]\r",
      " 99%|█████████▉| 5965/6000 [15:15<00:05,  6.03it/s]\r",
      " 99%|█████████▉| 5966/6000 [15:16<00:05,  5.85it/s]\r",
      " 99%|█████████▉| 5967/6000 [15:16<00:05,  5.78it/s]\r",
      " 99%|█████████▉| 5968/6000 [15:16<00:05,  5.34it/s]\r",
      " 99%|█████████▉| 5969/6000 [15:16<00:05,  5.28it/s]\r",
      "100%|█████████▉| 5970/6000 [15:16<00:05,  5.42it/s]\r",
      "100%|█████████▉| 5971/6000 [15:17<00:05,  5.64it/s]\r",
      "100%|█████████▉| 5972/6000 [15:17<00:05,  5.58it/s]\r",
      "100%|█████████▉| 5973/6000 [15:17<00:05,  4.77it/s]\r",
      "100%|█████████▉| 5974/6000 [15:17<00:05,  4.69it/s]\r",
      "100%|█████████▉| 5975/6000 [15:17<00:04,  5.05it/s]\r",
      "100%|█████████▉| 5976/6000 [15:18<00:05,  4.75it/s]\r",
      "100%|█████████▉| 5977/6000 [15:18<00:04,  4.87it/s]\r",
      "100%|█████████▉| 5978/6000 [15:18<00:04,  4.54it/s]\r",
      "100%|█████████▉| 5979/6000 [15:18<00:04,  4.77it/s]\r",
      "100%|█████████▉| 5980/6000 [15:18<00:03,  5.07it/s]\r",
      "100%|█████████▉| 5981/6000 [15:19<00:03,  4.88it/s]\r",
      "100%|█████████▉| 5982/6000 [15:19<00:03,  5.31it/s]\r",
      "100%|█████████▉| 5983/6000 [15:19<00:03,  5.54it/s]\r",
      "100%|█████████▉| 5984/6000 [15:19<00:03,  4.72it/s]\r",
      "100%|█████████▉| 5985/6000 [15:19<00:02,  5.11it/s]\r",
      "100%|█████████▉| 5986/6000 [15:20<00:02,  5.33it/s]\r",
      "100%|█████████▉| 5987/6000 [15:20<00:02,  5.34it/s]\r",
      "100%|█████████▉| 5988/6000 [15:20<00:02,  5.48it/s]\r",
      "100%|█████████▉| 5989/6000 [15:20<00:01,  5.82it/s]\r",
      "100%|█████████▉| 5990/6000 [15:20<00:01,  5.30it/s]\r",
      "100%|█████████▉| 5991/6000 [15:20<00:01,  5.76it/s]\r",
      "100%|█████████▉| 5992/6000 [15:21<00:01,  5.99it/s]\r",
      "100%|█████████▉| 5993/6000 [15:21<00:01,  5.92it/s]\r",
      "100%|█████████▉| 5994/6000 [15:21<00:01,  5.39it/s]\r",
      "100%|█████████▉| 5995/6000 [15:21<00:00,  5.77it/s]\r",
      "100%|█████████▉| 5996/6000 [15:21<00:00,  6.01it/s]\r",
      "100%|█████████▉| 5997/6000 [15:21<00:00,  5.69it/s]\r",
      "100%|█████████▉| 5998/6000 [15:22<00:00,  6.02it/s]\r",
      "100%|█████████▉| 5999/6000 [15:22<00:00,  6.28it/s]\r",
      "100%|██████████| 6000/6000 [15:22<00:00,  6.46it/s]\r",
      "100%|██████████| 6000/6000 [15:22<00:00,  6.50it/s]\n"
     ]
    }
   ],
   "source": [
    "\"\"\"\n",
    "Description: save sample of data and label\n",
    "\"\"\"\n",
    "save_data_label(x = X_val, y= y_val, n=X_val.shape[0], data_path=mnist_data_path, label_path = mnist_label_path)"
   ]
  },
  {
   "cell_type": "code",
   "execution_count": 0,
   "metadata": {
    "application/vnd.databricks.v1+cell": {
     "cellMetadata": {
      "byteLimit": 2048000,
      "rowLimit": 10000
     },
     "inputWidgets": {},
     "nuid": "c699184e-9a8b-4168-ac8c-688da046c18a",
     "showTitle": false,
     "title": ""
    }
   },
   "outputs": [],
   "source": [
    "def make_archive(base_name,root_dir,zip_format='zip'):\n",
    "    \"\"\"\n",
    "    created zip for given folder\n",
    "\n",
    "    Parameters\n",
    "    ----------\n",
    "    base_name : name of zip file\n",
    "    root_dir : directory to archive/zip\n",
    "    zip_format : zip or tar \n",
    "        DESCRIPTION. The default is 'zip'.\n",
    "\n",
    "    Returns\n",
    "    -------\n",
    "    None.\n",
    "\n",
    "    \"\"\"\n",
    "    shutil.make_archive(base_name=base_name, format=zip_format, root_dir=root_dir)\n",
    "    "
   ]
  },
  {
   "cell_type": "code",
   "execution_count": 0,
   "metadata": {
    "application/vnd.databricks.v1+cell": {
     "cellMetadata": {
      "byteLimit": 2048000,
      "rowLimit": 10000
     },
     "inputWidgets": {},
     "nuid": "3fd63568-ab7f-4765-849e-5476032470d6",
     "showTitle": false,
     "title": ""
    }
   },
   "outputs": [
    {
     "name": "stdout",
     "output_type": "stream",
     "text": [
      "Out[39]: True"
     ]
    }
   ],
   "source": [
    "\"\"\"\n",
    "Description: zip data and moved to zip folder\n",
    "\"\"\"\n",
    "\n",
    "dataPath = \"/dbfs/databricks/driver/dataais1\"\n",
    "zipPath= \"/tmp/data\"\n",
    "shutil.make_archive(base_dir= dataPath, format='zip', base_name=zipPath)\n",
    "StoragePath = \"dbfs:/databricks/driver/zipais1/data.zip\"\n",
    "dbutils.fs.cp(\"file:\" +zipPath + \".zip\", StoragePath)"
   ]
  },
  {
   "cell_type": "code",
   "execution_count": 0,
   "metadata": {
    "application/vnd.databricks.v1+cell": {
     "cellMetadata": {
      "byteLimit": 2048000,
      "rowLimit": 10000
     },
     "inputWidgets": {},
     "nuid": "baccb88c-0ca6-46c0-894d-8d8ed490633d",
     "showTitle": false,
     "title": ""
    }
   },
   "outputs": [
    {
     "name": "stdout",
     "output_type": "stream",
     "text": [
      "Out[40]: True"
     ]
    }
   ],
   "source": [
    "\"\"\"\n",
    "Description: Zip Label and moved to zip folder\n",
    "\"\"\"\n",
    "\n",
    "labelPath = \"/dbfs/databricks/driver/labelais1\"\n",
    "zipPath= \"/tmp/label\"\n",
    "shutil.make_archive(base_dir= labelPath, format='zip', base_name=zipPath)\n",
    "StoragePath = \"dbfs:/databricks/driver/zipais1/label.zip\"\n",
    "dbutils.fs.cp(\"file:\" +zipPath + \".zip\", StoragePath)"
   ]
  },
  {
   "cell_type": "code",
   "execution_count": 0,
   "metadata": {
    "application/vnd.databricks.v1+cell": {
     "cellMetadata": {
      "byteLimit": 2048000,
      "rowLimit": 10000
     },
     "inputWidgets": {},
     "nuid": "6f8e87b8-7647-428d-8507-04fea41c95d1",
     "showTitle": false,
     "title": ""
    }
   },
   "outputs": [
    {
     "name": "stdout",
     "output_type": "stream",
     "text": [
      "Out[41]: True"
     ]
    }
   ],
   "source": [
    "\"\"\"\n",
    "Description: Zip model and moved to zip folder\n",
    "\"\"\"\n",
    "model_encryption=0 #  0 if model is uploaded directly as a zip, 1 if model is encryted as .pyc and uploaded as a zip\n",
    "if os.path.isfile(os.path.join(zip_path,\"model.zip\")):\n",
    "    delete_directory(directorys=[os.path.join(zip_path,\"model.zip\")])\n",
    "modelPath = \"/dbfs/databricks/driver/modelais1/\"\n",
    "zipPath= \"/tmp/model\"\n",
    "#shutil.make_archive(base_dir= modelPath, format='zip', base_name=zipPath)\n",
    "make_archive(base_name=zipPath,root_dir=modelPath,zip_format='zip')\n",
    "StoragePath = \"dbfs:/databricks/driver/zipais1/model.zip\"\n",
    "dbutils.fs.cp(\"file:\" +zipPath + \".zip\", StoragePath)\n",
    "# if model_encryption:\n",
    "#     make_archive(base_name=os.path.join(zip_path,\"model\"),root_dir=pyc_model_path,zip_format='zip')\n",
    "# else:\n",
    "#     make_archive(base_name=os.path.join(zip_path,\"model\"),root_dir=model_path,zip_format='zip')"
   ]
  },
  {
   "cell_type": "markdown",
   "metadata": {
    "application/vnd.databricks.v1+cell": {
     "cellMetadata": {
      "byteLimit": 2048000,
      "rowLimit": 10000
     },
     "inputWidgets": {},
     "nuid": "8dd5be73-52c1-42e2-8372-dfecd45d9b47",
     "showTitle": false,
     "title": ""
    }
   },
   "source": [
    "5.0 AIShield API Call"
   ]
  },
  {
   "cell_type": "code",
   "execution_count": 0,
   "metadata": {
    "application/vnd.databricks.v1+cell": {
     "cellMetadata": {
      "byteLimit": 2048000,
      "rowLimit": 10000
     },
     "inputWidgets": {},
     "nuid": "419098f5-063a-428e-b3b6-34a1003ca25e",
     "showTitle": false,
     "title": ""
    }
   },
   "outputs": [],
   "source": [
    "\"\"\"\n",
    "Description: AIShield API URL and subscription key\n",
    "\"\"\" \n",
    "url =  \"xxxxxxxxxxxxxxxxxxxxxxxxxxxxxxxxxxxxxxxxxxxxxxxxxxxxxxxxx\"  # provide api url here\n",
    "org_id = 'xxxxxxxxxxxxxxxxxxxxxxxxxxxxxxxxxxxxxxxxxxxxxxxxxxxxx'  # provide org_id here\n",
    "api_key = \"xxxxxxxxxxxxxxxxxxxxxxxxxxxxxxxxxxxxxxxxxxxxxxxx\"  # provide api_key here"
   ]
  },
  {
   "cell_type": "code",
   "execution_count": 0,
   "metadata": {
    "application/vnd.databricks.v1+cell": {
     "cellMetadata": {
      "byteLimit": 2048000,
      "rowLimit": 10000
     },
     "inputWidgets": {},
     "nuid": "42692d85-f120-4eb1-8489-f42fc1958fed",
     "showTitle": false,
     "title": ""
    }
   },
   "outputs": [],
   "source": [
    "\"\"\"\n",
    "Description: Hit the AIShield API URL using the PyPi Package\n",
    "\"\"\" \n",
    "client=ais.AIShieldApi(api_url=url, api_key=api_key, org_id=org_id)"
   ]
  },
  {
   "cell_type": "code",
   "execution_count": 0,
   "metadata": {
    "application/vnd.databricks.v1+cell": {
     "cellMetadata": {
      "byteLimit": 2048000,
      "rowLimit": 10000
     },
     "inputWidgets": {},
     "nuid": "68514b78-37d0-44f4-9203-b3cc57a66961",
     "showTitle": false,
     "title": ""
    }
   },
   "outputs": [],
   "source": [
    "\"\"\"\n",
    "Description: Define the Task and Analysis Type\n",
    "\"\"\" \n",
    "task_type = ais.get_type(\"task\", \"image_classification\")\n",
    "analysis_type = ais.get_type(\"analysis\", \"extraction\")"
   ]
  },
  {
   "cell_type": "code",
   "execution_count": 0,
   "metadata": {
    "application/vnd.databricks.v1+cell": {
     "cellMetadata": {
      "byteLimit": 2048000,
      "rowLimit": 10000
     },
     "inputWidgets": {},
     "nuid": "09fa0e9b-8efd-45cc-9583-5301da22787f",
     "showTitle": false,
     "title": ""
    }
   },
   "outputs": [],
   "source": [
    "\"\"\"\n",
    "Description: Files path\n",
    "\"\"\"\n",
    "#data_path=os.path.join(zip_path,'mnist_data.zip')\n",
    "data_path=\"/dbfs/databricks/driver/zipais1/data.zip\"# full path of data zip\n",
    "#label_path=os.path.join(zip_path,'mnist_label.zip') # full path of label zip\n",
    "label_path=\"/dbfs/databricks/driver/zipais1/label.zip\"\n",
    "#model_path=os.path.join(zip_path,'mnist_model.zip')# full path of model zip\n",
    "model_path=\"/dbfs/databricks/driver/zipais1/model.zip\"\n",
    "#model_path=\"/databricks/driver/zip/model.zip\""
   ]
  },
  {
   "cell_type": "code",
   "execution_count": 0,
   "metadata": {
    "application/vnd.databricks.v1+cell": {
     "cellMetadata": {
      "byteLimit": 2048000,
      "rowLimit": 10000
     },
     "inputWidgets": {},
     "nuid": "dc6d8ac3-b3ba-4f3e-8eb6-b848c2ea6dcf",
     "showTitle": false,
     "title": ""
    }
   },
   "outputs": [
    {
     "name": "stdout",
     "output_type": "stream",
     "text": [
      "Upload status: data file upload successful, label file upload successful, model file upload successful\n"
     ]
    }
   ],
   "source": [
    "\"\"\"\n",
    "Description: Perform model registration and upload the input artifacts\n",
    "\"\"\"\n",
    "status, job_details = client.register_model(task_type=task_type, analysis_type=analysis_type)\n",
    "model_id = job_details.model_id\n",
    "# print('Model id: {} \\nInput artifacts will be uploaded as:\\n data_upload_uri: {}\\n label_upload_uri: {}'\n",
    "#       '\\n model_upload_uri: {}'.format(model_id, job_details.data_upload_uri, job_details.label_upload_uri,\n",
    "#                                        job_details.model_upload_uri))\n",
    "\n",
    "upload_status = client.upload_input_artifacts(job_details=job_details,\n",
    "                                              data_path=data_path,\n",
    "                                              label_path=label_path,\n",
    "                                              model_path=model_path, )\n",
    "print('Upload status: {}'.format(', '.join(upload_status)))"
   ]
  },
  {
   "cell_type": "code",
   "execution_count": 0,
   "metadata": {
    "application/vnd.databricks.v1+cell": {
     "cellMetadata": {
      "byteLimit": 2048000,
      "rowLimit": 10000
     },
     "inputWidgets": {},
     "nuid": "8fef6834-661d-449e-b70c-3ae04c3722c8",
     "showTitle": false,
     "title": ""
    }
   },
   "outputs": [
    {
     "name": "stdout",
     "output_type": "stream",
     "text": [
      "IC-Extraction parameters are: \n",
      " {'attack_type': 'blackbox', 'defense_bestonly': 'no', 'encryption_strategy': 0, 'input_dimensions': '(28, 28, 1)', 'model_api_details': '', 'model_framework': 'tensorflow', 'normalize_data': 'yes', 'number_of_attack_queries': 1000, 'number_of_classes': 10, 'use_model_api': 'no', 'vulnerability_threshold': 0} \n"
     ]
    }
   ],
   "source": [
    "\"\"\"\n",
    "Description: Specify the appropriate configs required for vulnerability analysis\n",
    "\"\"\"\n",
    "\n",
    "vuln_config = ais.VulnConfig(task_type=task_type,\n",
    "                             analysis_type=analysis_type,\n",
    "                             defense_generate=True)\n",
    "\n",
    "vuln_config.input_dimensions = input_shape  # input dimension for mnist digit classification\n",
    "vuln_config.number_of_classes = num_classes  # number of classes for mnist digit classification\n",
    "vuln_config.attack_type = \"blackbox\"  # greybox or blackbox depending upon the availability of information about Model, Data and Parameters\n",
    "vuln_config.number_of_attack_queries = 1000  # Number of attack queries to be generated for testing model vulnerability \n",
    "vuln_config.encryption_strategy = 0  # value 0 (or) 1, if model is unencrypted or encrypted(pyc) respectively\n",
    "print('IC-Extraction parameters are: \\n {} '.format(vuln_config.get_all_params()))"
   ]
  },
  {
   "cell_type": "code",
   "execution_count": 1,
   "metadata": {
    "application/vnd.databricks.v1+cell": {
     "cellMetadata": {
      "byteLimit": 2048000,
      "rowLimit": 10000
     },
     "inputWidgets": {},
     "nuid": "06aed276-5a24-4cd5-baad-f765e70a3a89",
     "showTitle": false,
     "title": ""
    },
    "pycharm": {
     "is_executing": true
    }
   },
   "outputs": [
    {
     "name": "stdout",
     "output_type": "stream",
     "text": [
      "status: success \n",
      "Job_id: XXXXXXXXXXXXXXXXXXXXXXXXXXXXXXXXXXXXXXXXXX \n"
     ]
    }
   ],
   "source": [
    "\"\"\"\n",
    "Description: Run vulnerability analysis\n",
    "\"\"\"\n",
    "my_status, job_details = client.vuln_analysis(model_id=model_id, vuln_config=vuln_config)\n",
    "my_job_id = job_details.job_id\n",
    "print('status: {} \\nJob_id: {} '.format(my_status, my_job_id))"
   ]
  },
  {
   "cell_type": "code",
   "execution_count": 2,
   "metadata": {
    "application/vnd.databricks.v1+cell": {
     "cellMetadata": {
      "byteLimit": 2048000,
      "rowLimit": 10000
     },
     "inputWidgets": {},
     "nuid": "b8fcd989-50bf-44b8-9597-6127592ab6b3",
     "showTitle": false,
     "title": ""
    }
   },
   "outputs": [
    {
     "name": "stdout",
     "output_type": "stream",
     "text": [
      "Click on the URL to view Vulnerability Dashboard (GUI): ##################################################\n"
     ]
    }
   ],
   "source": [
    "\"\"\"\n",
    "Description: Monitor progress for given Job ID using the Link below\n",
    "\"\"\"\n",
    "monitor_link= job_details.job_monitor_uri\n",
    "print('Click on the URL to view Vulnerability Dashboard (GUI): {}'.format(monitor_link))"
   ]
  },
  {
   "cell_type": "code",
   "execution_count": 3,
   "metadata": {
    "application/vnd.databricks.v1+cell": {
     "cellMetadata": {
      "byteLimit": 2048000,
      "rowLimit": 10000
     },
     "inputWidgets": {},
     "nuid": "6bfac4a4-578e-4866-a0b9-3c784cba9ac9",
     "showTitle": false,
     "title": ""
    }
   },
   "outputs": [
    {
     "data": {
      "text/plain": [
       "'\\nDescription: Fetch Job status using Job ID\\n'"
      ]
     },
     "execution_count": 3,
     "metadata": {},
     "output_type": "execute_result"
    }
   ],
   "source": [
    "\"\"\"\n",
    "Description: Fetch Job status using Job ID\n",
    "\"\"\"\n",
    "my_status = client.job_status (job_id = my_job_id)\n",
    "print('job status ', my_status)"
   ]
  },
  {
   "cell_type": "code",
   "execution_count": 0,
   "metadata": {
    "application/vnd.databricks.v1+cell": {
     "cellMetadata": {
      "byteLimit": 2048000,
      "rowLimit": 10000
     },
     "inputWidgets": {},
     "nuid": "b2339dd9-345d-4d2e-a4f5-ad36f5ef581b",
     "showTitle": false,
     "title": ""
    }
   },
   "outputs": [],
   "source": [
    "def download_artifact(job_id: str, url: str, org_id: str, x_api_key: str, file_format: int = 0, report_type=None):\n",
    "    \"\"\"\n",
    "    job_id: job_id  received after successful api call\n",
    "    report_type: report to be downloaded\n",
    "    file_format: change file_format to : 0- all report in zip\n",
    "                        1- report in .txt\n",
    "                        2- report in .pdf\n",
    "                        3- report in .json\n",
    "                        4- report in .xml\n",
    "    \"\"\"\n",
    "    import requests\n",
    "    import os\n",
    "    import shutil\n",
    "    #from clearml import Dataset, Task\n",
    "    import zipfile\n",
    "    import pickle\n",
    "    import imp\n",
    "    import numpy as np\n",
    "    import pandas as pd\n",
    "    def zip_extractor(file, extract_path=None, delete_zip=False):\n",
    "        \"\"\"\n",
    "        extract zip file to the given path\n",
    "\n",
    "        Parameters\n",
    "        ----------\n",
    "        file : path of zip file\n",
    "        extract_path : path to extract zip file, default considered parent directory\n",
    "        delete_zip: True, delete zip file after unzipping it\n",
    "\n",
    "        Returns\n",
    "        -------\n",
    "        None.\n",
    "        \"\"\"\n",
    "        if extract_path is None:\n",
    "            extract_path = os.path.dirname(file)\n",
    "        print(\"Extracting : {}\".format(file))\n",
    "        zf = zipfile.ZipFile(file=file, mode='r')\n",
    "        zf.extractall(extract_path)\n",
    "        zf.close()\n",
    "        if delete_zip:\n",
    "            os.remove(file)\n",
    "            print(\"{} removed successfully.\".format(file))\n",
    "\n",
    "    report_path = \"/dbfs/databricks/driver/Output_Artifacts\"\n",
    "    vulnerability_report = os.path.join(report_path, 'vulnerability_report')\n",
    "    defense_report = os.path.join(report_path, 'defense_report')\n",
    "    sample_data = os.path.join(report_path, 'sample_data')\n",
    "    defense_artifact = os.path.join(report_path, 'defense_artifact')\n",
    "\n",
    "    for path in [report_path, vulnerability_report, defense_report, sample_data, defense_artifact]:\n",
    "        if os.path.isdir(path):\n",
    "            if os.path.isfile(path):\n",
    "                os.remove(path=path)\n",
    "            else:\n",
    "                shutil.rmtree(path=path)\n",
    "\n",
    "        os.makedirs(path)\n",
    "\n",
    "    reports_type = []\n",
    "    if report_type is None:\n",
    "        reports_type.append(\"Vulnerability\")\n",
    "        reports_type.append(\"Attack_samples\")\n",
    "        reports_type.append(\"Defense\")\n",
    "        reports_type.append(\"Defense_artifact\")\n",
    "        file_format = 0\n",
    "\n",
    "    else:\n",
    "        reports_type.append(report_type)\n",
    "\n",
    "    for report_type in reports_type:\n",
    "        print(\"received report_type : {} and file format is: {}\".format(report_type, file_format))\n",
    "        report_url = url + \"/\" + \"get_report?job_id=\" + str(\n",
    "            job_id) + \"&report_type=\" + report_type + \"&file_format=\" + str(file_format)\n",
    "\n",
    "        headers = {\"org-id\": org_id,\n",
    "                   \"x-api-key\": x_api_key,\n",
    "                   \"Cache-Control\": 'no-cache'\n",
    "                   }\n",
    "        headers1 = headers\n",
    "        headers1[\"content-type\"] = \"application/zip\"\n",
    "\n",
    "        response = requests.request(\"GET\", report_url, params={}, headers=headers1)\n",
    "\n",
    "        if file_format == 0 or file_format == \"Attack_samples\":\n",
    "            file_path = os.path.join(report_path, report_type + \".zip\")\n",
    "            with open(file_path, 'wb') as f:\n",
    "                f.write(response.content)\n",
    "\n",
    "            if report_type.lower() == \"vulnerability\".lower():\n",
    "                zip_extractor(file=file_path, extract_path=vulnerability_report)\n",
    "            elif report_type.lower() == \"Attack_samples\".lower():\n",
    "                zip_extractor(file=file_path, extract_path=sample_data)\n",
    "            elif report_type.lower() == \"Defense\".lower():\n",
    "                zip_extractor(file=file_path, extract_path=defense_report)\n",
    "            elif report_type.lower() == \"Defense_artifact\".lower():\n",
    "                zip_extractor(file=file_path, extract_path=defense_artifact)\n",
    "\n",
    "        elif file_format == 1:\n",
    "            with open(os.path.join(report_path, report_type + \".txt\"), 'wb') as f:\n",
    "                f.write(response.content)\n",
    "        elif file_format == 2:\n",
    "            with open(os.path.join(report_path, report_type + \".pdf\"), 'wb') as f:\n",
    "                f.write(response.content)\n",
    "        elif file_format == 3:\n",
    "            with open(os.path.join(report_path, report_type + \".json\"), 'wb') as f:\n",
    "                f.write(response.content)\n",
    "        elif file_format == 4:\n",
    "            with open(os.path.join(report_path, report_type + \".xml\"), 'wb') as f:\n",
    "                f.write(response.content)\n",
    "\n",
    "    \n",
    "    # read vulnerability reports\n",
    "    print(\"Reading vulnerability report: \\n\\n\\n\")\n",
    "    f = open(os.path.join(vulnerability_report, \"Vulnerability.txt\"), \"r\")\n",
    "    print(f.read())\n",
    "    # writing vulnerability reports to mlflow artifact\n",
    "    with mlflow.start_run(run_id=run_id):\n",
    "            mlflow.log_artifact(vulnerability_report)\n",
    "\n",
    "    print(\"Reading defense report: \\n\\n\\n\")\n",
    "    f = open(os.path.join(defense_report, \"Defense.txt\"), \"r\")\n",
    "    print(f.read())\n",
    "    # writing defense report to mlflow artifact\n",
    "    with mlflow.start_run(run_id=run_id):\n",
    "        mlflow.log_artifact(defense_report)\n",
    "    # writing sample attack data to mlflow artifact\n",
    "    with mlflow.start_run(run_id=run_id):\n",
    "            mlflow.log_artifact(sample_data)\n",
    "\n",
    "    \n",
    "#     # Description: Load defense model\n",
    "\n",
    "    #defense_model_path = os.path.join(defense_artifact, 'defense_model.h5')\n",
    "\n",
    "#     # saving model as artifact on clearml\n",
    "    with mlflow.start_run(run_id=run_id):\n",
    "        mlflow.log_artifact(defense_artifact)\n",
    "\n",
    "    # save data to clearml server\n",
    "#     artifact = Dataset.create(dataset_project=\"AIShield-pipeline-demos\", dataset_name=\"AIShield-Artifact\")\n",
    "#     artifact.add_files(report_path)\n",
    "#     artifact.finalize(auto_upload=True)\n",
    "#     return artifact.id"
   ]
  },
  {
   "cell_type": "code",
   "execution_count": 4,
   "metadata": {
    "application/vnd.databricks.v1+cell": {
     "cellMetadata": {
      "byteLimit": 2048000,
      "rowLimit": 10000
     },
     "inputWidgets": {},
     "nuid": "27255229-0a7c-4455-b5f6-b0e8d98997fd",
     "showTitle": false,
     "title": ""
    }
   },
   "outputs": [],
   "source": [
    "artifact_id = download_artifact(my_job_id, url, org_id, api_key, file_format=0)"
   ]
  },
  {
   "cell_type": "code",
   "execution_count": 0,
   "metadata": {
    "application/vnd.databricks.v1+cell": {
     "cellMetadata": {
      "byteLimit": 2048000,
      "rowLimit": 10000
     },
     "inputWidgets": {},
     "nuid": "3caf56aa-fd6b-427b-8474-43de5bc75893",
     "showTitle": false,
     "title": ""
    }
   },
   "outputs": [
    {
     "name": "stdout",
     "output_type": "stream",
     "text": [
      "Vulnerability Score 0.23\n",
      "Original Model Accuracy 0.99\n"
     ]
    }
   ],
   "source": [
    "vuln_report=open(\"/dbfs/databricks/driver/Output_Artifacts/vulnerability_report/Vulnerability.json\")\n",
    "\n",
    "report=json.load(vuln_report)\n",
    "\n",
    "print(\"Vulnerability Score\",(report[\"Extracted Model Accuracy\"]))\n",
    "print(\"Original Model Accuracy\", report['Original Model Accuracy'])"
   ]
  },
  {
   "cell_type": "code",
   "execution_count": 0,
   "metadata": {
    "application/vnd.databricks.v1+cell": {
     "cellMetadata": {
      "byteLimit": 2048000,
      "rowLimit": 10000
     },
     "inputWidgets": {},
     "nuid": "c4e6d3d5-27de-4ddc-9d1b-2386fedda87f",
     "showTitle": false,
     "title": ""
    }
   },
   "outputs": [],
   "source": [
    "\"\"\"\n",
    "Description: loging parameters and metrics to mlflow\n",
    "\"\"\"\n",
    "with mlflow.start_run(run_id=run_id):\n",
    "    mlflow.log_params(vuln_config.get_all_params())\n",
    "    mlflow.log_param(\"job_id\",my_job_id)\n",
    "    mlflow.log_param(\"monitor_link\",monitor_link)\n",
    "    mlflow.log_metric(\"Vulnerability Score\", report['Extracted Model Accuracy'])\n",
    "    mlflow.log_metric(\"Original Model Accuracy\", report['Original Model Accuracy'])"
   ]
  },
  {
   "cell_type": "code",
   "execution_count": 0,
   "metadata": {
    "application/vnd.databricks.v1+cell": {
     "cellMetadata": {
      "byteLimit": 2048000,
      "rowLimit": 10000
     },
     "inputWidgets": {},
     "nuid": "5dbe131d-f1af-4c7e-912c-8d4045faeb05",
     "showTitle": false,
     "title": ""
    }
   },
   "outputs": [
    {
     "name": "stdout",
     "output_type": "stream",
     "text": [
      "Active run id is : 472936035fd340e8b8c9dd02965ce96e\n",
      "WARNING:absl:Found untraced functions such as _jit_compiled_convolution_op, _jit_compiled_convolution_op while saving (showing 2 of 2). These functions will not be directly callable after loading.\n",
      "INFO:tensorflow:Assets written to: ram://88b6253b-7206-4595-ae35-1b1da73884c8/assets\n",
      "INFO:tensorflow:Assets written to: ram://88b6253b-7206-4595-ae35-1b1da73884c8/assets\n"
     ]
    }
   ],
   "source": [
    "with mlflow.start_run(run_id=run_id):\n",
    "\n",
    "    print(\"Active run id is : {}\".format(run_id))\n",
    "\n",
    "    defmodel=tf.keras.models.load_model(\"/dbfs/databricks/driver/reportsais/defense_artifact/defense_model.h5\")\n",
    "\n",
    "    class SklearnModelWrapper(mlflow.pyfunc.PythonModel):\n",
    "\n",
    "          def __init__(self, model):\n",
    "\n",
    "            self.model = model\n",
    "\n",
    "    wrappedModel = SklearnModelWrapper(defmodel)\n",
    "\n",
    "    conda_env =  _mlflow_conda_env(\n",
    "\n",
    "        additional_conda_deps=None,\n",
    "\n",
    "        additional_pip_deps=[\"cloudpickle=={}\".format(cloudpickle.__version__), \"scikit-learn=={}\".format(sklearn.__version__)],\n",
    "\n",
    "        additional_conda_channels=None,\n",
    "\n",
    "    )\n",
    "\n",
    "    \n",
    "    mlflow.pyfunc.log_model(\"MnistModelAISDefense\", python_model=wrappedModel, conda_env=conda_env)\n",
    "\n",
    "\n",
    "    # get trained model path\n",
    "\n",
    "    artifact_path=mlflow.get_artifact_uri('defmodel')"
   ]
  },
  {
   "cell_type": "code",
   "execution_count": 0,
   "metadata": {
    "application/vnd.databricks.v1+cell": {
     "cellMetadata": {
      "byteLimit": 2048000,
      "rowLimit": 10000
     },
     "inputWidgets": {},
     "nuid": "ac235d5c-0d82-4076-9223-89454ab35d30",
     "showTitle": false,
     "title": ""
    }
   },
   "outputs": [
    {
     "name": "stdout",
     "output_type": "stream",
     "text": [
      "Registered model 'MnistClassificationDefenseAIS' already exists. Creating a new version of this model...\n",
      "2023/03/30 08:53:15 INFO mlflow.tracking._model_registry.client: Waiting up to 300 seconds for model version to finish creation.                     Model name: MnistClassificationDefenseAIS, version 10\n",
      "Created version '10' of model 'MnistClassificationDefenseAIS'.\n"
     ]
    }
   ],
   "source": [
    "\"\"\"\n",
    "Description: Registering the Defence Model on model registry\n",
    "\"\"\"\n",
    "\n",
    "model_name = \"MnistClassificationDefenseAIS\"\n",
    "model_version = mlflow.register_model(f\"runs:/{run_id}/MnistModelAISDefense\", model_name)\n",
    " \n",
    "# Registering the model takes a few seconds, so add a small delay\n",
    "time.sleep(15)"
   ]
  },
  {
   "cell_type": "code",
   "execution_count": 0,
   "metadata": {
    "application/vnd.databricks.v1+cell": {
     "cellMetadata": {
      "byteLimit": 2048000,
      "rowLimit": 10000
     },
     "inputWidgets": {},
     "nuid": "f27df5bb-b3ba-443b-ae4e-7ec53ddecb7c",
     "showTitle": false,
     "title": ""
    }
   },
   "outputs": [
    {
     "name": "stdout",
     "output_type": "stream",
     "text": [
      "Out[63]: <ModelVersion: creation_timestamp=1680166395148, current_stage='Production', description='', last_updated_timestamp=1680166416434, name='MnistClassificationDefenseAIS', run_id='472936035fd340e8b8c9dd02965ce96e', run_link='', source='dbfs:/databricks/mlflow-tracking/1123443484504986/472936035fd340e8b8c9dd02965ce96e/artifacts/MnistModelAISDefense', status='READY', status_message='', tags={}, user_id='627414901360264', version='10'>"
     ]
    }
   ],
   "source": [
    "\"\"\"\n",
    "Pushing the Registered Defence model into Production Stage\n",
    "\"\"\"\n",
    "\n",
    "from mlflow.tracking import MlflowClient\n",
    " \n",
    "client = MlflowClient()\n",
    "client.transition_model_version_stage(\n",
    "  name=model_name,\n",
    "  version=model_version.version,\n",
    "  stage=\"Production\",\n",
    ")"
   ]
  },
  {
   "cell_type": "code",
   "execution_count": 0,
   "metadata": {
    "application/vnd.databricks.v1+cell": {
     "cellMetadata": {
      "byteLimit": 2048000,
      "rowLimit": 10000
     },
     "inputWidgets": {},
     "nuid": "1516c8f6-6caf-44bd-926a-805c908fcdb5",
     "showTitle": false,
     "title": ""
    }
   },
   "outputs": [],
   "source": [
    "report_path = \"/dbfs/databricks/driver/Output_Artifacts\"\n",
    "defense_artifact = os.path.join(report_path, 'defense_artifact')\n",
    "sample_data = os.path.join(report_path, 'sample_data')"
   ]
  },
  {
   "cell_type": "code",
   "execution_count": 0,
   "metadata": {
    "application/vnd.databricks.v1+cell": {
     "cellMetadata": {
      "byteLimit": 2048000,
      "rowLimit": 10000
     },
     "inputWidgets": {},
     "nuid": "a7087507-7db4-4497-af93-36c655e2204b",
     "showTitle": false,
     "title": ""
    }
   },
   "outputs": [
    {
     "name": "stdout",
     "output_type": "stream",
     "text": [
      "Model: \"model_74\"\n",
      "_________________________________________________________________\n",
      " Layer (type)                Output Shape              Param #   \n",
      "=================================================================\n",
      " original_img (InputLayer)   [(None, 28, 28, 1)]       0         \n",
      "                                                                 \n",
      " conv2d_240 (Conv2D)         (None, 26, 26, 16)        160       \n",
      "                                                                 \n",
      " conv2d_241 (Conv2D)         (None, 24, 24, 32)        4640      \n",
      "                                                                 \n",
      " max_pooling2d_102 (MaxPooli  (None, 8, 8, 32)         0         \n",
      " ng2D)                                                           \n",
      "                                                                 \n",
      " dense_148 (Dense)           (None, 8, 8, 64)          2112      \n",
      "                                                                 \n",
      " global_max_pooling2d_74 (Gl  (None, 64)               0         \n",
      " obalMaxPooling2D)                                               \n",
      "                                                                 \n",
      " dense_149 (Dense)           (None, 2)                 130       \n",
      "                                                                 \n",
      "=================================================================\n",
      "Total params: 7,042\n",
      "Trainable params: 7,042\n",
      "Non-trainable params: 0\n",
      "_________________________________________________________________\n"
     ]
    }
   ],
   "source": [
    "defense_model_path = os.path.join(defense_artifact, 'defense_model.h5')\n",
    "defense_model = tf.keras.models.load_model(defense_model_path)\n",
    "defense_model.summary()"
   ]
  },
  {
   "cell_type": "code",
   "execution_count": 0,
   "metadata": {
    "application/vnd.databricks.v1+cell": {
     "cellMetadata": {
      "byteLimit": 2048000,
      "rowLimit": 10000
     },
     "inputWidgets": {},
     "nuid": "f0edd7cb-4081-4491-9195-0fbc23dea0b5",
     "showTitle": false,
     "title": ""
    }
   },
   "outputs": [
    {
     "name": "stdout",
     "output_type": "stream",
     "text": [
      "\r",
      "1/1 [==============================] - ETA: 0s\b\b\b\b\b\b\b\b\b\b\b\b\b\b\b\b\b\b\b\b\b\b\b\b\b\b\b\b\b\b\b\b\b\b\b\b\b\b\b\b\b\b\b\b\b\b\r",
      "1/1 [==============================] - 0s 92ms/step\n",
      "\r",
      "  0%|          | 0/5 [00:00<?, ?it/s]\r",
      "100%|██████████| 5/5 [00:00<00:00, 51275.11it/s]original data:\n",
      "label: ['not-attack' 'not-attack' 'not-attack' 'not-attack' 'not-attack'] \n",
      "prob: [0.9813089  0.9894722  0.9607664  0.98324513 0.99381095]\n",
      "\n"
     ]
    }
   ],
   "source": [
    "'''\n",
    "Description: Use defense model\n",
    "''' \n",
    "import importlib.machinery, importlib.util\n",
    "\n",
    "module_path = os.path.join(defense_artifact, 'predict.py')\n",
    "\n",
    "loader = importlib.machinery.SourceFileLoader(\"predict\", module_path)\n",
    "spec = importlib.util.spec_from_loader(loader.name, loader)\n",
    "predict = importlib.util.module_from_spec(spec)\n",
    "loader.exec_module(predict)    \n",
    "\n",
    "defense = predict.AISDefenseModel(defense_model)\n",
    "\n",
    "label, prob = defense.predict(X_val[:5])\n",
    "print(\"original data:\\nlabel: {} \\nprob: {}\".format(label, prob))\n"
   ]
  },
  {
   "cell_type": "code",
   "execution_count": 0,
   "metadata": {
    "application/vnd.databricks.v1+cell": {
     "cellMetadata": {
      "byteLimit": 2048000,
      "rowLimit": 10000
     },
     "inputWidgets": {},
     "nuid": "0ff0b7af-bccd-4faa-aaf7-2ed3b294a43f",
     "showTitle": false,
     "title": ""
    }
   },
   "outputs": [],
   "source": [
    "def load_data(path):\n",
    "    \"\"\"\n",
    "    path: load data from given path\n",
    "    \"\"\"\n",
    "    files_path = get_file_path(path)\n",
    "    x = []\n",
    "    for file in files_path:\n",
    "        img = cv2.imread(file, 0)\n",
    "        x.append(img)\n",
    "    x = np.expand_dims(np.array(x), axis=-1)\n",
    "    return x"
   ]
  },
  {
   "cell_type": "code",
   "execution_count": 0,
   "metadata": {
    "application/vnd.databricks.v1+cell": {
     "cellMetadata": {
      "byteLimit": 2048000,
      "rowLimit": 10000
     },
     "inputWidgets": {},
     "nuid": "db19f890-9f98-4b87-aaba-b78ae2c4cbf2",
     "showTitle": false,
     "title": ""
    }
   },
   "outputs": [
    {
     "data": {
      "image/png": "[encoded data removed]"
     },
     "metadata": {
      "application/vnd.databricks.v1+output": {
       "addedWidgets": {},
       "arguments": {},
       "data": "data:image/png;base64,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\n",
       "datasetInfos": [],
       "metadata": {},
       "removedWidgets": [],
       "type": "image"
      }
     },
     "output_type": "display_data"
    }
   ],
   "source": [
    "\"\"\"\n",
    "Description: load attack data\n",
    "\"\"\"\n",
    "x_attack = load_data(path=sample_data)\n",
    "\n",
    "plot(x=x_attack, row=4)"
   ]
  },
  {
   "cell_type": "code",
   "execution_count": 0,
   "metadata": {
    "application/vnd.databricks.v1+cell": {
     "cellMetadata": {
      "byteLimit": 2048000,
      "rowLimit": 10000
     },
     "inputWidgets": {},
     "nuid": "49971601-3e44-48f3-9140-8ee8b0b2e45d",
     "showTitle": false,
     "title": ""
    }
   },
   "outputs": [
    {
     "name": "stdout",
     "output_type": "stream",
     "text": [
      "\r",
      "1/1 [==============================] - ETA: 0s\b\b\b\b\b\b\b\b\b\b\b\b\b\b\b\b\b\b\b\b\b\b\b\b\b\b\b\b\b\b\b\b\b\b\b\b\b\b\b\b\b\b\b\b\b\b\r",
      "1/1 [==============================] - 0s 85ms/step\n",
      "\r",
      "  0%|          | 0/5 [00:00<?, ?it/s]\r",
      "100%|██████████| 5/5 [00:00<00:00, 40563.87it/s]attack data:\n",
      "label: ['attack' 'attack' 'attack' 'attack' 'attack'] \n",
      "prob: [1. 1. 1. 1. 1.]\n",
      "\n"
     ]
    }
   ],
   "source": [
    "\"\"\"\n",
    "Description: attack data to get prediction\n",
    "\"\"\"\n",
    "label, prob = defense.predict(x_attack[:5])\n",
    "print(\"attack data:\\nlabel: {} \\nprob: {}\".format(label, prob))"
   ]
  },
  {
   "cell_type": "code",
   "execution_count": 0,
   "metadata": {
    "application/vnd.databricks.v1+cell": {
     "cellMetadata": {
      "byteLimit": 2048000,
      "rowLimit": 10000
     },
     "inputWidgets": {},
     "nuid": "ebe80ef7-2270-46c0-82b1-c8624f227879",
     "showTitle": false,
     "title": ""
    }
   },
   "outputs": [],
   "source": []
  }
 ],
 "metadata": {
  "application/vnd.databricks.v1+notebook": {
   "dashboards": [],
   "language": "python",
   "notebookMetadata": {
    "mostRecentlyExecutedCommandWithImplicitDF": {
     "commandId": 4440988185366903,
     "dataframes": [
      "_sqldf"
     ]
    },
    "pythonIndentUnit": 4
   },
   "notebookName": "MNIST_pypi_package_demos",
   "notebookOrigID": 1123443484504986,
   "widgets": {}
  },
  "kernelspec": {
   "display_name": "Python 3 (ipykernel)",
   "language": "python",
   "name": "python3"
  },
  "language_info": {
   "codemirror_mode": {
    "name": "ipython",
    "version": 3
   },
   "file_extension": ".py",
   "mimetype": "text/x-python",
   "name": "python",
   "nbconvert_exporter": "python",
   "pygments_lexer": "ipython3",
   "version": "3.9.0"
  }
 },
 "nbformat": 4,
 "nbformat_minor": 1
}
