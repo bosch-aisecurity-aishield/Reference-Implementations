{
 "cells": [
  {
   "cell_type": "markdown",
   "id": "8bb70591",
   "metadata": {
    "id": "8bb70591"
   },
   "source": [
    "# Vulnerability Analysis and Defense Generation using AIShield SDK\n",
    "* <b>File Name</b>                          : Tutorial_AIShield_Tensorflow_Image_Classification.ipynb\n",
    "* <b>Date of creation(dd-mm-yyyy)</b>       : 23-12-2022\n",
    "* <b>Author Name/Dept</b>                   : AIShield\n",
    "* <b>Organization</b>                       : BGSW\n",
    "* <b>Description</b>                        : Source Code of Reference Implementation\n",
    "* <b>Copyright</b>                          : Copyright 2022 Bosch Global Software Technologies Private Limited. All Rights Reserved.\n",
    "\n",
    "### Input\n",
    "This Example does the following:\n",
    "* Downloads the MNIST-Dataset from Tensorflow-Datasets\n",
    "* Trains a Tensorflow Model for Image Classification on the MNIST Dataset\n",
    "* Trained Model File : \"_mnist_model.h5_\"\n",
    "\n",
    "### Output and Artifacts\n",
    "1. Vulnerability report\n",
    "2. Defense report\n",
    "3. Defense model\n",
    "4. attack samples"
   ]
  },
  {
   "cell_type": "markdown",
   "id": "x3O_b1zTJ1Pn",
   "metadata": {
    "id": "x3O_b1zTJ1Pn"
   },
   "source": [
    "<a target=\"_blank\" href=\"https://colab.research.google.com/github/bosch-aisecurity-aishield/Reference-Implementations/blob/main/Product_Taskpair_wise/Image_Classification/Extraction/Tutorial_PyPi_AIShield_Image_Classification_Extraction.ipynb\">\n",
    "  <img src=\"https://colab.research.google.com/assets/colab-badge.svg\" alt=\"Open In Colab\"/>\n",
    "</a>"
   ]
  },
  {
   "cell_type": "code",
   "execution_count": null,
   "id": "NIGRtOuVvNM7",
   "metadata": {
    "colab": {
     "base_uri": "https://localhost:8080/"
    },
    "id": "NIGRtOuVvNM7",
    "outputId": "66a83b57-8d80-4cfc-a944-7be795d39c96"
   },
   "outputs": [],
   "source": [
    "# # Install AIShield SDK.\n",
    "# # If not already installed, install by uncommenting the code below\n",
    "\n",
    "!pip install aishield"
   ]
  },
  {
   "cell_type": "markdown",
   "id": "51021949",
   "metadata": {
    "id": "51021949"
   },
   "source": [
    "# `Prerequisites for Reference Implementation` \n",
    "\n",
    "1. Jupyter Notebook\n",
    "2. Python 3.X\n",
    "3. matplotlib 3.5.1\n",
    "4. numpy 1.22.3\n",
    "5. opencv-python 4.5.5.64\n",
    "6. pandas 1.4.1\n",
    "7. scikit-learn 1.0.2\n",
    "8. tensorflow 2.9.1\n",
    "9. zipp 3.7.0\n",
    "10. requests 2.28.0"
   ]
  },
  {
   "cell_type": "code",
   "execution_count": null,
   "id": "WYtibASxaHsn",
   "metadata": {
    "colab": {
     "base_uri": "https://localhost:8080/"
    },
    "id": "WYtibASxaHsn",
    "outputId": "e6745b59-cb05-4530-de10-9c7158a41241"
   },
   "outputs": [],
   "source": [
    "\"\"\"\n",
    "Description: commands to install all the packages, Uncomment to install all the libraries. Generally not required for colab environment\n",
    "Known issue: In colab, if get matplotlib error: cannot import name '_png' from 'matplotlib'. Use !pip install matplotlib==3.1.3\n",
    "\"\"\"\n",
    "!pip install numpy==1.22\n",
    "!pip install matplotlib==3.3.4\n",
    "!pip install tensorflow==2.9.1\n",
    "!pip install scikit-learn==1.0.2\n",
    "!pip install humanfriendly==9.2\n",
    "!pip install tqdm==4.61.1\n",
    "!pip install requests==2.28.0\n",
    "!pip install opencv-python"
   ]
  },
  {
   "cell_type": "markdown",
   "id": "db63a1b8",
   "metadata": {
    "id": "db63a1b8"
   },
   "source": [
    "# `1.0 Import Libraries`"
   ]
  },
  {
   "cell_type": "code",
   "execution_count": null,
   "id": "3e8d6dd6",
   "metadata": {},
   "outputs": [],
   "source": [
    "import tensorflow as tf\n",
    "from tensorflow import keras\n",
    "import numpy as np\n",
    "import matplotlib.pyplot as plt\n",
    "from tensorflow.keras import datasets, layers, optimizers , Sequential\n",
    "from sklearn.model_selection import train_test_split\n",
    "import zipfile \n",
    "import pandas as pd\n",
    "import cv2\n",
    "import os\n",
    "import random\n",
    "import requests\n",
    "import json\n",
    "import time\n",
    "import shutil\n",
    "\n",
    "#importing AIShield Library\n",
    "import aishield as ais"
   ]
  },
  {
   "cell_type": "code",
   "execution_count": null,
   "id": "645ec785",
   "metadata": {
    "colab": {
     "base_uri": "https://localhost:8080/"
    },
    "id": "645ec785",
    "outputId": "f00f96a6-cfb0-4305-9cbb-2cb7e2cd5fa2"
   },
   "outputs": [],
   "source": [
    "(X_train,y_train),(X_test,y_test)=datasets.mnist.load_data()"
   ]
  },
  {
   "cell_type": "markdown",
   "id": "524084e3",
   "metadata": {
    "id": "524084e3"
   },
   "source": [
    "### `Splitting Data into Training and Validation Data` \n"
   ]
  },
  {
   "cell_type": "code",
   "execution_count": null,
   "id": "625bd8cd",
   "metadata": {
    "id": "625bd8cd"
   },
   "outputs": [],
   "source": [
    "X_train, X_val, y_train, y_val = train_test_split(X_train,y_train,stratify = y_train,test_size = 0.1,random_state = 42)"
   ]
  },
  {
   "cell_type": "markdown",
   "id": "2a111a20",
   "metadata": {
    "id": "2a111a20"
   },
   "source": [
    "### `Checking size of the datasets` \n"
   ]
  },
  {
   "cell_type": "code",
   "execution_count": null,
   "id": "01d4434a",
   "metadata": {
    "colab": {
     "base_uri": "https://localhost:8080/"
    },
    "id": "01d4434a",
    "outputId": "7304db7c-0d61-4958-a00a-2188727029a8"
   },
   "outputs": [],
   "source": [
    "print(\"shape of x_train: \",X_train.shape)\n",
    "print(\"shape of y_train: {}\".format(y_train.shape))\n",
    "print(f'shape of x_test: {X_test.shape}')\n",
    "print(f'shape of y_test: {y_test.shape}')\n",
    "print(f'shape of x_val: {X_val.shape}')\n",
    "print(f'shape of y_val: {y_val.shape}')"
   ]
  },
  {
   "cell_type": "markdown",
   "id": "6ebaf74b",
   "metadata": {
    "id": "6ebaf74b"
   },
   "source": [
    "### `Visualizing few random data samples` \n"
   ]
  },
  {
   "cell_type": "code",
   "execution_count": null,
   "id": "_M6x9lGApOSE",
   "metadata": {
    "id": "_M6x9lGApOSE"
   },
   "outputs": [],
   "source": [
    "def plot(x, y=None, row: int = 2):\n",
    "    \"\"\"\n",
    "    to visualize random sample\n",
    "    \"\"\"\n",
    "    rows = row\n",
    "    random_indices = random.sample(range(x.shape[0]), rows * rows)\n",
    "    sample_images = x[random_indices, :]\n",
    "    if y is not None:\n",
    "        sample_labels = y[random_indices]\n",
    "\n",
    "    fig, axs = plt.subplots(nrows=rows, ncols=rows, figsize=(12, 9), sharex=True, sharey=True)\n",
    "    for i in range(rows * rows):\n",
    "        subplot_row = i // rows\n",
    "        subplot_col = i % rows\n",
    "        axs[subplot_row, subplot_col].imshow(sample_images[i, :])\n",
    "        if y is not None:\n",
    "            axs[subplot_row, subplot_col].set_title(\"Class. %d\" % sample_labels[i])\n",
    "    plt.tight_layout()\n",
    "    plt.show()"
   ]
  },
  {
   "cell_type": "code",
   "execution_count": null,
   "id": "c4E4Vb-rpPG_",
   "metadata": {
    "colab": {
     "base_uri": "https://localhost:8080/",
     "height": 657
    },
    "id": "c4E4Vb-rpPG_",
    "outputId": "b954ab3b-8ea0-46ae-c185-30e5944ddb56",
    "scrolled": true
   },
   "outputs": [],
   "source": [
    "\"\"\"\n",
    "Description: visualize data\n",
    "\"\"\"\n",
    "plot(X_train, y_train, row=5)"
   ]
  },
  {
   "cell_type": "markdown",
   "id": "8152b5ff",
   "metadata": {
    "id": "8152b5ff"
   },
   "source": [
    "### `Setting values for Number of Classes and Input Shape` \n"
   ]
  },
  {
   "cell_type": "code",
   "execution_count": null,
   "id": "a4a39311",
   "metadata": {
    "id": "a4a39311"
   },
   "outputs": [],
   "source": [
    "img_row,img_col,channel=28,28,1\n",
    "num_classes=10\n",
    "input_shape=(img_row,img_col,channel)"
   ]
  },
  {
   "cell_type": "markdown",
   "id": "c8fdb3a9",
   "metadata": {
    "id": "c8fdb3a9"
   },
   "source": [
    "### `Normalizing and Reshaping the Data` \n"
   ]
  },
  {
   "cell_type": "code",
   "execution_count": null,
   "id": "b9e34e3b",
   "metadata": {
    "id": "b9e34e3b"
   },
   "outputs": [],
   "source": [
    "X_train = X_train.reshape(-1,*input_shape)/255.0\n",
    "X_val =  X_val.reshape(-1,*input_shape)/255.0\n",
    "X_test =  X_test.reshape(-1,*input_shape)/255.0"
   ]
  },
  {
   "cell_type": "markdown",
   "id": "7365a93c",
   "metadata": {
    "id": "7365a93c"
   },
   "source": [
    "### `Convert the Labels to one hot encoder` \n"
   ]
  },
  {
   "cell_type": "code",
   "execution_count": null,
   "id": "40bd0b1c",
   "metadata": {
    "id": "40bd0b1c"
   },
   "outputs": [],
   "source": [
    "y_train=keras.utils.to_categorical(y_train,num_classes)\n",
    "y_test=keras.utils.to_categorical(y_test,num_classes)"
   ]
  },
  {
   "cell_type": "markdown",
   "id": "de7fecaf",
   "metadata": {
    "id": "de7fecaf"
   },
   "source": [
    "# `3.0 Model Development and Training`"
   ]
  },
  {
   "cell_type": "code",
   "execution_count": null,
   "id": "b5c135cb",
   "metadata": {
    "id": "b5c135cb"
   },
   "outputs": [],
   "source": [
    "def make_directory(directory):\n",
    "    \"\"\"\n",
    "    Create directory\n",
    "\n",
    "    Parameters\n",
    "    ----------\n",
    "    directorys : list containing the directory's path to create \n",
    "    \n",
    "    Returns\n",
    "    -------\n",
    "    None.\n",
    "\n",
    "    \"\"\"\n",
    "    for d in directory:\n",
    "        if os.path.isdir(d):\n",
    "            print(\"directory {} already exist\".format(d))\n",
    "        if os.path.isdir(d)==False:\n",
    "            os.mkdir(path=d)\n",
    "            print(\"directory {} created successfully\".format(d))"
   ]
  },
  {
   "cell_type": "code",
   "execution_count": null,
   "id": "d74a31fd",
   "metadata": {
    "id": "d74a31fd"
   },
   "outputs": [],
   "source": [
    "def delete_directory(directorys):\n",
    "    \"\"\"\n",
    "    Delete directory \n",
    "\n",
    "    Parameters\n",
    "    ----------\n",
    "    directorys : list containing the directory's path to delete along with all the files\n",
    "\n",
    "    Returns\n",
    "    -------\n",
    "    None.\n",
    "\n",
    "    \"\"\"\n",
    "    if len(directorys)>=1:\n",
    "        for d in directorys:\n",
    "            if os.path.isdir(d):\n",
    "                try:\n",
    "                    if os.path.isfile(d):\n",
    "                        os.remove(path=d)\n",
    "                    else:\n",
    "                        shutil.rmtree(path=d)\n",
    "                        print(\"Removed: {}\".format(d))\n",
    "                except:\n",
    "                    print(\"Failed to removed: {}\".format(d))\n",
    "            else:\n",
    "                print(\"Failed to removed: {}\".format(d))\n",
    "                "
   ]
  },
  {
   "cell_type": "code",
   "execution_count": null,
   "id": "00b9df5d",
   "metadata": {
    "id": "00b9df5d"
   },
   "outputs": [],
   "source": [
    "def make_archive(base_name,root_dir,zip_format='zip'):\n",
    "    \"\"\"\n",
    "    Creates zip for given folder\n",
    "\n",
    "    Parameters\n",
    "    ----------\n",
    "    base_name : name of zip file\n",
    "    root_dir : directory to archive/zip\n",
    "    zip_format : zip or tar \n",
    "        DESCRIPTION. The default is 'zip'.\n",
    "\n",
    "    Returns\n",
    "    -------\n",
    "    None.\n",
    "\n",
    "    \"\"\"\n",
    "    shutil.make_archive(base_name=base_name, format=zip_format, root_dir=root_dir)\n",
    "    "
   ]
  },
  {
   "cell_type": "markdown",
   "id": "b2b98ef5",
   "metadata": {
    "id": "b2b98ef5"
   },
   "source": [
    "### `Creating Data, Model and Label Folder` \n"
   ]
  },
  {
   "cell_type": "code",
   "execution_count": null,
   "id": "cf995990",
   "metadata": {
    "colab": {
     "base_uri": "https://localhost:8080/"
    },
    "id": "cf995990",
    "outputId": "bf3b8745-3173-416f-b513-8ef1b7fdfe8b"
   },
   "outputs": [],
   "source": [
    "data_path=os.path.join(os.getcwd(),\"data\")\n",
    "model_path=os.path.join(os.getcwd(),\"model\")\n",
    "label_path=os.path.join(os.getcwd(),\"label\")\n",
    "\n",
    "#Create Zip Path which contains data , model and label zip files\n",
    "zip_path=os.path.join(os.getcwd(),\"zip2\")\n",
    "\n",
    "#deleting previously generated folders\n",
    "delete_directory(directorys=[data_path,model_path,label_path,zip_path])\n",
    "\n",
    "#creating folders\n",
    "make_directory([data_path,model_path,label_path,zip_path])"
   ]
  },
  {
   "cell_type": "markdown",
   "id": "392feb06",
   "metadata": {
    "id": "392feb06"
   },
   "source": [
    "### `Creating the Model Architecture` \n"
   ]
  },
  {
   "cell_type": "code",
   "execution_count": null,
   "id": "04fb22ba",
   "metadata": {
    "id": "04fb22ba"
   },
   "outputs": [],
   "source": [
    "\"\"\"\n",
    "Description: Create model architecture\n",
    "\"\"\"\n",
    "model = Sequential([\n",
    "    layers.Conv2D(32, (5,5), padding='same', activation='relu', input_shape=input_shape),\n",
    "    layers.Conv2D(32, (5,5), padding='same', activation='relu'),\n",
    "    layers.MaxPool2D(),\n",
    "    layers.Dropout(0.25),\n",
    "    layers.Conv2D(64, (3,3), padding='same', activation='relu'),\n",
    "    layers.Conv2D(64, (3,3), padding='same', activation='relu'),\n",
    "    layers.MaxPool2D(strides=(2,2)),\n",
    "    layers.Dropout(0.25),\n",
    "    layers.Flatten(),\n",
    "    layers.Dense(128, activation='relu'),\n",
    "    layers.Dropout(0.5),\n",
    "    layers.Dense(num_classes, activation='softmax')  \n",
    "])\n",
    "\n",
    "#Compile model\n",
    "model.compile(optimizer=optimizers.Adam(learning_rate=1e-3), loss = 'categorical_crossentropy', metrics=['accuracy'])"
   ]
  },
  {
   "cell_type": "code",
   "execution_count": null,
   "id": "e75974d4",
   "metadata": {
    "colab": {
     "base_uri": "https://localhost:8080/"
    },
    "id": "e75974d4",
    "outputId": "e0ee2205-f643-46c8-8886-32cf77fc548b"
   },
   "outputs": [],
   "source": [
    "\"\"\"\n",
    "Description: Model summary\n",
    "\"\"\"\n",
    "model.summary()"
   ]
  },
  {
   "cell_type": "code",
   "execution_count": null,
   "id": "fee5be43",
   "metadata": {
    "id": "fee5be43"
   },
   "outputs": [],
   "source": [
    "\"\"\"\n",
    "Description : Callbacks\n",
    "\"\"\"\n",
    "# Checkpoint\n",
    "checkpoint = tf.keras.callbacks.ModelCheckpoint(filepath=os.path.join(model_path,'mnist_model.h5'),monitor='val_loss',verbose=1,save_best_only=True,mode='auto')\n",
    "# Early stopper\n",
    "early_stop = tf.keras.callbacks.EarlyStopping(monitor='val_loss',min_delta=0,patience=3,mode='min')\n",
    "\n",
    "callbacks = [early_stop, checkpoint]"
   ]
  },
  {
   "cell_type": "markdown",
   "id": "bf1f2c1f",
   "metadata": {
    "id": "bf1f2c1f"
   },
   "source": [
    "### `Training and Evaluating the Model` \n"
   ]
  },
  {
   "cell_type": "code",
   "execution_count": null,
   "id": "bb8aa5bd",
   "metadata": {
    "colab": {
     "base_uri": "https://localhost:8080/"
    },
    "id": "bb8aa5bd",
    "outputId": "ce213019-15f8-43bb-c68f-22787f8b0600"
   },
   "outputs": [],
   "source": [
    "\"\"\"\n",
    "Description: Training model\n",
    "\"\"\"\n",
    "history = model.fit(X_train, y_train, validation_data = (X_test, y_test),epochs = 1, batch_size=64, verbose = 1 , callbacks = callbacks)"
   ]
  },
  {
   "cell_type": "code",
   "execution_count": null,
   "id": "5968a54a",
   "metadata": {
    "colab": {
     "base_uri": "https://localhost:8080/"
    },
    "id": "5968a54a",
    "outputId": "0cfda993-3c5c-4465-fcea-c01ad220f370"
   },
   "outputs": [],
   "source": [
    "\"\"\"\n",
    "Description: Evaluate trained model\n",
    "\"\"\"\n",
    "loss,accuracy=model.evaluate(X_test, y_test)\n",
    "print(\"* Loss: {} \\n* Accuracy: {}\".format(loss,accuracy))"
   ]
  },
  {
   "cell_type": "markdown",
   "id": "7f8fb2de",
   "metadata": {
    "id": "7f8fb2de"
   },
   "source": [
    "# `4.0 Prepare Data , Model and Label`"
   ]
  },
  {
   "cell_type": "code",
   "execution_count": null,
   "id": "dd20cc1d",
   "metadata": {
    "id": "dd20cc1d"
   },
   "outputs": [],
   "source": [
    "\"\"\"\n",
    "Description: Save data and label\n",
    "\"\"\"\n",
    "label=pd.DataFrame()\n",
    "img_name = []\n",
    "img_label = [] \n",
    "  \n",
    "for i in range(X_val.shape[0]):\n",
    "    cv2.imwrite(os.path.join(data_path,str(i)+\".jpg\") ,X_val[i]*255.0) # don't use plt.imread otheriwse while loading the saved images , and passing to model there is accuarcy drop \n",
    "    img_name.append(str(i)+\".jpg\")\n",
    "    img_label.append(y_val[i])\n",
    "label['image'] = img_name\n",
    "label[\"label\"] = np.array(img_label)\n",
    "\n",
    "#write orig_label dataframe\n",
    "label.to_csv(os.path.join(label_path,\"label.csv\"),index=False)"
   ]
  },
  {
   "cell_type": "markdown",
   "id": "3a705281",
   "metadata": {
    "id": "3a705281"
   },
   "source": [
    "### `Creating Zip Folders of Data, Label and Model`"
   ]
  },
  {
   "cell_type": "code",
   "execution_count": null,
   "id": "c2f43cc4",
   "metadata": {
    "id": "c2f43cc4"
   },
   "outputs": [],
   "source": [
    "\"\"\"\n",
    "Description: Zip data\n",
    "\"\"\"\n",
    "make_archive(base_name=os.path.join(zip_path,\"data\"),root_dir=data_path,zip_format='zip')\n",
    "\n",
    "\"\"\"\n",
    "Description: Zip label\n",
    "\"\"\"\n",
    "make_archive(base_name=os.path.join(zip_path,\"label\"),root_dir=label_path,zip_format='zip')\n",
    "\n",
    "\"\"\"\n",
    "Description: Zip model\n",
    "\"\"\"\n",
    "model_encryption=0 #0 if model is uploaded directly as a zip, 1 if model is encryted as .pyc and uploaded as a zip\n",
    "if os.path.isfile(os.path.join(zip_path,\"model.zip\")):\n",
    "    delete_directory(directorys=[os.path.join(zip_path,\"model.zip\")])\n",
    "make_archive(base_name=os.path.join(zip_path,\"model\"),root_dir=model_path,zip_format='zip')"
   ]
  },
  {
   "cell_type": "markdown",
   "id": "6003304c",
   "metadata": {
    "id": "6003304c"
   },
   "source": [
    "# `5.0 Vulnerability Analysis and Defense Generation using AIShield SDK`"
   ]
  },
  {
   "cell_type": "code",
   "execution_count": null,
   "id": "db53479c",
   "metadata": {
    "id": "db53479c"
   },
   "outputs": [],
   "source": [
    "\"\"\"\n",
    "Description: AIShield API URL and subscription key\n",
    "\"\"\" \n",
    "baseurl=\"\" # fill in API endpoint url from AIShield developer portal under API tab \n",
    "url = baseurl+\" \"\n",
    "api_key = \" \" # fill in subscription key from AIShield developer portal under My Dashboard tab\n",
    "org_id = \" \" # fill in Org_Id provided in welcome email"
   ]
  },
  {
   "cell_type": "code",
   "execution_count": null,
   "id": "6ff748b8",
   "metadata": {
    "id": "6ff748b8"
   },
   "outputs": [],
   "source": [
    "\"\"\"\n",
    "Description: File paths\n",
    "\"\"\"\n",
    "data_path=os.path.join(zip_path,'data.zip') #full path of data zip\n",
    "label_path=os.path.join(zip_path,'label.zip') #full path of label zip\n",
    "model_path=os.path.join(zip_path,'model.zip') #full path of model zip"
   ]
  },
  {
   "cell_type": "markdown",
   "id": "ea6bfae9",
   "metadata": {
    "id": "ea6bfae9"
   },
   "source": [
    "### `Perform Vulnerability Analysis through VulConfig Function`"
   ]
  },
  {
   "cell_type": "code",
   "execution_count": null,
   "id": "6dfe30d9",
   "metadata": {
    "id": "6dfe30d9"
   },
   "outputs": [],
   "source": [
    "\"\"\"\n",
    "Description: Initialize the AIShield API\n",
    "\"\"\"\n",
    "client = ais.AIShieldApi(api_url=url, api_key=api_key, org_id=org_id)"
   ]
  },
  {
   "cell_type": "code",
   "execution_count": null,
   "id": "11a9ad22",
   "metadata": {
    "id": "11a9ad22"
   },
   "outputs": [],
   "source": [
    "\"\"\"\n",
    "Description: Define the task and analysis type\n",
    "\"\"\"\n",
    "task_type = ais.get_type(\"task\", \"image_classification\")\n",
    "analysis_type = ais.get_type(\"analysis\", \"extraction\")"
   ]
  },
  {
   "cell_type": "code",
   "execution_count": null,
   "id": "656c732f",
   "metadata": {
    "colab": {
     "base_uri": "https://localhost:8080/"
    },
    "id": "656c732f",
    "outputId": "210d4df4-eee5-4966-8e93-051363aed413"
   },
   "outputs": [],
   "source": [
    "\"\"\"\n",
    "Description: Perform model registration and upload the input artifacts\n",
    "\"\"\"\n",
    "status, job_details = client.register_model(task_type=task_type, analysis_type=analysis_type)\n",
    "model_id = job_details.model_id\n",
    "# print('Model id: {} \\nInput artifacts will be uploaded as:\\n data_upload_uri: {}\\n label_upload_uri: {}'\n",
    "#       '\\n model_upload_uri: {}'.format(model_id, job_details.data_upload_uri, job_details.label_upload_uri,\n",
    "#                                        job_details.model_upload_uri))\n",
    "\n",
    "upload_status = client.upload_input_artifacts(job_details=job_details,\n",
    "                                              data_path=data_path,\n",
    "                                              label_path=label_path,\n",
    "                                              model_path=model_path, )\n",
    "print('Upload status: {}'.format(', '.join(upload_status)))"
   ]
  },
  {
   "cell_type": "code",
   "execution_count": null,
   "id": "54019734",
   "metadata": {
    "colab": {
     "base_uri": "https://localhost:8080/"
    },
    "id": "54019734",
    "outputId": "dd3f02d4-be04-47b0-d2f5-fe766ea2ab17"
   },
   "outputs": [],
   "source": [
    "\"\"\"\n",
    "Description: Specify the appropriate configs required for vulnerability analysis\n",
    "\"\"\"\n",
    "\n",
    "vuln_config = ais.VulnConfig(task_type=task_type,\n",
    "                             analysis_type=analysis_type,\n",
    "                             defense_generate=True)\n",
    "\n",
    "vuln_config.input_dimensions = input_shape  # input dimension for mnist digit classification\n",
    "vuln_config.number_of_classes = num_classes  # number of classes for mnist digit classification\n",
    "vuln_config.attack_type = \"greybox\"  # greybox or blackbox depending upon the availability of information about Model, Data and Parameters\n",
    "vuln_config.number_of_attack_queries = 60000  # Number of attack queries to be generated for testing model vulnerability \n",
    "vuln_config.encryption_strategy = 0  # value 0 (or) 1, if model is unencrypted or encrypted(pyc) respectively\n",
    "print('IC-Extraction parameters are: \\n {} '.format(vuln_config.get_all_params()))"
   ]
  },
  {
   "cell_type": "code",
   "execution_count": null,
   "id": "8c412396",
   "metadata": {
    "colab": {
     "base_uri": "https://localhost:8080/"
    },
    "id": "8c412396",
    "outputId": "273f0663-2bfd-4983-87dc-ab1507af76ec"
   },
   "outputs": [],
   "source": [
    "\"\"\"\n",
    "Description: Run vulnerability analysis\n",
    "\"\"\"\n",
    "my_status, job_details = client.vuln_analysis(model_id=model_id, vuln_config=vuln_config)\n",
    "my_job_id = job_details.job_id\n",
    "print('status: {} \\nJob_id: {} '.format(my_status, my_job_id))"
   ]
  },
  {
   "cell_type": "code",
   "execution_count": null,
   "id": "dFlWdSrhwD2L",
   "metadata": {
    "colab": {
     "base_uri": "https://localhost:8080/"
    },
    "id": "dFlWdSrhwD2L",
    "outputId": "cb014443-9e7c-4443-a5c6-1e0f66839df1"
   },
   "outputs": [],
   "source": [
    "\"\"\"\n",
    "Description: Monitor progress for given Job ID using the Link below\n",
    "\"\"\"\n",
    "print('Click on the URL to view Vulnerability Dashboard (GUI): {}'.format(job_details.job_monitor_uri))"
   ]
  },
  {
   "cell_type": "code",
   "execution_count": null,
   "id": "d0b7705d",
   "metadata": {
    "colab": {
     "base_uri": "https://localhost:8080/"
    },
    "id": "d0b7705d",
    "outputId": "fe1bab87-d327-4e64-d427-21b986d3c8a3"
   },
   "outputs": [],
   "source": [
    "\"\"\"\n",
    "Description: Fetch Job status using Job ID\n",
    "\"\"\"\n",
    "my_status = client.job_status (job_id = my_job_id)\n",
    "print('job status ', my_status)"
   ]
  },
  {
   "cell_type": "markdown",
   "id": "6ec9b3b1",
   "metadata": {
    "id": "6ec9b3b1"
   },
   "source": [
    "### `Saving the Artifacts and the Reports`"
   ]
  },
  {
   "cell_type": "code",
   "execution_count": null,
   "id": "0cc53611",
   "metadata": {
    "colab": {
     "base_uri": "https://localhost:8080/"
    },
    "id": "0cc53611",
    "outputId": "dc82348c-728d-4677-a757-cc9105e3a772"
   },
   "outputs": [],
   "source": [
    "\"\"\"\n",
    "Description: Creating a directory to save the defense artifacts\n",
    "\"\"\"\n",
    "OUTPUT_PATH = os.path.join(os.getcwd(),\"Output_Artifacts\")\n",
    "make_directory([OUTPUT_PATH])"
   ]
  },
  {
   "cell_type": "code",
   "execution_count": null,
   "id": "70b3217d",
   "metadata": {
    "colab": {
     "base_uri": "https://localhost:8080/"
    },
    "id": "70b3217d",
    "outputId": "767eb895-7f8b-4eff-9c3d-36102f62e3d3"
   },
   "outputs": [],
   "source": [
    "\"\"\"\n",
    "Description: Download the Vulnerability Report\n",
    "\"\"\"\n",
    "if my_status == \"success\":\n",
    "    output_conf = ais.OutputConf(report_type=ais.get_type(\"report\", \"vulnerability\"),\n",
    "                                 file_format=ais.get_type(\"file_format\", \"pdf\"),\n",
    "                                 save_folder_path=OUTPUT_PATH)\n",
    "        \n",
    "    vul_report_path = client.save_job_report(job_id=my_job_id, output_config=output_conf)"
   ]
  },
  {
   "cell_type": "code",
   "execution_count": null,
   "id": "e5df5119",
   "metadata": {
    "colab": {
     "base_uri": "https://localhost:8080/"
    },
    "id": "e5df5119",
    "outputId": "c4186e16-a86f-42a2-cb51-878b0ff53038"
   },
   "outputs": [],
   "source": [
    "\"\"\"\n",
    "Description: Download the Defense Reports\n",
    "\"\"\"\n",
    "if my_status == \"success\":\n",
    "    output_conf = ais.OutputConf(report_type=ais.get_type(\"report\", \"defense\"),\n",
    "                                 file_format=ais.get_type(\"file_format\", \"pdf\"),\n",
    "                                 save_folder_path=OUTPUT_PATH)\n",
    "        \n",
    "    def_report_path = client.save_job_report(job_id=my_job_id, output_config=output_conf)"
   ]
  },
  {
   "cell_type": "code",
   "execution_count": null,
   "id": "63fc34de",
   "metadata": {
    "colab": {
     "base_uri": "https://localhost:8080/"
    },
    "id": "63fc34de",
    "outputId": "d529925e-bd14-4664-8d20-ac1df55ec019"
   },
   "outputs": [],
   "source": [
    "\"\"\"\n",
    "Description: Download the Defense artifacts: Model\n",
    "\"\"\"\n",
    "if my_status == \"success\":\n",
    "    output_conf = ais.OutputConf(report_type=ais.get_type(\"report\", \"defense_artifact\"),\n",
    "                                 file_format=ais.get_type(\"file_format\", \"pdf\"),\n",
    "                                 save_folder_path=OUTPUT_PATH)\n",
    "        \n",
    "    def_model_path = client.save_job_report(job_id=my_job_id, output_config=output_conf)"
   ]
  },
  {
   "cell_type": "code",
   "execution_count": null,
   "id": "30e5d298",
   "metadata": {
    "colab": {
     "base_uri": "https://localhost:8080/"
    },
    "id": "30e5d298",
    "outputId": "c2768243-828f-46aa-ae55-ae298f6425e1"
   },
   "outputs": [],
   "source": [
    "\"\"\"\n",
    "Description: Download the Attack Samples\n",
    "\"\"\"\n",
    "if my_status == \"success\":\n",
    "    output_conf = ais.OutputConf(report_type=ais.get_type(\"report\", \"attack_samples\"),\n",
    "                                 save_folder_path=OUTPUT_PATH)\n",
    "        \n",
    "    attack_samples_path = client.save_job_report(job_id=my_job_id, output_config=output_conf)"
   ]
  },
  {
   "cell_type": "markdown",
   "id": "_Rl-JoX3KM3s",
   "metadata": {
    "id": "_Rl-JoX3KM3s"
   },
   "source": [
    "## Defense Model Simulation"
   ]
  },
  {
   "cell_type": "code",
   "execution_count": null,
   "id": "65IkIU9Bo4zp",
   "metadata": {
    "id": "65IkIU9Bo4zp"
   },
   "outputs": [],
   "source": [
    "def zip_extractor(file, extract_path=None, delete_zip=False):\n",
    "    \"\"\"\n",
    "    extract zip file to the given path\n",
    "\n",
    "    Parameters\n",
    "    ----------\n",
    "    file : path of zip file\n",
    "    extract_path : path to extract zip file, default considered parent directory\n",
    "    delete_zip: True, delete zip file after unzipping it\n",
    "\n",
    "    Returns\n",
    "    -------\n",
    "    None.\n",
    "    \"\"\"\n",
    "    if extract_path is None:\n",
    "        extract_path = os.path.dirname(file)\n",
    "    print(\"Extracting : {}\".format(file))\n",
    "    zf = zipfile.ZipFile(file=file, mode='r')\n",
    "    zf.extractall(extract_path)\n",
    "    zf.close()\n",
    "    if delete_zip:\n",
    "        os.remove(file)\n",
    "        print(\"{} removed successfully.\".format(file))\n",
    "\n",
    "def get_file_path(path):\n",
    "    \"\"\"\n",
    "    To get full file path from directory and child directory\n",
    "    Args:\n",
    "        path: Directory path\n",
    "\n",
    "    Returns: list containing full path of all the file from the given directory\n",
    "\n",
    "    \"\"\"\n",
    "    list_id = []\n",
    "    for (root, dirs, files) in os.walk(path, topdown=True):\n",
    "        if len(dirs) == 0:\n",
    "            for file in files:\n",
    "                list_id.append(os.path.join(root, file))\n",
    "    return list_id\n",
    "    \n",
    "\n",
    "def load_data(path):\n",
    "    \"\"\"\n",
    "    path: load data from given path\n",
    "    \"\"\"\n",
    "    files_path = get_file_path(path)\n",
    "    x = []\n",
    "    for file in files_path:\n",
    "        img = cv2.imread(file, 0)\n",
    "        x.append(img)\n",
    "    x = np.expand_dims(np.array(x), axis=-1)\n",
    "    return x"
   ]
  },
  {
   "cell_type": "code",
   "execution_count": null,
   "id": "JFtgYkkIo4xj",
   "metadata": {
    "colab": {
     "base_uri": "https://localhost:8080/"
    },
    "id": "JFtgYkkIo4xj",
    "outputId": "01d83f10-44d9-4ee5-f0eb-7c9ca1e6c6a5"
   },
   "outputs": [],
   "source": [
    "\"\"\"\n",
    "Description: extract attack sample\n",
    "\"\"\"\n",
    "sample_data = os.path.join(OUTPUT_PATH, 'sample_data')\n",
    "zip_extractor(file=attack_samples_path, extract_path=sample_data)"
   ]
  },
  {
   "cell_type": "code",
   "execution_count": null,
   "id": "UbYMyyt5o4vU",
   "metadata": {
    "colab": {
     "base_uri": "https://localhost:8080/",
     "height": 657
    },
    "id": "UbYMyyt5o4vU",
    "outputId": "a55e7612-a7bd-4160-92e8-97248c8fa9f1"
   },
   "outputs": [],
   "source": [
    "\"\"\"\n",
    "Description: load attack data\n",
    "\"\"\"\n",
    "x_attack = load_data(path=sample_data)\n",
    "plot(x=x_attack, row=4)"
   ]
  },
  {
   "cell_type": "code",
   "execution_count": null,
   "id": "UxfGj13Vo4tA",
   "metadata": {
    "colab": {
     "base_uri": "https://localhost:8080/"
    },
    "id": "UxfGj13Vo4tA",
    "outputId": "edc307ce-72b3-4e08-a97d-561bfce0d3b0"
   },
   "outputs": [],
   "source": [
    "\"\"\"\n",
    "Description: Extracting defense artifact\n",
    "\"\"\"\n",
    "zip_extractor(file=def_model_path)"
   ]
  },
  {
   "cell_type": "code",
   "execution_count": null,
   "id": "05Yw2ggxo4q1",
   "metadata": {
    "id": "05Yw2ggxo4q1"
   },
   "outputs": [],
   "source": [
    "\"\"\"\n",
    "Description: Load defense model\n",
    "\"\"\"\n",
    "defense_model_path = os.path.join(OUTPUT_PATH, 'defense_model.h5')\n",
    "defense_model = tf.keras.models.load_model(defense_model_path)"
   ]
  },
  {
   "cell_type": "code",
   "execution_count": null,
   "id": "woCTF8uIo4mh",
   "metadata": {
    "colab": {
     "base_uri": "https://localhost:8080/"
    },
    "id": "woCTF8uIo4mh",
    "outputId": "18ffbaf7-e92c-4037-b39c-0c809bd667b4"
   },
   "outputs": [],
   "source": [
    "\"\"\"\n",
    "Description: Pass original data to get prediction\n",
    "\"\"\"\n",
    "label , prob = defense.predict(X_val[:5])\n",
    "print(\"\\nlabel: {} \\nprob: {}\".format(label, prob))"
   ]
  },
  {
   "cell_type": "code",
   "execution_count": null,
   "id": "-UFMFXUio4kC",
   "metadata": {
    "colab": {
     "base_uri": "https://localhost:8080/"
    },
    "id": "-UFMFXUio4kC",
    "outputId": "47073acc-7fce-4716-e194-956506a004e1"
   },
   "outputs": [],
   "source": [
    "\"\"\"\n",
    "Description: Pass sample attack data to get prediction\n",
    "\"\"\"\n",
    "label , prob = defense.predict(x_attack[:5])\n",
    "print(\"\\nlabel: {} \\nprob: {}\".format(label, prob))"
   ]
  },
  {
   "cell_type": "markdown",
   "id": "f1444054",
   "metadata": {},
   "source": [
    "## `Convert Applicatoin Model & Defense Model to TFLite`"
   ]
  },
  {
   "cell_type": "code",
   "execution_count": null,
   "id": "5446fe5a",
   "metadata": {},
   "outputs": [],
   "source": [
    "# Model Path \n",
    "directory = make_directory([os.path.join(os.getcwd(),\"tflite_model\")])\n",
    "converted_model_path = os.path.join(os.getcwd(), \"tflite_model\")\n",
    "\n",
    "# Converting Application Model to TFLite \n",
    "converter = tf.lite.TFLiteConverter.from_keras_model(model)\n",
    "tflite_model = converter.convert()\n",
    "open(converted_model_path+\"/application.tflite\", \"wb\").write(tflite_model)\n",
    "\n",
    "# Converting Defense Model to TFLite\n",
    "converter = tf.lite.TFLiteConverter.from_keras_model(defense_model)\n",
    "tflite_model = converter.convert()\n",
    "open(converted_model_path+\"/defense.tflite\", \"wb\").write(tflite_model)"
   ]
  },
  {
   "cell_type": "markdown",
   "id": "f4052c48",
   "metadata": {},
   "source": [
    "### `Copy Files to GreenGrass Deployment Folder`"
   ]
  },
  {
   "cell_type": "code",
   "execution_count": null,
   "id": "5f374f1f",
   "metadata": {},
   "outputs": [],
   "source": [
    "def copy_files(src_folder, dst_folder, dst_subfolder=None,file_names=None):\n",
    "    \n",
    "    \"\"\"\"\"\n",
    "    Arguments to pass:\n",
    "    src_folder = Source folder from where to copy files\n",
    "    dst_folder = Destination folder \n",
    "    dst_subfolder = Copies the files to a specified destination folder if mentioned, default is dst_folder\n",
    "    file_names = Give the file name to copy, default: \"None\" copies all the fiels available in the folder\n",
    "    \"\"\"\"\"\n",
    "\n",
    "    if file_names is None:\n",
    "        # if file_names is None, copy all files in the source folder\n",
    "        files = os.listdir(src_folder)\n",
    "    else:\n",
    "        # if file_names is specified, copy only those files\n",
    "        files = [file_names]\n",
    "    \n",
    "    if dst_subfolder is not None:\n",
    "        # if a subfolder is specified, create it in the destination folder\n",
    "        dst_folder = os.path.join(dst_folder, dst_subfolder)\n",
    "        os.makedirs(dst_folder, exist_ok=True)\n",
    "        \n",
    "    # iterate over the list of files and copy them\n",
    "    for file_name in files:\n",
    "        src_file_path = os.path.join(src_folder, file_name)\n",
    "        dst_file_path = os.path.join(dst_folder, file_name)\n",
    "        shutil.copy(src_file_path, dst_file_path)\n",
    "    return print(\"Files Copied Successfully\")"
   ]
  },
  {
   "cell_type": "code",
   "execution_count": null,
   "id": "767be49b",
   "metadata": {
    "scrolled": true
   },
   "outputs": [],
   "source": [
    "# navigate a folder back from the current directory\n",
    "parent_dir = os.path.abspath(os.path.join(os.getcwd(), os.pardir))\n",
    "\n",
    "# Description: Copy TFLite Models to gg_deployment folder in application and defense folder which will be useful to create artifacts for Green Grass Component  \n",
    "\n",
    "dst_path = os.path.join(parent_dir, \"gg_deployment\")\n",
    "copy_files(converted_model_path, dst_path, \"application/\", \"application.tflite\")\n",
    "copy_files(converted_model_path, dst_path, \"defense/\", \"defense.tflite\")"
   ]
  },
  {
   "cell_type": "code",
   "execution_count": null,
   "id": "e026db0d",
   "metadata": {},
   "outputs": [],
   "source": []
  },
  {
   "cell_type": "markdown",
   "id": "z8Q7VvmnaaFb",
   "metadata": {
    "id": "z8Q7VvmnaaFb"
   },
   "source": [
    "## Experimentation Report"
   ]
  },
  {
   "cell_type": "markdown",
   "id": "kZ0E1X_NjSmj",
   "metadata": {
    "id": "kZ0E1X_NjSmj"
   },
   "source": [
    "![image.png](data:image/png;base64,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)"
   ]
  },
  {
   "cell_type": "code",
   "execution_count": null,
   "id": "3e30ed85",
   "metadata": {
    "id": "3e30ed85"
   },
   "outputs": [],
   "source": []
  }
 ],
 "metadata": {
  "colab": {
   "provenance": []
  },
  "kernelspec": {
   "display_name": "conda_tensorflow2_p310",
   "language": "python",
   "name": "conda_tensorflow2_p310"
  },
  "language_info": {
   "codemirror_mode": {
    "name": "ipython",
    "version": 3
   },
   "file_extension": ".py",
   "mimetype": "text/x-python",
   "name": "python",
   "nbconvert_exporter": "python",
   "pygments_lexer": "ipython3",
   "version": "3.10.6"
  }
 },
 "nbformat": 4,
 "nbformat_minor": 5
}
