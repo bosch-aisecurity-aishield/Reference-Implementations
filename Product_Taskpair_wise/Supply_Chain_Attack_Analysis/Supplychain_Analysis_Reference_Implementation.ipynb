{
  "cells": [
    {
      "cell_type": "markdown",
      "id": "64ce47d1",
      "metadata": {
        "id": "64ce47d1",
        "pycharm": {
          "name": "#%% md\n"
        }
      },
      "source": [
        "# Welcome to the AIShield Integration Notebook!\n",
        "\n",
        "**We are delighted to have you here!**\n",
        "\n",
        "## What to Expect !!\n",
        "This notebook serves as a comprehensive demonstration of the seamless integration capabilities of AIShield. As a powerful tool for securing your AI/ML assets against supply-chain threats, AIShield ensures the integrity and robustness of your models, preventing financial loss, protecting brand reputation, and mitigating the risk of intellectual property theft.\n",
        "\n",
        "## What to Do !!\n",
        "- **Explore the notebook** at your own pace to gain deep insights into the functionalities and features offered by AIShield.\n",
        "- **Run the first code cell/block**, which includes **Support functionalities** crucial for the smooth execution of the notebook. This setup will enhance your experience and enable the seamless integration of AIShield.\n",
        "- Even without running the entire notebook, you can get a glimpse of AIShield's capabilities and its approach to vulnerability assessments through sample scenarios.\n",
        "- **Run the code cells** to witness firsthand how AIShield seamlessly integrates with your existing codebase, empowering you to protect your AI models against adversarial attacks.\n",
        "- **Experiment and adapt the code** to suit your specific use cases, leveraging the flexibility and customization options provided by AIShield.\n",
        "- Should you have any questions or require assistance, our dedicated [AIShield.Contact@bosch.com](mailto:AIShield.Contact@bosch.com) is just a click away.\n",
        "\n",
        "## What You'll Get !!\n",
        "Throughout this notebook, you'll find:\n",
        "- Code snippets demonstrating step-by-step procedures for incorporating AIShield into your existing workflows, ensuring comprehensive protection against supply-chain threats.\n",
        "- Detailed guidance on the integration process, including any additional inputs required for thorough vulnerability analysis.\n",
        "- Report artifacts providing valuable insights into potential attack scenarios\n",
        "\n",
        "## <span style=\"color:teal\">AIShield Website and LinkedIn</span>\n",
        "To learn more about AIShield and its cutting-edge features, visit the official [AIShield website](https://www.boschaishield.com/). Connect with AIShield on [LinkedIn](https://www.linkedin.com/company/bosch-aishield/about/) to stay updated on the latest advancements in AI security.\n",
        "\n",
        "We hope this notebook empowers you to seamlessly integrate AIShield into your projects, ensuring the utmost protection for your AI/ML assets. If you have any questions or need further assistance, please don't hesitate to reach out. **Happy exploring!**\n"
      ]
    },
    {
      "cell_type": "markdown",
      "id": "cc04dd47",
      "metadata": {
        "id": "cc04dd47",
        "pycharm": {
          "name": "#%% md\n"
        }
      },
	"source": [
    "<a target=\"_blank\" href=\"https://colab.research.google.com/github/bosch-aisecurity-aishield/Reference-Implementations/blob/main/Product_Taskpair_wise/Supply_Chain_Attack_Analysis/Supplychain_Analysis_Reference_Implementation.ipynb\">\n",
    "  <img src=\"https://colab.research.google.com/assets/colab-badge.svg\" alt=\"Open In Colab\"/>\n",
    "</a>\n"
	]
    },
    {
      "cell_type": "markdown",
      "id": "5e5cabeb",
      "metadata": {
        "id": "5e5cabeb",
        "pycharm": {
          "name": "#%% md\n"
        }
      },
      "source": [
        "## 1.0 Support Functionalities:"
      ]
    },
    {
      "cell_type": "code",
      "execution_count": null,
      "id": "8b91984f",
      "metadata": {
        "id": "8b91984f",
        "pycharm": {
          "name": "#%%\n"
        }
      },
      "outputs": [],
      "source": [
        "\"\"\"\n",
        "Description : Use PyPi or AIShield API for Vulnerability Analysis\n",
        "              if PyPi = True (this notebook will use aishield pypi package for vulnerability analysis)\n",
        "              else = False (this notebook will use aishield api for vulnerability analysis)\n",
        "\"\"\"\n",
        "pypi = False"
      ]
    },
    {
      "cell_type": "code",
      "execution_count": null,
      "id": "95fb5754",
      "metadata": {
        "id": "95fb5754",
        "pycharm": {
          "name": "#%%\n"
        }
      },
      "outputs": [],
      "source": [
        "def make_code_input_scrollable():\n",
        "    \"\"\"Description : To make the input code cell scrollable for jupyternotebook\"\"\"\n",
        "    from IPython.display import display, HTML\n",
        "    display(HTML('''\n",
        "        <style>\n",
        "        .scrollable-code-input {\n",
        "            max-height: 500px;\n",
        "            overflow-y: scroll;\n",
        "        }\n",
        "        </style>\n",
        "        <script>\n",
        "        var codeInputCells = document.querySelectorAll('div.code_cell .input');\n",
        "        codeInputCells.forEach(function(cell) {\n",
        "            cell.classList.add('scrollable-code-input');\n",
        "        });\n",
        "        </script>\n",
        "    '''))\n",
        "\n",
        "make_code_input_scrollable()\n",
        "\n",
        "def display_pdf(runtime_environment,output_filename, pdf_path=None, file_id=None):\n",
        "\n",
        "    \"\"\"Descrption : To embeded pdf file in the ntoebook\"\"\"\n",
        "\n",
        "    from IPython.display import display, HTML\n",
        "    import os\n",
        "    output_file = output_filename+'.html'\n",
        "\n",
        "    # Check if the output file exists\n",
        "    if os.path.exists(output_file):\n",
        "        with open(output_file, 'r') as f:\n",
        "            saved_output = f.read()\n",
        "            display(HTML(saved_output))\n",
        "    else:\n",
        "        if 'colab' in runtime_environment.lower():\n",
        "            # Generate the Google Drive Viewer URL\n",
        "            if file_id is None:\n",
        "                print(pdf_path)\n",
        "                # Generate the Google Drive Viewer URL\n",
        "                drive_viewer_url = f'https://drive.google.com/viewerng/viewer?embedded=true&url={pdf_path}'\n",
        "                html_code = f'<iframe src=\"{drive_viewer_url}\" width=\"100%\" height=\"600px\"></iframe>'\n",
        "            else:\n",
        "                viewer_url = f\"https://drive.google.com/file/d/{file_id}/preview\"\n",
        "                html_code = f'<iframe src=\"{viewer_url}\" width=\"100%\" height=\"600px\"></iframe>'\n",
        "        else:\n",
        "            html_code = f'<embed src=\"{pdf_path}\" width=\"100%\" height=\"600px\" type=\"application/pdf\">'\n",
        "        # Save the output to a file\n",
        "        with open(output_file, 'w') as f:\n",
        "            f.write(html_code)\n",
        "\n",
        "        # Display the output\n",
        "        display(HTML(html_code))\n",
        "\n",
        "\n",
        "def check_runtime_environment():\n",
        "    \"\"\"\n",
        "    Description : Check notebook is running on colab or jupyter-notebook\n",
        "    \"\"\"\n",
        "    import os\n",
        "    colab = False\n",
        "    if 'google.colab' in str(get_ipython()):\n",
        "        colab = True\n",
        "        return 'Colab' , colab\n",
        "    else:\n",
        "        return 'Jupyter Notebook' , colab\n",
        "\n",
        "# Check the runtime environment\n",
        "runtime_environment,colab_running  = check_runtime_environment()\n",
        "\n",
        "# print(\"Notebook is running in\", runtime_environment)\n",
        "\n",
        "\n",
        "\n"
      ]
    },
    {
      "cell_type": "markdown",
      "id": "452a83b9",
      "metadata": {
        "id": "452a83b9",
        "pycharm": {
          "name": "#%% md\n"
        }
      },
      "source": [
        "    "
      ]
    },
    {
      "cell_type": "markdown",
      "id": "bfb01f37",
      "metadata": {
        "id": "bfb01f37",
        "pycharm": {
          "name": "#%% md\n"
        }
      },
      "source": [
        "   "
      ]
    },
    {
      "cell_type": "markdown",
      "id": "e137bb2f",
      "metadata": {
        "id": "e137bb2f",
        "pycharm": {
          "name": "#%% md\n"
        }
      },
      "source": [
        "\n",
        "<img src=\"https://aisdocs.blob.core.windows.net/reference/Workflow Images/wk1.png\"/>"
      ]
    },
    {
      "cell_type": "markdown",
      "id": "1bcb6716",
      "metadata": {
        "id": "1bcb6716",
        "pycharm": {
          "name": "#%% md\n"
        }
      },
      "source": [
        "   "
      ]
    },
    {
      "cell_type": "markdown",
      "id": "09aafb23",
      "metadata": {
        "id": "09aafb23",
        "pycharm": {
          "name": "#%% md\n"
        }
      },
      "source": [
        "  "
      ]
    },
    {
      "cell_type": "markdown",
      "id": "eb1f2642",
      "metadata": {
        "id": "eb1f2642",
        "pycharm": {
          "name": "#%% md\n"
        }
      },
      "source": [
        "## 2.0 Below code cell/block performs Step 1 to 4 with following these sequential steps :\n",
        "**STEP 1 : Installing libraries:** The required libraries will be installed to provide necessary functionalities for the task at hand."
      ]
    },
    {
      "cell_type": "code",
      "execution_count": null,
      "id": "75b1807a",
      "metadata": {
        "execution": {
          "iopub.execute_input": "2023-06-05T18:27:59.754298Z",
          "iopub.status.busy": "2023-06-05T18:27:59.754298Z",
          "iopub.status.idle": "2023-06-05T18:28:23.490327Z",
          "shell.execute_reply": "2023-06-05T18:28:23.488117Z"
        },
        "hide_code": false,
        "id": "75b1807a",
        "pycharm": {
          "name": "#%%\n"
        }
      },
      "outputs": [],
      "source": [
        "# #@title Show/Hide Code\n",
        "# '''\n",
        "# Description: user input about dataset information, for eg: number of classes, input_shape\n",
        "# '''\n",
        "\n",
        "print(\"Starting installing aishield library\")\n",
        "!pip install aishield\n",
        "print(\"Installed all the prerequisites packages\")\n",
        "!pip install tqdm==4.61.1\n",
        "!pip install requests==2.28.0\n",
        "\n",
        "import os\n",
        "import requests\n",
        "import zipfile\n",
        "import tqdm\n",
        "import shutil\n",
        "import time\n",
        "from time import sleep\n",
        "import json\n",
        "\n",
        "\n",
        "import aishield as ais\n",
        "\n",
        "\n",
        "def make_directory(directory):\n",
        "    \"\"\"\n",
        "    Create directory\n",
        "\n",
        "    Parameters\n",
        "    ----------\n",
        "    directorys : list containing the directory's path to create\n",
        "\n",
        "    Returns\n",
        "    -------\n",
        "    None.\n",
        "\n",
        "    \"\"\"\n",
        "    for d in directory:\n",
        "        if os.path.isdir(d):\n",
        "            print(\"directory {} already exist\".format(d))\n",
        "        if os.path.isdir(d)==False:\n",
        "            os.mkdir(path=d)\n",
        "            print(\"directory {} created successfully\".format(d))\n",
        "\n",
        "def delete_directory(directorys):\n",
        "    \"\"\"\n",
        "    Delete directory\n",
        "\n",
        "    Parameters\n",
        "    ----------\n",
        "    directorys : list containing the directory's path to delete along with all the files\n",
        "\n",
        "    Returns\n",
        "    -------\n",
        "    None.\n",
        "\n",
        "    \"\"\"\n",
        "    if len(directorys)>=1:\n",
        "        for d in directorys:\n",
        "            if os.path.isdir(d):\n",
        "                try:\n",
        "                    if os.path.isfile(d):\n",
        "                        os.remove(path=d)\n",
        "                    else:\n",
        "                        shutil.rmtree(path=d)\n",
        "                        print(\"Removed: {}\".format(d))\n",
        "                except:\n",
        "                    print(\"Failed to removed: {}\".format(d))\n",
        "            else:\n",
        "                print(\"Failed to removed: {}\".format(d))\n",
        "\n",
        "\n",
        "def create_folders():\n",
        "    '''\n",
        "        Descrption: this will remove(if present previously) and create folders needed\n",
        "                    to store the data , model and label for ease access\n",
        "\n",
        "        input_parameters: None\n",
        "        return_parameters: returns the path of the data , model , label , report, zip directory\n",
        "    '''\n",
        "\n",
        "    report_path=os.path.join(os.getcwd(),\"reports\")\n",
        "\n",
        "    #deleting previously generated folders\n",
        "    delete_directory(directorys=[report_path])\n",
        "\n",
        "    #creating folders\n",
        "    make_directory([report_path])\n",
        "\n",
        "    return report_path\n",
        "\n",
        "\n",
        "if __name__ == \"__main__\":\n",
        "\n",
        "    report_path = create_folders()\n"
      ]
    },
    {
      "cell_type": "markdown",
      "id": "9775ce40",
      "metadata": {
        "id": "9775ce40",
        "pycharm": {
          "name": "#%% md\n"
        }
      },
      "source": [
        "   "
      ]
    },
    {
      "cell_type": "markdown",
      "id": "aecb7b1b",
      "metadata": {
        "id": "aecb7b1b",
        "pycharm": {
          "name": "#%% md\n"
        }
      },
      "source": [
        "  "
      ]
    },
    {
      "cell_type": "markdown",
      "id": "80782b1d",
      "metadata": {
        "id": "80782b1d",
        "pycharm": {
          "name": "#%% md\n"
        }
      },
      "source": [
        "<img src=\"https://aisdocs.blob.core.windows.net/reference/Workflow Images/wk2.png\"/>"
      ]
    },
    {
      "cell_type": "markdown",
      "id": "d78d4789",
      "metadata": {
        "id": "d78d4789",
        "pycharm": {
          "name": "#%% md\n"
        }
      },
      "source": [
        "  "
      ]
    },
    {
      "cell_type": "markdown",
      "id": "74404585",
      "metadata": {
        "id": "74404585",
        "pycharm": {
          "name": "#%% md\n"
        }
      },
      "source": [
        "  "
      ]
    },
    {
      "cell_type": "markdown",
      "id": "7e49ea41",
      "metadata": {
        "id": "7e49ea41",
        "pycharm": {
          "name": "#%% md\n"
        }
      },
      "source": [
        "## 3.0 Vulnerability Analysis by AIShield\n",
        "\n",
        "**STEP 2  :You can move to trigger the AIShield analysis by following steps given below. If you want to preview the generated artifact by vulnerability analysis like the report and dashboard, please find below a few samples of same, all without having to trigger an actual analysis.**\n",
        "\n",
        "By examining these Reports, we can gain a comprehensive understanding of the upcoming Vulnerability Analysis conducted by AIShield, which will enable us to prepare more effectively.\n"
      ]
    },
    {
      "cell_type": "markdown",
      "id": "5a5c2dd7",
      "metadata": {
        "id": "5a5c2dd7"
      },
      "source": [
        "<img src=\"https://aisdocs.blob.core.windows.net/reference/dashboard_images/Dashboard.png\"/>"
      ]
    },
    {
      "cell_type": "markdown",
      "id": "6475ab6a",
      "metadata": {
        "id": "6475ab6a"
      },
      "source": [
        "<img src=\"https://aisdocs.blob.core.windows.net/reference/dashboard_images/supply_chain_dashboard.png\"/>"
      ]
    },
    {
      "cell_type": "code",
      "execution_count": null,
      "id": "0ca157e6",
      "metadata": {
        "hide_code": false,
        "id": "0ca157e6",
        "pycharm": {
          "name": "#%%\n"
        },
        "scrolled": true
      },
      "outputs": [],
      "source": [
        "hosted_pdf_url = 'https://aisdocs.blob.core.windows.net/reference/Reports/supply-chain/VulnerabilityReport.pdf'\n",
        "display_pdf( output_filename = \"vul_sample\",runtime_environment = runtime_environment,pdf_path =hosted_pdf_url)\n"
      ]
    },
    {
      "cell_type": "markdown",
      "id": "12bfb0e6",
      "metadata": {
        "id": "12bfb0e6",
        "pycharm": {
          "name": "#%% md\n"
        }
      },
      "source": [
        "  "
      ]
    },
    {
      "cell_type": "markdown",
      "id": "5c51b0fe",
      "metadata": {
        "id": "5c51b0fe",
        "pycharm": {
          "name": "#%% md\n"
        }
      },
      "source": [
        "   "
      ]
    },
    {
      "cell_type": "markdown",
      "id": "015d1110",
      "metadata": {
        "id": "015d1110",
        "pycharm": {
          "name": "#%% md\n"
        }
      },
      "source": [
        "#### Let's proceed with the step-by-step process of calling and integrating AIShield for Vulnerability Analysis:\n",
        "\n",
        "1. **Initialize AIShield:** Ensure that AIShield is properly installed and its dependencies are set up. Also, initialize AIShield to prepare for the analysis.\n",
        "\n",
        "2. **Model Registration:** Register the specific task pair (e.g. image_classification) and analysis type (e.g. supply-chain) to perform the vulnerability analysis accurately.\n",
        "\n",
        "3. **Upload Artifacts:** Select the necessary file for scanning\n",
        "\n",
        "4. **Model Analysis:** Trigger the model analysis API to initiate the vulnerability analysis assessment. AIShield will perform the analysis using the uploaded artifacts.\n",
        "\n",
        "5. **Monitor Analysis Status:** Keep track of the analysis progress and patiently wait for AIShield to generate the vulnerability assessment results. This may take some time depending on the complexity of the analysis.\n",
        "\n",
        "6. **Download Reports & Artifacts:** Once the analysis is complete, access and download the vulnerability analysis reports and any additional artifacts generated by AIShield. Analyze these reports to gain insights into potential vulnerabilities in your system or application.\n",
        "\n",
        "By following instructions, you can effectively call and integrate AIShield for Vulnerability Analysis."
      ]
    },
    {
      "cell_type": "markdown",
      "id": "8f15872b",
      "metadata": {
        "id": "8f15872b",
        "pycharm": {
          "name": "#%% md\n"
        }
      },
      "source": [
        "<img src=\"https://aisdocs.blob.core.windows.net/reference/Workflow Images/aw.png\"/>"
      ]
    },
    {
      "cell_type": "markdown",
      "id": "c3e41392",
      "metadata": {
        "id": "c3e41392",
        "pycharm": {
          "name": "#%% md\n"
        }
      },
      "source": [
        "### 3.1 Initialize AIShield"
      ]
    },
    {
      "cell_type": "code",
      "execution_count": null,
      "id": "91fcac5f",
      "metadata": {
        "id": "91fcac5f",
        "pycharm": {
          "name": "#%%\n"
        }
      },
      "outputs": [],
      "source": [
        "\"\"\"\n",
        "Description : AIShield URL , subscription key and orgid\n",
        "              Initialize the\n",
        "\"\"\"\n",
        "base_url = \"https://api.aws.boschaishield.com/prod\"\n",
        "url=base_url+\"/api/ais/v1.5\"\n",
        "org_id = 'xxxx' #<<Replace xxxx with Org_id mentioned in welcome mail after AIShield Subscription>>\n",
        "\n",
        "\"\"\"\n",
        "Description: Initialize the AIShield API\n",
        "\"\"\"\n",
        "pypi = False\n",
        "if pypi:\n",
        "    #if pypi then , x-api-key generation is taken care from pypi side using given org_id\n",
        "    aishield_client = ais.AIShieldApi(api_url=url,org_id=org_id)\n",
        "\n",
        "else:\n",
        "\n",
        "    #if using AIShield API then , need an x-api-key for accessing AIShield registration / Analysis APIs\n",
        "    # below function will get insight of how to generate the x-api-key\n",
        "    def get_aws_api_key(url, org_id):\n",
        "\n",
        "        \"\"\"\n",
        "        Description: to get the x_api_key\n",
        "        \"\"\"\n",
        "        url = url+\"/get_aws_api_key\"\n",
        "        headers = {'Org-Id': org_id}\n",
        "        payload = {}\n",
        "\n",
        "        x_api_key_request = requests.request(\"GET\", url, headers=headers, data=payload)\n",
        "        status_code = x_api_key_request.status_code\n",
        "        x_api_key_request = json.loads(x_api_key_request.text)\n",
        "\n",
        "        if status_code == 200:\n",
        "            x_api_key = x_api_key_request['x_api_key']\n",
        "            return x_api_key\n",
        "\n",
        "        else:\n",
        "            print(x_api_key_request)\n",
        "            return None\n",
        "\n",
        "    #generate the x-api-key\n",
        "    x_api_key = get_aws_api_key(url, org_id)\n",
        "    print(\"x_api_key is :\",x_api_key)\n",
        "\n",
        "    headers={'Cache-Control': 'no-cache',\n",
        "    'x-api-key': x_api_key,\n",
        "    'Org-Id' : org_id\n",
        "    }"
      ]
    },
    {
      "cell_type": "markdown",
      "id": "81cdb00a",
      "metadata": {
        "id": "81cdb00a",
        "pycharm": {
          "name": "#%% md\n"
        }
      },
      "source": [
        "<img src=\"https://aisdocs.blob.core.windows.net/reference/Workflow Images/aw1.png\"/>"
      ]
    },
    {
      "cell_type": "markdown",
      "id": "CN8Tw6heBU59",
      "metadata": {
        "id": "CN8Tw6heBU59"
      },
      "source": [
        "\n",
        "\n",
        "### 3.2 Supply chain Upload files (model and notebook) directly in .zip format"
      ]
    },
    {
      "cell_type": "code",
      "execution_count": null,
      "id": "hjDeTh-sCFEv",
      "metadata": {
        "id": "hjDeTh-sCFEv"
      },
      "outputs": [],
      "source": [
        "\"\"\"\n",
        "  Description: call Model generate api to get unique model it and url to upload data\n",
        "\n",
        "\"\"\"\n",
        "model_generate_url = url + \"/generate_model_id\"\n",
        "\n",
        "try:\n",
        "    new_request = requests.request(method=\"POST\", url=model_generate_url, headers=headers)\n",
        "    new_request = json.loads(new_request.text)\n",
        "    model_id = new_request['model_id']\n",
        "    upload_obj = new_request\n",
        "    print('model_id: ', model_id)\n",
        "\n",
        "except Exception as e:\n",
        "    print(new_request, str(e))"
      ]
    },
    {
      "cell_type": "code",
      "execution_count": null,
      "id": "Ha0AKOgJGn9u",
      "metadata": {
        "id": "Ha0AKOgJGn9u"
      },
      "outputs": [],
      "source": [
        "\"\"\"\n",
        "Description: Define to_clone for user to provide option to clone a repository from huggingface or github\n",
        "            or can directly give the path of model or notebook in zip format for performing supply chain scanning\n",
        "\n",
        "\"\"\"\n",
        "to_clone=True # True if directly giving a link to Huggingface,Github or S3 , False is uploading a zip directly"
      ]
    },
    {
      "cell_type": "code",
      "execution_count": null,
      "id": "8ewNLgWrIe3c",
      "metadata": {
        "id": "8ewNLgWrIe3c"
      },
      "outputs": [],
      "source": [
        "def download_zip(artifact_url, dest_dir):\n",
        "    \"\"\"\n",
        "    Downloads a ZIP file from the specified URL and saves it to the destination directory.\n",
        "\n",
        "    :param artifact_url: str: URL of the ZIP file to download\n",
        "    :param dest_dir: str: Path to the directory where the ZIP file should be downloaded\n",
        "    :return: str: Path to the downloaded ZIP file\n",
        "    \"\"\"\n",
        "    try:\n",
        "        # Create the directory if it doesn't exist\n",
        "        if not os.path.exists(dest_dir):\n",
        "            os.makedirs(dest_dir)\n",
        "            print(f\"Created directory: {dest_dir}\")\n",
        "\n",
        "        # Download the ZIP file\n",
        "        response = requests.get(artifact_url, stream=True)\n",
        "        response.raise_for_status()  # Raise an error for HTTP errors\n",
        "        zip_path = os.path.join(dest_dir, \"mnist_model.zip\")\n",
        "\n",
        "        with open(zip_path, \"wb\") as file:\n",
        "            for chunk in response.iter_content(chunk_size=8192):\n",
        "                file.write(chunk)\n",
        "        print(f\"Downloaded ZIP file to: {zip_path}\")\n",
        "\n",
        "        return zip_path\n",
        "\n",
        "    except Exception as e:\n",
        "        print(f\"An error occurred: {e}\")\n",
        "        return None"
      ]
    },
    {
      "cell_type": "code",
      "execution_count": null,
      "id": "7tqfRmKV3KdE",
      "metadata": {
        "id": "7tqfRmKV3KdE"
      },
      "outputs": [],
      "source": [
        "\"\"\"\n",
        "Description: Upload file or notebook in zip format\n",
        "\n",
        "\"\"\"\n",
        "if to_clone==True:  # Handle direct upload scenario\n",
        "\n",
        "  # If the user wants to upload the file manually, specify the artifact path here\n",
        "  # Uncomment and update the line below with the full path of the manually uploaded ZIP file\n",
        "  artifact_path = \"xxxx\"  # Replace xxxx with Full path of the ZIP file uploaded manually\n",
        "\n",
        "  file_upload=True\n",
        "\n",
        "  if not os.path.isfile(artifact_path):\n",
        "      file_upload = True\n",
        "\n",
        "  if pypi:\n",
        "      print(\"Currently pypi is not available for direct upload\")\n",
        "  else:\n",
        "      def upload_file(upload_obj, file_path):\n",
        "\n",
        "        url = upload_obj['artifact_path']['url']\n",
        "        request_payload = upload_obj['artifact_path']['fields']\n",
        "        files=[\n",
        "                  ('file',(os.path.basename(file_path),open(file_path,'rb'),'application/zip')) # Use file_path instead of artifact_path\n",
        "                ]\n",
        "\n",
        "        headers = {}\n",
        "        new_request = requests.request(\"POST\", url, headers=headers, data=request_payload, files=files)\n",
        "        status_cd = new_request.status_code\n",
        "        if status_cd == 204:\n",
        "            status = 'upload sucessful'\n",
        "        else:\n",
        "            status = 'upload failed'\n",
        "        return status\n",
        "\n",
        "      \"\"\"\n",
        "  Description: Hit AIShield File Upload API\n",
        "  \"\"\"\n",
        "  if file_upload:\n",
        "    file_upload_status = upload_file(upload_obj, artifact_path) # Pass artifact_path to upload_file function\n",
        "    print('files_upload_status: ', file_upload_status)\n",
        "    supply_chain_url = url + \"/supplychain\"\n",
        "    payload={\n",
        "        \"model_id\":model_id,\n",
        "        \"repo_type\":\"upload\"\n",
        "             }\n",
        "\n",
        "    new_request = requests.request(method=\"POST\", url=supply_chain_url, headers=headers, json=payload)\n",
        "    new_request = json.loads(new_request.text)\n",
        "    for k, v in new_request.items():\n",
        "      print(\"* {} : {}\".format(k,v))\n",
        "\n",
        "    job_id=new_request['job_id']\n",
        "  else:\n",
        "    print(\"file is not present at file path\")"
      ]
    },
    {
      "cell_type": "markdown",
      "id": "8475dc38",
      "metadata": {
        "id": "8475dc38",
        "pycharm": {
          "name": "#%% md\n"
        }
      },
      "source": [
        "<img src=\"https://aisdocs.blob.core.windows.net/reference/Workflow Images/aw2.png\"/>"
      ]
    },
    {
      "cell_type": "markdown",
      "id": "6eba2da6",
      "metadata": {
        "id": "6eba2da6"
      },
      "source": [
        "### 3.3 Clone Repository for scanning"
      ]
    },
    {
      "cell_type": "code",
      "execution_count": null,
      "id": "NEWVwLeipyJE",
      "metadata": {
        "id": "NEWVwLeipyJE"
      },
      "outputs": [],
      "source": [
        "if to_clone == False:  # Set to False for direct uploads or S3 use\n",
        "\n",
        "  repo_type = \"xxxx\"  # Replace xxxx with either keywords github or huggingface or s3_bucket\n",
        "  repo_url = \"xxxx\"  # Enter your repository URL to scan\n",
        "  branch_name = \"main\"  # Default branch (main or master or custom)\n",
        "  depth = 1  # Default depth\n",
        "\n",
        "  # Construct payload\n",
        "  payload = {\n",
        "  \"repo_type\": repo_type,\n",
        "  \"repo_url\": repo_url,\n",
        "  \"branch_name\": branch_name,\n",
        "  \"depth\": depth\n",
        "  }\n",
        "\n",
        "  # Case: Using S3 # Uncomment below lines\n",
        "  # bucket_name = \"<your_bucket_name>\"\n",
        "  # region = \"<your_region>\"\n",
        "  # aws_access_key_id = \"<your_aws_access_key>\"\n",
        "  # aws_secret_access_key = \"<your_aws_secret_key>\"\n",
        "\n",
        "  # Construct payload for S3 # Uncomment below lines\n",
        "  # payload = {\n",
        "  # \"repo_type\": repo_type,\n",
        "  # \"bucket_name\": bucket_name,\n",
        "  # \"region\": region,\n",
        "  # \"aws_access_key_id\": aws_access_key_id,\n",
        "  #  \"aws_secret_access_key\": aws_secret_access_key\n",
        "  # }\n",
        "\n",
        "  supply_chain_url = url + \"/supplychain\"\n",
        "  new_request = requests.request(method=\"POST\", url=supply_chain_url, headers=headers, json=payload)\n",
        "  new_request = json.loads(new_request.text)\n",
        "  for k, v in new_request.items():\n",
        "    print(\"* {} : {}\".format(k,v))\n",
        "  job_id=new_request['job_id']\n",
        "\n"
      ]
    },
    {
      "cell_type": "markdown",
      "id": "f705377c",
      "metadata": {
        "id": "f705377c",
        "pycharm": {
          "name": "#%% md\n"
        }
      },
      "source": [
        "<img src=\"https://aisdocs.blob.core.windows.net/reference/Workflow Images/aw3.png\"/>"
      ]
    },
    {
      "cell_type": "markdown",
      "id": "f46c938b",
      "metadata": {
        "id": "f46c938b",
        "pycharm": {
          "name": "#%% md\n"
        }
      },
      "source": [
        "### 3.6 Monitor Analysis Status"
      ]
    },
    {
      "cell_type": "code",
      "execution_count": null,
      "id": "55003c2e",
      "metadata": {
        "execution": {
          "iopub.execute_input": "2023-06-05T18:28:38.360112Z",
          "iopub.status.busy": "2023-06-05T18:28:38.360112Z",
          "iopub.status.idle": "2023-06-05T18:33:26.590260Z",
          "shell.execute_reply": "2023-06-05T18:33:26.588183Z"
        },
        "hide_code": false,
        "id": "55003c2e",
        "pycharm": {
          "name": "#%%\n"
        }
      },
      "outputs": [],
      "source": [
        "\"\"\"\n",
        "Description: Fetch Job status using Job ID\n",
        "\"\"\"\n",
        "# to get the status of job, just rerun again until job got successfull\n",
        "if pypi:\n",
        "    status = aishield_client.job_status (job_id = job_id)\n",
        "    print('job status ', status)\n",
        "\n",
        "else:\n",
        "    def monitor_api_progress(new_job_id):\n",
        "        job_status_url = url + \"/job_status_detailed?job_id=\" + new_job_id\n",
        "\n",
        "        # status dictionary\n",
        "        status_dictionary = {\n",
        "            \"SupplyChainStatus\":'na'\n",
        "        }\n",
        "        counts = [0] * len(status_dictionary)\n",
        "        failed_api_hit_count = 0\n",
        "        while True:\n",
        "            time.sleep(15)\n",
        "            try:\n",
        "                job_status_response = requests.request(\"GET\", job_status_url, params={},\n",
        "                                                       headers=headers)\n",
        "\n",
        "                job_status_payload = json.loads(job_status_response.text)\n",
        "                failing_key = 'SupplyChainStatus'\n",
        "                for i, key in enumerate(status_dictionary.keys()):\n",
        "                    if status_dictionary[key] == 'na':\n",
        "                        if job_status_payload[key] == 'inprogress' and status_dictionary[key] == 'na':\n",
        "                            status_dictionary[key] = job_status_payload[key]\n",
        "                            print(str(key), \":\", status_dictionary[key])\n",
        "\n",
        "                        elif job_status_payload[key] == 'completed' or job_status_payload[key] == 'passed':\n",
        "                            status_dictionary[key] = job_status_payload[key]\n",
        "                            counts[i] += 1\n",
        "                            print(str(key), \":\", status_dictionary[key])\n",
        "\n",
        "                        if job_status_payload[key] == 'failed':\n",
        "                            failing_key = key\n",
        "                            status_dictionary[key] = job_status_payload[key]\n",
        "                            print(str(key), \":\", status_dictionary[key])\n",
        "\n",
        "                    elif job_status_payload[key] == 'completed' or job_status_payload[key] == 'passed':\n",
        "                        status_dictionary[key] = job_status_payload[key]\n",
        "                        if counts[i] < 1:\n",
        "                            print(str(key), \":\", status_dictionary[key])\n",
        "                        counts[i] += 1\n",
        "\n",
        "                    else:\n",
        "                        if job_status_payload[key] == 'failed':\n",
        "                            failing_key = key\n",
        "                            status_dictionary[key] = job_status_payload[key]\n",
        "                            print(str(key), \":\", status_dictionary[key])\n",
        "\n",
        "                if job_status_payload[failing_key] == 'failed':\n",
        "                    break\n",
        "\n",
        "                if status_dictionary['SupplyChainStatus'] == 'passed' or status_dictionary[\n",
        "                    'SupplyChainStatus'] == 'completed':\n",
        "                    print(\"\\n job success\")\n",
        "                    break\n",
        "            except Exception as e:\n",
        "                failed_api_hit_count += 1\n",
        "                print(\"Error {}. trying {} ...\".format(str(e), failed_api_hit_count))\n",
        "                if failed_api_hit_count >= 3:\n",
        "                    break\n",
        "        return status_dictionary\n",
        "\n",
        "    status_dictionary = monitor_api_progress(new_job_id=job_id)"
      ]
    },
    {
      "cell_type": "markdown",
      "id": "066faf3e",
      "metadata": {
        "id": "066faf3e",
        "pycharm": {
          "name": "#%% md\n"
        }
      },
      "source": [
        "<img src=\"https://aisdocs.blob.core.windows.net/reference/Workflow Images/aw5.png\"/>"
      ]
    },
    {
      "cell_type": "markdown",
      "id": "0f27f7b1",
      "metadata": {
        "id": "0f27f7b1",
        "pycharm": {
          "name": "#%% md\n"
        }
      },
      "source": [
        "### 3.7 Download Reports and artifacts"
      ]
    },
    {
      "cell_type": "code",
      "execution_count": null,
      "id": "56bd0d06",
      "metadata": {
        "execution": {
          "iopub.execute_input": "2023-06-05T18:33:26.599519Z",
          "iopub.status.busy": "2023-06-05T18:33:26.598522Z",
          "iopub.status.idle": "2023-06-05T18:33:26.617593Z",
          "shell.execute_reply": "2023-06-05T18:33:26.615601Z"
        },
        "id": "56bd0d06",
        "pycharm": {
          "name": "#%%\n"
        }
      },
      "outputs": [],
      "source": [
        "report_path = \"reports/\"\n",
        "status =\"success\""
      ]
    },
    {
      "cell_type": "code",
      "execution_count": null,
      "id": "1f8a5a01",
      "metadata": {
        "id": "1f8a5a01",
        "pycharm": {
          "name": "#%%\n"
        }
      },
      "outputs": [],
      "source": [
        "def download_artifact(job_id, report_path, report_type='Vulnerability', file_format=0):\n",
        "    \"\"\"\n",
        "    job_id: job_id  received after successful api call\n",
        "    report_type: report to be downloaded\n",
        "    file_format: change file_format to : 0- all report in zip\n",
        "                        1- report in .txt\n",
        "                        2- report in .pdf\n",
        "                        3- report in .json\n",
        "                        4- report in .xml\n",
        "    \"\"\"\n",
        "    print(\"received report_type : {} and file format is: {}\".format(report_type, file_format))\n",
        "    report_url = url + \"/\" + \"get_report?job_id=\" + str(\n",
        "        job_id) + \"&report_type=\" + report_type + \"&file_format=\" + str(file_format)\n",
        "\n",
        "    headers1 = headers\n",
        "    headers1[\"content-type\"] = \"application/zip\"\n",
        "\n",
        "    response = requests.request(\"GET\", report_url, params={}, headers=headers1)\n",
        "\n",
        "    file_path = None\n",
        "    if file_format == 0 or file_format == \"Attack_samples\":\n",
        "        file_path=os.path.join(report_path, report_type + \".zip\")\n",
        "        with open(file_path, 'wb') as f:\n",
        "            f.write(response.content)\n",
        "\n",
        "    elif file_format == 1:\n",
        "        file_path=os.path.join(report_path, report_type + \".txt\")\n",
        "        with open(file_path, 'wb') as f:\n",
        "            f.write(response.content)\n",
        "\n",
        "    elif file_format == 2:\n",
        "        file_path=os.path.join(report_path, report_type + \".pdf\")\n",
        "        with open(file_path, 'wb') as f:\n",
        "            f.write(response.content)\n",
        "\n",
        "    elif file_format == 3:\n",
        "        file_path=os.path.join(report_path, report_type + \".json\")\n",
        "        with open(file_path, 'wb') as f:\n",
        "            f.write(response.content)\n",
        "\n",
        "    elif file_format == 4:\n",
        "        file_path=os.path.join(report_path, report_type + \".xml\")\n",
        "        with open(file_path, 'wb') as f:\n",
        "            f.write(response.content)\n",
        "\n",
        "    return file_path"
      ]
    },
    {
      "cell_type": "code",
      "execution_count": null,
      "id": "ce56da2b",
      "metadata": {
        "hide_code": false,
        "id": "ce56da2b",
        "pycharm": {
          "name": "#%%\n"
        }
      },
      "outputs": [],
      "source": [
        "\"\"\"\n",
        "Description: Download the Vulnerability Reports\n",
        "\"\"\"\n",
        "import os\n",
        "if pypi:\n",
        "    if status == \"success\":\n",
        "        output_conf = ais.OutputConf(report_type=ais.get_type(\"report\", \"vulnerability\"),\n",
        "                                     file_format=ais.get_type(\"file_format\", \"pdf\"),\n",
        "                                     save_folder_path=report_path)\n",
        "\n",
        "        vul_report = aishield_client.save_job_report(job_id=job_id, output_config=output_conf)\n",
        "\n",
        "else:\n",
        "\n",
        "    vul_report = download_artifact(job_id=job_id, report_path= report_path, report_type='Vulnerability', file_format=2)"
      ]
    },
    {
      "cell_type": "code",
      "execution_count": null,
      "id": "Odv5kzeYFTOZ",
      "metadata": {
        "execution": {
          "iopub.execute_input": "2023-06-05T18:33:32.606419Z",
          "iopub.status.busy": "2023-06-05T18:33:32.606419Z",
          "iopub.status.idle": "2023-06-05T18:33:32.645220Z",
          "shell.execute_reply": "2023-06-05T18:33:32.644077Z"
        },
        "hide_code": false,
        "id": "Odv5kzeYFTOZ",
        "pycharm": {
          "name": "#%%\n"
        }
      },
      "outputs": [],
      "source": [
        "def get_file_id(report_path):\n",
        "\n",
        "    file_id = None\n",
        "    !pip install --upgrade google-api-python-client google-auth-httplib2 google-auth-oauthlib\n",
        "\n",
        "    # from google.colab import drive\n",
        "    # drive.mount('/content/drive')\n",
        "    import os\n",
        "    from googleapiclient.discovery import build\n",
        "    from googleapiclient.http import MediaFileUpload\n",
        "\n",
        "    # Authenticate and authorize access to the Google Drive API\n",
        "    from google.colab import auth\n",
        "    auth.authenticate_user()\n",
        "\n",
        "    # Build the Drive API service\n",
        "    drive_service = build('drive', 'v3')\n",
        "\n",
        "    # Path to the PDF file in your local drive\n",
        "#         local_pdf_path = '/content/drive/MyDrive/Vulnerability.pdf'\n",
        "\n",
        "    # Upload the PDF file to Google Drive\n",
        "    pdf_file_name = os.path.basename(report_path)\n",
        "    file_metadata = {'name': pdf_file_name}\n",
        "    media = MediaFileUpload(report_path, mimetype='application/pdf')\n",
        "    file = drive_service.files().create(body=file_metadata, media_body=media, fields='id').execute()\n",
        "\n",
        "    # Set sharing permissions to \"Anyone with the link\"\n",
        "    file_id = file.get('id')\n",
        "    drive_service.permissions().create(\n",
        "        fileId=file_id,\n",
        "        body={'role': 'reader', 'type': 'anyone'}\n",
        "    ).execute()\n",
        "\n",
        "    return file_id"
      ]
    },
    {
      "cell_type": "code",
      "execution_count": null,
      "id": "6f2c29ad",
      "metadata": {
        "execution": {
          "iopub.execute_input": "2023-06-05T18:33:32.652937Z",
          "iopub.status.busy": "2023-06-05T18:33:32.652937Z",
          "iopub.status.idle": "2023-06-05T18:33:32.679968Z",
          "shell.execute_reply": "2023-06-05T18:33:32.678696Z"
        },
        "hide_code": false,
        "id": "6f2c29ad",
        "pycharm": {
          "name": "#%%\n"
        }
      },
      "outputs": [],
      "source": [
        "\"\"\"\n",
        "Description: Displaying the current Vulnerability Assement report\n",
        "\"\"\"\n",
        "\n",
        "if (\"colab\" in runtime_environment.lower()):\n",
        "    file_id = get_file_id(report_path = vul_report)\n",
        "    display_pdf(output_filename = \"vul_\"+job_id[-10:],runtime_environment=runtime_environment,file_id=file_id)\n",
        "else:\n",
        "    display_pdf(output_filename = \"vul_\"+job_id[-10:],runtime_environment=runtime_environment, pdf_path =os.path.join(report_path, os.path.basename(vul_report)))"
      ]
    },
    {
      "cell_type": "markdown",
      "id": "d3b6693e",
      "metadata": {
        "id": "d3b6693e",
        "pycharm": {
          "name": "#%% md\n"
        }
      },
      "source": [
        "<img src=\"https://aisdocs.blob.core.windows.net/reference/Workflow Images/aw6.png\"/>"
      ]
    },
    {
      "cell_type": "code",
      "execution_count": null,
      "id": "odBqenUoLVCw",
      "metadata": {
        "id": "odBqenUoLVCw"
      },
      "outputs": [],
      "source": []
    }
  ],
  "metadata": {
    "accelerator": "GPU",
    "codeState": [
      "",
      "",
      "",
      "none",
      "none",
      "none",
      "none",
      "none",
      "none",
      "none",
      "",
      "none",
      "none",
      "",
      "",
      "",
      "",
      "",
      "none",
      "",
      "",
      "none",
      "",
      "",
      "",
      "",
      "",
      "",
      "",
      "",
      "",
      "",
      "",
      "",
      "none",
      "",
      ""
    ],
    "colab": {
      "gpuType": "T4",
      "provenance": []
    },
    "custom_metadata": {
      "show_hide_code": true
    },
    "kernelspec": {
      "display_name": "Python 3 (ipykernel)",
      "language": "python",
      "name": "python3"
    },
    "language_info": {
      "codemirror_mode": {
        "name": "ipython",
        "version": 3
      },
      "file_extension": ".py",
      "mimetype": "text/x-python",
      "name": "python",
      "nbconvert_exporter": "python",
      "pygments_lexer": "ipython3",
      "version": "3.10.13"
    }
  },
  "nbformat": 4,
  "nbformat_minor": 5
}