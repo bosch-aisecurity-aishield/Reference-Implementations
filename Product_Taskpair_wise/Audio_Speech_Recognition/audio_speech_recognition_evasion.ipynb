{
 "cells": [
  {
   "cell_type": "markdown",
   "id": "64ce47d1",
   "metadata": {
    "id": "64ce47d1",
    "pycharm": {
     "name": "#%% md\n"
    }
   },
   "source": [
    "# Welcome to the AIShield Integration Notebook!\n",
    "\n",
    "**We are delighted to have you here!**\n",
    "\n",
    "## What to Expect !!\n",
    "This notebook serves as a comprehensive demonstration of the seamless integration capabilities of AIShield. As a powerful tool for securing your AI/ML assets against adversarial threats, AIShield ensures the integrity and robustness of your models, preventing financial loss, protecting brand reputation, and mitigating the risk of intellectual property theft.\n",
    "\n",
    "## What to Do !!\n",
    "- **Explore the notebook** at your own pace to gain deep insights into the functionalities and features offered by AIShield.\n",
    "- **Run the first code cell/block**, which includes **Support functionalities** crucial for the smooth execution of the notebook. This setup will enhance your experience and enable the seamless integration of AIShield.\n",
    "- Even without running the entire notebook, you can get a glimpse of AIShield's capabilities and its approach to vulnerability assessments through sample scenarios.\n",
    "- **Run the code cells** to witness firsthand how AIShield seamlessly integrates with your existing codebase, empowering you to protect your AI models against adversarial attacks.\n",
    "- **Experiment and adapt the code** to suit your specific use cases, leveraging the flexibility and customization options provided by AIShield.\n",
    "- Should you have any questions or require assistance, our dedicated [AIShield.Contact@bosch.com](mailto:AIShield.Contact@bosch.com) is just a click away.\n",
    "\n",
    "## What You'll Get !!\n",
    "Throughout this notebook, you'll find:\n",
    "- Code snippets demonstrating step-by-step procedures for incorporating AIShield into your existing workflows, ensuring comprehensive protection against adversarial threats.\n",
    "- Detailed guidance on the integration process, including any additional inputs required for thorough vulnerability analysis.\n",
    "- A comprehensive threat-informed defense model, empowering you to understand the vulnerabilities in your AI models and undertake appropriate remediation measures.\n",
    "- Report artifacts and a sample attack dataset, providing valuable insights into potential attack scenarios and assisting in devising robust defense strategies.\n",
    "- In-depth explanations of defense remediation techniques, equipping you with the knowledge and tools to safeguard your AI assets effectively.\n",
    "\n",
    "## <span style=\"color:teal\">AIShield Website and LinkedIn</span>\n",
    "To learn more about AIShield and its cutting-edge features, visit the official [AIShield website](https://www.boschaishield.com/). Connect with AIShield on [LinkedIn](https://www.linkedin.com/company/bosch-aishield/about/) to stay updated on the latest advancements in AI security.\n",
    "\n",
    "We hope this notebook empowers you to seamlessly integrate AIShield into your projects, ensuring the utmost protection for your AI/ML assets. If you have any questions or need further assistance, please don't hesitate to reach out. **Happy exploring!**\n"
   ]
  },
  {
   "cell_type": "markdown",
   "id": "cc04dd47",
   "metadata": {
    "id": "cc04dd47",
    "pycharm": {
     "name": "#%% md\n"
    }
   },
   "source": [
    "<a target=\"_blank\" href=\"https://colab.research.google.com/github/bosch-aisecurity-aishield/Reference-Implementations/blob/main/Product_Taskpair_wise/Audio_Speech_Recognition/audio_speech_recognition_evasion.ipynb\">\n",

    "  <img src=\"https://colab.research.google.com/assets/colab-badge.svg\" alt=\"Open In Colab\"/>\n",
    "</a>\n"
   ]
  },
  {
   "cell_type": "markdown",
   "id": "5e5cabeb",
   "metadata": {
    "id": "5e5cabeb",
    "pycharm": {
     "name": "#%% md\n"
    }
   },
   "source": [
    "## 1.0 Support Functionalities:"
   ]
  },
  {
   "cell_type": "code",
   "execution_count": 1,
   "id": "95fb5754",
   "metadata": {
    "colab": {
     "base_uri": "https://localhost:8080/",
     "height": 34
    },
    "id": "95fb5754",
    "outputId": "01fabb50-062d-4623-f736-91213c4796eb",
    "pycharm": {
     "name": "#%%\n"
    }
   },
   "outputs": [
    {
     "name": "stdout",
     "output_type": "stream",
     "text": [
      "Notebook is running in Jupyter Notebook\n"
     ]
    },
    {
     "data": {
      "text/html": [
       "\n",
       "        <style>\n",
       "        .scrollable-code-input {\n",
       "            max-height: 500px;\n",
       "            overflow-y: scroll;\n",
       "        }\n",
       "        </style>\n",
       "        <script>\n",
       "        var codeInputCells = document.querySelectorAll('div.code_cell .input');\n",
       "        codeInputCells.forEach(function(cell) {\n",
       "            cell.classList.add('scrollable-code-input');\n",
       "        });\n",
       "        </script>\n",
       "    "
      ],
      "text/plain": [
       "<IPython.core.display.HTML object>"
      ]
     },
     "metadata": {},
     "output_type": "display_data"
    }
   ],
   "source": [
    "def make_code_input_scrollable():\n",
    "    \"\"\"Description : To make the input code cell scrollable for jupyternotebook\"\"\"\n",
    "    from IPython.display import display, HTML\n",
    "    display(HTML('''\n",
    "        <style>\n",
    "        .scrollable-code-input {\n",
    "            max-height: 500px;\n",
    "            overflow-y: scroll;\n",
    "        }\n",
    "        </style>\n",
    "        <script>\n",
    "        var codeInputCells = document.querySelectorAll('div.code_cell .input');\n",
    "        codeInputCells.forEach(function(cell) {\n",
    "            cell.classList.add('scrollable-code-input');\n",
    "        });\n",
    "        </script>\n",
    "    '''))\n",
    "\n",
    "def display_pdf(runtime_environment,output_filename, pdf_path=None, file_id=None):\n",
    "\n",
    "    \"\"\"Descrption : To embeded pdf file in the ntoebook\"\"\"\n",
    "\n",
    "    from IPython.display import display, HTML\n",
    "    import os\n",
    "    output_file = output_filename+'.html'\n",
    "\n",
    "    # Check if the output file exists\n",
    "    if os.path.exists(output_file):\n",
    "        with open(output_file, 'r') as f:\n",
    "            saved_output = f.read()\n",
    "            display(HTML(saved_output))\n",
    "    else:\n",
    "        if 'colab' in runtime_environment.lower():\n",
    "            # Generate the Google Drive Viewer URL\n",
    "            if file_id is None:\n",
    "                print(pdf_path)\n",
    "                # Generate the Google Drive Viewer URL\n",
    "                drive_viewer_url = f'https://drive.google.com/viewerng/viewer?embedded=true&url={pdf_path}'\n",
    "                html_code = f'<iframe src=\"{drive_viewer_url}\" width=\"100%\" height=\"600px\"></iframe>'\n",
    "            else:\n",
    "                viewer_url = f\"https://drive.google.com/file/d/{file_id}/preview\"\n",
    "                html_code = f'<iframe src=\"{viewer_url}\" width=\"100%\" height=\"600px\"></iframe>'\n",
    "        else:\n",
    "            html_code = f'<embed src=\"{pdf_path}\" width=\"100%\" height=\"600px\" type=\"application/pdf\">'\n",
    "        # Save the output to a file\n",
    "        with open(output_file, 'w') as f:\n",
    "            f.write(html_code)\n",
    "\n",
    "        # Display the output\n",
    "        display(HTML(html_code))\n",
    "\n",
    "\n",
    "def check_runtime_environment():\n",
    "    \"\"\"\n",
    "    Description : Check notebook is running on colab or jupyter-notebook\n",
    "    \"\"\"\n",
    "    import os\n",
    "    colab = False\n",
    "    if 'google.colab' in str(get_ipython()):\n",
    "        colab = True\n",
    "        return 'Colab' , colab\n",
    "    else:\n",
    "        return 'Jupyter Notebook' , colab\n",
    "\n",
    "# Check the runtime environment\n",
    "runtime_environment,colab_running  = check_runtime_environment()\n",
    "\n",
    "print(\"Notebook is running in\", runtime_environment)\n",
    "\n",
    "make_code_input_scrollable()\n",
    "\n",
    "\n"
   ]
  },
  {
   "cell_type": "markdown",
   "id": "452a83b9",
   "metadata": {
    "id": "452a83b9",
    "pycharm": {
     "name": "#%% md\n"
    }
   },
   "source": [
    "    "
   ]
  },
  {
   "cell_type": "markdown",
   "id": "bfb01f37",
   "metadata": {
    "id": "bfb01f37",
    "pycharm": {
     "name": "#%% md\n"
    }
   },
   "source": [
    "   "
   ]
  },
  {
   "cell_type": "markdown",
   "id": "e137bb2f",
   "metadata": {
    "id": "e137bb2f",
    "pycharm": {
     "name": "#%% md\n"
    }
   },
   "source": [
    "\n",
    "<img src=\"https://aisdocs.blob.core.windows.net/reference/Workflow Images/wk1.png\"/>"
   ]
  },
  {
   "cell_type": "markdown",
   "id": "1bcb6716",
   "metadata": {
    "id": "1bcb6716",
    "pycharm": {
     "name": "#%% md\n"
    }
   },
   "source": [
    "   "
   ]
  },
  {
   "cell_type": "markdown",
   "id": "09aafb23",
   "metadata": {
    "id": "09aafb23",
    "pycharm": {
     "name": "#%% md\n"
    }
   },
   "source": [
    "  "
   ]
  },
  {
   "cell_type": "markdown",
   "id": "eb1f2642",
   "metadata": {
    "id": "eb1f2642",
    "pycharm": {
     "name": "#%% md\n"
    }
   },
   "source": [
    "## 2.0 Below code cell/block performs Step 1 to 4 with following these sequential steps :\n",
    "**STEP 1 : Installing libraries:** The required libraries will be installed to provide necessary functionalities for the task at hand.\n",
    "\n",
    "**STEP 2 : Loading the dataset:** The dataset containing the relevant information will be loaded into the program, allowing access to the data for analysis and modeling.\n",
    "\n",
    "**STEP 3 : Model development and training:** A sophisticated model will be developed to analyze and interpret the dataset. The model will then be trained using appropriate techniques to optimize its performance.\n",
    "\n",
    "**STEP 4 : Preparing the Data, Model, and Label:** Prior to further analysis, essential steps such as data preprocessing, model configuration, and label preparation will be carried out. This will ensure that the data, model, and labels are properly structured and ready for subsequent stages needed for aishield.\n",
    "\n"
   ]
  },
  {
   "cell_type": "markdown",
   "id": "9a0c2c9e-1705-469f-af0f-9f4fa718b187",
   "metadata": {
    "id": "9a0c2c9e-1705-469f-af0f-9f4fa718b187"
   },
   "source": [
    "### Before running the notebook, please ensure the following:\n",
    "- **`install`: by default value is set to True**\n",
    "   - Set to **`True`** to automatically download and install all necessary libraries before notebook execution.\n",
    "   - Set to **`False`** to proceed with library imports only."
   ]
  },
  {
   "cell_type": "code",
   "execution_count": 2,
   "id": "167fad22-6c10-4f7e-941f-4daba89447be",
   "metadata": {
    "id": "167fad22-6c10-4f7e-941f-4daba89447be"
   },
   "outputs": [],
   "source": [
    "\"\"\"\n",
    "Description:\n",
    "    install : True / False\n",
    "            if install True , all the libraries needed to run the notebook will download first and then will import\n",
    "               install False, only import of the library will takes place\n",
    "\"\"\"\n",
    "\n",
    "install = False #to install the prerequisite libraries or not"
   ]
  },
  {
   "cell_type": "code",
   "execution_count": 13,
   "id": "75b1807a",
   "metadata": {
    "colab": {
     "base_uri": "https://localhost:8080/"
    },
    "hide_code": false,
    "id": "75b1807a",
    "outputId": "db8d4c76-4bd7-44ec-87fd-12f4bff930fc",
    "pycharm": {
     "name": "#%%\n"
    }
   },
   "outputs": [
    {
     "name": "stdout",
     "output_type": "stream",
     "text": [
      "Started of installing all the prerequisites packages\n",
      "Requirement already satisfied: tqdm==4.66.1 in /usr/local/lib/python3.10/dist-packages (4.66.1)\n",
      "Requirement already satisfied: requests==2.31.0 in /usr/local/lib/python3.10/dist-packages (2.31.0)\n",
      "Requirement already satisfied: charset-normalizer<4,>=2 in /usr/local/lib/python3.10/dist-packages (from requests==2.31.0) (3.3.2)\n",
      "Requirement already satisfied: idna<4,>=2.5 in /usr/local/lib/python3.10/dist-packages (from requests==2.31.0) (3.6)\n",
      "Requirement already satisfied: urllib3<3,>=1.21.1 in /usr/local/lib/python3.10/dist-packages (from requests==2.31.0) (2.0.7)\n",
      "Requirement already satisfied: certifi>=2017.4.17 in /usr/local/lib/python3.10/dist-packages (from requests==2.31.0) (2024.2.2)\n",
      "Installed all the prerequisites packages\n"
     ]
    },
    {
     "name": "stderr",
     "output_type": "stream",
     "text": [
      "Download the Dataset:   0%|          | 0/4 [00:00<?, ?it/s]"
     ]
    },
    {
     "name": "stdout",
     "output_type": "stream",
     "text": [
      "Removed: /content/data\n",
      "Removed: /content/label\n",
      "Removed: /content/reports\n",
      "Removed: /content/zip\n",
      "Failed to removed: /content/reports/sample_data\n",
      "directory /content/data created successfully\n",
      "directory /content/label created successfully\n",
      "directory /content/reports created successfully\n",
      "directory /content/zip created successfully\n",
      "directory /content/reports/sample_data created successfully\n",
      "Downloading of the Data Started\n",
      "Data downloaded succesfully\n"
     ]
    },
    {
     "name": "stderr",
     "output_type": "stream",
     "text": [
      "Model Development:  25%|██▌       | 1/4 [00:01<00:04,  1.58s/it]   "
     ]
    },
    {
     "name": "stdout",
     "output_type": "stream",
     "text": [
      "Downloading of the Label file Started\n",
      "Label file downloaded succesfully\n"
     ]
    },
    {
     "name": "stderr",
     "output_type": "stream",
     "text": [
      "AIShield API Call:  75%|███████▌  | 3/4 [00:05<00:01,  1.84s/it]"
     ]
    },
    {
     "name": "stdout",
     "output_type": "stream",
     "text": [
      "Below Cells will see How to integrate and Call AIShield for Vulnerability Analysis\n"
     ]
    },
    {
     "name": "stderr",
     "output_type": "stream",
     "text": [
      "\n"
     ]
    }
   ],
   "source": [
    "#@title Show/Hide Code\n",
    "'''\n",
    "Description: user input about dataset information\n",
    "'''\n",
    "if install:\n",
    "\n",
    "    print(\"Started of installing all the prerequisites packages\")\n",
    "    !pip install tqdm==4.66.1\n",
    "    !pip install requests==2.31.0\n",
    "\n",
    "    print(\"Installed all the prerequisites packages\")\n",
    "\n",
    "else:\n",
    "    print(\"Skipped the installation of all the prerequisites packages\")\n",
    "\n",
    "\n",
    "import os\n",
    "import json\n",
    "import time\n",
    "import tqdm\n",
    "import shutil\n",
    "import random\n",
    "import zipfile\n",
    "import requests\n",
    "from time import sleep\n",
    "\n",
    "def download_artifacts(url):\n",
    "    \"\"\"\n",
    "    Description :\n",
    "    This function will download the dataset from the given file_path\n",
    "    parameter:\n",
    "\n",
    "        input:\n",
    "        file_path : url of the dataset from where need to download the dataset\n",
    "\n",
    "        output: None\n",
    "    \"\"\"\n",
    "    file_path = os.path.basename(url)\n",
    "\n",
    "    # Download the file\n",
    "    response = requests.get(url)\n",
    "    with open(file_path, 'wb') as f:\n",
    "        f.write(response.content)\n",
    "\n",
    "#extract content from the nested zip file\n",
    "def extract_zip(zip_file_path, extract_to_folder):\n",
    "\n",
    "    \"\"\"\n",
    "    Description :\n",
    "    This function will extract the zipped file to a given destination folder\n",
    "\n",
    "        input:\n",
    "        zip_file_path : download zipped file path\n",
    "        extract_to_folder: destination folder to extract the content of zipped files\n",
    "\n",
    "        output: None\n",
    "    \"\"\"\n",
    "    with zipfile.ZipFile(zip_file_path, 'r') as zip_ref:\n",
    "        # Extract all contents into the target folder\n",
    "        zip_ref.extractall(extract_to_folder)\n",
    "    zip_ref.close()\n",
    "\n",
    "def download_extract_artifacts(download_url, zipped_file_path, destination_path):\n",
    "\n",
    "    \"\"\"\n",
    "    Description :\n",
    "    This function will trigger the download and extraction function one by one\n",
    "\n",
    "        input:\n",
    "        download_url: url from where content need to be downloaded\n",
    "        zip_file_path : download zipped file path\n",
    "        destination_path: destination folder to extract the content of zipped files\n",
    "\n",
    "        output: None\n",
    "    \"\"\"\n",
    "\n",
    "    # download the artifcats from the given url\n",
    "    try:\n",
    "        download_artifacts(download_url)\n",
    "        # extract the zipped artifacts in to given destination folder\n",
    "        extract_zip(zipped_file_path, destination_path)\n",
    "\n",
    "    except Exception as e:\n",
    "        print(\"Download / Extraction of artifacts failed {}\".format(str(e)))\n",
    "\n",
    "\n",
    "def make_directory(directory):\n",
    "    \"\"\"\n",
    "    Create directory\n",
    "\n",
    "    Parameters\n",
    "    ----------\n",
    "    directorys : list containing the directory's path to create\n",
    "\n",
    "    Returns\n",
    "    -------\n",
    "    None.\n",
    "\n",
    "    \"\"\"\n",
    "    for d in directory:\n",
    "        if os.path.isdir(d):\n",
    "            print(\"directory {} already exist\".format(d))\n",
    "        if os.path.isdir(d)==False:\n",
    "            os.mkdir(path=d)\n",
    "            print(\"directory {} created successfully\".format(d))\n",
    "\n",
    "def delete_directory(directorys):\n",
    "    \"\"\"\n",
    "    Delete directory\n",
    "\n",
    "    Parameters\n",
    "    ----------\n",
    "    directorys : list containing the directory's path to delete along with all the files\n",
    "\n",
    "    Returns\n",
    "    -------\n",
    "    None.\n",
    "\n",
    "    \"\"\"\n",
    "    if len(directorys)>=1:\n",
    "        for d in directorys:\n",
    "            if os.path.isdir(d):\n",
    "                try:\n",
    "                    if os.path.isfile(d):\n",
    "                        os.remove(path=d)\n",
    "                    else:\n",
    "                        shutil.rmtree(path=d)\n",
    "                        print(\"Removed: {}\".format(d))\n",
    "                except:\n",
    "                    print(\"Failed to removed: {}\".format(d))\n",
    "            else:\n",
    "                print(\"Failed to removed: {}\".format(d))\n",
    "\n",
    "def make_archive(base_name,root_dir,zip_format='zip'):\n",
    "    \"\"\"\n",
    "    Creates zip for given folder\n",
    "\n",
    "    Parameters\n",
    "    ----------\n",
    "    base_name : name of zip file\n",
    "    root_dir : directory to archive/zip\n",
    "    zip_format : zip or tar\n",
    "        DESCRIPTION. The default is 'zip'.\n",
    "\n",
    "    Returns\n",
    "    -------\n",
    "    None.\n",
    "\n",
    "    \"\"\"\n",
    "    shutil.make_archive(base_name=base_name, format=zip_format, root_dir=root_dir)\n",
    "\n",
    "def create_folders():\n",
    "    '''\n",
    "        Descrption: this will remove(if present previously) and create folders needed\n",
    "                    to store the data , model and label for ease access\n",
    "\n",
    "        input_parameters: None\n",
    "        return_parameters: returns the path of the data , model , label , report, zip directory\n",
    "    '''\n",
    "\n",
    "    data_path=os.path.join(os.getcwd(),\"data\")\n",
    "    label_path=os.path.join(os.getcwd(),\"label\")\n",
    "    model_path=os.path.join(os.getcwd(),'model')\n",
    "    \n",
    "    report_path=os.path.join(os.getcwd(),\"reports\")\n",
    "    sample_data = os.path.join(report_path, \"sample_data\")\n",
    "    #Create Zip Path which contains data , model and label zip files\n",
    "    zip_path=os.path.join(os.getcwd(),\"zip\")\n",
    "\n",
    "    #deleting previously generated folders\n",
    "    delete_directory(directorys=[data_path,label_path,model_path,report_path,zip_path, sample_data])\n",
    "\n",
    "    #creating folders\n",
    "    make_directory([data_path,label_path,model_path,report_path,zip_path, sample_data])\n",
    "\n",
    "    return data_path, label_path,model_path,report_path, zip_path, sample_data\n",
    "\n",
    "if __name__ == \"__main__\":\n",
    "\n",
    "    import tqdm\n",
    "    from time import sleep\n",
    "\n",
    "    user_workflow = {\n",
    "                 '1' : 'Download the Dataset',\n",
    "                 '2' : 'Model Development',\n",
    "                 '3' : 'Preparing Data, Model as per AIShield pre-requisite',\n",
    "                 '4' : 'AIShield API Call'\n",
    "\n",
    "           }\n",
    "\n",
    "    steps_tqdm = tqdm.tqdm(range(1,len(user_workflow)+1))\n",
    "    data_path,label_path,model_path,report_path,zip_path, sample_data = create_folders()\n",
    "\n",
    "    for step in steps_tqdm:\n",
    "\n",
    "        if step == 1 :\n",
    "            steps_tqdm.set_description(user_workflow[str(step)])\n",
    "            print(\"Downloading of the Data Started\")\n",
    "            data_url = \"https://huggingface.co/Pankaj001/AudioSpeechRecognition/resolve/main/data.zip\"\n",
    "            download_extract_artifacts(data_url, os.path.basename(data_url), os.path.basename(data_path))\n",
    "            print(\"Data downloaded succesfully\")\n",
    "            \n",
    "            steps_tqdm.set_description(user_workflow[str(step)])\n",
    "            print(\"Downloading of the Label file Started\")\n",
    "            label_url = \"https://huggingface.co/Pankaj001/AudioSpeechRecognition/resolve/main/label.zip\"\n",
    "            download_extract_artifacts(label_url, os.path.basename(label_url), os.path.basename(label_path))\n",
    "            print(\"Label file downloaded succesfully\")\n",
    "\n",
    "\n",
    "        elif step == 2:\n",
    "            steps_tqdm.set_description(user_workflow[str(step)])\n",
    "            print(\"Downloading of the model file Started\")\n",
    "            model_url = \"https://huggingface.co/Pankaj001/AudioSpeechRecognition/resolve/main/model.zip\"\n",
    "            download_extract_artifacts(model_url, os.path.basename(model_url), os.path.basename(model_path))\n",
    "            print(\"model file downloaded succesfully\")\n",
    "\n",
    "\n",
    "        elif step == 3:\n",
    "            steps_tqdm.set_description(user_workflow[str(step)])\n",
    "            \n",
    "            #Zip Model\n",
    "            make_archive(base_name=os.path.join(zip_path,\"model\"),root_dir=model_path,zip_format='zip')     \n",
    "\n",
    "            #Zip Data\n",
    "            make_archive(base_name=os.path.join(zip_path,\"data\"),root_dir=data_path,zip_format='zip')\n",
    "\n",
    "            #Zip label\n",
    "            make_archive(base_name=os.path.join(zip_path,\"label\"),root_dir=label_path,zip_format='zip')\n",
    "\n",
    "        elif step == 4:\n",
    "            steps_tqdm.set_description(user_workflow[str(step)])\n",
    "            print(\"Below Cells will see How to integrate and Call AIShield for Vulnerability Analysis\")\n",
    "            break\n",
    "\n",
    "        sleep(1)\n"
   ]
  },
  {
   "cell_type": "markdown",
   "id": "9775ce40",
   "metadata": {
    "id": "9775ce40",
    "pycharm": {
     "name": "#%% md\n"
    }
   },
   "source": [
    "   "
   ]
  },
  {
   "cell_type": "markdown",
   "id": "aecb7b1b",
   "metadata": {
    "id": "aecb7b1b",
    "pycharm": {
     "name": "#%% md\n"
    }
   },
   "source": [
    "  "
   ]
  },
  {
   "cell_type": "markdown",
   "id": "80782b1d",
   "metadata": {
    "id": "80782b1d",
    "pycharm": {
     "name": "#%% md\n"
    }
   },
   "source": [
    "<img src=\"https://aisdocs.blob.core.windows.net/reference/Workflow Images/wk2.png\"/>"
   ]
  },
  {
   "cell_type": "markdown",
   "id": "d78d4789",
   "metadata": {
    "id": "d78d4789",
    "pycharm": {
     "name": "#%% md\n"
    }
   },
   "source": [
    "  "
   ]
  },
  {
   "cell_type": "markdown",
   "id": "74404585",
   "metadata": {
    "id": "74404585",
    "pycharm": {
     "name": "#%% md\n"
    }
   },
   "source": [
    "  "
   ]
  },
  {
   "cell_type": "markdown",
   "id": "7e49ea41",
   "metadata": {
    "id": "7e49ea41",
    "pycharm": {
     "name": "#%% md\n"
    }
   },
   "source": [
    "## 3.0 Vulnerability Analysis by AIShield\n",
    "\n",
    "**STEP 5 :You can move to trigger the AIShield analysis by following steps given below. If you want to preview the generated artifact by vulnerability analysis like the report and dashboard, please find below a few samples of same, all without having to trigger an actual analysis.**\n",
    "\n",
    "By examining these Reports, we can gain a comprehensive understanding of the upcoming Vulnerability Analysis conducted by AIShield, which will enable us to prepare more effectively.\n"
   ]
  },
  {
   "cell_type": "markdown",
   "id": "5a5c2dd7",
   "metadata": {
    "id": "5a5c2dd7"
   },
   "source": [
    "<img src=\"https://aisdocs.blob.core.windows.net/reference/dashboard_images/Dashboard.png\"/>"
   ]
  },
  {
   "cell_type": "markdown",
   "id": "6475ab6a",
   "metadata": {
    "id": "6475ab6a"
   },
   "source": [
    "<img src=\"https://aisdocs.blob.core.windows.net/reference/dashboard_images/IC_MEA_Dashboard.png\"/>"
   ]
  },
  {
   "cell_type": "code",
   "execution_count": 2,
   "id": "0ca157e6",
   "metadata": {
    "colab": {
     "base_uri": "https://localhost:8080/",
     "height": 645
    },
    "hide_code": false,
    "id": "0ca157e6",
    "outputId": "f92c2219-455b-477f-8d7a-138e2f219960",
    "pycharm": {
     "name": "#%%\n"
    },
    "scrolled": true
   },
   "outputs": [
    {
     "data": {
      "text/html": [
       "<embed src=\"https://aisdocs.blob.core.windows.net/reference/Reports/Audio/AudioSpeechRecognition/Evasion/VulnerabilityReport.pdf\" width=\"100%\" height=\"600px\" type=\"application/pdf\">"
      ],
      "text/plain": [
       "<IPython.core.display.HTML object>"
      ]
     },
     "metadata": {},
     "output_type": "display_data"
    }
   ],
   "source": [
    "hosted_pdf_url = 'https://aisdocs.blob.core.windows.net/reference/Reports/Audio/AudioSpeechRecognition/Evasion/VulnerabilityReport.pdf'\n",
    "display_pdf( output_filename = \"vul_sample\",runtime_environment = runtime_environment,pdf_path =hosted_pdf_url)\n"
   ]
  },
  {
   "cell_type": "markdown",
   "id": "12bfb0e6",
   "metadata": {
    "id": "12bfb0e6",
    "pycharm": {
     "name": "#%% md\n"
    }
   },
   "source": [
    "  "
   ]
  },
  {
   "cell_type": "markdown",
   "id": "5c51b0fe",
   "metadata": {
    "id": "5c51b0fe",
    "pycharm": {
     "name": "#%% md\n"
    }
   },
   "source": [
    "   "
   ]
  },
  {
   "cell_type": "markdown",
   "id": "015d1110",
   "metadata": {
    "id": "015d1110",
    "pycharm": {
     "name": "#%% md\n"
    }
   },
   "source": [
    "#### Let's proceed with the step-by-step process of calling and integrating AIShield for Vulnerability Analysis:\n",
    "\n",
    "1. **Initialize AIShield:** Ensure that AIShield is properly installed and its dependencies are set up. Also, initialize AIShield to prepare for the analysis.\n",
    "\n",
    "2. **Model Registration:** Register the specific task pair (e.g. image_classification) and analysis type (e.g. Extraction / MEA) to perform the vulnerability analysis accurately.\n",
    "\n",
    "3. **Upload Artifacts:** Upload the necessary artifacts that have been prepared previously in STEP 4 for analysis. These may include datasets, trained models, or any relevant files.\n",
    "\n",
    "4. **Model Analysis:** Trigger the model analysis API to initiate the vulnerability analysis assessment. AIShield will perform the analysis using the uploaded artifacts.\n",
    "\n",
    "5. **Monitor Analysis Status:** Keep track of the analysis progress and patiently wait for AIShield to generate the vulnerability assessment results. This may take some time depending on the complexity of the analysis.\n",
    "\n",
    "6. **Download Reports & Artifacts:** Once the analysis is complete, access and download the vulnerability analysis reports and any additional artifacts generated by AIShield. Analyze these reports to gain insights into potential vulnerabilities in your system or application.\n",
    "\n",
    "By following instructions, you can effectively call and integrate AIShield for Vulnerability Analysis."
   ]
  },
  {
   "cell_type": "markdown",
   "id": "8f15872b",
   "metadata": {
    "id": "8f15872b",
    "pycharm": {
     "name": "#%% md\n"
    }
   },
   "source": [
    "<img src=\"https://aisdocs.blob.core.windows.net/reference/Workflow Images/aw.png\"/>"
   ]
  },
  {
   "cell_type": "markdown",
   "id": "c3e41392",
   "metadata": {
    "id": "c3e41392",
    "pycharm": {
     "name": "#%% md\n"
    }
   },
   "source": [
    "### 3.1 Initialize AIShield"
   ]
  },
  {
   "cell_type": "code",
   "execution_count": 4,
   "id": "91fcac5f",
   "metadata": {
    "colab": {
     "base_uri": "https://localhost:8080/"
    },
    "id": "91fcac5f",
    "outputId": "e47b6d7f-5e6e-4fd9-b986-42babc83254b",
    "pycharm": {
     "name": "#%%\n"
    }
   },
   "outputs": [
    {
     "data": {
      "text/plain": [
       "'\\nDescription : AIShield URL , subscription key and orgid\\n              Initialize the\\n'"
      ]
     },
     "execution_count": 4,
     "metadata": {},
     "output_type": "execute_result"
    }
   ],
   "source": [
    "\"\"\"\n",
    "Description : AIShield URL , subscription key and orgid\n",
    "              Initialize the\n",
    "\"\"\"\n",
    "base_url = \"https://api.aws.boschaishield.com/prod\"\n",
    "url=base_url+\"/api/ais/v1.5\"\n",
    "org_id = 'XXXXXXXXXXXXXXXXXXXXXXXXXXXXXXXXXXXX' #<<Copy Org_id mentioned in welcome mail after AIShield Subscription>>\n",
    "\n",
    "\"\"\"\n",
    "Description: Initialize the AIShield API\n",
    "\"\"\"\n",
    "\n",
    "#if using AIShield API then , need an x-api-key for accessing AIShield registration / Analysis APIs\n",
    "# below function will get insight of how to generate the x-api-key\n",
    "def get_aws_api_key(url, org_id):\n",
    "\n",
    "    \"\"\"\n",
    "    Description: to get the x_api_key\n",
    "    \"\"\"\n",
    "    url = url+\"/get_aws_api_key\"\n",
    "    headers = {'Org-Id': org_id}\n",
    "    payload = {}\n",
    "\n",
    "    x_api_key_request = requests.request(\"GET\", url, headers=headers, data=payload)\n",
    "    status_code = x_api_key_request.status_code\n",
    "    x_api_key_request = json.loads(x_api_key_request.text)\n",
    "\n",
    "    if status_code == 200:\n",
    "        x_api_key = x_api_key_request['x_api_key']\n",
    "        return x_api_key\n",
    "\n",
    "    else:\n",
    "        print(x_api_key_request)\n",
    "        return None\n",
    "\n",
    "#generate the x-api-key\n",
    "x_api_key = get_aws_api_key(url, org_id)\n",
    "print(\"x_api_key is :\",x_api_key)\n",
    "\n",
    "headers={'Cache-Control': 'no-cache',\n",
    "'x-api-key': x_api_key,\n",
    "'Org-Id' : org_id\n",
    "}\n",
    "\n"
   ]
  },
  {
   "cell_type": "markdown",
   "id": "81cdb00a",
   "metadata": {
    "id": "81cdb00a",
    "pycharm": {
     "name": "#%% md\n"
    }
   },
   "source": [
    "<img src=\"https://aisdocs.blob.core.windows.net/reference/Workflow Images/aw1.png\"/>"
   ]
  },
  {
   "cell_type": "markdown",
   "id": "b7914958",
   "metadata": {
    "id": "b7914958",
    "pycharm": {
     "name": "#%% md\n"
    }
   },
   "source": [
    "### 3.2 Model Registration"
   ]
  },
  {
   "cell_type": "code",
   "execution_count": 5,
   "id": "e5db4de5",
   "metadata": {
    "colab": {
     "base_uri": "https://localhost:8080/"
    },
    "hide_code": false,
    "id": "e5db4de5",
    "outputId": "dc796dd7-8733-43a0-921e-087489113e05",
    "pycharm": {
     "name": "#%%\n"
    }
   },
   "outputs": [
    {
     "data": {
      "text/plain": [
       "'\\nDescription: call Model registration api to get unique model it and url to upload data, model and label\\n'"
      ]
     },
     "execution_count": 5,
     "metadata": {},
     "output_type": "execute_result"
    }
   ],
   "source": [
    "\"\"\"\n",
    "Description: Define the task and analysis type for model registration\n",
    "              \"task_type\" : refers to the specific type of task being performed, for eg : \"asr.\"\n",
    "              \"analysis_type\" : refers to the specific type of analysis being performed,for eg : \"evasion.\n",
    "              For more information, check out [https://docs.boschaishield.com/api-docs/lesspostgreater-model-registration#-a-xGGsdVJB3d09cBAck-]\n",
    "\"\"\"\n",
    "\n",
    "\"\"\"\n",
    "Description: call Model registration api to get unique model it and url to upload data, model and label\n",
    "\"\"\"\n",
    "model_registration_url = url + \"/model_registration/upload\"\n",
    "\n",
    "model_registration_payload = {\n",
    "    'task_type':\"asr\",\n",
    "    \"analysis_type\": \"evasion\"\n",
    "}\n",
    "\n",
    "try:\n",
    "    new_request = requests.request(method=\"POST\", url=model_registration_url, headers=headers, json=model_registration_payload)\n",
    "    new_request = json.loads(new_request.text)\n",
    "    model_id = new_request['data']['model_id']\n",
    "    data_upload_obj = new_request['data']['urls']['data_upload_url']\n",
    "    label_upload_obj = new_request['data']['urls']['label_upload_url']\n",
    "    model_upload_obj = new_request['data']['urls']['model_upload_url']\n",
    "    \n",
    "    print('model_id: ', model_id)\n",
    "\n",
    "except Exception as e:\n",
    "    print(new_request, str(e))"
   ]
  },
  {
   "cell_type": "markdown",
   "id": "8475dc38",
   "metadata": {
    "id": "8475dc38",
    "pycharm": {
     "name": "#%% md\n"
    }
   },
   "source": [
    "<img src=\"https://aisdocs.blob.core.windows.net/reference/Workflow Images/aw2.png\"/>"
   ]
  },
  {
   "cell_type": "markdown",
   "id": "c8769c47",
   "metadata": {
    "id": "c8769c47",
    "pycharm": {
     "name": "#%% md\n"
    }
   },
   "source": [
    "### 3.3 Upload input artifacts"
   ]
  },
  {
   "cell_type": "code",
   "execution_count": 20,
   "id": "bcb368b4",
   "metadata": {
    "colab": {
     "base_uri": "https://localhost:8080/"
    },
    "hide_code": false,
    "id": "bcb368b4",
    "outputId": "5614e4ce-44a3-4b87-9766-a00283389d34",
    "pycharm": {
     "name": "#%%\n"
    }
   },
   "outputs": [
    {
     "name": "stdout",
     "output_type": "stream",
     "text": [
      "data_upload_status:  upload sucessful\n",
      "label_upload_status:  upload sucessful\n"
     ]
    }
   ],
   "source": [
    "\"\"\"\n",
    "Description: Full File paths and upload input artifacts\n",
    "\"\"\"\n",
    "zip_path = 'zip/'\n",
    "data_path=os.path.join(zip_path,'data.zip') #full path of data zip\n",
    "label_path=os.path.join(zip_path,'label.zip') #full path of label zip\n",
    "model_path = os.path.join(zip_path,'model.zip')#full path of model\n",
    "def upload_file(upload_obj, file_path):\n",
    "\n",
    "    url = upload_obj['url']\n",
    "    request_payload = upload_obj['fields']\n",
    "    files=[\n",
    "              ('file',(os.path.basename(file_path),open(file_path,'rb'),'application/zip'))\n",
    "            ]\n",
    "\n",
    "    headers = {}\n",
    "    new_request = requests.request(\"POST\", url, headers=headers, data=request_payload, files=files)\n",
    "    status_cd = new_request.status_code\n",
    "    if status_cd == 204:\n",
    "        status = 'upload sucessful'\n",
    "    else:\n",
    "        status = 'upload failed'\n",
    "    return status\n",
    "\n",
    "\"\"\"\n",
    "Description: Hit AIShield File Upload API\n",
    "\"\"\"\n",
    "data_upload_status = upload_file(data_upload_obj, data_path)\n",
    "label_upload_status = upload_file(label_upload_obj, label_path)\n",
    "model_upload_status = upload_file(model_upload_obj,model_path)\n",
    "print('data_upload_status: ', data_upload_status)\n",
    "print('label_upload_status: ', label_upload_status)\n",
    "print('model_upload_status',model_upload_status)\n",
    "\n"
   ]
  },
  {
   "cell_type": "markdown",
   "id": "f705377c",
   "metadata": {
    "id": "f705377c",
    "pycharm": {
     "name": "#%% md\n"
    }
   },
   "source": [
    "<img src=\"https://aisdocs.blob.core.windows.net/reference/Workflow Images/aw3.png\"/>"
   ]
  },
  {
   "cell_type": "markdown",
   "id": "0758139d",
   "metadata": {
    "id": "0758139d",
    "pycharm": {
     "name": "#%% md\n"
    }
   },
   "source": [
    "### 3.4 Model Analysis"
   ]
  },
  {
   "cell_type": "code",
   "execution_count": 9,
   "id": "251ad457",
   "metadata": {
    "colab": {
     "base_uri": "https://localhost:8080/"
    },
    "hide_code": false,
    "id": "251ad457",
    "outputId": "7af3b430-5b49-4952-b962-24f362a4da3d",
    "pycharm": {
     "name": "#%%\n"
    }
   },
   "outputs": [
    {
     "data": {
      "text/plain": [
       "'\\nDescription: Payload for AIShield VulnerabilityReport api call\\n'"
      ]
     },
     "execution_count": 9,
     "metadata": {},
     "output_type": "execute_result"
    }
   ],
   "source": [
    "\"\"\"\n",
    "Description: Specify the appropriate configs required for vulnerability analysis and trigger model analysis\n",
    "\"\"\"\n",
    "\n",
    "\"\"\"\n",
    "Description: Payload for AIShield VulnerabilityReport api call\n",
    "\"\"\"\n",
    "payload={}\n",
    "payload['use_model_api']= \"no\"\n",
    "payload['model_api_details']=\"\"\n",
    "payload['model_framework']=\"onnx\"\n",
    "\n",
    "\"\"\"\n",
    "Description: Hit AIShield VulnerabilityReport api\n",
    "\"\"\"\n",
    "model_analysis_url = url + \"/model_analyse/{}\".format(model_id)\n",
    "if data_upload_status == \"upload sucessful\" and label_upload_status == \"upload sucessful\":\n",
    "    try:\n",
    "        new_request = requests.request(method=\"POST\", url=model_analysis_url, json=payload,headers=headers)\n",
    "        new_request=json.loads(new_request.text)\n",
    "        for k, v in new_request.items():\n",
    "            print(\"* {} : {}\".format(k,v))\n",
    "\n",
    "        job_id=new_request['job_id']\n",
    "\n",
    "    except Exception as e:\n",
    "        print(str(e))\n"
   ]
  },
  {
   "cell_type": "markdown",
   "id": "78c6e269",
   "metadata": {
    "id": "78c6e269",
    "pycharm": {
     "name": "#%% md\n"
    }
   },
   "source": [
    "<img src=\"https://aisdocs.blob.core.windows.net/reference/Workflow Images/aw4.png\"/>"
   ]
  },
  {
   "cell_type": "markdown",
   "id": "f46c938b",
   "metadata": {
    "id": "f46c938b",
    "pycharm": {
     "name": "#%% md\n"
    }
   },
   "source": [
    "### 3.5 Monitor Analysis Status"
   ]
  },
  {
   "cell_type": "code",
   "execution_count": 10,
   "id": "55003c2e",
   "metadata": {
    "colab": {
     "base_uri": "https://localhost:8080/",
     "height": 369
    },
    "hide_code": false,
    "id": "55003c2e",
    "outputId": "6995b068-07db-4bbd-8794-7e3cbe4bd6e2",
    "pycharm": {
     "name": "#%%\n"
    }
   },
   "outputs": [
    {
     "data": {
      "text/plain": [
       "'\\nDescription: Fetch Job status using Job ID\\n'"
      ]
     },
     "execution_count": 10,
     "metadata": {},
     "output_type": "execute_result"
    }
   ],
   "source": [
    "\"\"\"\n",
    "Description: Fetch Job status using Job ID\n",
    "\"\"\"\n",
    "\n",
    "def monitor_api_progress(new_job_id):\n",
    "    job_status_url = url + \"/job_status_detailed?job_id=\" + new_job_id\n",
    "\n",
    "    # status dictionary\n",
    "    status_dictionary = {\n",
    "        'ModelExploration_Status': 'na',\n",
    "        'SanityCheck_Status': 'na',\n",
    "        'QueryGenerator_Status': 'na',\n",
    "        'VunerabilityEngine_Status': 'na',\n",
    "    }\n",
    "    counts = [0] * len(status_dictionary)\n",
    "    failed_api_hit_count = 0\n",
    "    while True:\n",
    "        try:\n",
    "            job_status_response = requests.request(\"GET\", job_status_url, params={},\n",
    "                                                   headers=headers)\n",
    "\n",
    "            job_status_payload = json.loads(job_status_response.text)\n",
    "            failing_key = 'ModelExploration_Status'\n",
    "            for i, key in enumerate(status_dictionary.keys()):\n",
    "                if status_dictionary[key] == 'na':\n",
    "                    if job_status_payload[key] == 'inprogress' and status_dictionary[key] == 'na':\n",
    "                        status_dictionary[key] = job_status_payload[key]\n",
    "                        print(str(key), \":\", status_dictionary[key])\n",
    "\n",
    "                    elif job_status_payload[key] == 'completed' or job_status_payload[key] == 'passed':\n",
    "                        status_dictionary[key] = job_status_payload[key]\n",
    "                        counts[i] += 1\n",
    "                        print(str(key), \":\", status_dictionary[key])\n",
    "\n",
    "                    if job_status_payload[key] == 'failed':\n",
    "                        failing_key = key\n",
    "                        status_dictionary[key] = job_status_payload[key]\n",
    "                        print(str(key), \":\", status_dictionary[key])\n",
    "\n",
    "                elif job_status_payload[key] == 'completed' or job_status_payload[key] == 'passed':\n",
    "                    status_dictionary[key] = job_status_payload[key]\n",
    "                    if counts[i] < 1:\n",
    "                        print(str(key), \":\", status_dictionary[key])\n",
    "                    counts[i] += 1\n",
    "\n",
    "                else:\n",
    "                    if job_status_payload[key] == 'failed':\n",
    "                        failing_key = key\n",
    "                        status_dictionary[key] = job_status_payload[key]\n",
    "                        print(str(key), \":\", status_dictionary[key])\n",
    "\n",
    "            if job_status_payload[failing_key] == 'failed':\n",
    "                break\n",
    "\n",
    "            if status_dictionary['VunerabilityEngine_Status'] == 'passed' or status_dictionary[\n",
    "                'VunerabilityEngine_Status'] == 'completed' and job_status_payload[\n",
    "                'CurrentStatus'] == \"Defense generation is not triggered\":\n",
    "                print(\"\\n Vulnerability score {} of the asr model with original model accuracy (Average WER) of {} \".format(\n",
    "                    job_status_payload['VulnerabiltyScore'], job_status_payload['OriginalModelAccuracy']))\n",
    "                break\n",
    "\n",
    "        except Exception as e:\n",
    "            failed_api_hit_count += 1\n",
    "            print(\"Error {}. trying {} ...\".format(str(e), failed_api_hit_count))\n",
    "            if failed_api_hit_count >= 3:\n",
    "                break\n",
    "        time.sleep(120)\n",
    "    return status_dictionary\n",
    "\n",
    "status_dictionary = monitor_api_progress(new_job_id=job_id)"
   ]
  },
  {
   "cell_type": "markdown",
   "id": "066faf3e",
   "metadata": {
    "id": "066faf3e",
    "pycharm": {
     "name": "#%% md\n"
    }
   },
   "source": [
    "<img src=\"https://aisdocs.blob.core.windows.net/reference/Workflow Images/aw5.png\"/>"
   ]
  },
  {
   "cell_type": "markdown",
   "id": "0f27f7b1",
   "metadata": {
    "id": "0f27f7b1",
    "pycharm": {
     "name": "#%% md\n"
    }
   },
   "source": [
    "### 3.6 Download Reports and artifacts"
   ]
  },
  {
   "cell_type": "code",
   "execution_count": null,
   "id": "56bd0d06",
   "metadata": {
    "id": "56bd0d06",
    "pycharm": {
     "name": "#%%\n"
    }
   },
   "outputs": [],
   "source": [
    "report_path = \"reports/\""
   ]
  },
  {
   "cell_type": "code",
   "execution_count": null,
   "id": "1f8a5a01",
   "metadata": {
    "id": "1f8a5a01",
    "pycharm": {
     "name": "#%%\n"
    }
   },
   "outputs": [],
   "source": [
    "def download_artifact(job_id, report_path, report_type='Vulnerability', file_format=0):\n",
    "    \"\"\"\n",
    "    job_id: job_id  received after successful api call\n",
    "    report_type: report to be downloaded\n",
    "    file_format: change file_format to : 0- all report in zip\n",
    "                        1- report in .txt\n",
    "                        2- report in .pdf\n",
    "                        3- report in .json\n",
    "                        4- report in .xml\n",
    "    \"\"\"\n",
    "    print(\"received report_type : {} and file format is: {}\".format(report_type, file_format))\n",
    "    report_url = url + \"/\" + \"get_report?job_id=\" + str(\n",
    "        job_id) + \"&report_type=\" + report_type + \"&file_format=\" + str(file_format)\n",
    "\n",
    "    headers1 = headers\n",
    "    headers1[\"content-type\"] = \"application/zip\"\n",
    "\n",
    "    response = requests.request(\"GET\", report_url, params={}, headers=headers1)\n",
    "\n",
    "    file_path = None\n",
    "    if file_format == 0 or file_format == \"Attack_samples\":\n",
    "        file_path=os.path.join(report_path, report_type + \".zip\")\n",
    "        with open(file_path, 'wb') as f:\n",
    "            f.write(response.content)\n",
    "\n",
    "    elif file_format == 1:\n",
    "        file_path=os.path.join(report_path, report_type + \".txt\")\n",
    "        with open(file_path, 'wb') as f:\n",
    "            f.write(response.content)\n",
    "\n",
    "    elif file_format == 2:\n",
    "        file_path=os.path.join(report_path, report_type + \".pdf\")\n",
    "        with open(file_path, 'wb') as f:\n",
    "            f.write(response.content)\n",
    "\n",
    "    elif file_format == 3:\n",
    "        file_path=os.path.join(report_path, report_type + \".json\")\n",
    "        with open(file_path, 'wb') as f:\n",
    "            f.write(response.content)\n",
    "\n",
    "    elif file_format == 4:\n",
    "        file_path=os.path.join(report_path, report_type + \".xml\")\n",
    "        with open(file_path, 'wb') as f:\n",
    "            f.write(response.content)\n",
    "\n",
    "    return file_path"
   ]
  },
  {
   "cell_type": "code",
   "execution_count": null,
   "id": "ce56da2b",
   "metadata": {
    "colab": {
     "base_uri": "https://localhost:8080/"
    },
    "execution": {
     "iopub.execute_input": "2023-06-05T18:33:26.623599Z",
     "iopub.status.busy": "2023-06-05T18:33:26.622603Z",
     "iopub.status.idle": "2023-06-05T18:33:29.924086Z",
     "shell.execute_reply": "2023-06-05T18:33:29.922601Z"
    },
    "hide_code": false,
    "id": "ce56da2b",
    "outputId": "f94d489e-dfcb-404d-a69f-be6f6bde2bbf",
    "pycharm": {
     "name": "#%%\n"
    }
   },
   "outputs": [
    {
     "name": "stdout",
     "output_type": "stream",
     "text": [
      "received report_type : Vulnerability and file format is: 2\n"
     ]
    }
   ],
   "source": [
    "\"\"\"\n",
    "Description: Download the Defense Reports\n",
    "\"\"\"\n",
    "vul_report = download_artifact(job_id=job_id, report_path= report_path, report_type='Vulnerability', file_format=2)"
   ]
  },
  {
   "cell_type": "code",
   "execution_count": null,
   "id": "77c57373",
   "metadata": {
    "colab": {
     "base_uri": "https://localhost:8080/"
    },
    "execution": {
     "iopub.execute_input": "2023-06-05T18:33:31.607651Z",
     "iopub.status.busy": "2023-06-05T18:33:31.607651Z",
     "iopub.status.idle": "2023-06-05T18:33:32.603112Z",
     "shell.execute_reply": "2023-06-05T18:33:32.600361Z"
    },
    "hide_code": false,
    "id": "77c57373",
    "outputId": "4710655b-341d-4689-a007-40e22d5d1112",
    "pycharm": {
     "name": "#%%\n"
    }
   },
   "outputs": [
    {
     "name": "stdout",
     "output_type": "stream",
     "text": [
      "received report_type : Attack_samples and file format is: 0\n"
     ]
    }
   ],
   "source": [
    "\"\"\"\n",
    "Description: Download the Attack Samples\n",
    "\"\"\"\n",
    "\n",
    "attack_report = download_artifact(job_id=job_id, report_path= report_path, report_type='Attack_samples', file_format=0)"
   ]
  },
  {
   "cell_type": "code",
   "execution_count": null,
   "id": "Odv5kzeYFTOZ",
   "metadata": {
    "execution": {
     "iopub.execute_input": "2023-06-05T18:33:32.606419Z",
     "iopub.status.busy": "2023-06-05T18:33:32.606419Z",
     "iopub.status.idle": "2023-06-05T18:33:32.645220Z",
     "shell.execute_reply": "2023-06-05T18:33:32.644077Z"
    },
    "hide_code": false,
    "id": "Odv5kzeYFTOZ",
    "pycharm": {
     "name": "#%%\n"
    }
   },
   "outputs": [],
   "source": [
    "\n",
    "def get_file_id(report_path):\n",
    "\n",
    "    file_id = None\n",
    "    !pip install --upgrade google-api-python-client google-auth-httplib2 google-auth-oauthlib\n",
    "\n",
    "    import os\n",
    "    from googleapiclient.discovery import build\n",
    "    from googleapiclient.http import MediaFileUpload\n",
    "\n",
    "    # Authenticate and authorize access to the Google Drive API\n",
    "    from google.colab import auth\n",
    "    auth.authenticate_user()\n",
    "\n",
    "    # Build the Drive API service\n",
    "    drive_service = build('drive', 'v3')\n",
    "\n",
    "    # Upload the PDF file to Google Drive\n",
    "    pdf_file_name = os.path.basename(report_path)\n",
    "    file_metadata = {'name': pdf_file_name}\n",
    "    media = MediaFileUpload(report_path, mimetype='application/pdf')\n",
    "    file = drive_service.files().create(body=file_metadata, media_body=media, fields='id').execute()\n",
    "\n",
    "    # Set sharing permissions to \"Anyone with the link\"\n",
    "    file_id = file.get('id')\n",
    "    drive_service.permissions().create(\n",
    "        fileId=file_id,\n",
    "        body={'role': 'reader', 'type': 'anyone'}\n",
    "    ).execute()\n",
    "\n",
    "    return file_id"
   ]
  },
  {
   "cell_type": "code",
   "execution_count": 11,
   "id": "6f2c29ad",
   "metadata": {
    "colab": {
     "base_uri": "https://localhost:8080/",
     "height": 1000
    },
    "hide_code": false,
    "id": "6f2c29ad",
    "outputId": "22115b3f-3fa6-44ee-c0af-e647e9587ccf",
    "pycharm": {
     "name": "#%%\n"
    }
   },
   "outputs": [
    {
     "data": {
      "text/plain": [
       "'\\nDescription: Displaying the current Vulnerability Assement report\\n'"
      ]
     },
     "execution_count": 11,
     "metadata": {},
     "output_type": "execute_result"
    }
   ],
   "source": [
    "\"\"\"\n",
    "Description: Displaying the current Vulnerability Assement report\n",
    "\"\"\"\n",
    "\n",
    "if (\"colab\" in runtime_environment.lower()):\n",
    "    file_id = get_file_id(report_path = vul_report)\n",
    "    display_pdf(output_filename = \"vul_\"+job_id[-10:],runtime_environment=runtime_environment,file_id=file_id)\n",
    "else:\n",
    "    display_pdf(output_filename = \"vul_\"+job_id[-10:],runtime_environment=runtime_environment, pdf_path =os.path.join(report_path, os.path.basename(vul_report)))"
   ]
  },
  {
   "cell_type": "markdown",
   "id": "d3b6693e",
   "metadata": {
    "id": "d3b6693e",
    "pycharm": {
     "name": "#%% md\n"
    }
   },
   "source": [
    "<img src=\"https://aisdocs.blob.core.windows.net/reference/Workflow Images/aw6.png\"/>"
   ]
  },
  {
   "cell_type": "markdown",
   "id": "c450fbca",
   "metadata": {
    "id": "c450fbca",
    "pycharm": {
     "name": "#%% md\n"
    }
   },
   "source": [
    "### After conducting a Vulnerability Analysis by AIshield, if a defense recommendation is identified, then following actions can be taken:\n",
    "\n",
    "1. **Model Retraining:** It is advised to retrain the original model to enhance its robustness. By revisiting the training process and incorporating the insights gained from the vulnerability analysis, the model can be improved to better handle potential threats and mitigate vulnerabilities.\n",
    "\n",
    "\n",
    "2. **Deploying Threat-Informed Defense Model:** In addition to the original model, AIshield provides a specialized defense model that is specifically designed to address the identified threats. This threat-informed defense model can be deployed alongside the original model to provide an additional layer of protection and enhance the overall security posture. By leveraging the insights gained from the vulnerability analysis, the defense model offers targeted defenses against potential threats."
   ]
  },
  {
   "cell_type": "code",
   "execution_count": null,
   "id": "588b21f8",
   "metadata": {
    "id": "588b21f8",
    "pycharm": {
     "name": "#%%\n"
    }
   },
   "outputs": [],
   "source": []
  }
 ],
 "metadata": {
  "accelerator": "GPU",
  "codeState": [
   "",
   "",
   "",
   "none",
   "none",
   "none",
   "none",
   "none",
   "none",
   "none",
   "",
   "none",
   "none",
   "",
   "",
   "",
   "",
   "",
   "none",
   "",
   "",
   "none",
   "",
   "",
   "",
   "",
   "",
   "",
   "",
   "",
   "",
   "",
   "",
   "",
   "none",
   "",
   ""
  ],
  "colab": {
   "gpuType": "T4",
   "provenance": []
  },
  "custom_metadata": {
   "show_hide_code": true
  },
  "kernelspec": {
   "display_name": "Python 3 (ipykernel)",
   "language": "python",
   "name": "python3"
  },
  "language_info": {
   "codemirror_mode": {
    "name": "ipython",
    "version": 3
   },
   "file_extension": ".py",
   "mimetype": "text/x-python",
   "name": "python",
   "nbconvert_exporter": "python",
   "pygments_lexer": "ipython3",
   "version": "3.8.18"
  }
 },
 "nbformat": 4,
 "nbformat_minor": 5
}
