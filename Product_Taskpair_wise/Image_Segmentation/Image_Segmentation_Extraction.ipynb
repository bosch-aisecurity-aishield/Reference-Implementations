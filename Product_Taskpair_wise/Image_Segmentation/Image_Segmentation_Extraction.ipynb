{
 "cells": [
  {
   "cell_type": "markdown",
   "id": "64ce47d1",
   "metadata": {
    "id": "64ce47d1",
    "pycharm": {
     "name": "#%% md\n"
    }
   },
   "source": [
    "# Welcome to the AIShield Integration Notebook!\n",
    "\n",
    "**We are delighted to have you here!**\n",
    "\n",
    "## What to Expect !!\n",
    "This notebook serves as a comprehensive demonstration of the seamless integration capabilities of AIShield. As a powerful tool for securing your AI/ML assets against adversarial threats, AIShield ensures the integrity and robustness of your models, preventing financial loss, protecting brand reputation, and mitigating the risk of intellectual property theft.\n",
    "\n",
    "## What to Do !!\n",
    "- **Explore the notebook** at your own pace to gain deep insights into the functionalities and features offered by AIShield.\n",
    "- **Run the first code cell/block**, which includes **Support functionalities** crucial for the smooth execution of the notebook. This setup will enhance your experience and enable the seamless integration of AIShield.\n",
    "- Even without running the entire notebook, you can get a glimpse of AIShield's capabilities and its approach to vulnerability assessments through sample scenarios.\n",
    "- **Run the code cells** to witness firsthand how AIShield seamlessly integrates with your existing codebase, empowering you to protect your AI models against adversarial attacks.\n",
    "- **Experiment and adapt the code** to suit your specific use cases, leveraging the flexibility and customization options provided by AIShield.\n",
    "- Should you have any questions or require assistance, our dedicated [AIShield.Contact@bosch.com](mailto:AIShield.Contact@bosch.com) is just a click away.\n",
    "\n",
    "## What You'll Get !!\n",
    "Throughout this notebook, you'll find:\n",
    "- Code snippets demonstrating step-by-step procedures for incorporating AIShield into your existing workflows, ensuring comprehensive protection against adversarial threats.\n",
    "- Detailed guidance on the integration process, including any additional inputs required for thorough vulnerability analysis.\n",
    "- A comprehensive threat-informed defense model, empowering you to understand the vulnerabilities in your AI models and undertake appropriate remediation measures.\n",
    "- Report artifacts and a sample attack dataset, providing valuable insights into potential attack scenarios and assisting in devising robust defense strategies.\n",
    "- In-depth explanations of defense remediation techniques, equipping you with the knowledge and tools to safeguard your AI assets effectively.\n",
    "\n",
    "## <span style=\"color:teal\">AIShield Website and LinkedIn</span>\n",
    "To learn more about AIShield and its cutting-edge features, visit the official [AIShield website](https://www.boschaishield.com/). Connect with AIShield on [LinkedIn](https://www.linkedin.com/company/bosch-aishield/about/) to stay updated on the latest advancements in AI security.\n",
    "\n",
    "We hope this notebook empowers you to seamlessly integrate AIShield into your projects, ensuring the utmost protection for your AI/ML assets. If you have any questions or need further assistance, please don't hesitate to reach out. **Happy exploring!**\n"
   ]
  },
  {
   "cell_type": "markdown",
   "id": "b58541b2",
   "metadata": {
    "id": "b58541b2",
    "pycharm": {
     "name": "#%% md\n"
    }
   },
   "source": [
    "<a target=\"_blank\" href=\"https://colab.research.google.com/github/bosch-aisecurity-aishield/Reference-Implementations/blob/main/Product_Taskpair_wise/Image_Segmentation/Image_Segmentation_Extraction.ipynb\">\n",
    "  <img src=\"https://colab.research.google.com/assets/colab-badge.svg\" alt=\"Open In Colab\"/>\n",
    "</a>\n"
   ]
  },
  {
   "cell_type": "markdown",
   "id": "5e5cabeb",
   "metadata": {
    "id": "5e5cabeb",
    "pycharm": {
     "name": "#%% md\n"
    }
   },
   "source": [
    "## 1.0 Support Functionalities:"
   ]
  },
  {
   "cell_type": "code",
   "execution_count": 1,
   "id": "a73fea6c",
   "metadata": {
    "id": "a73fea6c",
    "pycharm": {
     "name": "#%%\n"
    }
   },
   "outputs": [],
   "source": [
    "\"\"\"\n",
    "Description : Use PyPi or AIShield API for Vulnerability Analysis\n",
    "              if PyPi = True (this notebook will use aishield pypi package for vulnerability analysis)\n",
    "              else = False (this notebook will use aishield api for vulnerability analysis)\n",
    "\"\"\"\n",
    "pypi = True"
   ]
  },
  {
   "cell_type": "code",
   "execution_count": 2,
   "id": "95fb5754",
   "metadata": {
    "colab": {
     "base_uri": "https://localhost:8080/",
     "height": 17
    },
    "id": "95fb5754",
    "outputId": "0a7b3284-0b3e-4902-d27c-8f896116e505",
    "pycharm": {
     "name": "#%%\n"
    }
   },
   "outputs": [
    {
     "data": {
      "text/html": [
       "\n",
       "        <style>\n",
       "        .scrollable-code-input {\n",
       "            max-height: 500px;\n",
       "            overflow-y: scroll;\n",
       "        }\n",
       "        </style>\n",
       "        <script>\n",
       "        var codeInputCells = document.querySelectorAll('div.code_cell .input');\n",
       "        codeInputCells.forEach(function(cell) {\n",
       "            cell.classList.add('scrollable-code-input');\n",
       "        });\n",
       "        </script>\n",
       "    "
      ],
      "text/plain": [
       "<IPython.core.display.HTML object>"
      ]
     },
     "metadata": {},
     "output_type": "display_data"
    }
   ],
   "source": [
    "def make_code_input_scrollable():\n",
    "    \"\"\"Description : To make the input code cell scrollable for jupyternotebook\"\"\"\n",
    "    from IPython.display import display, HTML\n",
    "    display(HTML('''\n",
    "        <style>\n",
    "        .scrollable-code-input {\n",
    "            max-height: 500px;\n",
    "            overflow-y: scroll;\n",
    "        }\n",
    "        </style>\n",
    "        <script>\n",
    "        var codeInputCells = document.querySelectorAll('div.code_cell .input');\n",
    "        codeInputCells.forEach(function(cell) {\n",
    "            cell.classList.add('scrollable-code-input');\n",
    "        });\n",
    "        </script>\n",
    "    '''))\n",
    "\n",
    "make_code_input_scrollable()\n",
    "\n",
    "def display_pdf(runtime_environment,output_filename, pdf_path=None, file_id=None):\n",
    "\n",
    "    \"\"\"Descrption : To embeded pdf file in the ntoebook\"\"\"\n",
    "\n",
    "    from IPython.display import display, HTML\n",
    "    import os\n",
    "    output_file = output_filename+'.html'\n",
    "\n",
    "    # Check if the output file exists\n",
    "    if os.path.exists(output_file):\n",
    "        with open(output_file, 'r') as f:\n",
    "            saved_output = f.read()\n",
    "            display(HTML(saved_output))\n",
    "    else:\n",
    "        if 'colab' in runtime_environment.lower():\n",
    "            # Generate the Google Drive Viewer URL\n",
    "            if file_id is None:\n",
    "                print(pdf_path)\n",
    "                # Generate the Google Drive Viewer URL\n",
    "                drive_viewer_url = f'https://drive.google.com/viewerng/viewer?embedded=true&url={pdf_path}'\n",
    "                html_code = f'<iframe src=\"{drive_viewer_url}\" width=\"100%\" height=\"600px\"></iframe>'\n",
    "            else:\n",
    "                viewer_url = f\"https://drive.google.com/file/d/{file_id}/preview\"\n",
    "                html_code = f'<iframe src=\"{viewer_url}\" width=\"100%\" height=\"600px\"></iframe>'\n",
    "        else:\n",
    "            html_code = f'<embed src=\"{pdf_path}\" width=\"100%\" height=\"600px\" type=\"application/pdf\">'\n",
    "        # Save the output to a file\n",
    "        with open(output_file, 'w') as f:\n",
    "            f.write(html_code)\n",
    "\n",
    "        # Display the output\n",
    "        display(HTML(html_code))\n",
    "\n",
    "\n",
    "def check_runtime_environment():\n",
    "    \"\"\"\n",
    "    Description : Check notebook is running on colab or jupyter-notebook\n",
    "    \"\"\"\n",
    "    import os\n",
    "    colab = False\n",
    "    if 'google.colab' in str(get_ipython()):\n",
    "        colab = True\n",
    "        return 'Colab' , colab\n",
    "    else:\n",
    "        return 'Jupyter Notebook' , colab\n",
    "\n",
    "# Check the runtime environment\n",
    "runtime_environment,colab_running  = check_runtime_environment()\n",
    "\n",
    "# print(\"Notebook is running in\", runtime_environment)"
   ]
  },
  {
   "cell_type": "markdown",
   "id": "452a83b9",
   "metadata": {
    "id": "452a83b9",
    "pycharm": {
     "name": "#%% md\n"
    }
   },
   "source": [
    "    "
   ]
  },
  {
   "cell_type": "markdown",
   "id": "bfb01f37",
   "metadata": {
    "id": "bfb01f37",
    "pycharm": {
     "name": "#%% md\n"
    }
   },
   "source": [
    "   "
   ]
  },
  {
   "cell_type": "markdown",
   "id": "e137bb2f",
   "metadata": {
    "id": "e137bb2f",
    "pycharm": {
     "name": "#%% md\n"
    }
   },
   "source": [
    "\n",
    "<img src=\"https://aisdocs.blob.core.windows.net/reference/Workflow Images/wk1.png\"/>"
   ]
  },
  {
   "cell_type": "markdown",
   "id": "1bcb6716",
   "metadata": {
    "id": "1bcb6716",
    "pycharm": {
     "name": "#%% md\n"
    }
   },
   "source": [
    "   "
   ]
  },
  {
   "cell_type": "markdown",
   "id": "09aafb23",
   "metadata": {
    "id": "09aafb23",
    "pycharm": {
     "name": "#%% md\n"
    }
   },
   "source": [
    "  "
   ]
  },
  {
   "cell_type": "markdown",
   "id": "eb1f2642",
   "metadata": {
    "id": "eb1f2642",
    "pycharm": {
     "name": "#%% md\n"
    }
   },
   "source": [
    "## 2.0 Below code cell/block performs Step 1 to 4 with following these sequential steps :\n",
    "**STEP 1 : Installing libraries:** The required libraries will be installed to provide necessary functionalities for the task at hand.\n",
    "\n",
    "**STEP 2 : Loading the dataset:**\n",
    "**First Download the pedestrian data from  http://www.gavrila.net/data/Daimler/bmvc13-flohr-gavrila/PedCut2013_SegmentationDataset.tar.gz and extract it to current working directory with name \"pedcut_2013\"**\n",
    "\n",
    "The dataset containing the relevant information will be loaded into the program, allowing access to the data for analysis and modeling.\n",
    "\n",
    "**STEP 3 : Model development and training:** A sophisticated model will be developed to analyze and interpret the dataset. The model will then be trained using appropriate techniques to optimize its performance.\n",
    "\n",
    "**STEP 4 : Preparing the Data, Model, and Label:** Prior to further analysis, essential steps such as data preprocessing, model configuration, and label preparation will be carried out. This will ensure that the data, model, and labels are properly structured and ready for subsequent stages needed for aishield.\n",
    "\n"
   ]
  },
  {
   "cell_type": "markdown",
   "id": "3aaa7b18-e0fb-4569-bfaa-17bd9ff196b2",
   "metadata": {},
   "source": [
    "### Before running the notebook, please ensure the following:\n",
    "\n",
    "- **`run_code`:  by default value is set to False**\n",
    "    - Set to **`True`** to initiate original model training.\n",
    "    - Set to **`False`** to download the pre-trained model from the Hugging Face repository **[Hugging Face](https://huggingface.co/Pankaj001)**.\n",
    "\n",
    "\n",
    "- **`install`: by default value is set to True**\n",
    "   - Set to **`True`** to automatically download and install all necessary libraries before notebook execution.\n",
    "   - Set to **`False`** to proceed with library imports only."
   ]
  },
  {
   "cell_type": "code",
   "execution_count": null,
   "id": "a2bc7fd3-44b9-4d5a-a404-2d132066f5f4",
   "metadata": {},
   "outputs": [],
   "source": [
    "\"\"\"\n",
    "Description: \n",
    "    run_code : True / False \n",
    "              if run_code is True , Original Model Training will be taken place\n",
    "                run_code is False , Pretrained Model will be downloaded from the hugging face [ https://huggingface.co/Pankaj001 ]\n",
    "\n",
    "    install : True / False \n",
    "            if install True , all the libraries needed to run the notebook will download first and then will import\n",
    "               install False, only import of the library will takes place\n",
    "\"\"\"\n",
    "\n",
    "run_code = False #True if training of model will take place, False if downloading of pretrained model,dataset and minmax file will take place\n",
    "install = True #to install the prerequisite libraries or not"
   ]
  },
  {
   "cell_type": "markdown",
   "id": "db88e0d8-638b-44d3-b7a2-92d7224f1ce3",
   "metadata": {},
   "source": [
    "- **`img_row`**, **`img_col`**, **`channel`**: Dimensions of the input images.\n",
    "- **`num_classes`**: Number of classes for classification tasks.\n",
    "- **`epochs`**: Number of training epochs.\n",
    "- **`batch_size`**: Batch size for training.\n",
    "- **`input_shape`**: Shape of the input data.\n",
    "- **`model_encryption`**: Indicator for the model encryption status.\n",
    "- **`Normalized`**: Status of data normalization.\n",
    "\n",
    "\n",
    "#### These values are pre-configured for seamless execution in the notebook. Adjustments can be made as per your specific dataset and requirements.\n"
   ]
  },
  {
   "cell_type": "code",
   "execution_count": null,
   "id": "75b1807a",
   "metadata": {
    "colab": {
     "base_uri": "https://localhost:8080/"
    },
    "execution": {
     "iopub.execute_input": "2023-06-05T18:27:59.754298Z",
     "iopub.status.busy": "2023-06-05T18:27:59.754298Z",
     "iopub.status.idle": "2023-06-05T18:28:23.490327Z",
     "shell.execute_reply": "2023-06-05T18:28:23.488117Z"
    },
    "hide_code": false,
    "id": "75b1807a",
    "outputId": "d5a803ac-4354-4c02-bd20-9fcd725de2ce",
    "pycharm": {
     "name": "#%%\n"
    }
   },
   "outputs": [
    {
     "name": "stdout",
     "output_type": "stream",
     "text": [
      "Started of installing all the prerequisites packages\n",
      "Requirement already satisfied: numpy==1.22 in /usr/local/lib/python3.10/dist-packages (1.22.0)\n",
      "Requirement already satisfied: matplotlib==3.3.4 in /usr/local/lib/python3.10/dist-packages (3.3.4)\n",
      "Requirement already satisfied: cycler>=0.10 in /usr/local/lib/python3.10/dist-packages (from matplotlib==3.3.4) (0.11.0)\n",
      "Requirement already satisfied: kiwisolver>=1.0.1 in /usr/local/lib/python3.10/dist-packages (from matplotlib==3.3.4) (1.4.4)\n",
      "Requirement already satisfied: numpy>=1.15 in /usr/local/lib/python3.10/dist-packages (from matplotlib==3.3.4) (1.22.0)\n",
      "Requirement already satisfied: pillow>=6.2.0 in /usr/local/lib/python3.10/dist-packages (from matplotlib==3.3.4) (8.4.0)\n",
      "Requirement already satisfied: pyparsing!=2.0.4,!=2.1.2,!=2.1.6,>=2.0.3 in /usr/local/lib/python3.10/dist-packages (from matplotlib==3.3.4) (3.1.0)\n",
      "Requirement already satisfied: python-dateutil>=2.1 in /usr/local/lib/python3.10/dist-packages (from matplotlib==3.3.4) (2.8.2)\n",
      "Requirement already satisfied: six>=1.5 in /usr/local/lib/python3.10/dist-packages (from python-dateutil>=2.1->matplotlib==3.3.4) (1.16.0)\n",
      "Requirement already satisfied: tensorflow==2.9.1 in /usr/local/lib/python3.10/dist-packages (2.9.1)\n",
      "Requirement already satisfied: absl-py>=1.0.0 in /usr/local/lib/python3.10/dist-packages (from tensorflow==2.9.1) (1.4.0)\n",
      "Requirement already satisfied: astunparse>=1.6.0 in /usr/local/lib/python3.10/dist-packages (from tensorflow==2.9.1) (1.6.3)\n",
      "Requirement already satisfied: flatbuffers<2,>=1.12 in /usr/local/lib/python3.10/dist-packages (from tensorflow==2.9.1) (1.12)\n",
      "Requirement already satisfied: gast<=0.4.0,>=0.2.1 in /usr/local/lib/python3.10/dist-packages (from tensorflow==2.9.1) (0.4.0)\n",
      "Requirement already satisfied: google-pasta>=0.1.1 in /usr/local/lib/python3.10/dist-packages (from tensorflow==2.9.1) (0.2.0)\n",
      "Requirement already satisfied: grpcio<2.0,>=1.24.3 in /usr/local/lib/python3.10/dist-packages (from tensorflow==2.9.1) (1.56.0)\n",
      "Requirement already satisfied: h5py>=2.9.0 in /usr/local/lib/python3.10/dist-packages (from tensorflow==2.9.1) (3.8.0)\n",
      "Requirement already satisfied: keras<2.10.0,>=2.9.0rc0 in /usr/local/lib/python3.10/dist-packages (from tensorflow==2.9.1) (2.9.0)\n",
      "Requirement already satisfied: keras-preprocessing>=1.1.1 in /usr/local/lib/python3.10/dist-packages (from tensorflow==2.9.1) (1.1.2)\n",
      "Requirement already satisfied: libclang>=13.0.0 in /usr/local/lib/python3.10/dist-packages (from tensorflow==2.9.1) (16.0.0)\n",
      "Requirement already satisfied: numpy>=1.20 in /usr/local/lib/python3.10/dist-packages (from tensorflow==2.9.1) (1.22.0)\n",
      "Requirement already satisfied: opt-einsum>=2.3.2 in /usr/local/lib/python3.10/dist-packages (from tensorflow==2.9.1) (3.3.0)\n",
      "Requirement already satisfied: packaging in /usr/local/lib/python3.10/dist-packages (from tensorflow==2.9.1) (23.1)\n",
      "Requirement already satisfied: protobuf<3.20,>=3.9.2 in /usr/local/lib/python3.10/dist-packages (from tensorflow==2.9.1) (3.19.6)\n",
      "Requirement already satisfied: setuptools in /usr/local/lib/python3.10/dist-packages (from tensorflow==2.9.1) (67.7.2)\n",
      "Requirement already satisfied: six>=1.12.0 in /usr/local/lib/python3.10/dist-packages (from tensorflow==2.9.1) (1.16.0)\n",
      "Requirement already satisfied: tensorboard<2.10,>=2.9 in /usr/local/lib/python3.10/dist-packages (from tensorflow==2.9.1) (2.9.1)\n",
      "Requirement already satisfied: tensorflow-io-gcs-filesystem>=0.23.1 in /usr/local/lib/python3.10/dist-packages (from tensorflow==2.9.1) (0.32.0)\n",
      "Requirement already satisfied: tensorflow-estimator<2.10.0,>=2.9.0rc0 in /usr/local/lib/python3.10/dist-packages (from tensorflow==2.9.1) (2.9.0)\n",
      "Requirement already satisfied: termcolor>=1.1.0 in /usr/local/lib/python3.10/dist-packages (from tensorflow==2.9.1) (2.3.0)\n",
      "Requirement already satisfied: typing-extensions>=3.6.6 in /usr/local/lib/python3.10/dist-packages (from tensorflow==2.9.1) (4.7.1)\n",
      "Requirement already satisfied: wrapt>=1.11.0 in /usr/local/lib/python3.10/dist-packages (from tensorflow==2.9.1) (1.14.1)\n",
      "Requirement already satisfied: wheel<1.0,>=0.23.0 in /usr/local/lib/python3.10/dist-packages (from astunparse>=1.6.0->tensorflow==2.9.1) (0.40.0)\n",
      "Requirement already satisfied: google-auth<3,>=1.6.3 in /usr/local/lib/python3.10/dist-packages (from tensorboard<2.10,>=2.9->tensorflow==2.9.1) (2.17.3)\n",
      "Requirement already satisfied: google-auth-oauthlib<0.5,>=0.4.1 in /usr/local/lib/python3.10/dist-packages (from tensorboard<2.10,>=2.9->tensorflow==2.9.1) (0.4.6)\n",
      "Requirement already satisfied: markdown>=2.6.8 in /usr/local/lib/python3.10/dist-packages (from tensorboard<2.10,>=2.9->tensorflow==2.9.1) (3.4.3)\n",
      "Requirement already satisfied: requests<3,>=2.21.0 in /usr/local/lib/python3.10/dist-packages (from tensorboard<2.10,>=2.9->tensorflow==2.9.1) (2.28.0)\n",
      "Requirement already satisfied: tensorboard-data-server<0.7.0,>=0.6.0 in /usr/local/lib/python3.10/dist-packages (from tensorboard<2.10,>=2.9->tensorflow==2.9.1) (0.6.1)\n",
      "Requirement already satisfied: tensorboard-plugin-wit>=1.6.0 in /usr/local/lib/python3.10/dist-packages (from tensorboard<2.10,>=2.9->tensorflow==2.9.1) (1.8.1)\n",
      "Requirement already satisfied: werkzeug>=1.0.1 in /usr/local/lib/python3.10/dist-packages (from tensorboard<2.10,>=2.9->tensorflow==2.9.1) (2.3.6)\n",
      "Requirement already satisfied: cachetools<6.0,>=2.0.0 in /usr/local/lib/python3.10/dist-packages (from google-auth<3,>=1.6.3->tensorboard<2.10,>=2.9->tensorflow==2.9.1) (5.3.1)\n",
      "Requirement already satisfied: pyasn1-modules>=0.2.1 in /usr/local/lib/python3.10/dist-packages (from google-auth<3,>=1.6.3->tensorboard<2.10,>=2.9->tensorflow==2.9.1) (0.3.0)\n",
      "Requirement already satisfied: rsa<5,>=3.1.4 in /usr/local/lib/python3.10/dist-packages (from google-auth<3,>=1.6.3->tensorboard<2.10,>=2.9->tensorflow==2.9.1) (4.9)\n",
      "Requirement already satisfied: requests-oauthlib>=0.7.0 in /usr/local/lib/python3.10/dist-packages (from google-auth-oauthlib<0.5,>=0.4.1->tensorboard<2.10,>=2.9->tensorflow==2.9.1) (1.3.1)\n",
      "Requirement already satisfied: charset-normalizer~=2.0.0 in /usr/local/lib/python3.10/dist-packages (from requests<3,>=2.21.0->tensorboard<2.10,>=2.9->tensorflow==2.9.1) (2.0.12)\n",
      "Requirement already satisfied: idna<4,>=2.5 in /usr/local/lib/python3.10/dist-packages (from requests<3,>=2.21.0->tensorboard<2.10,>=2.9->tensorflow==2.9.1) (3.4)\n",
      "Requirement already satisfied: urllib3<1.27,>=1.21.1 in /usr/local/lib/python3.10/dist-packages (from requests<3,>=2.21.0->tensorboard<2.10,>=2.9->tensorflow==2.9.1) (1.26.16)\n",
      "Requirement already satisfied: certifi>=2017.4.17 in /usr/local/lib/python3.10/dist-packages (from requests<3,>=2.21.0->tensorboard<2.10,>=2.9->tensorflow==2.9.1) (2023.5.7)\n",
      "Requirement already satisfied: MarkupSafe>=2.1.1 in /usr/local/lib/python3.10/dist-packages (from werkzeug>=1.0.1->tensorboard<2.10,>=2.9->tensorflow==2.9.1) (2.1.3)\n",
      "Requirement already satisfied: pyasn1<0.6.0,>=0.4.6 in /usr/local/lib/python3.10/dist-packages (from pyasn1-modules>=0.2.1->google-auth<3,>=1.6.3->tensorboard<2.10,>=2.9->tensorflow==2.9.1) (0.5.0)\n",
      "Requirement already satisfied: oauthlib>=3.0.0 in /usr/local/lib/python3.10/dist-packages (from requests-oauthlib>=0.7.0->google-auth-oauthlib<0.5,>=0.4.1->tensorboard<2.10,>=2.9->tensorflow==2.9.1) (3.2.2)\n",
      "Requirement already satisfied: scikit-learn==1.0.2 in /usr/local/lib/python3.10/dist-packages (1.0.2)\n",
      "Requirement already satisfied: numpy>=1.14.6 in /usr/local/lib/python3.10/dist-packages (from scikit-learn==1.0.2) (1.22.0)\n",
      "Requirement already satisfied: scipy>=1.1.0 in /usr/local/lib/python3.10/dist-packages (from scikit-learn==1.0.2) (1.10.1)\n",
      "Requirement already satisfied: joblib>=0.11 in /usr/local/lib/python3.10/dist-packages (from scikit-learn==1.0.2) (1.3.1)\n",
      "Requirement already satisfied: threadpoolctl>=2.0.0 in /usr/local/lib/python3.10/dist-packages (from scikit-learn==1.0.2) (3.1.0)\n",
      "Requirement already satisfied: humanfriendly==9.2 in /usr/local/lib/python3.10/dist-packages (9.2)\n",
      "Requirement already satisfied: tqdm==4.61.1 in /usr/local/lib/python3.10/dist-packages (4.61.1)\n",
      "Requirement already satisfied: requests==2.28.0 in /usr/local/lib/python3.10/dist-packages (2.28.0)\n",
      "Requirement already satisfied: charset-normalizer~=2.0.0 in /usr/local/lib/python3.10/dist-packages (from requests==2.28.0) (2.0.12)\n",
      "Requirement already satisfied: idna<4,>=2.5 in /usr/local/lib/python3.10/dist-packages (from requests==2.28.0) (3.4)\n",
      "Requirement already satisfied: urllib3<1.27,>=1.21.1 in /usr/local/lib/python3.10/dist-packages (from requests==2.28.0) (1.26.16)\n",
      "Requirement already satisfied: certifi>=2017.4.17 in /usr/local/lib/python3.10/dist-packages (from requests==2.28.0) (2023.5.7)\n",
      "Requirement already satisfied: opencv-python in /usr/local/lib/python3.10/dist-packages (4.7.0.72)\n",
      "Requirement already satisfied: numpy>=1.21.2 in /usr/local/lib/python3.10/dist-packages (from opencv-python) (1.22.0)\n",
      "Starting installing aishield library\n",
      "Requirement already satisfied: aishield in /usr/local/lib/python3.10/dist-packages (0.1.5)\n",
      "Requirement already satisfied: requests in /usr/local/lib/python3.10/dist-packages (from aishield) (2.28.0)\n",
      "Requirement already satisfied: charset-normalizer~=2.0.0 in /usr/local/lib/python3.10/dist-packages (from requests->aishield) (2.0.12)\n",
      "Requirement already satisfied: idna<4,>=2.5 in /usr/local/lib/python3.10/dist-packages (from requests->aishield) (3.4)\n",
      "Requirement already satisfied: urllib3<1.27,>=1.21.1 in /usr/local/lib/python3.10/dist-packages (from requests->aishield) (1.26.16)\n",
      "Requirement already satisfied: certifi>=2017.4.17 in /usr/local/lib/python3.10/dist-packages (from requests->aishield) (2023.5.7)\n"
     ]
    },
    {
     "name": "stderr",
     "output_type": "stream",
     "text": [
      "Loading the Dataset:   0%|          | 0/4 [00:00<?, ?it/s]"
     ]
    },
    {
     "name": "stdout",
     "output_type": "stream",
     "text": [
      "Installed all the prerequisites packages\n",
      "Removed: /content/dataset_folder\n",
      "directory /content/dataset_folder created successfully\n"
     ]
    },
    {
     "name": "stderr",
     "output_type": "stream",
     "text": [
      "\n",
      "0it [00:00, ?it/s]\u001b[A\n",
      "123it [00:00, 1229.10it/s]\u001b[A\n",
      "246it [00:00, 1177.69it/s]\u001b[A\n",
      "381it [00:00, 1254.06it/s]\u001b[A\n",
      "507it [00:00, 1226.36it/s]\u001b[A\n",
      "630it [00:00, 976.57it/s] \u001b[A\n",
      "785it [00:00, 1070.55it/s]\n",
      "Model Development and Training:  25%|██▌       | 1/4 [00:09<00:29,  9.71s/it]"
     ]
    },
    {
     "name": "stdout",
     "output_type": "stream",
     "text": [
      "Removed: /content/data\n",
      "Removed: /content/model\n",
      "Removed: /content/label\n",
      "Removed: /content/encrypt_model\n",
      "Removed: /content/reports\n",
      "Removed: /content/zip\n",
      "Failed to removed: /content/reports/sample_data\n",
      "directory /content/data created successfully\n",
      "directory /content/model created successfully\n",
      "directory /content/label created successfully\n",
      "directory /content/reports created successfully\n",
      "directory /content/encrypt_model created successfully\n",
      "directory /content/zip created successfully\n",
      "directory /content/reports/sample_data created successfully\n",
      "Normalization of the inputdata being started\n",
      "Normalization Done\n",
      "Epoch 1/50\n",
      " 9/10 [==========================>...] - ETA: 0s - loss: 0.6299 - IoU: 0.0506    \n",
      "Epoch 1: val_loss improved from inf to 0.56430, saving model to /content/model/unet_model.h5\n",
      "10/10 [==============================] - 2s 85ms/step - loss: 0.6236 - IoU: 0.1000 - val_loss: 0.5643 - val_IoU: 0.5457 - lr: 0.0010\n",
      "Epoch 2/50\n",
      " 9/10 [==========================>...] - ETA: 0s - loss: 0.4793 - IoU: 0.4633\n",
      "Epoch 2: val_loss improved from 0.56430 to 0.43027, saving model to /content/model/unet_model.h5\n",
      "10/10 [==============================] - 0s 48ms/step - loss: 0.4771 - IoU: 0.4768 - val_loss: 0.4303 - val_IoU: 0.4327 - lr: 0.0010\n",
      "Epoch 3/50\n",
      " 9/10 [==========================>...] - ETA: 0s - loss: 0.3879 - IoU: 0.5909\n",
      "Epoch 3: val_loss improved from 0.43027 to 0.35739, saving model to /content/model/unet_model.h5\n",
      "10/10 [==============================] - 0s 49ms/step - loss: 0.3857 - IoU: 0.5961 - val_loss: 0.3574 - val_IoU: 0.6405 - lr: 0.0010\n",
      "Epoch 4/50\n",
      " 9/10 [==========================>...] - ETA: 0s - loss: 0.3496 - IoU: 0.6360\n",
      "Epoch 4: val_loss improved from 0.35739 to 0.34263, saving model to /content/model/unet_model.h5\n",
      "10/10 [==============================] - 0s 48ms/step - loss: 0.3508 - IoU: 0.6309 - val_loss: 0.3426 - val_IoU: 0.6387 - lr: 0.0010\n",
      "Epoch 5/50\n",
      " 9/10 [==========================>...] - ETA: 0s - loss: 0.3402 - IoU: 0.6397\n",
      "Epoch 5: val_loss improved from 0.34263 to 0.33610, saving model to /content/model/unet_model.h5\n",
      "10/10 [==============================] - 0s 48ms/step - loss: 0.3397 - IoU: 0.6399 - val_loss: 0.3361 - val_IoU: 0.6267 - lr: 0.0010\n",
      "Epoch 6/50\n",
      " 9/10 [==========================>...] - ETA: 0s - loss: 0.3283 - IoU: 0.6466\n",
      "Epoch 6: val_loss improved from 0.33610 to 0.32838, saving model to /content/model/unet_model.h5\n",
      "10/10 [==============================] - 0s 49ms/step - loss: 0.3285 - IoU: 0.6483 - val_loss: 0.3284 - val_IoU: 0.6674 - lr: 0.0010\n",
      "Epoch 7/50\n",
      " 9/10 [==========================>...] - ETA: 0s - loss: 0.3178 - IoU: 0.6592\n",
      "Epoch 7: val_loss improved from 0.32838 to 0.32500, saving model to /content/model/unet_model.h5\n",
      "10/10 [==============================] - 0s 47ms/step - loss: 0.3174 - IoU: 0.6614 - val_loss: 0.3250 - val_IoU: 0.6240 - lr: 0.0010\n",
      "Epoch 8/50\n",
      " 9/10 [==========================>...] - ETA: 0s - loss: 0.3271 - IoU: 0.6526\n",
      "Epoch 8: val_loss improved from 0.32500 to 0.32496, saving model to /content/model/unet_model.h5\n",
      "10/10 [==============================] - 0s 49ms/step - loss: 0.3253 - IoU: 0.6522 - val_loss: 0.3250 - val_IoU: 0.6293 - lr: 0.0010\n",
      "Epoch 9/50\n",
      " 9/10 [==========================>...] - ETA: 0s - loss: 0.3091 - IoU: 0.6765\n",
      "Epoch 9: val_loss improved from 0.32496 to 0.29925, saving model to /content/model/unet_model.h5\n",
      "10/10 [==============================] - 0s 48ms/step - loss: 0.3094 - IoU: 0.6767 - val_loss: 0.2993 - val_IoU: 0.6611 - lr: 0.0010\n",
      "Epoch 10/50\n",
      " 9/10 [==========================>...] - ETA: 0s - loss: 0.2887 - IoU: 0.6931\n",
      "Epoch 10: val_loss improved from 0.29925 to 0.28197, saving model to /content/model/unet_model.h5\n",
      "10/10 [==============================] - 0s 50ms/step - loss: 0.2885 - IoU: 0.6949 - val_loss: 0.2820 - val_IoU: 0.7062 - lr: 0.0010\n",
      "Epoch 11/50\n",
      " 9/10 [==========================>...] - ETA: 0s - loss: 0.2725 - IoU: 0.7131\n",
      "Epoch 11: val_loss improved from 0.28197 to 0.26934, saving model to /content/model/unet_model.h5\n",
      "10/10 [==============================] - 0s 49ms/step - loss: 0.2729 - IoU: 0.7129 - val_loss: 0.2693 - val_IoU: 0.7046 - lr: 0.0010\n",
      "Epoch 12/50\n",
      " 9/10 [==========================>...] - ETA: 0s - loss: 0.2619 - IoU: 0.7229\n",
      "Epoch 12: val_loss did not improve from 0.26934\n",
      "10/10 [==============================] - 0s 40ms/step - loss: 0.2643 - IoU: 0.7213 - val_loss: 0.2755 - val_IoU: 0.6886 - lr: 0.0010\n",
      "Epoch 13/50\n",
      " 9/10 [==========================>...] - ETA: 0s - loss: 0.2650 - IoU: 0.7201\n",
      "Epoch 13: val_loss improved from 0.26934 to 0.26363, saving model to /content/model/unet_model.h5\n",
      "10/10 [==============================] - 1s 54ms/step - loss: 0.2671 - IoU: 0.7158 - val_loss: 0.2636 - val_IoU: 0.7391 - lr: 0.0010\n",
      "Epoch 14/50\n",
      "10/10 [==============================] - ETA: 0s - loss: 0.2595 - IoU: 0.7289\n",
      "Epoch 14: val_loss improved from 0.26363 to 0.25938, saving model to /content/model/unet_model.h5\n",
      "10/10 [==============================] - 1s 58ms/step - loss: 0.2595 - IoU: 0.7289 - val_loss: 0.2594 - val_IoU: 0.7416 - lr: 0.0010\n",
      "Epoch 15/50\n",
      " 9/10 [==========================>...] - ETA: 0s - loss: 0.2442 - IoU: 0.7457\n",
      "Epoch 15: val_loss did not improve from 0.25938\n",
      "10/10 [==============================] - 0s 43ms/step - loss: 0.2445 - IoU: 0.7435 - val_loss: 0.2674 - val_IoU: 0.6855 - lr: 0.0010\n",
      "Epoch 16/50\n",
      " 9/10 [==========================>...] - ETA: 0s - loss: 0.2427 - IoU: 0.7430\n",
      "Epoch 16: val_loss improved from 0.25938 to 0.23989, saving model to /content/model/unet_model.h5\n",
      "10/10 [==============================] - 1s 57ms/step - loss: 0.2425 - IoU: 0.7426 - val_loss: 0.2399 - val_IoU: 0.7393 - lr: 0.0010\n",
      "Epoch 17/50\n",
      " 9/10 [==========================>...] - ETA: 0s - loss: 0.2350 - IoU: 0.7515\n",
      "Epoch 17: val_loss improved from 0.23989 to 0.23682, saving model to /content/model/unet_model.h5\n",
      "10/10 [==============================] - 1s 62ms/step - loss: 0.2351 - IoU: 0.7518 - val_loss: 0.2368 - val_IoU: 0.7643 - lr: 0.0010\n",
      "Epoch 18/50\n",
      " 9/10 [==========================>...] - ETA: 0s - loss: 0.2300 - IoU: 0.7591\n",
      "Epoch 18: val_loss improved from 0.23682 to 0.22624, saving model to /content/model/unet_model.h5\n",
      "10/10 [==============================] - 1s 55ms/step - loss: 0.2291 - IoU: 0.7603 - val_loss: 0.2262 - val_IoU: 0.7634 - lr: 0.0010\n",
      "Epoch 19/50\n",
      " 9/10 [==========================>...] - ETA: 0s - loss: 0.2249 - IoU: 0.7618\n",
      "Epoch 19: val_loss did not improve from 0.22624\n",
      "10/10 [==============================] - 0s 44ms/step - loss: 0.2251 - IoU: 0.7603 - val_loss: 0.2311 - val_IoU: 0.7684 - lr: 0.0010\n",
      "Epoch 20/50\n",
      " 9/10 [==========================>...] - ETA: 0s - loss: 0.2252 - IoU: 0.7622\n",
      "Epoch 20: val_loss did not improve from 0.22624\n",
      "10/10 [==============================] - 0s 45ms/step - loss: 0.2247 - IoU: 0.7630 - val_loss: 0.2285 - val_IoU: 0.7543 - lr: 0.0010\n",
      "Epoch 21/50\n",
      " 9/10 [==========================>...] - ETA: 0s - loss: 0.2229 - IoU: 0.7625\n",
      "Epoch 21: val_loss improved from 0.22624 to 0.22472, saving model to /content/model/unet_model.h5\n",
      "10/10 [==============================] - 1s 61ms/step - loss: 0.2225 - IoU: 0.7623 - val_loss: 0.2247 - val_IoU: 0.7617 - lr: 0.0010\n",
      "Epoch 22/50\n",
      " 9/10 [==========================>...] - ETA: 0s - loss: 0.2103 - IoU: 0.7780\n",
      "Epoch 22: val_loss improved from 0.22472 to 0.22056, saving model to /content/model/unet_model.h5\n",
      "10/10 [==============================] - 1s 58ms/step - loss: 0.2106 - IoU: 0.7776 - val_loss: 0.2206 - val_IoU: 0.7641 - lr: 0.0010\n",
      "Epoch 23/50\n",
      " 9/10 [==========================>...] - ETA: 0s - loss: 0.2080 - IoU: 0.7785\n",
      "Epoch 23: val_loss did not improve from 0.22056\n",
      "10/10 [==============================] - 0s 44ms/step - loss: 0.2082 - IoU: 0.7789 - val_loss: 0.2227 - val_IoU: 0.7629 - lr: 0.0010\n",
      "Epoch 24/50\n",
      " 9/10 [==========================>...] - ETA: 0s - loss: 0.2045 - IoU: 0.7822\n",
      "Epoch 24: val_loss improved from 0.22056 to 0.21729, saving model to /content/model/unet_model.h5\n",
      "10/10 [==============================] - 1s 57ms/step - loss: 0.2061 - IoU: 0.7794 - val_loss: 0.2173 - val_IoU: 0.7797 - lr: 0.0010\n",
      "Epoch 25/50\n",
      " 9/10 [==========================>...] - ETA: 0s - loss: 0.2038 - IoU: 0.7830\n",
      "Epoch 25: val_loss improved from 0.21729 to 0.21581, saving model to /content/model/unet_model.h5\n",
      "10/10 [==============================] - 1s 56ms/step - loss: 0.2014 - IoU: 0.7867 - val_loss: 0.2158 - val_IoU: 0.7774 - lr: 0.0010\n",
      "Epoch 26/50\n",
      " 9/10 [==========================>...] - ETA: 0s - loss: 0.1969 - IoU: 0.7905\n",
      "Epoch 26: val_loss did not improve from 0.21581\n",
      "10/10 [==============================] - 0s 39ms/step - loss: 0.1971 - IoU: 0.7897 - val_loss: 0.2191 - val_IoU: 0.7748 - lr: 0.0010\n",
      "Epoch 27/50\n",
      " 9/10 [==========================>...] - ETA: 0s - loss: 0.1969 - IoU: 0.7897\n",
      "Epoch 27: val_loss improved from 0.21581 to 0.20954, saving model to /content/model/unet_model.h5\n",
      "10/10 [==============================] - 0s 48ms/step - loss: 0.1971 - IoU: 0.7892 - val_loss: 0.2095 - val_IoU: 0.7809 - lr: 0.0010\n",
      "Epoch 28/50\n",
      " 9/10 [==========================>...] - ETA: 0s - loss: 0.1914 - IoU: 0.7964\n",
      "Epoch 28: val_loss did not improve from 0.20954\n",
      "10/10 [==============================] - 0s 39ms/step - loss: 0.1908 - IoU: 0.7968 - val_loss: 0.2127 - val_IoU: 0.7804 - lr: 0.0010\n",
      "Epoch 29/50\n",
      " 9/10 [==========================>...] - ETA: 0s - loss: 0.1859 - IoU: 0.8014\n",
      "Epoch 29: val_loss did not improve from 0.20954\n",
      "10/10 [==============================] - 0s 40ms/step - loss: 0.1854 - IoU: 0.8015 - val_loss: 0.2185 - val_IoU: 0.7629 - lr: 0.0010\n",
      "Epoch 30/50\n",
      " 9/10 [==========================>...] - ETA: 0s - loss: 0.1808 - IoU: 0.8063\n",
      "Epoch 30: val_loss did not improve from 0.20954\n",
      "\n",
      "Epoch 30: ReduceLROnPlateau reducing learning rate to 0.00010000000474974513.\n",
      "10/10 [==============================] - 0s 40ms/step - loss: 0.1807 - IoU: 0.8069 - val_loss: 0.2100 - val_IoU: 0.7835 - lr: 0.0010\n",
      "Epoch 31/50\n",
      " 9/10 [==========================>...] - ETA: 0s - loss: 0.1728 - IoU: 0.8145\n",
      "Epoch 31: val_loss improved from 0.20954 to 0.20896, saving model to /content/model/unet_model.h5\n",
      "10/10 [==============================] - 0s 47ms/step - loss: 0.1721 - IoU: 0.8159 - val_loss: 0.2090 - val_IoU: 0.7854 - lr: 1.0000e-04\n",
      "Epoch 32/50\n",
      " 9/10 [==========================>...] - ETA: 0s - loss: 0.1697 - IoU: 0.8180\n",
      "Epoch 32: val_loss did not improve from 0.20896\n",
      "10/10 [==============================] - 0s 39ms/step - loss: 0.1700 - IoU: 0.8174 - val_loss: 0.2105 - val_IoU: 0.7866 - lr: 1.0000e-04\n",
      "Epoch 33/50\n",
      " 9/10 [==========================>...] - ETA: 0s - loss: 0.1684 - IoU: 0.8210\n",
      "Epoch 33: val_loss did not improve from 0.20896\n",
      "10/10 [==============================] - 0s 39ms/step - loss: 0.1683 - IoU: 0.8198 - val_loss: 0.2117 - val_IoU: 0.7812 - lr: 1.0000e-04\n",
      "Epoch 34/50\n",
      " 9/10 [==========================>...] - ETA: 0s - loss: 0.1677 - IoU: 0.8201\n",
      "Epoch 34: val_loss did not improve from 0.20896\n",
      "\n",
      "Epoch 34: ReduceLROnPlateau reducing learning rate to 1.0000000474974514e-05.\n",
      "10/10 [==============================] - 0s 41ms/step - loss: 0.1672 - IoU: 0.8211 - val_loss: 0.2106 - val_IoU: 0.7838 - lr: 1.0000e-04\n",
      "Epoch 35/50\n",
      " 9/10 [==========================>...] - ETA: 0s - loss: 0.1666 - IoU: 0.8206\n",
      "Epoch 35: val_loss did not improve from 0.20896\n",
      "10/10 [==============================] - 0s 39ms/step - loss: 0.1661 - IoU: 0.8215 - val_loss: 0.2107 - val_IoU: 0.7845 - lr: 1.0000e-05\n",
      "Epoch 36/50\n",
      " 9/10 [==========================>...] - ETA: 0s - loss: 0.1656 - IoU: 0.8229\n",
      "Epoch 36: val_loss did not improve from 0.20896\n",
      "10/10 [==============================] - 0s 41ms/step - loss: 0.1661 - IoU: 0.8219 - val_loss: 0.2108 - val_IoU: 0.7862 - lr: 1.0000e-05\n",
      "Epoch 37/50\n",
      " 9/10 [==========================>...] - ETA: 0s - loss: 0.1664 - IoU: 0.8222\n",
      "Epoch 37: val_loss did not improve from 0.20896\n",
      "\n",
      "Epoch 37: ReduceLROnPlateau reducing learning rate to 1.0000000656873453e-06.\n",
      "10/10 [==============================] - 0s 40ms/step - loss: 0.1658 - IoU: 0.8221 - val_loss: 0.2111 - val_IoU: 0.7842 - lr: 1.0000e-05\n",
      "Epoch 38/50\n",
      " 9/10 [==========================>...] - ETA: 0s - loss: 0.1661 - IoU: 0.8216\n",
      "Epoch 38: val_loss did not improve from 0.20896\n",
      "10/10 [==============================] - 0s 39ms/step - loss: 0.1657 - IoU: 0.8221 - val_loss: 0.2111 - val_IoU: 0.7843 - lr: 1.0000e-06\n",
      "Epoch 39/50\n",
      " 9/10 [==========================>...] - ETA: 0s - loss: 0.1657 - IoU: 0.8226\n",
      "Epoch 39: val_loss did not improve from 0.20896\n",
      "10/10 [==============================] - 0s 40ms/step - loss: 0.1657 - IoU: 0.8221 - val_loss: 0.2110 - val_IoU: 0.7845 - lr: 1.0000e-06\n",
      "Epoch 40/50\n",
      " 9/10 [==========================>...] - ETA: 0s - loss: 0.1653 - IoU: 0.8232\n",
      "Epoch 40: val_loss did not improve from 0.20896\n",
      "\n",
      "Epoch 40: ReduceLROnPlateau reducing learning rate to 1.0000001111620805e-07.\n",
      "10/10 [==============================] - 0s 40ms/step - loss: 0.1657 - IoU: 0.8219 - val_loss: 0.2110 - val_IoU: 0.7847 - lr: 1.0000e-06\n",
      "Epoch 41/50\n",
      " 9/10 [==========================>...] - ETA: 0s - loss: 0.1653 - IoU: 0.8227\n",
      "Epoch 41: val_loss did not improve from 0.20896\n",
      "10/10 [==============================] - 0s 39ms/step - loss: 0.1657 - IoU: 0.8221 - val_loss: 0.2110 - val_IoU: 0.7847 - lr: 1.0000e-07\n",
      "Epoch 41: early stopping\n",
      "3/3 [==============================] - 0s 6ms/step\n",
      "* IOU : 0.7785945402569661\n"
     ]
    },
    {
     "name": "stderr",
     "output_type": "stream",
     "text": [
      "Preparing Data, Model and Label:  50%|█████     | 2/4 [00:31<00:33, 16.76s/it]"
     ]
    },
    {
     "name": "stdout",
     "output_type": "stream",
     "text": [
      "Preparing and Saving Data and Label file Needed.\n"
     ]
    },
    {
     "name": "stderr",
     "output_type": "stream",
     "text": [
      "AIShield API Call:  75%|███████▌  | 3/4 [00:32<00:10, 10.92s/it]"
     ]
    },
    {
     "name": "stdout",
     "output_type": "stream",
     "text": [
      "Below Cells will see How to integrate and Call AIShield for Vulnerability Analysis\n"
     ]
    },
    {
     "name": "stderr",
     "output_type": "stream",
     "text": [
      "\n"
     ]
    }
   ],
   "source": [
    "#@title Show/Hide Code\n",
    "'''\n",
    "Description: user input about dataset information, for eg: number of classes, input_shape\n",
    "'''\n",
    "\n",
    "img_row,img_col,channel=128,32,1\n",
    "num_classes=1\n",
    "epochs = 50\n",
    "batch_size= 64\n",
    "input_shape=(img_row,img_col,channel)\n",
    "model_encryption=0 #0 if model is uploaded directly as a zip, 1 if model is encryted as .pyc and uploaded as a zip\n",
    "Normalized =  'yes'\n",
    "\n",
    "## installing libraries if not and then importing\n",
    "if install:\n",
    "    print(\"Starting installing aishield library\")\n",
    "    !pip install aishield\n",
    "    if not run_code:\n",
    "        print(\"Started of installing all the prerequisites packages\")\n",
    "        !pip install tqdm==4.61.1\n",
    "        !pip install requests==2.28.0\n",
    "    else:\n",
    "        print(\"Started of installing all the prerequisites packages\")\n",
    "        !pip install numpy\n",
    "        !pip install matplotlib==3.8.2\n",
    "        !pip install tensorflow==2.15.0\n",
    "        !pip install scikit-learn\n",
    "        !pip install humanfriendly==10.0\n",
    "        !pip install tqdm==4.66.1\n",
    "        !pip install requests==2.31.0\n",
    "        !pip install opencv-python\n",
    "\n",
    "    print(\"Installed all the prerequisites packages\")\n",
    "\n",
    "else:\n",
    "    print(\"Skipped the installation of all the prerequisites packages\")\n",
    "\n",
    "if run_code:\n",
    "    import os\n",
    "    import cv2\n",
    "    import json\n",
    "    import time\n",
    "    import tqdm\n",
    "    import shutil\n",
    "    import random\n",
    "    import zipfile\n",
    "    import requests\n",
    "    import numpy as np\n",
    "    import pandas as pd\n",
    "    from time import sleep\n",
    "    import tensorflow as tf\n",
    "    from tensorflow import keras\n",
    "    import matplotlib.pyplot as plt\n",
    "    from sklearn.model_selection import train_test_split\n",
    "    from tensorflow.keras import datasets, layers, optimizers, Sequential\n",
    "else:\n",
    "    import os\n",
    "    import json\n",
    "    import time\n",
    "    import tqdm\n",
    "    import shutil\n",
    "    import random\n",
    "    import zipfile\n",
    "    import requests\n",
    "    from time import sleep\n",
    "\n",
    "import aishield as ais\n",
    "\n",
    "def download_data():\n",
    "\n",
    "    import requests\n",
    "    import tarfile\n",
    "\n",
    "    download_link = \"http://www.gavrila.net/data/Daimler/bmvc13-flohr-gavrila/PedCut2013_SegmentationDataset.tar.gz\"\n",
    "    output_folder = os.path.join(os.getcwd(),\"dataset_folder\")\n",
    "\n",
    "    #deleting previously generated folders\n",
    "    delete_directory(directorys=[output_folder])\n",
    "\n",
    "    #creating folders\n",
    "    make_directory([output_folder])\n",
    "    response = requests.get(download_link)\n",
    "    with open(\"PedCut2013_SegmentationDataset.tar.gz\", \"wb\") as file:\n",
    "        file.write(response.content)\n",
    "\n",
    "    with tarfile.open(\"PedCut2013_SegmentationDataset.tar.gz\", \"r:gz\") as tar:\n",
    "        tar.extractall(output_folder)\n",
    "\n",
    "    return output_folder\n",
    "\n",
    "def get_filelist(path):\n",
    "    \"\"\"\n",
    "    Get full path of images in list form given path and its child path\n",
    "\n",
    "    Parameters\n",
    "    ----------\n",
    "    path : Dir path where images are stored\n",
    "\n",
    "    Returns\n",
    "    -------\n",
    "    list_ID : array containing all image files in user dir\n",
    "\n",
    "    \"\"\"\n",
    "\n",
    "    list_id = []\n",
    "    for (root, dirs, files) in os.walk(path, topdown=True):\n",
    "        if len(dirs) == 0:\n",
    "            for file in files:\n",
    "                list_id.append(os.path.join(root,file))\n",
    "    return list_id\n",
    "\n",
    "def download_artifacts(url):\n",
    "    \"\"\"\n",
    "    Description :\n",
    "    This function will download the dataset from the given file_path\n",
    "    parameter:\n",
    "\n",
    "        input:\n",
    "        file_path : url of the dataset from where need to download the dataset\n",
    "\n",
    "        output: None\n",
    "    \"\"\"\n",
    "    file_path = os.path.basename(url)\n",
    "\n",
    "    # Download the file\n",
    "    response = requests.get(url)\n",
    "    with open(file_path, 'wb') as f:\n",
    "        f.write(response.content)\n",
    "\n",
    "#extract content from the nested zip file\n",
    "def extract_zip(zip_file_path, extract_to_folder):\n",
    "\n",
    "    \"\"\"\n",
    "    Description :\n",
    "    This function will extract the zipped file to a given destination folder\n",
    "\n",
    "        input:\n",
    "        zip_file_path : download zipped file path\n",
    "        extract_to_folder: destination folder to extract the content of zipped files\n",
    "\n",
    "        output: None\n",
    "    \"\"\"\n",
    "    with zipfile.ZipFile(zip_file_path, 'r') as zip_ref:\n",
    "        # Extract all contents into the target folder\n",
    "        zip_ref.extractall(extract_to_folder)\n",
    "    zip_ref.close()\n",
    "\n",
    "\n",
    "\n",
    "def download_extract_artifacts(download_url, zipped_file_path, destination_path):\n",
    "\n",
    "    \"\"\"\n",
    "    Description :\n",
    "    This function will trigger the download and extraction function one by one\n",
    "\n",
    "        input:\n",
    "        download_url: url from where content need to be downloaded\n",
    "        zip_file_path : download zipped file path\n",
    "        destination_path: destination folder to extract the content of zipped files\n",
    "\n",
    "        output: None\n",
    "    \"\"\"\n",
    "\n",
    "    # download the artifcats from the given url\n",
    "    try:\n",
    "        download_artifacts(download_url)\n",
    "        # extract the zipped artifacts in to given destination folder\n",
    "        extract_zip(zipped_file_path, destination_path)\n",
    "\n",
    "    except Exception as e:\n",
    "        print(\"Download / Extraction of artifacts failed {}\".format(str(e)))\n",
    "\n",
    "\n",
    "def load_data(train_data_path):\n",
    "\n",
    "    '''\n",
    "        Description :\n",
    "            Load the dataset.\n",
    "\n",
    "        input_parameter: None\n",
    "        return_parameter: return the training and testing the dataset\n",
    "            X_train, y_train , X_test, y_test\n",
    "\n",
    "\n",
    "    '''\n",
    "    train_data_path = os.path.join(train_data_path,os.path.join(\"data\",\"completeData\"))\n",
    "#     print(train_data_path)\n",
    "    X = []\n",
    "    y = []\n",
    "    data_files = get_filelist(os.path.join(train_data_path,\"left_images\"))\n",
    "    mask_files = get_filelist(os.path.join(train_data_path,\"left_groundTruth\"))\n",
    "#     print(data_files)\n",
    "\n",
    "    for file_path, mask_path in tqdm.tqdm(zip(data_files, mask_files)):\n",
    "        try:\n",
    "            img=cv2.imread(file_path,0) #loading image\n",
    "            img = cv2.resize(img, (input_shape[1], input_shape[0]))  # resize accept shape as (width,height)\n",
    "            img=np.expand_dims(img,axis=-1)  # expand dims for gray scale image\n",
    "\n",
    "            mask = cv2.imread(mask_path, 0)  # loading mask\n",
    "            mask = cv2.resize(mask, (input_shape[1], input_shape[0]))\n",
    "            mask = np.expand_dims(mask, axis=-1)\n",
    "\n",
    "            X.append(img)\n",
    "            y.append(mask)\n",
    "        except Exception as e:\n",
    "                print(\"error while loading data\".format(str(e)))\n",
    "\n",
    "    return X, y\n",
    "\n",
    "def make_directory(directory):\n",
    "    \"\"\"\n",
    "    Create directory\n",
    "\n",
    "    Parameters\n",
    "    ----------\n",
    "    directorys : list containing the directory's path to create\n",
    "\n",
    "    Returns\n",
    "    -------\n",
    "    None.\n",
    "\n",
    "    \"\"\"\n",
    "    for d in directory:\n",
    "        if os.path.isdir(d):\n",
    "            print(\"directory {} already exist\".format(d))\n",
    "        if os.path.isdir(d)==False:\n",
    "            os.mkdir(path=d)\n",
    "            print(\"directory {} created successfully\".format(d))\n",
    "\n",
    "def delete_directory(directorys):\n",
    "    \"\"\"\n",
    "    Delete directory\n",
    "\n",
    "    Parameters\n",
    "    ----------\n",
    "    directorys : list containing the directory's path to delete along with all the files\n",
    "\n",
    "    Returns\n",
    "    -------\n",
    "    None.\n",
    "\n",
    "    \"\"\"\n",
    "    if len(directorys)>=1:\n",
    "        for d in directorys:\n",
    "            if os.path.isdir(d):\n",
    "                try:\n",
    "                    if os.path.isfile(d):\n",
    "                        os.remove(path=d)\n",
    "                    else:\n",
    "                        shutil.rmtree(path=d)\n",
    "                        print(\"Removed: {}\".format(d))\n",
    "                except:\n",
    "                    print(\"Failed to removed: {}\".format(d))\n",
    "            else:\n",
    "                print(\"Failed to removed: {}\".format(d))\n",
    "\n",
    "def make_archive(base_name,root_dir,zip_format='zip'):\n",
    "    \"\"\"\n",
    "    Creates zip for given folder\n",
    "\n",
    "    Parameters\n",
    "    ----------\n",
    "    base_name : name of zip file\n",
    "    root_dir : directory to archive/zip\n",
    "    zip_format : zip or tar\n",
    "        DESCRIPTION. The default is 'zip'.\n",
    "\n",
    "    Returns\n",
    "    -------\n",
    "    None.\n",
    "\n",
    "    \"\"\"\n",
    "    shutil.make_archive(base_name=base_name, format=zip_format, root_dir=root_dir)\n",
    "\n",
    "\n",
    "\n",
    "def training(parameter_payload:dict):\n",
    "\n",
    "    X = parameter_payload['X']\n",
    "    y = parameter_payload['y']\n",
    "\n",
    "    #splitting the dataset into train and validation set\n",
    "    X_train, X_val, y_train, y_val = train_test_split(X,y,test_size = 0.2,random_state = 42)\n",
    "    X_val, X_test, y_val, y_test = train_test_split(X_val,y_val,test_size = 0.5,random_state = 42)\n",
    "    #Normalizing and Reshaping the Data\n",
    "    if parameter_payload['Normalized']:\n",
    "        print(\"Normalization of the inputdata being started\")\n",
    "        X_train = np.array(X_train)/255.0\n",
    "        X_test = np.array(X_test)/255.0\n",
    "        X_val = np.array(X_val)/255.0\n",
    "        y_train = np.array(y_train)/255.0\n",
    "        y_test = np.array(y_test)/255.0\n",
    "        y_val = np.array(y_val)/255.0\n",
    "        print(\"Normalization Done\")\n",
    "\n",
    "\n",
    "    else:\n",
    "        X_train = np.array(X_train)\n",
    "        X_test = np.array(X_test)\n",
    "        X_val = np.array(X_val)\n",
    "        y_train = np.array(y_train)\n",
    "        y_test = np.array(y_test)\n",
    "        y_val = np.array(y_val)\n",
    "\n",
    "    model = UNet()\n",
    "    model.compile(optimizer=\"adam\", loss=\"binary_crossentropy\", metrics=[IoU])\n",
    "\n",
    "    reduce_lr = keras.callbacks.ReduceLROnPlateau(monitor=\"val_loss\", patience=3, verbose=2)\n",
    "    early_stopper = keras.callbacks.EarlyStopping(monitor=\"val_loss\", patience=10, verbose=1)\n",
    "    checkpoint = tf.keras.callbacks.ModelCheckpoint(filepath=model_path+'/unet_model.h5',monitor='val_loss',verbose=1,save_best_only=True,mode='auto')\n",
    "    # Early stopper\n",
    "\n",
    "    callbacks = [early_stopper, checkpoint , reduce_lr]\n",
    "    history = model.fit(X_train, y_train, validation_data = (X_test, y_test),epochs = parameter_payload['epochs'], batch_size=parameter_payload['batch_size'], verbose = 1 , callbacks = callbacks)\n",
    "\n",
    "\n",
    "    #Evaluate trained model\n",
    "\n",
    "    preds = model.predict(X_test)\n",
    "    iou = calculate_iou(y_test, preds)\n",
    "    print(\"* IOU : {}\".format(iou))\n",
    "\n",
    "    return model, X_val, y_val\n",
    "\n",
    "def IoU(y_true, y_pred):\n",
    "\n",
    "    # Note: the type float32 is very important. It must be the same type as the output from\n",
    "    # the python function above or you too may spend many late night hours\n",
    "    # trying to debug and almost give up.\n",
    "\n",
    "    iou = tf.py_function(calculate_iou, [y_true, y_pred], tf.float64)\n",
    "\n",
    "    return iou\n",
    "\n",
    "\n",
    "def calculate_iou(target, prediction):\n",
    "    intersection = np.logical_and(target > 0.5, prediction > 0.5)\n",
    "    union = np.logical_or(target > 0.5, prediction > 0.5)\n",
    "    iou_score = np.sum(intersection) / np.sum(union)\n",
    "    return iou_score\n",
    "\n",
    "\n",
    "def predict(x):\n",
    "    res = model.predict(x)\n",
    "    res[res > 0.5] = 1\n",
    "    res[res < 0.5] = 0\n",
    "    return res\n",
    "\n",
    "def create_folders():\n",
    "    '''\n",
    "        Descrption: this will remove(if present previously) and create folders needed\n",
    "                    to store the data , model and label for ease access\n",
    "\n",
    "        input_parameters: None\n",
    "        return_parameters: returns the path of the data , model , label , report, zip directory\n",
    "    '''\n",
    "\n",
    "    data_path=os.path.join(os.getcwd(),\"data\")\n",
    "    model_path=os.path.join(os.getcwd(),\"model\")\n",
    "    label_path=os.path.join(os.getcwd(),\"label\")\n",
    "    encrypt_model_path=os.path.join(os.getcwd(),\"encrypt_model\")\n",
    "\n",
    "    report_path=os.path.join(os.getcwd(),\"reports\")\n",
    "    sample_data = os.path.join(report_path, \"sample_data\")\n",
    "    #Create Zip Path which contains data , model and label zip files\n",
    "    zip_path=os.path.join(os.getcwd(),\"zip\")\n",
    "\n",
    "    #deleting previously generated folders\n",
    "    delete_directory(directorys=[data_path,model_path,label_path,encrypt_model_path,report_path,zip_path, sample_data])\n",
    "\n",
    "    #creating folders\n",
    "    make_directory([data_path,model_path,label_path,report_path,encrypt_model_path,zip_path, sample_data])\n",
    "\n",
    "    return data_path, model_path, label_path,encrypt_model_path,report_path, zip_path, sample_data\n",
    "\n",
    "# define model - UNET\n",
    "def down_block(x, filters, kernel_size=(3, 3), padding=\"same\", strides=1):\n",
    "    c = keras.layers.Conv2D(filters, kernel_size, padding=padding, strides=strides, activation=\"relu\")(x)\n",
    "    c = keras.layers.Conv2D(filters, kernel_size, padding=padding, strides=strides, activation=\"relu\")(c)\n",
    "    p = keras.layers.MaxPool2D((2, 2), (2, 2))(c)\n",
    "    return c, p\n",
    "\n",
    "def up_block(x, skip, filters, kernel_size=(3, 3), padding=\"same\", strides=1):\n",
    "    us = keras.layers.UpSampling2D((2, 2))(x)\n",
    "    concat = keras.layers.Concatenate()([us, skip])\n",
    "    c = keras.layers.Conv2D(filters, kernel_size, padding=padding, strides=strides, activation=\"relu\")(concat)\n",
    "    c = keras.layers.Conv2D(filters, kernel_size, padding=padding, strides=strides, activation=\"relu\")(c)\n",
    "    return c\n",
    "\n",
    "def bottleneck(x, filters, kernel_size=(3, 3), padding=\"same\", strides=1):\n",
    "    c = keras.layers.Conv2D(filters, kernel_size, padding=padding, strides=strides, activation=\"relu\")(x)\n",
    "    c = keras.layers.Conv2D(filters, kernel_size, padding=padding, strides=strides, activation=\"relu\")(c)\n",
    "    return c\n",
    "\n",
    "def UNet():\n",
    "    f = [16, 32, 64, 128, 256]\n",
    "    inputs = keras.layers.Input((input_shape[0], input_shape[1], 1))\n",
    "\n",
    "    p0 = inputs\n",
    "    c1, p1 = down_block(p0, f[0]) #128 -> 64\n",
    "    c2, p2 = down_block(p1, f[1]) #64 -> 32\n",
    "    c3, p3 = down_block(p2, f[2]) #32 -> 16\n",
    "    # c4, p4 = down_block(p3, f[3]) #16 -> 8\n",
    "\n",
    "    bn = bottleneck(p3, f[3])\n",
    "\n",
    "    # u1 = up_block(bn, c4, f[3]) #8 -> 16\n",
    "    u2 = up_block(bn, c3, f[2]) #16 -> 32\n",
    "    u3 = up_block(u2, c2, f[1]) #32 -> 64\n",
    "    u4 = up_block(u3, c1, f[0]) #64 -> 128\n",
    "\n",
    "    outputs = keras.layers.Conv2D(1, (1, 1), padding=\"same\", activation=\"sigmoid\")(u4)\n",
    "    model = keras.models.Model(inputs, outputs)\n",
    "    return model\n",
    "\n",
    "def prepare_data_label(data_path, label_path, X_val, y_val, Normalized):\n",
    "\n",
    "    print(\"Preparing and Saving Data and Label file Needed.\")\n",
    "\n",
    "    for i in range(X_val.shape[0]):\n",
    "        cv2.imwrite(os.path.join(data_path,str(i)+\".jpg\") ,X_val[i]*255.0) # don't use plt.imread otheriwse while loading the saved images , and passing to model there is accuarcy drop\n",
    "\n",
    "\n",
    "    for i in range(y_val.shape[0]) :\n",
    "        cv2.imwrite(os.path.join(label_path,str(i)+\".jpg\") ,y_val[i]*255.0) # don't use plt.imread otheriwse while loading the saved images , and passing to model there is accuarcy drop\n",
    "\n",
    "\n",
    "def encrypt_model(model, encrypt_model_path):\n",
    "    print(\"As model_encryption has set as 1 , Creating an encripted Model\")\n",
    "    python_code='''\n",
    "#import library\n",
    "import numpy as np\n",
    "import tensorflow as tf\n",
    "from tensorflow import keras\n",
    "from tensorflow.keras import layers , Sequential\n",
    "\n",
    "#define class\n",
    "class BaseModel():\n",
    "    \"\"\"\n",
    "    class for base model\n",
    "    \"\"\"\n",
    "    def __init__(self,input_shape=(128,32,1),num_classes=2,model_weight_path=\"model_weight.h5\"):\n",
    "        \"\"\"\n",
    "        constructor for class\n",
    "\n",
    "        Parameters\n",
    "        ----------\n",
    "        input_shape : TYPE, optional\n",
    "            DESCRIPTION. The default is (128,32,1).\n",
    "        num_classes : TYPE, optional\n",
    "            DESCRIPTION. The default is 2.\n",
    "        model_weight_path : string, optional\n",
    "            DESCRIPTION. the relative path to model weight\n",
    "\n",
    "        Returns\n",
    "        -------\n",
    "        None.\n",
    "\n",
    "        \"\"\"\n",
    "        self.input_shape=input_shape\n",
    "        self.num_classes=num_classes\n",
    "        self.model_weight_path=model_weight_path\n",
    "\n",
    "\n",
    "    def down_block(self, x, filters, kernel_size=(3, 3), padding=\"same\", strides=1):\n",
    "        c = keras.layers.Conv2D(filters, kernel_size, padding=padding, strides=strides, activation=\"relu\")(x)\n",
    "        c = keras.layers.Conv2D(filters, kernel_size, padding=padding, strides=strides, activation=\"relu\")(c)\n",
    "        p = keras.layers.MaxPool2D((2, 2), (2, 2))(c)\n",
    "        return c, p\n",
    "\n",
    "    def up_block(self, x, skip, filters, kernel_size=(3, 3), padding=\"same\", strides=1):\n",
    "        us = keras.layers.UpSampling2D((2, 2))(x)\n",
    "        concat = keras.layers.Concatenate()([us, skip])\n",
    "        c = keras.layers.Conv2D(filters, kernel_size, padding=padding, strides=strides, activation=\"relu\")(concat)\n",
    "        c = keras.layers.Conv2D(filters, kernel_size, padding=padding, strides=strides, activation=\"relu\")(c)\n",
    "        return c\n",
    "\n",
    "    def bottleneck(self, x, filters, kernel_size=(3, 3), padding=\"same\", strides=1):\n",
    "        c = keras.layers.Conv2D(filters, kernel_size, padding=padding, strides=strides, activation=\"relu\")(x)\n",
    "        c = keras.layers.Conv2D(filters, kernel_size, padding=padding, strides=strides, activation=\"relu\")(c)\n",
    "        return c\n",
    "\n",
    "    def UNet(self):\n",
    "        f = [16, 32, 64, 128, 256]\n",
    "        inputs = keras.layers.Input(self.input_shape)\n",
    "\n",
    "        p0 = inputs\n",
    "        c1, p1 = self.down_block(p0, f[0]) #128 -> 64\n",
    "        c2, p2 = self.down_block(p1, f[1]) #64 -> 32\n",
    "        c3, p3 = self.down_block(p2, f[2]) #32 -> 16\n",
    "        # c4, p4 = down_block(p3, f[3]) #16 -> 8\n",
    "\n",
    "        bn = self.bottleneck(p3, f[3])\n",
    "\n",
    "        # u1 = up_block(bn, c4, f[3]) #8 -> 16\n",
    "        u2 = self.up_block(bn, c3, f[2]) #16 -> 32\n",
    "        u3 = self.up_block(u2, c2, f[1]) #32 -> 64\n",
    "        u4 = self.up_block(u3, c1, f[0]) #64 -> 128\n",
    "\n",
    "        outputs = keras.layers.Conv2D(1, (1, 1), padding=\"same\", activation=\"sigmoid\")(u4)\n",
    "        model = keras.models.Model(inputs, outputs)\n",
    "        return model\n",
    "\n",
    "\n",
    "    def IoU(self, y_true, y_pred):\n",
    "\n",
    "        # Note: the type float32 is very important. It must be the same type as the output from\n",
    "        # the python function above or you too may spend many late night hours\n",
    "        # trying to debug and almost give up.\n",
    "\n",
    "        iou = tf.py_function(calculate_iou, [y_true, y_pred], tf.float64)\n",
    "\n",
    "        return iou\n",
    "\n",
    "\n",
    "    def calculate_iou(self, target, prediction):\n",
    "        intersection = np.logical_and(target > 0.5, prediction > 0.5)\n",
    "        union = np.logical_or(target > 0.5, prediction > 0.5)\n",
    "        iou_score = np.sum(intersection) / np.sum(union)\n",
    "        return iou_score\n",
    "\n",
    "\n",
    "    def predict(self,X):\n",
    "        \"\"\"\n",
    "        predict for given data\n",
    "\n",
    "        Parameters\n",
    "        ----------\n",
    "        X : numpy array\n",
    "            DESCRIPTION.\n",
    "\n",
    "        Returns\n",
    "        -------\n",
    "        pred : numpy array\n",
    "            DESCRIPTION.\n",
    "\n",
    "        \"\"\"\n",
    "\n",
    "        self.model = self.UNet()\n",
    "        self.model.load_weights(self.model_weight_path)\n",
    "\n",
    "        res = self.model.predict(X)\n",
    "        res[res > 0.5] = 1\n",
    "        res[res < 0.5] = 0\n",
    "        return res '''\n",
    "\n",
    "    # Writing to file\n",
    "    with open(\"base_model.py\", \"w\") as file:\n",
    "        # Writing data to a file\n",
    "        file.writelines(python_code)\n",
    "\n",
    "    #Description: function to create .pyc file\n",
    "    import py_compile\n",
    "    py_compile.compile(file='base_model.py',cfile=os.path.join(encrypt_model_path,'base_model.pyc'))\n",
    "\n",
    "    #Description: save weight of model\n",
    "    model.save_weights(os.path.join(encrypt_model_path,\"model_weight.h5\"))\n",
    "\n",
    "\n",
    "if __name__ == \"__main__\":\n",
    "\n",
    "    user_workflow = {\n",
    "                 '1' : 'Loading the Dataset and Label',\n",
    "                 '2' : 'Model Development and Training',\n",
    "                 '3' : 'Preparing Data, Model and Label',\n",
    "                 '4' : 'AIShield API Call'\n",
    "\n",
    "           }\n",
    "data_path, model_path, label_path,encrypt_model_path,report_path, zip_path, sample_data = create_folders()\n",
    "steps_tqdm = tqdm.tqdm(range(1,len(user_workflow)+1))\n",
    "for step in steps_tqdm:\n",
    "\n",
    "    if step == 1 :\n",
    "        steps_tqdm.set_description(user_workflow[str(step)])\n",
    "        if not run_code:\n",
    "            print(\"Downloading of the Data Started\")\n",
    "            data_url = \"https://aisdocs.blob.core.windows.net/reference/upload/Image/ImageSegmentation/left_images.zip\"\n",
    "            download_extract_artifacts(data_url, os.path.basename(data_url), os.path.basename(data_path))\n",
    "            print(\"Data downloaded succesfully\")\n",
    "\n",
    "            print(\"Downloading of the Minmax Started\")\n",
    "            label_url = \"https://aisdocs.blob.core.windows.net/reference/upload/Image/ImageSegmentation/left_groundTruth.zip\"\n",
    "            download_extract_artifacts(label_url, os.path.basename(label_url), os.path.basename(label_path))\n",
    "            print(\"label downloaded succesfully\")\n",
    "        else:\n",
    "            dataset_path = download_data()\n",
    "            X,y = load_data(dataset_path)\n",
    "\n",
    "\n",
    "    elif step == 2:\n",
    "\n",
    "        steps_tqdm.set_description(user_workflow[str(step)])\n",
    "        if not run_code:\n",
    "            print(\"Downloading of the Model file Started\")\n",
    "            if model_encryption ==0:\n",
    "                model_url = \"https://aisdocs.blob.core.windows.net/reference/upload/Image/ImageSegmentation/og_model.zip\"\n",
    "                download_extract_artifacts(model_url, os.path.basename(model_url), os.path.basename(model_path))\n",
    "            else:\n",
    "                model_url = \"https://aisdocs.blob.core.windows.net/reference/upload/EncryptedModels/encrypt_model_IS_MEA.zip\"\n",
    "                download_extract_artifacts(model_url, os.path.basename(model_url), os.path.basename(encrypt_model_path))\n",
    "        else:\n",
    "            training_parameters = {'X' : X ,\n",
    "                            'y':y ,\n",
    "                            'Normalized' : Normalized ,\n",
    "                            'epochs' : epochs ,\n",
    "                            'batch_size' : batch_size,\n",
    "                            'model_path' : model_path ,\n",
    "                            'model_name' : 'pedestrain_model.h5',\n",
    "                            'num_classes' : num_classes\n",
    "                        }\n",
    "\n",
    "            model, X_val, y_val = training(parameter_payload=training_parameters)\n",
    "\n",
    "    elif step == 3:\n",
    "        steps_tqdm.set_description(user_workflow[str(step)])\n",
    "\n",
    "        if run_code:\n",
    "            prepare_data_label(data_path, label_path, X_val, y_val, Normalized)\n",
    "\n",
    "\n",
    "        #Description: Zip data\n",
    "        make_archive(base_name=os.path.join(zip_path,\"data\"),root_dir=data_path,zip_format='zip')\n",
    "\n",
    "        #Description: Zip label\n",
    "        make_archive(base_name=os.path.join(zip_path,\"label\"),root_dir=label_path,zip_format='zip')\n",
    "\n",
    "        #Description: Zip Model\n",
    "        if model_encryption:\n",
    "            if not run_code:\n",
    "                make_archive(base_name=os.path.join(zip_path,\"encrypt_model\"),root_dir=encrypt_model_path,zip_format='zip')\n",
    "            else:\n",
    "                encrypt_model(model, encrypt_model_path)\n",
    "                make_archive(base_name=os.path.join(zip_path,\"encrypt_model\"),root_dir=encrypt_model_path,zip_format='zip')\n",
    "        else:\n",
    "            make_archive(base_name=os.path.join(zip_path,\"model\"),root_dir=model_path,zip_format='zip')\n",
    "\n",
    "    elif step == 4:\n",
    "        steps_tqdm.set_description(user_workflow[str(step)])\n",
    "        print(\"Below Cells will see How to integrate and Call AIShield for Vulnerability Analysis\")\n",
    "        break\n",
    "\n",
    "    sleep(1)\n",
    "\n"
   ]
  },
  {
   "cell_type": "markdown",
   "id": "9775ce40",
   "metadata": {
    "id": "9775ce40",
    "pycharm": {
     "name": "#%% md\n"
    }
   },
   "source": [
    "   "
   ]
  },
  {
   "cell_type": "markdown",
   "id": "aecb7b1b",
   "metadata": {
    "id": "aecb7b1b",
    "pycharm": {
     "name": "#%% md\n"
    }
   },
   "source": [
    "  "
   ]
  },
  {
   "cell_type": "markdown",
   "id": "80782b1d",
   "metadata": {
    "id": "80782b1d",
    "pycharm": {
     "name": "#%% md\n"
    }
   },
   "source": [
    "<img src=\"https://aisdocs.blob.core.windows.net/reference/Workflow Images/wk2.png\"/>"
   ]
  },
  {
   "cell_type": "markdown",
   "id": "d78d4789",
   "metadata": {
    "id": "d78d4789",
    "pycharm": {
     "name": "#%% md\n"
    }
   },
   "source": [
    "  "
   ]
  },
  {
   "cell_type": "markdown",
   "id": "74404585",
   "metadata": {
    "id": "74404585",
    "pycharm": {
     "name": "#%% md\n"
    }
   },
   "source": [
    "  "
   ]
  },
  {
   "cell_type": "markdown",
   "id": "7e49ea41",
   "metadata": {
    "id": "7e49ea41",
    "pycharm": {
     "name": "#%% md\n"
    }
   },
   "source": [
    "## 3.0 Vulnerability Analysis by AIShield\n",
    "\n",
    "**STEP 5 :You can move to trigger the AIShield analysis by following steps given below. If you want to preview the generated artifact by vulnerability analysis like the report and dashboard, please find below a few samples of same, all without having to trigger an actual analysis.**\n",
    "\n",
    "By examining these Reports, we can gain a comprehensive understanding of the upcoming Vulnerability Analysis conducted by AIShield, which will enable us to prepare more effectively.\n"
   ]
  },
  {
   "cell_type": "markdown",
   "id": "8F9nmtorQf6a",
   "metadata": {
    "id": "8F9nmtorQf6a"
   },
   "source": [
    "<img src=\"https://aisdocs.blob.core.windows.net/reference/dashboard_images/Dashboard.png\"/>"
   ]
  },
  {
   "cell_type": "markdown",
   "id": "7292c6c8",
   "metadata": {
    "id": "7292c6c8"
   },
   "source": [
    "<img src=\"https://aisdocs.blob.core.windows.net/reference/dashboard_images/IS_MEA_Dashboard.png\"/>"
   ]
  },
  {
   "cell_type": "code",
   "execution_count": 5,
   "id": "0ca157e6",
   "metadata": {
    "colab": {
     "base_uri": "https://localhost:8080/",
     "height": 645
    },
    "hide_code": false,
    "id": "0ca157e6",
    "outputId": "0799f4c3-1652-43ca-86e4-aa7e690bf59c",
    "pycharm": {
     "name": "#%%\n"
    },
    "scrolled": true
   },
   "outputs": [
    {
     "data": {
      "text/html": [
       "<embed src=\"https://aisdocs.blob.core.windows.net/reference/Reports/Image/ImageSegmentation/MEA/VulnerabilityReport.pdf\" width=\"100%\" height=\"600px\" type=\"application/pdf\">"
      ],
      "text/plain": [
       "<IPython.core.display.HTML object>"
      ]
     },
     "metadata": {},
     "output_type": "display_data"
    }
   ],
   "source": [
    "hosted_pdf_url = 'https://aisdocs.blob.core.windows.net/reference/Reports/Image/ImageSegmentation/MEA/VulnerabilityReport.pdf'\n",
    "display_pdf( output_filename = \"vul_sample\",runtime_environment = runtime_environment,pdf_path =hosted_pdf_url)\n"
   ]
  },
  {
   "cell_type": "code",
   "execution_count": 6,
   "id": "9ef68548",
   "metadata": {
    "colab": {
     "base_uri": "https://localhost:8080/",
     "height": 645
    },
    "hide_code": true,
    "id": "9ef68548",
    "outputId": "17fe3596-275d-4bc2-dde4-fadcf12b3863",
    "pycharm": {
     "name": "#%%\n"
    },
    "scrolled": true
   },
   "outputs": [
    {
     "data": {
      "text/html": [
       "<embed src=\"https://aisdocs.blob.core.windows.net/reference/Reports/Image/ImageSegmentation/MEA/DefenseReport.pdf\" width=\"100%\" height=\"600px\" type=\"application/pdf\">"
      ],
      "text/plain": [
       "<IPython.core.display.HTML object>"
      ]
     },
     "metadata": {},
     "output_type": "display_data"
    }
   ],
   "source": [
    "hosted_defense_pdf_url = 'https://aisdocs.blob.core.windows.net/reference/Reports/Image/ImageSegmentation/MEA/DefenseReport.pdf'\n",
    "display_pdf(output_filename = \"def_sample\", runtime_environment=runtime_environment, pdf_path =hosted_defense_pdf_url)\n"
   ]
  },
  {
   "cell_type": "markdown",
   "id": "12bfb0e6",
   "metadata": {
    "id": "12bfb0e6",
    "pycharm": {
     "name": "#%% md\n"
    }
   },
   "source": [
    "   "
   ]
  },
  {
   "cell_type": "markdown",
   "id": "5c51b0fe",
   "metadata": {
    "id": "5c51b0fe",
    "pycharm": {
     "name": "#%% md\n"
    }
   },
   "source": [
    "   "
   ]
  },
  {
   "cell_type": "markdown",
   "id": "015d1110",
   "metadata": {
    "id": "015d1110",
    "pycharm": {
     "name": "#%% md\n"
    }
   },
   "source": [
    "#### Let's proceed with the step-by-step process of calling and integrating AIShield for Vulnerability Analysis:\n",
    "\n",
    "1. **Initialize AIShield:** Ensure that AIShield is properly installed and its dependencies are set up. Also, initialize AIShield to prepare for the analysis.\n",
    "\n",
    "2. **Model Registration:** Register the specific task pair (e.g. image_classification) and analysis type (e.g. Extraction / MEA) to perform the vulnerability analysis accurately.\n",
    "\n",
    "3. **Upload Artifacts:** Upload the necessary artifacts that have been prepared previously in STEP 4 for analysis. These may include datasets, trained models, or any relevant files.\n",
    "\n",
    "4. **Model Analysis:** Trigger the model analysis API to initiate the vulnerability analysis assessment. AIShield will perform the analysis using the uploaded artifacts.\n",
    "\n",
    "5. **Monitor Analysis Status:** Keep track of the analysis progress and patiently wait for AIShield to generate the vulnerability assessment results. This may take some time depending on the complexity of the analysis.\n",
    "\n",
    "6. **Download Reports & Artifacts:** Once the analysis is complete, access and download the vulnerability analysis reports and any additional artifacts generated by AIShield. Analyze these reports to gain insights into potential vulnerabilities in your system or application.\n",
    "\n",
    "By following instructions, you can effectively call and integrate AIShield for Vulnerability Analysis."
   ]
  },
  {
   "cell_type": "markdown",
   "id": "8f15872b",
   "metadata": {
    "id": "8f15872b",
    "pycharm": {
     "name": "#%% md\n"
    }
   },
   "source": [
    "<img src=\"https://aisdocs.blob.core.windows.net/reference/Workflow Images/aw.png\"/>"
   ]
  },
  {
   "cell_type": "markdown",
   "id": "c3e41392",
   "metadata": {
    "id": "c3e41392",
    "pycharm": {
     "name": "#%% md\n"
    }
   },
   "source": [
    "### 3.1 Initialize AIShield"
   ]
  },
  {
   "cell_type": "code",
   "execution_count": null,
   "id": "91fcac5f",
   "metadata": {
    "id": "91fcac5f",
    "pycharm": {
     "name": "#%%\n"
    }
   },
   "outputs": [],
   "source": [
    "\"\"\"\n",
    "Description : AIShield URL , subscription key and orgid\n",
    "              Initialize the\n",
    "\"\"\"\n",
    "base_url = \"https://api.aws.boschaishield.com/prod\"\n",
    "url=base_url+\"/api/ais/v1.5\"\n",
    "org_id = 'XXXXXXXXXXXXXXXXXXXXXXXXXXXXXXXXXXXX' #<<Copy Org_id mentioned in welcome mail after AIShield Subscription>>\n",
    "\n",
    "\n",
    "\"\"\"\n",
    "Description: Initialize the AIShield API\n",
    "\"\"\"\n",
    "\n",
    "if pypi:\n",
    "    #if pypi then , x-api-key generation is taken care from pypi side using given org_id\n",
    "    aishield_client = ais.AIShieldApi(api_url=url,org_id=org_id)\n",
    "\n",
    "else:\n",
    "    #if using AIShield API then , need an x-api-key for accessing AIShield registration / Analysis APIs\n",
    "    # below function will get insight of how to generate the x-api-key\n",
    "    def get_aws_api_key(url, org_id):\n",
    "\n",
    "        \"\"\"\n",
    "        Description: to get the x_api_key\n",
    "        \"\"\"\n",
    "        url = url+\"/get_aws_api_key\"\n",
    "        headers = {'org_id': org_id}\n",
    "        payload = {}\n",
    "\n",
    "        x_api_key_request = requests.request(\"GET\", url, headers=headers, data=payload)\n",
    "        status_code = x_api_key_request.status_code\n",
    "        x_api_key_request = json.loads(x_api_key_request.text)\n",
    "\n",
    "\n",
    "        if status_code == 200:\n",
    "            x_api_key = x_api_key_request['x_api_key']\n",
    "            return x_api_key\n",
    "\n",
    "        else:\n",
    "            print(x_api_key_request)\n",
    "            return None\n",
    "\n",
    "    #generate the x-api-key\n",
    "    x_api_key = get_aws_api_key(url, org_id)\n",
    "    print(\"x_api_key is :\",x_api_key)\n",
    "\n",
    "    headers={'Cache-Control': 'no-cache',\n",
    "    'x-api-key': x_api_key,\n",
    "    'Org-Id' : org_id\n",
    "    }"
   ]
  },
  {
   "cell_type": "markdown",
   "id": "81cdb00a",
   "metadata": {
    "id": "81cdb00a",
    "pycharm": {
     "name": "#%% md\n"
    }
   },
   "source": [
    "<img src=\"https://aisdocs.blob.core.windows.net/reference/Workflow Images/aw1.png\"/>"
   ]
  },
  {
   "cell_type": "markdown",
   "id": "b7914958",
   "metadata": {
    "id": "b7914958",
    "pycharm": {
     "name": "#%% md\n"
    }
   },
   "source": [
    "### 3.2 Model Registration"
   ]
  },
  {
   "cell_type": "code",
   "execution_count": null,
   "id": "e5db4de5",
   "metadata": {
    "execution": {
     "iopub.execute_input": "2023-06-05T18:28:23.926951Z",
     "iopub.status.busy": "2023-06-05T18:28:23.926951Z",
     "iopub.status.idle": "2023-06-05T18:28:27.401047Z",
     "shell.execute_reply": "2023-06-05T18:28:27.398910Z"
    },
    "hide_code": false,
    "id": "e5db4de5",
    "pycharm": {
     "name": "#%%\n"
    }
   },
   "outputs": [],
   "source": [
    "\"\"\"\n",
    "Description: Define the task and analysis type for model registration\n",
    "              \"task_type\" : refers to the specific type of task being performed, for eg : \"image_segmentation.\"\n",
    "              \"analysis_type\" : refers to the specific type of attack simulation analysis being performed,for eg : \"extraction\".\n",
    "              For more information, check out [https://docs.boschaishield.com/api-docs/lesspostgreater-model-registration#-a-xGGsdVJB3d09cBAck-]\n",
    "\"\"\"\n",
    "\n",
    "if pypi:\n",
    "    task_type = ais.get_type(\"task\", \"image_segmentation\")\n",
    "    analysis_type = ais.get_type(\"analysis\", \"extraction\")\n",
    "\n",
    "\n",
    "    #Perform model registration\n",
    "    try:\n",
    "        status, model_registration_repsone = aishield_client.register_model(task_type=task_type, analysis_type=analysis_type)\n",
    "    except Exception as e:\n",
    "        print(str(e))\n",
    "else:\n",
    "    \"\"\"\n",
    "    Description: call Model registration api to get unique model it and url to upload data, model and label\n",
    "    \"\"\"\n",
    "    model_registration_url = url + \"/model_registration/upload\"\n",
    "    model_registration_payload = {\n",
    "        'task_type':\"image_segmentation\",\n",
    "        \"analysis_type\": \"extraction\"\n",
    "    }\n",
    "\n",
    "    new_request = requests.request(method=\"POST\", url=model_registration_url, headers=headers, json=model_registration_payload)\n",
    "    status_cd = new_request.status_code\n",
    "    new_request = json.loads(new_request.text)\n",
    "    try:\n",
    "        if status_cd == 200:\n",
    "            model_id = new_request['data']['model_id']\n",
    "            data_upload_obj = new_request['data']['urls']['data_upload_url']\n",
    "            label_upload_obj = new_request['data']['urls']['label_upload_url']\n",
    "            model_upload_obj = new_request['data']['urls']['model_upload_url']\n",
    "        else:\n",
    "            print(new_request)\n",
    "        print('model_id: ', model_id)\n",
    "    except Exception as e:\n",
    "        print(new_request, str(e))"
   ]
  },
  {
   "cell_type": "markdown",
   "id": "8475dc38",
   "metadata": {
    "id": "8475dc38",
    "pycharm": {
     "name": "#%% md\n"
    }
   },
   "source": [
    "<img src=\"https://aisdocs.blob.core.windows.net/reference/Workflow Images/aw2.png\"/>"
   ]
  },
  {
   "cell_type": "markdown",
   "id": "c8769c47",
   "metadata": {
    "id": "c8769c47",
    "pycharm": {
     "name": "#%% md\n"
    }
   },
   "source": [
    "### 3.3 Upload input artifacts"
   ]
  },
  {
   "cell_type": "code",
   "execution_count": null,
   "id": "bcb368b4",
   "metadata": {
    "colab": {
     "base_uri": "https://localhost:8080/"
    },
    "execution": {
     "iopub.execute_input": "2023-06-05T18:28:27.409855Z",
     "iopub.status.busy": "2023-06-05T18:28:27.404436Z",
     "iopub.status.idle": "2023-06-05T18:28:37.206324Z",
     "shell.execute_reply": "2023-06-05T18:28:37.204157Z"
    },
    "hide_code": false,
    "id": "bcb368b4",
    "outputId": "74571744-8e4a-440a-e7d1-d1613e5a01ec",
    "pycharm": {
     "name": "#%%\n"
    }
   },
   "outputs": [
    {
     "name": "stdout",
     "output_type": "stream",
     "text": [
      "Upload status: data file upload successful, label file upload successful, model file upload successful\n"
     ]
    }
   ],
   "source": [
    "\"\"\"\n",
    "Description: Full File paths and upload input artifacts\n",
    "\"\"\"\n",
    "zip_path = 'zip/'\n",
    "data_path=os.path.join(zip_path,'data.zip') #full path of data zip\n",
    "label_path=os.path.join(zip_path,'label.zip') #full path of label zip\n",
    "# model_path=os.path.join(zip_path,'encrypt_model.zip') #full path of model zip, uncomment if model encryption is 1\n",
    "model_path=os.path.join(zip_path,'model.zip') #full path of model zip, uncomment if model encryption i\n",
    "if pypi:\n",
    "    #upload input artifacts\n",
    "    upload_status = aishield_client.upload_input_artifacts(job_details=model_registration_repsone,\n",
    "                                                  data_path=data_path,\n",
    "                                                  label_path=label_path,\n",
    "                                                  model_path=model_path, )\n",
    "    print('Upload status: {}'.format(', '.join(upload_status)))\n",
    "\n",
    "else:\n",
    "    def upload_file(upload_obj, file_path):\n",
    "\n",
    "        url = upload_obj['url']\n",
    "        request_payload = upload_obj['fields']\n",
    "        files=[\n",
    "                  ('file',(os.path.basename(file_path),open(file_path,'rb'),'application/zip'))\n",
    "                ]\n",
    "\n",
    "        headers = {}\n",
    "        new_request = requests.request(\"POST\", url, headers=headers, data=request_payload, files=files)\n",
    "        status_cd = new_request.status_code\n",
    "        if status_cd == 204:\n",
    "            status = 'upload sucessful'\n",
    "        else:\n",
    "            status = 'upload failed'\n",
    "        return status\n",
    "\n",
    "    \"\"\"\n",
    "    Description: Hit AIShield File Upload API\n",
    "    \"\"\"\n",
    "    data_upload_status = upload_file(data_upload_obj, data_path)\n",
    "    label_upload_status = upload_file(label_upload_obj, label_path)\n",
    "    model_upload_status = upload_file(model_upload_obj, model_path)\n",
    "    print('data_upload_status: ', data_upload_status)\n",
    "    print('label_upload_status: ', label_upload_status)\n",
    "    print('model_upload_status: ', model_upload_status)\n"
   ]
  },
  {
   "cell_type": "markdown",
   "id": "f705377c",
   "metadata": {
    "id": "f705377c",
    "pycharm": {
     "name": "#%% md\n"
    }
   },
   "source": [
    "<img src=\"https://aisdocs.blob.core.windows.net/reference/Workflow Images/aw3.png\"/>"
   ]
  },
  {
   "cell_type": "markdown",
   "id": "0758139d",
   "metadata": {
    "id": "0758139d",
    "pycharm": {
     "name": "#%% md\n"
    }
   },
   "source": [
    "### 3.4 Model Analysis"
   ]
  },
  {
   "cell_type": "code",
   "execution_count": null,
   "id": "251ad457",
   "metadata": {
    "colab": {
     "base_uri": "https://localhost:8080/"
    },
    "execution": {
     "iopub.execute_input": "2023-06-05T18:28:37.208991Z",
     "iopub.status.busy": "2023-06-05T18:28:37.208991Z",
     "iopub.status.idle": "2023-06-05T18:28:38.353099Z",
     "shell.execute_reply": "2023-06-05T18:28:38.349996Z"
    },
    "hide_code": false,
    "id": "251ad457",
    "outputId": "b0fe898e-e934-4b38-bc2f-3123a1f2e41a",
    "pycharm": {
     "name": "#%%\n"
    }
   },
   "outputs": [
    {
     "data": {
      "text/plain": [
       "'\\nDescription: Specify the appropriate configs required for vulnerability analysis and trigger model analysis\\n'"
      ]
     },
     "execution_count": 1,
     "metadata": {},
     "output_type": "execute_result"
    }
   ],
   "source": [
    "\"\"\"\n",
    "Description: Specify the appropriate configs required for vulnerability analysis and trigger model analysis\n",
    "\"\"\"\n",
    "\n",
    "\n",
    "if pypi:\n",
    "    vuln_config = ais.VulnConfig(task_type=task_type,\n",
    "                                 analysis_type=analysis_type,\n",
    "                                 defense_generate=True)\n",
    "\n",
    "    vuln_config.input_dimensions = input_shape  # input dimension for mnist digit classification\n",
    "    vuln_config.number_of_classes = num_classes  # number of classes for mnist digit classification\n",
    "    vuln_config.attack_type = \"greybox\"  # greybox or blackbox depending upon the availability of information about Model, Data and Parameters\n",
    "    vuln_config.number_of_attack_queries = 5000  # Number of attack queries to be generated for testing model vulnerability\n",
    "    vuln_config.encryption_strategy = model_encryption  # value 0 (or) 1, if model is unencrypted or encrypted(pyc) respectively\n",
    "    print('IS-Extraction parameters are: \\n {} '.format(vuln_config.get_all_params()))\n",
    "\n",
    "\n",
    "\n",
    "    #Run vulnerability analysis\n",
    "    job_status, job_details = aishield_client.vuln_analysis(model_id=model_registration_repsone.model_id, vuln_config=vuln_config)\n",
    "\n",
    "    #unique job_id for the analyis\n",
    "    job_id = job_details.job_id\n",
    "    print('\\nstatus: {} \\nJob_id: {} \\n'.format(job_status, job_id))\n",
    "\n",
    "    #Monitor progress for given Job ID using the Link below\n",
    "    print('Click on the URL to view Vulnerability Dashboard (GUI): {}'.format(job_details.job_dashboard_uri))\n",
    "\n",
    "\n",
    "else:\n",
    "\n",
    "    \"\"\"\n",
    "    Description: Payload for AIShield VulnerabilityReport api call\n",
    "    \"\"\"\n",
    "    payload={}\n",
    "    payload['use_model_api']=\"no\"\n",
    "    payload['model_api_details']=\"no\"\n",
    "    payload['normalize_data']=\"Yes\"\n",
    "    payload['input_dimensions']=str(input_shape)\n",
    "    payload['number_of_classes']=str(num_classes)\n",
    "    payload['attack_type']=\"blackbox\"\n",
    "    payload['number_of_attack_queries']=5000\n",
    "    payload['model_framework']='tensorflow'\n",
    "    payload['vulnerability_threshold']=\"0\"\n",
    "    payload['defense_bestonly']=\"no\"\n",
    "    payload['encryption_strategy']= model_encryption\n",
    "\n",
    "    print(\"IS-Extraction parameters are:\",payload)\n",
    "    \"\"\"\n",
    "    Description: Hit AIShield VulnerabilityReport api\n",
    "    \"\"\"\n",
    "    model_analysis_url = url + \"/model_analyse/{}\".format(model_id)\n",
    "    if data_upload_status == \"upload sucessful\" and model_upload_status == \"upload sucessful\" and label_upload_status == \"upload sucessful\":\n",
    "        new_request = requests.request(method=\"POST\", url=model_analysis_url, json=payload,headers=headers)\n",
    "        new_request=json.loads(new_request.text)\n",
    "        for k, v in new_request.items():\n",
    "            print(\"* {} : {}\".format(k,v))\n",
    "\n",
    "        job_id=new_request['job_id']\n"
   ]
  },
  {
   "cell_type": "markdown",
   "id": "78c6e269",
   "metadata": {
    "id": "78c6e269",
    "pycharm": {
     "name": "#%% md\n"
    }
   },
   "source": [
    "<img src=\"https://aisdocs.blob.core.windows.net/reference/Workflow Images/aw4.png\"/>"
   ]
  },
  {
   "cell_type": "markdown",
   "id": "f46c938b",
   "metadata": {
    "id": "f46c938b",
    "pycharm": {
     "name": "#%% md\n"
    }
   },
   "source": [
    "### 3.5 Monitor Analysis Status"
   ]
  },
  {
   "cell_type": "code",
   "execution_count": null,
   "id": "55003c2e",
   "metadata": {
    "colab": {
     "base_uri": "https://localhost:8080/",
     "height": 624
    },
    "execution": {
     "iopub.execute_input": "2023-06-05T18:28:38.360112Z",
     "iopub.status.busy": "2023-06-05T18:28:38.360112Z",
     "iopub.status.idle": "2023-06-05T18:33:26.590260Z",
     "shell.execute_reply": "2023-06-05T18:33:26.588183Z"
    },
    "hide_code": false,
    "id": "55003c2e",
    "outputId": "895b71d9-b53c-4d73-fd82-721e9ffe0bc7",
    "pycharm": {
     "name": "#%%\n"
    }
   },
   "outputs": [
    {
     "data": {
      "text/plain": [
       "'\\nDescription: Fetch Job status using Job ID\\n'"
      ]
     },
     "execution_count": 2,
     "metadata": {},
     "output_type": "execute_result"
    }
   ],
   "source": [
    "\"\"\"\n",
    "Description: Fetch Job status using Job ID\n",
    "\"\"\"\n",
    "\n",
    "if pypi:\n",
    "    status = aishield_client.job_status (job_id = job_id)\n",
    "    print('job status ', status)\n",
    "\n",
    "else:\n",
    "    def monitor_api_progress(new_job_id):\n",
    "        job_status_url = url + \"/job_status_detailed?job_id=\" + new_job_id\n",
    "\n",
    "        # status dictionary\n",
    "        status_dictionary = {\n",
    "            'ModelExploration_Status': 'na',\n",
    "            'SanityCheck_Status': 'na',\n",
    "            'QueryGenerator_Status': 'na',\n",
    "            'VunerabilityEngine_Status': 'na',\n",
    "            'DefenseReport_Status': 'na',\n",
    "        }\n",
    "        counts = [0] * len(status_dictionary)\n",
    "        failed_api_hit_count = 0\n",
    "        while True:\n",
    "            time.sleep(2)\n",
    "            try:\n",
    "                job_status_response = requests.request(\"GET\", job_status_url, params={},\n",
    "                                                       headers=headers)\n",
    "\n",
    "                job_status_payload = json.loads(job_status_response.text)\n",
    "                failing_key = 'ModelExploration_Status'\n",
    "                for i, key in enumerate(status_dictionary.keys()):\n",
    "                    if status_dictionary[key] == 'na':\n",
    "                        if job_status_payload[key] == 'inprogress' and status_dictionary[key] == 'na':\n",
    "                            status_dictionary[key] = job_status_payload[key]\n",
    "                            print(str(key), \":\", status_dictionary[key])\n",
    "\n",
    "                        elif job_status_payload[key] == 'completed' or job_status_payload[key] == 'passed':\n",
    "                            status_dictionary[key] = job_status_payload[key]\n",
    "                            counts[i] += 1\n",
    "                            print(str(key), \":\", status_dictionary[key])\n",
    "\n",
    "                        if job_status_payload[key] == 'failed':\n",
    "                            failing_key = key\n",
    "                            status_dictionary[key] = job_status_payload[key]\n",
    "                            print(str(key), \":\", status_dictionary[key])\n",
    "\n",
    "                    elif job_status_payload[key] == 'completed' or job_status_payload[key] == 'passed':\n",
    "                        status_dictionary[key] = job_status_payload[key]\n",
    "                        if counts[i] < 1:\n",
    "                            print(str(key), \":\", status_dictionary[key])\n",
    "                        counts[i] += 1\n",
    "\n",
    "                    else:\n",
    "                        if job_status_payload[key] == 'failed':\n",
    "                            failing_key = key\n",
    "                            status_dictionary[key] = job_status_payload[key]\n",
    "                            print(str(key), \":\", status_dictionary[key])\n",
    "\n",
    "                if job_status_payload[failing_key] == 'failed':\n",
    "                    break\n",
    "\n",
    "                if status_dictionary['VunerabilityEngine_Status'] == 'passed' or status_dictionary[\n",
    "                    'VunerabilityEngine_Status'] == 'completed' and job_status_payload[\n",
    "                    'CurrentStatus'] == \"Defense generation is not triggered\":\n",
    "                    print(\"\\n Vulnerability score {} failed to cross vulnerability threshold of {}\".format(\n",
    "                        job_status_payload['VulnerabiltyScore'], payload['vulnerability_threshold']))\n",
    "                    break\n",
    "                if job_status_payload['DefenseReport_Status'] == 'completed':\n",
    "                    break\n",
    "            except Exception as e:\n",
    "                failed_api_hit_count += 1\n",
    "                print(\"Error {}. trying {} ...\".format(str(e), failed_api_hit_count))\n",
    "                if failed_api_hit_count >= 3:\n",
    "                    break\n",
    "        return status_dictionary\n",
    "\n",
    "    status_dictionary = monitor_api_progress(new_job_id=job_id)"
   ]
  },
  {
   "cell_type": "markdown",
   "id": "066faf3e",
   "metadata": {
    "id": "066faf3e",
    "pycharm": {
     "name": "#%% md\n"
    }
   },
   "source": [
    "<img src=\"https://aisdocs.blob.core.windows.net/reference/Workflow Images/aw5.png\"/>"
   ]
  },
  {
   "cell_type": "markdown",
   "id": "0f27f7b1",
   "metadata": {
    "id": "0f27f7b1",
    "pycharm": {
     "name": "#%% md\n"
    }
   },
   "source": [
    "### 3.6 Download Reports and artifacts"
   ]
  },
  {
   "cell_type": "code",
   "execution_count": null,
   "id": "56bd0d06",
   "metadata": {
    "execution": {
     "iopub.execute_input": "2023-06-05T18:33:26.599519Z",
     "iopub.status.busy": "2023-06-05T18:33:26.598522Z",
     "iopub.status.idle": "2023-06-05T18:33:26.617593Z",
     "shell.execute_reply": "2023-06-05T18:33:26.615601Z"
    },
    "id": "56bd0d06",
    "pycharm": {
     "name": "#%%\n"
    }
   },
   "outputs": [],
   "source": [
    "report_path = \"reports/\"\n",
    "status =\"success\""
   ]
  },
  {
   "cell_type": "code",
   "execution_count": null,
   "id": "6c8428ff",
   "metadata": {
    "id": "6c8428ff",
    "pycharm": {
     "name": "#%%\n"
    }
   },
   "outputs": [],
   "source": [
    "def download_artifact(job_id, report_path, report_type='Vulnerability', file_format=0):\n",
    "    \"\"\"\n",
    "    job_id: job_id  received after successful api call\n",
    "    report_type: report to be downloaded\n",
    "    file_format: change file_format to : 0- all report in zip\n",
    "                        1- report in .txt\n",
    "                        2- report in .pdf\n",
    "                        3- report in .json\n",
    "                        4- report in .xml\n",
    "    \"\"\"\n",
    "    print(\"received report_type : {} and file format is: {}\".format(report_type, file_format))\n",
    "    report_url = url + \"/\" + \"get_report?job_id=\" + str(\n",
    "        job_id) + \"&report_type=\" + report_type + \"&file_format=\" + str(file_format)\n",
    "\n",
    "    headers1 = headers\n",
    "    headers1[\"content-type\"] = \"application/zip\"\n",
    "\n",
    "    response = requests.request(\"GET\", report_url, params={}, headers=headers1)\n",
    "\n",
    "    file_path = None\n",
    "    if file_format == 0 or file_format == \"Attack_samples\":\n",
    "        file_path=os.path.join(report_path, report_type + \".zip\")\n",
    "        with open(file_path, 'wb') as f:\n",
    "            f.write(response.content)\n",
    "\n",
    "    elif file_format == 1:\n",
    "        file_path=os.path.join(report_path, report_type + \".txt\")\n",
    "        with open(file_path, 'wb') as f:\n",
    "            f.write(response.content)\n",
    "\n",
    "    elif file_format == 2:\n",
    "        file_path=os.path.join(report_path, report_type + \".pdf\")\n",
    "        with open(file_path, 'wb') as f:\n",
    "            f.write(response.content)\n",
    "\n",
    "    elif file_format == 3:\n",
    "        file_path=os.path.join(report_path, report_type + \".json\")\n",
    "        with open(file_path, 'wb') as f:\n",
    "            f.write(response.content)\n",
    "\n",
    "    elif file_format == 4:\n",
    "        file_path=os.path.join(report_path, report_type + \".xml\")\n",
    "        with open(file_path, 'wb') as f:\n",
    "            f.write(response.content)\n",
    "\n",
    "    return file_path"
   ]
  },
  {
   "cell_type": "code",
   "execution_count": null,
   "id": "ce56da2b",
   "metadata": {
    "execution": {
     "iopub.execute_input": "2023-06-05T18:33:26.623599Z",
     "iopub.status.busy": "2023-06-05T18:33:26.622603Z",
     "iopub.status.idle": "2023-06-05T18:33:29.924086Z",
     "shell.execute_reply": "2023-06-05T18:33:29.922601Z"
    },
    "hide_code": false,
    "id": "ce56da2b",
    "pycharm": {
     "name": "#%%\n"
    }
   },
   "outputs": [],
   "source": [
    "\"\"\"\n",
    "Description: Download the Defense Reports\n",
    "\"\"\"\n",
    "\n",
    "if pypi:\n",
    "    if status == \"success\":\n",
    "        output_conf = ais.OutputConf(report_type=ais.get_type(\"report\", \"vulnerability\"),\n",
    "                                     file_format=ais.get_type(\"file_format\", \"pdf\"),\n",
    "                                     save_folder_path=report_path)\n",
    "\n",
    "        vul_report = aishield_client.save_job_report(job_id=job_id, output_config=output_conf)\n",
    "\n",
    "else:\n",
    "\n",
    "    vul_report = download_artifact(job_id=job_id, report_path= report_path, report_type='Vulnerability', file_format=2)"
   ]
  },
  {
   "cell_type": "code",
   "execution_count": null,
   "id": "094f5a93",
   "metadata": {
    "execution": {
     "iopub.execute_input": "2023-06-05T18:33:29.927533Z",
     "iopub.status.busy": "2023-06-05T18:33:29.927533Z",
     "iopub.status.idle": "2023-06-05T18:33:30.753174Z",
     "shell.execute_reply": "2023-06-05T18:33:30.751183Z"
    },
    "hide_code": false,
    "id": "094f5a93",
    "pycharm": {
     "name": "#%%\n"
    }
   },
   "outputs": [],
   "source": [
    "\"\"\"\n",
    "Description: Download the Defense Reports\n",
    "\"\"\"\n",
    "if pypi:\n",
    "    if status == \"success\":\n",
    "        output_conf = ais.OutputConf(report_type=ais.get_type(\"report\", \"defense\"),\n",
    "                                     file_format=ais.get_type(\"file_format\", \"pdf\"),\n",
    "                                     save_folder_path=report_path)\n",
    "\n",
    "        def_report = aishield_client.save_job_report(job_id=job_id, output_config=output_conf)\n",
    "\n",
    "else:\n",
    "    def_report = download_artifact(job_id=job_id, report_path= report_path, report_type='Defense', file_format=2)"
   ]
  },
  {
   "cell_type": "code",
   "execution_count": null,
   "id": "6dda4e59",
   "metadata": {
    "execution": {
     "iopub.execute_input": "2023-06-05T18:33:30.755901Z",
     "iopub.status.busy": "2023-06-05T18:33:30.755901Z",
     "iopub.status.idle": "2023-06-05T18:33:31.600939Z",
     "shell.execute_reply": "2023-06-05T18:33:31.598946Z"
    },
    "hide_code": false,
    "id": "6dda4e59",
    "pycharm": {
     "name": "#%%\n"
    }
   },
   "outputs": [],
   "source": [
    "\"\"\"\n",
    "Description: Download the Defense artifacts: Model\n",
    "\"\"\"\n",
    "\n",
    "if pypi:\n",
    "    if status == \"success\":\n",
    "        output_conf = ais.OutputConf(report_type=ais.get_type(\"report\", \"defense_artifact\"),\n",
    "                                     file_format=ais.get_type(\"file_format\", \"pdf\"),\n",
    "                                     save_folder_path=report_path)\n",
    "\n",
    "        def_artifact_report = aishield_client.save_job_report(job_id=job_id, output_config=output_conf)\n",
    "\n",
    "else:\n",
    "    def_artifact_report = download_artifact(job_id=job_id, report_path= report_path, report_type='Defense_artifact', file_format=0)"
   ]
  },
  {
   "cell_type": "code",
   "execution_count": null,
   "id": "77c57373",
   "metadata": {
    "execution": {
     "iopub.execute_input": "2023-06-05T18:33:31.607651Z",
     "iopub.status.busy": "2023-06-05T18:33:31.607651Z",
     "iopub.status.idle": "2023-06-05T18:33:32.603112Z",
     "shell.execute_reply": "2023-06-05T18:33:32.600361Z"
    },
    "hide_code": false,
    "id": "77c57373",
    "pycharm": {
     "name": "#%%\n"
    }
   },
   "outputs": [],
   "source": [
    "\"\"\"\n",
    "Description: Download the Attack Samples\n",
    "\"\"\"\n",
    "if pypi:\n",
    "    if status == \"success\":\n",
    "        output_conf = ais.OutputConf(report_type=ais.get_type(\"report\", \"attack_samples\"),\n",
    "                                     save_folder_path=report_path)\n",
    "\n",
    "        attack_report = aishield_client.save_job_report(job_id=job_id, output_config=output_conf)\n",
    "\n",
    "else:\n",
    "    attack_report = download_artifact(job_id=job_id, report_path= report_path, report_type='Attack_samples', file_format=0)"
   ]
  },
  {
   "cell_type": "code",
   "execution_count": null,
   "id": "Odv5kzeYFTOZ",
   "metadata": {
    "execution": {
     "iopub.execute_input": "2023-06-05T18:33:32.606419Z",
     "iopub.status.busy": "2023-06-05T18:33:32.606419Z",
     "iopub.status.idle": "2023-06-05T18:33:32.645220Z",
     "shell.execute_reply": "2023-06-05T18:33:32.644077Z"
    },
    "hide_code": false,
    "id": "Odv5kzeYFTOZ",
    "pycharm": {
     "name": "#%%\n"
    }
   },
   "outputs": [],
   "source": [
    "\n",
    "def get_file_id(report_path):\n",
    "\n",
    "    file_id = None\n",
    "    !pip install --upgrade google-api-python-client google-auth-httplib2 google-auth-oauthlib\n",
    "\n",
    "    # from google.colab import drive\n",
    "    # drive.mount('/content/drive')\n",
    "    import os\n",
    "    from googleapiclient.discovery import build\n",
    "    from googleapiclient.http import MediaFileUpload\n",
    "\n",
    "    # Authenticate and authorize access to the Google Drive API\n",
    "    from google.colab import auth\n",
    "    auth.authenticate_user()\n",
    "\n",
    "    # Build the Drive API service\n",
    "    drive_service = build('drive', 'v3')\n",
    "\n",
    "    # Path to the PDF file in your local drive\n",
    "#         local_pdf_path = '/content/drive/MyDrive/Vulnerability.pdf'\n",
    "\n",
    "    # Upload the PDF file to Google Drive\n",
    "    pdf_file_name = os.path.basename(report_path)\n",
    "    file_metadata = {'name': pdf_file_name}\n",
    "    media = MediaFileUpload(report_path, mimetype='application/pdf')\n",
    "    file = drive_service.files().create(body=file_metadata, media_body=media, fields='id').execute()\n",
    "\n",
    "    # Set sharing permissions to \"Anyone with the link\"\n",
    "    file_id = file.get('id')\n",
    "    drive_service.permissions().create(\n",
    "        fileId=file_id,\n",
    "        body={'role': 'reader', 'type': 'anyone'}\n",
    "    ).execute()\n",
    "\n",
    "    return file_id"
   ]
  },
  {
   "cell_type": "code",
   "execution_count": null,
   "id": "6f2c29ad",
   "metadata": {
    "execution": {
     "iopub.execute_input": "2023-06-05T18:33:32.652937Z",
     "iopub.status.busy": "2023-06-05T18:33:32.652937Z",
     "iopub.status.idle": "2023-06-05T18:33:32.679968Z",
     "shell.execute_reply": "2023-06-05T18:33:32.678696Z"
    },
    "hide_code": false,
    "id": "6f2c29ad",
    "pycharm": {
     "name": "#%%\n"
    }
   },
   "outputs": [],
   "source": [
    "\"\"\"\n",
    "Description: Displaying the current Vulnerability Assement report\n",
    "\"\"\"\n",
    "\n",
    "if (\"colab\" in runtime_environment.lower()):\n",
    "    file_id = get_file_id(report_path = vul_report)\n",
    "    display_pdf(output_filename = \"vul_\"+job_id[-10:],runtime_environment=runtime_environment,file_id=file_id)\n",
    "else:\n",
    "    display_pdf(output_filename = \"vul_\"+job_id[-10:],runtime_environment=runtime_environment, pdf_path =os.path.join(report_path, os.path.basename(vul_report)))"
   ]
  },
  {
   "cell_type": "code",
   "execution_count": null,
   "id": "f67ff9a4",
   "metadata": {
    "hide_code": true,
    "id": "f67ff9a4",
    "pycharm": {
     "name": "#%%\n"
    }
   },
   "outputs": [],
   "source": [
    "\"\"\"\n",
    "Description: Displaying the current Defense Assement report\n",
    "\"\"\"\n",
    "\n",
    "if (\"colab\" in runtime_environment.lower()):\n",
    "    file_id = get_file_id(report_path = def_report)\n",
    "    display_pdf(output_filename = \"Defense_\"+job_id[-10:],runtime_environment=runtime_environment,file_id=file_id)\n",
    "else:\n",
    "    display_pdf(output_filename = \"Defense_\"+job_id[-10:],runtime_environment=runtime_environment, pdf_path =os.path.join(report_path, os.path.basename(def_report)))"
   ]
  },
  {
   "cell_type": "markdown",
   "id": "d3b6693e",
   "metadata": {
    "id": "d3b6693e",
    "pycharm": {
     "name": "#%% md\n"
    }
   },
   "source": [
    "<img src=\"https://aisdocs.blob.core.windows.net/reference/Workflow Images/aw6.png\"/>"
   ]
  },
  {
   "cell_type": "markdown",
   "id": "c450fbca",
   "metadata": {
    "id": "c450fbca",
    "pycharm": {
     "name": "#%% md\n"
    }
   },
   "source": [
    "### After conducting a Vulnerability Analysis by AIshield, if a defense recommendation is identified, then following actions can be taken:\n",
    "\n",
    "1. **Model Retraining:** It is advised to retrain the original model to enhance its robustness. By revisiting the training process and incorporating the insights gained from the vulnerability analysis, the model can be improved to better handle potential threats and mitigate vulnerabilities.\n",
    "\n",
    "\n",
    "2. **Deploying Threat-Informed Defense Model:** In addition to the original model, AIshield provides a specialized defense model that is specifically designed to address the identified threats. This threat-informed defense model can be deployed alongside the original model to provide an additional layer of protection and enhance the overall security posture. By leveraging the insights gained from the vulnerability analysis, the defense model offers targeted defenses against potential threats."
   ]
  },
  {
   "cell_type": "code",
   "execution_count": null,
   "id": "588b21f8",
   "metadata": {
    "id": "588b21f8",
    "pycharm": {
     "name": "#%%\n"
    }
   },
   "outputs": [],
   "source": []
  }
 ],
 "metadata": {
  "accelerator": "GPU",
  "codeState": [
   "",
   "",
   "",
   "none",
   "none",
   "none",
   "none",
   "none",
   "none",
   "none",
   "",
   "none",
   "none",
   "",
   "",
   "",
   "",
   "",
   "none",
   "",
   "",
   "none",
   "",
   "",
   "",
   "",
   "",
   "",
   "",
   "",
   "",
   "",
   "",
   "",
   "none",
   "",
   ""
  ],
  "colab": {
   "gpuType": "T4",
   "provenance": []
  },
  "custom_metadata": {
   "show_hide_code": true
  },
  "kernelspec": {
   "display_name": "Python 3 (ipykernel)",
   "language": "python",
   "name": "python3"
  },
  "language_info": {
   "codemirror_mode": {
    "name": "ipython",
    "version": 3
   },
   "file_extension": ".py",
   "mimetype": "text/x-python",
   "name": "python",
   "nbconvert_exporter": "python",
   "pygments_lexer": "ipython3",
   "version": "3.10.13"
  }
 },
 "nbformat": 4,
 "nbformat_minor": 5
}
