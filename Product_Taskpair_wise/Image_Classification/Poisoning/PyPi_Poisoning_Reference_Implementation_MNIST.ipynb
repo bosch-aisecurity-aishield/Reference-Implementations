{
 "cells": [
  {
   "cell_type": "markdown",
   "id": "1d3f55a9",
   "metadata": {
    "id": "1d3f55a9"
   },
   "source": [
    "# Vulnerability Analysis and Defense Generation using AIShield SDK\n",
    "* <b>File Name</b>                          : PyPi_Poisoning_Reference Implementation_MNIST\n",
    "* <b>Date of creation(dd-mm-yyyy)</b>       : 21-01-2023\n",
    "* <b>Author Name/Dept</b>                   : AIShield\n",
    "* <b>Organization</b>                       : BGSW\n",
    "* <b>Description</b>                        : Source Code of reference implementation\n",
    "* <b>Copyright</b>                          : Copyright 2022 Bosch Global Software Technologies Private Limited. All Rights Reserved.\n",
    "\n",
    "### Input\n",
    "This Example does the following:\n",
    "* Downloads the MNIST-Dataset from Tensorflow-Datasets\n",
    "* Trains two Tensorflow Models(as clean models) for Image Classification on the MNIST Dataset\n",
    "* Creates some poisoned data and trains another tensorflow model(as poisoned model). This will be under test to analyze if model is poisoned\n",
    "\n",
    "### Output and Artifacts\n",
    "1. Vulnerability report"
   ]
  },
  {
   "cell_type": "code",
   "execution_count": null,
   "id": "d9905a68",
   "metadata": {},
   "outputs": [],
   "source": [
    "<a target=\"_blank\" href=\"https://colab.research.google.com/github/bosch-aisecurity-aishield/Reference-Implementations/blob/main/Product_Taskpair_wise/Image_Classification/Poisoning/PyPi_Poisoning_Reference_Implementation_MNIST.ipynb\">\n",
    "  <img src=\"https://colab.research.google.com/assets/colab-badge.svg\" alt=\"Open In Colab\"/>\n",
    "</a>\n"
   ]
  },
  {
   "cell_type": "code",
   "execution_count": null,
   "id": "d4ac8b5e",
   "metadata": {
    "id": "d4ac8b5e"
   },
   "outputs": [],
   "source": [
    "# # Install AIShield SDK.\n",
    "# # If not already installed, install by uncommenting the code below\n",
    "\n",
    "# !pip install aishield"
   ]
  },
  {
   "cell_type": "markdown",
   "id": "4a0d3a29",
   "metadata": {
    "id": "4a0d3a29"
   },
   "source": [
    "# 1.0 Install and Import Libraries"
   ]
  },
  {
   "cell_type": "code",
   "execution_count": null,
   "id": "1296ad1a",
   "metadata": {
    "colab": {
     "base_uri": "https://localhost:8080/",
     "height": 401
    },
    "id": "1296ad1a",
    "outputId": "fa3e5913-1c30-4e6a-a25f-ff6a0907f8c8"
   },
   "outputs": [
    {
     "name": "stdout",
     "output_type": "stream",
     "text": [
      "Looking in indexes: https://pypi.org/simple, https://us-python.pkg.dev/colab-wheels/public/simple/\n",
      "Collecting matplotlib==3.1.3\n",
      "  Downloading matplotlib-3.1.3-cp38-cp38-manylinux1_x86_64.whl (13.1 MB)\n",
      "\u001b[2K     \u001b[90m━━━━━━━━━━━━━━━━━━━━━━━━━━━━━━━━━━━━━━━━\u001b[0m \u001b[32m13.1/13.1 MB\u001b[0m \u001b[31m29.1 MB/s\u001b[0m eta \u001b[36m0:00:00\u001b[0m\n",
      "\u001b[?25hRequirement already satisfied: kiwisolver>=1.0.1 in /usr/local/lib/python3.8/dist-packages (from matplotlib==3.1.3) (1.4.4)\n",
      "Requirement already satisfied: cycler>=0.10 in /usr/local/lib/python3.8/dist-packages (from matplotlib==3.1.3) (0.11.0)\n",
      "Requirement already satisfied: python-dateutil>=2.1 in /usr/local/lib/python3.8/dist-packages (from matplotlib==3.1.3) (2.8.2)\n",
      "Requirement already satisfied: pyparsing!=2.0.4,!=2.1.2,!=2.1.6,>=2.0.1 in /usr/local/lib/python3.8/dist-packages (from matplotlib==3.1.3) (3.0.9)\n",
      "Requirement already satisfied: numpy>=1.11 in /usr/local/lib/python3.8/dist-packages (from matplotlib==3.1.3) (1.22.0)\n",
      "Requirement already satisfied: six>=1.5 in /usr/local/lib/python3.8/dist-packages (from python-dateutil>=2.1->matplotlib==3.1.3) (1.15.0)\n",
      "Installing collected packages: matplotlib\n",
      "  Attempting uninstall: matplotlib\n",
      "    Found existing installation: matplotlib 3.5.1\n",
      "    Uninstalling matplotlib-3.5.1:\n",
      "      Successfully uninstalled matplotlib-3.5.1\n",
      "Successfully installed matplotlib-3.1.3\n"
     ]
    },
    {
     "data": {
      "application/vnd.colab-display-data+json": {
       "pip_warning": {
        "packages": [
         "matplotlib",
         "mpl_toolkits"
        ]
       }
      }
     },
     "metadata": {},
     "output_type": "display_data"
    }
   ],
   "source": [
    "\"\"\"\n",
    "Description: commands to install all the packages, remove comments to install all the libraries\n",
    "Known issue: In colab, if get matplotlib error: cannot import name '_png' from 'matplotlib'. Use !pip install matplotlib==3.1.3\n",
    "\"\"\"\n",
    "# !pip install numpy==1.22\n",
    "# !pip install pandas==1.1.5\n",
    "# !pip install matplotlib==3.5.1\n",
    "# !pip install tensorflow==2.9.1\n",
    "# !pip install scikit-learn==1.0.2\n",
    "# !pip install requests==2.28.0\n",
    "# !pip install zipp==3.7.0\n",
    "# !pip install opencv-python"
   ]
  },
  {
   "cell_type": "code",
   "execution_count": null,
   "id": "cc74dc64",
   "metadata": {
    "id": "cc74dc64"
   },
   "outputs": [],
   "source": [
    "\"\"\"\n",
    "Description: Import libraries\n",
    "\"\"\"\n",
    "\n",
    "import os\n",
    "import cv2\n",
    "import json\n",
    "import time\n",
    "import shutil\n",
    "import copy\n",
    "import zipfile \n",
    "import random\n",
    "import requests\n",
    "import numpy as np\n",
    "import tensorflow as tf\n",
    "import pandas as pd\n",
    "from tensorflow import keras\n",
    "import matplotlib.pyplot as plt\n",
    "from tensorflow.keras import datasets, layers, optimizers , Sequential\n",
    "from sklearn.model_selection import train_test_split\n",
    "\n",
    "#importing AIShield Library\n",
    "import aishield as ais"
   ]
  },
  {
   "cell_type": "markdown",
   "id": "f33a502f",
   "metadata": {
    "id": "f33a502f"
   },
   "source": [
    "# 2.0 Data Loading and Preprocessing"
   ]
  },
  {
   "cell_type": "code",
   "execution_count": null,
   "id": "481a3868",
   "metadata": {
    "id": "481a3868"
   },
   "outputs": [],
   "source": [
    "'''\n",
    "Description : Loading mnist dataset\n",
    "'''\n",
    "(X_train,y_train),(X_test,y_test)=datasets.mnist.load_data()"
   ]
  },
  {
   "cell_type": "code",
   "execution_count": null,
   "id": "2cc5aa49",
   "metadata": {
    "id": "2cc5aa49"
   },
   "outputs": [],
   "source": [
    "'''\n",
    "Description : Splitting data for validation\n",
    "'''\n",
    "X_train, X_val, y_train, y_val = train_test_split(X_train,y_train,stratify = y_train,test_size = 0.1,random_state = 42)"
   ]
  },
  {
   "cell_type": "code",
   "execution_count": null,
   "id": "c4a7b749",
   "metadata": {
    "colab": {
     "base_uri": "https://localhost:8080/"
    },
    "id": "c4a7b749",
    "outputId": "0ad628ac-c4ea-40ad-fadc-058d19d6c102"
   },
   "outputs": [
    {
     "name": "stdout",
     "output_type": "stream",
     "text": [
      "shape of x_train:  (54000, 28, 28)\n",
      "shape of y_train: (54000,)\n",
      "shape of x_test: (10000, 28, 28)\n",
      "shape of y_test: (10000,)\n",
      "shape of x_val: (6000, 28, 28)\n",
      "shape of y_val: (6000,)\n"
     ]
    }
   ],
   "source": [
    "'''\n",
    "Description : Check size of dataset\n",
    "'''\n",
    "print(\"shape of x_train: \",X_train.shape)\n",
    "print(\"shape of y_train: {}\".format(y_train.shape))\n",
    "print(f'shape of x_test: {X_test.shape}')\n",
    "print(f'shape of y_test: {y_test.shape}')\n",
    "print(f'shape of x_val: {X_val.shape}')\n",
    "print(f'shape of y_val: {y_val.shape}')"
   ]
  },
  {
   "cell_type": "code",
   "execution_count": null,
   "id": "fabab1ef",
   "metadata": {
    "colab": {
     "base_uri": "https://localhost:8080/",
     "height": 657
    },
    "id": "fabab1ef",
    "outputId": "c89150d9-e653-45cc-9a36-d8e5c501891a"
   },
   "outputs": [
    {
     "data": {
      "image/png": "[encoded data removed]",
      "text/plain": [
       "<Figure size 864x648 with 25 Axes>"
      ]
     },
     "metadata": {
      "needs_background": "light"
     },
     "output_type": "display_data"
    }
   ],
   "source": [
    "'''\n",
    "Description: Visualize few random data sample\n",
    "'''\n",
    "rows=5\n",
    "\n",
    "random_indices=random.sample(range(X_train.shape[0]),rows*rows)\n",
    "sample_images=X_train[random_indices,:]\n",
    "sample_labels=y_train[random_indices]\n",
    "\n",
    "fig,axs=plt.subplots(nrows=rows,ncols=rows,figsize=(12,9),sharex=True,sharey=True)\n",
    "for i in range(rows*rows):\n",
    "    subplot_row=i // rows\n",
    "    subplot_col=i % rows\n",
    "    axs[subplot_row,subplot_col].imshow(sample_images[i,:])\n",
    "    axs[subplot_row,subplot_col].set_title(\"Label. %d\" % sample_labels[i])\n",
    "plt.tight_layout()"
   ]
  },
  {
   "cell_type": "code",
   "execution_count": null,
   "id": "4565de7a",
   "metadata": {
    "id": "4565de7a"
   },
   "outputs": [],
   "source": [
    "'''\n",
    "Description : Set num_classes and input shape \n",
    "'''\n",
    "img_row,img_col,channel=28,28,1\n",
    "num_classes=10\n",
    "input_shape=(img_row,img_col,channel)"
   ]
  },
  {
   "cell_type": "code",
   "execution_count": null,
   "id": "eae8390e",
   "metadata": {
    "id": "eae8390e"
   },
   "outputs": [],
   "source": [
    "\"\"\"\n",
    "Description: Normalizing and reshaping the data\n",
    "\"\"\"\n",
    "X_train = X_train.reshape(-1,*input_shape)/255.0\n",
    "X_val =  X_val.reshape(-1,*input_shape)/255.0\n",
    "X_test =  X_test.reshape(-1,*input_shape)/255.0"
   ]
  },
  {
   "cell_type": "code",
   "execution_count": null,
   "id": "8d3d8890",
   "metadata": {
    "id": "8d3d8890"
   },
   "outputs": [],
   "source": [
    "\"\"\"\n",
    "Description : Convert label to one hot encoder\n",
    "\"\"\"\n",
    "y_train=keras.utils.to_categorical(y_train,num_classes)\n",
    "y_test=keras.utils.to_categorical(y_test,num_classes)\n"
   ]
  },
  {
   "cell_type": "markdown",
   "id": "c0d03471",
   "metadata": {
    "id": "c0d03471"
   },
   "source": [
    "# 3.0 Model Development and Training\n"
   ]
  },
  {
   "cell_type": "code",
   "execution_count": null,
   "id": "4c7f5b7e",
   "metadata": {
    "id": "4c7f5b7e"
   },
   "outputs": [],
   "source": [
    "def make_directory(directory):\n",
    "    \"\"\"\n",
    "    create directory\n",
    "\n",
    "    Parameters\n",
    "    ----------\n",
    "    directorys : list containing the directorys path to create \n",
    "    Returns\n",
    "    -------\n",
    "    None.\n",
    "\n",
    "    \"\"\"\n",
    "    for d in directory:\n",
    "        if os.path.isdir(d):\n",
    "            print(\"directory {} already exist\".format(d))\n",
    "        if os.path.isdir(d)==False:\n",
    "            os.mkdir(path=d)\n",
    "            print(\"directory {} created successfully\".format(d))"
   ]
  },
  {
   "cell_type": "code",
   "execution_count": null,
   "id": "994cdce8",
   "metadata": {
    "id": "994cdce8"
   },
   "outputs": [],
   "source": [
    "def delete_directory(directorys):\n",
    "    \"\"\"\n",
    "    delete directory \n",
    "\n",
    "    Parameters\n",
    "    ----------\n",
    "    directorys : list containing the directorys to deleate along with all the files\n",
    "\n",
    "    Returns\n",
    "    -------\n",
    "    None.\n",
    "\n",
    "    \"\"\"\n",
    "    if len(directorys)>=1:\n",
    "        for d in directorys:\n",
    "            if os.path.isdir(d):\n",
    "                try:\n",
    "                    if os.path.isfile(d):\n",
    "                        os.remove(path=d)\n",
    "                    else:\n",
    "                        shutil.rmtree(path=d)\n",
    "                        print(\"Removed: {}\".format(d))\n",
    "                except:\n",
    "                    print(\"Failed to removed: {}\".format(d))\n",
    "            else:\n",
    "                print(\"Failed to removed: {}\".format(d))\n",
    "                "
   ]
  },
  {
   "cell_type": "code",
   "execution_count": null,
   "id": "ccdf2179",
   "metadata": {
    "id": "ccdf2179"
   },
   "outputs": [],
   "source": [
    "def make_archive(base_name,root_dir,base_dir = \"\",zip_format='zip', is_dir=False):\n",
    "    \"\"\"\n",
    "    created zip for given folder\n",
    "\n",
    "    Parameters\n",
    "    ----------\n",
    "    base_name : name of zip file\n",
    "    root_dir : directory to archive/zip\n",
    "    zip_format : zip or tar \n",
    "        DESCRIPTION. The default is 'zip'.\n",
    "\n",
    "    Returns\n",
    "    -------\n",
    "    None.\n",
    "\n",
    "    \"\"\"\n",
    "    if is_dir:\n",
    "        shutil.make_archive(base_name=base_name, format=zip_format, root_dir=root_dir, base_dir = base_dir)\n",
    "    else:\n",
    "        shutil.make_archive(base_name=base_name, format=zip_format, root_dir=root_dir)\n",
    "    "
   ]
  },
  {
   "cell_type": "code",
   "execution_count": null,
   "id": "54d3de48",
   "metadata": {
    "colab": {
     "base_uri": "https://localhost:8080/"
    },
    "id": "54d3de48",
    "outputId": "d4250b81-d198-42c4-d601-5212f0e616d7"
   },
   "outputs": [
    {
     "name": "stdout",
     "output_type": "stream",
     "text": [
      "Removed: /content/val_data\n",
      "Removed: /content/clean_model1\n",
      "Removed: /content/clean_model2\n",
      "Removed: /content/fine_tuned_model\n",
      "Removed: /content/val_label\n",
      "Removed: /content/reports\n",
      "directory /content/val_data created successfully\n",
      "directory /content/clean_model1 created successfully\n",
      "directory /content/clean_model2 created successfully\n",
      "directory /content/fine_tuned_model created successfully\n",
      "directory /content/val_label created successfully\n",
      "directory /content/reports created successfully\n",
      "directory /content/val_data/val_data created successfully\n"
     ]
    }
   ],
   "source": [
    "\"\"\"\n",
    "Description : Create data, model and label folder\n",
    "\"\"\"\n",
    "val_data_path=os.path.join(os.getcwd(),\"val_data\")\n",
    "clean_model1_path=os.path.join(os.getcwd(),\"clean_model1\")\n",
    "clean_model2_path=os.path.join(os.getcwd(),\"clean_model2\")\n",
    "fine_tuned_model_path=os.path.join(os.getcwd(),\"fine_tuned_model\")\n",
    "val_label_path=os.path.join(os.getcwd(),\"val_label\")\n",
    "report_path = os.path.join(os.getcwd(), \"reports\")\n",
    "\n",
    "#deleting folder\n",
    "delete_directory(directorys=[val_data_path,clean_model1_path,clean_model2_path,fine_tuned_model_path,val_label_path,report_path])\n",
    "\n",
    "#creating folder\n",
    "make_directory([val_data_path,clean_model1_path,clean_model2_path,fine_tuned_model_path,val_label_path,report_path])\n",
    "\n",
    "# # create sub folder\n",
    "val_data_path_new = os.path.join(val_data_path,\"val_data\")\n",
    "make_directory([val_data_path_new])"
   ]
  },
  {
   "cell_type": "code",
   "execution_count": null,
   "id": "49e52a7f",
   "metadata": {
    "id": "49e52a7f"
   },
   "outputs": [],
   "source": [
    "\"\"\"\n",
    "Description: Create model architecture\n",
    "\"\"\"\n",
    "def create_model():\n",
    "    model = Sequential([\n",
    "        layers.Conv2D(32, (5,5), padding='same', activation='relu', input_shape=input_shape),\n",
    "        layers.Conv2D(32, (5,5), padding='same', activation='relu'),\n",
    "        layers.MaxPool2D(),\n",
    "        layers.Dropout(0.25),\n",
    "        layers.Conv2D(64, (3,3), padding='same', activation='relu'),\n",
    "        layers.Conv2D(64, (3,3), padding='same', activation='relu'),\n",
    "        layers.MaxPool2D(strides=(2,2)),\n",
    "        layers.Dropout(0.25),\n",
    "        layers.Flatten(),\n",
    "        layers.Dense(128, activation='relu'),\n",
    "        layers.Dropout(0.5),\n",
    "        layers.Dense(num_classes, activation='softmax')  \n",
    "    ])\n",
    "\n",
    "\n",
    "    #Compile model\n",
    "    model.compile(optimizer=optimizers.Adam(learning_rate=1e-3), loss = 'categorical_crossentropy', metrics=['accuracy'])\n",
    "    \n",
    "    return model"
   ]
  },
  {
   "cell_type": "markdown",
   "id": "7da0bb57",
   "metadata": {
    "id": "7da0bb57"
   },
   "source": [
    "## 3.1 Clean Model 1"
   ]
  },
  {
   "cell_type": "code",
   "execution_count": null,
   "id": "217a153d",
   "metadata": {
    "colab": {
     "base_uri": "https://localhost:8080/"
    },
    "id": "217a153d",
    "outputId": "e3ee293e-5223-4376-bf39-8314508e8d5b"
   },
   "outputs": [
    {
     "name": "stdout",
     "output_type": "stream",
     "text": [
      "Model: \"sequential\"\n",
      "_________________________________________________________________\n",
      " Layer (type)                Output Shape              Param #   \n",
      "=================================================================\n",
      " conv2d (Conv2D)             (None, 28, 28, 32)        832       \n",
      "                                                                 \n",
      " conv2d_1 (Conv2D)           (None, 28, 28, 32)        25632     \n",
      "                                                                 \n",
      " max_pooling2d (MaxPooling2D  (None, 14, 14, 32)       0         \n",
      " )                                                               \n",
      "                                                                 \n",
      " dropout (Dropout)           (None, 14, 14, 32)        0         \n",
      "                                                                 \n",
      " conv2d_2 (Conv2D)           (None, 14, 14, 64)        18496     \n",
      "                                                                 \n",
      " conv2d_3 (Conv2D)           (None, 14, 14, 64)        36928     \n",
      "                                                                 \n",
      " max_pooling2d_1 (MaxPooling  (None, 7, 7, 64)         0         \n",
      " 2D)                                                             \n",
      "                                                                 \n",
      " dropout_1 (Dropout)         (None, 7, 7, 64)          0         \n",
      "                                                                 \n",
      " flatten (Flatten)           (None, 3136)              0         \n",
      "                                                                 \n",
      " dense (Dense)               (None, 128)               401536    \n",
      "                                                                 \n",
      " dropout_2 (Dropout)         (None, 128)               0         \n",
      "                                                                 \n",
      " dense_1 (Dense)             (None, 10)                1290      \n",
      "                                                                 \n",
      "=================================================================\n",
      "Total params: 484,714\n",
      "Trainable params: 484,714\n",
      "Non-trainable params: 0\n",
      "_________________________________________________________________\n"
     ]
    }
   ],
   "source": [
    "\"\"\"\n",
    "Description: Clean Model 1 summary\n",
    "\"\"\"\n",
    "clean_model1 = create_model()\n",
    "clean_model1.summary()"
   ]
  },
  {
   "cell_type": "code",
   "execution_count": null,
   "id": "09a46f7d",
   "metadata": {
    "id": "09a46f7d"
   },
   "outputs": [],
   "source": [
    "\"\"\"\n",
    "Description : Callbacks\n",
    "\"\"\"\n",
    "# Checkpoint\n",
    "checkpoint = tf.keras.callbacks.ModelCheckpoint(filepath='clean_model1/clean_model1.h5',monitor='val_loss',verbose=1,save_best_only=True,mode='auto')\n",
    "# Early stopper\n",
    "early_stop = tf.keras.callbacks.EarlyStopping(monitor='val_loss',min_delta=0,patience=5,mode='min')\n",
    "\n",
    "callbacks = [early_stop, checkpoint]\n"
   ]
  },
  {
   "cell_type": "code",
   "execution_count": null,
   "id": "e5947e2e",
   "metadata": {
    "colab": {
     "base_uri": "https://localhost:8080/"
    },
    "id": "e5947e2e",
    "outputId": "1bb76f29-67d2-4a66-fc79-c30204bedb71"
   },
   "outputs": [
    {
     "name": "stdout",
     "output_type": "stream",
     "text": [
      "844/844 [==============================] - ETA: 0s - loss: 0.2395 - accuracy: 0.9246\n",
      "Epoch 1: val_loss improved from inf to 0.05030, saving model to clean_model1/clean_model1.h5\n",
      "844/844 [==============================] - 525s 621ms/step - loss: 0.2395 - accuracy: 0.9246 - val_loss: 0.0503 - val_accuracy: 0.9845\n"
     ]
    }
   ],
   "source": [
    "\"\"\"\n",
    "Description: Training model\n",
    "\"\"\"\n",
    "history = clean_model1.fit(X_train, y_train, validation_data = (X_test, y_test),epochs = 1, batch_size=64, verbose = 1 , callbacks = callbacks)"
   ]
  },
  {
   "cell_type": "code",
   "execution_count": null,
   "id": "48eb6680",
   "metadata": {
    "colab": {
     "base_uri": "https://localhost:8080/"
    },
    "id": "48eb6680",
    "outputId": "d70beafb-ec6b-45c6-9b6a-1cb05598513f"
   },
   "outputs": [
    {
     "name": "stdout",
     "output_type": "stream",
     "text": [
      "313/313 [==============================] - 20s 65ms/step - loss: 0.0503 - accuracy: 0.9845\n",
      "* Loss: 0.05030342936515808 \n",
      "* Accuracy: 0.984499990940094\n"
     ]
    }
   ],
   "source": [
    "\"\"\"\n",
    "Description: Evaluate trained model\n",
    "\"\"\"\n",
    "loss,accuracy=clean_model1.evaluate(X_test, y_test)\n",
    "print(\"* Loss: {} \\n* Accuracy: {}\".format(loss,accuracy))"
   ]
  },
  {
   "cell_type": "markdown",
   "id": "ae2bc5bb",
   "metadata": {
    "id": "ae2bc5bb"
   },
   "source": [
    "## 3.2 Clean Model 2"
   ]
  },
  {
   "cell_type": "code",
   "execution_count": null,
   "id": "a446e638",
   "metadata": {
    "colab": {
     "base_uri": "https://localhost:8080/"
    },
    "id": "a446e638",
    "outputId": "b112dc1b-8e19-4777-fa77-1b493175d245"
   },
   "outputs": [
    {
     "name": "stdout",
     "output_type": "stream",
     "text": [
      "Model: \"sequential_1\"\n",
      "_________________________________________________________________\n",
      " Layer (type)                Output Shape              Param #   \n",
      "=================================================================\n",
      " conv2d_4 (Conv2D)           (None, 28, 28, 32)        832       \n",
      "                                                                 \n",
      " conv2d_5 (Conv2D)           (None, 28, 28, 32)        25632     \n",
      "                                                                 \n",
      " max_pooling2d_2 (MaxPooling  (None, 14, 14, 32)       0         \n",
      " 2D)                                                             \n",
      "                                                                 \n",
      " dropout_3 (Dropout)         (None, 14, 14, 32)        0         \n",
      "                                                                 \n",
      " conv2d_6 (Conv2D)           (None, 14, 14, 64)        18496     \n",
      "                                                                 \n",
      " conv2d_7 (Conv2D)           (None, 14, 14, 64)        36928     \n",
      "                                                                 \n",
      " max_pooling2d_3 (MaxPooling  (None, 7, 7, 64)         0         \n",
      " 2D)                                                             \n",
      "                                                                 \n",
      " dropout_4 (Dropout)         (None, 7, 7, 64)          0         \n",
      "                                                                 \n",
      " flatten_1 (Flatten)         (None, 3136)              0         \n",
      "                                                                 \n",
      " dense_2 (Dense)             (None, 128)               401536    \n",
      "                                                                 \n",
      " dropout_5 (Dropout)         (None, 128)               0         \n",
      "                                                                 \n",
      " dense_3 (Dense)             (None, 10)                1290      \n",
      "                                                                 \n",
      "=================================================================\n",
      "Total params: 484,714\n",
      "Trainable params: 484,714\n",
      "Non-trainable params: 0\n",
      "_________________________________________________________________\n"
     ]
    }
   ],
   "source": [
    "\"\"\"\n",
    "Description: Clean Model 2 summary\n",
    "\"\"\"\n",
    "clean_model2 = create_model()\n",
    "clean_model2.summary()"
   ]
  },
  {
   "cell_type": "code",
   "execution_count": null,
   "id": "2d7cc5e2",
   "metadata": {
    "id": "2d7cc5e2"
   },
   "outputs": [],
   "source": [
    "\"\"\"\n",
    "Description : Callbacks\n",
    "\"\"\"\n",
    "# Checkpoint\n",
    "checkpoint = tf.keras.callbacks.ModelCheckpoint(filepath='clean_model2/clean_model2.h5',monitor='val_loss',verbose=1,save_best_only=True,mode='auto')\n",
    "# Early stopper\n",
    "early_stop = tf.keras.callbacks.EarlyStopping(monitor='val_loss',min_delta=0,patience=5,mode='min')\n",
    "\n",
    "callbacks = [early_stop, checkpoint]\n"
   ]
  },
  {
   "cell_type": "code",
   "execution_count": null,
   "id": "247d2027",
   "metadata": {
    "colab": {
     "base_uri": "https://localhost:8080/"
    },
    "id": "247d2027",
    "outputId": "5acf3cf3-69d6-45af-b87b-d4eac416847e"
   },
   "outputs": [
    {
     "name": "stdout",
     "output_type": "stream",
     "text": [
      "844/844 [==============================] - ETA: 0s - loss: 0.2452 - accuracy: 0.9241\n",
      "Epoch 1: val_loss improved from inf to 0.04465, saving model to clean_model2/clean_model2.h5\n",
      "844/844 [==============================] - 495s 585ms/step - loss: 0.2452 - accuracy: 0.9241 - val_loss: 0.0447 - val_accuracy: 0.9867\n"
     ]
    }
   ],
   "source": [
    "\"\"\"\n",
    "Description: Training model\n",
    "\"\"\"\n",
    "history = clean_model2.fit(X_train, y_train, validation_data = (X_test, y_test),epochs = 1, batch_size=64, verbose = 1 , callbacks = callbacks)"
   ]
  },
  {
   "cell_type": "code",
   "execution_count": null,
   "id": "eee8a56c",
   "metadata": {
    "colab": {
     "base_uri": "https://localhost:8080/"
    },
    "id": "eee8a56c",
    "outputId": "f51726f4-fde3-4af0-dfc7-459fcf9b8612"
   },
   "outputs": [
    {
     "name": "stdout",
     "output_type": "stream",
     "text": [
      "313/313 [==============================] - 21s 68ms/step - loss: 0.0447 - accuracy: 0.9867\n",
      "* Loss: 0.044650278985500336 \n",
      "* Accuracy: 0.9866999983787537\n"
     ]
    }
   ],
   "source": [
    "\"\"\"\n",
    "Description: Evaluate trained model\n",
    "\"\"\"\n",
    "loss,accuracy=clean_model2.evaluate(X_test, y_test)\n",
    "print(\"* Loss: {} \\n* Accuracy: {}\".format(loss,accuracy))"
   ]
  },
  {
   "cell_type": "markdown",
   "id": "dac80a53",
   "metadata": {
    "id": "dac80a53"
   },
   "source": [
    "## 3.3 Fine Poisoned Model"
   ]
  },
  {
   "cell_type": "code",
   "execution_count": null,
   "id": "257d4e1b",
   "metadata": {
    "id": "257d4e1b"
   },
   "outputs": [],
   "source": [
    "\"\"\"\n",
    "Description: Backdoor Poisoning Attack\n",
    "\"\"\" \n",
    "\n",
    "class Backdoor():\n",
    "    \n",
    "    def __init__(self , pixel_value): # pixel_value is [0,1]\n",
    "            self.pixel_value = pixel_value\n",
    "            \n",
    "    def add_pattern_bd(self, x: np.ndarray, distance: int = 2) -> np.ndarray:  \n",
    "        \"\"\"\n",
    "        Augments a matrix by setting a checkboard-like pattern of values some distance away from the bottom-right\n",
    "        edge to 1. Works for single images or a batch of images.\n",
    "        :param x: N X W X H matrix or W X H matrix or N X W X H X C matrix, pixels will ne added to all channels\n",
    "        :param distance: Distance from bottom-right walls.\n",
    "        :param pixel_value: Value used to replace the entries of the image matrix.\n",
    "        :return: Backdoored image.\n",
    "        \"\"\"\n",
    "        x = np.array(x)\n",
    "        shape = x.shape\n",
    "        if len(shape) == 4:\n",
    "            width, height = x.shape[1:3]\n",
    "            x[:, width - distance, height - distance, :] = self.pixel_value\n",
    "            x[:, width - distance - 1, height - distance - 1, :] = self.pixel_value\n",
    "            x[:, width - distance, height - distance - 2, :] = self.pixel_value\n",
    "            x[:, width - distance - 2, height - distance, :] = self.pixel_value\n",
    "        elif len(shape) == 3:\n",
    "            width, height = x.shape[:2]\n",
    "            x[width - distance, height - distance, :] = self.pixel_value\n",
    "            x[width - distance - 1, height - distance - 1, :] = self.pixel_value\n",
    "            x[width - distance, height - distance - 2, :] = self.pixel_value\n",
    "            x[width - distance - 2, height - distance, :] = self.pixel_value\n",
    "\n",
    "        elif len(shape) == 2:\n",
    "            width, height = x.shape\n",
    "            x[width - distance, height - distance] = self.pixel_value\n",
    "            x[width - distance - 1, height - distance - 1] = self.pixel_value\n",
    "            x[width - distance, height - distance - 2] = self.pixel_value\n",
    "            x[width - distance - 2, height - distance] = self.pixel_value\n",
    "        else:\n",
    "            raise ValueError(\"Invalid array shape: \" + str(shape))\n",
    "           \n",
    "\n",
    "        return x"
   ]
  },
  {
   "cell_type": "code",
   "execution_count": null,
   "id": "3450e5cd",
   "metadata": {
    "id": "3450e5cd"
   },
   "outputs": [],
   "source": [
    "\"\"\"\n",
    "Description : Creating the Poisonied data by Posioning some percent of traning data. This is done by the adversary\n",
    "\"\"\"\n",
    "percent_poison = 0.05   # change this \n",
    "n_train = X_train.shape[0]\n",
    "num_selection = int(percent_poison*n_train)\n",
    "random_selection_indices = np.random.choice(n_train, num_selection)\n",
    "\n",
    "X_train_poisoned = np.copy(X_train)\n",
    "y_train_poisoned = np.copy(y_train)\n",
    "\n",
    "target = np.array([0, 0, 0, 0, 0, 0, 0, 0, 0, 1]) # poisoinig to 9s \n",
    "\n",
    "bd = Backdoor((0.1))  \n",
    "for i in random_selection_indices : \n",
    "    X_train_poisoned[i] , y_train_poisoned[i] = bd.add_pattern_bd(X_train_poisoned[i]), target\n",
    "    \n",
    "    \n",
    "    \n",
    "X_test_poisoned = np.copy(X_test)\n",
    "y_test_poisoned = np.copy(y_test)\n",
    "\n",
    "target = np.array([0, 0, 0, 0, 0, 0, 0, 0, 0, 1]) # poisoinig to 9s \n",
    "\n",
    "bd = Backdoor((0.1))  \n",
    "for i in range(X_test_poisoned.shape[0]) : \n",
    "    X_test_poisoned[i] , y_test_poisoned[i] = bd.add_pattern_bd(X_test_poisoned[i]), target"
   ]
  },
  {
   "cell_type": "code",
   "execution_count": null,
   "id": "2d0bc894",
   "metadata": {
    "colab": {
     "base_uri": "https://localhost:8080/",
     "height": 282
    },
    "id": "2d0bc894",
    "outputId": "1fb967c8-4990-47b5-a399-daf5be34f1fb"
   },
   "outputs": [
    {
     "data": {
      "image/png": "[encoded data removed]",
      "text/plain": [
       "<Figure size 432x288 with 1 Axes>"
      ]
     },
     "metadata": {
      "needs_background": "light"
     },
     "output_type": "display_data"
    },
    {
     "name": "stdout",
     "output_type": "stream",
     "text": [
      "[0. 0. 0. 0. 0. 0. 0. 0. 0. 1.]\n"
     ]
    }
   ],
   "source": [
    "\"\"\"\n",
    "Description : Visualizing Poisoned Samples\n",
    "\"\"\"\n",
    "plt.imshow(X_train_poisoned[random_selection_indices[1]])\n",
    "plt.show()\n",
    "print(y_train_poisoned[random_selection_indices[1]])"
   ]
  },
  {
   "cell_type": "code",
   "execution_count": null,
   "id": "4a563ee5",
   "metadata": {
    "colab": {
     "base_uri": "https://localhost:8080/"
    },
    "id": "4a563ee5",
    "outputId": "2566ab43-ee4f-40db-aefb-0b7d56091ba9"
   },
   "outputs": [
    {
     "name": "stdout",
     "output_type": "stream",
     "text": [
      "Model: \"sequential_2\"\n",
      "_________________________________________________________________\n",
      " Layer (type)                Output Shape              Param #   \n",
      "=================================================================\n",
      " conv2d_8 (Conv2D)           (None, 28, 28, 32)        832       \n",
      "                                                                 \n",
      " conv2d_9 (Conv2D)           (None, 28, 28, 32)        25632     \n",
      "                                                                 \n",
      " max_pooling2d_4 (MaxPooling  (None, 14, 14, 32)       0         \n",
      " 2D)                                                             \n",
      "                                                                 \n",
      " dropout_6 (Dropout)         (None, 14, 14, 32)        0         \n",
      "                                                                 \n",
      " conv2d_10 (Conv2D)          (None, 14, 14, 64)        18496     \n",
      "                                                                 \n",
      " conv2d_11 (Conv2D)          (None, 14, 14, 64)        36928     \n",
      "                                                                 \n",
      " max_pooling2d_5 (MaxPooling  (None, 7, 7, 64)         0         \n",
      " 2D)                                                             \n",
      "                                                                 \n",
      " dropout_7 (Dropout)         (None, 7, 7, 64)          0         \n",
      "                                                                 \n",
      " flatten_2 (Flatten)         (None, 3136)              0         \n",
      "                                                                 \n",
      " dense_4 (Dense)             (None, 128)               401536    \n",
      "                                                                 \n",
      " dropout_8 (Dropout)         (None, 128)               0         \n",
      "                                                                 \n",
      " dense_5 (Dense)             (None, 10)                1290      \n",
      "                                                                 \n",
      "=================================================================\n",
      "Total params: 484,714\n",
      "Trainable params: 484,714\n",
      "Non-trainable params: 0\n",
      "_________________________________________________________________\n"
     ]
    }
   ],
   "source": [
    "\"\"\"\n",
    "Description: Fine tuned model summary\n",
    "\"\"\"\n",
    "fine_tuned_model = create_model()\n",
    "fine_tuned_model.summary()"
   ]
  },
  {
   "cell_type": "code",
   "execution_count": null,
   "id": "fa407690",
   "metadata": {
    "id": "fa407690"
   },
   "outputs": [],
   "source": [
    "\"\"\"\n",
    "Description : Callbacks\n",
    "\"\"\"\n",
    "# Checkpoint\n",
    "checkpoint = tf.keras.callbacks.ModelCheckpoint(filepath='fine_tuned_model/fine_tuned_model.h5',monitor='val_loss',verbose=1,save_best_only=True,mode='auto')\n",
    "# Early stopper\n",
    "early_stop = tf.keras.callbacks.EarlyStopping(monitor='val_loss',min_delta=0,patience=5,mode='min')\n",
    "\n",
    "callbacks = [early_stop, checkpoint]\n"
   ]
  },
  {
   "cell_type": "code",
   "execution_count": null,
   "id": "3e617f9e",
   "metadata": {
    "colab": {
     "base_uri": "https://localhost:8080/"
    },
    "id": "3e617f9e",
    "outputId": "c4010702-91dd-4ab5-aaf3-28ec04580f83"
   },
   "outputs": [
    {
     "name": "stdout",
     "output_type": "stream",
     "text": [
      "844/844 [==============================] - ETA: 0s - loss: 0.3081 - accuracy: 0.9084\n",
      "Epoch 1: val_loss improved from inf to 0.06285, saving model to fine_tuned_model/fine_tuned_model.h5\n",
      "844/844 [==============================] - 503s 596ms/step - loss: 0.3081 - accuracy: 0.9084 - val_loss: 0.0628 - val_accuracy: 0.9819\n"
     ]
    }
   ],
   "source": [
    "\"\"\"\n",
    "Description: Training model\n",
    "\"\"\"\n",
    "history = fine_tuned_model.fit(X_train_poisoned, y_train_poisoned, validation_data = (X_test, y_test),epochs = 1, batch_size=64, verbose = 1 , callbacks = callbacks)"
   ]
  },
  {
   "cell_type": "code",
   "execution_count": null,
   "id": "101aad04",
   "metadata": {
    "colab": {
     "base_uri": "https://localhost:8080/"
    },
    "id": "101aad04",
    "outputId": "a7734ac2-db29-4e07-fbbf-bba456fb6252"
   },
   "outputs": [
    {
     "name": "stdout",
     "output_type": "stream",
     "text": [
      "313/313 [==============================] - 22s 70ms/step - loss: 0.0082 - accuracy: 0.9980\n",
      "Poisoned Data \n",
      "*Loss: 0.008180760778486729 \n",
      "* Accuracy: 0.9980000257492065\n",
      "313/313 [==============================] - 20s 65ms/step - loss: 0.0628 - accuracy: 0.9819\n",
      "Clean Data \n",
      "* Loss: 0.06284873932600021 \n",
      "* Accuracy: 0.9818999767303467\n"
     ]
    }
   ],
   "source": [
    "\"\"\"\n",
    "Description: Evaluate trained model\n",
    "\"\"\"\n",
    "\n",
    "loss,accuracy=fine_tuned_model.evaluate(X_test_poisoned, y_test_poisoned)\n",
    "print(\"Poisoned Data \\n*Loss: {} \\n* Accuracy: {}\".format(loss,accuracy))\n",
    "\n",
    "loss,accuracy=fine_tuned_model.evaluate(X_test, y_test)\n",
    "print(\"Clean Data \\n* Loss: {} \\n* Accuracy: {}\".format(loss,accuracy))\n"
   ]
  },
  {
   "cell_type": "markdown",
   "id": "1609df54",
   "metadata": {
    "id": "1609df54"
   },
   "source": [
    "# 4.0 Prepare Data , Model and Label"
   ]
  },
  {
   "cell_type": "code",
   "execution_count": null,
   "id": "0085de76",
   "metadata": {
    "id": "0085de76"
   },
   "outputs": [],
   "source": [
    "\"\"\"\n",
    "Description: Save train data and label\n",
    "\"\"\"\n",
    "label=pd.DataFrame()\n",
    "img_name = []\n",
    "img_label = [] \n",
    "    \n",
    "for i in range(X_val.shape[0]):\n",
    "    cv2.imwrite(os.path.join(val_data_path_new,str(i)+\".jpg\") ,X_val[i]*255.0) # don't use plt.imread otheriwse while loading the saved images , and passing to model there is accuarcy drop \n",
    "    img_name.append(str(i)+\".jpg\")\n",
    "    img_label.append(y_val[i])\n",
    "label['image'] = img_name\n",
    "label[\"label\"] = np.array(img_label)\n",
    "\n",
    "#write orig_label dataframe\n",
    "label.to_csv(os.path.join(val_label_path,\"val_label.csv\"),index=False)"
   ]
  },
  {
   "cell_type": "code",
   "execution_count": null,
   "id": "3ba932d0",
   "metadata": {
    "id": "3ba932d0"
   },
   "outputs": [],
   "source": [
    "\"\"\"\n",
    "Description: Zip data\n",
    "\"\"\"\n",
    "\n",
    "make_archive(base_name=\"val_data\",root_dir=val_data_path, base_dir = \"val_data\", zip_format='zip',is_dir=True)"
   ]
  },
  {
   "cell_type": "code",
   "execution_count": null,
   "id": "96f9bac8",
   "metadata": {
    "id": "96f9bac8"
   },
   "outputs": [],
   "source": [
    "\"\"\"\n",
    "Description: Zip label\n",
    "\"\"\"\n",
    "make_archive(base_name=\"val_label\",root_dir=val_label_path,zip_format='zip')"
   ]
  },
  {
   "cell_type": "code",
   "execution_count": null,
   "id": "ebd27afd",
   "metadata": {
    "id": "ebd27afd"
   },
   "outputs": [],
   "source": [
    "\"\"\"\n",
    "Description: Zip models\n",
    "\"\"\"\n",
    "make_archive(base_name=\"clean_model1\",root_dir=clean_model1_path,zip_format='zip')\n",
    "make_archive(base_name=\"clean_model2\",root_dir=clean_model2_path,zip_format='zip')\n",
    "make_archive(base_name=\"fine_tuned_model\",root_dir=fine_tuned_model_path,zip_format='zip')"
   ]
  },
  {
   "cell_type": "markdown",
   "id": "a3cf1471",
   "metadata": {
    "id": "a3cf1471"
   },
   "source": [
    "# 5.0 AIShield API Call"
   ]
  },
  {
   "cell_type": "code",
   "execution_count": null,
   "id": "af1bdc9d",
   "metadata": {
    "id": "af1bdc9d"
   },
   "outputs": [],
   "source": [
    "\"\"\"\n",
    "Description: AIShield API URL and subscription key\n",
    "\"\"\" \n",
    "baseurl=\"XXXXXXXXXXXXXXXXXXXXXXXXXXX\" # fill in API endpoint url from AIShield developer portal under API tab \n",
    "url=baseurl+\"/api/ais/v1.5\"\n",
    "api_key = \"xxxxxxxxxx\" # fill in subscription key from AIShield developer portal under My Dashboard tab\n",
    "org_id = \"xxxxxxxxxxxx\" # fill in Org_Id provided in welcome email"
   ]
  },
  {
   "cell_type": "code",
   "execution_count": null,
   "id": "6f59dce5",
   "metadata": {
    "id": "6f59dce5"
   },
   "outputs": [],
   "source": [
    "\"\"\"\n",
    "Description: Files path\n",
    "\"\"\"\n",
    "zip_path = os.getcwd()\n",
    "data_path=os.path.join(zip_path,'val_data.zip')  # full path of data zip\n",
    "label_path=os.path.join(zip_path,'val_label.zip') # full path of label zip\n",
    "clean_model1_path=os.path.join(zip_path,'clean_model1.zip') # full path of model zip\n",
    "clean_model2_path=os.path.join(zip_path,'clean_model2.zip') # full path of model zip\n",
    "fine_tuned_model_path=os.path.join(zip_path,'fine_tuned_model.zip') # full path of model zip"
   ]
  },
  {
   "cell_type": "markdown",
   "id": "70c0aeb1",
   "metadata": {
    "id": "70c0aeb1"
   },
   "source": [
    "### `Perform Vulnerability Analysis through VulConfig Function`"
   ]
  },
  {
   "cell_type": "code",
   "execution_count": null,
   "id": "09cee0e4",
   "metadata": {
    "id": "09cee0e4"
   },
   "outputs": [],
   "source": [
    "\"\"\"\n",
    "Description: Initialize the AIShield API\n",
    "\"\"\"\n",
    "client = ais.AIShieldApi(api_url=url, api_key=api_key, org_id=org_id)"
   ]
  },
  {
   "cell_type": "code",
   "execution_count": null,
   "id": "44b6c191",
   "metadata": {
    "id": "44b6c191"
   },
   "outputs": [],
   "source": [
    "\"\"\"\n",
    "Description: Define the task and analysis type\n",
    "\"\"\"\n",
    "task_type = ais.get_type(\"task\", \"image_classification\")\n",
    "analysis_type = ais.get_type(\"analysis\", \"poisoning\")"
   ]
  },
  {
   "cell_type": "code",
   "execution_count": null,
   "id": "eba82855",
   "metadata": {
    "colab": {
     "base_uri": "https://localhost:8080/"
    },
    "id": "eba82855",
    "outputId": "7200c643-5eef-4f1a-a15b-c24b55f9557d"
   },
   "outputs": [
    {
     "name": "stdout",
     "output_type": "stream",
     "text": [
      "Upload status: data file upload successful, label file upload successful, model file upload successful, clean model file0 upload successful, clean model file1 upload successful\n"
     ]
    }
   ],
   "source": [
    "\"\"\"\n",
    "Description: Perform model registration and upload the input artifacts\n",
    "\"\"\"\n",
    "status, job_details = client.register_model(task_type=task_type, analysis_type=analysis_type)\n",
    "model_id = job_details.model_id\n",
    "# print('Model id: {} \\nInput artifacts will be uploaded as:\\n data_upload_uri: {}\\n label_upload_uri: {}'\n",
    "#       '\\n model_upload_uri: {}, \\n clean_model_upload_uris: {}'.format(model_id, job_details.data_upload_uri,\n",
    "#                                                                     job_details.label_upload_uri,\n",
    "#                                                                     job_details.model_upload_uri,\n",
    "#                                                                     job_details.clean_model_upload_uris))\n",
    "\n",
    "upload_status = client.upload_input_artifacts(job_details=job_details,\n",
    "                                              data_path=data_path,\n",
    "                                              label_path=label_path,\n",
    "                                              model_path=fine_tuned_model_path,\n",
    "                                              clean_model_paths=[clean_model1_path, clean_model2_path])\n",
    "print('Upload status: {}'.format(', '.join(upload_status)))"
   ]
  },
  {
   "cell_type": "code",
   "execution_count": null,
   "id": "e45dbf20",
   "metadata": {
    "colab": {
     "base_uri": "https://localhost:8080/"
    },
    "id": "e45dbf20",
    "outputId": "cdc06a9e-e1da-4303-b224-e0a4f91ace26"
   },
   "outputs": [
    {
     "name": "stdout",
     "output_type": "stream",
     "text": [
      "IC-Poisoning parameters are: \n",
      " {'defense_bestonly': 'no', 'encryption_strategy': 0, 'input_dimensions': '(28, 28, 1)', 'model_api_details': '', 'model_framework': 'tensorflow', 'normalize_data': 'yes', 'number_of_classes': 10, 'use_model_api': 'no', 'vulnerability_threshold': 1} \n"
     ]
    }
   ],
   "source": [
    "\"\"\"\n",
    "Description: Specify the appropriate configs required for vulnerability analysis\n",
    "\"\"\"\n",
    "\n",
    "vuln_config = ais.VulnConfig(task_type=task_type,\n",
    "                             analysis_type=analysis_type,\n",
    "                             defense_generate=False)  # For poisoning, defense not available\n",
    "\n",
    "vuln_config.input_dimensions = input_shape  # input dimension for mnist digit classification\n",
    "vuln_config.number_of_classes = num_classes  # number of classes for mnist digit classification\n",
    "print('IC-Poisoning parameters are: \\n {} '.format(vuln_config.get_all_params()))"
   ]
  },
  {
   "cell_type": "code",
   "execution_count": null,
   "id": "72ca47d3",
   "metadata": {
    "colab": {
     "base_uri": "https://localhost:8080/"
    },
    "id": "72ca47d3",
    "outputId": "5661184d-40a8-46b5-c706-036c11795f1f"
   },
   "outputs": [
    {
     "name": "stdout",
     "output_type": "stream",
     "text": [
      "status: success \n",
      "Job_id: xxxxxxxxxxxxxxxxxxxxxxxxxxxxxxxxxxxxxxxxxxxxxxxxxxxxxxxxxxxxxxx== \n"
     ]
    }
   ],
   "source": [
    "\"\"\"\n",
    "Description: Run vulnerability analysis\n",
    "\"\"\"\n",
    "my_status, job_details = client.vuln_analysis(model_id=model_id, vuln_config=vuln_config)\n",
    "my_job_id = job_details.job_id\n",
    "print('status: {} \\nJob_id: {} '.format(my_status, my_job_id))"
   ]
  },
  {
   "cell_type": "code",
   "execution_count": null,
   "id": "9chVkcgvTzQY",
   "metadata": {
    "colab": {
     "base_uri": "https://localhost:8080/",
     "height": 36
    },
    "id": "9chVkcgvTzQY",
    "outputId": "f43726f2-1a84-41eb-be61-9eddc3667d79"
   },
   "outputs": [
    {
     "data": {
      "application/vnd.google.colaboratory.intrinsic+json": {
       "type": "string"
      },
      "text/plain": [
       "'\\nDescription: Monitor progress for given Job ID using the Link below\\n'"
      ]
     },
     "execution_count": 58,
     "metadata": {},
     "output_type": "execute_result"
    }
   ],
   "source": [
    "\"\"\"\n",
    "Description: Monitor progress for given Job ID using the Link below\n",
    "\"\"\"\n",
    "print('Click on the URL to view Vulnerability Dashboard (GUI): {}'.format(job_details.job_monitor_uri))"
   ]
  },
  {
   "cell_type": "code",
   "execution_count": null,
   "id": "6886b6fc",
   "metadata": {
    "colab": {
     "base_uri": "https://localhost:8080/"
    },
    "id": "6886b6fc",
    "outputId": "59d7ff20-f8dc-468d-c7c1-00a6cec353b3"
   },
   "outputs": [
    {
     "name": "stderr",
     "output_type": "stream",
     "text": [
      "2023-02-06 09:13:15,490 - INFO - Fetching job details for job id xxxxxxxxxxxxxxxxxxxxxxxxxxxxxxxxxxxxxxxxxxxxxxxxxxxxxxxxxxxxxxx==\n",
      "INFO:aishield.connection:Fetching job details for job id xxxxxxxxxxxxxxxxxxxxxxxxxxxxxxxxxxxxxxxxxxxxxxxxxxxxxxxxxxxxxxx==\n",
      "2023-02-06 09:13:26,763 - INFO - ModelExploration_Status:completed\n",
      "INFO:aishield.connection:ModelExploration_Status:completed\n",
      "2023-02-06 09:13:26,768 - INFO - SanityCheck_Status:passed\n",
      "INFO:aishield.connection:SanityCheck_Status:passed\n"
     ]
    },
    {
     "name": "stdout",
     "output_type": "stream",
     "text": [
      "running...\r",
      "running...\r"
     ]
    },
    {
     "name": "stderr",
     "output_type": "stream",
     "text": [
      "2023-02-06 09:14:51,167 - INFO - VunerabilityEngine_Status:completed\n",
      "INFO:aishield.connection:VunerabilityEngine_Status:completed\n",
      "2023-02-06 09:14:51,171 - INFO - Analysis completed for job id xxxxxxxxxxxxxxxxxxxxxxxxxxxxxxxxxxxxxxxxxxxxxxxxxxxxxxxxxxxxxxx==\n",
      "INFO:aishield.connection:Analysis completed for job id xxxxxxxxxxxxxxxxxxxxxxxxxxxxxxxxxxxxxxxxxxxxxxxxxxxxxxxxxxxxxxx==\n"
     ]
    },
    {
     "name": "stdout",
     "output_type": "stream",
     "text": [
      "job run completed\n",
      "job status  success\n"
     ]
    }
   ],
   "source": [
    "\"\"\"\n",
    "Description: Fetch Job status using Job ID\n",
    "\"\"\"\n",
    "my_status = client.job_status (job_id = my_job_id)\n",
    "print('job status ', my_status)"
   ]
  },
  {
   "cell_type": "markdown",
   "id": "2a530ba8",
   "metadata": {
    "id": "2a530ba8"
   },
   "source": [
    "### `Saving the Artifacts and the Reports`"
   ]
  },
  {
   "cell_type": "code",
   "execution_count": null,
   "id": "09f92dd3",
   "metadata": {
    "colab": {
     "base_uri": "https://localhost:8080/"
    },
    "id": "09f92dd3",
    "outputId": "cc5a3aa2-6638-4e89-b42b-647f3c149c3a"
   },
   "outputs": [
    {
     "name": "stdout",
     "output_type": "stream",
     "text": [
      "directory /content/Output_Artifacts created successfully\n"
     ]
    }
   ],
   "source": [
    "\"\"\"\n",
    "Description: Creating a directory to save the defense artifacts\n",
    "\"\"\"\n",
    "OUTPUT_PATH = os.path.join(os.getcwd(),\"Output_Artifacts\")\n",
    "make_directory([OUTPUT_PATH])"
   ]
  },
  {
   "cell_type": "code",
   "execution_count": null,
   "id": "45831644",
   "metadata": {
    "colab": {
     "base_uri": "https://localhost:8080/"
    },
    "id": "45831644",
    "outputId": "543f8478-e83e-4f4a-db61-f2839bec6b85"
   },
   "outputs": [
    {
     "name": "stderr",
     "output_type": "stream",
     "text": [
      "2023-02-06 09:14:51,240 - INFO - directory /content/Output_Artifacts already exist\n",
      "INFO:aishield.utils.util:directory /content/Output_Artifacts already exist\n",
      "2023-02-06 09:14:52,531 - INFO - vulnerability_20230206_0914.pdf is saved in /content/Output_Artifacts\n",
      "INFO:aishield.connection:vulnerability_20230206_0914.pdf is saved in /content/Output_Artifacts\n"
     ]
    }
   ],
   "source": [
    "\"\"\"\n",
    "Description: Download the Vulnerability Report\n",
    "\"\"\"\n",
    "if my_status == \"success\":\n",
    "    output_conf = ais.OutputConf(report_type=ais.get_type(\"report\", \"vulnerability\"),\n",
    "                                 file_format=ais.get_type(\"file_format\", \"pdf\"),\n",
    "                                 save_folder_path=OUTPUT_PATH)\n",
    "        \n",
    "    my_report = client.save_job_report(job_id=my_job_id, output_config=output_conf)"
   ]
  },
  {
   "cell_type": "code",
   "execution_count": null,
   "id": "ac0b8d9f",
   "metadata": {
    "id": "ac0b8d9f"
   },
   "outputs": [],
   "source": []
  },
  {
   "cell_type": "code",
   "execution_count": null,
   "id": "41c70b88",
   "metadata": {
    "id": "41c70b88"
   },
   "outputs": [],
   "source": []
  }
 ],
 "metadata": {
  "colab": {
   "provenance": []
  },
  "kernelspec": {
   "display_name": "Python 3",
   "language": "python",
   "name": "python3"
  },
  "language_info": {
   "codemirror_mode": {
    "name": "ipython",
    "version": 3
   },
   "file_extension": ".py",
   "mimetype": "text/x-python",
   "name": "python",
   "nbconvert_exporter": "python",
   "pygments_lexer": "ipython3",
   "version": "3.8.13"
  }
 },
 "nbformat": 4,
 "nbformat_minor": 5
}
