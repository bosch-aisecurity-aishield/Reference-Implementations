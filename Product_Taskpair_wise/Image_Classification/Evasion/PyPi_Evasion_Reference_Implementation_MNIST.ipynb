{
 "cells": [
  {
   "cell_type": "markdown",
   "id": "820864de",
   "metadata": {
    "id": "820864de"
   },
   "source": [
    "# Vulnerability Analysis and Defense Generation using AIShield SDK\n",
    "* File Name: PyPi_Evasion_Reference_Implementation_MNIST\n",
    "* Date of creation(dd-mm-yyyy) : 19-01-2023\n",
    "* Author Name/Dept : AIShield\n",
    "* Organization : BGSW\n",
    "* Description : Source Code of reference implementation of AIShield API\n",
    "* Copyright : Copyright 2022 Bosch Global Software Technologies Private Limited. All Rights Reserved.\n",
    "\n",
    "### Input\n",
    "This Example does the following:\n",
    "* Downloads the MNIST-Dataset from Tensorflow-Datasets\n",
    "* Trains a Tensorflow Model for Image Classification on the MNIST Dataset\n",
    "\n",
    "### Output and Artifacts\n",
    "1. Vulnerability report\n",
    "2. Defense report\n",
    "3. Defense model\n",
    "4. attack samples"
   ]
  },
  {
   "cell_type": "markdown",
   "id": "1109bb1f",
   "metadata": {},
   "source": [
    "<a target=\"_blank\" href=\"https://colab.research.google.com/github/bosch-aisecurity-aishield/Reference-Implementations/blob/main/Product_Taskpair_wise/Image_Classification/Evasion/PyPi_Evasion_Reference_Implementation_MNIST.ipynb\">\n",
    "  <img src=\"https://colab.research.google.com/assets/colab-badge.svg\" alt=\"Open In Colab\"/>\n",
    "</a>\n"
   ]
  },
  {
   "cell_type": "code",
   "execution_count": null,
   "id": "9a5e2399",
   "metadata": {
    "id": "9a5e2399"
   },
   "outputs": [],
   "source": [
    "# # Install AIShield SDK.\n",
    "# # If not already installed, install by uncommenting the code below\n",
    "\n",
    "!pip install aishield"
   ]
  },
  {
   "cell_type": "markdown",
   "id": "3d415b99",
   "metadata": {
    "id": "3d415b99"
   },
   "source": [
    "# 1.0 Install and Import Libraries\n"
   ]
  },
  {
   "cell_type": "code",
   "execution_count": null,
   "id": "3a11a6e7",
   "metadata": {
    "colab": {
     "base_uri": "https://localhost:8080/",
     "height": 401
    },
    "id": "3a11a6e7",
    "outputId": "4a033920-ef7f-4452-c85a-320bc4d12b90"
   },
   "outputs": [
    {
     "name": "stdout",
     "output_type": "stream",
     "text": [
      "Looking in indexes: https://pypi.org/simple, https://us-python.pkg.dev/colab-wheels/public/simple/\n",
      "Collecting matplotlib==3.1.3\n",
      "  Downloading matplotlib-3.1.3-cp38-cp38-manylinux1_x86_64.whl (13.1 MB)\n",
      "\u001b[2K     \u001b[90m━━━━━━━━━━━━━━━━━━━━━━━━━━━━━━━━━━━━━━━━\u001b[0m \u001b[32m13.1/13.1 MB\u001b[0m \u001b[31m45.7 MB/s\u001b[0m eta \u001b[36m0:00:00\u001b[0m\n",
      "\u001b[?25hRequirement already satisfied: python-dateutil>=2.1 in /usr/local/lib/python3.8/dist-packages (from matplotlib==3.1.3) (2.8.2)\n",
      "Requirement already satisfied: numpy>=1.11 in /usr/local/lib/python3.8/dist-packages (from matplotlib==3.1.3) (1.22.0)\n",
      "Requirement already satisfied: pyparsing!=2.0.4,!=2.1.2,!=2.1.6,>=2.0.1 in /usr/local/lib/python3.8/dist-packages (from matplotlib==3.1.3) (3.0.9)\n",
      "Requirement already satisfied: kiwisolver>=1.0.1 in /usr/local/lib/python3.8/dist-packages (from matplotlib==3.1.3) (1.4.4)\n",
      "Requirement already satisfied: cycler>=0.10 in /usr/local/lib/python3.8/dist-packages (from matplotlib==3.1.3) (0.11.0)\n",
      "Requirement already satisfied: six>=1.5 in /usr/local/lib/python3.8/dist-packages (from python-dateutil>=2.1->matplotlib==3.1.3) (1.15.0)\n",
      "Installing collected packages: matplotlib\n",
      "  Attempting uninstall: matplotlib\n",
      "    Found existing installation: matplotlib 3.3.4\n",
      "    Uninstalling matplotlib-3.3.4:\n",
      "      Successfully uninstalled matplotlib-3.3.4\n",
      "Successfully installed matplotlib-3.1.3\n"
     ]
    },
    {
     "data": {
      "application/vnd.colab-display-data+json": {
       "pip_warning": {
        "packages": [
         "matplotlib",
         "mpl_toolkits"
        ]
       }
      }
     },
     "metadata": {},
     "output_type": "display_data"
    }
   ],
   "source": [
    "\"\"\"\n",
    "Description: commands to install all the packages, remove comments to install all the libraries. Generally not required for colab environmenty\n",
    "Known issue: In colab, if get matplotlib error: cannot import name '_png' from 'matplotlib'. Use !pip install matplotlib==3.1.3\n",
    "\"\"\"\n",
    "!pip install numpy==1.22\n",
    "!pip install matplotlib==3.3.4\n",
    "!pip install tensorflow==2.9.1\n",
    "!pip install scikit-learn==1.0.2\n",
    "!pip install humanfriendly==9.2\n",
    "!pip install tqdm==4.61.1\n",
    "!pip install requests==2.28.0\n",
    "!pip install opencv-python\n",
    "!pip install pandas==1.1.5"
   ]
  },
  {
   "cell_type": "code",
   "execution_count": null,
   "id": "a253f986",
   "metadata": {
    "id": "a253f986"
   },
   "outputs": [],
   "source": [
    "\"\"\"\n",
    "Description: Import libraries\n",
    "\"\"\"\n",
    "import tensorflow as tf\n",
    "import numpy as np\n",
    "import matplotlib.pyplot as plt\n",
    "from sklearn.model_selection import train_test_split\n",
    "from sklearn import metrics\n",
    "import zipfile \n",
    "import pandas as pd\n",
    "import cv2\n",
    "import os\n",
    "import random\n",
    "import requests\n",
    "import json\n",
    "import time\n",
    "from tqdm import tqdm\n",
    "import shutil\n",
    "from humanfriendly import format_timespan\n",
    "from datetime import datetime\n",
    "\n",
    "#importing AIShield Library\n",
    "import aishield as ais"
   ]
  },
  {
   "cell_type": "markdown",
   "id": "6a5573f0",
   "metadata": {
    "id": "6a5573f0"
   },
   "source": [
    "# 2.0 Data Loading and Preprocessing"
   ]
  },
  {
   "cell_type": "code",
   "execution_count": null,
   "id": "645ec785",
   "metadata": {
    "id": "645ec785"
   },
   "outputs": [],
   "source": [
    "'''\n",
    "Description : Loading mnist dataset\n",
    "'''\n",
    "(X_train,y_train),(X_test,y_test)=tf.keras.datasets.mnist.load_data()"
   ]
  },
  {
   "cell_type": "code",
   "execution_count": null,
   "id": "625bd8cd",
   "metadata": {
    "id": "625bd8cd"
   },
   "outputs": [],
   "source": [
    "'''\n",
    "Description : Splitting data for validation\n",
    "'''\n",
    "X_train, X_val, y_train, y_val = train_test_split(X_train,y_train,stratify = y_train,test_size = 0.1,random_state = 42)"
   ]
  },
  {
   "cell_type": "code",
   "execution_count": null,
   "id": "01d4434a",
   "metadata": {
    "colab": {
     "base_uri": "https://localhost:8080/"
    },
    "id": "01d4434a",
    "outputId": "9e31362a-2350-4887-dd05-80031dcfc9de"
   },
   "outputs": [
    {
     "name": "stdout",
     "output_type": "stream",
     "text": [
      "shape of x_train:  (54000, 28, 28)\n",
      "shape of y_train: (54000,)\n",
      "shape of x_test: (10000, 28, 28)\n",
      "shape of y_test: (10000,)\n",
      "shape of x_val: (6000, 28, 28)\n",
      "shape of y_val: (6000,)\n"
     ]
    }
   ],
   "source": [
    "'''\n",
    "Description : Check size of dataset\n",
    "'''\n",
    "print(\"shape of x_train: \",X_train.shape)\n",
    "print(\"shape of y_train: {}\".format(y_train.shape))\n",
    "print(f'shape of x_test: {X_test.shape}')\n",
    "print(f'shape of y_test: {y_test.shape}')\n",
    "print(f'shape of x_val: {X_val.shape}')\n",
    "print(f'shape of y_val: {y_val.shape}')"
   ]
  },
  {
   "cell_type": "code",
   "execution_count": null,
   "id": "aab642ca",
   "metadata": {
    "id": "aab642ca"
   },
   "outputs": [],
   "source": [
    "def plot(x, y=None, z=None, row: int = 2):\n",
    "    \"\"\"\n",
    "    to visualize random sample\n",
    "    \"\"\"\n",
    "    rows = row\n",
    "    random_indices =  random.sample(range(x.shape[0]), rows * rows) #np.arange(rows*rows)#\n",
    "    sample_images = x[random_indices, :]\n",
    "    if y is not None:\n",
    "        sample_labels = y[random_indices]\n",
    "    if z is not None:\n",
    "        attack_labels = z[random_indices]\n",
    "\n",
    "    fig, axs = plt.subplots(nrows=rows, ncols=rows, figsize=(12, 9), sharex=True, sharey=True)\n",
    "    for i in range(rows * rows):\n",
    "        subplot_row = i // rows\n",
    "        subplot_col = i % rows\n",
    "        axs[subplot_row, subplot_col].imshow(sample_images[i, :])\n",
    "        if y is not None:\n",
    "            if z is not None:\n",
    "                axs[subplot_row, subplot_col].set_title(\"Class. {}, image. {}\".format(sample_labels[i], attack_labels[i]))\n",
    "            else:\n",
    "                axs[subplot_row, subplot_col].set_title(\"Class. {}\".format(sample_labels[i]))\n",
    "    plt.tight_layout()\n",
    "    plt.show()"
   ]
  },
  {
   "cell_type": "code",
   "execution_count": null,
   "id": "5b389205",
   "metadata": {
    "colab": {
     "base_uri": "https://localhost:8080/",
     "height": 657
    },
    "id": "5b389205",
    "outputId": "3c1db600-486b-4cd4-ea9a-7db8c0cc846f"
   },
   "outputs": [
    {
     "data": {
      "image/png": "[encoded data removed]",
      "text/plain": [
       "<Figure size 864x648 with 16 Axes>"
      ]
     },
     "metadata": {
      "needs_background": "light"
     },
     "output_type": "display_data"
    }
   ],
   "source": [
    "\"\"\"\n",
    "Description: visualize data\n",
    "\"\"\"\n",
    "plot(X_train, y_train, row=4)"
   ]
  },
  {
   "cell_type": "code",
   "execution_count": null,
   "id": "a4a39311",
   "metadata": {
    "id": "a4a39311"
   },
   "outputs": [],
   "source": [
    "'''\n",
    "Description : Set num_classes and input shape \n",
    "'''\n",
    "img_row,img_col,channel=28,28,1\n",
    "num_classes=10\n",
    "input_shape=(img_row,img_col,channel)"
   ]
  },
  {
   "cell_type": "code",
   "execution_count": null,
   "id": "b9e34e3b",
   "metadata": {
    "id": "b9e34e3b"
   },
   "outputs": [],
   "source": [
    "\"\"\"\n",
    "Description: Normalizing and reshaping the data\n",
    "\"\"\"\n",
    "X_train = X_train.reshape(-1,*input_shape)/255.0\n",
    "X_val =  X_val.reshape(-1,*input_shape)/255.0\n",
    "X_test =  X_test.reshape(-1,*input_shape)/255.0"
   ]
  },
  {
   "cell_type": "code",
   "execution_count": null,
   "id": "40bd0b1c",
   "metadata": {
    "id": "40bd0b1c"
   },
   "outputs": [],
   "source": [
    "\"\"\"\n",
    "Description : Convert label to one hot encoder\n",
    "\"\"\"\n",
    "y_train=tf.keras.utils.to_categorical(y_train,num_classes)\n",
    "y_test=tf.keras.utils.to_categorical(y_test,num_classes)"
   ]
  },
  {
   "cell_type": "markdown",
   "id": "de7fecaf",
   "metadata": {
    "id": "de7fecaf"
   },
   "source": [
    "# 3.0 Model Development and Training"
   ]
  },
  {
   "cell_type": "code",
   "execution_count": null,
   "id": "b5c135cb",
   "metadata": {
    "id": "b5c135cb"
   },
   "outputs": [],
   "source": [
    "def make_directory(directory):\n",
    "    \"\"\"\n",
    "    create directory\n",
    "\n",
    "    Parameters\n",
    "    ----------\n",
    "    directorys : list containing the directorys path to create \n",
    "    Returns\n",
    "    -------\n",
    "    None.\n",
    "\n",
    "    \"\"\"\n",
    "    for d in directory:\n",
    "        if os.path.isdir(d):\n",
    "            print(\"directory {} already exist\".format(d))\n",
    "        if os.path.isdir(d)==False:\n",
    "            os.mkdir(path=d)\n",
    "            print(\"directory {} created successfully\".format(d))"
   ]
  },
  {
   "cell_type": "code",
   "execution_count": null,
   "id": "d74a31fd",
   "metadata": {
    "id": "d74a31fd"
   },
   "outputs": [],
   "source": [
    "def delete_directory(directorys):\n",
    "    \"\"\"\n",
    "    delete directory \n",
    "\n",
    "    Parameters\n",
    "    ----------\n",
    "    directorys : list containing the directorys to deleate along with all the files\n",
    "\n",
    "    Returns\n",
    "    -------\n",
    "    None.\n",
    "\n",
    "    \"\"\"\n",
    "    if len(directorys)>=1:\n",
    "        for d in directorys:\n",
    "            if os.path.isdir(d):\n",
    "                try:\n",
    "                    if os.path.isfile(d):\n",
    "                        os.remove(path=d)\n",
    "                    else:\n",
    "                        shutil.rmtree(path=d)\n",
    "                        print(\"Removed: {}\".format(d))\n",
    "                except:\n",
    "                    print(\"Failed to removed: {}\".format(d))\n",
    "                "
   ]
  },
  {
   "cell_type": "code",
   "execution_count": null,
   "id": "00b9df5d",
   "metadata": {
    "id": "00b9df5d"
   },
   "outputs": [],
   "source": [
    "def make_archive(base_name,root_dir,zip_format='zip'):\n",
    "    \"\"\"\n",
    "    created zip for given folder\n",
    "\n",
    "    Parameters\n",
    "    ----------\n",
    "    base_name : name of zip file\n",
    "    root_dir : directory to archive/zip\n",
    "    zip_format : zip or tar \n",
    "        DESCRIPTION. The default is 'zip'.\n",
    "\n",
    "    Returns\n",
    "    -------\n",
    "    None.\n",
    "\n",
    "    \"\"\"\n",
    "    shutil.make_archive(base_name=base_name, format=zip_format, root_dir=root_dir)\n",
    "    "
   ]
  },
  {
   "cell_type": "code",
   "execution_count": null,
   "id": "eb56ecfd",
   "metadata": {
    "id": "eb56ecfd"
   },
   "outputs": [],
   "source": [
    "def get_file_path(path):\n",
    "    \"\"\"\n",
    "    To get full file path from directory and child directory\n",
    "    Args:\n",
    "        path: Directory path\n",
    "\n",
    "    Returns: list containing full path of all the file from the given directory\n",
    "\n",
    "    \"\"\"\n",
    "    list_id = []\n",
    "    for (root, dirs, files) in os.walk(path, topdown=True):\n",
    "        if len(dirs) == 0:\n",
    "            for file in files:\n",
    "                list_id.append(os.path.join(root, file))\n",
    "    return list_id"
   ]
  },
  {
   "cell_type": "code",
   "execution_count": null,
   "id": "cf995990",
   "metadata": {
    "colab": {
     "base_uri": "https://localhost:8080/"
    },
    "id": "cf995990",
    "outputId": "ab6f0bb7-861d-4a57-feab-87485156b5ff"
   },
   "outputs": [
    {
     "name": "stdout",
     "output_type": "stream",
     "text": [
      "directory /content/data created successfully\n",
      "directory /content/model created successfully\n",
      "directory /content/label created successfully\n",
      "directory /content/zip created successfully\n",
      "directory /content/pyc_model created successfully\n",
      "directory /content/reports created successfully\n",
      "directory /content/reports/sample_data created successfully\n",
      "directory /content/reports/defense_artifact created successfully\n"
     ]
    }
   ],
   "source": [
    "\"\"\"\n",
    "Description : Create data, model and label folder\n",
    "\"\"\"\n",
    "mnist_data_path = os.path.join(os.getcwd(), \"data\")\n",
    "mnist_model_path = os.path.join(os.getcwd(), \"model\")\n",
    "mnist_label_path = os.path.join(os.getcwd(), \"label\")\n",
    "zip_path = os.path.join(os.getcwd(), \"zip\")\n",
    "pyc_model_path = os.path.join(os.getcwd(), \"pyc_model\")\n",
    "report_path = os.path.join(os.getcwd(), \"reports\")\n",
    "sample_data = os.path.join(report_path, \"sample_data\")\n",
    "defense_artifact = os.path.join(report_path, \"defense_artifact\")\n",
    "# deleting folder\n",
    "delete_directory(\n",
    "    directorys=[mnist_data_path, mnist_model_path, mnist_label_path, zip_path, pyc_model_path, report_path])\n",
    "\n",
    "# creating folder\n",
    "make_directory([mnist_data_path, mnist_model_path, mnist_label_path, zip_path, pyc_model_path, report_path, sample_data,\n",
    "                defense_artifact])"
   ]
  },
  {
   "cell_type": "code",
   "execution_count": null,
   "id": "bac30109",
   "metadata": {
    "id": "bac30109"
   },
   "outputs": [],
   "source": [
    "def cnn_model(input_shape=input_shape, num_classes=num_classes):\n",
    "    \"\"\"\n",
    "    Description: Create model architecture\n",
    "    \"\"\"\n",
    "    model = tf.keras.Sequential([\n",
    "        tf.keras.layers.Conv2D(32, (5,5), padding='same', activation='relu', input_shape=input_shape),\n",
    "        tf.keras.layers.Conv2D(32, (5,5), padding='same', activation='relu'),\n",
    "        tf.keras.layers.MaxPool2D(),\n",
    "        tf.keras.layers.Dropout(0.25),\n",
    "        tf.keras.layers.Conv2D(64, (3,3), padding='same', activation='relu'),\n",
    "        tf.keras.layers.Conv2D(64, (3,3), padding='same', activation='relu'),\n",
    "        tf.keras.layers.MaxPool2D(strides=(2,2)),\n",
    "        tf.keras.layers.Dropout(0.25),\n",
    "        tf.keras.layers.Flatten(),\n",
    "        tf.keras.layers.Dense(128, activation='relu'),\n",
    "        tf.keras.layers.Dropout(0.5),\n",
    "        tf.keras.layers.Dense(num_classes, activation='softmax')  \n",
    "    ])\n",
    "    #Compile model\n",
    "    model.compile(optimizer=tf.keras.optimizers.Adam(learning_rate=1e-3), loss = 'categorical_crossentropy', metrics=['accuracy'])\n",
    "    return model"
   ]
  },
  {
   "cell_type": "code",
   "execution_count": null,
   "id": "3d99d336",
   "metadata": {
    "id": "3d99d336"
   },
   "outputs": [],
   "source": [
    "\"\"\"\n",
    "Description: train model\n",
    "\"\"\"\n",
    "def train_model(model,X_train, y_train, X_test, y_test,batch_size=16,epochs=5,filename='mnist_model'):\n",
    "    '''\n",
    "    Description:Training  model\n",
    "    Args:\n",
    "        model:model to train \n",
    "        X_train: X_train for training \n",
    "        X_test: for validation\n",
    "        y_train: label for X_train\n",
    "        y_test: label for X_test\n",
    "        batch_size: batch size for training model\n",
    "        epochs: number of epochs to train model \n",
    "        filename : name to save extracted model\n",
    "    '''    \n",
    "    # Callbacks\n",
    "    checkpoint=tf.keras.callbacks.ModelCheckpoint(filepath=filename+'.h5',monitor='val_loss',verbose=1,save_best_only=True,mode='auto')\n",
    "    ES=tf.keras.callbacks.EarlyStopping(monitor='val_loss',min_delta=0,patience=5,mode='min',restore_best_weights=True)\n",
    "    \n",
    "    #train and record time for training\n",
    "    start_time=time.time()\n",
    "    history=model.fit(X_train,y_train,epochs=epochs,batch_size=batch_size,verbose=1, callbacks=[ES,checkpoint],validation_data=(X_test,y_test))#tensorboard_callback,,validation_split=0.05\n",
    "    elapsed_time = time.time() - start_time\n",
    "    \n",
    "    print(\"Elapsed time: {}\".format(format_timespan(elapsed_time)))\n",
    "    \n",
    "    return model,history"
   ]
  },
  {
   "cell_type": "code",
   "execution_count": null,
   "id": "2f6f107c",
   "metadata": {
    "id": "2f6f107c"
   },
   "outputs": [],
   "source": [
    "def Plot_model_training_parameters(training_history):\n",
    "    \"\"\"\n",
    "    Description : plot model to visualize model training \n",
    "    \n",
    "    Args:\n",
    "        training_history: history from which model training parameter can be taken for plotting \n",
    "    \"\"\"\n",
    "    loss=training_history.history['loss']\n",
    "    accuracy=training_history.history['accuracy']\n",
    "    val_loss=training_history.history['val_loss']\n",
    "    val_accuracy=training_history.history['val_accuracy']\n",
    "    epochs_range=np.arange(1,len(loss)+1)\n",
    "    \n",
    "    plt.figure(figsize=(12,6))\n",
    "    plt.subplot(1,2,1)\n",
    "    plt.plot(epochs_range,loss,label=\"Training Loss\")\n",
    "    plt.plot(epochs_range,val_loss,label=\"Validation Loss\")\n",
    "    plt.title(\"Training loss \")\n",
    "    plt.xlabel('Epochs',fontsize=16,fontweight='bold')\n",
    "    plt.ylabel(\"Loss\",fontsize=16,fontweight='bold')\n",
    "    plt.legend()\n",
    "    plt.subplot(1,2,2)\n",
    "    plt.plot(epochs_range,accuracy,label=\"Training Accuracy\")\n",
    "    plt.plot(epochs_range,val_accuracy,label=\"Validation Accuracy\")\n",
    "    plt.title(\"Training accuracy\")\n",
    "    plt.xlabel('Epochs',fontsize=16,fontweight='bold')\n",
    "    plt.ylabel(\"Accuracy\",fontsize=16,fontweight='bold')\n",
    "    plt.legend()\n",
    "    plt.show()"
   ]
  },
  {
   "cell_type": "code",
   "execution_count": null,
   "id": "d3f5e7bd",
   "metadata": {
    "id": "d3f5e7bd"
   },
   "outputs": [],
   "source": [
    "\"\"\"\n",
    "Description : Created architecture of the model\n",
    "\"\"\"\n",
    "model=cnn_model()"
   ]
  },
  {
   "cell_type": "code",
   "execution_count": null,
   "id": "7ce06eb9",
   "metadata": {
    "colab": {
     "base_uri": "https://localhost:8080/"
    },
    "id": "7ce06eb9",
    "outputId": "3b7db04d-d30a-4262-a65c-0ae00411054d"
   },
   "outputs": [
    {
     "name": "stdout",
     "output_type": "stream",
     "text": [
      "Model: \"sequential\"\n",
      "_________________________________________________________________\n",
      " Layer (type)                Output Shape              Param #   \n",
      "=================================================================\n",
      " conv2d (Conv2D)             (None, 28, 28, 32)        832       \n",
      "                                                                 \n",
      " conv2d_1 (Conv2D)           (None, 28, 28, 32)        25632     \n",
      "                                                                 \n",
      " max_pooling2d (MaxPooling2D  (None, 14, 14, 32)       0         \n",
      " )                                                               \n",
      "                                                                 \n",
      " dropout (Dropout)           (None, 14, 14, 32)        0         \n",
      "                                                                 \n",
      " conv2d_2 (Conv2D)           (None, 14, 14, 64)        18496     \n",
      "                                                                 \n",
      " conv2d_3 (Conv2D)           (None, 14, 14, 64)        36928     \n",
      "                                                                 \n",
      " max_pooling2d_1 (MaxPooling  (None, 7, 7, 64)         0         \n",
      " 2D)                                                             \n",
      "                                                                 \n",
      " dropout_1 (Dropout)         (None, 7, 7, 64)          0         \n",
      "                                                                 \n",
      " flatten (Flatten)           (None, 3136)              0         \n",
      "                                                                 \n",
      " dense (Dense)               (None, 128)               401536    \n",
      "                                                                 \n",
      " dropout_2 (Dropout)         (None, 128)               0         \n",
      "                                                                 \n",
      " dense_1 (Dense)             (None, 10)                1290      \n",
      "                                                                 \n",
      "=================================================================\n",
      "Total params: 484,714\n",
      "Trainable params: 484,714\n",
      "Non-trainable params: 0\n",
      "_________________________________________________________________\n"
     ]
    }
   ],
   "source": [
    "\"\"\"\n",
    "Description : Get model summary\n",
    "\"\"\"\n",
    "model.summary()"
   ]
  },
  {
   "cell_type": "code",
   "execution_count": null,
   "id": "c71845c6",
   "metadata": {
    "colab": {
     "base_uri": "https://localhost:8080/"
    },
    "id": "c71845c6",
    "outputId": "c90c348d-d033-43d3-dc6c-01340662d71a",
    "scrolled": true
   },
   "outputs": [
    {
     "name": "stdout",
     "output_type": "stream",
     "text": [
      "1688/1688 [==============================] - ETA: 0s - loss: 0.1061 - accuracy: 0.9692\n",
      "Epoch 1: val_loss improved from inf to 0.04663, saving model to /content/model/mnist_model.h5\n",
      "1688/1688 [==============================] - 488s 289ms/step - loss: 0.1061 - accuracy: 0.9692 - val_loss: 0.0466 - val_accuracy: 0.9845\n",
      "Elapsed time: 8 minutes and 22.46 seconds\n"
     ]
    }
   ],
   "source": [
    "\"\"\"\n",
    "Description: train model\n",
    "\"\"\"\n",
    "model,history=train_model(model,X_train, y_train, X_test, y_test,batch_size=32,epochs=1,filename=os.path.join(mnist_model_path,'mnist_model'))"
   ]
  },
  {
   "cell_type": "code",
   "execution_count": null,
   "id": "315f6abd",
   "metadata": {
    "colab": {
     "base_uri": "https://localhost:8080/"
    },
    "id": "315f6abd",
    "outputId": "47b07429-21c5-4049-ddb0-f1dc472ffb0a"
   },
   "outputs": [
    {
     "name": "stdout",
     "output_type": "stream",
     "text": [
      "188/188 [==============================] - 13s 68ms/step\n"
     ]
    }
   ],
   "source": [
    "\"\"\"\n",
    "Description: Get prediction on validation data\n",
    "\"\"\"\n",
    "pred=model.predict(X_val)"
   ]
  },
  {
   "cell_type": "code",
   "execution_count": null,
   "id": "4bbc8b99",
   "metadata": {
    "colab": {
     "base_uri": "https://localhost:8080/"
    },
    "id": "4bbc8b99",
    "outputId": "7625d700-0137-4881-aea1-3f89e10d4b74"
   },
   "outputs": [
    {
     "data": {
      "text/plain": [
       "array([1, 9, 3, 4, 6, 5, 0, 8, 5, 1])"
      ]
     },
     "execution_count": 37,
     "metadata": {},
     "output_type": "execute_result"
    }
   ],
   "source": [
    "\"\"\"\n",
    "Description: Convert prediction from probability to label\n",
    "\"\"\"\n",
    "y_pred = np.argmax(pred,axis=-1)\n",
    "y_pred[:10]"
   ]
  },
  {
   "cell_type": "code",
   "execution_count": null,
   "id": "wOx7NmkfgaO7",
   "metadata": {
    "colab": {
     "base_uri": "https://localhost:8080/"
    },
    "id": "wOx7NmkfgaO7",
    "outputId": "a571d793-0188-4a7d-bc88-bf29b6575953"
   },
   "outputs": [
    {
     "data": {
      "text/plain": [
       "(6000, 10)"
      ]
     },
     "execution_count": 38,
     "metadata": {},
     "output_type": "execute_result"
    }
   ],
   "source": [
    "pred.shape"
   ]
  },
  {
   "cell_type": "code",
   "execution_count": null,
   "id": "c97b2e0e",
   "metadata": {
    "colab": {
     "base_uri": "https://localhost:8080/"
    },
    "id": "c97b2e0e",
    "outputId": "901f21f3-556f-4bfa-971a-7132d0abc2eb"
   },
   "outputs": [
    {
     "name": "stdout",
     "output_type": "stream",
     "text": [
      "Accuracy is : 0.983\n"
     ]
    }
   ],
   "source": [
    "\"\"\"\n",
    "Description: Calculate Accuracy\n",
    "\"\"\"\n",
    "acc=metrics.accuracy_score(y_true=y_val,y_pred=y_pred)\n",
    "print(\"Accuracy is : {:.03f}\".format(acc))"
   ]
  },
  {
   "cell_type": "code",
   "execution_count": null,
   "id": "77a58f28",
   "metadata": {
    "colab": {
     "base_uri": "https://localhost:8080/"
    },
    "id": "77a58f28",
    "outputId": "88aeca0a-8c3a-4470-d362-c044074b47dd"
   },
   "outputs": [
    {
     "name": "stdout",
     "output_type": "stream",
     "text": [
      "              precision    recall  f1-score   support\n",
      "\n",
      "           0       0.98      1.00      0.99       592\n",
      "           1       0.99      0.99      0.99       674\n",
      "           2       0.98      1.00      0.99       596\n",
      "           3       1.00      0.98      0.99       613\n",
      "           4       0.97      1.00      0.98       584\n",
      "           5       0.99      0.99      0.99       542\n",
      "           6       0.99      0.97      0.98       592\n",
      "           7       0.99      0.96      0.97       627\n",
      "           8       0.97      0.99      0.98       585\n",
      "           9       0.98      0.96      0.97       595\n",
      "\n",
      "    accuracy                           0.98      6000\n",
      "   macro avg       0.98      0.98      0.98      6000\n",
      "weighted avg       0.98      0.98      0.98      6000\n",
      "\n"
     ]
    }
   ],
   "source": [
    "\"\"\"\n",
    "Description: Calculate classification report\n",
    "\"\"\"\n",
    "print(metrics.classification_report(y_val, y_pred))"
   ]
  },
  {
   "cell_type": "code",
   "execution_count": null,
   "id": "531f0347",
   "metadata": {
    "colab": {
     "base_uri": "https://localhost:8080/",
     "height": 409
    },
    "id": "531f0347",
    "outputId": "799252b5-0d99-4d2e-ec6f-e0887d073119"
   },
   "outputs": [
    {
     "data": {
      "image/png": "[encoded data removed]",
      "text/plain": [
       "<Figure size 864x432 with 2 Axes>"
      ]
     },
     "metadata": {
      "needs_background": "light"
     },
     "output_type": "display_data"
    }
   ],
   "source": [
    "\"\"\"\n",
    "Description: Plot model learning \n",
    "\"\"\"\n",
    "Plot_model_training_parameters(history)"
   ]
  },
  {
   "cell_type": "markdown",
   "id": "7f8fb2de",
   "metadata": {
    "id": "7f8fb2de"
   },
   "source": [
    "# 4.0 Prepare Data , Model and Label"
   ]
  },
  {
   "cell_type": "code",
   "execution_count": null,
   "id": "3212494b",
   "metadata": {
    "id": "3212494b"
   },
   "outputs": [],
   "source": [
    "def save_data_label(x, y, n, data_path=mnist_data_path, label_path = mnist_label_path):\n",
    "    \"\"\"\n",
    "    x: data\n",
    "    y: label\n",
    "    n: number of sample to save\n",
    "    data_path= path to save data\n",
    "    label_path = path to save label path\n",
    "    \"\"\"\n",
    "    if len(y.shape)==2:\n",
    "        y = np.argmax(y, axis=-1)\n",
    " \n",
    "    label=pd.DataFrame()\n",
    "    img_name = []\n",
    "    img_label = [] \n",
    "\n",
    "    for i in tqdm(range(n)):\n",
    "        cv2.imwrite(os.path.join(data_path,str(i)+\".jpg\") ,x[i]*255.0) # don't use plt.imread otheriwse while loading the saved images , and passing to model there is accuarcy drop \n",
    "        img_name.append(str(i)+\".jpg\")\n",
    "        img_label.append(y[i])\n",
    "    label['image'] = img_name\n",
    "    label[\"label\"] = img_label\n",
    "\n",
    "    # write orig_label dataframe\n",
    "    label.to_csv(os.path.join(label_path,\"label.csv\"),index=False)"
   ]
  },
  {
   "cell_type": "code",
   "execution_count": null,
   "id": "d56ba5c8",
   "metadata": {
    "colab": {
     "base_uri": "https://localhost:8080/"
    },
    "id": "d56ba5c8",
    "outputId": "ee1f23c2-dc35-4956-f2ad-ef9878bbd3b5"
   },
   "outputs": [
    {
     "name": "stderr",
     "output_type": "stream",
     "text": [
      "100%|██████████| 200/200 [00:00<00:00, 5620.88it/s]\n"
     ]
    }
   ],
   "source": [
    "\"\"\"\n",
    "Description: save sample of data and label\n",
    "\"\"\"\n",
    "save_data_label(x = X_val, y= y_val, n=200, data_path=mnist_data_path, label_path = mnist_label_path)"
   ]
  },
  {
   "cell_type": "code",
   "execution_count": null,
   "id": "8ec14823",
   "metadata": {
    "id": "8ec14823"
   },
   "outputs": [],
   "source": [
    "\"\"\"\n",
    "Description: Zip data\n",
    "\"\"\"\n",
    "make_archive(base_name=os.path.join(zip_path,\"data\"),root_dir=mnist_data_path,zip_format='zip')"
   ]
  },
  {
   "cell_type": "code",
   "execution_count": null,
   "id": "4997fb3b",
   "metadata": {
    "id": "4997fb3b"
   },
   "outputs": [],
   "source": [
    "\"\"\"\n",
    "Description: Zip label\n",
    "\"\"\"\n",
    "make_archive(base_name=os.path.join(zip_path,\"label\"),root_dir=mnist_label_path,zip_format='zip')"
   ]
  },
  {
   "cell_type": "code",
   "execution_count": null,
   "id": "4c228600",
   "metadata": {
    "id": "4c228600"
   },
   "outputs": [],
   "source": [
    "\"\"\"\n",
    "Description: save weight of model\n",
    "\"\"\"\n",
    "model.save_weights(os.path.join(pyc_model_path,\"model_weight.h5\"))"
   ]
  },
  {
   "cell_type": "code",
   "execution_count": null,
   "id": "a1e3ccaf",
   "metadata": {
    "id": "a1e3ccaf"
   },
   "outputs": [],
   "source": [
    "python_code='''\n",
    "#import library\n",
    "import numpy as np\n",
    "import tensorflow as tf\n",
    "\n",
    "#define class\n",
    "class BaseModel():\n",
    "    \"\"\"\n",
    "    class for base model\n",
    "    \"\"\"\n",
    "    def __init__(self,input_shape=(28,28,1),num_classes=10,model_weight_path=\"model_weight.h5\"):\n",
    "        \"\"\"\n",
    "        constructor for class\n",
    "\n",
    "        Parameters\n",
    "        ----------\n",
    "        input_shape : TYPE, optional\n",
    "            DESCRIPTION. The default is (28,28,1).\n",
    "        num_classes : TYPE, optional\n",
    "            DESCRIPTION. The default is 10.\n",
    "        model_weight_path : string, optional\n",
    "            DESCRIPTION. the relative path to model weight\n",
    "\n",
    "        Returns\n",
    "        -------\n",
    "        None.\n",
    "\n",
    "        \"\"\"\n",
    "        self.input_shape=input_shape\n",
    "        self.num_classes=num_classes\n",
    "        self.model_weight_path=model_weight_path\n",
    "        \n",
    "\n",
    "    def cnn_model(self,input_shape,num_classes):\n",
    "        \"\"\"\n",
    "        model architecture\n",
    "\n",
    "        Parameters\n",
    "        ----------\n",
    "        input_shape : string\n",
    "            DESCRIPTION.input_shape for model e.g (28,28,1)\n",
    "        num_classes : string\n",
    "            DESCRIPTION.number of class e.g 10\n",
    "\n",
    "        Returns\n",
    "        -------\n",
    "        model : model\n",
    "            DESCRIPTION.\n",
    "\n",
    "        \"\"\"\n",
    "        #create sequential model\n",
    "\n",
    "        model = tf.keras.Sequential([\n",
    "            tf.keras.layers.Conv2D(32, (5,5), padding='same', activation='relu', input_shape=input_shape),\n",
    "            tf.keras.layers.Conv2D(32, (5,5), padding='same', activation='relu'),\n",
    "            tf.keras.layers.MaxPool2D(),\n",
    "            tf.keras.layers.Dropout(0.25),\n",
    "            tf.keras.layers.Conv2D(64, (3,3), padding='same', activation='relu'),\n",
    "            tf.keras.layers.Conv2D(64, (3,3), padding='same', activation='relu'),\n",
    "            tf.keras.layers.MaxPool2D(strides=(2,2)),\n",
    "            tf.keras.layers.Dropout(0.25),\n",
    "            tf.keras.layers.Flatten(),\n",
    "            tf.keras.layers.Dense(128, activation='relu'),\n",
    "            tf.keras.layers.Dropout(0.5),\n",
    "            tf.keras.layers.Dense(num_classes, activation='softmax')   # used softmax , so set from_logits = False in cross entropy loss\n",
    "        ])\n",
    "\n",
    "        \n",
    "        return model\n",
    "    \n",
    "    def predict(self,X):\n",
    "        \"\"\"\n",
    "        predict for given data\n",
    "\n",
    "        Parameters\n",
    "        ----------\n",
    "        X : numpy array \n",
    "            DESCRIPTION.\n",
    "\n",
    "        Returns\n",
    "        -------\n",
    "        pred : numpy array\n",
    "            DESCRIPTION.\n",
    "\n",
    "        \"\"\"\n",
    "        model=self.cnn_model(input_shape=self.input_shape,num_classes=self.num_classes)\n",
    "        model.load_weights(self.model_weight_path)\n",
    "        \n",
    "        pred=np.argmax(model.predict(X),axis=-1)\n",
    "        return pred '''"
   ]
  },
  {
   "cell_type": "code",
   "execution_count": null,
   "id": "a8876de8",
   "metadata": {
    "id": "a8876de8"
   },
   "outputs": [],
   "source": [
    "\"\"\"\n",
    "Description: write model architecute to base_model.py file\n",
    "\"\"\"\n",
    "with open(\"base_model.py\", \"w\") as file:\n",
    "    file.writelines(python_code)"
   ]
  },
  {
   "cell_type": "code",
   "execution_count": null,
   "id": "a74f5b95",
   "metadata": {
    "colab": {
     "base_uri": "https://localhost:8080/",
     "height": 36
    },
    "id": "a74f5b95",
    "outputId": "908521b7-3aa6-497c-8e70-858319066e2e"
   },
   "outputs": [
    {
     "data": {
      "application/vnd.google.colaboratory.intrinsic+json": {
       "type": "string"
      },
      "text/plain": [
       "'/content/pyc_model/base_model.pyc'"
      ]
     },
     "execution_count": 73,
     "metadata": {},
     "output_type": "execute_result"
    }
   ],
   "source": [
    "\"\"\"\n",
    "Description: function to create .pyc file\n",
    "\"\"\"\n",
    "import py_compile\n",
    "py_compile.compile(file='base_model.py',cfile=os.path.join(pyc_model_path,'base_model.pyc'))"
   ]
  },
  {
   "cell_type": "markdown",
   "id": "3a101517",
   "metadata": {
    "id": "3a101517"
   },
   "source": [
    "* .pyc file with name base_model.pyc will get created\n",
    "* delete .py file and still import and other function will work\n",
    "* while AIShield API call , inplace of model.h5 file you can zip .pyc and model weight which will provide security to internal architecture"
   ]
  },
  {
   "cell_type": "code",
   "execution_count": null,
   "id": "3081ddc2",
   "metadata": {
    "id": "3081ddc2",
    "scrolled": true
   },
   "outputs": [],
   "source": [
    "\"\"\"\n",
    "Description: check import from .pyc file\n",
    "\"\"\"\n",
    "from pyc_model.base_model import BaseModel\n",
    "base_model=BaseModel(model_weight_path=r\"pyc_model/model_weight.h5\")"
   ]
  },
  {
   "cell_type": "code",
   "execution_count": null,
   "id": "dc0b9298",
   "metadata": {
    "colab": {
     "base_uri": "https://localhost:8080/",
     "height": 317
    },
    "id": "dc0b9298",
    "outputId": "0043ab43-02fb-444b-b5a4-16328bb40a0f"
   },
   "outputs": [
    {
     "name": "stdout",
     "output_type": "stream",
     "text": [
      "1/1 [==============================] - 0s 178ms/step\n",
      "[1]\n"
     ]
    },
    {
     "data": {
      "text/plain": [
       "<matplotlib.image.AxesImage at 0x7f252fcc0b50>"
      ]
     },
     "execution_count": 75,
     "metadata": {},
     "output_type": "execute_result"
    },
    {
     "data": {
      "image/png": "[encoded data removed]",
      "text/plain": [
       "<Figure size 432x288 with 1 Axes>"
      ]
     },
     "metadata": {
      "needs_background": "light"
     },
     "output_type": "display_data"
    }
   ],
   "source": [
    "\"\"\"\n",
    "Description : getting prediction from function imported from .pyc file\n",
    "\"\"\"\n",
    "print(base_model.predict(X_val[:1]))\n",
    "plt.imshow(X_val[0])"
   ]
  },
  {
   "cell_type": "code",
   "execution_count": null,
   "id": "7663c104",
   "metadata": {
    "id": "7663c104"
   },
   "outputs": [],
   "source": [
    "\"\"\"\n",
    "Description: Zip model\n",
    "\"\"\"\n",
    "model_encryption=0 #  0 if model is uploaded directly as a zip, 1 if model is encryted as .pyc and uploaded as a zip\n",
    "if os.path.isfile(os.path.join(zip_path,\"model.zip\")):\n",
    "    delete_directory(directorys=[os.path.join(zip_path,\"model.zip\")])\n",
    "if model_encryption:\n",
    "    make_archive(base_name=os.path.join(zip_path,\"model\"),root_dir=pyc_model_path,zip_format='zip')\n",
    "else:\n",
    "    make_archive(base_name=os.path.join(zip_path,\"model\"),root_dir=mnist_model_path,zip_format='zip')"
   ]
  },
  {
   "cell_type": "markdown",
   "id": "6003304c",
   "metadata": {
    "id": "6003304c"
   },
   "source": [
    "# 5.0 Vulnerability Analysis and Defense Generation using AIShield SDK"
   ]
  },
  {
   "cell_type": "code",
   "execution_count": null,
   "id": "d32eb64d",
   "metadata": {
    "id": "d32eb64d"
   },
   "outputs": [],
   "source": [
    "\"\"\"\n",
    "Description: AIShield API URL and subscription key\n",
    "\"\"\" \n",
    "baseurl=\"XXXXXXXXXXXXXXXXXXXXXXXXXXX\" # fill in API endpoint url from AIShield developer portal under API tab \n",
    "url=baseurl+\"/api/ais/v1.5\"\n",
    "api_key = \"xxxxxxxxxx\" # fill in subscription key from AIShield developer portal under My Dashboard tab\n",
    "org_id = \"xxxxxxxxxxxx\" # fill in Org_Id provided in welcome email"
   ]
  },
  {
   "cell_type": "code",
   "execution_count": null,
   "id": "c0a87517",
   "metadata": {
    "id": "c0a87517"
   },
   "outputs": [],
   "source": [
    "\"\"\"\n",
    "Description: File paths\n",
    "\"\"\"\n",
    "data_path=os.path.join(zip_path,'data.zip') #full path of data zip\n",
    "label_path=os.path.join(zip_path,'label.zip') #full path of label zip\n",
    "model_path=os.path.join(zip_path,'model.zip') #full path of model zip"
   ]
  },
  {
   "cell_type": "markdown",
   "id": "b7f62323",
   "metadata": {
    "id": "b7f62323"
   },
   "source": [
    "### `Perform Vulnerability Analysis through VulConfig Function`"
   ]
  },
  {
   "cell_type": "code",
   "execution_count": null,
   "id": "fc1549be",
   "metadata": {
    "id": "fc1549be"
   },
   "outputs": [],
   "source": [
    "\"\"\"\n",
    "Description: Initialize the AIShield API\n",
    "\"\"\"\n",
    "client = ais.AIShieldApi(api_url=url, api_key=api_key, org_id=org_id)"
   ]
  },
  {
   "cell_type": "code",
   "execution_count": null,
   "id": "c00a7613",
   "metadata": {
    "id": "c00a7613"
   },
   "outputs": [],
   "source": [
    "\"\"\"\n",
    "Description: Define the task and analysis type\n",
    "\"\"\"\n",
    "task_type = ais.get_type(\"task\", \"image_classification\")\n",
    "analysis_type = ais.get_type(\"analysis\", \"evasion\")"
   ]
  },
  {
   "cell_type": "code",
   "execution_count": null,
   "id": "2662d0d0",
   "metadata": {
    "colab": {
     "base_uri": "https://localhost:8080/"
    },
    "id": "2662d0d0",
    "outputId": "6b90baba-9294-4a9b-b0eb-031c92ebc690"
   },
   "outputs": [
    {
     "name": "stdout",
     "output_type": "stream",
     "text": [
      "Upload status: data file upload successful, label file upload successful, model file upload successful\n"
     ]
    }
   ],
   "source": [
    "\"\"\"\n",
    "Description: Perform model registration and upload the input artifacts\n",
    "\"\"\"\n",
    "status, job_details = client.register_model(task_type=task_type, analysis_type=analysis_type)\n",
    "model_id = job_details.model_id\n",
    "# print('Model id: {} \\nInput artifacts will be uploaded as:\\n data_upload_uri: {}\\n label_upload_uri: {}'\n",
    "#       '\\n model_upload_uri: {}'.format(model_id, job_details.data_upload_uri, job_details.label_upload_uri,\n",
    "#                                        job_details.model_upload_uri))\n",
    "\n",
    "upload_status = client.upload_input_artifacts(job_details=job_details,\n",
    "                                              data_path=data_path,\n",
    "                                              label_path=label_path,\n",
    "                                              model_path=model_path, )\n",
    "print('Upload status: {}'.format(', '.join(upload_status)))"
   ]
  },
  {
   "cell_type": "code",
   "execution_count": 5,
   "id": "3daff6eb",
   "metadata": {},
   "outputs": [
    {
     "name": "stdout",
     "output_type": "stream",
     "text": [
      "IC-Evasion parameters are:\n",
      " {'defense_bestonly': 'no', 'encryption_strategy': 0, 'input_dimensions': '(28, 28, 1)', 'model_api_details': '', 'model_framework': 'tensorflow', 'normalize_data': 'yes', 'number_of_classes': 10, 'use_model_api': 'no'}\n"
     ]
    }
   ],
   "source": [
    "\"\"\"\n",
    "Description: Specify the appropriate configs required for vulnerability analysis\n",
    "\"\"\"\n",
    "\n",
    "vuln_config = ais.VulnConfig(task_type=task_type,\n",
    "                             analysis_type=analysis_type,\n",
    "                             defense_generate=True)\n",
    "\n",
    "vuln_config.input_dimensions = input_shape  # input dimension for mnist digit classification\n",
    "vuln_config.number_of_classes = num_classes  # number of classes for mnist digit classification\n",
    "vuln_config.encryption_strategy = 0  # value 0 (or) 1, if model is unencrypted or encrypted(pyc) respectively\n",
    "print('IC-Evasion parameters are: \\n {} '.format(vuln_config.get_all_params()))"
   ]
  },
  {
   "cell_type": "code",
   "execution_count": null,
   "id": "2c6cc808",
   "metadata": {
    "colab": {
     "base_uri": "https://localhost:8080/"
    },
    "id": "2c6cc808",
    "outputId": "18fa311a-800e-4ea2-c126-e857b47f75f7"
   },
   "outputs": [
    {
     "name": "stdout",
     "output_type": "stream",
     "text": [
      "status: success \n",
      "Job_id: gAAAAABj4Kc2TA2g1HvJVtyfjgd6hdjEm6zmA_7aoytnvqCXk-_5c4pfDT7Gh9npeUA8fzMFhdiiimqAoMHBza5S_D3eLPsEMA== \n"
     ]
    }
   ],
   "source": [
    "\"\"\"\n",
    "Description: Run vulnerability analysis\n",
    "\"\"\"\n",
    "my_status, job_details = client.vuln_analysis(model_id=model_id, vuln_config=vuln_config)\n",
    "my_job_id = job_details.job_id\n",
    "print('status: {} \\nJob_id: {} '.format(my_status, my_job_id))"
   ]
  },
  {
   "cell_type": "code",
   "execution_count": null,
   "id": "687e3dc8",
   "metadata": {
    "colab": {
     "base_uri": "https://localhost:8080/"
    },
    "id": "687e3dc8",
    "outputId": "cd9eb916-b686-46d7-cd0f-04fec49d267a"
   },
   "outputs": [
    {
     "name": "stdout",
     "output_type": "stream",
     "text": [
      "Click on the URL to view Vulnerability Dashboard (GUI): https://xxxxxxxxxxxxxxxxxxxxxxxxxxxxxxxxxxxxxxxxxxxxxxxxxxx==\n"
     ]
    }
   ],
   "source": [
    "\"\"\"\n",
    "Description: Monitor progress for given Job ID using the Link below\n",
    "\"\"\"\n",
    "print('Click on the URL to view Vulnerability Dashboard (GUI): {}'.format(job_details.job_monitor_uri))"
   ]
  },
  {
   "cell_type": "code",
   "execution_count": null,
   "id": "64d3228d",
   "metadata": {
    "colab": {
     "base_uri": "https://localhost:8080/"
    },
    "id": "64d3228d",
    "outputId": "7eec5884-429b-49af-bdd5-6b4701c87cc5"
   },
   "outputs": [
    {
     "name": "stderr",
     "output_type": "stream",
     "text": [
      "2023-02-06 07:07:34,860 - INFO - Fetching job details for job id xxxxxxxxxxxxxxxxxxxxxxxxxxxxxxxxxxxxxxxxxxxxxxxxxxxxxxxxxxxxxxx==\n",
      "INFO:aishield.connection:Fetching job details for job id xxxxxxxxxxxxxxxxxxxxxxxxxxxxxxxxxxxxxxxxxxxxxxxxxxxxxxxxxxxxxxx==\n",
      "2023-02-06 07:07:41,067 - INFO - ModelExploration_Status:inprogress\n",
      "INFO:aishield.connection:ModelExploration_Status:inprogress\n"
     ]
    },
    {
     "name": "stdout",
     "output_type": "stream",
     "text": [
      "running...\r"
     ]
    },
    {
     "name": "stderr",
     "output_type": "stream",
     "text": [
      "2023-02-06 07:07:59,710 - INFO - ModelExploration_Status:completed\n",
      "INFO:aishield.connection:ModelExploration_Status:completed\n",
      "2023-02-06 07:07:59,716 - INFO - SanityCheck_Status:passed\n",
      "INFO:aishield.connection:SanityCheck_Status:passed\n",
      "2023-02-06 07:07:59,720 - INFO - EvasionAnalysis_Status:inprogress\n",
      "INFO:aishield.connection:EvasionAnalysis_Status:inprogress\n"
     ]
    },
    {
     "name": "stdout",
     "output_type": "stream",
     "text": [
      "running...\r",
      "running...\r",
      "running...\r"
     ]
    },
    {
     "name": "stderr",
     "output_type": "stream",
     "text": [
      "2023-02-06 07:17:50,914 - INFO - EvasionAnalysis_Status:completed\n",
      "INFO:aishield.connection:EvasionAnalysis_Status:completed\n",
      "2023-02-06 07:17:50,920 - INFO - DefenseReport_Status:inprogress\n",
      "INFO:aishield.connection:DefenseReport_Status:inprogress\n"
     ]
    },
    {
     "name": "stdout",
     "output_type": "stream",
     "text": [
      "running...\r",
      "running...\r"
     ]
    },
    {
     "name": "stderr",
     "output_type": "stream",
     "text": [
      "2023-02-06 07:19:36,820 - INFO - DefenseReport_Status:completed\n",
      "INFO:aishield.connection:DefenseReport_Status:completed\n",
      "2023-02-06 07:19:36,824 - INFO - Analysis completed for job id xxxxxxxxxxxxxxxxxxxxxxxxxxxxxxxxxxxxxxxxxxxxxxxxxxxxxxxxxxxxxxx==\n",
      "INFO:aishield.connection:Analysis completed for job id xxxxxxxxxxxxxxxxxxxxxxxxxxxxxxxxxxxxxxxxxxxxxxxxxxxxxxxxxxxxxxx==\n"
     ]
    },
    {
     "name": "stdout",
     "output_type": "stream",
     "text": [
      "running...\r",
      "job run completed\n",
      "job status  success\n"
     ]
    }
   ],
   "source": [
    "\"\"\"\n",
    "Description: Fetch Job status using Job ID\n",
    "\"\"\"\n",
    "my_status = client.job_status (job_id = my_job_id)\n",
    "print('job status ', my_status)"
   ]
  },
  {
   "cell_type": "markdown",
   "id": "6ef6157c",
   "metadata": {
    "id": "6ef6157c"
   },
   "source": [
    "### `Saving the Artifacts and the Reports`"
   ]
  },
  {
   "cell_type": "code",
   "execution_count": null,
   "id": "b4e9eb1a",
   "metadata": {
    "colab": {
     "base_uri": "https://localhost:8080/"
    },
    "id": "b4e9eb1a",
    "outputId": "7f741da8-2cf4-4ce0-ec5a-98eb340b6251"
   },
   "outputs": [
    {
     "name": "stdout",
     "output_type": "stream",
     "text": [
      "directory /content/Output_Artifacts already exist\n"
     ]
    }
   ],
   "source": [
    "\"\"\"\n",
    "Description: Creating a directory to save the defense artifacts\n",
    "\"\"\"\n",
    "OUTPUT_PATH = os.path.join(os.getcwd(),\"Output_Artifacts\")\n",
    "make_directory([OUTPUT_PATH])"
   ]
  },
  {
   "cell_type": "code",
   "execution_count": null,
   "id": "0199f14a",
   "metadata": {
    "colab": {
     "base_uri": "https://localhost:8080/"
    },
    "id": "0199f14a",
    "outputId": "7de0dd74-1a3b-4a03-bbbd-556347e16411"
   },
   "outputs": [
    {
     "name": "stderr",
     "output_type": "stream",
     "text": [
      "2023-02-06 07:19:36,864 - INFO - directory /content/Output_Artifacts already exist\n",
      "INFO:aishield.utils.util:directory /content/Output_Artifacts already exist\n",
      "2023-02-06 07:19:39,359 - INFO - vulnerability_20230206_0719.pdf is saved in /content/Output_Artifacts\n",
      "INFO:aishield.connection:vulnerability_20230206_0719.pdf is saved in /content/Output_Artifacts\n"
     ]
    }
   ],
   "source": [
    "\"\"\"\n",
    "Description: Download the Vulnerability Report\n",
    "\"\"\"\n",
    "if my_status == \"success\":\n",
    "    output_conf = ais.OutputConf(report_type=ais.get_type(\"report\", \"vulnerability\"),\n",
    "                                 file_format=ais.get_type(\"file_format\", \"pdf\"),\n",
    "                                 save_folder_path=OUTPUT_PATH)\n",
    "        \n",
    "    my_report = client.save_job_report(job_id=my_job_id, output_config=output_conf)"
   ]
  },
  {
   "cell_type": "code",
   "execution_count": null,
   "id": "a82016b5",
   "metadata": {
    "colab": {
     "base_uri": "https://localhost:8080/"
    },
    "id": "a82016b5",
    "outputId": "622a5716-322f-4a4a-ced0-97987128232a"
   },
   "outputs": [
    {
     "name": "stderr",
     "output_type": "stream",
     "text": [
      "2023-02-06 08:23:01,633 - INFO - directory /content/Output_Artifacts already exist\n",
      "INFO:aishield.utils.util:directory /content/Output_Artifacts already exist\n",
      "2023-02-06 08:23:04,272 - INFO - defense_20230206_0823.pdf is saved in /content/Output_Artifacts\n",
      "INFO:aishield.connection:defense_20230206_0823.pdf is saved in /content/Output_Artifacts\n"
     ]
    }
   ],
   "source": [
    "\"\"\"\n",
    "Description: Download the Defense Reports\n",
    "\"\"\"\n",
    "if my_status == \"success\":\n",
    "    output_conf = ais.OutputConf(report_type=ais.get_type(\"report\", \"defense\"),\n",
    "                                 file_format=ais.get_type(\"file_format\", \"pdf\"),\n",
    "                                 save_folder_path=OUTPUT_PATH)\n",
    "        \n",
    "    my_report = client.save_job_report(job_id=my_job_id, output_config=output_conf)"
   ]
  },
  {
   "cell_type": "code",
   "execution_count": null,
   "id": "07268e99",
   "metadata": {
    "colab": {
     "base_uri": "https://localhost:8080/"
    },
    "id": "07268e99",
    "outputId": "723b2fca-f60f-4f33-d3a8-6a71d110c5a0"
   },
   "outputs": [
    {
     "name": "stderr",
     "output_type": "stream",
     "text": [
      "2023-02-06 08:23:17,897 - INFO - directory /content/Output_Artifacts already exist\n",
      "INFO:aishield.utils.util:directory /content/Output_Artifacts already exist\n",
      "2023-02-06 08:23:20,129 - INFO - defense_artifact_20230206_0823.zip is saved in /content/Output_Artifacts\n",
      "INFO:aishield.connection:defense_artifact_20230206_0823.zip is saved in /content/Output_Artifacts\n"
     ]
    }
   ],
   "source": [
    "\"\"\"\n",
    "Description: Download the Defense artifacts: Model\n",
    "\"\"\"\n",
    "if my_status == \"success\":\n",
    "    output_conf = ais.OutputConf(report_type=ais.get_type(\"report\", \"defense_artifact\"),\n",
    "                                 file_format=ais.get_type(\"file_format\", \"pdf\"),\n",
    "                                 save_folder_path=OUTPUT_PATH)\n",
    "        \n",
    "    my_report = client.save_job_report(job_id=my_job_id, output_config=output_conf)"
   ]
  },
  {
   "cell_type": "code",
   "execution_count": null,
   "id": "83708a6f",
   "metadata": {
    "colab": {
     "base_uri": "https://localhost:8080/"
    },
    "id": "83708a6f",
    "outputId": "2f57c8b5-dadd-40c7-b080-da4d72d34960"
   },
   "outputs": [
    {
     "name": "stderr",
     "output_type": "stream",
     "text": [
      "2023-02-06 08:23:20,851 - INFO - directory /content/Output_Artifacts already exist\n",
      "INFO:aishield.utils.util:directory /content/Output_Artifacts already exist\n",
      "2023-02-06 08:23:22,712 - INFO - attack_samples_20230206_0823.zip is saved in /content/Output_Artifacts\n",
      "INFO:aishield.connection:attack_samples_20230206_0823.zip is saved in /content/Output_Artifacts\n"
     ]
    }
   ],
   "source": [
    "\"\"\"\n",
    "Description: Download the Attack Samples\n",
    "\"\"\"\n",
    "if my_status == \"success\":\n",
    "    output_conf = ais.OutputConf(report_type=ais.get_type(\"report\", \"attack_samples\"),\n",
    "                                 save_folder_path=OUTPUT_PATH)\n",
    "        \n",
    "    my_report = client.save_job_report(job_id=my_job_id, output_config=output_conf)"
   ]
  },
  {
   "cell_type": "markdown",
   "id": "fe36f8ee",
   "metadata": {
    "id": "fe36f8ee"
   },
   "source": [
    "## Experimentation Report"
   ]
  },
  {
   "cell_type": "code",
   "execution_count": null,
   "id": "d7b3c6be",
   "metadata": {
    "id": "d7b3c6be"
   },
   "outputs": [],
   "source": []
  }
 ],
 "metadata": {
  "colab": {
   "provenance": []
  },
  "kernelspec": {
   "display_name": "Python 3",
   "language": "python",
   "name": "python3"
  },
  "language_info": {
   "codemirror_mode": {
    "name": "ipython",
    "version": 3
   },
   "file_extension": ".py",
   "mimetype": "text/x-python",
   "name": "python",
   "nbconvert_exporter": "python",
   "pygments_lexer": "ipython3",
   "version": "3.8.13"
  }
 },
 "nbformat": 4,
 "nbformat_minor": 5
}
