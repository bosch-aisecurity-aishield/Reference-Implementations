{
 "cells": [
  {
   "cell_type": "markdown",
   "id": "64ce47d1",
   "metadata": {
    "id": "64ce47d1",
    "pycharm": {
     "name": "#%% md\n"
    }
   },
   "source": [
    "# Welcome to the AIShield Integration Notebook!\n",
    "\n",
    "**We are delighted to have you here!**\n",
    "\n",
    "## What to Expect !!\n",
    "This notebook serves as a comprehensive demonstration of the seamless integration capabilities of AIShield. As a powerful tool for securing your AI/ML assets against adversarial threats, AIShield ensures the integrity and robustness of your models, preventing financial loss, protecting brand reputation, and mitigating the risk of intellectual property theft.\n",
    "\n",
    "## What to Do !!\n",
    "- **Explore the notebook** at your own pace to gain deep insights into the functionalities and features offered by AIShield.\n",
    "- **Run the first code cell/block**, which includes **Support functionalities** crucial for the smooth execution of the notebook. This setup will enhance your experience and enable the seamless integration of AIShield.\n",
    "- Even without running the entire notebook, you can get a glimpse of AIShield's capabilities and its approach to vulnerability assessments through sample scenarios.\n",
    "- **Run the code cells** to witness firsthand how AIShield seamlessly integrates with your existing codebase, empowering you to protect your AI models against adversarial attacks.\n",
    "- **Experiment and adapt the code** to suit your specific use cases, leveraging the flexibility and customization options provided by AIShield.\n",
    "- Should you have any questions or require assistance, our dedicated [AIShield.Contact@bosch.com](mailto:AIShield.Contact@bosch.com) is just a click away.\n",
    "\n",
    "## What You'll Get !!\n",
    "Throughout this notebook, you'll find:\n",
    "- Code snippets demonstrating step-by-step procedures for incorporating AIShield into your existing workflows, ensuring comprehensive protection against adversarial threats.\n",
    "- Detailed guidance on the integration process, including any additional inputs required for thorough vulnerability analysis.\n",
    "- A comprehensive threat-informed defense model, empowering you to understand the vulnerabilities in your AI models and undertake appropriate remediation measures.\n",
    "- Report artifacts and a sample attack dataset, providing valuable insights into potential attack scenarios and assisting in devising robust defense strategies.\n",
    "- In-depth explanations of defense remediation techniques, equipping you with the knowledge and tools to safeguard your AI assets effectively.\n",
    "\n",
    "## <span style=\"color:teal\">AIShield Website and LinkedIn</span>\n",
    "To learn more about AIShield and its cutting-edge features, visit the official [AIShield website](https://www.boschaishield.com/). Connect with AIShield on [LinkedIn](https://www.linkedin.com/company/bosch-aishield/about/) to stay updated on the latest advancements in AI security.\n",
    "\n",
    "We hope this notebook empowers you to seamlessly integrate AIShield into your projects, ensuring the utmost protection for your AI/ML assets. If you have any questions or need further assistance, please don't hesitate to reach out. **Happy exploring!**\n"
   ]
  },
  {
   "cell_type": "markdown",
   "id": "cc04dd47",
   "metadata": {
    "id": "cc04dd47",
    "pycharm": {
     "name": "#%% md\n"
    }
   },
   "source": [
    "<a target=\"_blank\" href=\"https://colab.research.google.com/github/bosch-aisecurity-aishield/Reference-Implementations/blob/main/Product_Taskpair_wise/Image_Classification/Image_Classification_Extraction.ipynb\">\n",
    "  <img src=\"https://colab.research.google.com/assets/colab-badge.svg\" alt=\"Open In Colab\"/>\n",
    "</a>\n"
   ]
  },
  {
   "cell_type": "markdown",
   "id": "5e5cabeb",
   "metadata": {
    "id": "5e5cabeb",
    "pycharm": {
     "name": "#%% md\n"
    }
   },
   "source": [
    "## 1.0 Support Functionalities:"
   ]
  },
  {
   "cell_type": "code",
   "execution_count": 1,
   "id": "8b91984f",
   "metadata": {
    "id": "8b91984f",
    "pycharm": {
     "name": "#%%\n"
    }
   },
   "outputs": [],
   "source": [
    "\"\"\"\n",
    "Description : Use PyPi or AIShield API for Vulnerability Analysis\n",
    "              if PyPi = True (this notebook will use aishield pypi package for vulnerability analysis)\n",
    "              else = False (this notebook will use aishield api for vulnerability analysis)\n",
    "\"\"\"\n",
    "pypi = True"
   ]
  },
  {
   "cell_type": "code",
   "execution_count": 2,
   "id": "95fb5754",
   "metadata": {
    "colab": {
     "base_uri": "https://localhost:8080/",
     "height": 17
    },
    "id": "95fb5754",
    "outputId": "ea90ee79-2295-46cf-a8f7-331ccf02e6ce",
    "pycharm": {
     "name": "#%%\n"
    }
   },
   "outputs": [
    {
     "data": {
      "text/html": [
       "\n",
       "        <style>\n",
       "        .scrollable-code-input {\n",
       "            max-height: 500px;\n",
       "            overflow-y: scroll;\n",
       "        }\n",
       "        </style>\n",
       "        <script>\n",
       "        var codeInputCells = document.querySelectorAll('div.code_cell .input');\n",
       "        codeInputCells.forEach(function(cell) {\n",
       "            cell.classList.add('scrollable-code-input');\n",
       "        });\n",
       "        </script>\n",
       "    "
      ],
      "text/plain": [
       "<IPython.core.display.HTML object>"
      ]
     },
     "metadata": {},
     "output_type": "display_data"
    }
   ],
   "source": [
    "def make_code_input_scrollable():\n",
    "    \"\"\"Description : To make the input code cell scrollable for jupyternotebook\"\"\"\n",
    "    from IPython.display import display, HTML\n",
    "    display(HTML('''\n",
    "        <style>\n",
    "        .scrollable-code-input {\n",
    "            max-height: 500px;\n",
    "            overflow-y: scroll;\n",
    "        }\n",
    "        </style>\n",
    "        <script>\n",
    "        var codeInputCells = document.querySelectorAll('div.code_cell .input');\n",
    "        codeInputCells.forEach(function(cell) {\n",
    "            cell.classList.add('scrollable-code-input');\n",
    "        });\n",
    "        </script>\n",
    "    '''))\n",
    "\n",
    "make_code_input_scrollable()\n",
    "\n",
    "def display_pdf(runtime_environment,output_filename, pdf_path=None, file_id=None):\n",
    "\n",
    "    \"\"\"Descrption : To embeded pdf file in the ntoebook\"\"\"\n",
    "\n",
    "    from IPython.display import display, HTML\n",
    "    import os\n",
    "    output_file = output_filename+'.html'\n",
    "\n",
    "    # Check if the output file exists\n",
    "    if os.path.exists(output_file):\n",
    "        with open(output_file, 'r') as f:\n",
    "            saved_output = f.read()\n",
    "            display(HTML(saved_output))\n",
    "    else:\n",
    "        if 'colab' in runtime_environment.lower():\n",
    "            # Generate the Google Drive Viewer URL\n",
    "            if file_id is None:\n",
    "                print(pdf_path)\n",
    "                # Generate the Google Drive Viewer URL\n",
    "                drive_viewer_url = f'https://drive.google.com/viewerng/viewer?embedded=true&url={pdf_path}'\n",
    "                html_code = f'<iframe src=\"{drive_viewer_url}\" width=\"100%\" height=\"600px\"></iframe>'\n",
    "            else:\n",
    "                viewer_url = f\"https://drive.google.com/file/d/{file_id}/preview\"\n",
    "                html_code = f'<iframe src=\"{viewer_url}\" width=\"100%\" height=\"600px\"></iframe>'\n",
    "        else:\n",
    "            html_code = f'<embed src=\"{pdf_path}\" width=\"100%\" height=\"600px\" type=\"application/pdf\">'\n",
    "        # Save the output to a file\n",
    "        with open(output_file, 'w') as f:\n",
    "            f.write(html_code)\n",
    "\n",
    "        # Display the output\n",
    "        display(HTML(html_code))\n",
    "\n",
    "\n",
    "def check_runtime_environment():\n",
    "    \"\"\"\n",
    "    Description : Check notebook is running on colab or jupyter-notebook\n",
    "    \"\"\"\n",
    "    import os\n",
    "    colab = False\n",
    "    if 'google.colab' in str(get_ipython()):\n",
    "        colab = True\n",
    "        return 'Colab' , colab\n",
    "    else:\n",
    "        return 'Jupyter Notebook' , colab\n",
    "\n",
    "# Check the runtime environment\n",
    "runtime_environment,colab_running  = check_runtime_environment()\n",
    "\n",
    "# print(\"Notebook is running in\", runtime_environment)\n",
    "\n",
    "\n",
    "\n"
   ]
  },
  {
   "cell_type": "markdown",
   "id": "452a83b9",
   "metadata": {
    "id": "452a83b9",
    "pycharm": {
     "name": "#%% md\n"
    }
   },
   "source": [
    "    "
   ]
  },
  {
   "cell_type": "markdown",
   "id": "bfb01f37",
   "metadata": {
    "id": "bfb01f37",
    "pycharm": {
     "name": "#%% md\n"
    }
   },
   "source": [
    "   "
   ]
  },
  {
   "cell_type": "markdown",
   "id": "e137bb2f",
   "metadata": {
    "id": "e137bb2f",
    "pycharm": {
     "name": "#%% md\n"
    }
   },
   "source": [
    "\n",
    "<img src=\"https://aisdocs.blob.core.windows.net/reference/Workflow Images/wk1.png\"/>"
   ]
  },
  {
   "cell_type": "markdown",
   "id": "1bcb6716",
   "metadata": {
    "id": "1bcb6716",
    "pycharm": {
     "name": "#%% md\n"
    }
   },
   "source": [
    "   "
   ]
  },
  {
   "cell_type": "markdown",
   "id": "09aafb23",
   "metadata": {
    "id": "09aafb23",
    "pycharm": {
     "name": "#%% md\n"
    }
   },
   "source": [
    "  "
   ]
  },
  {
   "cell_type": "markdown",
   "id": "eb1f2642",
   "metadata": {
    "id": "eb1f2642",
    "pycharm": {
     "name": "#%% md\n"
    }
   },
   "source": [
    "## 2.0 Below code cell/block performs Step 1 to 4 with following these sequential steps :\n",
    "**STEP 1 : Installing libraries:** The required libraries will be installed to provide necessary functionalities for the task at hand.\n",
    "\n",
    "**STEP 2 : Loading the dataset:** The dataset containing the relevant information will be loaded into the program, allowing access to the data for analysis and modeling.\n",
    "\n",
    "**STEP 3 : Model development and training:** A sophisticated model will be developed to analyze and interpret the dataset. The model will then be trained using appropriate techniques to optimize its performance.\n",
    "\n",
    "**STEP 4 : Preparing the Data, Model, and Label:** Prior to further analysis, essential steps such as data preprocessing, model configuration, and label preparation will be carried out. This will ensure that the data, model, and labels are properly structured and ready for subsequent stages needed for aishield.\n",
    "\n"
   ]
  },
  {
   "cell_type": "code",
   "execution_count": 7,
   "id": "75b1807a",
   "metadata": {
    "colab": {
     "base_uri": "https://localhost:8080/",
     "height": 1000
    },
    "execution": {
     "iopub.execute_input": "2023-06-05T18:27:59.754298Z",
     "iopub.status.busy": "2023-06-05T18:27:59.754298Z",
     "iopub.status.idle": "2023-06-05T18:28:23.490327Z",
     "shell.execute_reply": "2023-06-05T18:28:23.488117Z"
    },
    "hide_code": false,
    "id": "75b1807a",
    "outputId": "38ffabfb-1c70-42c1-e0f3-157ae2117986",
    "pycharm": {
     "name": "#%%\n"
    },
    "scrolled": false
   },
   "outputs": [
    {
     "name": "stdout",
     "output_type": "stream",
     "text": [
      "Skipped the installation of all the prerequisites packages\n",
      "Failed to removed: C:\\Users\\PUM8KOR\\my_workspace\\AIShield\\repos\\Reference-Implementations\\Product_Taskpair_wise\\Image_Classification\\data\n",
      "Failed to removed: C:\\Users\\PUM8KOR\\my_workspace\\AIShield\\repos\\Reference-Implementations\\Product_Taskpair_wise\\Image_Classification\\model\n",
      "Failed to removed: C:\\Users\\PUM8KOR\\my_workspace\\AIShield\\repos\\Reference-Implementations\\Product_Taskpair_wise\\Image_Classification\\label\n",
      "Failed to removed: C:\\Users\\PUM8KOR\\my_workspace\\AIShield\\repos\\Reference-Implementations\\Product_Taskpair_wise\\Image_Classification\\encrypt_model\n",
      "Failed to removed: C:\\Users\\PUM8KOR\\my_workspace\\AIShield\\repos\\Reference-Implementations\\Product_Taskpair_wise\\Image_Classification\\reports\n",
      "Failed to removed: C:\\Users\\PUM8KOR\\my_workspace\\AIShield\\repos\\Reference-Implementations\\Product_Taskpair_wise\\Image_Classification\\zip\n",
      "Failed to removed: C:\\Users\\PUM8KOR\\my_workspace\\AIShield\\repos\\Reference-Implementations\\Product_Taskpair_wise\\Image_Classification\\reports\\sample_data\n",
      "directory C:\\Users\\PUM8KOR\\my_workspace\\AIShield\\repos\\Reference-Implementations\\Product_Taskpair_wise\\Image_Classification\\data created successfully\n",
      "directory C:\\Users\\PUM8KOR\\my_workspace\\AIShield\\repos\\Reference-Implementations\\Product_Taskpair_wise\\Image_Classification\\model created successfully\n",
      "directory C:\\Users\\PUM8KOR\\my_workspace\\AIShield\\repos\\Reference-Implementations\\Product_Taskpair_wise\\Image_Classification\\label created successfully\n",
      "directory C:\\Users\\PUM8KOR\\my_workspace\\AIShield\\repos\\Reference-Implementations\\Product_Taskpair_wise\\Image_Classification\\reports created successfully\n",
      "directory C:\\Users\\PUM8KOR\\my_workspace\\AIShield\\repos\\Reference-Implementations\\Product_Taskpair_wise\\Image_Classification\\encrypt_model created successfully\n",
      "directory C:\\Users\\PUM8KOR\\my_workspace\\AIShield\\repos\\Reference-Implementations\\Product_Taskpair_wise\\Image_Classification\\zip created successfully\n",
      "directory C:\\Users\\PUM8KOR\\my_workspace\\AIShield\\repos\\Reference-Implementations\\Product_Taskpair_wise\\Image_Classification\\reports\\sample_data created successfully\n"
     ]
    }
   ],
   "source": [
    "#@title Show/Hide Code\n",
    "'''\n",
    "Description: user input about dataset information, for eg: number of classes, input_shape\n",
    "'''\n",
    "\n",
    "img_row,img_col,channel=28,28,1\n",
    "num_classes=10\n",
    "epochs = 1\n",
    "batch_size= 64\n",
    "input_shape=(img_row,img_col,channel)\n",
    "model_encryption=0 #0 if model is uploaded directly as a zip, 1 if model is encryted as .pyc and uploaded as a zip\n",
    "Normalized =  'yes'\n",
    "run_code = False\n",
    "install = False #to install the prerequisite libraries or not\n",
    "\n",
    "\n",
    "## installing libraries if not and then importing\n",
    "if install:\n",
    "    print(\"Started of installing all the prerequisites packages\")\n",
    "    !pip install numpy==1.22\n",
    "    !pip install matplotlib==3.3.4\n",
    "    !pip install tensorflow-gpu==2.9.1\n",
    "    !pip install scikit-learn==1.0.2\n",
    "    !pip install humanfriendly==9.2\n",
    "    !pip install tqdm==4.61.1\n",
    "    !pip install requests==2.28.0\n",
    "    !pip install opencv-python\n",
    "    !pip install pandas\n",
    "\n",
    "    print(\"Starting installing aishield library\")\n",
    "    !pip install aishield\n",
    "    print(\"Installed all the prerequisites packages\")\n",
    "\n",
    "else:\n",
    "    print(\"Skipped the installation of all the prerequisites packages\")\n",
    "\n",
    "\n",
    "import os\n",
    "import cv2\n",
    "import json\n",
    "import time\n",
    "import tqdm\n",
    "import shutil\n",
    "import random\n",
    "import zipfile\n",
    "import requests\n",
    "import numpy as np\n",
    "import pandas as pd\n",
    "from time import sleep\n",
    "import tensorflow as tf\n",
    "from tensorflow import keras\n",
    "import matplotlib.pyplot as plt\n",
    "from sklearn.model_selection import train_test_split\n",
    "from tensorflow.keras import datasets, layers, optimizers, Sequential\n",
    "\n",
    "import aishield as ais\n",
    "\n",
    "\n",
    "def load_data():\n",
    "\n",
    "    '''\n",
    "        Description :\n",
    "            Load the dataset.\n",
    "\n",
    "        input_parameter: None\n",
    "        return_parameter: return the training and testing the dataset\n",
    "            X_train, y_train , X_test, y_test\n",
    "\n",
    "\n",
    "    '''\n",
    "\n",
    "\n",
    "    (X_train,y_train),(X_test,y_test) = tf.keras.datasets.mnist.load_data()\n",
    "    print(\"Dataset Loaded\")\n",
    "\n",
    "    return X_train, y_train, X_test, y_test\n",
    "\n",
    "def make_directory(directory):\n",
    "    \"\"\"\n",
    "    Create directory\n",
    "\n",
    "    Parameters\n",
    "    ----------\n",
    "    directorys : list containing the directory's path to create\n",
    "\n",
    "    Returns\n",
    "    -------\n",
    "    None.\n",
    "\n",
    "    \"\"\"\n",
    "    for d in directory:\n",
    "        if os.path.isdir(d):\n",
    "            print(\"directory {} already exist\".format(d))\n",
    "        if os.path.isdir(d)==False:\n",
    "            os.mkdir(path=d)\n",
    "            print(\"directory {} created successfully\".format(d))\n",
    "\n",
    "def delete_directory(directorys):\n",
    "    \"\"\"\n",
    "    Delete directory\n",
    "\n",
    "    Parameters\n",
    "    ----------\n",
    "    directorys : list containing the directory's path to delete along with all the files\n",
    "\n",
    "    Returns\n",
    "    -------\n",
    "    None.\n",
    "\n",
    "    \"\"\"\n",
    "    if len(directorys)>=1:\n",
    "        for d in directorys:\n",
    "            if os.path.isdir(d):\n",
    "                try:\n",
    "                    if os.path.isfile(d):\n",
    "                        os.remove(path=d)\n",
    "                    else:\n",
    "                        shutil.rmtree(path=d)\n",
    "                        print(\"Removed: {}\".format(d))\n",
    "                except:\n",
    "                    print(\"Failed to removed: {}\".format(d))\n",
    "            else:\n",
    "                print(\"Failed to removed: {}\".format(d))\n",
    "\n",
    "def make_archive(base_name,root_dir,zip_format='zip'):\n",
    "    \"\"\"\n",
    "    Creates zip for given folder\n",
    "\n",
    "    Parameters\n",
    "    ----------\n",
    "    base_name : name of zip file\n",
    "    root_dir : directory to archive/zip\n",
    "    zip_format : zip or tar\n",
    "        DESCRIPTION. The default is 'zip'.\n",
    "\n",
    "    Returns\n",
    "    -------\n",
    "    None.\n",
    "\n",
    "    \"\"\"\n",
    "    shutil.make_archive(base_name=base_name, format=zip_format, root_dir=root_dir)\n",
    "\n",
    "def training(parameter_payload:dict):\n",
    "\n",
    "    X_train = parameter_payload['X_train']\n",
    "    y_train = parameter_payload['y_train']\n",
    "    X_test = parameter_payload['X_test']\n",
    "    y_test = parameter_payload['y_test']\n",
    "\n",
    "    #splitting the dataset into train and validation set\n",
    "    X_train, X_val, y_train, y_val = train_test_split(X_train,y_train,stratify = y_train,test_size = 0.1,random_state = 42)\n",
    "\n",
    "    #Normalizing and Reshaping the Data\n",
    "    if parameter_payload['Normalized']:\n",
    "        print(\"Normalization of the inputdata being started\")\n",
    "        X_train = X_train.reshape(-1,*input_shape)/255.0\n",
    "        X_val =  X_val.reshape(-1,*input_shape)/255.0\n",
    "        X_test =  X_test.reshape(-1,*input_shape)/255.0\n",
    "        print(\"Normalization Done\")\n",
    "\n",
    "\n",
    "    #Convert the Labels to one hot encoder\n",
    "    y_train=keras.utils.to_categorical(y_train,num_classes)\n",
    "    y_test=keras.utils.to_categorical(y_test,num_classes)\n",
    "\n",
    "\n",
    "    model = create_model(parameter_payload['num_classes'])\n",
    "\n",
    "    # Checkpoint\n",
    "    checkpoint = tf.keras.callbacks.ModelCheckpoint(filepath=os.path.join(parameter_payload['model_path'],parameter_payload['model_name']),monitor='val_loss',verbose=1,save_best_only=True,mode='auto')\n",
    "    # Early stopper\n",
    "    early_stop = tf.keras.callbacks.EarlyStopping(monitor='val_loss',min_delta=0,patience=3,mode='min')\n",
    "\n",
    "    callbacks = [early_stop, checkpoint]\n",
    "\n",
    "    history = model.fit(X_train, y_train, validation_data = (X_test, y_test),epochs = parameter_payload['epochs'], batch_size=parameter_payload['batch_size'], verbose = 1 , callbacks = callbacks)\n",
    "\n",
    "\n",
    "    #Evaluate trained model\n",
    "\n",
    "    loss,accuracy=model.evaluate(X_test, y_test)\n",
    "    print(\"* Loss: {} \\n* Accuracy: {}\".format(loss,accuracy))\n",
    "\n",
    "    return model, X_val, y_val\n",
    "\n",
    "\n",
    "def create_folders():\n",
    "    '''\n",
    "        Descrption: this will remove(if present previously) and create folders needed\n",
    "                    to store the data , model and label for ease access\n",
    "\n",
    "        input_parameters: None\n",
    "        return_parameters: returns the path of the data , model , label , report, zip directory\n",
    "    '''\n",
    "\n",
    "    data_path=os.path.join(os.getcwd(),\"data\")\n",
    "    model_path=os.path.join(os.getcwd(),\"model\")\n",
    "    label_path=os.path.join(os.getcwd(),\"label\")\n",
    "    encrypt_model_path=os.path.join(os.getcwd(),\"encrypt_model\")\n",
    "\n",
    "    report_path=os.path.join(os.getcwd(),\"reports\")\n",
    "    sample_data = os.path.join(report_path, \"sample_data\")\n",
    "    #Create Zip Path which contains data , model and label zip files\n",
    "    zip_path=os.path.join(os.getcwd(),\"zip\")\n",
    "\n",
    "    #deleting previously generated folders\n",
    "    delete_directory(directorys=[data_path,model_path,label_path,encrypt_model_path,report_path,zip_path, sample_data])\n",
    "\n",
    "    #creating folders\n",
    "    make_directory([data_path,model_path,label_path,report_path,encrypt_model_path,zip_path, sample_data])\n",
    "\n",
    "    return data_path, model_path, label_path,encrypt_model_path,report_path, zip_path, sample_data\n",
    "\n",
    "def create_model(num_classes):\n",
    "    \"\"\"\n",
    "    Description: Create model architecture\n",
    "    input_parameters: num_classes : number of classes\n",
    "    return_parameters: model\n",
    "    \"\"\"\n",
    "    model = Sequential([\n",
    "        layers.Conv2D(32, (5,5), padding='same', activation='relu', input_shape=input_shape),\n",
    "        layers.Conv2D(32, (5,5), padding='same', activation='relu'),\n",
    "        layers.MaxPool2D(),\n",
    "        layers.Dropout(0.25),\n",
    "        layers.Conv2D(64, (3,3), padding='same', activation='relu'),\n",
    "        layers.Conv2D(64, (3,3), padding='same', activation='relu'),\n",
    "        layers.MaxPool2D(strides=(2,2)),\n",
    "        layers.Dropout(0.25),\n",
    "        layers.Flatten(),\n",
    "        layers.Dense(128, activation='relu'),\n",
    "        layers.Dropout(0.5),\n",
    "        layers.Dense(num_classes, activation='softmax')\n",
    "    ])\n",
    "\n",
    "    #Compile model\n",
    "    model.compile(optimizer=optimizers.Adam(learning_rate=1e-3), loss = 'categorical_crossentropy', metrics=['accuracy'])\n",
    "\n",
    "    return model\n",
    "\n",
    "def prepare_data_label(data_path, label_path, X_val, y_val, Normalized):\n",
    "\n",
    "    print(\"Preparing and Saving Data and Label file Needed.\")\n",
    "    label = pd.DataFrame()\n",
    "    img_name = []\n",
    "    img_label = []\n",
    "\n",
    "    for i in range(X_val.shape[0]):\n",
    "        if Normalized:\n",
    "            # don't use plt.imread otheriwse while loading the saved images ,\n",
    "            #and passing to model there is accuarcy drop\n",
    "            cv2.imwrite(os.path.join(data_path,str(i)+\".jpg\") ,X_val[i]*255.0)\n",
    "        else:\n",
    "            cv2.imwrite(os.path.join(data_path,str(i)+\".jpg\") ,X_val[i])\n",
    "\n",
    "        img_name.append(str(i)+\".jpg\")\n",
    "        img_label.append(y_val[i])\n",
    "\n",
    "    label['image'] = img_name\n",
    "    label[\"label\"] = np.array(img_label)\n",
    "\n",
    "    #write orig_label dataframe\n",
    "    label.to_csv(os.path.join(label_path,\"label.csv\"),index=False)\n",
    "\n",
    "def encrypt_model(model, encrypt_model_path):\n",
    "    print(\"As model_encryption has set as 1 , Creating an encripted Model\")\n",
    "    python_code='''\n",
    "#import library\n",
    "import numpy as np\n",
    "import tensorflow as tf\n",
    "\n",
    "#define class\n",
    "class BaseModel():\n",
    "    \"\"\"\n",
    "    class for base model\n",
    "    \"\"\"\n",
    "    def __init__(self,input_shape=(28,28,1),num_classes=10,model_weight_path=\"model_weight.h5\"):\n",
    "        \"\"\"\n",
    "        constructor for class\n",
    "\n",
    "        Parameters\n",
    "        ----------\n",
    "        input_shape : TYPE, optional\n",
    "            DESCRIPTION. The default is (28,28,1).\n",
    "        num_classes : TYPE, optional\n",
    "            DESCRIPTION. The default is 10.\n",
    "        model_weight_path : string, optional\n",
    "            DESCRIPTION. the relative path to model weight\n",
    "\n",
    "        Returns\n",
    "        -------\n",
    "        None.\n",
    "\n",
    "        \"\"\"\n",
    "        self.input_shape=input_shape\n",
    "        self.num_classes=num_classes\n",
    "        self.model_weight_path=model_weight_path\n",
    "\n",
    "\n",
    "    def cnn_model(self,input_shape,num_classes):\n",
    "        \"\"\"\n",
    "        model architecture\n",
    "\n",
    "        Parameters\n",
    "        ----------\n",
    "        input_shape : string\n",
    "            DESCRIPTION.input_shape for model e.g (28,28,1)\n",
    "        num_classes : string\n",
    "            DESCRIPTION.number of class e.g 10\n",
    "\n",
    "        Returns\n",
    "        -------\n",
    "        model : model\n",
    "            DESCRIPTION.\n",
    "\n",
    "        \"\"\"\n",
    "        #create sequential model\n",
    "\n",
    "        model = tf.keras.Sequential([\n",
    "            tf.keras.layers.Conv2D(32, (5,5), padding='same', activation='relu', input_shape=input_shape),\n",
    "            tf.keras.layers.Conv2D(32, (5,5), padding='same', activation='relu'),\n",
    "            tf.keras.layers.MaxPool2D(),\n",
    "            tf.keras.layers.Dropout(0.25),\n",
    "            tf.keras.layers.Conv2D(64, (3,3), padding='same', activation='relu'),\n",
    "            tf.keras.layers.Conv2D(64, (3,3), padding='same', activation='relu'),\n",
    "            tf.keras.layers.MaxPool2D(strides=(2,2)),\n",
    "            tf.keras.layers.Dropout(0.25),\n",
    "            tf.keras.layers.Flatten(),\n",
    "            tf.keras.layers.Dense(128, activation='relu'),\n",
    "            tf.keras.layers.Dropout(0.5),\n",
    "            tf.keras.layers.Dense(num_classes, activation='softmax')   # used softmax , so set from_logits = False in cross entropy loss\n",
    "        ])\n",
    "\n",
    "\n",
    "        return model\n",
    "\n",
    "    def predict(self,X):\n",
    "        \"\"\"\n",
    "        predict for given data\n",
    "\n",
    "        Parameters\n",
    "        ----------\n",
    "        X : numpy array\n",
    "            DESCRIPTION.\n",
    "\n",
    "        Returns\n",
    "        -------\n",
    "        pred : numpy array\n",
    "            DESCRIPTION.\n",
    "\n",
    "        \"\"\"\n",
    "        model=self.cnn_model(input_shape=self.input_shape,num_classes=self.num_classes)\n",
    "        model.load_weights(self.model_weight_path)\n",
    "\n",
    "        pred=np.argmax(model.predict(X),axis=-1)\n",
    "        return pred '''\n",
    "\n",
    "    # Writing to file\n",
    "    with open(\"base_model.py\", \"w\") as file:\n",
    "        # Writing data to a file\n",
    "        file.writelines(python_code)\n",
    "\n",
    "    #Description: function to create .pyc file\n",
    "    import py_compile\n",
    "    py_compile.compile(file='base_model.py',cfile=os.path.join(encrypt_model_path,'base_model.pyc'))\n",
    "\n",
    "    #Description: save weight of model\n",
    "    model.save_weights(os.path.join(encrypt_model_path,\"model_weight.h5\"))\n",
    "\n",
    "\n",
    "if __name__ == \"__main__\":\n",
    "\n",
    "    import tqdm\n",
    "    from time import sleep\n",
    "\n",
    "    user_workflow = {\n",
    "                 '1' : 'Loading the Dataset',\n",
    "                 '2' : 'Model Development and Training',\n",
    "                 '3' : 'Preparing Data, Model and Label',\n",
    "                 '4' : 'AIShield API Call'\n",
    "\n",
    "           }\n",
    "    \n",
    "    # creating folder to save datas\n",
    "    data_path, model_path, label_path,encrypt_model_path,report_path, zip_path, sample_data = create_folders()\n",
    "    \n",
    "    if run_code:\n",
    "        steps_tqdm = tqdm.tqdm(range(1,len(user_workflow)+1))\n",
    "        for step in steps_tqdm:\n",
    "\n",
    "            # if step == 1 :\n",
    "            #     steps_tqdm.set_description(user_workflow[str(step)])\n",
    "\n",
    "            if step == 1 :\n",
    "                steps_tqdm.set_description(user_workflow[str(step)])\n",
    "                X_train , y_train , X_test, y_test = load_data()\n",
    "\n",
    "\n",
    "            elif step == 2:\n",
    "#                 data_path, model_path, label_path,encrypt_model_path,report_path, zip_path, sample_data = create_folders()\n",
    "                steps_tqdm.set_description(user_workflow[str(step)])\n",
    "                training_parameters = {'X_train' : X_train ,\n",
    "                              'y_train':y_train ,\n",
    "                              'X_test' : X_test ,\n",
    "                              'y_test' : y_test,\n",
    "                              'Normalized' : Normalized ,\n",
    "                              'epochs' : epochs ,\n",
    "                              'batch_size' : batch_size,\n",
    "                              'model_path' : model_path ,\n",
    "                              'model_name' : 'mnist_model.h5',\n",
    "                              'num_classes' : num_classes\n",
    "                             }\n",
    "\n",
    "                model, X_val, y_val = training(parameter_payload=training_parameters)\n",
    "\n",
    "            elif step == 3:\n",
    "                steps_tqdm.set_description(user_workflow[str(step)])\n",
    "\n",
    "                prepare_data_label(data_path, label_path, X_val, y_val, Normalized)\n",
    "                #Description: Zip data\n",
    "                make_archive(base_name=os.path.join(zip_path,\"data\"),root_dir=data_path,zip_format='zip')\n",
    "\n",
    "                #Description: Zip label\n",
    "                make_archive(base_name=os.path.join(zip_path,\"label\"),root_dir=label_path,zip_format='zip')\n",
    "\n",
    "                #Description: Zip Model\n",
    "                if model_encryption:\n",
    "                    encrypt_model(model, encrypt_model_path)\n",
    "                    make_archive(base_name=os.path.join(zip_path,\"encrypt_model\"),root_dir=encrypt_model_path,zip_format='zip')\n",
    "                else:\n",
    "                    make_archive(base_name=os.path.join(zip_path,\"model\"),root_dir=model_path,zip_format='zip')\n",
    "\n",
    "            elif step == 4:\n",
    "                steps_tqdm.set_description(user_workflow[str(step)])\n",
    "                print(\"Below Cells will see How to integrate and Call AIShield for Vulnerability Analysis\")\n",
    "                break\n",
    "\n",
    "            sleep(1)\n",
    "\n"
   ]
  },
  {
   "cell_type": "markdown",
   "id": "9775ce40",
   "metadata": {
    "id": "9775ce40",
    "pycharm": {
     "name": "#%% md\n"
    }
   },
   "source": [
    "   "
   ]
  },
  {
   "cell_type": "markdown",
   "id": "aecb7b1b",
   "metadata": {
    "id": "aecb7b1b",
    "pycharm": {
     "name": "#%% md\n"
    }
   },
   "source": [
    "  "
   ]
  },
  {
   "cell_type": "markdown",
   "id": "80782b1d",
   "metadata": {
    "id": "80782b1d",
    "pycharm": {
     "name": "#%% md\n"
    }
   },
   "source": [
    "<img src=\"https://aisdocs.blob.core.windows.net/reference/Workflow Images/wk2.png\"/>"
   ]
  },
  {
   "cell_type": "markdown",
   "id": "d78d4789",
   "metadata": {
    "id": "d78d4789",
    "pycharm": {
     "name": "#%% md\n"
    }
   },
   "source": [
    "  "
   ]
  },
  {
   "cell_type": "markdown",
   "id": "74404585",
   "metadata": {
    "id": "74404585",
    "pycharm": {
     "name": "#%% md\n"
    }
   },
   "source": [
    "  "
   ]
  },
  {
   "cell_type": "markdown",
   "id": "7e49ea41",
   "metadata": {
    "id": "7e49ea41",
    "pycharm": {
     "name": "#%% md\n"
    }
   },
   "source": [
    "## 3.0 Vulnerability Analysis by AIShield\n",
    "\n",
    "**STEP 5 :You can move to trigger the AIShield analysis by following steps given below. If you want to preview the generated artifact by vulnerability analysis like the report and dashboard, please find below a few samples of same, all without having to trigger an actual analysis.** \n",
    "\n",
    "By examining these Reports, we can gain a comprehensive understanding of the upcoming Vulnerability Analysis conducted by AIShield, which will enable us to prepare more effectively.\n"
   ]
  },
  {
   "cell_type": "markdown",
   "id": "5a5c2dd7",
   "metadata": {},
   "source": [
    "<img src=\"https://aisdocs.blob.core.windows.net/reference/dashboard_images/Dashboard.png\"/>"
   ]
  },
  {
   "cell_type": "markdown",
   "id": "6475ab6a",
   "metadata": {},
   "source": [
    "<img src=\"https://aisdocs.blob.core.windows.net/reference/dashboard_images/IC_MEA_Dashboard.png\"/>"
   ]
  },
  {
   "cell_type": "code",
   "execution_count": 4,
   "id": "0ca157e6",
   "metadata": {
    "colab": {
     "base_uri": "https://localhost:8080/",
     "height": 697
    },
    "execution": {
     "iopub.execute_input": "2023-06-05T18:28:23.772534Z",
     "iopub.status.busy": "2023-06-05T18:28:23.772534Z",
     "iopub.status.idle": "2023-06-05T18:28:23.797616Z",
     "shell.execute_reply": "2023-06-05T18:28:23.795120Z"
    },
    "hide_code": false,
    "id": "0ca157e6",
    "outputId": "d700ee4d-55a2-46f9-88ba-04bdc1c40aeb",
    "pycharm": {
     "name": "#%%\n"
    },
    "scrolled": true
   },
   "outputs": [
    {
     "data": {
      "text/html": [
       "<embed src=\"https://aisdocs.blob.core.windows.net/reference/Reports/Image/ImageClassification/MEA/VulnerabilityReport.pdf\" width=\"100%\" height=\"600px\" type=\"application/pdf\">"
      ],
      "text/plain": [
       "<IPython.core.display.HTML object>"
      ]
     },
     "metadata": {},
     "output_type": "display_data"
    }
   ],
   "source": [
    "hosted_pdf_url = 'https://aisdocs.blob.core.windows.net/reference/Reports/Image/ImageClassification/MEA/VulnerabilityReport.pdf'\n",
    "display_pdf( output_filename = \"vul_sample\",runtime_environment = runtime_environment,pdf_path =hosted_pdf_url)\n"
   ]
  },
  {
   "cell_type": "code",
   "execution_count": 5,
   "id": "9ef68548",
   "metadata": {
    "colab": {
     "base_uri": "https://localhost:8080/",
     "height": 663
    },
    "execution": {
     "iopub.execute_input": "2023-06-05T18:28:23.805587Z",
     "iopub.status.busy": "2023-06-05T18:28:23.805587Z",
     "iopub.status.idle": "2023-06-05T18:28:23.844902Z",
     "shell.execute_reply": "2023-06-05T18:28:23.842729Z"
    },
    "hide_code": true,
    "id": "9ef68548",
    "outputId": "cce1d39e-c32a-4f9a-f196-e443e1b93f3f",
    "pycharm": {
     "name": "#%%\n"
    },
    "scrolled": true
   },
   "outputs": [
    {
     "data": {
      "text/html": [
       "<embed src=\"https://aisdocs.blob.core.windows.net/reference/Reports/Image/ImageClassification/MEA/DefenseReport.pdf\" width=\"100%\" height=\"600px\" type=\"application/pdf\">"
      ],
      "text/plain": [
       "<IPython.core.display.HTML object>"
      ]
     },
     "metadata": {},
     "output_type": "display_data"
    }
   ],
   "source": [
    "hosted_defense_pdf_url = 'https://aisdocs.blob.core.windows.net/reference/Reports/Image/ImageClassification/MEA/DefenseReport.pdf'\n",
    "display_pdf(output_filename = \"def_sample\", runtime_environment=runtime_environment, pdf_path =hosted_defense_pdf_url)\n"
   ]
  },
  {
   "cell_type": "markdown",
   "id": "12bfb0e6",
   "metadata": {
    "id": "12bfb0e6",
    "pycharm": {
     "name": "#%% md\n"
    }
   },
   "source": [
    "  "
   ]
  },
  {
   "cell_type": "markdown",
   "id": "5c51b0fe",
   "metadata": {
    "id": "5c51b0fe",
    "pycharm": {
     "name": "#%% md\n"
    }
   },
   "source": [
    "   "
   ]
  },
  {
   "cell_type": "markdown",
   "id": "015d1110",
   "metadata": {
    "id": "015d1110",
    "pycharm": {
     "name": "#%% md\n"
    }
   },
   "source": [
    "#### Let's proceed with the step-by-step process of calling and integrating AIShield for Vulnerability Analysis:\n",
    "\n",
    "1. **Initialize AIShield:** Ensure that AIShield is properly installed and its dependencies are set up. Also, initialize AIShield to prepare for the analysis.\n",
    "\n",
    "2. **Model Registration:** Register the specific task pair (e.g. image_classification) and analysis type (e.g. Extraction / MEA) to perform the vulnerability analysis accurately.\n",
    "\n",
    "3. **Upload Artifacts:** Upload the necessary artifacts that have been prepared previously in STEP 4 for analysis. These may include datasets, trained models, or any relevant files.\n",
    "\n",
    "4. **Model Analysis:** Trigger the model analysis API to initiate the vulnerability analysis assessment. AIShield will perform the analysis using the uploaded artifacts.\n",
    "\n",
    "5. **Monitor Analysis Status:** Keep track of the analysis progress and patiently wait for AIShield to generate the vulnerability assessment results. This may take some time depending on the complexity of the analysis.\n",
    "\n",
    "6. **Download Reports & Artifacts:** Once the analysis is complete, access and download the vulnerability analysis reports and any additional artifacts generated by AIShield. Analyze these reports to gain insights into potential vulnerabilities in your system or application.\n",
    "\n",
    "By following instructions, you can effectively call and integrate AIShield for Vulnerability Analysis."
   ]
  },
  {
   "cell_type": "markdown",
   "id": "8f15872b",
   "metadata": {
    "id": "8f15872b",
    "pycharm": {
     "name": "#%% md\n"
    }
   },
   "source": [
    "<img src=\"https://aisdocs.blob.core.windows.net/reference/Workflow Images/aw.png\"/>"
   ]
  },
  {
   "cell_type": "markdown",
   "id": "c3e41392",
   "metadata": {
    "id": "c3e41392",
    "pycharm": {
     "name": "#%% md\n"
    }
   },
   "source": [
    "### 3.1 Initialize AIShield"
   ]
  },
  {
   "cell_type": "code",
   "execution_count": 6,
   "id": "91fcac5f",
   "metadata": {
    "id": "91fcac5f",
    "pycharm": {
     "name": "#%%\n"
    }
   },
   "outputs": [
    {
     "ename": "TypeError",
     "evalue": "__init__() missing 1 required positional argument: 'api_key'",
     "output_type": "error",
     "traceback": [
      "\u001b[1;31m---------------------------------------------------------------------------\u001b[0m",
      "\u001b[1;31mTypeError\u001b[0m                                 Traceback (most recent call last)",
      "\u001b[1;32m~\\AppData\\Local\\Temp\\ipykernel_29144\\2862430792.py\u001b[0m in \u001b[0;36m<module>\u001b[1;34m\u001b[0m\n\u001b[0;32m     14\u001b[0m \u001b[1;32mif\u001b[0m \u001b[0mpypi\u001b[0m\u001b[1;33m:\u001b[0m\u001b[1;33m\u001b[0m\u001b[1;33m\u001b[0m\u001b[0m\n\u001b[0;32m     15\u001b[0m     \u001b[1;31m#if pypi then , x-api-key generation is taken care from pypi side using given org_id\u001b[0m\u001b[1;33m\u001b[0m\u001b[1;33m\u001b[0m\u001b[1;33m\u001b[0m\u001b[0m\n\u001b[1;32m---> 16\u001b[1;33m     \u001b[0maishield_client\u001b[0m \u001b[1;33m=\u001b[0m \u001b[0mais\u001b[0m\u001b[1;33m.\u001b[0m\u001b[0mAIShieldApi\u001b[0m\u001b[1;33m(\u001b[0m\u001b[0mapi_url\u001b[0m\u001b[1;33m=\u001b[0m\u001b[0murl\u001b[0m\u001b[1;33m,\u001b[0m\u001b[0morg_id\u001b[0m\u001b[1;33m=\u001b[0m\u001b[0morg_id\u001b[0m\u001b[1;33m)\u001b[0m\u001b[1;33m\u001b[0m\u001b[1;33m\u001b[0m\u001b[0m\n\u001b[0m\u001b[0;32m     17\u001b[0m \u001b[1;33m\u001b[0m\u001b[0m\n\u001b[0;32m     18\u001b[0m \u001b[1;32melse\u001b[0m\u001b[1;33m:\u001b[0m\u001b[1;33m\u001b[0m\u001b[1;33m\u001b[0m\u001b[0m\n",
      "\u001b[1;31mTypeError\u001b[0m: __init__() missing 1 required positional argument: 'api_key'"
     ]
    }
   ],
   "source": [
    "\"\"\"\n",
    "Description : AIShield URL , subscription key and orgid\n",
    "              Initialize the\n",
    "\"\"\"\n",
    "base_url = \"https://api.aws.boschaishield.com/prod\"\n",
    "url=base_url+\"/api/ais/v1.5\"\n",
    "org_id = 'XXXXXXXXXXXXXXXXXXXXXXXXXXXXXXXXXXXX' #<<Copy Org_id mentioned in welcome mail after AIShield Subscription>>\n",
    "\n",
    "\n",
    "\"\"\"\n",
    "Description: Initialize the AIShield API\n",
    "\"\"\"\n",
    "\n",
    "if pypi:\n",
    "    #if pypi then , x-api-key generation is taken care from pypi side using given org_id\n",
    "    aishield_client = ais.AIShieldApi(api_url=url,org_id=org_id)\n",
    "\n",
    "else:\n",
    "    \n",
    "    #if using AIShield API then , need an x-api-key for accessing AIShield registration / Analysis APIs\n",
    "    # below function will get insight of how to generate the x-api-key\n",
    "    def get_aws_api_key(url, org_id):\n",
    "\n",
    "        \"\"\"\n",
    "        Description: to get the x_api_key\n",
    "        \"\"\"\n",
    "        url = url+\"/get_aws_api_key\"\n",
    "        headers = {'org_id': org_id}\n",
    "        payload = {}\n",
    "\n",
    "        x_api_key_request = requests.request(\"GET\", url, headers=headers, data=payload)\n",
    "        status_code = x_api_key_request.status_code\n",
    "        x_api_key_request = json.loads(x_api_key_request.text)\n",
    "\n",
    "        if status_code == 200:\n",
    "            x_api_key = x_api_key_request['x_api_key']\n",
    "            return x_api_key\n",
    "\n",
    "        else:\n",
    "            print(x_api_key_request)\n",
    "            return None\n",
    "\n",
    "    #generate the x-api-key\n",
    "    x_api_key = get_aws_api_key(url, org_id)\n",
    "    print(\"x_api_key is :\",x_api_key)\n",
    "\n",
    "    headers={'Cache-Control': 'no-cache',\n",
    "    'x-api-key': x_api_key,\n",
    "    'Org-Id' : org_id\n",
    "    }"
   ]
  },
  {
   "cell_type": "markdown",
   "id": "81cdb00a",
   "metadata": {
    "id": "81cdb00a",
    "pycharm": {
     "name": "#%% md\n"
    }
   },
   "source": [
    "<img src=\"https://aisdocs.blob.core.windows.net/reference/Workflow Images/aw1.png\"/>"
   ]
  },
  {
   "cell_type": "markdown",
   "id": "b7914958",
   "metadata": {
    "id": "b7914958",
    "pycharm": {
     "name": "#%% md\n"
    }
   },
   "source": [
    "### 3.2 Model Registration"
   ]
  },
  {
   "cell_type": "code",
   "execution_count": 16,
   "id": "e5db4de5",
   "metadata": {
    "execution": {
     "iopub.execute_input": "2023-06-05T18:28:23.926951Z",
     "iopub.status.busy": "2023-06-05T18:28:23.926951Z",
     "iopub.status.idle": "2023-06-05T18:28:27.401047Z",
     "shell.execute_reply": "2023-06-05T18:28:27.398910Z"
    },
    "hide_code": false,
    "id": "e5db4de5",
    "pycharm": {
     "name": "#%%\n"
    }
   },
   "outputs": [],
   "source": [
    "\"\"\"\n",
    "Description: Define the task and analysis type for model registration\n",
    "              \"task_type\" : refers to the specific type of task being performed, for eg : \"image_classification.\"\n",
    "              \"analysis_type\" : refers to the specific type of analysis being performed,for eg : \"extraction.\n",
    "              For more information, check out [https://docs.boschaishield.com/api-docs/lesspostgreater-model-registration#-a-xGGsdVJB3d09cBAck-]\n",
    "\"\"\"\n",
    "\n",
    "if pypi:\n",
    "    \n",
    "    task_type = ais.get_type(\"task\", \"image_classification\") \n",
    "    analysis_type = ais.get_type(\"analysis\", \"extraction\")  \n",
    "\n",
    "\n",
    "    #Perform model registration\n",
    "    try:\n",
    "        status, model_registration_repsone = aishield_client.register_model(task_type=task_type, analysis_type=analysis_type)\n",
    "    except Exception as e:\n",
    "        print(str(e))\n",
    "        \n",
    "else:\n",
    "    \"\"\"\n",
    "    Description: call Model registration api to get unique model it and url to upload data, model and label\n",
    "    \"\"\"\n",
    "    model_registration_url = url + \"/model_registration/upload\"\n",
    "    \n",
    "    model_registration_payload = {\n",
    "        'task_type':\"image_classification\",\n",
    "        \"analysis_type\": \"extraction\"\n",
    "    }\n",
    "    \n",
    "    try:\n",
    "        new_request = requests.request(method=\"POST\", url=model_registration_url, headers=headers, json=model_registration_payload)\n",
    "        new_request = json.loads(new_request.text)\n",
    "        model_id = new_request['data']['model_id']\n",
    "        data_upload_obj = new_request['data']['urls']['data_upload_url']\n",
    "        label_upload_obj = new_request['data']['urls']['label_upload_url']\n",
    "        model_upload_obj = new_request['data']['urls']['model_upload_url']\n",
    "        print('model_id: ', model_id)\n",
    "        \n",
    "    except Exception as e:\n",
    "        print(new_request, str(e))"
   ]
  },
  {
   "cell_type": "markdown",
   "id": "8475dc38",
   "metadata": {
    "id": "8475dc38",
    "pycharm": {
     "name": "#%% md\n"
    }
   },
   "source": [
    "<img src=\"https://aisdocs.blob.core.windows.net/reference/Workflow Images/aw2.png\"/>"
   ]
  },
  {
   "cell_type": "markdown",
   "id": "c8769c47",
   "metadata": {
    "id": "c8769c47",
    "pycharm": {
     "name": "#%% md\n"
    }
   },
   "source": [
    "### 3.3 Upload input artifacts"
   ]
  },
  {
   "cell_type": "code",
   "execution_count": 9,
   "id": "94b68adf",
   "metadata": {},
   "outputs": [],
   "source": [
    "def download_file_from_git(url:str, file_name:str=None):\n",
    "    \"\"\"\n",
    "    Download data from given url and save\n",
    "    \"\"\"\n",
    "    if fine_name is None:\n",
    "        file_name = url.split(\"/\")[-1]  # Keeping url file name\n",
    "   \n",
    "    # Request url keeping stream alive\n",
    "    response = requests.get(url, stream=True)  \n",
    "\n",
    "    with open(file_name, mode=\"wb\") as file:\n",
    "        for chunk in response.iter_content(chunk_size=10 * 1024):\n",
    "            file.write(chunk)\n",
    "                       \n",
    "    print(\"file : {} downloaded successfully\")"
   ]
  },
  {
   "cell_type": "code",
   "execution_count": null,
   "id": "797120e3",
   "metadata": {},
   "outputs": [],
   "source": [
    "\"\"\"\n",
    "Description: Define path for Data, Label and Model\n",
    "\"\"\"\n",
    "zip_path = 'zip/'\n",
    "if run_code:\n",
    "    data_path=os.path.join(zip_path,'data.zip') #full path of data zip\n",
    "    label_path=os.path.join(zip_path,'label.zip') #full path of label zip\n",
    "    model_path=os.path.join(zip_path,'model.zip') #full path of model zip\n",
    "else:\n",
    "    # set url to download\n",
    "    model_url = r'https://github.com/bosch-aisecurity-aishield/Reference-Implementations/blob/data_download_from_git/Product_Taskpair_wise/Image_Classification/Reference_data/mnist0.zip'\n",
    "    data_url = r'https://github.com/bosch-aisecurity-aishield/Reference-Implementations/blob/data_download_from_git/Product_Taskpair_wise/Image_Classification/Reference_data/mnist_data.zip'\n",
    "    label_url = r'https://github.com/bosch-aisecurity-aishield/Reference-Implementations/blob/data_download_from_git/Product_Taskpair_wise/Image_Classification/Reference_data/mnist_label.zip'\n",
    "    \n",
    "    # start downloading datas from url\n",
    "    download_file_from_git(url=model_url, file_name=os.path.join(model_path,'model.zip'))\n",
    "    download_file_from_git(url=data_url, file_name=os.path.join(data_path,'data.zip'))\n",
    "    download_file_from_git(url=label_url, file_name=os.path.join(label_path,'label.zip'))\n",
    "\n",
    "print(\"data path : \".format(data_path))\n",
    "print(\"label path : \".format(label_path))\n",
    "print(\"model path : \".format(model_path))"
   ]
  },
  {
   "cell_type": "code",
   "execution_count": 17,
   "id": "bcb368b4",
   "metadata": {
    "colab": {
     "base_uri": "https://localhost:8080/"
    },
    "execution": {
     "iopub.execute_input": "2023-06-05T18:28:27.409855Z",
     "iopub.status.busy": "2023-06-05T18:28:27.404436Z",
     "iopub.status.idle": "2023-06-05T18:28:37.206324Z",
     "shell.execute_reply": "2023-06-05T18:28:37.204157Z"
    },
    "hide_code": false,
    "id": "bcb368b4",
    "outputId": "50a535d1-5c42-4c7d-b0b8-8ecb5c82fc09",
    "pycharm": {
     "name": "#%%\n"
    }
   },
   "outputs": [
    {
     "name": "stdout",
     "output_type": "stream",
     "text": [
      "Upload status: data file upload successful, label file upload successful, model file upload successful\n"
     ]
    }
   ],
   "source": [
    "\"\"\"\n",
    "Description: Full File paths and upload input artifacts\n",
    "\"\"\"\n",
    "\n",
    "# model_path=os.path.join(zip_path,'encrypt_model.zip') #full path of model zip. uncomment if model_encryption is 1\n",
    "\n",
    "\n",
    "if pypi:\n",
    "    #upload input artifacts\n",
    "    upload_status = aishield_client.upload_input_artifacts(job_details=model_registration_repsone,\n",
    "                                                  data_path=data_path,\n",
    "                                                  label_path=label_path,\n",
    "                                                  model_path=model_path, )\n",
    "    print('Upload status: {}'.format(', '.join(upload_status)))\n",
    "\n",
    "else:\n",
    "    def upload_file(upload_obj, file_path):\n",
    "\n",
    "        url = upload_obj['url']\n",
    "        request_payload = upload_obj['fields']\n",
    "        files=[\n",
    "                  ('file',(os.path.basename(file_path),open(file_path,'rb'),'application/zip'))\n",
    "                ]\n",
    "\n",
    "        headers = {}\n",
    "        new_request = requests.request(\"POST\", url, headers=headers, data=request_payload, files=files)\n",
    "        status_cd = new_request.status_code\n",
    "        if status_cd == 204:\n",
    "            status = 'upload sucessful'\n",
    "        else:\n",
    "            status = 'upload failed'\n",
    "        return status\n",
    "\n",
    "    \"\"\"\n",
    "    Description: Hit AIShield File Upload API\n",
    "    \"\"\"\n",
    "    data_upload_status = upload_file(data_upload_obj, data_path)\n",
    "    label_upload_status = upload_file(label_upload_obj, label_path)\n",
    "    model_upload_status = upload_file(model_upload_obj, model_path)\n",
    "    print('data_upload_status: ', data_upload_status)\n",
    "    print('label_upload_status: ', label_upload_status)\n",
    "    print('model_upload_status: ', model_upload_status)\n"
   ]
  },
  {
   "cell_type": "markdown",
   "id": "f705377c",
   "metadata": {
    "id": "f705377c",
    "pycharm": {
     "name": "#%% md\n"
    }
   },
   "source": [
    "<img src=\"https://aisdocs.blob.core.windows.net/reference/Workflow Images/aw3.png\"/>"
   ]
  },
  {
   "cell_type": "markdown",
   "id": "0758139d",
   "metadata": {
    "id": "0758139d",
    "pycharm": {
     "name": "#%% md\n"
    }
   },
   "source": [
    "### 3.4 Model Analysis"
   ]
  },
  {
   "cell_type": "code",
   "execution_count": 3,
   "id": "251ad457",
   "metadata": {
    "colab": {
     "base_uri": "https://localhost:8080/"
    },
    "execution": {
     "iopub.execute_input": "2023-06-05T18:28:37.208991Z",
     "iopub.status.busy": "2023-06-05T18:28:37.208991Z",
     "iopub.status.idle": "2023-06-05T18:28:38.353099Z",
     "shell.execute_reply": "2023-06-05T18:28:38.349996Z"
    },
    "hide_code": false,
    "id": "251ad457",
    "outputId": "41dbf67f-4e45-4e28-d66a-02ff362bb8c4",
    "pycharm": {
     "name": "#%%\n"
    }
   },
   "outputs": [
    {
     "data": {
      "text/plain": [
       "'\\nDescription: Specify the appropriate configs required for vulnerability analysis and trigger model analysis\\n'"
      ]
     },
     "execution_count": 3,
     "metadata": {},
     "output_type": "execute_result"
    }
   ],
   "source": [
    "\"\"\"\n",
    "Description: Specify the appropriate configs required for vulnerability analysis and trigger model analysis\n",
    "\"\"\"\n",
    "\n",
    "\n",
    "if pypi:\n",
    "    vuln_config = ais.VulnConfig(task_type=task_type,\n",
    "                                 analysis_type=analysis_type,\n",
    "                                 defense_generate=True)\n",
    "\n",
    "    vuln_config.input_dimensions = input_shape  # input dimension for mnist digit classification\n",
    "    vuln_config.number_of_classes = num_classes  # number of classes for mnist digit classification\n",
    "    vuln_config.attack_type = \"greybox\"  # greybox or blackbox depending upon the availability of information about Model, Data and Parameters\n",
    "    vuln_config.number_of_attack_queries = 500  # Number of attack queries to be generated for testing model vulnerability\n",
    "    vuln_config.encryption_strategy = model_encryption  # value 0 (or) 1, if model is unencrypted or encrypted(pyc) respectively\n",
    "    print('IC-Extraction parameters are: \\n {} '.format(vuln_config.get_all_params()))\n",
    "\n",
    "\n",
    "\n",
    "    #Run vulnerability analysis\n",
    "    job_status, job_details = aishield_client.vuln_analysis(model_id=model_registration_repsone.model_id, vuln_config=vuln_config)\n",
    "\n",
    "    #unique job_id for the analyis\n",
    "    job_id = job_details.job_id\n",
    "    print('\\nstatus: {} \\nJob_id: {} \\n'.format(job_status, job_id))\n",
    "\n",
    "    #Monitor progress for given Job ID using the Link below\n",
    "    print('Click on the URL to view Vulnerability Dashboard (GUI): {}'.format(job_details.job_dashboard_uri))\n",
    "\n",
    "\n",
    "else:\n",
    "\n",
    "    \"\"\"\n",
    "    Description: Payload for AIShield VulnerabilityReport api call\n",
    "    \"\"\"\n",
    "    payload={}\n",
    "    payload['use_model_api']=\"no\"\n",
    "    payload['model_api_details']=\"no\"\n",
    "    payload['normalize_data']=\"Yes\"\n",
    "    payload['input_dimensions']=str(input_shape)\n",
    "    payload['number_of_classes']=str(num_classes)\n",
    "    payload['attack_type']=\"blackbox\"\n",
    "    payload['number_of_attack_queries']=600\n",
    "    payload['model_framework']='tensorflow'\n",
    "    payload['vulnerability_threshold']=\"0\"\n",
    "    payload['defense_bestonly']=\"no\"\n",
    "    payload['encryption_strategy']= model_encryption\n",
    "\n",
    "    print(\"IC-Extraction parameters are:\",payload)\n",
    "    \"\"\"\n",
    "    Description: Hit AIShield VulnerabilityReport api\n",
    "    \"\"\"\n",
    "    model_analysis_url = url + \"/model_analyse/{}\".format(model_id)\n",
    "    if data_upload_status == \"upload sucessful\" and model_upload_status == \"upload sucessful\" and label_upload_status == \"upload sucessful\":\n",
    "        new_request = requests.request(method=\"POST\", url=model_analysis_url, json=payload,headers=headers)\n",
    "        new_request=json.loads(new_request.text)\n",
    "        for k, v in new_request.items():\n",
    "            print(\"* {} : {}\".format(k,v))\n",
    "\n",
    "        job_id=new_request['job_id']\n"
   ]
  },
  {
   "cell_type": "markdown",
   "id": "78c6e269",
   "metadata": {
    "id": "78c6e269",
    "pycharm": {
     "name": "#%% md\n"
    }
   },
   "source": [
    "<img src=\"https://aisdocs.blob.core.windows.net/reference/Workflow Images/aw4.png\"/>"
   ]
  },
  {
   "cell_type": "markdown",
   "id": "f46c938b",
   "metadata": {
    "id": "f46c938b",
    "pycharm": {
     "name": "#%% md\n"
    }
   },
   "source": [
    "### 3.5 Monitor Analysis Status"
   ]
  },
  {
   "cell_type": "code",
   "execution_count": 4,
   "id": "55003c2e",
   "metadata": {
    "colab": {
     "base_uri": "https://localhost:8080/"
    },
    "execution": {
     "iopub.execute_input": "2023-06-05T18:28:38.360112Z",
     "iopub.status.busy": "2023-06-05T18:28:38.360112Z",
     "iopub.status.idle": "2023-06-05T18:33:26.590260Z",
     "shell.execute_reply": "2023-06-05T18:33:26.588183Z"
    },
    "hide_code": false,
    "id": "55003c2e",
    "outputId": "492a62d5-f9e8-46fc-b5b4-998d7b608108",
    "pycharm": {
     "name": "#%%\n"
    }
   },
   "outputs": [
    {
     "data": {
      "text/plain": [
       "'\\nDescription: Fetch Job status using Job ID\\n'"
      ]
     },
     "execution_count": 4,
     "metadata": {},
     "output_type": "execute_result"
    }
   ],
   "source": [
    "\"\"\"\n",
    "Description: Fetch Job status using Job ID\n",
    "\"\"\"\n",
    "\n",
    "if pypi:\n",
    "    status = aishield_client.job_status (job_id = job_id)\n",
    "    print('job status ', status)\n",
    "\n",
    "else:\n",
    "    def monitor_api_progress(new_job_id):\n",
    "        job_status_url = url + \"/job_status_detailed?job_id=\" + new_job_id\n",
    "\n",
    "        # status dictionary\n",
    "        status_dictionary = {\n",
    "            'ModelExploration_Status': 'na',\n",
    "            'SanityCheck_Status': 'na',\n",
    "            'QueryGenerator_Status': 'na',\n",
    "            'VunerabilityEngine_Status': 'na',\n",
    "            'DefenseReport_Status': 'na',\n",
    "        }\n",
    "        counts = [0] * len(status_dictionary)\n",
    "        failed_api_hit_count = 0\n",
    "        while True:\n",
    "            time.sleep(2)\n",
    "            try:\n",
    "                job_status_response = requests.request(\"GET\", job_status_url, params={},\n",
    "                                                       headers=headers)\n",
    "\n",
    "                job_status_payload = json.loads(job_status_response.text)\n",
    "                failing_key = 'ModelExploration_Status'\n",
    "                for i, key in enumerate(status_dictionary.keys()):\n",
    "                    if status_dictionary[key] == 'na':\n",
    "                        if job_status_payload[key] == 'inprogress' and status_dictionary[key] == 'na':\n",
    "                            status_dictionary[key] = job_status_payload[key]\n",
    "                            print(str(key), \":\", status_dictionary[key])\n",
    "\n",
    "                        elif job_status_payload[key] == 'completed' or job_status_payload[key] == 'passed':\n",
    "                            status_dictionary[key] = job_status_payload[key]\n",
    "                            counts[i] += 1\n",
    "                            print(str(key), \":\", status_dictionary[key])\n",
    "\n",
    "                        if job_status_payload[key] == 'failed':\n",
    "                            failing_key = key\n",
    "                            status_dictionary[key] = job_status_payload[key]\n",
    "                            print(str(key), \":\", status_dictionary[key])\n",
    "\n",
    "                    elif job_status_payload[key] == 'completed' or job_status_payload[key] == 'passed':\n",
    "                        status_dictionary[key] = job_status_payload[key]\n",
    "                        if counts[i] < 1:\n",
    "                            print(str(key), \":\", status_dictionary[key])\n",
    "                        counts[i] += 1\n",
    "\n",
    "                    else:\n",
    "                        if job_status_payload[key] == 'failed':\n",
    "                            failing_key = key\n",
    "                            status_dictionary[key] = job_status_payload[key]\n",
    "                            print(str(key), \":\", status_dictionary[key])\n",
    "\n",
    "                if job_status_payload[failing_key] == 'failed':\n",
    "                    break\n",
    "\n",
    "                if status_dictionary['VunerabilityEngine_Status'] == 'passed' or status_dictionary[\n",
    "                    'VunerabilityEngine_Status'] == 'completed' and job_status_payload[\n",
    "                    'CurrentStatus'] == \"Defense generation is not triggered\":\n",
    "                    print(\"\\n Vulnerability score {} failed to cross vulnerability threshold of {}\".format(\n",
    "                        job_status_payload['VulnerabiltyScore'], payload['vulnerability_threshold']))\n",
    "                    break\n",
    "                if job_status_payload['DefenseReport_Status'] == 'completed':\n",
    "                    break\n",
    "            except Exception as e:\n",
    "                failed_api_hit_count += 1\n",
    "                print(\"Error {}. trying {} ...\".format(str(e), failed_api_hit_count))\n",
    "                if failed_api_hit_count >= 3:\n",
    "                    break\n",
    "        return status_dictionary\n",
    "\n",
    "    status_dictionary = monitor_api_progress(new_job_id=job_id)"
   ]
  },
  {
   "cell_type": "markdown",
   "id": "066faf3e",
   "metadata": {
    "id": "066faf3e",
    "pycharm": {
     "name": "#%% md\n"
    }
   },
   "source": [
    "<img src=\"https://aisdocs.blob.core.windows.net/reference/Workflow Images/aw5.png\"/>"
   ]
  },
  {
   "cell_type": "markdown",
   "id": "0f27f7b1",
   "metadata": {
    "id": "0f27f7b1",
    "pycharm": {
     "name": "#%% md\n"
    }
   },
   "source": [
    "### 3.6 Download Reports and artifacts"
   ]
  },
  {
   "cell_type": "code",
   "execution_count": 21,
   "id": "56bd0d06",
   "metadata": {
    "execution": {
     "iopub.execute_input": "2023-06-05T18:33:26.599519Z",
     "iopub.status.busy": "2023-06-05T18:33:26.598522Z",
     "iopub.status.idle": "2023-06-05T18:33:26.617593Z",
     "shell.execute_reply": "2023-06-05T18:33:26.615601Z"
    },
    "id": "56bd0d06",
    "pycharm": {
     "name": "#%%\n"
    }
   },
   "outputs": [],
   "source": [
    "report_path = \"reports/\"\n",
    "status =\"success\""
   ]
  },
  {
   "cell_type": "code",
   "execution_count": 22,
   "id": "1f8a5a01",
   "metadata": {
    "id": "1f8a5a01",
    "pycharm": {
     "name": "#%%\n"
    }
   },
   "outputs": [],
   "source": [
    "def download_artifact(job_id, report_path, report_type='Vulnerability', file_format=0):\n",
    "    \"\"\"\n",
    "    job_id: job_id  received after successful api call\n",
    "    report_type: report to be downloaded\n",
    "    file_format: change file_format to : 0- all report in zip\n",
    "                        1- report in .txt\n",
    "                        2- report in .pdf\n",
    "                        3- report in .json\n",
    "                        4- report in .xml\n",
    "    \"\"\"\n",
    "    print(\"received report_type : {} and file format is: {}\".format(report_type, file_format))\n",
    "    report_url = url + \"/\" + \"get_report?job_id=\" + str(\n",
    "        job_id) + \"&report_type=\" + report_type + \"&file_format=\" + str(file_format)\n",
    "\n",
    "    headers1 = headers\n",
    "    headers1[\"content-type\"] = \"application/zip\"\n",
    "\n",
    "    response = requests.request(\"GET\", report_url, params={}, headers=headers1)\n",
    "\n",
    "    file_path = None\n",
    "    if file_format == 0 or file_format == \"Attack_samples\":\n",
    "        file_path=os.path.join(report_path, report_type + \".zip\")\n",
    "        with open(file_path, 'wb') as f:\n",
    "            f.write(response.content)\n",
    "\n",
    "    elif file_format == 1:\n",
    "        file_path=os.path.join(report_path, report_type + \".txt\")\n",
    "        with open(file_path, 'wb') as f:\n",
    "            f.write(response.content)\n",
    "\n",
    "    elif file_format == 2:\n",
    "        file_path=os.path.join(report_path, report_type + \".pdf\")\n",
    "        with open(file_path, 'wb') as f:\n",
    "            f.write(response.content)\n",
    "\n",
    "    elif file_format == 3:\n",
    "        file_path=os.path.join(report_path, report_type + \".json\")\n",
    "        with open(file_path, 'wb') as f:\n",
    "            f.write(response.content)\n",
    "\n",
    "    elif file_format == 4:\n",
    "        file_path=os.path.join(report_path, report_type + \".xml\")\n",
    "        with open(file_path, 'wb') as f:\n",
    "            f.write(response.content)\n",
    "\n",
    "    return file_path"
   ]
  },
  {
   "cell_type": "code",
   "execution_count": 23,
   "id": "ce56da2b",
   "metadata": {
    "colab": {
     "base_uri": "https://localhost:8080/"
    },
    "execution": {
     "iopub.execute_input": "2023-06-05T18:33:26.623599Z",
     "iopub.status.busy": "2023-06-05T18:33:26.622603Z",
     "iopub.status.idle": "2023-06-05T18:33:29.924086Z",
     "shell.execute_reply": "2023-06-05T18:33:29.922601Z"
    },
    "hide_code": false,
    "id": "ce56da2b",
    "outputId": "553c167d-1d5f-4c22-d93d-eae8516ebd32",
    "pycharm": {
     "name": "#%%\n"
    }
   },
   "outputs": [
    {
     "name": "stderr",
     "output_type": "stream",
     "text": [
      "2023-07-07 04:29:39,277 - INFO - directory reports/ already exist\n",
      "INFO:aishield.utils.util:directory reports/ already exist\n",
      "2023-07-07 04:29:43,247 - INFO - vulnerability_20230707_0429.pdf is saved in reports/\n",
      "INFO:aishield.connection:vulnerability_20230707_0429.pdf is saved in reports/\n"
     ]
    }
   ],
   "source": [
    "\"\"\"\n",
    "Description: Download the Defense Reports\n",
    "\"\"\"\n",
    "\n",
    "if pypi:\n",
    "    if status == \"success\":\n",
    "        output_conf = ais.OutputConf(report_type=ais.get_type(\"report\", \"vulnerability\"),\n",
    "                                     file_format=ais.get_type(\"file_format\", \"pdf\"),\n",
    "                                     save_folder_path=report_path)\n",
    "\n",
    "        vul_report = aishield_client.save_job_report(job_id=job_id, output_config=output_conf)\n",
    "\n",
    "else:\n",
    "\n",
    "    vul_report = download_artifact(job_id=job_id, report_path= report_path, report_type='Vulnerability', file_format=2)"
   ]
  },
  {
   "cell_type": "code",
   "execution_count": 24,
   "id": "094f5a93",
   "metadata": {
    "colab": {
     "base_uri": "https://localhost:8080/"
    },
    "execution": {
     "iopub.execute_input": "2023-06-05T18:33:29.927533Z",
     "iopub.status.busy": "2023-06-05T18:33:29.927533Z",
     "iopub.status.idle": "2023-06-05T18:33:30.753174Z",
     "shell.execute_reply": "2023-06-05T18:33:30.751183Z"
    },
    "hide_code": false,
    "id": "094f5a93",
    "outputId": "b08faee7-8a09-470e-f950-89825d5a2860",
    "pycharm": {
     "name": "#%%\n"
    }
   },
   "outputs": [
    {
     "name": "stderr",
     "output_type": "stream",
     "text": [
      "2023-07-07 04:29:46,349 - INFO - directory reports/ already exist\n",
      "INFO:aishield.utils.util:directory reports/ already exist\n",
      "2023-07-07 04:29:49,818 - INFO - defense_20230707_0429.pdf is saved in reports/\n",
      "INFO:aishield.connection:defense_20230707_0429.pdf is saved in reports/\n"
     ]
    }
   ],
   "source": [
    "\"\"\"\n",
    "Description: Download the Defense Reports\n",
    "\"\"\"\n",
    "if pypi:\n",
    "    if status == \"success\":\n",
    "        output_conf = ais.OutputConf(report_type=ais.get_type(\"report\", \"defense\"),\n",
    "                                     file_format=ais.get_type(\"file_format\", \"pdf\"),\n",
    "                                     save_folder_path=report_path)\n",
    "\n",
    "        def_report = aishield_client.save_job_report(job_id=job_id, output_config=output_conf)\n",
    "else:\n",
    "    def_report = download_artifact(job_id=job_id, report_path= report_path, report_type='Defense', file_format=2)"
   ]
  },
  {
   "cell_type": "code",
   "execution_count": 25,
   "id": "6dda4e59",
   "metadata": {
    "colab": {
     "base_uri": "https://localhost:8080/"
    },
    "execution": {
     "iopub.execute_input": "2023-06-05T18:33:30.755901Z",
     "iopub.status.busy": "2023-06-05T18:33:30.755901Z",
     "iopub.status.idle": "2023-06-05T18:33:31.600939Z",
     "shell.execute_reply": "2023-06-05T18:33:31.598946Z"
    },
    "hide_code": false,
    "id": "6dda4e59",
    "outputId": "383d25e8-1cb4-4aba-f202-5157ae9c7dfe",
    "pycharm": {
     "name": "#%%\n"
    }
   },
   "outputs": [
    {
     "name": "stderr",
     "output_type": "stream",
     "text": [
      "2023-07-07 04:29:51,820 - INFO - directory reports/ already exist\n",
      "INFO:aishield.utils.util:directory reports/ already exist\n",
      "2023-07-07 04:29:53,886 - INFO - defense_artifact_20230707_0429.zip is saved in reports/\n",
      "INFO:aishield.connection:defense_artifact_20230707_0429.zip is saved in reports/\n"
     ]
    }
   ],
   "source": [
    "\"\"\"\n",
    "Description: Download the Defense artifacts: Model\n",
    "\"\"\"\n",
    "\n",
    "if pypi:\n",
    "    if status == \"success\":\n",
    "        output_conf = ais.OutputConf(report_type=ais.get_type(\"report\", \"defense_artifact\"),\n",
    "                                     file_format=ais.get_type(\"file_format\", \"pdf\"),\n",
    "                                     save_folder_path=report_path)\n",
    "\n",
    "        def_artifact_report = aishield_client.save_job_report(job_id=job_id, output_config=output_conf)\n",
    "else:\n",
    "    def_artifact_report = download_artifact(job_id=job_id, report_path= report_path, report_type='Defense_artifact', file_format=0)"
   ]
  },
  {
   "cell_type": "code",
   "execution_count": 26,
   "id": "77c57373",
   "metadata": {
    "colab": {
     "base_uri": "https://localhost:8080/"
    },
    "execution": {
     "iopub.execute_input": "2023-06-05T18:33:31.607651Z",
     "iopub.status.busy": "2023-06-05T18:33:31.607651Z",
     "iopub.status.idle": "2023-06-05T18:33:32.603112Z",
     "shell.execute_reply": "2023-06-05T18:33:32.600361Z"
    },
    "hide_code": false,
    "id": "77c57373",
    "outputId": "be76b81d-34d5-411d-f83d-ce529fbe920e",
    "pycharm": {
     "name": "#%%\n"
    }
   },
   "outputs": [
    {
     "name": "stderr",
     "output_type": "stream",
     "text": [
      "2023-07-07 04:29:55,847 - INFO - directory reports/ already exist\n",
      "INFO:aishield.utils.util:directory reports/ already exist\n",
      "2023-07-07 04:29:57,432 - INFO - attack_samples_20230707_0429.zip is saved in reports/\n",
      "INFO:aishield.connection:attack_samples_20230707_0429.zip is saved in reports/\n"
     ]
    }
   ],
   "source": [
    "\"\"\"\n",
    "Description: Download the Attack Samples\n",
    "\"\"\"\n",
    "if pypi:\n",
    "    if status == \"success\":\n",
    "        output_conf = ais.OutputConf(report_type=ais.get_type(\"report\", \"attack_samples\"),\n",
    "                                     save_folder_path=report_path)\n",
    "\n",
    "        attack_report = aishield_client.save_job_report(job_id=job_id, output_config=output_conf)\n",
    "else:\n",
    "    attack_report = download_artifact(job_id=job_id, report_path= report_path, report_type='Attack_samples', file_format=0)"
   ]
  },
  {
   "cell_type": "code",
   "execution_count": 27,
   "id": "Odv5kzeYFTOZ",
   "metadata": {
    "execution": {
     "iopub.execute_input": "2023-06-05T18:33:32.606419Z",
     "iopub.status.busy": "2023-06-05T18:33:32.606419Z",
     "iopub.status.idle": "2023-06-05T18:33:32.645220Z",
     "shell.execute_reply": "2023-06-05T18:33:32.644077Z"
    },
    "hide_code": false,
    "id": "Odv5kzeYFTOZ",
    "pycharm": {
     "name": "#%%\n"
    }
   },
   "outputs": [],
   "source": [
    "\n",
    "def get_file_id(report_path):\n",
    "\n",
    "    file_id = None\n",
    "    !pip install --upgrade google-api-python-client google-auth-httplib2 google-auth-oauthlib\n",
    "\n",
    "    # from google.colab import drive\n",
    "    # drive.mount('/content/drive')\n",
    "    import os\n",
    "    from googleapiclient.discovery import build\n",
    "    from googleapiclient.http import MediaFileUpload\n",
    "\n",
    "    # Authenticate and authorize access to the Google Drive API\n",
    "    from google.colab import auth\n",
    "    auth.authenticate_user()\n",
    "\n",
    "    # Build the Drive API service\n",
    "    drive_service = build('drive', 'v3')\n",
    "\n",
    "    # Path to the PDF file in your local drive\n",
    "#         local_pdf_path = '/content/drive/MyDrive/Vulnerability.pdf'\n",
    "\n",
    "    # Upload the PDF file to Google Drive\n",
    "    pdf_file_name = os.path.basename(report_path)\n",
    "    file_metadata = {'name': pdf_file_name}\n",
    "    media = MediaFileUpload(report_path, mimetype='application/pdf')\n",
    "    file = drive_service.files().create(body=file_metadata, media_body=media, fields='id').execute()\n",
    "\n",
    "    # Set sharing permissions to \"Anyone with the link\"\n",
    "    file_id = file.get('id')\n",
    "    drive_service.permissions().create(\n",
    "        fileId=file_id,\n",
    "        body={'role': 'reader', 'type': 'anyone'}\n",
    "    ).execute()\n",
    "\n",
    "    return file_id"
   ]
  },
  {
   "cell_type": "code",
   "execution_count": 28,
   "id": "6f2c29ad",
   "metadata": {
    "colab": {
     "base_uri": "https://localhost:8080/",
     "height": 1000
    },
    "execution": {
     "iopub.execute_input": "2023-06-05T18:33:32.652937Z",
     "iopub.status.busy": "2023-06-05T18:33:32.652937Z",
     "iopub.status.idle": "2023-06-05T18:33:32.679968Z",
     "shell.execute_reply": "2023-06-05T18:33:32.678696Z"
    },
    "hide_code": false,
    "id": "6f2c29ad",
    "outputId": "f0d83366-ee7f-4ba0-a640-25b0f3c40f2f",
    "pycharm": {
     "name": "#%%\n"
    }
   },
   "outputs": [
    {
     "name": "stdout",
     "output_type": "stream",
     "text": [
      "Requirement already satisfied: google-api-python-client in /usr/local/lib/python3.10/dist-packages (2.84.0)\n",
      "Collecting google-api-python-client\n",
      "  Downloading google_api_python_client-2.92.0-py2.py3-none-any.whl (11.4 MB)\n",
      "\u001b[2K     \u001b[90m━━━━━━━━━━━━━━━━━━━━━━━━━━━━━━━━━━━━━━━━\u001b[0m \u001b[32m11.4/11.4 MB\u001b[0m \u001b[31m94.9 MB/s\u001b[0m eta \u001b[36m0:00:00\u001b[0m\n",
      "\u001b[?25hRequirement already satisfied: google-auth-httplib2 in /usr/local/lib/python3.10/dist-packages (0.1.0)\n",
      "Requirement already satisfied: google-auth-oauthlib in /usr/local/lib/python3.10/dist-packages (0.4.6)\n",
      "Collecting google-auth-oauthlib\n",
      "  Downloading google_auth_oauthlib-1.0.0-py2.py3-none-any.whl (18 kB)\n",
      "Requirement already satisfied: httplib2<1.dev0,>=0.15.0 in /usr/local/lib/python3.10/dist-packages (from google-api-python-client) (0.21.0)\n",
      "Requirement already satisfied: google-auth<3.0.0.dev0,>=1.19.0 in /usr/local/lib/python3.10/dist-packages (from google-api-python-client) (2.17.3)\n",
      "Requirement already satisfied: google-api-core!=2.0.*,!=2.1.*,!=2.2.*,!=2.3.0,<3.0.0.dev0,>=1.31.5 in /usr/local/lib/python3.10/dist-packages (from google-api-python-client) (2.11.1)\n",
      "Requirement already satisfied: uritemplate<5,>=3.0.1 in /usr/local/lib/python3.10/dist-packages (from google-api-python-client) (4.1.1)\n",
      "Requirement already satisfied: six in /usr/local/lib/python3.10/dist-packages (from google-auth-httplib2) (1.16.0)\n",
      "Requirement already satisfied: requests-oauthlib>=0.7.0 in /usr/local/lib/python3.10/dist-packages (from google-auth-oauthlib) (1.3.1)\n",
      "Requirement already satisfied: googleapis-common-protos<2.0.dev0,>=1.56.2 in /usr/local/lib/python3.10/dist-packages (from google-api-core!=2.0.*,!=2.1.*,!=2.2.*,!=2.3.0,<3.0.0.dev0,>=1.31.5->google-api-python-client) (1.59.1)\n",
      "Requirement already satisfied: protobuf!=3.20.0,!=3.20.1,!=4.21.0,!=4.21.1,!=4.21.2,!=4.21.3,!=4.21.4,!=4.21.5,<5.0.0.dev0,>=3.19.5 in /usr/local/lib/python3.10/dist-packages (from google-api-core!=2.0.*,!=2.1.*,!=2.2.*,!=2.3.0,<3.0.0.dev0,>=1.31.5->google-api-python-client) (3.19.6)\n",
      "Requirement already satisfied: requests<3.0.0.dev0,>=2.18.0 in /usr/local/lib/python3.10/dist-packages (from google-api-core!=2.0.*,!=2.1.*,!=2.2.*,!=2.3.0,<3.0.0.dev0,>=1.31.5->google-api-python-client) (2.28.0)\n",
      "Requirement already satisfied: cachetools<6.0,>=2.0.0 in /usr/local/lib/python3.10/dist-packages (from google-auth<3.0.0.dev0,>=1.19.0->google-api-python-client) (5.3.1)\n",
      "Requirement already satisfied: pyasn1-modules>=0.2.1 in /usr/local/lib/python3.10/dist-packages (from google-auth<3.0.0.dev0,>=1.19.0->google-api-python-client) (0.3.0)\n",
      "Requirement already satisfied: rsa<5,>=3.1.4 in /usr/local/lib/python3.10/dist-packages (from google-auth<3.0.0.dev0,>=1.19.0->google-api-python-client) (4.9)\n",
      "Requirement already satisfied: pyparsing!=3.0.0,!=3.0.1,!=3.0.2,!=3.0.3,<4,>=2.4.2 in /usr/local/lib/python3.10/dist-packages (from httplib2<1.dev0,>=0.15.0->google-api-python-client) (3.1.0)\n",
      "Requirement already satisfied: oauthlib>=3.0.0 in /usr/local/lib/python3.10/dist-packages (from requests-oauthlib>=0.7.0->google-auth-oauthlib) (3.2.2)\n",
      "Requirement already satisfied: pyasn1<0.6.0,>=0.4.6 in /usr/local/lib/python3.10/dist-packages (from pyasn1-modules>=0.2.1->google-auth<3.0.0.dev0,>=1.19.0->google-api-python-client) (0.5.0)\n",
      "Requirement already satisfied: charset-normalizer~=2.0.0 in /usr/local/lib/python3.10/dist-packages (from requests<3.0.0.dev0,>=2.18.0->google-api-core!=2.0.*,!=2.1.*,!=2.2.*,!=2.3.0,<3.0.0.dev0,>=1.31.5->google-api-python-client) (2.0.12)\n",
      "Requirement already satisfied: idna<4,>=2.5 in /usr/local/lib/python3.10/dist-packages (from requests<3.0.0.dev0,>=2.18.0->google-api-core!=2.0.*,!=2.1.*,!=2.2.*,!=2.3.0,<3.0.0.dev0,>=1.31.5->google-api-python-client) (3.4)\n",
      "Requirement already satisfied: urllib3<1.27,>=1.21.1 in /usr/local/lib/python3.10/dist-packages (from requests<3.0.0.dev0,>=2.18.0->google-api-core!=2.0.*,!=2.1.*,!=2.2.*,!=2.3.0,<3.0.0.dev0,>=1.31.5->google-api-python-client) (1.26.16)\n",
      "Requirement already satisfied: certifi>=2017.4.17 in /usr/local/lib/python3.10/dist-packages (from requests<3.0.0.dev0,>=2.18.0->google-api-core!=2.0.*,!=2.1.*,!=2.2.*,!=2.3.0,<3.0.0.dev0,>=1.31.5->google-api-python-client) (2023.5.7)\n",
      "Installing collected packages: google-auth-oauthlib, google-api-python-client\n",
      "  Attempting uninstall: google-auth-oauthlib\n",
      "    Found existing installation: google-auth-oauthlib 0.4.6\n",
      "    Uninstalling google-auth-oauthlib-0.4.6:\n",
      "      Successfully uninstalled google-auth-oauthlib-0.4.6\n",
      "  Attempting uninstall: google-api-python-client\n",
      "    Found existing installation: google-api-python-client 2.84.0\n",
      "    Uninstalling google-api-python-client-2.84.0:\n",
      "      Successfully uninstalled google-api-python-client-2.84.0\n",
      "\u001b[31mERROR: pip's dependency resolver does not currently take into account all the packages that are installed. This behaviour is the source of the following dependency conflicts.\n",
      "tensorboard 2.9.1 requires google-auth-oauthlib<0.5,>=0.4.1, but you have google-auth-oauthlib 1.0.0 which is incompatible.\n",
      "tensorflow 2.12.0 requires flatbuffers>=2.0, but you have flatbuffers 1.12 which is incompatible.\n",
      "tensorflow 2.12.0 requires keras<2.13,>=2.12.0, but you have keras 2.9.0 which is incompatible.\n",
      "tensorflow 2.12.0 requires protobuf!=4.21.0,!=4.21.1,!=4.21.2,!=4.21.3,!=4.21.4,!=4.21.5,<5.0.0dev,>=3.20.3, but you have protobuf 3.19.6 which is incompatible.\n",
      "tensorflow 2.12.0 requires tensorboard<2.13,>=2.12, but you have tensorboard 2.9.1 which is incompatible.\n",
      "tensorflow 2.12.0 requires tensorflow-estimator<2.13,>=2.12.0, but you have tensorflow-estimator 2.9.0 which is incompatible.\u001b[0m\u001b[31m\n",
      "\u001b[0mSuccessfully installed google-api-python-client-2.92.0 google-auth-oauthlib-1.0.0\n"
     ]
    },
    {
     "data": {
      "application/vnd.colab-display-data+json": {
       "pip_warning": {
        "packages": [
         "googleapiclient"
        ]
       }
      }
     },
     "metadata": {},
     "output_type": "display_data"
    },
    {
     "name": "stderr",
     "output_type": "stream",
     "text": [
      "/usr/local/lib/python3.10/dist-packages/IPython/core/display.py:724: UserWarning: Consider using IPython.display.IFrame instead\n",
      "  warnings.warn(\"Consider using IPython.display.IFrame instead\")\n"
     ]
    },
    {
     "data": {
      "text/html": [
       "<iframe src=\"https://drive.google.com/file/d/1ZXAIviLh56x6QdjrzJ2fOj1khGigI5w2/preview\" width=\"100%\" height=\"600px\"></iframe>"
      ],
      "text/plain": [
       "<IPython.core.display.HTML object>"
      ]
     },
     "metadata": {},
     "output_type": "display_data"
    }
   ],
   "source": [
    "\"\"\"\n",
    "Description: Displaying the current Vulnerability Assement report\n",
    "\"\"\"\n",
    "\n",
    "if (\"colab\" in runtime_environment.lower()):\n",
    "    file_id = get_file_id(report_path = vul_report)\n",
    "    display_pdf(output_filename = \"vul_\"+job_id[-10:],runtime_environment=runtime_environment,file_id=file_id)\n",
    "else:\n",
    "    display_pdf(output_filename = \"vul_\"+job_id[-10:],runtime_environment=runtime_environment, pdf_path =os.path.join(report_path, os.path.basename(vul_report)))"
   ]
  },
  {
   "cell_type": "code",
   "execution_count": 29,
   "id": "f67ff9a4",
   "metadata": {
    "colab": {
     "base_uri": "https://localhost:8080/",
     "height": 1000
    },
    "hide_code": true,
    "id": "f67ff9a4",
    "outputId": "49b4b12b-319f-43f5-e9f5-7698dee01697",
    "pycharm": {
     "name": "#%%\n"
    }
   },
   "outputs": [
    {
     "name": "stdout",
     "output_type": "stream",
     "text": [
      "Requirement already satisfied: google-api-python-client in /usr/local/lib/python3.10/dist-packages (2.92.0)\n",
      "Requirement already satisfied: google-auth-httplib2 in /usr/local/lib/python3.10/dist-packages (0.1.0)\n",
      "Requirement already satisfied: google-auth-oauthlib in /usr/local/lib/python3.10/dist-packages (1.0.0)\n",
      "Requirement already satisfied: httplib2<1.dev0,>=0.15.0 in /usr/local/lib/python3.10/dist-packages (from google-api-python-client) (0.21.0)\n",
      "Requirement already satisfied: google-auth<3.0.0.dev0,>=1.19.0 in /usr/local/lib/python3.10/dist-packages (from google-api-python-client) (2.17.3)\n",
      "Requirement already satisfied: google-api-core!=2.0.*,!=2.1.*,!=2.2.*,!=2.3.0,<3.0.0.dev0,>=1.31.5 in /usr/local/lib/python3.10/dist-packages (from google-api-python-client) (2.11.1)\n",
      "Requirement already satisfied: uritemplate<5,>=3.0.1 in /usr/local/lib/python3.10/dist-packages (from google-api-python-client) (4.1.1)\n",
      "Requirement already satisfied: six in /usr/local/lib/python3.10/dist-packages (from google-auth-httplib2) (1.16.0)\n",
      "Requirement already satisfied: requests-oauthlib>=0.7.0 in /usr/local/lib/python3.10/dist-packages (from google-auth-oauthlib) (1.3.1)\n",
      "Requirement already satisfied: googleapis-common-protos<2.0.dev0,>=1.56.2 in /usr/local/lib/python3.10/dist-packages (from google-api-core!=2.0.*,!=2.1.*,!=2.2.*,!=2.3.0,<3.0.0.dev0,>=1.31.5->google-api-python-client) (1.59.1)\n",
      "Requirement already satisfied: protobuf!=3.20.0,!=3.20.1,!=4.21.0,!=4.21.1,!=4.21.2,!=4.21.3,!=4.21.4,!=4.21.5,<5.0.0.dev0,>=3.19.5 in /usr/local/lib/python3.10/dist-packages (from google-api-core!=2.0.*,!=2.1.*,!=2.2.*,!=2.3.0,<3.0.0.dev0,>=1.31.5->google-api-python-client) (3.19.6)\n",
      "Requirement already satisfied: requests<3.0.0.dev0,>=2.18.0 in /usr/local/lib/python3.10/dist-packages (from google-api-core!=2.0.*,!=2.1.*,!=2.2.*,!=2.3.0,<3.0.0.dev0,>=1.31.5->google-api-python-client) (2.28.0)\n",
      "Requirement already satisfied: cachetools<6.0,>=2.0.0 in /usr/local/lib/python3.10/dist-packages (from google-auth<3.0.0.dev0,>=1.19.0->google-api-python-client) (5.3.1)\n",
      "Requirement already satisfied: pyasn1-modules>=0.2.1 in /usr/local/lib/python3.10/dist-packages (from google-auth<3.0.0.dev0,>=1.19.0->google-api-python-client) (0.3.0)\n",
      "Requirement already satisfied: rsa<5,>=3.1.4 in /usr/local/lib/python3.10/dist-packages (from google-auth<3.0.0.dev0,>=1.19.0->google-api-python-client) (4.9)\n",
      "Requirement already satisfied: pyparsing!=3.0.0,!=3.0.1,!=3.0.2,!=3.0.3,<4,>=2.4.2 in /usr/local/lib/python3.10/dist-packages (from httplib2<1.dev0,>=0.15.0->google-api-python-client) (3.1.0)\n",
      "Requirement already satisfied: oauthlib>=3.0.0 in /usr/local/lib/python3.10/dist-packages (from requests-oauthlib>=0.7.0->google-auth-oauthlib) (3.2.2)\n",
      "Requirement already satisfied: pyasn1<0.6.0,>=0.4.6 in /usr/local/lib/python3.10/dist-packages (from pyasn1-modules>=0.2.1->google-auth<3.0.0.dev0,>=1.19.0->google-api-python-client) (0.5.0)\n",
      "Requirement already satisfied: charset-normalizer~=2.0.0 in /usr/local/lib/python3.10/dist-packages (from requests<3.0.0.dev0,>=2.18.0->google-api-core!=2.0.*,!=2.1.*,!=2.2.*,!=2.3.0,<3.0.0.dev0,>=1.31.5->google-api-python-client) (2.0.12)\n",
      "Requirement already satisfied: idna<4,>=2.5 in /usr/local/lib/python3.10/dist-packages (from requests<3.0.0.dev0,>=2.18.0->google-api-core!=2.0.*,!=2.1.*,!=2.2.*,!=2.3.0,<3.0.0.dev0,>=1.31.5->google-api-python-client) (3.4)\n",
      "Requirement already satisfied: urllib3<1.27,>=1.21.1 in /usr/local/lib/python3.10/dist-packages (from requests<3.0.0.dev0,>=2.18.0->google-api-core!=2.0.*,!=2.1.*,!=2.2.*,!=2.3.0,<3.0.0.dev0,>=1.31.5->google-api-python-client) (1.26.16)\n",
      "Requirement already satisfied: certifi>=2017.4.17 in /usr/local/lib/python3.10/dist-packages (from requests<3.0.0.dev0,>=2.18.0->google-api-core!=2.0.*,!=2.1.*,!=2.2.*,!=2.3.0,<3.0.0.dev0,>=1.31.5->google-api-python-client) (2023.5.7)\n"
     ]
    },
    {
     "data": {
      "text/html": [
       "<iframe src=\"https://drive.google.com/file/d/1Rax9Mc9oDU9-xJF8JvaNhYsxi_bsCAMw/preview\" width=\"100%\" height=\"600px\"></iframe>"
      ],
      "text/plain": [
       "<IPython.core.display.HTML object>"
      ]
     },
     "metadata": {},
     "output_type": "display_data"
    }
   ],
   "source": [
    "\"\"\"\n",
    "Description: Displaying the current Defense Assement report\n",
    "\"\"\"\n",
    "\n",
    "if (\"colab\" in runtime_environment.lower()):\n",
    "    file_id = get_file_id(report_path = def_report)\n",
    "    display_pdf(output_filename = \"Defense_\"+job_id[-10:],runtime_environment=runtime_environment,file_id=file_id)\n",
    "else:\n",
    "    display_pdf(output_filename = \"Defense_\"+job_id[-10:],runtime_environment=runtime_environment, pdf_path =os.path.join(report_path, os.path.basename(def_report)))"
   ]
  },
  {
   "cell_type": "markdown",
   "id": "d3b6693e",
   "metadata": {
    "id": "d3b6693e",
    "pycharm": {
     "name": "#%% md\n"
    }
   },
   "source": [
    "<img src=\"https://aisdocs.blob.core.windows.net/reference/Workflow Images/aw6.png\"/>"
   ]
  },
  {
   "cell_type": "markdown",
   "id": "c450fbca",
   "metadata": {
    "id": "c450fbca",
    "pycharm": {
     "name": "#%% md\n"
    }
   },
   "source": [
    "### After conducting a Vulnerability Analysis by AIshield, if a defense recommendation is identified, then following actions can be taken:\n",
    "\n",
    "1. **Model Retraining:** It is advised to retrain the original model to enhance its robustness. By revisiting the training process and incorporating the insights gained from the vulnerability analysis, the model can be improved to better handle potential threats and mitigate vulnerabilities.\n",
    "\n",
    "\n",
    "2. **Deploying Threat-Informed Defense Model:** In addition to the original model, AIshield provides a specialized defense model that is specifically designed to address the identified threats. This threat-informed defense model can be deployed alongside the original model to provide an additional layer of protection and enhance the overall security posture. By leveraging the insights gained from the vulnerability analysis, the defense model offers targeted defenses against potential threats."
   ]
  },
  {
   "cell_type": "code",
   "execution_count": null,
   "id": "588b21f8",
   "metadata": {
    "id": "588b21f8",
    "pycharm": {
     "name": "#%%\n"
    }
   },
   "outputs": [],
   "source": []
  }
 ],
 "metadata": {
  "accelerator": "GPU",
  "codeState": [
   "",
   "",
   "",
   "none",
   "none",
   "none",
   "none",
   "none",
   "none",
   "none",
   "",
   "none",
   "none",
   "",
   "",
   "",
   "",
   "",
   "none",
   "",
   "",
   "none",
   "",
   "",
   "",
   "",
   "",
   "",
   "",
   "",
   "",
   "",
   "",
   "",
   "none",
   "",
   ""
  ],
  "colab": {
   "gpuType": "T4",
   "provenance": []
  },
  "custom_metadata": {
   "show_hide_code": true
  },
  "kernelspec": {
   "display_name": "Python 3 (ipykernel)",
   "language": "python",
   "name": "python3"
  },
  "language_info": {
   "codemirror_mode": {
    "name": "ipython",
    "version": 3
   },
   "file_extension": ".py",
   "mimetype": "text/x-python",
   "name": "python",
   "nbconvert_exporter": "python",
   "pygments_lexer": "ipython3",
   "version": "3.9.0"
  }
 },
 "nbformat": 4,
 "nbformat_minor": 5
}
