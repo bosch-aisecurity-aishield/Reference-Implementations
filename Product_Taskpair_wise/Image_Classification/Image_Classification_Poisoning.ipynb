{
 "cells": [
  {
   "cell_type": "markdown",
   "id": "1d3f55a9",
   "metadata": {
    "id": "1d3f55a9"
   },
   "source": [
    "# Welcome to the AIShield Integration Notebook!\n",
    "\n",
    "**We are delighted to have you here!**\n",
    "\n",
    "## What to Expect !!\n",
    "This notebook serves as a comprehensive demonstration of the seamless integration capabilities of AIShield. As a powerful tool for securing your AI/ML assets against adversarial threats, AIShield ensures the integrity and robustness of your models, preventing financial loss, protecting brand reputation, and mitigating the risk of intellectual property theft.\n",
    "\n",
    "## What to Do !!\n",
    "- **Explore the notebook** at your own pace to gain deep insights into the functionalities and features offered by AIShield.\n",
    "- **Run the first code cell/block**, which includes **Support functionalities** crucial for the smooth execution of the notebook. This setup will enhance your experience and enable the seamless integration of AIShield.\n",
    "- Even without running the entire notebook, you can get a glimpse of AIShield's capabilities and its approach to vulnerability assessments through sample scenarios.\n",
    "- **Run the code cells** to witness firsthand how AIShield seamlessly integrates with your existing codebase, empowering you to protect your AI models against adversarial attacks.\n",
    "- **Experiment and adapt the code** to suit your specific use cases, leveraging the flexibility and customization options provided by AIShield.\n",
    "- Should you have any questions or require assistance, our dedicated [AIShield.Contact@bosch.com](mailto:AIShield.Contact@bosch.com) is just a click away.\n",
    "\n",
    "## What You'll Get !!\n",
    "Throughout this notebook, you'll find:\n",
    "- Code snippets demonstrating step-by-step procedures for incorporating AIShield into your existing workflows, ensuring comprehensive protection against adversarial threats.\n",
    "- Detailed guidance on the integration process, including any additional inputs required for thorough vulnerability analysis.\n",
    "- A comprehensive threat-informed defense model, empowering you to understand the vulnerabilities in your AI models and undertake appropriate remediation measures.\n",
    "- Report artifacts and a sample attack dataset, providing valuable insights into potential attack scenarios and assisting in devising robust defense strategies.\n",
    "- In-depth explanations of defense remediation techniques, equipping you with the knowledge and tools to safeguard your AI assets effectively.\n",
    "\n",
    "## <span style=\"color:teal\">AIShield Website and LinkedIn</span>\n",
    "To learn more about AIShield and its cutting-edge features, visit the official [AIShield website](https://www.boschaishield.com/). Connect with AIShield on [LinkedIn](https://www.linkedin.com/company/bosch-aishield/about/) to stay updated on the latest advancements in AI security.\n",
    "\n",
    "We hope this notebook empowers you to seamlessly integrate AIShield into your projects, ensuring the utmost protection for your AI/ML assets. If you have any questions or need further assistance, please don't hesitate to reach out. **Happy exploring!**\n"
   ]
  },
  {
   "cell_type": "markdown",
   "id": "03649b75",
   "metadata": {
    "id": "03649b75"
   },
   "source": [
    "<a target=\"_blank\" href=\"https://colab.research.google.com/github/bosch-aisecurity-aishield/Reference-Implementations/blob/main/Product_Taskpair_wise/Image_Classification/Image_Classification_Poisoning.ipynb\">\n",
    "  <img src=\"https://colab.research.google.com/assets/colab-badge.svg\" alt=\"Open In Colab\"/>\n",
    "</a>\n"
   ]
  },
  {
   "cell_type": "markdown",
   "id": "20d3707e",
   "metadata": {
    "id": "20d3707e"
   },
   "source": [
    "## 1.0 Support Functionalities:"
   ]
  },
  {
   "cell_type": "code",
   "execution_count": 4,
   "id": "d4ac8b5e",
   "metadata": {
    "id": "d4ac8b5e"
   },
   "outputs": [],
   "source": [
    "\"\"\"\n",
    "Description : Use PyPi or AIShield API for Vulnerability Analysis\n",
    "              if PyPi = True (this notebook will use aishield pypi package for vulnerability analysis)\n",
    "              else = False (this notebook will use aishield api for vulnerability analysis)\n",
    "\"\"\"\n",
    "pypi = True"
   ]
  },
  {
   "cell_type": "code",
   "execution_count": 5,
   "id": "1296ad1a",
   "metadata": {
    "colab": {
     "base_uri": "https://localhost:8080/",
     "height": 17
    },
    "id": "1296ad1a",
    "outputId": "249c21b5-574b-4d68-bf03-a9e078638c18"
   },
   "outputs": [
    {
     "data": {
      "text/html": [
       "\n",
       "        <style>\n",
       "        .scrollable-code-input {\n",
       "            max-height: 500px;\n",
       "            overflow-y: scroll;\n",
       "        }\n",
       "        </style>\n",
       "        <script>\n",
       "        var codeInputCells = document.querySelectorAll('div.code_cell .input');\n",
       "        codeInputCells.forEach(function(cell) {\n",
       "            cell.classList.add('scrollable-code-input');\n",
       "        });\n",
       "        </script>\n",
       "    "
      ],
      "text/plain": [
       "<IPython.core.display.HTML object>"
      ]
     },
     "metadata": {},
     "output_type": "display_data"
    }
   ],
   "source": [
    "def make_code_input_scrollable():\n",
    "    \"\"\"Description : To make the input code cell scrollable for jupyternotebook\"\"\"\n",
    "    from IPython.display import display, HTML\n",
    "    display(HTML('''\n",
    "        <style>\n",
    "        .scrollable-code-input {\n",
    "            max-height: 500px;\n",
    "            overflow-y: scroll;\n",
    "        }\n",
    "        </style>\n",
    "        <script>\n",
    "        var codeInputCells = document.querySelectorAll('div.code_cell .input');\n",
    "        codeInputCells.forEach(function(cell) {\n",
    "            cell.classList.add('scrollable-code-input');\n",
    "        });\n",
    "        </script>\n",
    "    '''))\n",
    "\n",
    "make_code_input_scrollable()\n",
    "\n",
    "def display_pdf(runtime_environment,output_filename, pdf_path=None, file_id=None):\n",
    "\n",
    "    \"\"\"Descrption : To embeded pdf file in the ntoebook\"\"\"\n",
    "\n",
    "    from IPython.display import display, HTML\n",
    "    import os\n",
    "    output_file = output_filename+'.html'\n",
    "\n",
    "    # Check if the output file exists\n",
    "    if os.path.exists(output_file):\n",
    "        with open(output_file, 'r') as f:\n",
    "            saved_output = f.read()\n",
    "            display(HTML(saved_output))\n",
    "    else:\n",
    "        if 'colab' in runtime_environment.lower():\n",
    "            # Generate the Google Drive Viewer URL\n",
    "            if file_id is None:\n",
    "                print(pdf_path)\n",
    "                # Generate the Google Drive Viewer URL\n",
    "                drive_viewer_url = f'https://drive.google.com/viewerng/viewer?embedded=true&url={pdf_path}'\n",
    "                html_code = f'<iframe src=\"{drive_viewer_url}\" width=\"100%\" height=\"600px\"></iframe>'\n",
    "            else:\n",
    "                viewer_url = f\"https://drive.google.com/file/d/{file_id}/preview\"\n",
    "                html_code = f'<iframe src=\"{viewer_url}\" width=\"100%\" height=\"600px\"></iframe>'\n",
    "        else:\n",
    "            html_code = f'<embed src=\"{pdf_path}\" width=\"100%\" height=\"600px\" type=\"application/pdf\">'\n",
    "        # Save the output to a file\n",
    "        with open(output_file, 'w') as f:\n",
    "            f.write(html_code)\n",
    "\n",
    "        # Display the output\n",
    "        display(HTML(html_code))\n",
    "\n",
    "\n",
    "def check_runtime_environment():\n",
    "    \"\"\"\n",
    "    Description : Check notebook is running on colab or jupyter-notebook\n",
    "    \"\"\"\n",
    "    import os\n",
    "    colab = False\n",
    "    if 'google.colab' in str(get_ipython()):\n",
    "        colab = True\n",
    "        return 'Colab' , colab\n",
    "    else:\n",
    "        return 'Jupyter Notebook' , colab\n",
    "\n",
    "# Check the runtime environment\n",
    "runtime_environment,colab_running  = check_runtime_environment()\n",
    "\n",
    "# print(\"Notebook is running in\", runtime_environment)"
   ]
  },
  {
   "cell_type": "markdown",
   "id": "f64f09e4",
   "metadata": {
    "id": "f64f09e4"
   },
   "source": [
    " "
   ]
  },
  {
   "cell_type": "markdown",
   "id": "22e6db52",
   "metadata": {
    "id": "22e6db52"
   },
   "source": [
    "\n",
    "<img src=\"https://aisdocs.blob.core.windows.net/reference/Workflow Images/wk1.png\"/>"
   ]
  },
  {
   "cell_type": "markdown",
   "id": "a5c0bce1",
   "metadata": {
    "id": "a5c0bce1"
   },
   "source": [
    "## 2.0 Below code cell/block performs Step 1 to 4 with following these sequential steps :\n",
    "**STEP 1 : Installing libraries:** The required libraries will be installed to provide necessary functionalities for the task at hand.\n",
    "\n",
    "**STEP 2 : Loading the dataset:** The dataset containing the relevant information will be loaded into the program, allowing access to the data for analysis and modeling.\n",
    "\n",
    "**STEP 3 : Model development and training:** A sophisticated model will be developed to analyze and interpret the dataset. The model will then be trained using appropriate techniques to optimize its performance.\n",
    "\n",
    "**STEP 4 : Preparing the Data, Model, and Label:** Prior to further analysis, essential steps such as data preprocessing, model configuration, and label preparation will be carried out. This will ensure that the data, model, and labels are properly structured and ready for subsequent stages needed for aishield.\n",
    "\n"
   ]
  },
  {
   "cell_type": "code",
   "execution_count": 4,
   "id": "fb2bc111",
   "metadata": {
    "colab": {
     "base_uri": "https://localhost:8080/",
     "height": 1000
    },
    "id": "fb2bc111",
    "outputId": "98fc157b-ff9f-4eb4-a77e-7b62ba675bf6"
   },
   "outputs": [
    {
     "name": "stdout",
     "output_type": "stream",
     "text": [
      "Started of installing all the prerequisites packages\n",
      "Collecting numpy==1.22\n",
      "  Downloading numpy-1.22.0-cp310-cp310-manylinux_2_17_x86_64.manylinux2014_x86_64.whl (16.8 MB)\n",
      "\u001b[2K     \u001b[90m━━━━━━━━━━━━━━━━━━━━━━━━━━━━━━━━━━━━━━━━\u001b[0m \u001b[32m16.8/16.8 MB\u001b[0m \u001b[31m40.4 MB/s\u001b[0m eta \u001b[36m0:00:00\u001b[0m\n",
      "\u001b[?25hInstalling collected packages: numpy\n",
      "  Attempting uninstall: numpy\n",
      "    Found existing installation: numpy 1.22.4\n",
      "    Uninstalling numpy-1.22.4:\n",
      "      Successfully uninstalled numpy-1.22.4\n",
      "\u001b[31mERROR: pip's dependency resolver does not currently take into account all the packages that are installed. This behaviour is the source of the following dependency conflicts.\n",
      "librosa 0.10.0.post2 requires numpy!=1.22.0,!=1.22.1,!=1.22.2,>=1.20.3, but you have numpy 1.22.0 which is incompatible.\n",
      "mizani 0.8.1 requires matplotlib>=3.5.0, but you have matplotlib 3.3.4 which is incompatible.\n",
      "plotnine 0.10.1 requires matplotlib>=3.5.0, but you have matplotlib 3.3.4 which is incompatible.\n",
      "tensorflow-datasets 4.9.2 requires protobuf>=3.20, but you have protobuf 3.19.6 which is incompatible.\u001b[0m\u001b[31m\n",
      "\u001b[0mSuccessfully installed numpy-1.22.0\n"
     ]
    },
    {
     "data": {
      "application/vnd.colab-display-data+json": {
       "pip_warning": {
        "packages": [
         "numpy"
        ]
       }
      }
     },
     "metadata": {},
     "output_type": "display_data"
    },
    {
     "name": "stdout",
     "output_type": "stream",
     "text": [
      "Requirement already satisfied: matplotlib==3.3.4 in /usr/local/lib/python3.10/dist-packages (3.3.4)\n",
      "Requirement already satisfied: cycler>=0.10 in /usr/local/lib/python3.10/dist-packages (from matplotlib==3.3.4) (0.11.0)\n",
      "Requirement already satisfied: kiwisolver>=1.0.1 in /usr/local/lib/python3.10/dist-packages (from matplotlib==3.3.4) (1.4.4)\n",
      "Requirement already satisfied: numpy>=1.15 in /usr/local/lib/python3.10/dist-packages (from matplotlib==3.3.4) (1.22.0)\n",
      "Requirement already satisfied: pillow>=6.2.0 in /usr/local/lib/python3.10/dist-packages (from matplotlib==3.3.4) (8.4.0)\n",
      "Requirement already satisfied: pyparsing!=2.0.4,!=2.1.2,!=2.1.6,>=2.0.3 in /usr/local/lib/python3.10/dist-packages (from matplotlib==3.3.4) (3.1.0)\n",
      "Requirement already satisfied: python-dateutil>=2.1 in /usr/local/lib/python3.10/dist-packages (from matplotlib==3.3.4) (2.8.2)\n",
      "Requirement already satisfied: six>=1.5 in /usr/local/lib/python3.10/dist-packages (from python-dateutil>=2.1->matplotlib==3.3.4) (1.16.0)\n",
      "Requirement already satisfied: tensorflow==2.9.1 in /usr/local/lib/python3.10/dist-packages (2.9.1)\n",
      "Requirement already satisfied: absl-py>=1.0.0 in /usr/local/lib/python3.10/dist-packages (from tensorflow==2.9.1) (1.4.0)\n",
      "Requirement already satisfied: astunparse>=1.6.0 in /usr/local/lib/python3.10/dist-packages (from tensorflow==2.9.1) (1.6.3)\n",
      "Requirement already satisfied: flatbuffers<2,>=1.12 in /usr/local/lib/python3.10/dist-packages (from tensorflow==2.9.1) (1.12)\n",
      "Requirement already satisfied: gast<=0.4.0,>=0.2.1 in /usr/local/lib/python3.10/dist-packages (from tensorflow==2.9.1) (0.4.0)\n",
      "Requirement already satisfied: google-pasta>=0.1.1 in /usr/local/lib/python3.10/dist-packages (from tensorflow==2.9.1) (0.2.0)\n",
      "Requirement already satisfied: grpcio<2.0,>=1.24.3 in /usr/local/lib/python3.10/dist-packages (from tensorflow==2.9.1) (1.56.0)\n",
      "Requirement already satisfied: h5py>=2.9.0 in /usr/local/lib/python3.10/dist-packages (from tensorflow==2.9.1) (3.8.0)\n",
      "Requirement already satisfied: keras<2.10.0,>=2.9.0rc0 in /usr/local/lib/python3.10/dist-packages (from tensorflow==2.9.1) (2.9.0)\n",
      "Requirement already satisfied: keras-preprocessing>=1.1.1 in /usr/local/lib/python3.10/dist-packages (from tensorflow==2.9.1) (1.1.2)\n",
      "Requirement already satisfied: libclang>=13.0.0 in /usr/local/lib/python3.10/dist-packages (from tensorflow==2.9.1) (16.0.0)\n",
      "Requirement already satisfied: numpy>=1.20 in /usr/local/lib/python3.10/dist-packages (from tensorflow==2.9.1) (1.22.0)\n",
      "Requirement already satisfied: opt-einsum>=2.3.2 in /usr/local/lib/python3.10/dist-packages (from tensorflow==2.9.1) (3.3.0)\n",
      "Requirement already satisfied: packaging in /usr/local/lib/python3.10/dist-packages (from tensorflow==2.9.1) (23.1)\n",
      "Requirement already satisfied: protobuf<3.20,>=3.9.2 in /usr/local/lib/python3.10/dist-packages (from tensorflow==2.9.1) (3.19.6)\n",
      "Requirement already satisfied: setuptools in /usr/local/lib/python3.10/dist-packages (from tensorflow==2.9.1) (67.7.2)\n",
      "Requirement already satisfied: six>=1.12.0 in /usr/local/lib/python3.10/dist-packages (from tensorflow==2.9.1) (1.16.0)\n",
      "Requirement already satisfied: tensorboard<2.10,>=2.9 in /usr/local/lib/python3.10/dist-packages (from tensorflow==2.9.1) (2.9.1)\n",
      "Requirement already satisfied: tensorflow-io-gcs-filesystem>=0.23.1 in /usr/local/lib/python3.10/dist-packages (from tensorflow==2.9.1) (0.32.0)\n",
      "Requirement already satisfied: tensorflow-estimator<2.10.0,>=2.9.0rc0 in /usr/local/lib/python3.10/dist-packages (from tensorflow==2.9.1) (2.9.0)\n",
      "Requirement already satisfied: termcolor>=1.1.0 in /usr/local/lib/python3.10/dist-packages (from tensorflow==2.9.1) (2.3.0)\n",
      "Requirement already satisfied: typing-extensions>=3.6.6 in /usr/local/lib/python3.10/dist-packages (from tensorflow==2.9.1) (4.7.1)\n",
      "Requirement already satisfied: wrapt>=1.11.0 in /usr/local/lib/python3.10/dist-packages (from tensorflow==2.9.1) (1.14.1)\n",
      "Requirement already satisfied: wheel<1.0,>=0.23.0 in /usr/local/lib/python3.10/dist-packages (from astunparse>=1.6.0->tensorflow==2.9.1) (0.40.0)\n",
      "Requirement already satisfied: google-auth<3,>=1.6.3 in /usr/local/lib/python3.10/dist-packages (from tensorboard<2.10,>=2.9->tensorflow==2.9.1) (2.17.3)\n",
      "Requirement already satisfied: google-auth-oauthlib<0.5,>=0.4.1 in /usr/local/lib/python3.10/dist-packages (from tensorboard<2.10,>=2.9->tensorflow==2.9.1) (0.4.6)\n",
      "Requirement already satisfied: markdown>=2.6.8 in /usr/local/lib/python3.10/dist-packages (from tensorboard<2.10,>=2.9->tensorflow==2.9.1) (3.4.3)\n",
      "Requirement already satisfied: requests<3,>=2.21.0 in /usr/local/lib/python3.10/dist-packages (from tensorboard<2.10,>=2.9->tensorflow==2.9.1) (2.28.0)\n",
      "Requirement already satisfied: tensorboard-data-server<0.7.0,>=0.6.0 in /usr/local/lib/python3.10/dist-packages (from tensorboard<2.10,>=2.9->tensorflow==2.9.1) (0.6.1)\n",
      "Requirement already satisfied: tensorboard-plugin-wit>=1.6.0 in /usr/local/lib/python3.10/dist-packages (from tensorboard<2.10,>=2.9->tensorflow==2.9.1) (1.8.1)\n",
      "Requirement already satisfied: werkzeug>=1.0.1 in /usr/local/lib/python3.10/dist-packages (from tensorboard<2.10,>=2.9->tensorflow==2.9.1) (2.3.6)\n",
      "Requirement already satisfied: cachetools<6.0,>=2.0.0 in /usr/local/lib/python3.10/dist-packages (from google-auth<3,>=1.6.3->tensorboard<2.10,>=2.9->tensorflow==2.9.1) (5.3.1)\n",
      "Requirement already satisfied: pyasn1-modules>=0.2.1 in /usr/local/lib/python3.10/dist-packages (from google-auth<3,>=1.6.3->tensorboard<2.10,>=2.9->tensorflow==2.9.1) (0.3.0)\n",
      "Requirement already satisfied: rsa<5,>=3.1.4 in /usr/local/lib/python3.10/dist-packages (from google-auth<3,>=1.6.3->tensorboard<2.10,>=2.9->tensorflow==2.9.1) (4.9)\n",
      "Requirement already satisfied: requests-oauthlib>=0.7.0 in /usr/local/lib/python3.10/dist-packages (from google-auth-oauthlib<0.5,>=0.4.1->tensorboard<2.10,>=2.9->tensorflow==2.9.1) (1.3.1)\n",
      "Requirement already satisfied: charset-normalizer~=2.0.0 in /usr/local/lib/python3.10/dist-packages (from requests<3,>=2.21.0->tensorboard<2.10,>=2.9->tensorflow==2.9.1) (2.0.12)\n",
      "Requirement already satisfied: idna<4,>=2.5 in /usr/local/lib/python3.10/dist-packages (from requests<3,>=2.21.0->tensorboard<2.10,>=2.9->tensorflow==2.9.1) (3.4)\n",
      "Requirement already satisfied: urllib3<1.27,>=1.21.1 in /usr/local/lib/python3.10/dist-packages (from requests<3,>=2.21.0->tensorboard<2.10,>=2.9->tensorflow==2.9.1) (1.26.16)\n",
      "Requirement already satisfied: certifi>=2017.4.17 in /usr/local/lib/python3.10/dist-packages (from requests<3,>=2.21.0->tensorboard<2.10,>=2.9->tensorflow==2.9.1) (2023.5.7)\n",
      "Requirement already satisfied: MarkupSafe>=2.1.1 in /usr/local/lib/python3.10/dist-packages (from werkzeug>=1.0.1->tensorboard<2.10,>=2.9->tensorflow==2.9.1) (2.1.3)\n",
      "Requirement already satisfied: pyasn1<0.6.0,>=0.4.6 in /usr/local/lib/python3.10/dist-packages (from pyasn1-modules>=0.2.1->google-auth<3,>=1.6.3->tensorboard<2.10,>=2.9->tensorflow==2.9.1) (0.5.0)\n",
      "Requirement already satisfied: oauthlib>=3.0.0 in /usr/local/lib/python3.10/dist-packages (from requests-oauthlib>=0.7.0->google-auth-oauthlib<0.5,>=0.4.1->tensorboard<2.10,>=2.9->tensorflow==2.9.1) (3.2.2)\n",
      "Requirement already satisfied: scikit-learn==1.0.2 in /usr/local/lib/python3.10/dist-packages (1.0.2)\n",
      "Requirement already satisfied: numpy>=1.14.6 in /usr/local/lib/python3.10/dist-packages (from scikit-learn==1.0.2) (1.22.0)\n",
      "Requirement already satisfied: scipy>=1.1.0 in /usr/local/lib/python3.10/dist-packages (from scikit-learn==1.0.2) (1.10.1)\n",
      "Requirement already satisfied: joblib>=0.11 in /usr/local/lib/python3.10/dist-packages (from scikit-learn==1.0.2) (1.3.1)\n",
      "Requirement already satisfied: threadpoolctl>=2.0.0 in /usr/local/lib/python3.10/dist-packages (from scikit-learn==1.0.2) (3.1.0)\n",
      "Requirement already satisfied: humanfriendly==9.2 in /usr/local/lib/python3.10/dist-packages (9.2)\n",
      "Requirement already satisfied: tqdm==4.61.1 in /usr/local/lib/python3.10/dist-packages (4.61.1)\n",
      "Requirement already satisfied: requests==2.28.0 in /usr/local/lib/python3.10/dist-packages (2.28.0)\n",
      "Requirement already satisfied: charset-normalizer~=2.0.0 in /usr/local/lib/python3.10/dist-packages (from requests==2.28.0) (2.0.12)\n",
      "Requirement already satisfied: idna<4,>=2.5 in /usr/local/lib/python3.10/dist-packages (from requests==2.28.0) (3.4)\n",
      "Requirement already satisfied: urllib3<1.27,>=1.21.1 in /usr/local/lib/python3.10/dist-packages (from requests==2.28.0) (1.26.16)\n",
      "Requirement already satisfied: certifi>=2017.4.17 in /usr/local/lib/python3.10/dist-packages (from requests==2.28.0) (2023.5.7)\n",
      "Requirement already satisfied: opencv-python in /usr/local/lib/python3.10/dist-packages (4.7.0.72)\n",
      "Requirement already satisfied: numpy>=1.21.2 in /usr/local/lib/python3.10/dist-packages (from opencv-python) (1.22.0)\n",
      "Requirement already satisfied: pandas in /usr/local/lib/python3.10/dist-packages (1.5.3)\n",
      "Requirement already satisfied: python-dateutil>=2.8.1 in /usr/local/lib/python3.10/dist-packages (from pandas) (2.8.2)\n",
      "Requirement already satisfied: pytz>=2020.1 in /usr/local/lib/python3.10/dist-packages (from pandas) (2022.7.1)\n",
      "Requirement already satisfied: numpy>=1.21.0 in /usr/local/lib/python3.10/dist-packages (from pandas) (1.22.0)\n",
      "Requirement already satisfied: six>=1.5 in /usr/local/lib/python3.10/dist-packages (from python-dateutil>=2.8.1->pandas) (1.16.0)\n",
      "Starting installing aishield library\n",
      "Requirement already satisfied: aishield in /usr/local/lib/python3.10/dist-packages (0.1.5)\n",
      "Requirement already satisfied: requests in /usr/local/lib/python3.10/dist-packages (from aishield) (2.28.0)\n",
      "Requirement already satisfied: charset-normalizer~=2.0.0 in /usr/local/lib/python3.10/dist-packages (from requests->aishield) (2.0.12)\n",
      "Requirement already satisfied: idna<4,>=2.5 in /usr/local/lib/python3.10/dist-packages (from requests->aishield) (3.4)\n",
      "Requirement already satisfied: urllib3<1.27,>=1.21.1 in /usr/local/lib/python3.10/dist-packages (from requests->aishield) (1.26.16)\n",
      "Requirement already satisfied: certifi>=2017.4.17 in /usr/local/lib/python3.10/dist-packages (from requests->aishield) (2023.5.7)\n"
     ]
    },
    {
     "name": "stderr",
     "output_type": "stream",
     "text": [
      "Loading the Dataset:   0%|          | 0/4 [00:00<?, ?it/s]"
     ]
    },
    {
     "name": "stdout",
     "output_type": "stream",
     "text": [
      "Installed all the prerequisites packages\n",
      "Dataset Loaded\n"
     ]
    },
    {
     "name": "stderr",
     "output_type": "stream",
     "text": [
      "Model Development and Training:  25%|██▌       | 1/4 [00:01<00:04,  1.34s/it]"
     ]
    },
    {
     "name": "stdout",
     "output_type": "stream",
     "text": [
      "Removed: /content/data\n",
      "Removed: /content/clean_model1\n",
      "Removed: /content/clean_model2\n",
      "Removed: /content/fine_tuned_model\n",
      "Removed: /content/label\n",
      "Removed: /content/reports\n",
      "Removed: /content/zip\n",
      "directory /content/data created successfully\n",
      "directory /content/clean_model1 created successfully\n",
      "directory /content/clean_model2 created successfully\n",
      "directory /content/fine_tuned_model created successfully\n",
      "directory /content/label created successfully\n",
      "directory /content/reports created successfully\n",
      "directory /content/zip created successfully\n",
      "Normalization of the inputdata being started\n",
      "Normalization Done\n",
      "844/844 [==============================] - ETA: 0s - loss: 0.2266 - accuracy: 0.9295\n",
      "Epoch 1: val_loss improved from inf to 0.03964, saving model to /content/clean_model1/clean_model1.h5\n",
      "844/844 [==============================] - 477s 564ms/step - loss: 0.2266 - accuracy: 0.9295 - val_loss: 0.0396 - val_accuracy: 0.9869\n",
      "844/844 [==============================] - ETA: 0s - loss: 0.2299 - accuracy: 0.9289\n",
      "Epoch 1: val_loss improved from inf to 0.03645, saving model to /content/clean_model2/clean_model2.h5\n",
      "844/844 [==============================] - 477s 565ms/step - loss: 0.2299 - accuracy: 0.9289 - val_loss: 0.0365 - val_accuracy: 0.9877\n",
      "313/313 [==============================] - 21s 67ms/step - loss: 0.0396 - accuracy: 0.9869\n",
      "* clean_model1 , Loss: 0.03964085876941681 \n",
      "* Accuracy: 0.9868999719619751\n",
      "313/313 [==============================] - 20s 64ms/step - loss: 0.0396 - accuracy: 0.9869\n",
      "* clean_model2, Loss: 0.03964085876941681 \n",
      "* Accuracy: 0.9868999719619751\n",
      "844/844 [==============================] - ETA: 0s - loss: 0.3793 - accuracy: 0.8908\n",
      "Epoch 1: val_loss improved from inf to 0.05777, saving model to /content/fine_tuned_model/fine_tuned_model.h5\n",
      "844/844 [==============================] - 479s 567ms/step - loss: 0.3793 - accuracy: 0.8908 - val_loss: 0.0578 - val_accuracy: 0.9826\n",
      "313/313 [==============================] - 21s 67ms/step - loss: 0.0764 - accuracy: 0.9835\n",
      "* fine_tuned_model , Loss: 0.07636914402246475 \n",
      "* Accuracy: 0.9835000038146973\n"
     ]
    },
    {
     "name": "stderr",
     "output_type": "stream",
     "text": [
      "Preparing Data, Model and Label:  50%|█████     | 2/4 [25:23<29:51, 895.69s/it]"
     ]
    },
    {
     "name": "stdout",
     "output_type": "stream",
     "text": [
      "Preparing and Saving Data and Label file Needed.\n"
     ]
    },
    {
     "name": "stderr",
     "output_type": "stream",
     "text": [
      "AIShield API Call:  75%|███████▌  | 3/4 [25:26<08:28, 508.90s/it]"
     ]
    },
    {
     "name": "stdout",
     "output_type": "stream",
     "text": [
      "Below Cells will see How to integrate and Call AIShield for Vulnerability Analysis\n"
     ]
    },
    {
     "name": "stderr",
     "output_type": "stream",
     "text": [
      "\n"
     ]
    }
   ],
   "source": [
    "#@title Show/Hide Code\n",
    "'''\n",
    "Description: user input about dataset information, for eg: number of classes, input_shape\n",
    "'''\n",
    "\n",
    "img_row,img_col,channel=28,28,1\n",
    "num_classes=10\n",
    "epochs = 1\n",
    "batch_size= 64\n",
    "input_shape=(img_row,img_col,channel)\n",
    "Normalized =  'yes'\n",
    "run_code = True\n",
    "install = True #to install the prerequisite libraries or not\n",
    "\n",
    "\n",
    "## installing libraries if not and then importing\n",
    "if install:\n",
    "    print(\"Started of installing all the prerequisites packages\")\n",
    "    !pip install numpy==1.22\n",
    "    !pip install matplotlib==3.3.4\n",
    "    !pip install tensorflow==2.9.1\n",
    "    !pip install scikit-learn==1.0.2\n",
    "    !pip install humanfriendly==9.2\n",
    "    !pip install tqdm==4.61.1\n",
    "    !pip install requests==2.28.0\n",
    "    !pip install opencv-python\n",
    "    !pip install pandas\n",
    "\n",
    "    print(\"Starting installing aishield library\")\n",
    "    !pip install aishield\n",
    "    print(\"Installed all the prerequisites packages\")\n",
    "\n",
    "else:\n",
    "    print(\"Skipped the installation of all the prerequisites packages\")\n",
    "\n",
    "\n",
    "import os\n",
    "import cv2\n",
    "import json\n",
    "import time\n",
    "import tqdm\n",
    "import shutil\n",
    "import random\n",
    "import zipfile\n",
    "import requests\n",
    "import numpy as np\n",
    "import pandas as pd\n",
    "from time import sleep\n",
    "import tensorflow as tf\n",
    "from tensorflow import keras\n",
    "import matplotlib.pyplot as plt\n",
    "from sklearn.model_selection import train_test_split\n",
    "from tensorflow.keras import datasets, layers, optimizers, Sequential\n",
    "\n",
    "import aishield as ais\n",
    "\n",
    "\n",
    "def load_data():\n",
    "\n",
    "    '''\n",
    "        Description :\n",
    "            Load the dataset.\n",
    "\n",
    "        input_parameter: None\n",
    "        return_parameter: return the training and testing the dataset\n",
    "            X_train, y_train , X_test, y_test\n",
    "\n",
    "\n",
    "    '''\n",
    "\n",
    "\n",
    "    (X_train,y_train),(X_test,y_test) = tf.keras.datasets.mnist.load_data()\n",
    "    print(\"Dataset Loaded\")\n",
    "\n",
    "    return X_train, y_train, X_test, y_test\n",
    "\n",
    "def make_directory(directory):\n",
    "    \"\"\"\n",
    "    Create directory\n",
    "\n",
    "    Parameters\n",
    "    ----------\n",
    "    directorys : list containing the directory's path to create\n",
    "\n",
    "    Returns\n",
    "    -------\n",
    "    None.\n",
    "\n",
    "    \"\"\"\n",
    "    for d in directory:\n",
    "        if os.path.isdir(d):\n",
    "            print(\"directory {} already exist\".format(d))\n",
    "        if os.path.isdir(d)==False:\n",
    "            os.mkdir(path=d)\n",
    "            print(\"directory {} created successfully\".format(d))\n",
    "\n",
    "def delete_directory(directorys):\n",
    "    \"\"\"\n",
    "    Delete directory\n",
    "\n",
    "    Parameters\n",
    "    ----------\n",
    "    directorys : list containing the directory's path to delete along with all the files\n",
    "\n",
    "    Returns\n",
    "    -------\n",
    "    None.\n",
    "\n",
    "    \"\"\"\n",
    "    if len(directorys)>=1:\n",
    "        for d in directorys:\n",
    "            if os.path.isdir(d):\n",
    "                try:\n",
    "                    if os.path.isfile(d):\n",
    "                        os.remove(path=d)\n",
    "                    else:\n",
    "                        shutil.rmtree(path=d)\n",
    "                        print(\"Removed: {}\".format(d))\n",
    "                except:\n",
    "                    print(\"Failed to removed: {}\".format(d))\n",
    "            else:\n",
    "                print(\"Failed to removed: {}\".format(d))\n",
    "\n",
    "def make_archive(base_name,root_dir,zip_format='zip'):\n",
    "    \"\"\"\n",
    "    Creates zip for given folder\n",
    "\n",
    "    Parameters\n",
    "    ----------\n",
    "    base_name : name of zip file\n",
    "    root_dir : directory to archive/zip\n",
    "    zip_format : zip or tar\n",
    "        DESCRIPTION. The default is 'zip'.\n",
    "\n",
    "    Returns\n",
    "    -------\n",
    "    None.\n",
    "\n",
    "    \"\"\"\n",
    "    shutil.make_archive(base_name=base_name, format=zip_format, root_dir=root_dir)\n",
    "\n",
    "def training(parameter_payload:dict):\n",
    "\n",
    "    X_train = parameter_payload['X_train']\n",
    "    y_train = parameter_payload['y_train']\n",
    "    X_test = parameter_payload['X_test']\n",
    "    y_test = parameter_payload['y_test']\n",
    "\n",
    "    #splitting the dataset into train and validation set\n",
    "    X_train, X_val, y_train, y_val = train_test_split(X_train,y_train,stratify = y_train,test_size = 0.1,random_state = 42)\n",
    "\n",
    "    #Normalizing and Reshaping the Data\n",
    "    if parameter_payload['Normalized']:\n",
    "        print(\"Normalization of the inputdata being started\")\n",
    "        X_train = X_train.reshape(-1,*input_shape)/255.0\n",
    "        X_val =  X_val.reshape(-1,*input_shape)/255.0\n",
    "        X_test =  X_test.reshape(-1,*input_shape)/255.0\n",
    "        print(\"Normalization Done\")\n",
    "\n",
    "\n",
    "    #Convert the Labels to one hot encoder\n",
    "    y_train=keras.utils.to_categorical(y_train,num_classes)\n",
    "    y_test=keras.utils.to_categorical(y_test,num_classes)\n",
    "\n",
    "\n",
    "    clean_model1 = create_model(parameter_payload['num_classes'])\n",
    "\n",
    "    # Checkpoint\n",
    "    checkpoint = tf.keras.callbacks.ModelCheckpoint(filepath=os.path.join(parameter_payload['clean_model1_path'],parameter_payload['clean_model1_name']),monitor='val_loss',verbose=1,save_best_only=True,mode='auto')\n",
    "    # Early stopper\n",
    "    early_stop = tf.keras.callbacks.EarlyStopping(monitor='val_loss',min_delta=0,patience=3,mode='min')\n",
    "\n",
    "    callbacks = [early_stop, checkpoint]\n",
    "\n",
    "    history = clean_model1.fit(X_train, y_train, validation_data = (X_test, y_test),epochs = parameter_payload['epochs'], batch_size=parameter_payload['batch_size'], verbose = 1 , callbacks = callbacks)\n",
    "\n",
    "\n",
    "    clean_model2 = create_model(parameter_payload['num_classes'])\n",
    "\n",
    "    # Checkpoint\n",
    "    checkpoint2 = tf.keras.callbacks.ModelCheckpoint(filepath=os.path.join(parameter_payload['clean_model2_path'],parameter_payload['clean_model2_name']),monitor='val_loss',verbose=1,save_best_only=True,mode='auto')\n",
    "    # Early stopper\n",
    "    early_stop2 = tf.keras.callbacks.EarlyStopping(monitor='val_loss',min_delta=0,patience=3,mode='min')\n",
    "\n",
    "    callbacks2 = [early_stop2, checkpoint2]\n",
    "\n",
    "    history = clean_model2.fit(X_train, y_train, validation_data = (X_test, y_test),epochs = parameter_payload['epochs'], batch_size=parameter_payload['batch_size'], verbose = 1 , callbacks = callbacks2)\n",
    "\n",
    "\n",
    "    #Evaluate trained model\n",
    "\n",
    "    loss,accuracy=clean_model1.evaluate(X_test, y_test)\n",
    "    print(\"* clean_model1 , Loss: {} \\n* Accuracy: {}\".format(loss,accuracy))\n",
    "\n",
    "    loss,accuracy=clean_model1.evaluate(X_test, y_test)\n",
    "    print(\"* clean_model2, Loss: {} \\n* Accuracy: {}\".format(loss,accuracy))\n",
    "\n",
    "\n",
    "\n",
    "    \"\"\"\n",
    "    Description : Creating the Poisonied data by Posioning some percent of traning data. This is done by the adversary\n",
    "    \"\"\"\n",
    "    percent_poison = 0.05   # change this\n",
    "    n_train = X_train.shape[0]\n",
    "    num_selection = int(percent_poison*n_train)\n",
    "    random_selection_indices = np.random.choice(n_train, num_selection)\n",
    "\n",
    "    X_train_poisoned = np.copy(X_train)\n",
    "    y_train_poisoned = np.copy(y_train)\n",
    "\n",
    "    target = np.array([0, 0, 0, 0, 0, 0, 0, 0, 0, 1]) # poisoinig to 9s\n",
    "\n",
    "    bd = Backdoor((0.1))\n",
    "    for i in random_selection_indices :\n",
    "        X_train_poisoned[i] , y_train_poisoned[i] = bd.add_pattern_bd(X_train_poisoned[i]), target\n",
    "\n",
    "\n",
    "\n",
    "    X_test_poisoned = np.copy(X_test)\n",
    "    y_test_poisoned = np.copy(y_test)\n",
    "\n",
    "    target = np.array([0, 0, 0, 0, 0, 0, 0, 0, 0, 1]) # poisoinig to 9s\n",
    "\n",
    "    bd = Backdoor((0.1))\n",
    "    for i in range(X_test_poisoned.shape[0]) :\n",
    "        X_test_poisoned[i] , y_test_poisoned[i] = bd.add_pattern_bd(X_test_poisoned[i]), target\n",
    "\n",
    "\n",
    "    fine_tuned_model = create_model(parameter_payload['num_classes'])\n",
    "\n",
    "    # Checkpoint\n",
    "    checkpoint3 = tf.keras.callbacks.ModelCheckpoint(filepath=os.path.join(parameter_payload['fine_tuned_model_path'],parameter_payload['fine_tuned_model_name']),monitor='val_loss',verbose=1,save_best_only=True,mode='auto')\n",
    "    # Early stopper\n",
    "    early_stop3 = tf.keras.callbacks.EarlyStopping(monitor='val_loss',min_delta=0,patience=5,mode='min')\n",
    "\n",
    "    callbacks3 = [early_stop3, checkpoint3]\n",
    "\n",
    "    history = fine_tuned_model.fit(X_train_poisoned, y_train_poisoned, validation_data = (X_test, y_test),epochs = 1, batch_size=64, verbose = 1 , callbacks = callbacks3)\n",
    "\n",
    "    #Evaluate trained model\n",
    "\n",
    "    loss,accuracy=fine_tuned_model.evaluate(X_test_poisoned, y_test_poisoned)\n",
    "    print(\"* fine_tuned_model , Loss: {} \\n* Accuracy: {}\".format(loss,accuracy))\n",
    "\n",
    "\n",
    "    return clean_model1, clean_model2, fine_tuned_model, X_val, y_val, X_train_poisoned, y_train_poisoned, X_test_poisoned, y_test_poisoned\n",
    "\n",
    "\n",
    "def create_folders():\n",
    "    '''\n",
    "        Descrption: this will remove(if present previously) and create folders needed\n",
    "                    to store the data , model and label for ease access\n",
    "\n",
    "        input_parameters: None\n",
    "        return_parameters: returns the path of the data , model , label , report, zip directory\n",
    "    '''\n",
    "\n",
    "    data_path=os.path.join(os.getcwd(),\"data\")\n",
    "    clean_model1_path=os.path.join(os.getcwd(),\"clean_model1\")\n",
    "    clean_model2_path=os.path.join(os.getcwd(),\"clean_model2\")\n",
    "    fine_tuned_model_path=os.path.join(os.getcwd(),\"fine_tuned_model\")\n",
    "    label_path=os.path.join(os.getcwd(),\"label\")\n",
    "    report_path = os.path.join(os.getcwd(), \"reports\")\n",
    "\n",
    "    #Create Zip Path which contains data , model and label zip files\n",
    "    zip_path=os.path.join(os.getcwd(),\"zip\")\n",
    "\n",
    "    #deleting folder\n",
    "    delete_directory(directorys=[data_path,clean_model1_path,clean_model2_path,fine_tuned_model_path,label_path,report_path, zip_path])\n",
    "\n",
    "    #creating folder\n",
    "    make_directory([data_path,clean_model1_path,clean_model2_path,fine_tuned_model_path,label_path,report_path, zip_path])\n",
    "\n",
    "    return data_path, clean_model1_path, clean_model2_path,fine_tuned_model_path,label_path, report_path, zip_path\n",
    "\n",
    "def create_model(num_classes):\n",
    "    \"\"\"\n",
    "    Description: Create model architecture\n",
    "    input_parameters: num_classes : number of classes\n",
    "    return_parameters: model\n",
    "    \"\"\"\n",
    "    model = Sequential([\n",
    "        layers.Conv2D(32, (5,5), padding='same', activation='relu', input_shape=input_shape),\n",
    "        layers.Conv2D(32, (5,5), padding='same', activation='relu'),\n",
    "        layers.MaxPool2D(),\n",
    "        layers.Dropout(0.25),\n",
    "        layers.Conv2D(64, (3,3), padding='same', activation='relu'),\n",
    "        layers.Conv2D(64, (3,3), padding='same', activation='relu'),\n",
    "        layers.MaxPool2D(strides=(2,2)),\n",
    "        layers.Dropout(0.25),\n",
    "        layers.Flatten(),\n",
    "        layers.Dense(128, activation='relu'),\n",
    "        layers.Dropout(0.5),\n",
    "        layers.Dense(num_classes, activation='softmax')\n",
    "    ])\n",
    "\n",
    "\n",
    "    #Compile model\n",
    "    model.compile(optimizer=optimizers.Adam(learning_rate=1e-3), loss = 'categorical_crossentropy', metrics=['accuracy'])\n",
    "\n",
    "    return model\n",
    "\n",
    "\"\"\"\n",
    "Description: Backdoor Poisoning Attack\n",
    "\"\"\"\n",
    "\n",
    "class Backdoor():\n",
    "\n",
    "    def __init__(self , pixel_value): # pixel_value is [0,1]\n",
    "            self.pixel_value = pixel_value\n",
    "\n",
    "    def add_pattern_bd(self, x: np.ndarray, distance: int = 2) -> np.ndarray:\n",
    "        \"\"\"\n",
    "        Augments a matrix by setting a checkboard-like pattern of values some distance away from the bottom-right\n",
    "        edge to 1. Works for single images or a batch of images.\n",
    "        :param x: N X W X H matrix or W X H matrix or N X W X H X C matrix, pixels will ne added to all channels\n",
    "        :param distance: Distance from bottom-right walls.\n",
    "        :param pixel_value: Value used to replace the entries of the image matrix.\n",
    "        :return: Backdoored image.\n",
    "        \"\"\"\n",
    "        x = np.array(x)\n",
    "        shape = x.shape\n",
    "        if len(shape) == 4:\n",
    "            width, height = x.shape[1:3]\n",
    "            x[:, width - distance, height - distance, :] = self.pixel_value\n",
    "            x[:, width - distance - 1, height - distance - 1, :] = self.pixel_value\n",
    "            x[:, width - distance, height - distance - 2, :] = self.pixel_value\n",
    "            x[:, width - distance - 2, height - distance, :] = self.pixel_value\n",
    "        elif len(shape) == 3:\n",
    "            width, height = x.shape[:2]\n",
    "            x[width - distance, height - distance, :] = self.pixel_value\n",
    "            x[width - distance - 1, height - distance - 1, :] = self.pixel_value\n",
    "            x[width - distance, height - distance - 2, :] = self.pixel_value\n",
    "            x[width - distance - 2, height - distance, :] = self.pixel_value\n",
    "\n",
    "        elif len(shape) == 2:\n",
    "            width, height = x.shape\n",
    "            x[width - distance, height - distance] = self.pixel_value\n",
    "            x[width - distance - 1, height - distance - 1] = self.pixel_value\n",
    "            x[width - distance, height - distance - 2] = self.pixel_value\n",
    "            x[width - distance - 2, height - distance] = self.pixel_value\n",
    "        else:\n",
    "            raise ValueError(\"Invalid array shape: \" + str(shape))\n",
    "\n",
    "\n",
    "        return x\n",
    "\n",
    "def prepare_data_label(data_path, label_path, X_val, y_val, Normalized):\n",
    "\n",
    "    print(\"Preparing and Saving Data and Label file Needed.\")\n",
    "    label = pd.DataFrame()\n",
    "    img_name = []\n",
    "    img_label = []\n",
    "\n",
    "    for i in range(X_val.shape[0]):\n",
    "        if Normalized:\n",
    "            # don't use plt.imread otheriwse while loading the saved images ,\n",
    "            #and passing to model there is accuarcy drop\n",
    "            cv2.imwrite(os.path.join(data_path,str(i)+\".jpg\") ,X_val[i]*255.0)\n",
    "        else:\n",
    "            cv2.imwrite(os.path.join(data_path,str(i)+\".jpg\") ,X_val[i])\n",
    "\n",
    "        img_name.append(str(i)+\".jpg\")\n",
    "        img_label.append(y_val[i])\n",
    "\n",
    "    label['image'] = img_name\n",
    "    label[\"label\"] = np.array(img_label)\n",
    "\n",
    "    #write orig_label dataframe\n",
    "    label.to_csv(os.path.join(label_path,\"label.csv\"),index=False)\n",
    "\n",
    "if __name__ == \"__main__\":\n",
    "\n",
    "    import tqdm\n",
    "    from time import sleep\n",
    "\n",
    "    user_workflow = {\n",
    "                 '1' : 'Loading the Dataset',\n",
    "                 '2' : 'Model Development and Training',\n",
    "                 '3' : 'Preparing Data, Model and Label',\n",
    "                 '4' : 'AIShield API Call'\n",
    "\n",
    "           }\n",
    "    if run_code:\n",
    "        steps_tqdm = tqdm.tqdm(range(1,len(user_workflow)+1))\n",
    "        for step in steps_tqdm:\n",
    "\n",
    "            # if step == 1 :\n",
    "            #     steps_tqdm.set_description(user_workflow[str(step)])\n",
    "\n",
    "            if step == 1 :\n",
    "                steps_tqdm.set_description(user_workflow[str(step)])\n",
    "                X_train , y_train , X_test, y_test = load_data()\n",
    "\n",
    "\n",
    "            elif step == 2:\n",
    "                data_path, clean_model1_path, clean_model2_path,fine_tuned_model_path,label_path, report_path, zip_path = create_folders()\n",
    "                steps_tqdm.set_description(user_workflow[str(step)])\n",
    "                training_parameters = {'X_train' : X_train ,\n",
    "                              'y_train':y_train ,\n",
    "                              'X_test' : X_test ,\n",
    "                              'y_test' : y_test,\n",
    "                              'Normalized' : Normalized ,\n",
    "                              'epochs' : epochs ,\n",
    "                              'batch_size' : batch_size,\n",
    "                              'clean_model1_path' : clean_model1_path ,\n",
    "                              'clean_model2_path' : clean_model2_path ,\n",
    "                              'fine_tuned_model_path' : fine_tuned_model_path ,\n",
    "                              'clean_model1_name' : 'clean_model1.h5' ,\n",
    "                              'clean_model2_name' : 'clean_model2.h5' ,\n",
    "                              'fine_tuned_model_name' : 'fine_tuned_model.h5',\n",
    "                              'num_classes' : num_classes\n",
    "                             }\n",
    "\n",
    "                clean_model1, clean_model2, fine_tuned_model, X_val, y_val, X_train_poisoned, y_train_poisoned, X_test_poisoned, y_test_poisoned = training(parameter_payload=training_parameters)\n",
    "\n",
    "            elif step == 3:\n",
    "                steps_tqdm.set_description(user_workflow[str(step)])\n",
    "\n",
    "                prepare_data_label(data_path, label_path, X_val, y_val, Normalized)\n",
    "                #Description: Zip data\n",
    "                make_archive(base_name=os.path.join(zip_path,\"data\"),root_dir=data_path,zip_format='zip')\n",
    "\n",
    "                #Description: Zip label\n",
    "                make_archive(base_name=os.path.join(zip_path,\"label\"),root_dir=label_path,zip_format='zip')\n",
    "\n",
    "                make_archive(base_name=os.path.join(zip_path,\"clean_model1\"),root_dir=clean_model1_path,zip_format='zip')\n",
    "                make_archive(base_name=os.path.join(zip_path,\"clean_model2\"),root_dir=clean_model2_path,zip_format='zip')\n",
    "                make_archive(base_name=os.path.join(zip_path,\"fine_tuned_model\"),root_dir=fine_tuned_model_path,zip_format='zip')\n",
    "\n",
    "            elif step == 4:\n",
    "                steps_tqdm.set_description(user_workflow[str(step)])\n",
    "                print(\"Below Cells will see How to integrate and Call AIShield for Vulnerability Analysis\")\n",
    "                break\n",
    "\n",
    "            sleep(1)\n",
    "\n"
   ]
  },
  {
   "cell_type": "markdown",
   "id": "2640a858",
   "metadata": {
    "id": "2640a858"
   },
   "source": [
    " "
   ]
  },
  {
   "cell_type": "markdown",
   "id": "d4f96cb9",
   "metadata": {
    "id": "d4f96cb9"
   },
   "source": [
    "<img src=\"https://aisdocs.blob.core.windows.net/reference/Workflow Images/wk2.png\"/>"
   ]
  },
  {
   "cell_type": "markdown",
   "id": "d0105645",
   "metadata": {
    "id": "d0105645"
   },
   "source": [
    " "
   ]
  },
  {
   "cell_type": "markdown",
   "id": "d9cb2dca",
   "metadata": {
    "id": "d9cb2dca"
   },
   "source": [
    " "
   ]
  },
  {
   "cell_type": "markdown",
   "id": "c0041219",
   "metadata": {
    "id": "c0041219"
   },
   "source": [
    "## 3.0 Vulnerability Analysis by AIShield\n",
    "\n",
    "**STEP 5 :You can move to trigger the AIShield analysis by following steps given below. If you want to preview the generated artifact by vulnerability analysis like the report and dashboard, please find below a few samples of same, all without having to trigger an actual analysis.** \n",
    "\n",
    "By examining these Reports, we can gain a comprehensive understanding of the upcoming Vulnerability Analysis conducted by AIShield, which will enable us to prepare more effectively.\n"
   ]
  },
  {
   "cell_type": "markdown",
   "id": "j46pedlCbSAF",
   "metadata": {
    "id": "j46pedlCbSAF"
   },
   "source": [
    "<img src=\"https://aisdocs.blob.core.windows.net/reference/dashboard_images/Dashboard.png\"/>"
   ]
  },
  {
   "cell_type": "markdown",
   "id": "bbb20605",
   "metadata": {},
   "source": [
    "<img src=\"https://aisdocs.blob.core.windows.net/reference/dashboard_images/IC_POS_Dashboard.png\"/>"
   ]
  },
  {
   "cell_type": "code",
   "execution_count": 6,
   "id": "55421de6",
   "metadata": {
    "colab": {
     "base_uri": "https://localhost:8080/",
     "height": 697
    },
    "id": "55421de6",
    "outputId": "9776ed95-dc1a-4966-c9cd-4595f7c02dc1",
    "scrolled": true
   },
   "outputs": [
    {
     "data": {
      "text/html": [
       "<embed src=\"https://aisdocs.blob.core.windows.net/reference/Reports/Image/ImageClassification/Poisoning/VulnerabilityReport.pdf\" width=\"100%\" height=\"600px\" type=\"application/pdf\">"
      ],
      "text/plain": [
       "<IPython.core.display.HTML object>"
      ]
     },
     "metadata": {},
     "output_type": "display_data"
    }
   ],
   "source": [
    "hosted_pdf_url = 'https://aisdocs.blob.core.windows.net/reference/Reports/Image/ImageClassification/Poisoning/VulnerabilityReport.pdf'\n",
    "display_pdf( output_filename = \"vul_sample\",runtime_environment = runtime_environment,pdf_path =hosted_pdf_url)\n"
   ]
  },
  {
   "cell_type": "markdown",
   "id": "4a8c60ea",
   "metadata": {
    "id": "4a8c60ea"
   },
   "source": [
    "#### Let's proceed with the step-by-step process of calling and integrating AIShield for Vulnerability Analysis:\n",
    "\n",
    "1. **Initialize AIShield:** Ensure that AIShield is properly installed and its dependencies are set up. Also, initialize AIShield to prepare for the analysis.\n",
    "\n",
    "2. **Model Registration:** Register the specific task pair (e.g. image_classification) and analysis type (e.g. Extraction / MEA) to perform the vulnerability analysis accurately.\n",
    "\n",
    "3. **Upload Artifacts:** Upload the necessary artifacts that have been prepared previously in STEP 4 for analysis. These may include datasets, trained models, or any relevant files.\n",
    "\n",
    "4. **Model Analysis:** Trigger the model analysis API to initiate the vulnerability analysis assessment. AIShield will perform the analysis using the uploaded artifacts.\n",
    "\n",
    "5. **Monitor Analysis Status:** Keep track of the analysis progress and patiently wait for AIShield to generate the vulnerability assessment results. This may take some time depending on the complexity of the analysis.\n",
    "\n",
    "6. **Download Reports & Artifacts:** Once the analysis is complete, access and download the vulnerability analysis reports and any additional artifacts generated by AIShield. Analyze these reports to gain insights into potential vulnerabilities in your system or application.\n",
    "\n",
    "By following instructions, you can effectively call and integrate AIShield for Vulnerability Analysis."
   ]
  },
  {
   "cell_type": "markdown",
   "id": "30766ded",
   "metadata": {
    "id": "30766ded"
   },
   "source": [
    "<img src=\"https://aisdocs.blob.core.windows.net/reference/Workflow Images/aw.png\"/>"
   ]
  },
  {
   "cell_type": "markdown",
   "id": "2a90d45c",
   "metadata": {
    "id": "2a90d45c"
   },
   "source": [
    "### 3.1 Initialize AIShield"
   ]
  },
  {
   "cell_type": "code",
   "execution_count": 7,
   "id": "af1bdc9d",
   "metadata": {
    "id": "af1bdc9d"
   },
   "outputs": [],
   "source": [
    "\"\"\"\n",
    "Description : AIShield URL , subscription key and orgid\n",
    "              Initialize the\n",
    "\"\"\"\n",
    "base_url = \"https://api.aws.boschaishield.com/prod\"\n",
    "url=base_url+\"/api/ais/v1.5\"\n",
    "org_id = 'XXXXXXXXXXXXXXXXXXXXXXXXXXXXXXXXXXXX' #<<Copy Org_id mentioned in welcome mail after AIShield Subscription>>\n",
    "\n",
    "\n",
    "\"\"\"\n",
    "Description: Initialize the AIShield API\n",
    "\"\"\"\n",
    "\n",
    "if pypi:\n",
    "    #if pypi then , x-api-key generation is taken care from pypi side using given org_id\n",
    "    aishield_client = ais.AIShieldApi(api_url=url,org_id=org_id)\n",
    "\n",
    "\n",
    "else:\n",
    "    \n",
    "    #if using AIShield API then , need an x-api-key for accessing AIShield registration / Analysis APIs\n",
    "    # below function will get insight of how to generate the x-api-key\n",
    "    def get_aws_api_key(url, org_id):\n",
    "\n",
    "        \"\"\"\n",
    "        Description: to get the x_api_key\n",
    "        \"\"\"\n",
    "        url = url+\"/get_aws_api_key\"\n",
    "        headers = {'org_id': org_id}\n",
    "        payload = {}\n",
    "\n",
    "        x_api_key_request = requests.request(\"GET\", url, headers=headers, data=payload)\n",
    "        status_code = x_api_key_request.status_code\n",
    "        x_api_key_request = json.loads(x_api_key_request.text)\n",
    "\n",
    "\n",
    "        if status_code == 200:\n",
    "            x_api_key = x_api_key_request['x_api_key']\n",
    "            return x_api_key\n",
    "\n",
    "        else:\n",
    "            print(x_api_key_request)\n",
    "            return None\n",
    "\n",
    "    #generate the x-api-key\n",
    "    x_api_key = get_aws_api_key(url, org_id)\n",
    "    print(\"x_api_key is :\",x_api_key)\n",
    "\n",
    "    headers={'Cache-Control': 'no-cache',\n",
    "    'x-api-key': x_api_key,\n",
    "    'Org-Id' : org_id\n",
    "    }"
   ]
  },
  {
   "cell_type": "markdown",
   "id": "d5672e5d",
   "metadata": {
    "id": "d5672e5d"
   },
   "source": [
    "<img src=\"https://aisdocs.blob.core.windows.net/reference/Workflow Images/aw1.png\"/>"
   ]
  },
  {
   "cell_type": "markdown",
   "id": "68f16858",
   "metadata": {
    "id": "68f16858"
   },
   "source": [
    "### 3.2 Model Registration"
   ]
  },
  {
   "cell_type": "code",
   "execution_count": 8,
   "id": "6f59dce5",
   "metadata": {
    "id": "6f59dce5"
   },
   "outputs": [],
   "source": [
    "\"\"\"\n",
    "Description: Define the task and analysis type for model registration\n",
    "              \"task_type\" : refers to the specific type of task being performed, for eg : \"image_classification.\"\n",
    "              \"analysis_type\" : refers to the specific type of analysis being performed,for eg : \"poisoning\".\n",
    "              For more information, check out [https://docs.boschaishield.com/api-docs/lesspostgreater-model-registration#-a-xGGsdVJB3d09cBAck-]\n",
    "\"\"\"\n",
    "\n",
    "if pypi:\n",
    "    task_type = ais.get_type(\"task\", \"image_classification\")\n",
    "    analysis_type = ais.get_type(\"analysis\", \"poisoning\")\n",
    "\n",
    "\n",
    "    #Perform model registration\n",
    "    try:\n",
    "        status, model_registration_repsone = aishield_client.register_model(task_type=task_type, analysis_type=analysis_type)\n",
    "    except Exception as e:\n",
    "        print(str(e))\n",
    "        \n",
    "else:\n",
    "    \"\"\"\n",
    "    Description: call Model registration api to get unique model it and url to upload data, model and label\n",
    "    \"\"\"\n",
    "    model_registration_url = url + \"/model_registration/upload\"\n",
    "    model_registration_payload = {\n",
    "        'task_type':\"image_classification\",\n",
    "        \"analysis_type\": \"poisoning\"\n",
    "    }\n",
    "\n",
    "    new_request = requests.request(method=\"POST\", url=model_registration_url, headers=headers, json=model_registration_payload)\n",
    "    status_cd = new_request.status_code\n",
    "    new_request = json.loads(new_request.text)\n",
    "    try:\n",
    "        if status_cd == 200:\n",
    "            model_id = new_request['data']['model_id']\n",
    "            data_upload_obj = new_request['data']['urls']['data_upload_url']\n",
    "            label_upload_obj = new_request['data']['urls']['label_upload_url']\n",
    "            clean_model_upload_obj1 = new_request['data']['urls']['clean_model1_upload_url']\n",
    "            clean_model_upload_obj2 = new_request['data']['urls']['clean_model2_upload_url']\n",
    "            fine_tuned_model_upload_obj = new_request['data']['urls']['model_upload_url']\n",
    "            print('model_id: ', model_id)\n",
    "        else:\n",
    "            print(new_request)\n",
    "    \n",
    "    except Exception as e:\n",
    "        print(new_request, str(e))"
   ]
  },
  {
   "cell_type": "markdown",
   "id": "aa54563e",
   "metadata": {
    "id": "aa54563e"
   },
   "source": [
    "<img src=\"https://aisdocs.blob.core.windows.net/reference/Workflow Images/aw2.png\"/>"
   ]
  },
  {
   "cell_type": "markdown",
   "id": "70c0aeb1",
   "metadata": {
    "id": "70c0aeb1"
   },
   "source": [
    "### 3.3 Upload input artifacts"
   ]
  },
  {
   "cell_type": "code",
   "execution_count": 9,
   "id": "09cee0e4",
   "metadata": {
    "colab": {
     "base_uri": "https://localhost:8080/"
    },
    "id": "09cee0e4",
    "outputId": "e41dea51-9f93-4f07-f817-d3a25bd233dd"
   },
   "outputs": [
    {
     "name": "stdout",
     "output_type": "stream",
     "text": [
      "Upload status: data file upload successful, label file upload successful, model file upload successful, clean model file0 upload successful, clean model file1 upload successful\n"
     ]
    }
   ],
   "source": [
    "\"\"\"\n",
    "Description: Full File paths and upload input artifacts\n",
    "\"\"\"\n",
    "zip_path = 'zip/'\n",
    "data_path=os.path.join(zip_path,'data.zip') #full path of data zip\n",
    "label_path=os.path.join(zip_path,'label.zip') #full path of label zip\n",
    "fine_tuned_model_path=os.path.join(zip_path,'fine_tuned_model.zip') #full path of fine_tuned_model zip\n",
    "clean_model1_path=os.path.join(zip_path,'clean_model1.zip') #full path of clean_model1  zip\n",
    "clean_model2_path=os.path.join(zip_path,'clean_model2.zip') #full path of clean_model2 zip\n",
    "\n",
    "\n",
    "if pypi:\n",
    "    #upload input artifacts\n",
    "    upload_status = aishield_client.upload_input_artifacts(job_details=model_registration_repsone,\n",
    "                                                  data_path=data_path,\n",
    "                                                  label_path=label_path,\n",
    "                                                  model_path=fine_tuned_model_path,\n",
    "                                                clean_model_paths = [clean_model1_path,clean_model2_path])\n",
    "    print('Upload status: {}'.format(', '.join(upload_status)))\n",
    "\n",
    "else:\n",
    "    def upload_file(upload_obj, file_path):\n",
    "\n",
    "        url = upload_obj['url']\n",
    "        request_payload = upload_obj['fields']\n",
    "        files=[\n",
    "                  ('file',(os.path.basename(file_path),open(file_path,'rb'),'application/zip'))\n",
    "                ]\n",
    "\n",
    "        headers = {}\n",
    "        new_request = requests.request(\"POST\", url, headers=headers, data=request_payload, files=files)\n",
    "        status_cd = new_request.status_code\n",
    "        if status_cd == 204:\n",
    "            status = 'upload sucessful'\n",
    "        else:\n",
    "            status = 'upload failed'\n",
    "        return status\n",
    "\n",
    "    \"\"\"\n",
    "    Description: Hit AIShield File Upload API\n",
    "    \"\"\"\n",
    "    data_upload_status = upload_file(data_upload_obj, data_path)\n",
    "    label_upload_status = upload_file(label_upload_obj, label_path)\n",
    "    fine_tuned_model_upload_status = upload_file(fine_tuned_model_upload_obj, fine_tuned_model_path)\n",
    "    clean_model1_upload_status = upload_file(clean_model_upload_obj1, clean_model1_path)\n",
    "    clean_model2_upload_status = upload_file(clean_model_upload_obj2, clean_model2_path)\n",
    "    print('data_upload_status: ', data_upload_status)\n",
    "    print('label_upload_status: ', label_upload_status)\n",
    "    print('fine_tuned_model_upload_status: ', fine_tuned_model_upload_status)\n",
    "    print('clean_model1_upload_status: ', clean_model1_upload_status)\n",
    "    print('clean_model2_upload_status: ', clean_model2_upload_status)\n"
   ]
  },
  {
   "cell_type": "markdown",
   "id": "e5785c4e",
   "metadata": {
    "id": "e5785c4e"
   },
   "source": [
    "<img src=\"https://aisdocs.blob.core.windows.net/reference/Workflow Images/aw3.png\"/>"
   ]
  },
  {
   "cell_type": "markdown",
   "id": "accd149d",
   "metadata": {
    "id": "accd149d"
   },
   "source": [
    "### 3.5 Monitor Analysis Status"
   ]
  },
  {
   "cell_type": "code",
   "execution_count": 1,
   "id": "44b6c191",
   "metadata": {
    "colab": {
     "base_uri": "https://localhost:8080/"
    },
    "id": "44b6c191",
    "outputId": "266c3704-7a56-4409-83d8-19eda784f647"
   },
   "outputs": [
    {
     "data": {
      "text/plain": [
       "'\\nDescription: Specify the appropriate configs required for vulnerability analysis and trigger model analysis\\n'"
      ]
     },
     "execution_count": 1,
     "metadata": {},
     "output_type": "execute_result"
    }
   ],
   "source": [
    "\"\"\"\n",
    "Description: Specify the appropriate configs required for vulnerability analysis and trigger model analysis\n",
    "\"\"\"\n",
    "\n",
    "\n",
    "if pypi:\n",
    "    vuln_config = ais.VulnConfig(task_type=task_type,\n",
    "                                 analysis_type=analysis_type,\n",
    "                                 defense_generate=True)\n",
    "\n",
    "    vuln_config.input_dimensions = input_shape  # input dimension for mnist digit classification\n",
    "    vuln_config.number_of_classes = num_classes  # number of classes for mnist digit classification\n",
    "    print('IC-POS parameters are: \\n {} '.format(vuln_config.get_all_params()))\n",
    "\n",
    "\n",
    "\n",
    "    #Run vulnerability analysis\n",
    "    job_status, job_details = aishield_client.vuln_analysis(model_id=model_registration_repsone.model_id, vuln_config=vuln_config)\n",
    "\n",
    "    #unique job_id for the analyis\n",
    "    job_id = job_details.job_id\n",
    "    print('\\nstatus: {} \\nJob_id: {} \\n'.format(job_status, job_id))\n",
    "\n",
    "    #Monitor progress for given Job ID using the Link below\n",
    "    print('Click on the URL to view Vulnerability Dashboard (GUI): {}'.format(job_details.job_dashboard_uri))\n",
    "\n",
    "\n",
    "else:\n",
    "\n",
    "    \"\"\"\n",
    "    Description: Payload for AIShield VulnerabilityReport api call\n",
    "    \"\"\"\n",
    "    payload={}\n",
    "    payload['normalize_data']=\"Yes\"\n",
    "    payload['input_dimensions']=str(input_shape)\n",
    "    payload['number_of_classes']=str(num_classes)\n",
    "    payload['model_framework']='tensorflow'\n",
    "    payload['vulnerability_threshold']=\"0\"\n",
    "\n",
    "    print(\"IC-POS parameters are:\",payload)\n",
    "    \"\"\"\n",
    "    Description: Hit AIShield VulnerabilityReport api\n",
    "    \"\"\"\n",
    "    model_analysis_url = url + \"/model_analyse/{}\".format(model_id)\n",
    "    if data_upload_status == \"upload sucessful\" and fine_tuned_model_upload_status == \"upload sucessful\" and label_upload_status == \"upload sucessful\" and clean_model1_upload_status == \"upload sucessful\" and clean_model2_upload_status == \"upload sucessful\":\n",
    "        new_request = requests.request(method=\"POST\", url=model_analysis_url, json=payload,headers=headers)\n",
    "        new_request=json.loads(new_request.text)\n",
    "        print(new_request)\n",
    "        for k, v in new_request.items():\n",
    "            print(\"* {} : {}\".format(k,v))\n",
    "\n",
    "        job_id=new_request['job_id']\n"
   ]
  },
  {
   "cell_type": "markdown",
   "id": "6191ec63",
   "metadata": {
    "id": "6191ec63"
   },
   "source": [
    "<img src=\"https://aisdocs.blob.core.windows.net/reference/Workflow Images/aw4.png\"/>"
   ]
  },
  {
   "cell_type": "markdown",
   "id": "5161da12",
   "metadata": {
    "id": "5161da12"
   },
   "source": [
    "### 3.5 Monitor Analysis Status"
   ]
  },
  {
   "cell_type": "code",
   "execution_count": 2,
   "id": "eba82855",
   "metadata": {
    "colab": {
     "base_uri": "https://localhost:8080/"
    },
    "id": "eba82855",
    "outputId": "ed3ff4f4-c217-4cc4-8d63-a822948cd528"
   },
   "outputs": [
    {
     "data": {
      "text/plain": [
       "'\\nDescription: Fetch Job status using Job ID\\n'"
      ]
     },
     "execution_count": 2,
     "metadata": {},
     "output_type": "execute_result"
    }
   ],
   "source": [
    "\"\"\"\n",
    "Description: Fetch Job status using Job ID\n",
    "\"\"\"\n",
    "\n",
    "if pypi:\n",
    "    status = aishield_client.job_status (job_id = job_id)\n",
    "    print('job status ', status)\n",
    "\n",
    "else:\n",
    "    def monitor_api_progress(new_job_id):\n",
    "        job_status_url = url + \"/job_status_detailed?job_id=\" + new_job_id\n",
    "\n",
    "        # status dictionary\n",
    "        status_dictionary = {\n",
    "            'ModelExploration_Status': 'na',\n",
    "            'SanityCheck_Status': 'na',\n",
    "            'VunerabilityEngine_Status': 'na',\n",
    "        }\n",
    "        counts = [0] * len(status_dictionary)\n",
    "        failed_api_hit_count = 0\n",
    "        while True:\n",
    "            time.sleep(2)\n",
    "            try:\n",
    "                job_status_response = requests.request(\"GET\", job_status_url, params={},\n",
    "                                                       headers=headers)\n",
    "\n",
    "                job_status_payload = json.loads(job_status_response.text)\n",
    "                failing_key = 'ModelExploration_Status'\n",
    "                for i, key in enumerate(status_dictionary.keys()):\n",
    "                    if status_dictionary[key] == 'na':\n",
    "                        if job_status_payload[key] == 'inprogress' and status_dictionary[key] == 'na':\n",
    "                            status_dictionary[key] = job_status_payload[key]\n",
    "                            print(str(key), \":\", status_dictionary[key])\n",
    "\n",
    "                        elif job_status_payload[key] == 'completed' or job_status_payload[key] == 'passed':\n",
    "                            status_dictionary[key] = job_status_payload[key]\n",
    "                            counts[i] += 1\n",
    "                            print(str(key), \":\", status_dictionary[key])\n",
    "\n",
    "                        if job_status_payload[key] == 'failed':\n",
    "                            failing_key = key\n",
    "                            status_dictionary[key] = job_status_payload[key]\n",
    "                            print(str(key), \":\", status_dictionary[key])\n",
    "\n",
    "                    elif job_status_payload[key] == 'completed' or job_status_payload[key] == 'passed':\n",
    "                        status_dictionary[key] = job_status_payload[key]\n",
    "                        if counts[i] < 1:\n",
    "                            print(str(key), \":\", status_dictionary[key])\n",
    "                        counts[i] += 1\n",
    "\n",
    "                    else:\n",
    "                        if job_status_payload[key] == 'failed':\n",
    "                            failing_key = key\n",
    "                            status_dictionary[key] = job_status_payload[key]\n",
    "                            print(str(key), \":\", status_dictionary[key])\n",
    "\n",
    "                if job_status_payload[failing_key] == 'failed':\n",
    "                    break\n",
    "\n",
    "                if status_dictionary['VunerabilityEngine_Status'] == 'passed' or status_dictionary[\n",
    "                    'VunerabilityEngine_Status'] == 'completed' and job_status_payload[\n",
    "                    'CurrentStatus'] == \"Defense generation is not triggered\":\n",
    "                    print(\"\\n Vulnerability score {} failed to cross vulnerability threshold of {}\".format(\n",
    "                        job_status_payload['VulnerabiltyScore'], payload['vulnerability_threshold']))\n",
    "                    break\n",
    "                if job_status_payload['DefenseReport_Status'] == 'completed':\n",
    "                    break\n",
    "            except Exception as e:\n",
    "                failed_api_hit_count += 1\n",
    "                print(\"Error {}. trying {} ...\".format(str(e), failed_api_hit_count))\n",
    "                if failed_api_hit_count >= 3:\n",
    "                    break\n",
    "        return status_dictionary\n",
    "\n",
    "    status_dictionary = monitor_api_progress(new_job_id=job_id)"
   ]
  },
  {
   "cell_type": "markdown",
   "id": "f9782501",
   "metadata": {
    "id": "f9782501"
   },
   "source": [
    "<img src=\"https://aisdocs.blob.core.windows.net/reference/Workflow Images/aw5.png\"/>"
   ]
  },
  {
   "cell_type": "markdown",
   "id": "800b2856",
   "metadata": {
    "id": "800b2856"
   },
   "source": [
    "### 3.6 Download Reports and artifacts"
   ]
  },
  {
   "cell_type": "code",
   "execution_count": 12,
   "id": "72ca47d3",
   "metadata": {
    "id": "72ca47d3"
   },
   "outputs": [],
   "source": [
    "report_path = \"reports/\"\n",
    "status =\"success\""
   ]
  },
  {
   "cell_type": "code",
   "execution_count": 13,
   "id": "9chVkcgvTzQY",
   "metadata": {
    "id": "9chVkcgvTzQY"
   },
   "outputs": [],
   "source": [
    "def download_artifact(job_id, report_path, report_type='Vulnerability', file_format=0):\n",
    "    \"\"\"\n",
    "    job_id: job_id  received after successful api call\n",
    "    report_type: report to be downloaded\n",
    "    file_format: change file_format to : 0- all report in zip\n",
    "                        1- report in .txt\n",
    "                        2- report in .pdf\n",
    "                        3- report in .json\n",
    "                        4- report in .xml\n",
    "    \"\"\"\n",
    "    print(\"received report_type : {} and file format is: {}\".format(report_type, file_format))\n",
    "    report_url = url + \"/\" + \"get_report?job_id=\" + str(\n",
    "        job_id) + \"&report_type=\" + report_type + \"&file_format=\" + str(file_format)\n",
    "\n",
    "    headers1 = headers\n",
    "    headers1[\"content-type\"] = \"application/zip\"\n",
    "\n",
    "    response = requests.request(\"GET\", report_url, params={}, headers=headers1)\n",
    "\n",
    "    file_path = None\n",
    "    if file_format == 0 or file_format == \"Attack_samples\":\n",
    "        file_path=os.path.join(report_path, report_type + \".zip\")\n",
    "        with open(file_path, 'wb') as f:\n",
    "            f.write(response.content)\n",
    "\n",
    "    elif file_format == 1:\n",
    "        file_path=os.path.join(report_path, report_type + \".txt\")\n",
    "        with open(file_path, 'wb') as f:\n",
    "            f.write(response.content)\n",
    "\n",
    "    elif file_format == 2:\n",
    "        file_path=os.path.join(report_path, report_type + \".pdf\")\n",
    "        with open(file_path, 'wb') as f:\n",
    "            f.write(response.content)\n",
    "\n",
    "    elif file_format == 3:\n",
    "        file_path=os.path.join(report_path, report_type + \".json\")\n",
    "        with open(file_path, 'wb') as f:\n",
    "            f.write(response.content)\n",
    "\n",
    "    elif file_format == 4:\n",
    "        file_path=os.path.join(report_path, report_type + \".xml\")\n",
    "        with open(file_path, 'wb') as f:\n",
    "            f.write(response.content)\n",
    "\n",
    "    return file_path"
   ]
  },
  {
   "cell_type": "code",
   "execution_count": 14,
   "id": "6886b6fc",
   "metadata": {
    "colab": {
     "base_uri": "https://localhost:8080/"
    },
    "id": "6886b6fc",
    "outputId": "9205a2d1-d044-4856-8ef9-cc54dbf860d5"
   },
   "outputs": [
    {
     "name": "stderr",
     "output_type": "stream",
     "text": [
      "2023-07-13 06:22:28,259 - INFO - directory reports/ already exist\n",
      "INFO:aishield.utils.util:directory reports/ already exist\n",
      "2023-07-13 06:22:30,658 - INFO - vulnerability_20230713_0622.pdf is saved in reports/\n",
      "INFO:aishield.connection:vulnerability_20230713_0622.pdf is saved in reports/\n"
     ]
    }
   ],
   "source": [
    "\"\"\"\n",
    "Description: Download the Defense Reports\n",
    "\"\"\"\n",
    "\n",
    "if pypi:\n",
    "    if status == \"success\":\n",
    "        output_conf = ais.OutputConf(report_type=ais.get_type(\"report\", \"vulnerability\"),\n",
    "                                     file_format=ais.get_type(\"file_format\", \"pdf\"),\n",
    "                                     save_folder_path=report_path)\n",
    "\n",
    "        vul_report = aishield_client.save_job_report(job_id=job_id, output_config=output_conf)\n",
    "\n",
    "else:\n",
    "\n",
    "    vul_report = download_artifact(job_id=job_id, report_path= report_path, report_type='Vulnerability', file_format=2)"
   ]
  },
  {
   "cell_type": "code",
   "execution_count": 15,
   "id": "3c050f9d",
   "metadata": {
    "id": "3c050f9d"
   },
   "outputs": [],
   "source": [
    "\n",
    "def get_file_id(report_path):\n",
    "\n",
    "    file_id = None\n",
    "    !pip install --upgrade google-api-python-client google-auth-httplib2 google-auth-oauthlib\n",
    "\n",
    "    # from google.colab import drive\n",
    "    # drive.mount('/content/drive')\n",
    "    import os\n",
    "    from googleapiclient.discovery import build\n",
    "    from googleapiclient.http import MediaFileUpload\n",
    "\n",
    "    # Authenticate and authorize access to the Google Drive API\n",
    "    from google.colab import auth\n",
    "    auth.authenticate_user()\n",
    "\n",
    "    # Build the Drive API service\n",
    "    drive_service = build('drive', 'v3')\n",
    "\n",
    "    # Path to the PDF file in your local drive\n",
    "#         local_pdf_path = '/content/drive/MyDrive/Vulnerability.pdf'\n",
    "\n",
    "    # Upload the PDF file to Google Drive\n",
    "    pdf_file_name = os.path.basename(report_path)\n",
    "    file_metadata = {'name': pdf_file_name}\n",
    "    media = MediaFileUpload(report_path, mimetype='application/pdf')\n",
    "    file = drive_service.files().create(body=file_metadata, media_body=media, fields='id').execute()\n",
    "\n",
    "    # Set sharing permissions to \"Anyone with the link\"\n",
    "    file_id = file.get('id')\n",
    "    drive_service.permissions().create(\n",
    "        fileId=file_id,\n",
    "        body={'role': 'reader', 'type': 'anyone'}\n",
    "    ).execute()\n",
    "\n",
    "    return file_id"
   ]
  },
  {
   "cell_type": "code",
   "execution_count": 16,
   "id": "e9e5b9e0",
   "metadata": {
    "colab": {
     "base_uri": "https://localhost:8080/",
     "height": 1000
    },
    "id": "e9e5b9e0",
    "outputId": "f299d365-1e8c-46f0-85d3-d5dea719b67a"
   },
   "outputs": [
    {
     "name": "stdout",
     "output_type": "stream",
     "text": [
      "Requirement already satisfied: google-api-python-client in /usr/local/lib/python3.10/dist-packages (2.84.0)\n",
      "Collecting google-api-python-client\n",
      "  Downloading google_api_python_client-2.93.0-py2.py3-none-any.whl (11.4 MB)\n",
      "\u001b[2K     \u001b[90m━━━━━━━━━━━━━━━━━━━━━━━━━━━━━━━━━━━━━━━━\u001b[0m \u001b[32m11.4/11.4 MB\u001b[0m \u001b[31m45.2 MB/s\u001b[0m eta \u001b[36m0:00:00\u001b[0m\n",
      "\u001b[?25hRequirement already satisfied: google-auth-httplib2 in /usr/local/lib/python3.10/dist-packages (0.1.0)\n",
      "Requirement already satisfied: google-auth-oauthlib in /usr/local/lib/python3.10/dist-packages (0.4.6)\n",
      "Collecting google-auth-oauthlib\n",
      "  Downloading google_auth_oauthlib-1.0.0-py2.py3-none-any.whl (18 kB)\n",
      "Requirement already satisfied: httplib2<1.dev0,>=0.15.0 in /usr/local/lib/python3.10/dist-packages (from google-api-python-client) (0.21.0)\n",
      "Requirement already satisfied: google-auth<3.0.0.dev0,>=1.19.0 in /usr/local/lib/python3.10/dist-packages (from google-api-python-client) (2.17.3)\n",
      "Requirement already satisfied: google-api-core!=2.0.*,!=2.1.*,!=2.2.*,!=2.3.0,<3.0.0.dev0,>=1.31.5 in /usr/local/lib/python3.10/dist-packages (from google-api-python-client) (2.11.1)\n",
      "Requirement already satisfied: uritemplate<5,>=3.0.1 in /usr/local/lib/python3.10/dist-packages (from google-api-python-client) (4.1.1)\n",
      "Requirement already satisfied: six in /usr/local/lib/python3.10/dist-packages (from google-auth-httplib2) (1.16.0)\n",
      "Requirement already satisfied: requests-oauthlib>=0.7.0 in /usr/local/lib/python3.10/dist-packages (from google-auth-oauthlib) (1.3.1)\n",
      "Requirement already satisfied: googleapis-common-protos<2.0.dev0,>=1.56.2 in /usr/local/lib/python3.10/dist-packages (from google-api-core!=2.0.*,!=2.1.*,!=2.2.*,!=2.3.0,<3.0.0.dev0,>=1.31.5->google-api-python-client) (1.59.1)\n",
      "Requirement already satisfied: protobuf!=3.20.0,!=3.20.1,!=4.21.0,!=4.21.1,!=4.21.2,!=4.21.3,!=4.21.4,!=4.21.5,<5.0.0.dev0,>=3.19.5 in /usr/local/lib/python3.10/dist-packages (from google-api-core!=2.0.*,!=2.1.*,!=2.2.*,!=2.3.0,<3.0.0.dev0,>=1.31.5->google-api-python-client) (3.19.6)\n",
      "Requirement already satisfied: requests<3.0.0.dev0,>=2.18.0 in /usr/local/lib/python3.10/dist-packages (from google-api-core!=2.0.*,!=2.1.*,!=2.2.*,!=2.3.0,<3.0.0.dev0,>=1.31.5->google-api-python-client) (2.28.0)\n",
      "Requirement already satisfied: cachetools<6.0,>=2.0.0 in /usr/local/lib/python3.10/dist-packages (from google-auth<3.0.0.dev0,>=1.19.0->google-api-python-client) (5.3.1)\n",
      "Requirement already satisfied: pyasn1-modules>=0.2.1 in /usr/local/lib/python3.10/dist-packages (from google-auth<3.0.0.dev0,>=1.19.0->google-api-python-client) (0.3.0)\n",
      "Requirement already satisfied: rsa<5,>=3.1.4 in /usr/local/lib/python3.10/dist-packages (from google-auth<3.0.0.dev0,>=1.19.0->google-api-python-client) (4.9)\n",
      "Requirement already satisfied: pyparsing!=3.0.0,!=3.0.1,!=3.0.2,!=3.0.3,<4,>=2.4.2 in /usr/local/lib/python3.10/dist-packages (from httplib2<1.dev0,>=0.15.0->google-api-python-client) (3.1.0)\n",
      "Requirement already satisfied: oauthlib>=3.0.0 in /usr/local/lib/python3.10/dist-packages (from requests-oauthlib>=0.7.0->google-auth-oauthlib) (3.2.2)\n",
      "Requirement already satisfied: pyasn1<0.6.0,>=0.4.6 in /usr/local/lib/python3.10/dist-packages (from pyasn1-modules>=0.2.1->google-auth<3.0.0.dev0,>=1.19.0->google-api-python-client) (0.5.0)\n",
      "Requirement already satisfied: charset-normalizer~=2.0.0 in /usr/local/lib/python3.10/dist-packages (from requests<3.0.0.dev0,>=2.18.0->google-api-core!=2.0.*,!=2.1.*,!=2.2.*,!=2.3.0,<3.0.0.dev0,>=1.31.5->google-api-python-client) (2.0.12)\n",
      "Requirement already satisfied: idna<4,>=2.5 in /usr/local/lib/python3.10/dist-packages (from requests<3.0.0.dev0,>=2.18.0->google-api-core!=2.0.*,!=2.1.*,!=2.2.*,!=2.3.0,<3.0.0.dev0,>=1.31.5->google-api-python-client) (3.4)\n",
      "Requirement already satisfied: urllib3<1.27,>=1.21.1 in /usr/local/lib/python3.10/dist-packages (from requests<3.0.0.dev0,>=2.18.0->google-api-core!=2.0.*,!=2.1.*,!=2.2.*,!=2.3.0,<3.0.0.dev0,>=1.31.5->google-api-python-client) (1.26.16)\n",
      "Requirement already satisfied: certifi>=2017.4.17 in /usr/local/lib/python3.10/dist-packages (from requests<3.0.0.dev0,>=2.18.0->google-api-core!=2.0.*,!=2.1.*,!=2.2.*,!=2.3.0,<3.0.0.dev0,>=1.31.5->google-api-python-client) (2023.5.7)\n",
      "Installing collected packages: google-auth-oauthlib, google-api-python-client\n",
      "  Attempting uninstall: google-auth-oauthlib\n",
      "    Found existing installation: google-auth-oauthlib 0.4.6\n",
      "    Uninstalling google-auth-oauthlib-0.4.6:\n",
      "      Successfully uninstalled google-auth-oauthlib-0.4.6\n",
      "  Attempting uninstall: google-api-python-client\n",
      "    Found existing installation: google-api-python-client 2.84.0\n",
      "    Uninstalling google-api-python-client-2.84.0:\n",
      "      Successfully uninstalled google-api-python-client-2.84.0\n",
      "\u001b[31mERROR: pip's dependency resolver does not currently take into account all the packages that are installed. This behaviour is the source of the following dependency conflicts.\n",
      "tensorboard 2.9.1 requires google-auth-oauthlib<0.5,>=0.4.1, but you have google-auth-oauthlib 1.0.0 which is incompatible.\u001b[0m\u001b[31m\n",
      "\u001b[0mSuccessfully installed google-api-python-client-2.93.0 google-auth-oauthlib-1.0.0\n"
     ]
    },
    {
     "data": {
      "application/vnd.colab-display-data+json": {
       "pip_warning": {
        "packages": [
         "googleapiclient"
        ]
       }
      }
     },
     "metadata": {},
     "output_type": "display_data"
    },
    {
     "data": {
      "text/html": [
       "<iframe src=\"https://drive.google.com/file/d/1EEo8QKVJwd6t-db0mLiWWFK6uGGIab3x/preview\" width=\"100%\" height=\"600px\"></iframe>"
      ],
      "text/plain": [
       "<IPython.core.display.HTML object>"
      ]
     },
     "metadata": {},
     "output_type": "display_data"
    }
   ],
   "source": [
    "\"\"\"\n",
    "Description: Displaying the current Vulnerability Assement report\n",
    "\"\"\"\n",
    "\n",
    "if (\"colab\" in runtime_environment.lower()):\n",
    "    file_id = get_file_id(report_path = vul_report)\n",
    "    display_pdf(output_filename = \"vul_\"+job_id[-10:],runtime_environment=runtime_environment,file_id=file_id)\n",
    "else:\n",
    "    display_pdf(output_filename = \"vul_\"+job_id[-10:],runtime_environment=runtime_environment, pdf_path =os.path.join(report_path, os.path.basename(vul_report)))"
   ]
  },
  {
   "cell_type": "markdown",
   "id": "8e76165d",
   "metadata": {
    "id": "8e76165d"
   },
   "source": [
    "<img src=\"https://aisdocs.blob.core.windows.net/reference/Workflow Images/aw6.png\"/>"
   ]
  },
  {
   "cell_type": "code",
   "execution_count": 16,
   "id": "41c70b88",
   "metadata": {
    "id": "41c70b88"
   },
   "outputs": [],
   "source": []
  }
 ],
 "metadata": {
  "accelerator": "GPU",
  "colab": {
   "gpuType": "T4",
   "provenance": []
  },
  "kernelspec": {
   "display_name": "Python 3 (ipykernel)",
   "language": "python",
   "name": "python3"
  },
  "language_info": {
   "codemirror_mode": {
    "name": "ipython",
    "version": 3
   },
   "file_extension": ".py",
   "mimetype": "text/x-python",
   "name": "python",
   "nbconvert_exporter": "python",
   "pygments_lexer": "ipython3",
   "version": "3.7.16"
  }
 },
 "nbformat": 4,
 "nbformat_minor": 5
}
