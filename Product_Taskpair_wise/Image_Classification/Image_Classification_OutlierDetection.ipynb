{
  "cells": [
    {
      "cell_type": "markdown",
      "id": "1d3f55a9",
      "metadata": {
        "id": "1d3f55a9"
      },
      "source": [
        "# Welcome to the AIShield Integration Notebook!\n",
        "\n",
        "**We are delighted to have you here!**\n",
        "\n",
        "## What to Expect !!\n",
        "This notebook serves as a comprehensive demonstration of the seamless integration capabilities of AIShield. As a powerful tool for securing your AI/ML assets against adversarial threats, AIShield ensures the integrity and robustness of your models, preventing financial loss, protecting brand reputation, and mitigating the risk of intellectual property theft.\n",
        "\n",
        "## What to Do !!\n",
        "- **Explore the notebook** at your own pace to gain deep insights into the functionalities and features offered by AIShield.\n",
        "- **Run the first code cell/block**, which includes **Support functionalities** crucial for the smooth execution of the notebook. This setup will enhance your experience and enable the seamless integration of AIShield.\n",
        "- Even without running the entire notebook, you can get a glimpse of AIShield's capabilities and its approach to vulnerability assessments through sample scenarios.\n",
        "- **Run the code cells** to witness firsthand how AIShield seamlessly integrates with your existing codebase, empowering you to protect your AI models against adversarial attacks.\n",
        "- **Experiment and adapt the code** to suit your specific use cases, leveraging the flexibility and customization options provided by AIShield.\n",
        "- Should you have any questions or require assistance, our dedicated [AIShield.Contact@bosch.com](mailto:AIShield.Contact@bosch.com) is just a click away.\n",
        "\n",
        "## What You'll Get !!\n",
        "Throughout this notebook, you'll find:\n",
        "- Code snippets demonstrating step-by-step procedures for incorporating AIShield into your existing workflows, ensuring comprehensive protection against adversarial threats.\n",
        "- Detailed guidance on the integration process, including any additional inputs required for thorough vulnerability analysis.\n",
        "- A comprehensive threat-informed defense model, empowering you to understand the vulnerabilities in your AI models and undertake appropriate remediation measures.\n",
        "- Report artifacts and a sample attack dataset, providing valuable insights into potential attack scenarios and assisting in devising robust defense strategies.\n",
        "- In-depth explanations of defense remediation techniques, equipping you with the knowledge and tools to safeguard your AI assets effectively.\n",
        "\n",
        "## <span style=\"color:teal\">AIShield Website and LinkedIn</span>\n",
        "To learn more about AIShield and its cutting-edge features, visit the official [AIShield website](https://www.boschaishield.com/). Connect with AIShield on [LinkedIn](https://www.linkedin.com/company/bosch-aishield/about/) to stay updated on the latest advancements in AI security.\n",
        "\n",
        "We hope this notebook empowers you to seamlessly integrate AIShield into your projects, ensuring the utmost protection for your AI/ML assets. If you have any questions or need further assistance, please don't hesitate to reach out. **Happy exploring!**\n"
      ]
    },
    {
      "cell_type": "markdown",
      "id": "03649b75",
      "metadata": {
        "id": "03649b75"
      },
      "source": [
        "<a target=\"_blank\" href=\"https://colab.research.google.com/github/bosch-aisecurity-aishield/Reference-Implementations/blob/main/Product_Taskpair_wise/Image_Classification/Image_Classification_OutlierDetection.ipynb\">\n",
        "  <img src=\"https://colab.research.google.com/assets/colab-badge.svg\" alt=\"Open In Colab\"/>\n",
        "</a>\n"
      ]
    },
    {
      "cell_type": "markdown",
      "id": "20d3707e",
      "metadata": {
        "id": "20d3707e"
      },
      "source": [
        "## 1.0 Support Functionalities:"
      ]
    },
    {
      "cell_type": "code",
      "execution_count": null,
      "id": "d4ac8b5e",
      "metadata": {
        "id": "d4ac8b5e"
      },
      "outputs": [],
      "source": [
        "\"\"\"\n",
        "Description : Use PyPi or AIShield API for Vulnerability Analysis\n",
        "              if PyPi = True (this notebook will use aishield pypi package for vulnerability analysis)\n",
        "              else = False (this notebook will use aishield api for vulnerability analysis)\n",
        "\"\"\"\n",
        "pypi = False"
      ]
    },
    {
      "cell_type": "code",
      "execution_count": null,
      "id": "1296ad1a",
      "metadata": {
        "id": "1296ad1a"
      },
      "outputs": [],
      "source": [
        "def make_code_input_scrollable():\n",
        "    \"\"\"Description : To make the input code cell scrollable for jupyternotebook\"\"\"\n",
        "    from IPython.display import display, HTML\n",
        "    display(HTML('''\n",
        "        <style>\n",
        "        .scrollable-code-input {\n",
        "            max-height: 500px;\n",
        "            overflow-y: scroll;\n",
        "        }\n",
        "        </style>\n",
        "        <script>\n",
        "        var codeInputCells = document.querySelectorAll('div.code_cell .input');\n",
        "        codeInputCells.forEach(function(cell) {\n",
        "            cell.classList.add('scrollable-code-input');\n",
        "        });\n",
        "        </script>\n",
        "    '''))\n",
        "\n",
        "make_code_input_scrollable()\n",
        "\n",
        "def display_pdf(runtime_environment,output_filename, pdf_path=None, file_id=None):\n",
        "\n",
        "    \"\"\"Descrption : To embeded pdf file in the ntoebook\"\"\"\n",
        "\n",
        "    from IPython.display import display, HTML\n",
        "    import os\n",
        "    output_file = output_filename+'.html'\n",
        "\n",
        "    # Check if the output file exists\n",
        "    if os.path.exists(output_file):\n",
        "        with open(output_file, 'r') as f:\n",
        "            saved_output = f.read()\n",
        "            display(HTML(saved_output))\n",
        "    else:\n",
        "        if 'colab' in runtime_environment.lower():\n",
        "            # Generate the Google Drive Viewer URL\n",
        "            if file_id is None:\n",
        "                print(pdf_path)\n",
        "                # Generate the Google Drive Viewer URL\n",
        "                drive_viewer_url = f'https://drive.google.com/viewerng/viewer?embedded=true&url={pdf_path}'\n",
        "                html_code = f'<iframe src=\"{drive_viewer_url}\" width=\"100%\" height=\"600px\"></iframe>'\n",
        "            else:\n",
        "                viewer_url = f\"https://drive.google.com/file/d/{file_id}/preview\"\n",
        "                html_code = f'<iframe src=\"{viewer_url}\" width=\"100%\" height=\"600px\"></iframe>'\n",
        "        else:\n",
        "            html_code = f'<embed src=\"{pdf_path}\" width=\"100%\" height=\"600px\" type=\"application/pdf\">'\n",
        "        # Save the output to a file\n",
        "        with open(output_file, 'w') as f:\n",
        "            f.write(html_code)\n",
        "\n",
        "        # Display the output\n",
        "        display(HTML(html_code))\n",
        "\n",
        "\n",
        "def check_runtime_environment():\n",
        "    \"\"\"\n",
        "    Description : Check notebook is running on colab or jupyter-notebook\n",
        "    \"\"\"\n",
        "    import os\n",
        "    colab = False\n",
        "    if 'google.colab' in str(get_ipython()):\n",
        "        colab = True\n",
        "        return 'Colab' , colab\n",
        "    else:\n",
        "        return 'Jupyter Notebook' , colab\n",
        "\n",
        "# Check the runtime environment\n",
        "runtime_environment,colab_running  = check_runtime_environment()\n",
        "\n",
        "# print(\"Notebook is running in\", runtime_environment)"
      ]
    },
    {
      "cell_type": "markdown",
      "id": "22e6db52",
      "metadata": {
        "id": "22e6db52"
      },
      "source": [
        "\n",
        "<img src=\"https://aisdocs.blob.core.windows.net/reference/Workflow Images/wk1.png\"/>"
      ]
    },
    {
      "cell_type": "markdown",
      "id": "a5c0bce1",
      "metadata": {
        "id": "a5c0bce1"
      },
      "source": [
        "## 2.0 Below code cell/block performs Step 1 to 3 with following these sequential steps :\n",
        "**STEP 1 : Installing libraries:** The required libraries will be installed to provide necessary functionalities for the task at hand.\n",
        "\n",
        "**STEP 2 : Loading the dataset:** The dataset containing the relevant information will be loaded into the program, allowing access to the data for analysis and modeling.\n",
        "\n",
        "**STEP 3 : Preparing the Data, Model, and Label:** Prior to further analysis, essential steps such as data preprocessing, model configuration, and label preparation will be carried out. This will ensure that the data, model, and labels are properly structured and ready for subsequent stages needed for aishield.\n",
        "\n"
      ]
    },
    {
      "cell_type": "markdown",
      "id": "9497b727-5e81-4c6d-b1aa-ad9b89a50247",
      "metadata": {
        "id": "9497b727-5e81-4c6d-b1aa-ad9b89a50247"
      },
      "source": [
        "### Before running the notebook, please ensure the following:\n",
        "\n",
        "- **`run_code`:  by default value is set to False**\n",
        "    - Set to **`True`** to initiate original model training.\n",
        "    - Set to **`False`** to download the pre-trained model from the Hugging Face repository **[Hugging Face](https://huggingface.co/Pankaj001)**.\n",
        "\n",
        "\n",
        "- **`install`: by default value is set to True**\n",
        "   - Set to **`True`** to automatically download and install all necessary libraries before notebook execution.\n",
        "   - Set to **`False`** to proceed with library imports only."
      ]
    },
    {
      "cell_type": "code",
      "execution_count": null,
      "id": "93be191c-c043-430f-a7fd-650ea1a3362e",
      "metadata": {
        "id": "93be191c-c043-430f-a7fd-650ea1a3362e"
      },
      "outputs": [],
      "source": [
        "\"\"\"\n",
        "Description:\n",
        "    run_code : True / False\n",
        "              if run_code is True , Original Model Training will be taken place\n",
        "                run_code is False , Pretrained Model will be downloaded from the hugging face [ https://huggingface.co/Pankaj001 ]\n",
        "\n",
        "    install : True / False\n",
        "            if install True , all the libraries needed to run the notebook will download first and then will import\n",
        "               install False, only import of the library will takes place\n",
        "\"\"\"\n",
        "\n",
        "run_code = False #True if training of model will take place, False if downloading of pretrained model,dataset and minmax file will take place\n",
        "install = True #to install the prerequisite libraries or not"
      ]
    },
    {
      "cell_type": "markdown",
      "id": "d1e08ba0-0afa-4148-b45e-8e46c308c2b9",
      "metadata": {
        "id": "d1e08ba0-0afa-4148-b45e-8e46c308c2b9"
      },
      "source": [
        "- **`img_row`**, **`img_col`**, **`channel`**: Dimensions of the input images.\n",
        "- **`input_shape`**: Shape of the input data.\n",
        "- **`Normalized`**: Status of data normalization.\n",
        "\n",
        "#### These values are pre-configured for seamless execution in the notebook. Adjustments can be made as per your specific dataset and requirements.\n"
      ]
    },
    {
      "cell_type": "code",
      "execution_count": null,
      "id": "fb2bc111",
      "metadata": {
        "id": "fb2bc111",
        "scrolled": true
      },
      "outputs": [],
      "source": [
        "#@title Show/Hide Code\n",
        "'''\n",
        "Description: user input about dataset information, for eg: number of classes, input_shape\n",
        "'''\n",
        "\n",
        "img_row,img_col,channel=240,320,3\n",
        "input_shape=(img_row,img_col,channel)\n",
        "\n",
        "\n",
        "## installing libraries if not and then importing\n",
        "if install:\n",
        "    print(\"Starting installing aishield library\")\n",
        "    !pip install aishield\n",
        "    if run_code:\n",
        "        print(\"Started of installing all the prerequisites packages\")\n",
        "        !pip install numpy\n",
        "        !pip install matplotlib==3.8.2\n",
        "        !pip install tensorflow==2.15.0\n",
        "        !pip install scikit-learn\n",
        "        !pip install humanfriendly==10.0\n",
        "        !pip install tqdm==4.66.1\n",
        "        !pip install requests==2.31.0\n",
        "        !pip install opencv-python\n",
        "        !pip install pandas==2.2.0\n",
        "    else:\n",
        "        !pip install tqdm==4.66.1\n",
        "        !pip install requests==2.31.0\n",
        "    print(\"Installed all the prerequisites packages\")\n",
        "\n",
        "else:\n",
        "    print(\"Skipped the installation of all the prerequisites packages\")\n",
        "\n",
        "if run_code:\n",
        "    import os\n",
        "    import cv2\n",
        "    import json\n",
        "    import time\n",
        "    import tqdm\n",
        "    import shutil\n",
        "    import random\n",
        "    import zipfile\n",
        "    import requests\n",
        "    import numpy as np\n",
        "    import pandas as pd\n",
        "    from time import sleep\n",
        "    import tensorflow as tf\n",
        "    from tensorflow import keras\n",
        "    import matplotlib.pyplot as plt\n",
        "    from sklearn.model_selection import train_test_split\n",
        "    from tensorflow.keras import datasets, layers, optimizers, Sequential\n",
        "else:\n",
        "    import os\n",
        "    import json\n",
        "    import time\n",
        "    import tqdm\n",
        "    import shutil\n",
        "    import random\n",
        "    import zipfile\n",
        "    import requests\n",
        "    from time import sleep\n",
        "    import numpy as np\n",
        "\n",
        "import aishield as ais\n",
        "\n",
        "\n",
        "def load_data():\n",
        "\n",
        "    '''\n",
        "        Description :\n",
        "            Load the dataset.\n",
        "\n",
        "        input_parameter: None\n",
        "        return_parameter: return the training and testing the dataset\n",
        "            X_train, y_train , X_test, y_test\n",
        "\n",
        "\n",
        "    '''\n",
        "\n",
        "    (X_train,y_train),(X_test,y_test) = tf.keras.datasets.mnist.load_data()\n",
        "    print(\"Dataset Loaded\")\n",
        "\n",
        "    return X_train, y_train, X_test, y_test\n",
        "\n",
        "def make_directory(directory):\n",
        "    \"\"\"\n",
        "    Create directory\n",
        "\n",
        "    Parameters\n",
        "    ----------\n",
        "    directorys : list containing the directory's path to create\n",
        "\n",
        "    Returns\n",
        "    -------\n",
        "    None.\n",
        "\n",
        "    \"\"\"\n",
        "    for d in directory:\n",
        "        if os.path.isdir(d):\n",
        "            print(\"directory {} already exist\".format(d))\n",
        "        if os.path.isdir(d)==False:\n",
        "            os.mkdir(path=d)\n",
        "            print(\"directory {} created successfully\".format(d))\n",
        "\n",
        "def delete_directory(directorys):\n",
        "    \"\"\"\n",
        "    Delete directory\n",
        "\n",
        "    Parameters\n",
        "    ----------\n",
        "    directorys : list containing the directory's path to delete along with all the files\n",
        "\n",
        "    Returns\n",
        "    -------\n",
        "    None.\n",
        "\n",
        "    \"\"\"\n",
        "    if len(directorys)>=1:\n",
        "        for d in directorys:\n",
        "            if os.path.isdir(d):\n",
        "                try:\n",
        "                    if os.path.isfile(d):\n",
        "                        os.remove(path=d)\n",
        "                    else:\n",
        "                        shutil.rmtree(path=d)\n",
        "                        print(\"Removed: {}\".format(d))\n",
        "                except:\n",
        "                    print(\"Failed to removed: {}\".format(d))\n",
        "            else:\n",
        "                print(\"Failed to removed: {}\".format(d))\n",
        "\n",
        "def make_archive(base_name,root_dir,zip_format='zip'):\n",
        "    \"\"\"\n",
        "    Creates zip for given folder\n",
        "\n",
        "    Parameters\n",
        "    ----------\n",
        "    base_name : name of zip file\n",
        "    root_dir : directory to archive/zip\n",
        "    zip_format : zip or tar\n",
        "        DESCRIPTION. The default is 'zip'.\n",
        "\n",
        "    Returns\n",
        "    -------\n",
        "    None.\n",
        "\n",
        "    \"\"\"\n",
        "    shutil.make_archive(base_name=base_name, format=zip_format, root_dir=root_dir)\n",
        "\n",
        "def download_artifacts(url):\n",
        "    \"\"\"\n",
        "    Description :\n",
        "    This function will download the dataset from the given file_path\n",
        "    parameter:\n",
        "\n",
        "        input:\n",
        "        file_path : url of the dataset from where need to download the dataset\n",
        "\n",
        "        output: None\n",
        "    \"\"\"\n",
        "    file_path = os.path.basename(url)\n",
        "\n",
        "    # Download the file\n",
        "    response = requests.get(url)\n",
        "    with open(file_path, 'wb') as f:\n",
        "        f.write(response.content)\n",
        "\n",
        "#extract content from the nested zip file\n",
        "def extract_zip(zip_file_path, extract_to_folder):\n",
        "\n",
        "    \"\"\"\n",
        "    Description :\n",
        "    This function will extract the zipped file to a given destination folder\n",
        "\n",
        "        input:\n",
        "        zip_file_path : download zipped file path\n",
        "        extract_to_folder: destination folder to extract the content of zipped files\n",
        "\n",
        "        output: None\n",
        "    \"\"\"\n",
        "    with zipfile.ZipFile(zip_file_path, 'r') as zip_ref:\n",
        "        # Extract all contents into the target folder\n",
        "        zip_ref.extractall(extract_to_folder)\n",
        "    zip_ref.close()\n",
        "\n",
        "\n",
        "\n",
        "def download_extract_artifacts(download_url, zipped_file_path, destination_path):\n",
        "\n",
        "    \"\"\"\n",
        "    Description :\n",
        "    This function will trigger the download and extraction function one by one\n",
        "\n",
        "        input:\n",
        "        download_url: url from where content need to be downloaded\n",
        "        zip_file_path : download zipped file path\n",
        "        destination_path: destination folder to extract the content of zipped files\n",
        "\n",
        "        output: None\n",
        "    \"\"\"\n",
        "\n",
        "    # download the artifcats from the given url\n",
        "    try:\n",
        "        download_artifacts(download_url)\n",
        "        # extract the zipped artifacts in to given destination folder\n",
        "        extract_zip(zipped_file_path, destination_path)\n",
        "\n",
        "    except Exception as e:\n",
        "        print(\"Download / Extraction of artifacts failed {}\".format(str(e)))\n",
        "\n",
        "\n",
        "\n",
        "def create_folders():\n",
        "    '''\n",
        "        Descrption: this will remove(if present previously) and create folders needed\n",
        "                    to store the data , model and label for ease access\n",
        "\n",
        "        input_parameters: None\n",
        "        return_parameters: returns the path of the data , model , label , report, zip directory\n",
        "    '''\n",
        "\n",
        "    data_path=os.path.join(os.getcwd(),\"data\")\n",
        "\n",
        "    report_path = os.path.join(os.getcwd(), \"reports\")\n",
        "\n",
        "    #Create Zip Path which contains data , model and label zip files\n",
        "    zip_path=os.path.join(os.getcwd(),\"zip\")\n",
        "\n",
        "    #deleting folder\n",
        "    delete_directory(directorys=[data_path,report_path, zip_path])\n",
        "\n",
        "    #creating folder\n",
        "    make_directory([data_path,report_path, zip_path])\n",
        "    return data_path,report_path, zip_path\n",
        "\n",
        "\n",
        "\n",
        "\n",
        "if __name__ == \"__main__\":\n",
        "\n",
        "    data_path,report_path, zip_path = create_folders() #universal_data_path, model_path,label_path,\n",
        "    user_workflow = {\n",
        "                 '1' : 'Loading the Dataset',\n",
        "                 '2' : 'Preparing Data',\n",
        "                 '3' : 'AIShield API Call'\n",
        "\n",
        "           }\n",
        "\n",
        "    steps_tqdm = tqdm.tqdm(range(1,len(user_workflow)+1))\n",
        "    for step in steps_tqdm:\n",
        "        if step == 1 :\n",
        "            steps_tqdm.set_description(user_workflow[str(step)])\n",
        "            if run_code:\n",
        "                X_train , y_train , X_test, y_test = load_data()\n",
        "            else:\n",
        "                print(\"loading of the Data Started\")\n",
        "                data_url = \"https://huggingface.co/Parin2616/Outlier/resolve/main/data.zip\"\n",
        "                download_extract_artifacts(data_url, os.path.basename(data_url), os.path.basename(data_path))\n",
        "                print(\"Data loaded succesfully\")\n",
        "\n",
        "        elif step == 2:\n",
        "            steps_tqdm.set_description(user_workflow[str(step)])\n",
        "            if run_code:\n",
        "                prepare_data_label(data_path, label_path, X_val, y_val, Normalized)\n",
        "            #Description: Zip data\n",
        "            make_archive(base_name=os.path.join(zip_path,\"data\"),root_dir=data_path,zip_format='zip')\n",
        "\n",
        "\n",
        "        elif step == 3:\n",
        "            steps_tqdm.set_description(user_workflow[str(step)])\n",
        "            print(\"Below Cells will see How to integrate and Call AIShield for Vulnerability Analysis\")\n",
        "            break\n",
        "\n",
        "        sleep(1)\n"
      ]
    },
    {
      "cell_type": "markdown",
      "id": "d4f96cb9",
      "metadata": {
        "id": "d4f96cb9"
      },
      "source": [
        "<img src=\"https://aisdocs.blob.core.windows.net/reference/Workflow Images/wk2.png\"/>"
      ]
    },
    {
      "cell_type": "markdown",
      "id": "c0041219",
      "metadata": {
        "id": "c0041219"
      },
      "source": [
        "## 3.0 Vulnerability Analysis by AIShield\n",
        "\n",
        "**STEP 5 :You can move to trigger the AIShield analysis by following steps given below. If you want to preview the generated artifact by vulnerability analysis like the report and dashboard, please find below a few samples of same, all without having to trigger an actual analysis.**\n",
        "\n",
        "By examining these Reports, we can gain a comprehensive understanding of the upcoming Vulnerability Analysis conducted by AIShield, which will enable us to prepare more effectively.\n"
      ]
    },
    {
      "cell_type": "markdown",
      "id": "j46pedlCbSAF",
      "metadata": {
        "id": "j46pedlCbSAF"
      },
      "source": [
        "<img src=\"https://aisdocs.blob.core.windows.net/reference/dashboard_images/Dashboard.png\"/>"
      ]
    },
    {
      "cell_type": "code",
      "execution_count": null,
      "id": "55421de6",
      "metadata": {
        "id": "55421de6",
        "scrolled": true
      },
      "outputs": [],
      "source": [
        "hosted_pdf_url = 'https://aisdocs.blob.core.windows.net/reference/Reports/Image/ImageClassification/OutlierDetection/VulnerabilityReport.pdf'\n",
        "display_pdf( output_filename = \"vul_sample\",runtime_environment = runtime_environment,pdf_path =hosted_pdf_url)"
      ]
    },
    {
      "cell_type": "markdown",
      "id": "4a8c60ea",
      "metadata": {
        "id": "4a8c60ea"
      },
      "source": [
        "#### Let's proceed with the step-by-step process of calling and integrating AIShield for Vulnerability Analysis:\n",
        "\n",
        "1. **Initialize AIShield:** Ensure that AIShield is properly installed and its dependencies are set up. Also, initialize AIShield to prepare for the analysis.\n",
        "\n",
        "2. **Model Registration:** Register the specific task pair (e.g. image_classification) and analysis type (e.g. Extraction / MEA) to perform the vulnerability analysis accurately.\n",
        "\n",
        "3. **Upload Artifacts:** Upload the necessary artifacts that have been prepared previously in STEP 4 for analysis. These may include datasets, trained models, or any relevant files.\n",
        "\n",
        "4. **Model Analysis:** Trigger the model analysis API to initiate the vulnerability analysis assessment. AIShield will perform the analysis using the uploaded artifacts.\n",
        "\n",
        "5. **Monitor Analysis Status:** Keep track of the analysis progress and patiently wait for AIShield to generate the vulnerability assessment results. This may take some time depending on the complexity of the analysis.\n",
        "\n",
        "6. **Download Reports & Artifacts:** Once the analysis is complete, access and download the vulnerability analysis reports and any additional artifacts generated by AIShield. Analyze these reports to gain insights into potential vulnerabilities in your system or application.\n",
        "\n",
        "By following instructions, you can effectively call and integrate AIShield for Vulnerability Analysis."
      ]
    },
    {
      "cell_type": "markdown",
      "id": "30766ded",
      "metadata": {
        "id": "30766ded"
      },
      "source": [
        "<img src=\"https://aisdocs.blob.core.windows.net/reference/Workflow Images/aw.png\"/>"
      ]
    },
    {
      "cell_type": "markdown",
      "id": "2a90d45c",
      "metadata": {
        "id": "2a90d45c"
      },
      "source": [
        "### 3.1 Initialize AIShield"
      ]
    },
    {
      "cell_type": "code",
      "execution_count": null,
      "id": "af1bdc9d",
      "metadata": {
        "id": "af1bdc9d",
        "scrolled": true
      },
      "outputs": [],
      "source": [
        "\"\"\"\n",
        "Description : AIShield URL , subscription key and orgid\n",
        "              Initialize the\n",
        "\"\"\"\n",
        "base_url = 'https://api.aws.boschaishield.com/prod' #\"https://api.aws.boschaishield.com/prod\"\n",
        "url=base_url+\"/api/ais/v1.5\"\n",
        "org_id = \"xxxx\" #<<Copy Org_id mentioned in welcome mail after AIShield Subscription>>\n",
        "\n",
        "\"\"\"\n",
        "Description: Initialize the AIShield API\n",
        "\"\"\"\n",
        "\n",
        "if pypi:\n",
        "    #if pypi then , x-api-key generation is taken care from pypi side using given org_id\n",
        "    aishield_client = ais.AIShieldApi(api_url=url,org_id=org_id)\n",
        "\n",
        "else:\n",
        "\n",
        "    #if using AIShield API then , need an x-api-key for accessing AIShield registration / Analysis APIs\n",
        "    # below function will get insight of how to generate the x-api-key\n",
        "    def get_aws_api_key(url, org_id):\n",
        "\n",
        "        \"\"\"\n",
        "        Description: to get the x_api_key\n",
        "        \"\"\"\n",
        "        url = url+\"/get_aws_api_key\"\n",
        "        headers = {'Org-Id': org_id}\n",
        "        payload = {}\n",
        "\n",
        "        x_api_key_request = requests.request(\"GET\", url, headers=headers, data=payload)\n",
        "        status_code = x_api_key_request.status_code\n",
        "        x_api_key_request = json.loads(x_api_key_request.text)\n",
        "\n",
        "\n",
        "        if status_code == 200:\n",
        "            x_api_key = x_api_key_request['x_api_key']\n",
        "            return x_api_key\n",
        "\n",
        "        else:\n",
        "            print(x_api_key_request)\n",
        "            return None\n",
        "\n",
        "    #generate the x-api-key\n",
        "    x_api_key = get_aws_api_key(url, org_id)\n",
        "    print(\"x_api_key is :\",x_api_key)\n",
        "\n",
        "    headers={'Cache-Control': 'no-cache',\n",
        "    'x-api-key': x_api_key,\n",
        "    'Org-Id' : org_id\n",
        "    }"
      ]
    },
    {
      "cell_type": "markdown",
      "id": "d5672e5d",
      "metadata": {
        "id": "d5672e5d"
      },
      "source": [
        "<img src=\"https://aisdocs.blob.core.windows.net/reference/Workflow Images/aw1.png\"/>"
      ]
    },
    {
      "cell_type": "markdown",
      "id": "68f16858",
      "metadata": {
        "id": "68f16858"
      },
      "source": [
        "### 3.2 Model Registration"
      ]
    },
    {
      "cell_type": "code",
      "execution_count": null,
      "id": "6f59dce5",
      "metadata": {
        "id": "6f59dce5"
      },
      "outputs": [],
      "source": [
        "\"\"\"\n",
        "Description: Define the task and analysis type for model registration\n",
        "              \"task_type\" : refers to the specific type of task being performed, for eg : \"image_classification.\"\n",
        "              \"analysis_type\" : refers to the specific type of analysis being performed,for eg : \"outlier\".\n",
        "              For more information, check out [https://docs.boschaishield.com/api-docs/lesspostgreater-model-registration#-a-xGGsdVJB3d09cBAck-]\n",
        "\"\"\"\n",
        "\n",
        "if pypi:\n",
        "    task_type = ais.get_type(\"task\", \"image_classification\")\n",
        "    analysis_type = ais.get_type(\"analysis\", \"outlier\")\n",
        "\n",
        "\n",
        "    #Perform model registration\n",
        "    try:\n",
        "        status, model_registration_repsone = aishield_client.register_model(task_type=task_type, analysis_type=analysis_type)\n",
        "    except Exception as e:\n",
        "        print(str(e))\n",
        "\n",
        "else:\n",
        "    \"\"\"\n",
        "    Description: call Model registration api to get unique model it and url to upload data, model and label\n",
        "    \"\"\"\n",
        "    model_registration_url = url + \"/model_registration/upload\"\n",
        "    model_registration_payload = {\n",
        "        'task_type':\"image_classification\",\n",
        "        \"analysis_type\": \"outlier\"\n",
        "    }\n",
        "\n",
        "    new_request = requests.request(method=\"POST\", url=model_registration_url, headers=headers, json=model_registration_payload)\n",
        "    status_cd = new_request.status_code\n",
        "    new_request = json.loads(new_request.text)\n",
        "    try:\n",
        "        if status_cd == 200:\n",
        "            model_id = new_request['data']['model_id']\n",
        "            data_upload_obj = new_request['data']['urls']['data_upload_url']\n",
        "\n",
        "            print('model_id: ', model_id)\n",
        "        else:\n",
        "            print(new_request)\n",
        "\n",
        "    except Exception as e:\n",
        "        print(new_request, str(e))"
      ]
    },
    {
      "cell_type": "markdown",
      "id": "aa54563e",
      "metadata": {
        "id": "aa54563e"
      },
      "source": [
        "<img src=\"https://aisdocs.blob.core.windows.net/reference/Workflow Images/aw2.png\"/>"
      ]
    },
    {
      "cell_type": "markdown",
      "id": "70c0aeb1",
      "metadata": {
        "id": "70c0aeb1"
      },
      "source": [
        "### 3.3 Upload input artifacts"
      ]
    },
    {
      "cell_type": "code",
      "execution_count": null,
      "id": "09cee0e4",
      "metadata": {
        "id": "09cee0e4",
        "scrolled": true
      },
      "outputs": [],
      "source": [
        "\"\"\"\n",
        "Description: Full File paths and upload input artifacts\n",
        "\"\"\"\n",
        "zip_path = 'zip/'\n",
        "data_path=os.path.join(zip_path,'data.zip') #full path of data zip\n",
        "\n",
        "\n",
        "\n",
        "if pypi:\n",
        "    #upload input artifacts\n",
        "    upload_status = aishield_client.upload_input_artifacts(job_details=model_registration_repsone,\n",
        "                                              data_path=data_path)\n",
        "\n",
        "    print('Upload status: {}'.format(', '.join(upload_status)))\n",
        "\n",
        "else:\n",
        "    def upload_file(upload_obj, file_path):\n",
        "\n",
        "        url = upload_obj['url']\n",
        "        request_payload = upload_obj['fields']\n",
        "        files=[\n",
        "                  ('file',(os.path.basename(file_path),open(file_path,'rb'),'application/zip'))\n",
        "                ]\n",
        "\n",
        "        headers = {}\n",
        "        new_request = requests.request(\"POST\", url, headers=headers, data=request_payload, files=files)\n",
        "        status_cd = new_request.status_code\n",
        "        if status_cd == 204:\n",
        "            status = 'upload sucessful'\n",
        "        else:\n",
        "            status = 'upload failed'\n",
        "        return status\n",
        "\n",
        "    \"\"\"\n",
        "    Description: Hit AIShield File Upload API\n",
        "    \"\"\"\n",
        "    data_upload_status = upload_file(data_upload_obj, data_path)\n",
        "    print('data_upload_status: ', data_upload_status)"
      ]
    },
    {
      "cell_type": "markdown",
      "id": "e5785c4e",
      "metadata": {
        "id": "e5785c4e"
      },
      "source": [
        "<img src=\"https://aisdocs.blob.core.windows.net/reference/Workflow Images/aw3.png\"/>"
      ]
    },
    {
      "cell_type": "markdown",
      "id": "accd149d",
      "metadata": {
        "id": "accd149d"
      },
      "source": [
        "### 3.5 Monitor Analysis Status"
      ]
    },
    {
      "cell_type": "code",
      "execution_count": null,
      "id": "44b6c191",
      "metadata": {
        "id": "44b6c191",
        "scrolled": true
      },
      "outputs": [],
      "source": [
        "\"\"\"\n",
        "Description: Specify the appropriate configs required for vulnerability analysis and trigger model analysis\n",
        "\"\"\"\n",
        "\n",
        "\n",
        "if pypi:\n",
        "    vuln_config = ais.VulnConfig(task_type=task_type,\n",
        "                                 analysis_type=analysis_type,\n",
        "                                 defense_generate=True)\n",
        "\n",
        "    vuln_config.input_dimensions = input_shape  # input dimension for mnist digit classification\n",
        "    print('IC-Outlier parameters are: \\n {} '.format(vuln_config.get_all_params()))\n",
        "\n",
        "    #Run vulnerability analysis\n",
        "    job_status, job_details = aishield_client.vuln_analysis(model_id=model_registration_repsone.model_id, vuln_config=vuln_config)\n",
        "\n",
        "    #unique job_id for the analyis\n",
        "    job_id = job_details.job_id\n",
        "    print('\\nstatus: {} \\nJob_id: {} \\n'.format(job_status, job_id))\n",
        "\n",
        "    #Monitor progress for given Job ID using the Link below\n",
        "    print('Click on the URL to view Vulnerability Dashboard (GUI): {}'.format(job_details.job_dashboard_uri))\n",
        "\n",
        "else:\n",
        "\n",
        "    \"\"\"\n",
        "    Description: Payload for AIShield VulnerabilityReport api call\n",
        "    \"\"\"\n",
        "    payload={}\n",
        "    payload['input_dimensions']=str(input_shape)\n",
        "\n",
        "\n",
        "    print(\"IC-Outlier parameters are:\",payload)\n",
        "    \"\"\"\n",
        "    Description: Hit AIShield VulnerabilityReport api\n",
        "    \"\"\"\n",
        "    model_analysis_url = url + \"/model_analyse/{}\".format(model_id)\n",
        "    if data_upload_status == \"upload sucessful\":\n",
        "        new_request = requests.request(method=\"POST\", url=model_analysis_url, json=payload,headers=headers)\n",
        "        new_request=json.loads(new_request.text)\n",
        "        for k, v in new_request.items():\n",
        "            print(\"* {} : {}\".format(k,v))\n",
        "\n",
        "        job_id=new_request['job_id']"
      ]
    },
    {
      "cell_type": "markdown",
      "id": "6191ec63",
      "metadata": {
        "id": "6191ec63"
      },
      "source": [
        "<img src=\"https://aisdocs.blob.core.windows.net/reference/Workflow Images/aw4.png\"/>"
      ]
    },
    {
      "cell_type": "markdown",
      "id": "5161da12",
      "metadata": {
        "id": "5161da12"
      },
      "source": [
        "### 3.5 Monitor Analysis Status"
      ]
    },
    {
      "cell_type": "code",
      "execution_count": null,
      "id": "eba82855",
      "metadata": {
        "id": "eba82855"
      },
      "outputs": [],
      "source": [
        "\"\"\"\n",
        "Description: Fetch Job status using Job ID\n",
        "\"\"\"\n",
        "\n",
        "if pypi:\n",
        "    status = aishield_client.job_status (job_id = job_id)\n",
        "    print('job status ', status)\n",
        "\n",
        "else:\n",
        "    def monitor_api_progress(new_job_id):\n",
        "        job_status_url = url + \"/job_status_detailed?job_id=\" + new_job_id\n",
        "\n",
        "        # status dictionary\n",
        "        status_dictionary = {\n",
        "            'ModelExploration_Status': 'na',\n",
        "            'SanityCheck_Status': 'na'\n",
        "        }\n",
        "        counts = [0] * len(status_dictionary)\n",
        "        failed_api_hit_count = 0\n",
        "        while True:\n",
        "\n",
        "            try:\n",
        "                job_status_response = requests.request(\"GET\", job_status_url, params={},\n",
        "                                                       headers=headers)\n",
        "\n",
        "                job_status_payload = json.loads(job_status_response.text)\n",
        "\n",
        "                failing_key = 'ModelExploration_Status'\n",
        "                for i, key in enumerate(status_dictionary.keys()):\n",
        "                    if status_dictionary[key] == 'na':\n",
        "                        if job_status_payload[key] == 'inprogress' and status_dictionary[key] == 'na':\n",
        "                            status_dictionary[key] = job_status_payload[key]\n",
        "                            print(str(key), \":\", status_dictionary[key])\n",
        "\n",
        "                        elif job_status_payload[key] == 'completed' or job_status_payload[key] == 'passed':\n",
        "                            status_dictionary[key] = job_status_payload[key]\n",
        "                            counts[i] += 1\n",
        "                            print(str(key), \":\", status_dictionary[key])\n",
        "\n",
        "                        if job_status_payload[key] == 'failed':\n",
        "                            failing_key = key\n",
        "                            status_dictionary[key] = job_status_payload[key]\n",
        "                            print(str(key), \":\", status_dictionary[key])\n",
        "\n",
        "                    elif job_status_payload[key] == 'completed' or job_status_payload[key] == 'passed':\n",
        "                        status_dictionary[key] = job_status_payload[key]\n",
        "                        if counts[i] < 1:\n",
        "                            print(str(key), \":\", status_dictionary[key])\n",
        "                        counts[i] += 1\n",
        "\n",
        "                    else:\n",
        "                        if job_status_payload[key] == 'failed':\n",
        "                            failing_key = key\n",
        "                            status_dictionary[key] = job_status_payload[key]\n",
        "                            print(str(key), \":\", status_dictionary[key])\n",
        "\n",
        "                if job_status_payload['SanityCheck_Status'] == 'passed':\n",
        "                    break\n",
        "                if job_status_payload[failing_key] == 'failed':\n",
        "                    break\n",
        "\n",
        "            except Exception as e:\n",
        "                failed_api_hit_count += 1\n",
        "                print(\"Error {}. trying {} ...\".format(str(e), failed_api_hit_count))\n",
        "                if failed_api_hit_count >= 3:\n",
        "                    break\n",
        "\n",
        "            time.sleep(120)\n",
        "        return status_dictionary\n",
        "\n",
        "    status_dictionary = monitor_api_progress(new_job_id=job_id)"
      ]
    },
    {
      "cell_type": "markdown",
      "id": "f9782501",
      "metadata": {
        "id": "f9782501"
      },
      "source": [
        "<img src=\"https://aisdocs.blob.core.windows.net/reference/Workflow Images/aw5.png\"/>"
      ]
    },
    {
      "cell_type": "markdown",
      "id": "800b2856",
      "metadata": {
        "id": "800b2856"
      },
      "source": [
        "### 3.6 Download Reports and artifacts"
      ]
    },
    {
      "cell_type": "code",
      "execution_count": null,
      "id": "72ca47d3",
      "metadata": {
        "id": "72ca47d3"
      },
      "outputs": [],
      "source": [
        "report_path = \"reports/\"\n",
        "status =\"success\""
      ]
    },
    {
      "cell_type": "code",
      "execution_count": null,
      "id": "9chVkcgvTzQY",
      "metadata": {
        "id": "9chVkcgvTzQY"
      },
      "outputs": [],
      "source": [
        "def download_artifact(job_id, report_path, report_type='Vulnerability', file_format=0):\n",
        "    \"\"\"\n",
        "    job_id: job_id  received after successful api call\n",
        "    report_type: report to be downloaded\n",
        "    file_format: change file_format to : 0- all report in zip\n",
        "                        1- report in .txt\n",
        "                        2- report in .pdf\n",
        "                        3- report in .json\n",
        "                        4- report in .xml\n",
        "    \"\"\"\n",
        "    print(\"received report_type : {} and file format is: {}\".format(report_type, file_format))\n",
        "    report_url = url + \"/\" + \"get_report?job_id=\" + str(\n",
        "        job_id) + \"&report_type=\" + report_type + \"&file_format=\" + str(file_format)\n",
        "\n",
        "    headers1 = headers\n",
        "    headers1[\"content-type\"] = \"application/zip\"\n",
        "\n",
        "    response = requests.request(\"GET\", report_url, params={}, headers=headers1)\n",
        "\n",
        "    file_path = None\n",
        "    if file_format == 0 or file_format == \"Attack_samples\":\n",
        "        file_path=os.path.join(report_path, report_type + \".zip\")\n",
        "        with open(file_path, 'wb') as f:\n",
        "            f.write(response.content)\n",
        "\n",
        "    elif file_format == 1:\n",
        "        file_path=os.path.join(report_path, report_type + \".txt\")\n",
        "        with open(file_path, 'wb') as f:\n",
        "            f.write(response.content)\n",
        "\n",
        "    elif file_format == 2:\n",
        "        file_path=os.path.join(report_path, report_type + \".pdf\")\n",
        "        with open(file_path, 'wb') as f:\n",
        "            f.write(response.content)\n",
        "\n",
        "    elif file_format == 3:\n",
        "        file_path=os.path.join(report_path, report_type + \".json\")\n",
        "        with open(file_path, 'wb') as f:\n",
        "            f.write(response.content)\n",
        "\n",
        "    elif file_format == 4:\n",
        "        file_path=os.path.join(report_path, report_type + \".xml\")\n",
        "        with open(file_path, 'wb') as f:\n",
        "            f.write(response.content)\n",
        "\n",
        "    return file_path"
      ]
    },
    {
      "cell_type": "code",
      "execution_count": null,
      "id": "6886b6fc",
      "metadata": {
        "id": "6886b6fc"
      },
      "outputs": [],
      "source": [
        "\"\"\"\n",
        "Description: Download the Defense Reports\n",
        "\"\"\"\n",
        "\n",
        "if pypi:\n",
        "    if status == \"success\":\n",
        "        output_conf = ais.OutputConf(report_type=ais.get_type(\"report\", \"vulnerability\"),\n",
        "                                     file_format=ais.get_type(\"file_format\", \"pdf\"),\n",
        "                                     save_folder_path=report_path)\n",
        "\n",
        "        vul_report = aishield_client.save_job_report(job_id=job_id, output_config=output_conf)\n",
        "\n",
        "else:\n",
        "\n",
        "    vul_report = download_artifact(job_id=job_id, report_path= report_path, report_type='Vulnerability', file_format=2)"
      ]
    },
    {
      "cell_type": "code",
      "execution_count": null,
      "id": "3c050f9d",
      "metadata": {
        "id": "3c050f9d"
      },
      "outputs": [],
      "source": [
        "\n",
        "def get_file_id(report_path):\n",
        "\n",
        "    file_id = None\n",
        "    !pip install --upgrade google-api-python-client google-auth-httplib2 google-auth-oauthlib\n",
        "\n",
        "    # from google.colab import drive\n",
        "    # drive.mount('/content/drive')\n",
        "    import os\n",
        "    from googleapiclient.discovery import build\n",
        "    from googleapiclient.http import MediaFileUpload\n",
        "\n",
        "    # Authenticate and authorize access to the Google Drive API\n",
        "    from google.colab import auth\n",
        "    auth.authenticate_user()\n",
        "\n",
        "    # Build the Drive API service\n",
        "    drive_service = build('drive', 'v3')\n",
        "\n",
        "    # Path to the PDF file in your local drive\n",
        "#         local_pdf_path = '/content/drive/MyDrive/Vulnerability.pdf'\n",
        "\n",
        "    # Upload the PDF file to Google Drive\n",
        "    pdf_file_name = os.path.basename(report_path)\n",
        "    file_metadata = {'name': pdf_file_name}\n",
        "    media = MediaFileUpload(report_path, mimetype='application/pdf')\n",
        "    file = drive_service.files().create(body=file_metadata, media_body=media, fields='id').execute()\n",
        "\n",
        "    # Set sharing permissions to \"Anyone with the link\"\n",
        "    file_id = file.get('id')\n",
        "    drive_service.permissions().create(\n",
        "        fileId=file_id,\n",
        "        body={'role': 'reader', 'type': 'anyone'}\n",
        "    ).execute()\n",
        "\n",
        "    return file_id"
      ]
    },
    {
      "cell_type": "code",
      "execution_count": null,
      "id": "e9e5b9e0",
      "metadata": {
        "id": "e9e5b9e0"
      },
      "outputs": [],
      "source": [
        "\"\"\"\n",
        "Description: Displaying the current Vulnerability Assement report\n",
        "\"\"\"\n",
        "\n",
        "if (\"colab\" in runtime_environment.lower()):\n",
        "    file_id = get_file_id(report_path = vul_report)\n",
        "    display_pdf(output_filename = \"vul_\"+job_id[-10:],runtime_environment=runtime_environment,file_id=file_id)\n",
        "else:\n",
        "    display_pdf(output_filename = \"vul_\"+job_id[-10:],runtime_environment=runtime_environment, pdf_path =os.path.join(report_path, os.path.basename(vul_report)))"
      ]
    },
    {
      "cell_type": "markdown",
      "id": "8e76165d",
      "metadata": {
        "id": "8e76165d"
      },
      "source": [
        "<img src=\"https://aisdocs.blob.core.windows.net/reference/Workflow Images/aw6.png\"/>"
      ]
    },
    {
      "cell_type": "code",
      "execution_count": null,
      "id": "41c70b88",
      "metadata": {
        "id": "41c70b88"
      },
      "outputs": [],
      "source": []
    }
  ],
  "metadata": {
    "accelerator": "GPU",
    "colab": {
      "gpuType": "T4",
      "provenance": []
    },
    "kernelspec": {
      "display_name": "tf_torch",
      "language": "python",
      "name": "tf_torch"
    },
    "language_info": {
      "codemirror_mode": {
        "name": "ipython",
        "version": 3
      },
      "file_extension": ".py",
      "mimetype": "text/x-python",
      "name": "python",
      "nbconvert_exporter": "python",
      "pygments_lexer": "ipython3",
      "version": "3.9.19"
    }
  },
  "nbformat": 4,
  "nbformat_minor": 5
}