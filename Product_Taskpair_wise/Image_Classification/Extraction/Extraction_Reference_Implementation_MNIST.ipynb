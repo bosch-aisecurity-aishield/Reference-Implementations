{
 "cells": [
  {
   "cell_type": "markdown",
   "id": "9ebttx7BMP--",
   "metadata": {
    "id": "9ebttx7BMP--"
   },
   "source": [
    "# Classification Model\n",
    "* <b>File Name</b>                          : Reference_implementation\n",
    "* <b>Date of creation(dd-mm-yyyy)</b>       : 31-01-2023\n",
    "* <b>Author Name/Dept</b>                   : AIShield\n",
    "* <b>Organization</b>                       : BGSW\n",
    "* <b>Description</b>                        : Source Code of reference implementation\n",
    "* <b>Copyright</b>                          : Copyright 2022 Bosch Global Software Technologies Private Limited. All Rights Reserved.\n",
    "\n",
    "### Metadata\n",
    "* Dataset: mnist\n",
    "* Size of training set: 54,000\n",
    "* Size of testing set : 10,000\n",
    "* Size of training set: 6,000\n",
    "* Number of class : 10\n",
    "* Original Model: CNN\n",
    "\n",
    "### Outcomes\n",
    "* Accuracy of model: 0.99"
   ]
  },
  {
   "cell_type": "markdown",
   "id": "ucfkgSzlKePs",
   "metadata": {
    "id": "ucfkgSzlKePs"
   },
   "source": [
    "<a target=\"_blank\" href=\"https://colab.research.google.com/github/bosch-aisecurity-aishield/Reference-Implementations/blob/main/Product_Taskpair_wise/Image_Classification/Extraction/Extraction_Reference_Implementation_MNIST.ipynb\">\n",
    "  <img src=\"https://colab.research.google.com/assets/colab-badge.svg\" alt=\"Open In Colab\"/>\n",
    "</a>\n"
   ]
  },
  {
   "cell_type": "markdown",
   "id": "ocWZc5C4MP_E",
   "metadata": {
    "id": "ocWZc5C4MP_E"
   },
   "source": [
    "# 1.0 Install and Import Libraries"
   ]
  },
  {
   "cell_type": "code",
   "execution_count": null,
   "id": "qsB5rhfkm4Gj",
   "metadata": {
    "id": "qsB5rhfkm4Gj"
   },
   "outputs": [],
   "source": [
    "\"\"\"\n",
    "Description: commands to install all the packages, remove comments to install all the libraries\n",
    "\"\"\"\n",
    "!pip install numpy==1.22\n",
    "!pip install pandas==1.1.5\n",
    "!pip install matplotlib==3.5.1\n",
    "!pip install tensorflow==2.9.1\n",
    "!pip install scikit-learn==1.0.2\n",
    "!pip install requests==2.28.0\n",
    "!pip install zipp==3.7.0\n",
    "!pip install opencv-python"
   ]
  },
  {
   "cell_type": "code",
   "execution_count": null,
   "id": "g7A0PMK3MP_G",
   "metadata": {
    "id": "g7A0PMK3MP_G"
   },
   "outputs": [],
   "source": [
    "\"\"\"\n",
    "Description: Import libraries\n",
    "\"\"\"\n",
    "import tensorflow as tf\n",
    "from tensorflow import keras\n",
    "import numpy as np\n",
    "import matplotlib.pyplot as plt\n",
    "from tensorflow.keras import datasets, layers, optimizers , Sequential\n",
    "from sklearn.model_selection import train_test_split\n",
    "import zipfile \n",
    "import pandas as pd\n",
    "import cv2\n",
    "import os\n",
    "import random\n",
    "import requests\n",
    "import json\n",
    "import time\n",
    "import shutil"
   ]
  },
  {
   "cell_type": "markdown",
   "id": "GdXXaJgYMP_H",
   "metadata": {
    "id": "GdXXaJgYMP_H"
   },
   "source": [
    "# 2.0 Data Loading and Preprocessing"
   ]
  },
  {
   "cell_type": "code",
   "execution_count": null,
   "id": "KS690hN3MP_H",
   "metadata": {
    "id": "KS690hN3MP_H"
   },
   "outputs": [],
   "source": [
    "'''\n",
    "Description : Loading mnist dataset\n",
    "'''\n",
    "(X_train,y_train),(X_test,y_test)=datasets.mnist.load_data()"
   ]
  },
  {
   "cell_type": "code",
   "execution_count": null,
   "id": "iLwR0KbFMP_I",
   "metadata": {
    "id": "iLwR0KbFMP_I"
   },
   "outputs": [],
   "source": [
    "'''\n",
    "Description : Splitting data for validation\n",
    "'''\n",
    "X_train, X_val, y_train, y_val = train_test_split(X_train,y_train,stratify = y_train,test_size = 0.1,random_state = 42)"
   ]
  },
  {
   "cell_type": "code",
   "execution_count": null,
   "id": "f_Aj6McSMP_I",
   "metadata": {
    "colab": {
     "base_uri": "https://localhost:8080/"
    },
    "id": "f_Aj6McSMP_I",
    "outputId": "f5f4cf53-a367-4358-8d3e-25c8f9689814"
   },
   "outputs": [
    {
     "name": "stdout",
     "output_type": "stream",
     "text": [
      "shape of x_train:  (54000, 28, 28, 1)\n",
      "shape of y_train: (54000, 10)\n",
      "shape of x_test: (10000, 28, 28, 1)\n",
      "shape of y_test: (10000, 10)\n",
      "shape of x_val: (6000, 28, 28, 1)\n",
      "shape of y_val: (6000,)\n"
     ]
    }
   ],
   "source": [
    "'''\n",
    "Description : Check size of dataset\n",
    "'''\n",
    "print(\"shape of x_train: \",X_train.shape)\n",
    "print(\"shape of y_train: {}\".format(y_train.shape))\n",
    "print(f'shape of x_test: {X_test.shape}')\n",
    "print(f'shape of y_test: {y_test.shape}')\n",
    "print(f'shape of x_val: {X_val.shape}')\n",
    "print(f'shape of y_val: {y_val.shape}')"
   ]
  },
  {
   "cell_type": "code",
   "execution_count": null,
   "id": "8OaK1-pjlglG",
   "metadata": {
    "id": "8OaK1-pjlglG"
   },
   "outputs": [],
   "source": [
    "def plot(x, y=None, row: int = 2):\n",
    "    \"\"\"\n",
    "    to visualize random sample\n",
    "    \"\"\"\n",
    "    rows = row\n",
    "    random_indices = random.sample(range(x.shape[0]), rows * rows)\n",
    "    sample_images = x[random_indices, :]\n",
    "    if y is not None:\n",
    "        sample_labels = y[random_indices]\n",
    "\n",
    "    fig, axs = plt.subplots(nrows=rows, ncols=rows, figsize=(12, 9), sharex=True, sharey=True)\n",
    "    for i in range(rows * rows):\n",
    "        subplot_row = i // rows\n",
    "        subplot_col = i % rows\n",
    "        axs[subplot_row, subplot_col].imshow(sample_images[i, :])\n",
    "        if y is not None:\n",
    "            axs[subplot_row, subplot_col].set_title(\"Class. %d\" % sample_labels[i])\n",
    "    plt.tight_layout()\n",
    "    plt.show()"
   ]
  },
  {
   "cell_type": "code",
   "execution_count": null,
   "id": "cAJWWE7PlhIO",
   "metadata": {
    "colab": {
     "base_uri": "https://localhost:8080/",
     "height": 657
    },
    "id": "cAJWWE7PlhIO",
    "outputId": "bfb5eed0-1d29-44ab-99a4-dbb261fff763"
   },
   "outputs": [
    {
     "data": {
      "image/png": "[encoded data removed]",
      "text/plain": [
       "<Figure size 864x648 with 25 Axes>"
      ]
     },
     "metadata": {
      "needs_background": "light"
     },
     "output_type": "display_data"
    }
   ],
   "source": [
    "\"\"\"\n",
    "Description: visualize data\n",
    "\"\"\"\n",
    "plot(X_train, y_train, row=5)"
   ]
  },
  {
   "cell_type": "code",
   "execution_count": null,
   "id": "y486y3BgMP_L",
   "metadata": {
    "id": "y486y3BgMP_L"
   },
   "outputs": [],
   "source": [
    "'''\n",
    "Description : Set num_classes and input shape \n",
    "'''\n",
    "img_row,img_col,channel=28,28,1\n",
    "num_classes=10\n",
    "input_shape=(img_row,img_col,channel)"
   ]
  },
  {
   "cell_type": "code",
   "execution_count": null,
   "id": "c4tH4S03MP_L",
   "metadata": {
    "id": "c4tH4S03MP_L"
   },
   "outputs": [],
   "source": [
    "\"\"\"\n",
    "Description: Normalizing and reshaping the data\n",
    "\"\"\"\n",
    "X_train = X_train.reshape(-1,*input_shape)/255.0\n",
    "X_val =  X_val.reshape(-1,*input_shape)/255.0\n",
    "X_test =  X_test.reshape(-1,*input_shape)/255.0"
   ]
  },
  {
   "cell_type": "code",
   "execution_count": null,
   "id": "iVvm6l5FMP_M",
   "metadata": {
    "id": "iVvm6l5FMP_M"
   },
   "outputs": [],
   "source": [
    "\"\"\"\n",
    "Description : Convert label to one hot encoder\n",
    "\"\"\"\n",
    "y_train=keras.utils.to_categorical(y_train,num_classes)\n",
    "y_test=keras.utils.to_categorical(y_test,num_classes)"
   ]
  },
  {
   "cell_type": "markdown",
   "id": "LJw6f80fMP_M",
   "metadata": {
    "id": "LJw6f80fMP_M"
   },
   "source": [
    "# 3.0 Model Development and Training"
   ]
  },
  {
   "cell_type": "code",
   "execution_count": null,
   "id": "N2BLgfL7MP_M",
   "metadata": {
    "id": "N2BLgfL7MP_M"
   },
   "outputs": [],
   "source": [
    "def make_directory(directory):\n",
    "    \"\"\"\n",
    "    create directory\n",
    "\n",
    "    Parameters\n",
    "    ----------\n",
    "    directorys : list containing the directorys path to create \n",
    "    Returns\n",
    "    -------\n",
    "    None.\n",
    "\n",
    "    \"\"\"\n",
    "    for d in directory:\n",
    "        if os.path.isdir(d):\n",
    "            print(\"directory {} already exist\".format(d))\n",
    "        if os.path.isdir(d)==False:\n",
    "            os.mkdir(path=d)\n",
    "            print(\"directory {} created successfully\".format(d))"
   ]
  },
  {
   "cell_type": "code",
   "execution_count": null,
   "id": "xzG9QuzBMP_N",
   "metadata": {
    "id": "xzG9QuzBMP_N"
   },
   "outputs": [],
   "source": [
    "def delete_directory(directorys):\n",
    "    \"\"\"\n",
    "    delete directory \n",
    "\n",
    "    Parameters\n",
    "    ----------\n",
    "    directorys : list containing the directorys to deleate along with all the files\n",
    "\n",
    "    Returns\n",
    "    -------\n",
    "    None.\n",
    "\n",
    "    \"\"\"\n",
    "    if len(directorys)>=1:\n",
    "        for d in directorys:\n",
    "            if os.path.isdir(d):\n",
    "                try:\n",
    "                    if os.path.isfile(d):\n",
    "                        os.remove(path=d)\n",
    "                    else:\n",
    "                        shutil.rmtree(path=d)\n",
    "                        print(\"Removed: {}\".format(d))\n",
    "                except:\n",
    "                    print(\"Failed to removed: {}\".format(d))\n",
    "            else:\n",
    "                print(\"Failed to removed: {}\".format(d))\n",
    "                "
   ]
  },
  {
   "cell_type": "code",
   "execution_count": null,
   "id": "_Rwcwm5-MP_N",
   "metadata": {
    "id": "_Rwcwm5-MP_N"
   },
   "outputs": [],
   "source": [
    "def make_archive(base_name,root_dir,zip_format='zip'):\n",
    "    \"\"\"\n",
    "    created zip for given folder\n",
    "\n",
    "    Parameters\n",
    "    ----------\n",
    "    base_name : name of zip file\n",
    "    root_dir : directory to archive/zip\n",
    "    zip_format : zip or tar \n",
    "        DESCRIPTION. The default is 'zip'.\n",
    "\n",
    "    Returns\n",
    "    -------\n",
    "    None.\n",
    "\n",
    "    \"\"\"\n",
    "    shutil.make_archive(base_name=base_name, format=zip_format, root_dir=root_dir)\n",
    "    "
   ]
  },
  {
   "cell_type": "code",
   "execution_count": null,
   "id": "IuyqzmzrMP_N",
   "metadata": {
    "colab": {
     "base_uri": "https://localhost:8080/"
    },
    "id": "IuyqzmzrMP_N",
    "outputId": "757b26c4-d4db-4286-d51c-0e662f52a7cc"
   },
   "outputs": [
    {
     "name": "stdout",
     "output_type": "stream",
     "text": [
      "Removed: /content/data\n",
      "Removed: /content/model\n",
      "Removed: /content/label\n",
      "Removed: /content/zip\n",
      "Removed: /content/pyc_model\n",
      "Removed: /content/reports\n",
      "directory /content/data created successfully\n",
      "directory /content/model created successfully\n",
      "directory /content/label created successfully\n",
      "directory /content/zip created successfully\n",
      "directory /content/pyc_model created successfully\n",
      "directory /content/reports created successfully\n",
      "directory /content/reports/sample_data created successfully\n",
      "directory /content/reports/defense_artifact created successfully\n"
     ]
    }
   ],
   "source": [
    "\"Description : Create data, model and label folder\"\n",
    "data_path=os.path.join(os.getcwd(),\"data\")\n",
    "model_path=os.path.join(os.getcwd(),\"model\")\n",
    "label_path=os.path.join(os.getcwd(),\"label\")\n",
    "zip_path=os.path.join(os.getcwd(),\"zip\")\n",
    "pyc_model_path=os.path.join(os.getcwd(),\"pyc_model\")\n",
    "report_path = os.path.join(os.getcwd(), \"reports\")\n",
    "sample_data = os.path.join(report_path, \"sample_data\")\n",
    "defense_artifact = os.path.join(report_path, \"defense_artifact\")\n",
    "\n",
    "\n",
    "#deleting folder\n",
    "delete_directory(directorys=[data_path,model_path,label_path,zip_path,pyc_model_path,report_path])\n",
    "\n",
    "#creating folder\n",
    "make_directory([data_path,model_path,label_path,zip_path,pyc_model_path,report_path, sample_data,\n",
    "                defense_artifact])"
   ]
  },
  {
   "cell_type": "code",
   "execution_count": null,
   "id": "DBx9HwxrMP_N",
   "metadata": {
    "id": "DBx9HwxrMP_N"
   },
   "outputs": [],
   "source": [
    "\"\"\"\n",
    "Description: Create model architecture\n",
    "\"\"\"\n",
    "model = Sequential([\n",
    "    layers.Conv2D(32, (5,5), padding='same', activation='relu', input_shape=input_shape),\n",
    "    layers.Conv2D(32, (5,5), padding='same', activation='relu'),\n",
    "    layers.MaxPool2D(),\n",
    "    layers.Dropout(0.25),\n",
    "    layers.Conv2D(64, (3,3), padding='same', activation='relu'),\n",
    "    layers.Conv2D(64, (3,3), padding='same', activation='relu'),\n",
    "    layers.MaxPool2D(strides=(2,2)),\n",
    "    layers.Dropout(0.25),\n",
    "    layers.Flatten(),\n",
    "    layers.Dense(128, activation='relu'),\n",
    "    layers.Dropout(0.5),\n",
    "    layers.Dense(num_classes, activation='softmax')  \n",
    "])\n",
    "#Compile model\n",
    "model.compile(optimizer=optimizers.Adam(learning_rate=1e-3), loss = 'categorical_crossentropy', metrics=['accuracy'])"
   ]
  },
  {
   "cell_type": "code",
   "execution_count": null,
   "id": "2N2kZuUcMP_O",
   "metadata": {
    "colab": {
     "base_uri": "https://localhost:8080/"
    },
    "id": "2N2kZuUcMP_O",
    "outputId": "4a2dd02c-1854-4d69-b76d-dc3194c0f804"
   },
   "outputs": [
    {
     "name": "stdout",
     "output_type": "stream",
     "text": [
      "Model: \"sequential\"\n",
      "_________________________________________________________________\n",
      " Layer (type)                Output Shape              Param #   \n",
      "=================================================================\n",
      " conv2d (Conv2D)             (None, 28, 28, 32)        832       \n",
      "                                                                 \n",
      " conv2d_1 (Conv2D)           (None, 28, 28, 32)        25632     \n",
      "                                                                 \n",
      " max_pooling2d (MaxPooling2D  (None, 14, 14, 32)       0         \n",
      " )                                                               \n",
      "                                                                 \n",
      " dropout (Dropout)           (None, 14, 14, 32)        0         \n",
      "                                                                 \n",
      " conv2d_2 (Conv2D)           (None, 14, 14, 64)        18496     \n",
      "                                                                 \n",
      " conv2d_3 (Conv2D)           (None, 14, 14, 64)        36928     \n",
      "                                                                 \n",
      " max_pooling2d_1 (MaxPooling  (None, 7, 7, 64)         0         \n",
      " 2D)                                                             \n",
      "                                                                 \n",
      " dropout_1 (Dropout)         (None, 7, 7, 64)          0         \n",
      "                                                                 \n",
      " flatten (Flatten)           (None, 3136)              0         \n",
      "                                                                 \n",
      " dense (Dense)               (None, 128)               401536    \n",
      "                                                                 \n",
      " dropout_2 (Dropout)         (None, 128)               0         \n",
      "                                                                 \n",
      " dense_1 (Dense)             (None, 10)                1290      \n",
      "                                                                 \n",
      "=================================================================\n",
      "Total params: 484,714\n",
      "Trainable params: 484,714\n",
      "Non-trainable params: 0\n",
      "_________________________________________________________________\n"
     ]
    }
   ],
   "source": [
    "\"\"\"\n",
    "Description: Model summary\n",
    "\"\"\"\n",
    "model.summary()"
   ]
  },
  {
   "cell_type": "code",
   "execution_count": null,
   "id": "J0CLITKRMP_O",
   "metadata": {
    "colab": {
     "base_uri": "https://localhost:8080/",
     "height": 1000
    },
    "id": "J0CLITKRMP_O",
    "outputId": "93017644-3fa4-4f53-9be3-de5a17983df8"
   },
   "outputs": [
    {
     "data": {
      "image/png": "[encoded data removed]",
      "text/plain": [
       "<IPython.core.display.Image object>"
      ]
     },
     "execution_count": 16,
     "metadata": {},
     "output_type": "execute_result"
    }
   ],
   "source": [
    "\"\"\"\n",
    "Description: Model architecture plot\n",
    "\"\"\"\n",
    "tf.keras.utils.plot_model(model,show_shapes=True,show_layer_names=True)"
   ]
  },
  {
   "cell_type": "code",
   "execution_count": null,
   "id": "73ozVAaNMP_O",
   "metadata": {
    "id": "73ozVAaNMP_O"
   },
   "outputs": [],
   "source": [
    "\"\"\"\n",
    "Description : Callbacks\n",
    "\"\"\"\n",
    "# Checkpoint\n",
    "checkpoint = tf.keras.callbacks.ModelCheckpoint(filepath=os.path.join(model_path,'mnist_model.h5'),monitor='val_loss',verbose=1,save_best_only=True,mode='auto')\n",
    "# Early stopper\n",
    "early_stop = tf.keras.callbacks.EarlyStopping(monitor='val_loss',min_delta=0,patience=5,mode='min')\n",
    "\n",
    "callbacks = [early_stop, checkpoint]"
   ]
  },
  {
   "cell_type": "code",
   "execution_count": null,
   "id": "Vint2EALMP_P",
   "metadata": {
    "id": "Vint2EALMP_P",
    "outputId": "a5a5f4aa-7c11-4a3b-dd0e-981ba4a5aa7c"
   },
   "outputs": [
    {
     "name": "stdout",
     "output_type": "stream",
     "text": [
      "Epoch 1/3\n",
      "844/844 [==============================] - ETA: 0s - loss: 0.2368 - accuracy: 0.9273\n",
      "Epoch 1: val_loss improved from inf to 0.04024, saving model to C:\\Users\\tnq1kor\\Downloads\\model\\mnist_model.h5\n",
      "844/844 [==============================] - 43s 31ms/step - loss: 0.2368 - accuracy: 0.9273 - val_loss: 0.0402 - val_accuracy: 0.9865\n",
      "Epoch 2/3\n",
      "844/844 [==============================] - ETA: 0s - loss: 0.0838 - accuracy: 0.9760\n",
      "Epoch 2: val_loss improved from 0.04024 to 0.02393, saving model to C:\\Users\\tnq1kor\\Downloads\\model\\mnist_model.h5\n",
      "844/844 [==============================] - 25s 30ms/step - loss: 0.0838 - accuracy: 0.9760 - val_loss: 0.0239 - val_accuracy: 0.9918\n",
      "Epoch 3/3\n",
      "843/844 [============================>.] - ETA: 0s - loss: 0.0609 - accuracy: 0.9824\n",
      "Epoch 3: val_loss improved from 0.02393 to 0.02166, saving model to C:\\Users\\tnq1kor\\Downloads\\model\\mnist_model.h5\n",
      "844/844 [==============================] - 27s 32ms/step - loss: 0.0609 - accuracy: 0.9824 - val_loss: 0.0217 - val_accuracy: 0.9924\n"
     ]
    }
   ],
   "source": [
    "\"\"\"\n",
    "Description: Training model\n",
    "\"\"\"\n",
    "history = model.fit(X_train, y_train, validation_data = (X_test, y_test),epochs = 3, batch_size=64, verbose = 1 , callbacks = callbacks)"
   ]
  },
  {
   "cell_type": "code",
   "execution_count": null,
   "id": "Osp6ntMEMP_P",
   "metadata": {
    "id": "Osp6ntMEMP_P",
    "outputId": "2fe80306-4291-4f6b-c4a4-59c08440254a"
   },
   "outputs": [
    {
     "name": "stdout",
     "output_type": "stream",
     "text": [
      "313/313 [==============================] - 5s 16ms/step - loss: 0.0217 - accuracy: 0.9924\n",
      "* Loss: 0.021663090214133263 \n",
      "* Accuracy: 0.9923999905586243\n"
     ]
    }
   ],
   "source": [
    "\"\"\"\n",
    "Description: Evaluate trained model\n",
    "\"\"\"\n",
    "loss,accuracy=model.evaluate(X_test, y_test)\n",
    "print(\"* Loss: {} \\n* Accuracy: {}\".format(loss,accuracy))"
   ]
  },
  {
   "cell_type": "code",
   "execution_count": null,
   "id": "pOmmk3HbMP_P",
   "metadata": {
    "id": "pOmmk3HbMP_P",
    "outputId": "259274a2-033f-4719-ade1-51f1f422f4f0"
   },
   "outputs": [
    {
     "data": {
      "image/png": "[encoded data removed]",
      "text/plain": [
       "<Figure size 1152x648 with 2 Axes>"
      ]
     },
     "metadata": {
      "needs_background": "light"
     },
     "output_type": "display_data"
    }
   ],
   "source": [
    "\"\"\"\n",
    "Description: Visualize model learning \n",
    "\"\"\"\n",
    "fig, ax = plt.subplots(1, 2, figsize = (16, 9))\n",
    "\n",
    "ax[0].plot(history.history['loss'])\n",
    "ax[0].plot(history.history['val_loss'])\n",
    "ax[0].set_title('Model Loss')\n",
    "ax[0].legend(['Train', 'Val'], loc = 'best')\n",
    "ax[0].set_ylabel('loss')\n",
    "ax[0].set_xlabel('epoch')\n",
    "\n",
    "ax[1].plot(history.history['accuracy'])\n",
    "ax[1].plot(history.history['val_accuracy'])\n",
    "ax[1].set_title('Model Accuracy')\n",
    "ax[1].set_ylabel('Accuracy')\n",
    "ax[1].set_xlabel('Epoch')\n",
    "ax[1].legend(['Train', 'Val'], loc = 'best')\n",
    "\n",
    "plt.show()"
   ]
  },
  {
   "cell_type": "markdown",
   "id": "p2brPINZMP_Q",
   "metadata": {
    "id": "p2brPINZMP_Q"
   },
   "source": [
    "# 4.0 Prepare Data , Model and Label"
   ]
  },
  {
   "cell_type": "code",
   "execution_count": null,
   "id": "x2i4WXxQMP_Q",
   "metadata": {
    "id": "x2i4WXxQMP_Q"
   },
   "outputs": [],
   "source": [
    "\"\"\"\n",
    "Description: Save data and label\n",
    "\"\"\"\n",
    "label=pd.DataFrame()\n",
    "img_name = []\n",
    "img_label = [] \n",
    "  \n",
    "for i in range(X_val.shape[0]):\n",
    "    cv2.imwrite(os.path.join(data_path,str(i)+\".jpg\") ,X_val[i]*255.0) # don't use plt.imread otheriwse while loading the saved images , and passing to model there is accuarcy drop \n",
    "    img_name.append(str(i)+\".jpg\")\n",
    "    img_label.append(y_val[i])\n",
    "label['image'] = img_name\n",
    "label[\"label\"] = np.array(img_label)\n",
    "\n",
    "#write orig_label dataframe\n",
    "label.to_csv(os.path.join(label_path,\"label.csv\"),index=False)"
   ]
  },
  {
   "cell_type": "code",
   "execution_count": null,
   "id": "1IlG008GMP_Q",
   "metadata": {
    "id": "1IlG008GMP_Q"
   },
   "outputs": [],
   "source": [
    "\"\"\"\n",
    "Description: Zip data\n",
    "\"\"\"\n",
    "make_archive(base_name=os.path.join(zip_path,\"data\"),root_dir=data_path,zip_format='zip')"
   ]
  },
  {
   "cell_type": "code",
   "execution_count": null,
   "id": "RdU8Q80OMP_Q",
   "metadata": {
    "id": "RdU8Q80OMP_Q"
   },
   "outputs": [],
   "source": [
    "\"\"\"\n",
    "Description: Zip label\n",
    "\"\"\"\n",
    "make_archive(base_name=os.path.join(zip_path,\"label\"),root_dir=label_path,zip_format='zip')"
   ]
  },
  {
   "cell_type": "markdown",
   "id": "-3FWSSDkMP_Q",
   "metadata": {
    "id": "-3FWSSDkMP_Q"
   },
   "source": [
    "# 4.1 Convert python script (.py) to (.pyc)"
   ]
  },
  {
   "cell_type": "code",
   "execution_count": null,
   "id": "-lPZMDrNMP_Q",
   "metadata": {
    "id": "-lPZMDrNMP_Q"
   },
   "outputs": [],
   "source": [
    "\"\"\"\n",
    "Description: save weight of model\n",
    "\"\"\"\n",
    "model.save_weights(os.path.join(pyc_model_path,\"model_weight.h5\"))"
   ]
  },
  {
   "cell_type": "code",
   "execution_count": null,
   "id": "Zzq5tUzoMP_Q",
   "metadata": {
    "id": "Zzq5tUzoMP_Q"
   },
   "outputs": [],
   "source": [
    "python_code='''\n",
    "#import library\n",
    "import numpy as np\n",
    "import tensorflow as tf\n",
    "\n",
    "#define class\n",
    "class BaseModel():\n",
    "    \"\"\"\n",
    "    class for base model\n",
    "    \"\"\"\n",
    "    def __init__(self,input_shape=(28,28,1),num_classes=10,model_weight_path=\"model_weight.h5\"):\n",
    "        \"\"\"\n",
    "        constructor for class\n",
    "\n",
    "        Parameters\n",
    "        ----------\n",
    "        input_shape : TYPE, optional\n",
    "            DESCRIPTION. The default is (28,28,1).\n",
    "        num_classes : TYPE, optional\n",
    "            DESCRIPTION. The default is 10.\n",
    "        model_weight_path : string, optional\n",
    "            DESCRIPTION. the relative path to model weight\n",
    "\n",
    "        Returns\n",
    "        -------\n",
    "        None.\n",
    "\n",
    "        \"\"\"\n",
    "        self.input_shape=input_shape\n",
    "        self.num_classes=num_classes\n",
    "        self.model_weight_path=model_weight_path\n",
    "        \n",
    "\n",
    "    def cnn_model(self,input_shape,num_classes):\n",
    "        \"\"\"\n",
    "        model architecture\n",
    "\n",
    "        Parameters\n",
    "        ----------\n",
    "        input_shape : string\n",
    "            DESCRIPTION.input_shape for model e.g (28,28,1)\n",
    "        num_classes : string\n",
    "            DESCRIPTION.number of class e.g 10\n",
    "\n",
    "        Returns\n",
    "        -------\n",
    "        model : model\n",
    "            DESCRIPTION.\n",
    "\n",
    "        \"\"\"\n",
    "        #create sequential model\n",
    "\n",
    "        model = tf.keras.Sequential([\n",
    "            tf.keras.layers.Conv2D(32, (5,5), padding='same', activation='relu', input_shape=input_shape),\n",
    "            tf.keras.layers.Conv2D(32, (5,5), padding='same', activation='relu'),\n",
    "            tf.keras.layers.MaxPool2D(),\n",
    "            tf.keras.layers.Dropout(0.25),\n",
    "            tf.keras.layers.Conv2D(64, (3,3), padding='same', activation='relu'),\n",
    "            tf.keras.layers.Conv2D(64, (3,3), padding='same', activation='relu'),\n",
    "            tf.keras.layers.MaxPool2D(strides=(2,2)),\n",
    "            tf.keras.layers.Dropout(0.25),\n",
    "            tf.keras.layers.Flatten(),\n",
    "            tf.keras.layers.Dense(128, activation='relu'),\n",
    "            tf.keras.layers.Dropout(0.5),\n",
    "            tf.keras.layers.Dense(num_classes, activation='softmax')   # used softmax , so set from_logits = False in cross entropy loss\n",
    "        ])\n",
    "\n",
    "        \n",
    "        return model\n",
    "    \n",
    "    def predict(self,X):\n",
    "        \"\"\"\n",
    "        predict for given data\n",
    "\n",
    "        Parameters\n",
    "        ----------\n",
    "        X : numpy array \n",
    "            DESCRIPTION.\n",
    "\n",
    "        Returns\n",
    "        -------\n",
    "        pred : numpy array\n",
    "            DESCRIPTION.\n",
    "\n",
    "        \"\"\"\n",
    "        model=self.cnn_model(input_shape=self.input_shape,num_classes=self.num_classes)\n",
    "        model.load_weights(self.model_weight_path)\n",
    "        \n",
    "        pred=np.argmax(model.predict(X),axis=-1)\n",
    "        return pred '''"
   ]
  },
  {
   "cell_type": "code",
   "execution_count": null,
   "id": "4OcBwpQ7MP_R",
   "metadata": {
    "id": "4OcBwpQ7MP_R"
   },
   "outputs": [],
   "source": [
    "# Writing to file\n",
    "with open(\"base_model.py\", \"w\") as file:\n",
    "    # Writing data to a file\n",
    "    file.writelines(python_code)"
   ]
  },
  {
   "cell_type": "code",
   "execution_count": null,
   "id": "7vRwXhuJMP_R",
   "metadata": {
    "id": "7vRwXhuJMP_R",
    "outputId": "478297c3-02e4-4514-8d92-fbbea9a52544"
   },
   "outputs": [
    {
     "data": {
      "text/plain": [
       "'\\nDescription: function to create .pyc file\\n'"
      ]
     },
     "execution_count": 90,
     "metadata": {},
     "output_type": "execute_result"
    }
   ],
   "source": [
    "\"\"\"\n",
    "Description: function to create .pyc file\n",
    "\"\"\"\n",
    "import py_compile\n",
    "py_compile.compile(file='base_model.py',cfile=os.path.join(pyc_model_path,'base_model.pyc'))"
   ]
  },
  {
   "cell_type": "markdown",
   "id": "uqmy6GETMP_R",
   "metadata": {
    "id": "uqmy6GETMP_R"
   },
   "source": [
    "* .pyc file with name base_model.pyc will get created\n",
    "* delete .py file and still import and other function will work\n",
    "* while AIShield API call , inplace of model.h5 file you can zip .pyc and model weight which will provide security to internal architecture"
   ]
  },
  {
   "cell_type": "code",
   "execution_count": null,
   "id": "R5b9Nd8aMP_R",
   "metadata": {
    "id": "R5b9Nd8aMP_R",
    "scrolled": true
   },
   "outputs": [],
   "source": [
    "\"\"\"\n",
    "Description: check import from .pyc file\n",
    "\"\"\"\n",
    "from pyc_model.base_model import BaseModel\n",
    "base_model=BaseModel(model_weight_path=r\"pyc_model/model_weight.h5\")"
   ]
  },
  {
   "cell_type": "code",
   "execution_count": null,
   "id": "qsHkvHHdMP_R",
   "metadata": {
    "id": "qsHkvHHdMP_R",
    "outputId": "daa2b527-8a15-4e73-d433-ad20f1195490"
   },
   "outputs": [
    {
     "name": "stdout",
     "output_type": "stream",
     "text": [
      "1/1 [==============================] - 0s 211ms/step\n",
      "[1]\n"
     ]
    },
    {
     "data": {
      "text/plain": [
       "<matplotlib.image.AxesImage at 0x1a1c0224130>"
      ]
     },
     "execution_count": 37,
     "metadata": {},
     "output_type": "execute_result"
    },
    {
     "data": {
      "image/png": "[encoded data removed]",
      "text/plain": [
       "<Figure size 432x288 with 1 Axes>"
      ]
     },
     "metadata": {
      "needs_background": "light"
     },
     "output_type": "display_data"
    }
   ],
   "source": [
    "\"\"\"\n",
    "Description : getting prediction from function imported from .pyc file\n",
    "\"\"\"\n",
    "print(base_model.predict(X_val[:1]))\n",
    "plt.imshow(np.squeeze(X_val[0]))"
   ]
  },
  {
   "cell_type": "code",
   "execution_count": null,
   "id": "ppzg4M6IMP_S",
   "metadata": {
    "id": "ppzg4M6IMP_S"
   },
   "outputs": [],
   "source": [
    "\"\"\"\n",
    "Description: Zip model\n",
    "\"\"\"\n",
    "model_encryption=0 #0 if model is uploaded directly as a zip, 1 if model is encryted as .pyc and uploaded as a zip\n",
    "if model_encryption:\n",
    "    make_archive(base_name=os.path.join(zip_path,\"model\"),root_dir=pyc_model_path,zip_format='zip')\n",
    "else:\n",
    "    make_archive(base_name=os.path.join(zip_path,\"model\"),root_dir=model_path,zip_format='zip')"
   ]
  },
  {
   "cell_type": "markdown",
   "id": "jMKQpmjfMP_S",
   "metadata": {
    "id": "jMKQpmjfMP_S"
   },
   "source": [
    "# 5.0 AIShield API Call"
   ]
  },
  {
   "cell_type": "code",
   "execution_count": null,
   "id": "xu961WslMP_S",
   "metadata": {
    "id": "xu961WslMP_S"
   },
   "outputs": [],
   "source": [
    "\"\"\"\n",
    "Description: AIShield API URL and subscription key\n",
    "\"\"\" \n",
    "baseurl = \"XXXXXXXXXXXXXXXXXXXXXXXXXXX\" # fill in API endpoint url from AIShield developer portal under API tab \n",
    "url = baseurl + \"/api/ais/v1.5\"\n",
    "headers={'Cache-Control': 'no-cache',\n",
    "'x-api-key': \"XXXXXXXXXXXXXXXXXXXXXXXXXXXXXXXXXXXXXXXXXX\", # fill in subscription key from AIShield developer portal under My Dashboard tab\n",
    "'Org-Id' : \"XXXXXXXXXXXXXXXXXXXXXXXXXXXXXXXXXXXXXXXXXXXXXXXXX\"  # fill in Org_Id provided in welcome email\n",
    "}"
   ]
  },
  {
   "cell_type": "markdown",
   "id": "aBqckZ5eMP_S",
   "metadata": {
    "id": "aBqckZ5eMP_S"
   },
   "source": [
    "### 5.1 Model Registration"
   ]
  },
  {
   "cell_type": "code",
   "execution_count": null,
   "id": "X3iRzdmGMP_S",
   "metadata": {
    "colab": {
     "base_uri": "https://localhost:8080/"
    },
    "id": "X3iRzdmGMP_S",
    "outputId": "d710c9d0-2bf7-4c18-f82b-0511c9097d8e"
   },
   "outputs": [
    {
     "name": "stdout",
     "output_type": "stream",
     "text": [
      "model_id:  635ef690-8e77-4d6c-8ee3-297cfbf611c2\n"
     ]
    }
   ],
   "source": [
    "\"\"\"\n",
    "Description: call Model registration api to get unique model it and url to upload data, model and label\n",
    "\"\"\"\n",
    "model_registration_url = url + \"/model_registration/upload\"\n",
    "model_registration_payload = {\n",
    "    'task_type':\"IC\",\n",
    "    \"analysis_type\": \"MEA\"\n",
    "}\n",
    "new_request = requests.request(method=\"POST\", url=model_registration_url, headers=headers, json=model_registration_payload)\n",
    "new_request = json.loads(new_request.text)\n",
    "if 'data' in new_request.keys():\n",
    "    model_id = new_request['data']['model_id']\n",
    "    data_upload_url = new_request['data']['urls']['data_upload_url']\n",
    "    label_upload_url = new_request['data']['urls']['label_upload_url']\n",
    "    model_upload_url = new_request['data']['urls']['model_upload_url']\n",
    "    print('model_id: ', model_id)\n",
    "else:\n",
    "    for k, v in new_request.items():\n",
    "        print(\"* {} : {}\".format(k,v))"
   ]
  },
  {
   "cell_type": "code",
   "execution_count": null,
   "id": "QkTWPotJMP_S",
   "metadata": {
    "id": "QkTWPotJMP_S"
   },
   "outputs": [],
   "source": [
    "\"\"\"\n",
    "Description: Files path\n",
    "\"\"\"\n",
    "data_path=os.path.join(zip_path,'data.zip') #full path of data zip\n",
    "label_path=os.path.join(zip_path,'label.zip') #full path of label zip\n",
    "model_path=os.path.join(zip_path,'model.zip') #full path of model zip"
   ]
  },
  {
   "cell_type": "code",
   "execution_count": null,
   "id": "0dAQZL31MP_T",
   "metadata": {
    "id": "0dAQZL31MP_T"
   },
   "outputs": [],
   "source": [
    "def upload_file(url, file_path):\n",
    "    new_request = requests.request(method=\"PUT\", url=url, data=open(file_path,'rb'))\n",
    "    status_cd = new_request.status_code\n",
    "    if status_cd == 200:\n",
    "        status = 'upload sucessful'\n",
    "    else:\n",
    "        status = 'upload failed'\n",
    "    return status"
   ]
  },
  {
   "cell_type": "code",
   "execution_count": null,
   "id": "TNXgfhwmMP_T",
   "metadata": {
    "colab": {
     "base_uri": "https://localhost:8080/"
    },
    "id": "TNXgfhwmMP_T",
    "outputId": "4d55c4a7-a1c8-45bb-9a60-47fe9f35c8f6"
   },
   "outputs": [
    {
     "name": "stdout",
     "output_type": "stream",
     "text": [
      "data_upload_status:  upload sucessful\n",
      "label_upload_status:  upload sucessful\n",
      "model_upload_status:  upload sucessful\n"
     ]
    }
   ],
   "source": [
    "\"\"\"\n",
    "Description: Hit AIShield File Upload API\n",
    "\"\"\"\n",
    "\n",
    "data_upload_status = upload_file(data_upload_url, data_path)\n",
    "print('data_upload_status: ', data_upload_status)\n",
    "label_upload_status = upload_file(label_upload_url, label_path)\n",
    "print('label_upload_status: ', label_upload_status)\n",
    "model_upload_status = upload_file(model_upload_url, model_path)\n",
    "print('model_upload_status: ', model_upload_status)"
   ]
  },
  {
   "cell_type": "markdown",
   "id": "bkd77vYvMP_T",
   "metadata": {
    "id": "bkd77vYvMP_T"
   },
   "source": [
    "### 5.2 Model Analysis"
   ]
  },
  {
   "cell_type": "code",
   "execution_count": null,
   "id": "rvDuvgFlMP_T",
   "metadata": {
    "id": "rvDuvgFlMP_T"
   },
   "outputs": [],
   "source": [
    "\"\"\"\n",
    "Description: Payload for AIShield VulnerabilityReport api call\n",
    "\"\"\"\n",
    "payload={}\n",
    "payload['use_model_api']=\"no\"\n",
    "payload['model_api_details']=\"no\"\n",
    "payload['normalize_data']=\"Yes\"\n",
    "payload['input_dimensions']=str(input_shape)\n",
    "payload['number_of_classes']=str(num_classes)\n",
    "payload['attack_type']=\"blackbox\"  \n",
    "payload['number_of_attack_queries']=1000\n",
    "payload['model_framework']='tensorflow'\n",
    "payload['vulnerability_threshold']=\"0\"\n",
    "payload['defense_bestonly']=\"no\"\n",
    "payload['encryption_strategy']= model_encryption"
   ]
  },
  {
   "cell_type": "code",
   "execution_count": null,
   "id": "CkoMbRrbMP_T",
   "metadata": {
    "id": "CkoMbRrbMP_T",
    "outputId": "25f58abc-d379-489a-fe32-9ab4ad7b151e"
   },
   "outputs": [
    {
     "name": "stdout",
     "output_type": "stream",
     "text": [
      "* api_version : 1.5\n",
      "* job_id : XXXXXXXXXXXXXXXXXXXXXXXXXXXXXXXXXXXXXXX\n",
      "* monitor_link : XXXXXXXXXXXXXXXXXXXXXXXXXXXXXXXXXXXXXXX\n"
     ]
    }
   ],
   "source": [
    "\"\"\"\n",
    "Description: Hit AIShield VulnerabilityReport api\n",
    "\"\"\"\n",
    "model_analysis_url = url + \"/model_analyse/{}\".format(model_id)\n",
    "if data_upload_status == \"upload sucessful\" and model_upload_status == \"upload sucessful\" and label_upload_status == \"upload sucessful\":\n",
    "    new_request = requests.request(method=\"POST\", url=model_analysis_url, json=payload,headers=headers)\n",
    "    new_request=json.loads(new_request.text)\n",
    "    for k, v in new_request.items():\n",
    "        print(\"* {} : {}\".format(k,v))"
   ]
  },
  {
   "cell_type": "code",
   "execution_count": null,
   "id": "8qOX6I03MP_T",
   "metadata": {
    "id": "8qOX6I03MP_T",
    "outputId": "5c51a02c-fffb-4e94-fb53-3ece57a4f547"
   },
   "outputs": [
    {
     "name": "stdout",
     "output_type": "stream",
     "text": [
      "Job id : XXXXXXXXXXXXXXXXXXXXXXXXXXXXXXXXXXXXXXX\n"
     ]
    }
   ],
   "source": [
    "\"\"\"\n",
    "Description: Get job id from api response\n",
    "\"\"\"\n",
    "job_id=new_request['job_id']\n",
    "print(f\"Job id : {job_id}\")"
   ]
  },
  {
   "cell_type": "code",
   "execution_count": null,
   "id": "EWZx0V4hMP_T",
   "metadata": {
    "id": "EWZx0V4hMP_T"
   },
   "outputs": [],
   "source": [
    "def monitor_api_progress(new_job_id):\n",
    "        job_status_url = url + \"/job_status_detailed?job_id=\" + new_job_id\n",
    "\n",
    "        # status dictionary\n",
    "        status_dictionary = {\n",
    "            'ModelExploration_Status': 'na',\n",
    "            'SanityCheck_Status': 'na',\n",
    "            'QueryGenerator_Status': 'na',\n",
    "            'VunerabilityEngine_Status': 'na',\n",
    "            'DefenseReport_Status': 'na',\n",
    "        }\n",
    "        counts = [0] * len(status_dictionary)\n",
    "        failed_api_hit_count = 0\n",
    "        while True:\n",
    "            time.sleep(2)\n",
    "            try:\n",
    "                job_status_response = requests.request(\"GET\", job_status_url, params={},\n",
    "                                                       headers=headers)\n",
    "\n",
    "                job_status_payload = json.loads(job_status_response.text)\n",
    "                failing_key = 'ModelExploration_Status'\n",
    "                for i, key in enumerate(status_dictionary.keys()):\n",
    "                    if status_dictionary[key] == 'na':\n",
    "                        if job_status_payload[key] == 'inprogress' and status_dictionary[key] == 'na':\n",
    "                            status_dictionary[key] = job_status_payload[key]\n",
    "                            print(str(key), \":\", status_dictionary[key])\n",
    "\n",
    "                        elif job_status_payload[key] == 'completed' or job_status_payload[key] == 'passed':\n",
    "                            status_dictionary[key] = job_status_payload[key]\n",
    "                            counts[i] += 1\n",
    "                            print(str(key), \":\", status_dictionary[key])\n",
    "\n",
    "                        if job_status_payload[key] == 'failed':\n",
    "                            failing_key = key\n",
    "                            status_dictionary[key] = job_status_payload[key]\n",
    "                            print(str(key), \":\", status_dictionary[key])\n",
    "\n",
    "                    elif job_status_payload[key] == 'completed' or job_status_payload[key] == 'passed':\n",
    "                        status_dictionary[key] = job_status_payload[key]\n",
    "                        if counts[i] < 1:\n",
    "                            print(str(key), \":\", status_dictionary[key])\n",
    "                        counts[i] += 1\n",
    "\n",
    "                    else:\n",
    "                        if job_status_payload[key] == 'failed':\n",
    "                            failing_key = key\n",
    "                            status_dictionary[key] = job_status_payload[key]\n",
    "                            print(str(key), \":\", status_dictionary[key])\n",
    "\n",
    "                if job_status_payload[failing_key] == 'failed':\n",
    "                    break\n",
    "\n",
    "                if status_dictionary['VunerabilityEngine_Status'] == 'passed' or status_dictionary[\n",
    "                    'VunerabilityEngine_Status'] == 'completed' and job_status_payload[\n",
    "                    'CurrentStatus'] == \"Defense generation is not triggered\":\n",
    "                    print(\"\\n Vulnerability score {} failed to cross vulnerability threshold of {}\".format(\n",
    "                        job_status_payload['VulnerabiltyScore'], payload['vulnerability_threshold']))\n",
    "                    break\n",
    "                if job_status_payload['DefenseReport_Status'] == 'completed':\n",
    "                    break\n",
    "            except Exception as e:\n",
    "                failed_api_hit_count += 1\n",
    "                print(\"Error {}. trying {} ...\".format(str(e), failed_api_hit_count))\n",
    "                if failed_api_hit_count >= 3:\n",
    "                    break\n",
    "        return status_dictionary"
   ]
  },
  {
   "cell_type": "code",
   "execution_count": null,
   "id": "xjuqpeSwMP_U",
   "metadata": {
    "colab": {
     "base_uri": "https://localhost:8080/"
    },
    "id": "xjuqpeSwMP_U",
    "outputId": "d0a145f6-a402-4d2f-cdec-4b3704cfbc49"
   },
   "outputs": [
    {
     "name": "stdout",
     "output_type": "stream",
     "text": [
      "ModelExploration_Status : completed\n",
      "SanityCheck_Status : passed\n",
      "QueryGenerator_Status : completed\n",
      "VunerabilityEngine_Status : inprogress\n",
      "VunerabilityEngine_Status : completed\n",
      "DefenseReport_Status : inprogress\n",
      "DefenseReport_Status : completed\n"
     ]
    }
   ],
   "source": [
    "\"\"\"\n",
    "Description: Continuos monitoring of job progress\n",
    "\"\"\"\n",
    "status_dictionary = monitor_api_progress(new_job_id=job_id)"
   ]
  },
  {
   "cell_type": "code",
   "execution_count": null,
   "id": "4y1s4mClMP_U",
   "metadata": {
    "id": "4y1s4mClMP_U",
    "scrolled": true
   },
   "outputs": [],
   "source": [
    "def download_artifact(job_id, report_type='Vulnerability', file_format=0):\n",
    "    \"\"\"\n",
    "    job_id: job_id  received after successful api call\n",
    "    report_type: report to be downloaded\n",
    "    file_format: change file_format to : 0- all report in zip \n",
    "                        1- report in .txt \n",
    "                        2- report in .pdf\n",
    "                        3- report in .json\n",
    "                        4- report in .xml\n",
    "    \"\"\"\n",
    "    report_url = url + \"/\" + \"get_report?job_id=\" + str(\n",
    "        job_id) + \"&report_type=\" + report_type + \"&file_format=\" + str(file_format)\n",
    "\n",
    "    headers1=headers\n",
    "    headers1[\"content-type\"]= \"application/zip\"\n",
    "\n",
    "    response = requests.request(\"GET\", report_url, params={}, headers=headers1)\n",
    "\n",
    "    if file_format == 0 or \"Attack_samples\":\n",
    "        with open(os.path.join(report_path, report_type + \".zip\"), 'wb') as f:\n",
    "            f.write(response.content)\n",
    "    elif file_format == 1:\n",
    "        with open(os.path.join(report_path, report_type + \".txt\"), 'wb') as f:\n",
    "            f.write(response.content)\n",
    "    elif file_format == 2:\n",
    "        with open(os.path.join(report_path, report_type + \".pdf\"), 'wb') as f:\n",
    "            f.write(response.content)\n",
    "    elif file_format == 3:\n",
    "        with open(os.path.join(report_path, report_type + \".json\"), 'wb') as f:\n",
    "            f.write(response.content)\n",
    "    elif file_format == 4:\n",
    "        with open(os.path.join(report_path, report_type + \".xml\"), 'wb') as f:\n",
    "            f.write(response.content)"
   ]
  },
  {
   "cell_type": "code",
   "execution_count": null,
   "id": "c2fa8pOyMP_U",
   "metadata": {
    "id": "c2fa8pOyMP_U"
   },
   "outputs": [],
   "source": [
    "\"\"\"\n",
    "Description: download generated artifact\n",
    "\"\"\"\n",
    "if status_dictionary[\"VunerabilityEngine_Status\"] == 'completed':\n",
    "    download_artifact(job_id=job_id, report_type='Vulnerability', file_format=0) \n",
    "    download_artifact(job_id=job_id, report_type='Attack_samples', file_format=0)\n",
    "\n",
    "if status_dictionary[\"DefenseReport_Status\"] == 'completed':\n",
    "    download_artifact(job_id=job_id, report_type='Defense', file_format=0)\n",
    "    download_artifact(job_id=job_id, report_type='Defense_artifact', file_format=0)"
   ]
  },
  {
   "cell_type": "markdown",
   "id": "xyy84fWvK143",
   "metadata": {
    "id": "xyy84fWvK143"
   },
   "source": [
    "## Defense Model Simulation"
   ]
  },
  {
   "cell_type": "code",
   "execution_count": null,
   "id": "gSMwz7unMP_U",
   "metadata": {
    "id": "gSMwz7unMP_U"
   },
   "outputs": [],
   "source": [
    "def zip_extractor(file, extract_path=None, delete_zip=False):\n",
    "    \"\"\"\n",
    "    extract zip file to the given path\n",
    "\n",
    "    Parameters\n",
    "    ----------\n",
    "    file : path of zip file\n",
    "    extract_path : path to extract zip file, default considered parent directory\n",
    "    delete_zip: True, delete zip file after unzipping it\n",
    "\n",
    "    Returns\n",
    "    -------\n",
    "    None.\n",
    "    \"\"\"\n",
    "    if extract_path is None:\n",
    "        extract_path = os.path.dirname(file)\n",
    "    print(\"Extracting : {}\".format(file))\n",
    "    zf = zipfile.ZipFile(file=file, mode='r')\n",
    "    zf.extractall(extract_path)\n",
    "    zf.close()\n",
    "    if delete_zip:\n",
    "        os.remove(file)\n",
    "        print(\"{} removed successfully.\".format(file))\n",
    "\n",
    "def get_file_path(path):\n",
    "    \"\"\"\n",
    "    To get full file path from directory and child directory\n",
    "    Args:\n",
    "        path: Directory path\n",
    "\n",
    "    Returns: list containing full path of all the file from the given directory\n",
    "\n",
    "    \"\"\"\n",
    "    list_id = []\n",
    "    for (root, dirs, files) in os.walk(path, topdown=True):\n",
    "        if len(dirs) == 0:\n",
    "            for file in files:\n",
    "                list_id.append(os.path.join(root, file))\n",
    "    return list_id\n",
    "    \n",
    "\n",
    "def load_data(path):\n",
    "    \"\"\"\n",
    "    path: load data from given path\n",
    "    \"\"\"\n",
    "    files_path = get_file_path(path)\n",
    "    x = []\n",
    "    for file in files_path:\n",
    "        img = cv2.imread(file, 0)\n",
    "        x.append(img)\n",
    "    x = np.expand_dims(np.array(x), axis=-1)\n",
    "    return x"
   ]
  },
  {
   "cell_type": "code",
   "execution_count": null,
   "id": "wVSIUommlAos",
   "metadata": {
    "colab": {
     "base_uri": "https://localhost:8080/"
    },
    "id": "wVSIUommlAos",
    "outputId": "1b759ba2-d47e-4e6f-ed88-f89f36c4f54f"
   },
   "outputs": [
    {
     "name": "stdout",
     "output_type": "stream",
     "text": [
      "Extracting : /content/reports/Attack_samples.zip\n"
     ]
    }
   ],
   "source": [
    "\"\"\"\n",
    "Description: extract attack sample\n",
    "\"\"\"\n",
    "zip_extractor(file=os.path.join(report_path, 'Attack_samples.zip'), extract_path=sample_data)"
   ]
  },
  {
   "cell_type": "code",
   "execution_count": null,
   "id": "DTwW-rMvlKRD",
   "metadata": {
    "colab": {
     "base_uri": "https://localhost:8080/",
     "height": 657
    },
    "id": "DTwW-rMvlKRD",
    "outputId": "6ffa81c9-fdb8-433d-d852-accbc69286c4"
   },
   "outputs": [
    {
     "data": {
      "image/png": "[encoded data removed]",
      "text/plain": [
       "<Figure size 864x648 with 16 Axes>"
      ]
     },
     "metadata": {
      "needs_background": "light"
     },
     "output_type": "display_data"
    }
   ],
   "source": [
    "\"\"\"\n",
    "Description: load attack data\n",
    "\"\"\"\n",
    "x_attack = load_data(path=sample_data)\n",
    "plot(x=x_attack, row=4)"
   ]
  },
  {
   "cell_type": "code",
   "execution_count": null,
   "id": "ir4bZlNhMP_U",
   "metadata": {
    "colab": {
     "base_uri": "https://localhost:8080/"
    },
    "id": "ir4bZlNhMP_U",
    "outputId": "1c2d37f0-ac42-49f9-a5da-a05a939bb1eb"
   },
   "outputs": [
    {
     "name": "stdout",
     "output_type": "stream",
     "text": [
      "Extracting : /content/reports/Defense_artifact.zip\n"
     ]
    }
   ],
   "source": [
    "\"\"\"\n",
    "Description: Extracting defense artifact\n",
    "\"\"\"\n",
    "zip_extractor(file=os.path.join(report_path, 'Defense_artifact.zip'))"
   ]
  },
  {
   "cell_type": "code",
   "execution_count": null,
   "id": "pSouwpvYMP_V",
   "metadata": {
    "id": "pSouwpvYMP_V"
   },
   "outputs": [],
   "source": [
    "\"\"\"\n",
    "Description: Load defense model\n",
    "\"\"\"\n",
    "defense_model_path = os.path.join(report_path, 'defense_model.h5')\n",
    "defense_model = tf.keras.models.load_model(defense_model_path)"
   ]
  },
  {
   "cell_type": "code",
   "execution_count": null,
   "id": "_PNoZeHbMP_V",
   "metadata": {
    "id": "_PNoZeHbMP_V"
   },
   "outputs": [],
   "source": [
    "\"\"\"\n",
    "Description: Use defense model\n",
    "\"\"\"\n",
    "from reports import predict\n",
    "defense = predict.AISDefenseModel(defense_model)"
   ]
  },
  {
   "cell_type": "code",
   "execution_count": null,
   "id": "jEHNRGp_MP_V",
   "metadata": {
    "colab": {
     "base_uri": "https://localhost:8080/"
    },
    "id": "jEHNRGp_MP_V",
    "outputId": "09c96df4-1a32-47a9-ce5f-9cefebb37c85"
   },
   "outputs": [
    {
     "name": "stdout",
     "output_type": "stream",
     "text": [
      "1/1 [==============================] - 0s 94ms/step\n"
     ]
    },
    {
     "name": "stderr",
     "output_type": "stream",
     "text": [
      "100%|██████████| 5/5 [00:00<00:00, 31022.96it/s]"
     ]
    },
    {
     "name": "stdout",
     "output_type": "stream",
     "text": [
      "\n",
      "label: ['not-attack' 'not-attack' 'not-attack' 'not-attack' 'not-attack'] \n",
      "prob: [0.99580246 0.9983683  0.9312337  0.9971861  0.99226063]\n"
     ]
    },
    {
     "name": "stderr",
     "output_type": "stream",
     "text": [
      "\n"
     ]
    }
   ],
   "source": [
    "\"\"\"\n",
    "Description: Pass original data to get prediction\n",
    "\"\"\"\n",
    "label , prob = defense.predict(X_val[:5])\n",
    "print(\"\\nlabel: {} \\nprob: {}\".format(label, prob))"
   ]
  },
  {
   "cell_type": "code",
   "execution_count": null,
   "id": "dedb2cb8",
   "metadata": {
    "colab": {
     "base_uri": "https://localhost:8080/"
    },
    "id": "dedb2cb8",
    "outputId": "41a320d7-99d5-408c-f2bc-7be23ce94208"
   },
   "outputs": [
    {
     "name": "stdout",
     "output_type": "stream",
     "text": [
      "1/1 [==============================] - 33s 33s/step\n"
     ]
    },
    {
     "name": "stderr",
     "output_type": "stream",
     "text": [
      "100%|██████████| 5/5 [00:00<00:00, 26280.10it/s]"
     ]
    },
    {
     "name": "stdout",
     "output_type": "stream",
     "text": [
      "\n",
      "label: ['attack' 'attack' 'attack' 'attack' 'attack'] \n",
      "prob: [1. 1. 1. 1. 1.]\n"
     ]
    },
    {
     "name": "stderr",
     "output_type": "stream",
     "text": [
      "\n"
     ]
    }
   ],
   "source": [
    "\"\"\"\n",
    "Description: Pass sample attack data to get prediction\n",
    "\"\"\"\n",
    "label , prob = defense.predict(x_attack[:5])\n",
    "print(\"\\nlabel: {} \\nprob: {}\".format(label, prob))"
   ]
  },
  {
   "cell_type": "code",
   "execution_count": null,
   "id": "8946fcd5",
   "metadata": {
    "id": "8946fcd5"
   },
   "outputs": [],
   "source": []
  }
 ],
 "metadata": {
  "colab": {
   "provenance": []
  },
  "kernelspec": {
   "display_name": "Python 3",
   "language": "python",
   "name": "python3"
  },
  "language_info": {
   "codemirror_mode": {
    "name": "ipython",
    "version": 3
   },
   "file_extension": ".py",
   "mimetype": "text/x-python",
   "name": "python",
   "nbconvert_exporter": "python",
   "pygments_lexer": "ipython3",
   "version": "3.8.13"
  }
 },
 "nbformat": 4,
 "nbformat_minor": 5
}
