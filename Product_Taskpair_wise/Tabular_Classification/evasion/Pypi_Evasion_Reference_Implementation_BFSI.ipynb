{
 "cells": [
  {
   "cell_type": "markdown",
   "id": "e01e267c",
   "metadata": {
    "pycharm": {
     "name": "#%% md\n"
    }
   },
   "source": [
    "# Classification Model\n",
    "* File Name: Reference_implementation of BFSI \n",
    "* Date of creation(dd-mm-yyyy) : 30-03-2023\n",
    "* Author Name/Dept : AIShield\n",
    "* Organization : BGSW\n",
    "* Description : Source Code of reference implementation of AIShield API\n",
    "* Copyright : Copyright 2022 Bosch Global Software Technologies Private Limited. All Rights Reserved.\n",
    "\n",
    "### Metadata\n",
    "* Dataset: Banking Marketing Campagin\n",
    "* Size of dataset:41188, 18\n",
    "* Number of class : 2\n",
    "* Original Model: XGBOOST \n",
    "\n",
    "### Outcomes\n",
    "* Accuracy of model: 0.92\n"
   ]
  },
  {
   "cell_type": "code",
   "execution_count": 1,
   "id": "25d61da8",
   "metadata": {
    "pycharm": {
     "name": "#%%\n"
    }
   },
   "outputs": [
    {
     "data": {
      "text/plain": [
       "'\\nDescription: commands to install aishield\\n'"
      ]
     },
     "execution_count": 1,
     "metadata": {},
     "output_type": "execute_result"
    }
   ],
   "source": [
    "\"\"\"\n",
    "Description: commands to install aishield\n",
    "\"\"\"\n",
    "\n",
    "#!pip install aishield"
   ]
  },
  {
   "cell_type": "code",
   "execution_count": 2,
   "id": "c0c0c035",
   "metadata": {
    "pycharm": {
     "name": "#%%\n"
    }
   },
   "outputs": [
    {
     "data": {
      "text/plain": [
       "'\\nDescription: commands to install all the packages, remove comments to install all the libraries\\n'"
      ]
     },
     "execution_count": 2,
     "metadata": {},
     "output_type": "execute_result"
    }
   ],
   "source": [
    "\"\"\"\n",
    "Description: commands to install all the packages, remove comments to install all the libraries\n",
    "\"\"\"\n",
    "# ! pip install xgboost==1.6.2\n",
    "# ! pip install pandas==1.1.5\n",
    "# ! pip install scikit-learn==1.0.2\n",
    "# ! pip install numpy==1.22\n",
    "# ! pip install pyminizip\n",
    "# !pip install requests==2.28.0\n",
    "# !pip install humanfriendly==9.2"
   ]
  },
  {
   "cell_type": "markdown",
   "id": "5002f117",
   "metadata": {
    "pycharm": {
     "name": "#%% md\n"
    }
   },
   "source": [
    "### 1.0 Import libraries"
   ]
  },
  {
   "cell_type": "code",
   "execution_count": 1,
   "id": "190651de",
   "metadata": {
    "pycharm": {
     "name": "#%%\n"
    }
   },
   "outputs": [],
   "source": [
    "import os\n",
    "import copy\n",
    "import json\n",
    "import time\n",
    "import pickle\n",
    "import shutil\n",
    "import requests\n",
    "import py_compile\n",
    "import pyminizip\n",
    "import zipfile\n",
    "import numpy as np\n",
    "import pandas as pd\n",
    "from xgboost import XGBClassifier\n",
    "from sklearn.preprocessing import MinMaxScaler, LabelEncoder\n",
    "from sklearn.model_selection import train_test_split\n",
    "from sklearn.metrics import classification_report, confusion_matrix, accuracy_score, f1_score\n",
    "\n",
    "\n",
    "#import aishield libraries\n",
    "import aishield as ais"
   ]
  },
  {
   "cell_type": "markdown",
   "id": "803955cd",
   "metadata": {
    "pycharm": {
     "name": "#%% md\n"
    }
   },
   "source": [
    "### 2.0 Data Loading and Preprocessing"
   ]
  },
  {
   "cell_type": "markdown",
   "id": "840c1c11",
   "metadata": {
    "pycharm": {
     "name": "#%% md\n"
    }
   },
   "source": [
    "#### Download dataset from the link https://archive.ics.uci.edu/dataset/222/bank+marketing \n",
    "1. then download the bank-additional.zip file and extract it , If running in colab, then uncomment the below cell to upload the downloaded zip file to colab"
   ]
  },
  {
   "cell_type": "code",
   "execution_count": 88,
   "id": "e56e5906",
   "metadata": {
    "pycharm": {
     "name": "#%%\n"
    }
   },
   "outputs": [],
   "source": [
    "# # To upload the downloaded zip file in Colab, please uncomment the below cell.\n",
    "# from google.colab import files\n",
    "# import zipfile\n",
    "# import io\n",
    "\n",
    "# uploaded = files.upload()\n",
    "\n",
    "# def extract_nested_zip(zip_file):\n",
    "#     # Look for nested zip files\n",
    "#     nested_zip_names = [name for name in zip_file.namelist() if name.endswith(\".zip\")]\n",
    "\n",
    "#     if not nested_zip_names:\n",
    "#         print(\"No nested zip files found.\")\n",
    "#         return\n",
    "\n",
    "#     for nested_zip_name in nested_zip_names:\n",
    "#         with zip_file.open(nested_zip_name) as nested_zip_file:\n",
    "#             with io.BytesIO(nested_zip_file.read()) as nested_buffer:\n",
    "#                 with zipfile.ZipFile(nested_buffer, 'r') as nested_zip:\n",
    "#                     # Extract the contents of the nested zip file\n",
    "#                     nested_zip.extractall()\n",
    "\n",
    "# for name, content in uploaded.items():\n",
    "#     with io.BytesIO(content) as buffer:\n",
    "#         with zipfile.ZipFile(buffer, 'r') as outer_zip:\n",
    "#             # Extract the contents of the outer zip file\n",
    "#             outer_zip.extractall()\n",
    "\n",
    "#             # Extract nested zip files recursively\n",
    "#             extract_nested_zip(outer_zip)\n",
    "\n",
    "# print(\"Extraction completed.\")\n"
   ]
  },
  {
   "cell_type": "code",
   "execution_count": 27,
   "id": "5f838934",
   "metadata": {
    "pycharm": {
     "name": "#%%\n"
    }
   },
   "outputs": [],
   "source": [
    "'''\n",
    "Description : Loading credit card fraud detection dataset\n",
    "'''\n",
    "df = pd.read_csv('bank-additional/bank-additional-full.csv',delimiter=\";\")"
   ]
  },
  {
   "cell_type": "code",
   "execution_count": 28,
   "id": "47525a71",
   "metadata": {
    "pycharm": {
     "name": "#%%\n"
    }
   },
   "outputs": [
    {
     "data": {
      "text/html": [
       "<div>\n",
       "<style scoped>\n",
       "    .dataframe tbody tr th:only-of-type {\n",
       "        vertical-align: middle;\n",
       "    }\n",
       "\n",
       "    .dataframe tbody tr th {\n",
       "        vertical-align: top;\n",
       "    }\n",
       "\n",
       "    .dataframe thead th {\n",
       "        text-align: right;\n",
       "    }\n",
       "</style>\n",
       "<table border=\"1\" class=\"dataframe\">\n",
       "  <thead>\n",
       "    <tr style=\"text-align: right;\">\n",
       "      <th></th>\n",
       "      <th>age</th>\n",
       "      <th>job</th>\n",
       "      <th>marital</th>\n",
       "      <th>education</th>\n",
       "      <th>default</th>\n",
       "      <th>housing</th>\n",
       "      <th>loan</th>\n",
       "      <th>contact</th>\n",
       "      <th>month</th>\n",
       "      <th>day_of_week</th>\n",
       "      <th>...</th>\n",
       "      <th>campaign</th>\n",
       "      <th>pdays</th>\n",
       "      <th>previous</th>\n",
       "      <th>poutcome</th>\n",
       "      <th>emp.var.rate</th>\n",
       "      <th>cons.price.idx</th>\n",
       "      <th>cons.conf.idx</th>\n",
       "      <th>euribor3m</th>\n",
       "      <th>nr.employed</th>\n",
       "      <th>y</th>\n",
       "    </tr>\n",
       "  </thead>\n",
       "  <tbody>\n",
       "    <tr>\n",
       "      <th>0</th>\n",
       "      <td>56</td>\n",
       "      <td>housemaid</td>\n",
       "      <td>married</td>\n",
       "      <td>basic.4y</td>\n",
       "      <td>no</td>\n",
       "      <td>no</td>\n",
       "      <td>no</td>\n",
       "      <td>telephone</td>\n",
       "      <td>may</td>\n",
       "      <td>mon</td>\n",
       "      <td>...</td>\n",
       "      <td>1</td>\n",
       "      <td>999</td>\n",
       "      <td>0</td>\n",
       "      <td>nonexistent</td>\n",
       "      <td>1.1</td>\n",
       "      <td>93.994</td>\n",
       "      <td>-36.4</td>\n",
       "      <td>4.857</td>\n",
       "      <td>5191.0</td>\n",
       "      <td>no</td>\n",
       "    </tr>\n",
       "    <tr>\n",
       "      <th>1</th>\n",
       "      <td>57</td>\n",
       "      <td>services</td>\n",
       "      <td>married</td>\n",
       "      <td>high.school</td>\n",
       "      <td>unknown</td>\n",
       "      <td>no</td>\n",
       "      <td>no</td>\n",
       "      <td>telephone</td>\n",
       "      <td>may</td>\n",
       "      <td>mon</td>\n",
       "      <td>...</td>\n",
       "      <td>1</td>\n",
       "      <td>999</td>\n",
       "      <td>0</td>\n",
       "      <td>nonexistent</td>\n",
       "      <td>1.1</td>\n",
       "      <td>93.994</td>\n",
       "      <td>-36.4</td>\n",
       "      <td>4.857</td>\n",
       "      <td>5191.0</td>\n",
       "      <td>no</td>\n",
       "    </tr>\n",
       "    <tr>\n",
       "      <th>2</th>\n",
       "      <td>37</td>\n",
       "      <td>services</td>\n",
       "      <td>married</td>\n",
       "      <td>high.school</td>\n",
       "      <td>no</td>\n",
       "      <td>yes</td>\n",
       "      <td>no</td>\n",
       "      <td>telephone</td>\n",
       "      <td>may</td>\n",
       "      <td>mon</td>\n",
       "      <td>...</td>\n",
       "      <td>1</td>\n",
       "      <td>999</td>\n",
       "      <td>0</td>\n",
       "      <td>nonexistent</td>\n",
       "      <td>1.1</td>\n",
       "      <td>93.994</td>\n",
       "      <td>-36.4</td>\n",
       "      <td>4.857</td>\n",
       "      <td>5191.0</td>\n",
       "      <td>no</td>\n",
       "    </tr>\n",
       "    <tr>\n",
       "      <th>3</th>\n",
       "      <td>40</td>\n",
       "      <td>admin.</td>\n",
       "      <td>married</td>\n",
       "      <td>basic.6y</td>\n",
       "      <td>no</td>\n",
       "      <td>no</td>\n",
       "      <td>no</td>\n",
       "      <td>telephone</td>\n",
       "      <td>may</td>\n",
       "      <td>mon</td>\n",
       "      <td>...</td>\n",
       "      <td>1</td>\n",
       "      <td>999</td>\n",
       "      <td>0</td>\n",
       "      <td>nonexistent</td>\n",
       "      <td>1.1</td>\n",
       "      <td>93.994</td>\n",
       "      <td>-36.4</td>\n",
       "      <td>4.857</td>\n",
       "      <td>5191.0</td>\n",
       "      <td>no</td>\n",
       "    </tr>\n",
       "    <tr>\n",
       "      <th>4</th>\n",
       "      <td>56</td>\n",
       "      <td>services</td>\n",
       "      <td>married</td>\n",
       "      <td>high.school</td>\n",
       "      <td>no</td>\n",
       "      <td>no</td>\n",
       "      <td>yes</td>\n",
       "      <td>telephone</td>\n",
       "      <td>may</td>\n",
       "      <td>mon</td>\n",
       "      <td>...</td>\n",
       "      <td>1</td>\n",
       "      <td>999</td>\n",
       "      <td>0</td>\n",
       "      <td>nonexistent</td>\n",
       "      <td>1.1</td>\n",
       "      <td>93.994</td>\n",
       "      <td>-36.4</td>\n",
       "      <td>4.857</td>\n",
       "      <td>5191.0</td>\n",
       "      <td>no</td>\n",
       "    </tr>\n",
       "  </tbody>\n",
       "</table>\n",
       "<p>5 rows × 21 columns</p>\n",
       "</div>"
      ],
      "text/plain": [
       "   age        job  marital    education  default housing loan    contact  \\\n",
       "0   56  housemaid  married     basic.4y       no      no   no  telephone   \n",
       "1   57   services  married  high.school  unknown      no   no  telephone   \n",
       "2   37   services  married  high.school       no     yes   no  telephone   \n",
       "3   40     admin.  married     basic.6y       no      no   no  telephone   \n",
       "4   56   services  married  high.school       no      no  yes  telephone   \n",
       "\n",
       "  month day_of_week  ...  campaign  pdays  previous     poutcome emp.var.rate  \\\n",
       "0   may         mon  ...         1    999         0  nonexistent          1.1   \n",
       "1   may         mon  ...         1    999         0  nonexistent          1.1   \n",
       "2   may         mon  ...         1    999         0  nonexistent          1.1   \n",
       "3   may         mon  ...         1    999         0  nonexistent          1.1   \n",
       "4   may         mon  ...         1    999         0  nonexistent          1.1   \n",
       "\n",
       "   cons.price.idx  cons.conf.idx  euribor3m  nr.employed   y  \n",
       "0          93.994          -36.4      4.857       5191.0  no  \n",
       "1          93.994          -36.4      4.857       5191.0  no  \n",
       "2          93.994          -36.4      4.857       5191.0  no  \n",
       "3          93.994          -36.4      4.857       5191.0  no  \n",
       "4          93.994          -36.4      4.857       5191.0  no  \n",
       "\n",
       "[5 rows x 21 columns]"
      ]
     },
     "execution_count": 28,
     "metadata": {},
     "output_type": "execute_result"
    }
   ],
   "source": [
    "df.head()"
   ]
  },
  {
   "cell_type": "code",
   "execution_count": 29,
   "id": "5a46cb54",
   "metadata": {
    "pycharm": {
     "name": "#%%\n"
    }
   },
   "outputs": [],
   "source": [
    "df.replace(['basic.6y','basic.4y', 'basic.9y'], 'basic', inplace=True)"
   ]
  },
  {
   "cell_type": "code",
   "execution_count": 30,
   "id": "be78dc35",
   "metadata": {
    "pycharm": {
     "name": "#%%\n"
    }
   },
   "outputs": [],
   "source": [
    "columns = ['day_of_week','month']\n",
    "df.drop(columns, axis=1, inplace=True)"
   ]
  },
  {
   "cell_type": "code",
   "execution_count": 31,
   "id": "ced3849f",
   "metadata": {
    "pycharm": {
     "name": "#%%\n"
    }
   },
   "outputs": [],
   "source": [
    "'''Description : Label Encoding the Categorical Columns'''\n",
    "\n",
    "le =LabelEncoder()\n",
    "df.job = le.fit_transform(df.job)\n",
    "df.marital = le.fit_transform(df.marital)\n",
    "df.education = le.fit_transform(df.education)\n",
    "df.housing = le.fit_transform(df.housing)\n",
    "df.loan = le.fit_transform(df.loan)\n",
    "df.poutcome = le.fit_transform(df.poutcome)\n",
    "df.contact = le.fit_transform(df.contact)\n",
    "df.default = le.fit_transform(df.default)\n",
    "df.y = le.fit_transform(df.y)"
   ]
  },
  {
   "cell_type": "code",
   "execution_count": 32,
   "id": "6469a032",
   "metadata": {
    "pycharm": {
     "name": "#%%\n"
    }
   },
   "outputs": [
    {
     "data": {
      "text/html": [
       "<div>\n",
       "<style scoped>\n",
       "    .dataframe tbody tr th:only-of-type {\n",
       "        vertical-align: middle;\n",
       "    }\n",
       "\n",
       "    .dataframe tbody tr th {\n",
       "        vertical-align: top;\n",
       "    }\n",
       "\n",
       "    .dataframe thead th {\n",
       "        text-align: right;\n",
       "    }\n",
       "</style>\n",
       "<table border=\"1\" class=\"dataframe\">\n",
       "  <thead>\n",
       "    <tr style=\"text-align: right;\">\n",
       "      <th></th>\n",
       "      <th>age</th>\n",
       "      <th>job</th>\n",
       "      <th>marital</th>\n",
       "      <th>education</th>\n",
       "      <th>default</th>\n",
       "      <th>housing</th>\n",
       "      <th>loan</th>\n",
       "      <th>contact</th>\n",
       "      <th>duration</th>\n",
       "      <th>campaign</th>\n",
       "      <th>pdays</th>\n",
       "      <th>previous</th>\n",
       "      <th>poutcome</th>\n",
       "      <th>emp.var.rate</th>\n",
       "      <th>cons.price.idx</th>\n",
       "      <th>cons.conf.idx</th>\n",
       "      <th>euribor3m</th>\n",
       "      <th>nr.employed</th>\n",
       "      <th>y</th>\n",
       "    </tr>\n",
       "  </thead>\n",
       "  <tbody>\n",
       "    <tr>\n",
       "      <th>0</th>\n",
       "      <td>56</td>\n",
       "      <td>3</td>\n",
       "      <td>1</td>\n",
       "      <td>0</td>\n",
       "      <td>0</td>\n",
       "      <td>0</td>\n",
       "      <td>0</td>\n",
       "      <td>1</td>\n",
       "      <td>261</td>\n",
       "      <td>1</td>\n",
       "      <td>999</td>\n",
       "      <td>0</td>\n",
       "      <td>1</td>\n",
       "      <td>1.1</td>\n",
       "      <td>93.994</td>\n",
       "      <td>-36.4</td>\n",
       "      <td>4.857</td>\n",
       "      <td>5191.0</td>\n",
       "      <td>0</td>\n",
       "    </tr>\n",
       "    <tr>\n",
       "      <th>1</th>\n",
       "      <td>57</td>\n",
       "      <td>7</td>\n",
       "      <td>1</td>\n",
       "      <td>1</td>\n",
       "      <td>1</td>\n",
       "      <td>0</td>\n",
       "      <td>0</td>\n",
       "      <td>1</td>\n",
       "      <td>149</td>\n",
       "      <td>1</td>\n",
       "      <td>999</td>\n",
       "      <td>0</td>\n",
       "      <td>1</td>\n",
       "      <td>1.1</td>\n",
       "      <td>93.994</td>\n",
       "      <td>-36.4</td>\n",
       "      <td>4.857</td>\n",
       "      <td>5191.0</td>\n",
       "      <td>0</td>\n",
       "    </tr>\n",
       "    <tr>\n",
       "      <th>2</th>\n",
       "      <td>37</td>\n",
       "      <td>7</td>\n",
       "      <td>1</td>\n",
       "      <td>1</td>\n",
       "      <td>0</td>\n",
       "      <td>2</td>\n",
       "      <td>0</td>\n",
       "      <td>1</td>\n",
       "      <td>226</td>\n",
       "      <td>1</td>\n",
       "      <td>999</td>\n",
       "      <td>0</td>\n",
       "      <td>1</td>\n",
       "      <td>1.1</td>\n",
       "      <td>93.994</td>\n",
       "      <td>-36.4</td>\n",
       "      <td>4.857</td>\n",
       "      <td>5191.0</td>\n",
       "      <td>0</td>\n",
       "    </tr>\n",
       "    <tr>\n",
       "      <th>3</th>\n",
       "      <td>40</td>\n",
       "      <td>0</td>\n",
       "      <td>1</td>\n",
       "      <td>0</td>\n",
       "      <td>0</td>\n",
       "      <td>0</td>\n",
       "      <td>0</td>\n",
       "      <td>1</td>\n",
       "      <td>151</td>\n",
       "      <td>1</td>\n",
       "      <td>999</td>\n",
       "      <td>0</td>\n",
       "      <td>1</td>\n",
       "      <td>1.1</td>\n",
       "      <td>93.994</td>\n",
       "      <td>-36.4</td>\n",
       "      <td>4.857</td>\n",
       "      <td>5191.0</td>\n",
       "      <td>0</td>\n",
       "    </tr>\n",
       "    <tr>\n",
       "      <th>4</th>\n",
       "      <td>56</td>\n",
       "      <td>7</td>\n",
       "      <td>1</td>\n",
       "      <td>1</td>\n",
       "      <td>0</td>\n",
       "      <td>0</td>\n",
       "      <td>2</td>\n",
       "      <td>1</td>\n",
       "      <td>307</td>\n",
       "      <td>1</td>\n",
       "      <td>999</td>\n",
       "      <td>0</td>\n",
       "      <td>1</td>\n",
       "      <td>1.1</td>\n",
       "      <td>93.994</td>\n",
       "      <td>-36.4</td>\n",
       "      <td>4.857</td>\n",
       "      <td>5191.0</td>\n",
       "      <td>0</td>\n",
       "    </tr>\n",
       "  </tbody>\n",
       "</table>\n",
       "</div>"
      ],
      "text/plain": [
       "   age  job  marital  education  default  housing  loan  contact  duration  \\\n",
       "0   56    3        1          0        0        0     0        1       261   \n",
       "1   57    7        1          1        1        0     0        1       149   \n",
       "2   37    7        1          1        0        2     0        1       226   \n",
       "3   40    0        1          0        0        0     0        1       151   \n",
       "4   56    7        1          1        0        0     2        1       307   \n",
       "\n",
       "   campaign  pdays  previous  poutcome  emp.var.rate  cons.price.idx  \\\n",
       "0         1    999         0         1           1.1          93.994   \n",
       "1         1    999         0         1           1.1          93.994   \n",
       "2         1    999         0         1           1.1          93.994   \n",
       "3         1    999         0         1           1.1          93.994   \n",
       "4         1    999         0         1           1.1          93.994   \n",
       "\n",
       "   cons.conf.idx  euribor3m  nr.employed  y  \n",
       "0          -36.4      4.857       5191.0  0  \n",
       "1          -36.4      4.857       5191.0  0  \n",
       "2          -36.4      4.857       5191.0  0  \n",
       "3          -36.4      4.857       5191.0  0  \n",
       "4          -36.4      4.857       5191.0  0  "
      ]
     },
     "execution_count": 32,
     "metadata": {},
     "output_type": "execute_result"
    }
   ],
   "source": [
    "df.head()"
   ]
  },
  {
   "cell_type": "code",
   "execution_count": 33,
   "id": "8d749184",
   "metadata": {
    "pycharm": {
     "name": "#%%\n"
    }
   },
   "outputs": [],
   "source": [
    "output = 'y'\n",
    " \n",
    "X = df.loc[:, df.columns != output]\n",
    "y = df['y']"
   ]
  },
  {
   "cell_type": "code",
   "execution_count": 34,
   "id": "a953b89f",
   "metadata": {
    "pycharm": {
     "name": "#%%\n"
    }
   },
   "outputs": [],
   "source": [
    "'''\n",
    "Description : Splitting data for validation\n",
    "'''\n",
    "X_train, X_test, y_train, y_test = train_test_split(X, y, test_size = 0.25, random_state = 1)"
   ]
  },
  {
   "cell_type": "code",
   "execution_count": 35,
   "id": "86667985",
   "metadata": {
    "pycharm": {
     "name": "#%%\n"
    }
   },
   "outputs": [
    {
     "name": "stdout",
     "output_type": "stream",
     "text": [
      "shape of x_train:  (30891, 18)\n",
      "shape of y_train:  (30891,)\n",
      "shape of x_test:  (10297, 18)\n",
      "shape of y_test:  (10297,)\n"
     ]
    }
   ],
   "source": [
    "'''\n",
    "Description : Check size of dataset\n",
    "'''\n",
    "print(\"shape of x_train: \", X_train.shape)\n",
    "print(\"shape of y_train: \", y_train.shape)\n",
    "print(\"shape of x_test: \", X_test.shape)\n",
    "print(\"shape of y_test: \", y_test.shape)"
   ]
  },
  {
   "cell_type": "code",
   "execution_count": 36,
   "id": "9b562be8",
   "metadata": {
    "pycharm": {
     "name": "#%%\n"
    }
   },
   "outputs": [],
   "source": [
    "scaler = MinMaxScaler()\n",
    "x_train = scaler.fit_transform(X_train)\n",
    "x_test = scaler.transform(X_test)"
   ]
  },
  {
   "cell_type": "markdown",
   "id": "417ad200",
   "metadata": {
    "pycharm": {
     "name": "#%% md\n"
    }
   },
   "source": [
    "### 3.0 Model Development and Training"
   ]
  },
  {
   "cell_type": "code",
   "execution_count": 37,
   "id": "fe7fbf4b",
   "metadata": {
    "pycharm": {
     "name": "#%%\n"
    }
   },
   "outputs": [],
   "source": [
    "def make_directory(directory):\n",
    "    \"\"\"\n",
    "    create directory\n",
    "\n",
    "    Parameters\n",
    "    ----------\n",
    "    directorys : list containing the directorys path to create \n",
    "    Returns\n",
    "    -------\n",
    "    None.\n",
    "\n",
    "    \"\"\"\n",
    "    for d in directory:\n",
    "        if os.path.isdir(d):\n",
    "            print(\"directory {} already exist\".format(d))\n",
    "        if os.path.isdir(d)==False:\n",
    "            os.mkdir(path=d)\n",
    "            print(\"directory {} created successfully\".format(d))"
   ]
  },
  {
   "cell_type": "code",
   "execution_count": 38,
   "id": "afe9e32b",
   "metadata": {
    "pycharm": {
     "name": "#%%\n"
    }
   },
   "outputs": [],
   "source": [
    "def delete_directory(directorys):\n",
    "    \"\"\"\n",
    "    delete directory \n",
    "\n",
    "    Parameters\n",
    "    ----------\n",
    "    directorys : list containing the directorys to deleate along with all the files\n",
    "\n",
    "    Returns\n",
    "    -------\n",
    "    None.\n",
    "\n",
    "    \"\"\"\n",
    "    if len(directorys)>=1:\n",
    "        for d in directorys:\n",
    "            if os.path.isdir(d):\n",
    "                try:\n",
    "                    if os.path.isfile(d):\n",
    "                        os.remove(path=d)\n",
    "                    else:\n",
    "                        shutil.rmtree(path=d)\n",
    "                        print(\"Removed: {}\".format(d))\n",
    "                except:\n",
    "                    print(\"Failed to removed: {}\".format(d))\n",
    "                "
   ]
  },
  {
   "cell_type": "code",
   "execution_count": 39,
   "id": "e5a38a04",
   "metadata": {
    "pycharm": {
     "name": "#%%\n"
    }
   },
   "outputs": [],
   "source": [
    "def make_archive(base_name,root_dir,zip_format='zip'):\n",
    "    \"\"\"\n",
    "    created zip for given folder\n",
    "\n",
    "    Parameters\n",
    "    ----------\n",
    "    base_name : name of zip file\n",
    "    root_dir : directory to archive/zip\n",
    "    zip_format : zip or tar \n",
    "        DESCRIPTION. The default is 'zip'.\n",
    "\n",
    "    Returns\n",
    "    -------\n",
    "    None.\n",
    "\n",
    "    \"\"\"\n",
    "    shutil.make_archive(base_name=base_name, format=zip_format, root_dir=root_dir)\n",
    "    "
   ]
  },
  {
   "cell_type": "code",
   "execution_count": 86,
   "id": "aa0e8e06",
   "metadata": {
    "pycharm": {
     "name": "#%%\n"
    }
   },
   "outputs": [
    {
     "data": {
      "text/plain": [
       "'Description : Create data, model and label folder'"
      ]
     },
     "execution_count": 86,
     "metadata": {},
     "output_type": "execute_result"
    }
   ],
   "source": [
    "\"Description : Create data, model and label folder\"\n",
    "data_path=os.path.join(os.getcwd(),\"data\")\n",
    "model_path=os.path.join(os.getcwd(),\"model\")\n",
    "minmax_path=os.path.join(os.getcwd(),\"minmax\")\n",
    "zip_path=os.path.join(os.getcwd(),\"zip\")\n",
    "pyc_model_path=os.path.join(os.getcwd(),\"pycmodel\")\n",
    "report_path = os.path.join(os.getcwd(), \"reports\")\n",
    "#deleting folder\n",
    "delete_directory(directorys=[data_path,model_path,minmax_path,zip_path,pyc_model_path,report_path])\n",
    "\n",
    "#creating folder\n",
    "make_directory([data_path,model_path,minmax_path,zip_path,pyc_model_path,report_path])"
   ]
  },
  {
   "cell_type": "code",
   "execution_count": 41,
   "id": "05bd6589",
   "metadata": {
    "pycharm": {
     "name": "#%%\n"
    }
   },
   "outputs": [],
   "source": [
    "def model():\n",
    "    XG = XGBClassifier()\n",
    "    return XG"
   ]
  },
  {
   "cell_type": "code",
   "execution_count": 42,
   "id": "b8117e72",
   "metadata": {
    "pycharm": {
     "name": "#%%\n"
    }
   },
   "outputs": [
    {
     "name": "stdout",
     "output_type": "stream",
     "text": [
      "XGBClassifier(base_score=None, booster=None, callbacks=None,\n",
      "              colsample_bylevel=None, colsample_bynode=None,\n",
      "              colsample_bytree=None, early_stopping_rounds=None,\n",
      "              enable_categorical=False, eval_metric=None, gamma=None,\n",
      "              gpu_id=None, grow_policy=None, importance_type=None,\n",
      "              interaction_constraints=None, learning_rate=None, max_bin=None,\n",
      "              max_cat_to_onehot=None, max_delta_step=None, max_depth=None,\n",
      "              max_leaves=None, min_child_weight=None, missing=nan,\n",
      "              monotone_constraints=None, n_estimators=100, n_jobs=None,\n",
      "              num_parallel_tree=None, predictor=None, random_state=None,\n",
      "              reg_alpha=None, reg_lambda=None, ...)\n"
     ]
    }
   ],
   "source": [
    "\"\"\"\n",
    "Description : Create architecture of the model\n",
    "\"\"\"\n",
    "model=model()\n",
    "print(model)"
   ]
  },
  {
   "cell_type": "code",
   "execution_count": 43,
   "id": "4c087b2e",
   "metadata": {
    "pycharm": {
     "name": "#%%\n"
    }
   },
   "outputs": [
    {
     "data": {
      "text/html": [
       "<style>#sk-container-id-2 {color: black;background-color: white;}#sk-container-id-2 pre{padding: 0;}#sk-container-id-2 div.sk-toggleable {background-color: white;}#sk-container-id-2 label.sk-toggleable__label {cursor: pointer;display: block;width: 100%;margin-bottom: 0;padding: 0.3em;box-sizing: border-box;text-align: center;}#sk-container-id-2 label.sk-toggleable__label-arrow:before {content: \"▸\";float: left;margin-right: 0.25em;color: #696969;}#sk-container-id-2 label.sk-toggleable__label-arrow:hover:before {color: black;}#sk-container-id-2 div.sk-estimator:hover label.sk-toggleable__label-arrow:before {color: black;}#sk-container-id-2 div.sk-toggleable__content {max-height: 0;max-width: 0;overflow: hidden;text-align: left;background-color: #f0f8ff;}#sk-container-id-2 div.sk-toggleable__content pre {margin: 0.2em;color: black;border-radius: 0.25em;background-color: #f0f8ff;}#sk-container-id-2 input.sk-toggleable__control:checked~div.sk-toggleable__content {max-height: 200px;max-width: 100%;overflow: auto;}#sk-container-id-2 input.sk-toggleable__control:checked~label.sk-toggleable__label-arrow:before {content: \"▾\";}#sk-container-id-2 div.sk-estimator input.sk-toggleable__control:checked~label.sk-toggleable__label {background-color: #d4ebff;}#sk-container-id-2 div.sk-label input.sk-toggleable__control:checked~label.sk-toggleable__label {background-color: #d4ebff;}#sk-container-id-2 input.sk-hidden--visually {border: 0;clip: rect(1px 1px 1px 1px);clip: rect(1px, 1px, 1px, 1px);height: 1px;margin: -1px;overflow: hidden;padding: 0;position: absolute;width: 1px;}#sk-container-id-2 div.sk-estimator {font-family: monospace;background-color: #f0f8ff;border: 1px dotted black;border-radius: 0.25em;box-sizing: border-box;margin-bottom: 0.5em;}#sk-container-id-2 div.sk-estimator:hover {background-color: #d4ebff;}#sk-container-id-2 div.sk-parallel-item::after {content: \"\";width: 100%;border-bottom: 1px solid gray;flex-grow: 1;}#sk-container-id-2 div.sk-label:hover label.sk-toggleable__label {background-color: #d4ebff;}#sk-container-id-2 div.sk-serial::before {content: \"\";position: absolute;border-left: 1px solid gray;box-sizing: border-box;top: 0;bottom: 0;left: 50%;z-index: 0;}#sk-container-id-2 div.sk-serial {display: flex;flex-direction: column;align-items: center;background-color: white;padding-right: 0.2em;padding-left: 0.2em;position: relative;}#sk-container-id-2 div.sk-item {position: relative;z-index: 1;}#sk-container-id-2 div.sk-parallel {display: flex;align-items: stretch;justify-content: center;background-color: white;position: relative;}#sk-container-id-2 div.sk-item::before, #sk-container-id-2 div.sk-parallel-item::before {content: \"\";position: absolute;border-left: 1px solid gray;box-sizing: border-box;top: 0;bottom: 0;left: 50%;z-index: -1;}#sk-container-id-2 div.sk-parallel-item {display: flex;flex-direction: column;z-index: 1;position: relative;background-color: white;}#sk-container-id-2 div.sk-parallel-item:first-child::after {align-self: flex-end;width: 50%;}#sk-container-id-2 div.sk-parallel-item:last-child::after {align-self: flex-start;width: 50%;}#sk-container-id-2 div.sk-parallel-item:only-child::after {width: 0;}#sk-container-id-2 div.sk-dashed-wrapped {border: 1px dashed gray;margin: 0 0.4em 0.5em 0.4em;box-sizing: border-box;padding-bottom: 0.4em;background-color: white;}#sk-container-id-2 div.sk-label label {font-family: monospace;font-weight: bold;display: inline-block;line-height: 1.2em;}#sk-container-id-2 div.sk-label-container {text-align: center;}#sk-container-id-2 div.sk-container {/* jupyter's `normalize.less` sets `[hidden] { display: none; }` but bootstrap.min.css set `[hidden] { display: none !important; }` so we also need the `!important` here to be able to override the default hidden behavior on the sphinx rendered scikit-learn.org. See: https://github.com/scikit-learn/scikit-learn/issues/21755 */display: inline-block !important;position: relative;}#sk-container-id-2 div.sk-text-repr-fallback {display: none;}</style><div id=\"sk-container-id-2\" class=\"sk-top-container\"><div class=\"sk-text-repr-fallback\"><pre>XGBClassifier(base_score=0.5, booster=&#x27;gbtree&#x27;, callbacks=None,\n",
       "              colsample_bylevel=1, colsample_bynode=1, colsample_bytree=1,\n",
       "              early_stopping_rounds=None, enable_categorical=False,\n",
       "              eval_metric=None, gamma=0, gpu_id=-1, grow_policy=&#x27;depthwise&#x27;,\n",
       "              importance_type=None, interaction_constraints=&#x27;&#x27;,\n",
       "              learning_rate=0.300000012, max_bin=256, max_cat_to_onehot=4,\n",
       "              max_delta_step=0, max_depth=6, max_leaves=0, min_child_weight=1,\n",
       "              missing=nan, monotone_constraints=&#x27;()&#x27;, n_estimators=100,\n",
       "              n_jobs=0, num_parallel_tree=1, predictor=&#x27;auto&#x27;, random_state=0,\n",
       "              reg_alpha=0, reg_lambda=1, ...)</pre><b>In a Jupyter environment, please rerun this cell to show the HTML representation or trust the notebook. <br />On GitHub, the HTML representation is unable to render, please try loading this page with nbviewer.org.</b></div><div class=\"sk-container\" hidden><div class=\"sk-item\"><div class=\"sk-estimator sk-toggleable\"><input class=\"sk-toggleable__control sk-hidden--visually\" id=\"sk-estimator-id-2\" type=\"checkbox\" checked><label for=\"sk-estimator-id-2\" class=\"sk-toggleable__label sk-toggleable__label-arrow\">XGBClassifier</label><div class=\"sk-toggleable__content\"><pre>XGBClassifier(base_score=0.5, booster=&#x27;gbtree&#x27;, callbacks=None,\n",
       "              colsample_bylevel=1, colsample_bynode=1, colsample_bytree=1,\n",
       "              early_stopping_rounds=None, enable_categorical=False,\n",
       "              eval_metric=None, gamma=0, gpu_id=-1, grow_policy=&#x27;depthwise&#x27;,\n",
       "              importance_type=None, interaction_constraints=&#x27;&#x27;,\n",
       "              learning_rate=0.300000012, max_bin=256, max_cat_to_onehot=4,\n",
       "              max_delta_step=0, max_depth=6, max_leaves=0, min_child_weight=1,\n",
       "              missing=nan, monotone_constraints=&#x27;()&#x27;, n_estimators=100,\n",
       "              n_jobs=0, num_parallel_tree=1, predictor=&#x27;auto&#x27;, random_state=0,\n",
       "              reg_alpha=0, reg_lambda=1, ...)</pre></div></div></div></div></div>"
      ],
      "text/plain": [
       "XGBClassifier(base_score=0.5, booster='gbtree', callbacks=None,\n",
       "              colsample_bylevel=1, colsample_bynode=1, colsample_bytree=1,\n",
       "              early_stopping_rounds=None, enable_categorical=False,\n",
       "              eval_metric=None, gamma=0, gpu_id=-1, grow_policy='depthwise',\n",
       "              importance_type=None, interaction_constraints='',\n",
       "              learning_rate=0.300000012, max_bin=256, max_cat_to_onehot=4,\n",
       "              max_delta_step=0, max_depth=6, max_leaves=0, min_child_weight=1,\n",
       "              missing=nan, monotone_constraints='()', n_estimators=100,\n",
       "              n_jobs=0, num_parallel_tree=1, predictor='auto', random_state=0,\n",
       "              reg_alpha=0, reg_lambda=1, ...)"
      ]
     },
     "execution_count": 43,
     "metadata": {},
     "output_type": "execute_result"
    }
   ],
   "source": [
    "\"\"\"\n",
    "Description: Trainig the model \n",
    "\"\"\"\n",
    "\n",
    "model.fit(x_train,y_train)"
   ]
  },
  {
   "cell_type": "code",
   "execution_count": 44,
   "id": "75c976ba",
   "metadata": {
    "pycharm": {
     "name": "#%%\n"
    }
   },
   "outputs": [],
   "source": [
    "\"\"\"\n",
    "Saving the model under model directory\n",
    "\"\"\"\n",
    "modelname = \"xgboost_evasion.pkl\"\n",
    "pickle.dump(model, open(model_path+\"/\"+modelname, 'wb'))"
   ]
  },
  {
   "cell_type": "code",
   "execution_count": 45,
   "id": "2545c618",
   "metadata": {
    "pycharm": {
     "name": "#%%\n"
    }
   },
   "outputs": [],
   "source": [
    "\"\"\"\n",
    "Description: Get prediction on validation data\n",
    "\"\"\"\n",
    "pred=model.predict(x_test)"
   ]
  },
  {
   "cell_type": "code",
   "execution_count": 46,
   "id": "48a206c1",
   "metadata": {
    "pycharm": {
     "name": "#%%\n"
    }
   },
   "outputs": [
    {
     "name": "stdout",
     "output_type": "stream",
     "text": [
      "Accuracy score of the model is 0.9159949499854326\n",
      "F1 score of the model is 0.601932811780948\n",
      "Confusion Matrix \n",
      " [[8778  354]\n",
      " [ 511  654]]\n",
      "Classification Report \n",
      "               precision    recall  f1-score   support\n",
      "\n",
      "           0       0.94      0.96      0.95      9132\n",
      "           1       0.65      0.56      0.60      1165\n",
      "\n",
      "    accuracy                           0.92     10297\n",
      "   macro avg       0.80      0.76      0.78     10297\n",
      "weighted avg       0.91      0.92      0.91     10297\n",
      "\n"
     ]
    }
   ],
   "source": [
    "print('Accuracy score of the model is {}'.format(accuracy_score(y_test, pred)))\n",
    "print('F1 score of the model is {}'.format(f1_score(y_test, pred)))\n",
    "print('Confusion Matrix \\n {}'.format(confusion_matrix(y_test, pred)))\n",
    "print('Classification Report \\n {}'.format(classification_report(y_test, pred)))"
   ]
  },
  {
   "cell_type": "markdown",
   "id": "430c5d27",
   "metadata": {
    "pycharm": {
     "name": "#%% md\n"
    }
   },
   "source": [
    "### 4.0 Prepare Data , Model and MinMax"
   ]
  },
  {
   "cell_type": "code",
   "execution_count": 47,
   "id": "ed96479c",
   "metadata": {
    "pycharm": {
     "name": "#%%\n"
    }
   },
   "outputs": [],
   "source": [
    "\"\"\"\n",
    "Description: Zip data\n",
    "\"\"\"\n",
    "x = np.concatenate((x_train, x_test))\n",
    "y = np.concatenate((y_train, y_test))\n",
    "number_of_sample = 100\n",
    "\n",
    "\n",
    "final_df = pd.DataFrame(list(x),columns=df.columns[:-1])\n",
    "final_df[output] = y\n",
    "final_df[:number_of_sample].to_csv(os.path.join(data_path,\"banking_evasion.csv\"),index=False)\n",
    "make_archive(base_name=os.path.join(zip_path,\"data\"),root_dir=data_path,zip_format='zip')"
   ]
  },
  {
   "cell_type": "code",
   "execution_count": 48,
   "id": "4d389846",
   "metadata": {
    "pycharm": {
     "name": "#%%\n"
    }
   },
   "outputs": [],
   "source": [
    "\"\"\"Prepare MinMax\"\"\"\n",
    "\n",
    "min_values = final_df.min().to_numpy()\n",
    "max_values = final_df.max().to_numpy()\n",
    "x= np.array([min_values,max_values])\n",
    "df_m = pd.DataFrame(x,columns=final_df.columns)\n",
    "df_m.to_csv(minmax_path+\"/minmax.csv\",index=False)"
   ]
  },
  {
   "cell_type": "code",
   "execution_count": 49,
   "id": "d4221f4c",
   "metadata": {
    "pycharm": {
     "name": "#%%\n"
    }
   },
   "outputs": [],
   "source": [
    "\"\"\"\n",
    "Description: Zip Minmax\n",
    "\"\"\"\n",
    "make_archive(base_name=os.path.join(zip_path,\"minmax\"),root_dir=minmax_path,zip_format='zip')"
   ]
  },
  {
   "cell_type": "code",
   "execution_count": 50,
   "id": "349c53ec",
   "metadata": {
    "pycharm": {
     "name": "#%%\n"
    }
   },
   "outputs": [],
   "source": [
    "\"\"\"\n",
    "Description: Create encrypted Model\n",
    "\"\"\"\n",
    "def create_model_pyc(model, model_framework,pyc_model_path):\n",
    "    \n",
    "    if model_framework.lower() == \"scikit-learn\":\n",
    "\n",
    "        python_code ='''\n",
    "#importing libraries\n",
    "import pickle\n",
    "import zipfile\n",
    "import os\n",
    "\n",
    "\"\"\"\n",
    "    class for base model\n",
    "\"\"\"\n",
    "#define class\n",
    "class BaseModel():\n",
    "    def __init__(self,model_path=\"\"):\n",
    "\n",
    "        \"\"\"\n",
    "        constructor for class\n",
    "\n",
    "        Parameters\n",
    "        ----------\n",
    "        input_shape : TYPE, optional\n",
    "            DESCRIPTION. The default is (100,1).\n",
    "        Returns\n",
    "        -------\n",
    "        None.\n",
    "\n",
    "        \"\"\"\n",
    "        self.model_path = model_path\n",
    "        \n",
    "    def load_protected_pickleModel(self,filename,password,picklemodelname):\n",
    "      \n",
    "\n",
    "        \"\"\"\n",
    "        model architecture\n",
    "\n",
    "        Parameters\n",
    "        ----------\n",
    "        filename : string\n",
    "            DESCRIPTION.zipped protected filename\n",
    "            \n",
    "        password : String\n",
    "            DESCRIPTION.zipped file password\n",
    "        \n",
    "        picklemodelname  :String\n",
    "            DESCRIPTION.pickle file name present in a ziiped protected\n",
    "            \n",
    "        Returns\n",
    "        -------\n",
    "        model : model\n",
    "            DESCRIPTION.\n",
    "\n",
    "        \"\"\"\n",
    "        filepath = os.path.join(self.model_path,filename)\n",
    "        #print(filepath)\n",
    "        #print(filename)\n",
    "        with zipfile.ZipFile(filepath, 'r') as file:\n",
    "            with file.open(picklemodelname,'r',pwd = bytes(password, 'utf-8')) as f:\n",
    "                pck = pickle.load(f)\n",
    "        return pck\n",
    "    \n",
    "    def predict(self,X):\n",
    "\n",
    "        \"\"\"\n",
    "        predict for given data\n",
    "\n",
    "        Parameters\n",
    "        ----------\n",
    "        X : numpy array \n",
    "            DESCRIPTION.\n",
    "\n",
    "        Returns\n",
    "        -------\n",
    "        pred : numpy array\n",
    "            DESCRIPTION.\n",
    "\n",
    "        \"\"\"\n",
    "        filename = \"modelencrypt.zip\"\n",
    "        password = \"987654321\"\n",
    "        picklemodelname = \"xgboost_evasion.pkl\"\n",
    "        model = self.load_protected_pickleModel(filename=filename,password=password,picklemodelname=picklemodelname)\n",
    "        pred = model.predict(X)\n",
    "        return pred'''\n",
    "        # Writing to file\n",
    "        with open(\"base_model.py\", \"w\") as file:\n",
    "            # Writing data to a file\n",
    "            file.writelines(python_code)\n",
    "         \n",
    "        \"\"\"\n",
    "        Description: function to create .pyc file\n",
    "        \"\"\"\n",
    "        py_compile.compile(file=\"base_model.py\",cfile=pyc_model_path+'/base_model.pyc')\n",
    "        \n",
    "        \"\"\"\n",
    "        Description: function to create zipped password protected pickle model file\n",
    "        \"\"\"\n",
    "\n",
    "        def zip_model(input_path,output_path,password,com_lvl=5):\n",
    "            pyminizip.compress(input_path, None, output_path,\n",
    "                               password, com_lvl)\n",
    "            \n",
    "        zip_model(input_path =os.path.join(model_path,modelname),output_path = pyc_model_path+\"/modelencrypt.zip\" ,password = \"987654321\",com_lvl=5)\n",
    "            "
   ]
  },
  {
   "cell_type": "code",
   "execution_count": 51,
   "id": "19d523e6",
   "metadata": {
    "pycharm": {
     "name": "#%%\n"
    }
   },
   "outputs": [],
   "source": [
    "\"\"\"\n",
    "Description: Creating encrypted Model\n",
    "\"\"\"\n",
    "\n",
    "input_dimension = (number_of_sample,final_df.shape[1]-1)\n",
    "number_of_classes = 2\n",
    "model_framework = \"scikit-learn\"\n",
    "model_encryption = 0 #0 for non encrypted file and 1 for encrypted (pyc) \n",
    "create_model_pyc(model,model_framework, pyc_model_path)"
   ]
  },
  {
   "cell_type": "code",
   "execution_count": 52,
   "id": "02b3afa3",
   "metadata": {
    "pycharm": {
     "name": "#%%\n"
    }
   },
   "outputs": [],
   "source": [
    "\"\"\"\n",
    "Description: Zip model\n",
    "\"\"\"\n",
    " # model_encryption 0 if model is uploaded directly as a zip, model_encryption 1 if model is encryted as .pyc and uploaded as a zip\n",
    "if os.path.isfile(os.path.join(zip_path,\"model.zip\")):\n",
    "    delete_directory(directorys=[os.path.join(zip_path,\"model.zip\")])\n",
    "if model_encryption:\n",
    "    make_archive(base_name=os.path.join(zip_path,\"bfsi_pyc_model\"),root_dir=pyc_model_path,zip_format='zip')\n",
    "else:\n",
    "    make_archive(base_name=os.path.join(zip_path,\"model\"),root_dir=model_path,zip_format='zip')"
   ]
  },
  {
   "cell_type": "markdown",
   "id": "141de4ad",
   "metadata": {
    "pycharm": {
     "name": "#%% md\n"
    }
   },
   "source": [
    "### 5.0 AIShield API Call\n"
   ]
  },
  {
   "cell_type": "code",
   "execution_count": 53,
   "id": "4ab4c935",
   "metadata": {
    "pycharm": {
     "name": "#%%\n"
    }
   },
   "outputs": [],
   "source": [
    "\"\"\"\n",
    "Description: AIShield API call\n",
    "\"\"\"\n",
    "\n",
    "baseurl=\"xxxxxxxxxxxxxxxxxxxxxxxxxxxxxxxxxxxxxxxxxxxxxxxxxx\" # fill in API endpoint url from AIShield developer portal under API tab \n",
    "url=baseurl+\"/api/ais/v1.5\"\n",
    "api_key = \"xxxxxxxxxxxxxxxxxxxxxxxxxxxx\"\n",
    "org_id = 'xxxxxxxxxxxxxxxxxxxxxxxxxxxxxxxxxxxxxxxxxxxxxxxxxxxxxxxxxxxx'\n",
    " "
   ]
  },
  {
   "cell_type": "markdown",
   "id": "3460ca90",
   "metadata": {
    "pycharm": {
     "name": "#%% md\n"
    }
   },
   "source": [
    "#### 5.1 Perform Vulnerability Analysis through VulConfig Function\n"
   ]
  },
  {
   "cell_type": "code",
   "execution_count": 54,
   "id": "d3297de5",
   "metadata": {
    "pycharm": {
     "name": "#%%\n"
    }
   },
   "outputs": [],
   "source": [
    "\"\"\"\n",
    "Description: Files path\n",
    "\"\"\"\n",
    "data_path=os.path.join(zip_path,'data.zip')  # full path of data zip\n",
    "label_path=os.path.join(zip_path,'minmax.zip') # full path of label zip\n",
    "# model_path=os.path.join(zip_path,'bfsi_pyc_model.zip') # uncomment if model_encryption = 1 (pyc)\n",
    "model_path=os.path.join(zip_path,'model.zip') # uncomment if model_encryption = 0 (unencrypted)"
   ]
  },
  {
   "cell_type": "code",
   "execution_count": 55,
   "id": "0b218a84",
   "metadata": {
    "pycharm": {
     "name": "#%%\n"
    }
   },
   "outputs": [],
   "source": [
    "\"\"\"\n",
    "Description: Initialize the AIShield API\n",
    "\"\"\"\n",
    "client = ais.AIShieldApi(api_url=url, api_key=api_key, org_id=org_id)"
   ]
  },
  {
   "cell_type": "code",
   "execution_count": 61,
   "id": "d424a0e0",
   "metadata": {
    "pycharm": {
     "name": "#%%\n"
    }
   },
   "outputs": [],
   "source": [
    "\"\"\"\n",
    "Description: Define the task and analysis type\n",
    "\"\"\"\n",
    "task_type = ais.get_type(\"task\", \"tabular_classification\")\n",
    "analysis_type = ais.get_type(\"analysis\", \"evasion\")"
   ]
  },
  {
   "cell_type": "code",
   "execution_count": 66,
   "id": "1db66e58",
   "metadata": {
    "pycharm": {
     "name": "#%%\n"
    }
   },
   "outputs": [
    {
     "name": "stdout",
     "output_type": "stream",
     "text": [
      "Upload status: data file upload successful, minmax file upload successful, model file upload successful\n"
     ]
    }
   ],
   "source": [
    "\"\"\"\n",
    "Description: Perform model registration and upload the input artifacts\n",
    "\"\"\"\n",
    "status, job_details = client.register_model(task_type=task_type, analysis_type=analysis_type)\n",
    "model_id = job_details.model_id\n",
    "# print('Model id: {} \\nInput artifacts will be uploaded as:\\n data_upload_uri: {}\\n label_upload_uri: {}'\n",
    "#       '\\n model_upload_uri: {}'.format(model_id, job_details.data_upload_uri, job_details.label_upload_uri,\n",
    "#                                        job_details.model_upload_uri))\n",
    "\n",
    "upload_status = client.upload_input_artifacts(job_details=job_details,\n",
    "                                              data_path=data_path,\n",
    "                                              minmax_path=label_path,\n",
    "                                              model_path=model_path, )\n",
    "print('Upload status: {}'.format(', '.join(upload_status)))"
   ]
  },
  {
   "cell_type": "markdown",
   "id": "6fd7564f",
   "metadata": {
    "pycharm": {
     "name": "#%% md\n"
    }
   },
   "source": [
    "#### 5.2 Model Analysis\n"
   ]
  },
  {
   "cell_type": "code",
   "execution_count": 67,
   "id": "39d9f6cf",
   "metadata": {
    "pycharm": {
     "name": "#%%\n"
    }
   },
   "outputs": [
    {
     "name": "stdout",
     "output_type": "stream",
     "text": [
      "TC-Extraction parameters are: \n",
      " {'categorical_columns_info': 'job,marital,education,default,housing,loan,contact,poutcome', 'defense_bestonly': 'no', 'encryption_strategy': 0, 'input_dimensions': '(100, 18)', 'is_category_columns': 'yes', 'model_api_details': '', 'model_framework': 'scikit-learn', 'normalize_data': 'yes', 'number_of_classes': 2, 'use_model_api': 'no'} \n"
     ]
    }
   ],
   "source": [
    "\"\"\"\n",
    "Description: Specify the appropriate configs required for vulnerability analysis\n",
    "\"\"\"\n",
    "\n",
    "vuln_config = ais.VulnConfig(task_type=task_type,\n",
    "                             analysis_type=analysis_type,\n",
    "                             defense_generate=True)\n",
    "\n",
    "vuln_config.input_dimensions = input_dimension # input dimension of banking marketing dataset\n",
    "vuln_config.number_of_classes = number_of_classes  # number of classes of banking marketing dataset\n",
    "vuln_config.is_category_columns = \"yes\"  # if cetgorical columns are present\n",
    "vuln_config.categorical_columns_info = [\"job\",\"marital\",\"education\",\"default\",\"housing\",\"loan\",\"contact\",\"poutcome\"]  # name of categorical columns\n",
    "vuln_config.encryption_strategy = model_encryption  # value 0 (or) 1, if model is unencrypted or encrypted(pyc) respectively\n",
    "\n",
    "\n",
    "print('TC-Extraction parameters are: \\n {} '.format(vuln_config.get_all_params()))"
   ]
  },
  {
   "cell_type": "code",
   "execution_count": 85,
   "id": "5c0a2a35",
   "metadata": {
    "pycharm": {
     "name": "#%%\n"
    }
   },
   "outputs": [
    {
     "name": "stdout",
     "output_type": "stream",
     "text": [
      "status: success \n",
      "Job_id: xxxxxxxxxxxxxxxxxxxxxxxxxxxxxxxxxxxxxxxxxxxxxxxxxxxx \n"
     ]
    }
   ],
   "source": [
    "\"\"\"\n",
    "Description: Run vulnerability analysis\n",
    "\"\"\"\n",
    "my_status, job_details = client.vuln_analysis(model_id=model_id, vuln_config=vuln_config)\n",
    "my_job_id = job_details.job_id\n",
    "print('status: {} \\nJob_id: {} '.format(my_status, my_job_id))\n"
   ]
  },
  {
   "cell_type": "code",
   "execution_count": 83,
   "id": "2f8bca22",
   "metadata": {
    "pycharm": {
     "name": "#%%\n"
    }
   },
   "outputs": [
    {
     "data": {
      "text/plain": [
       "'\\nDescription: Monitor progress for given Job ID using the Link below\\n'"
      ]
     },
     "execution_count": 83,
     "metadata": {},
     "output_type": "execute_result"
    }
   ],
   "source": [
    "\"\"\"\n",
    "Description: Monitor progress for given Job ID using the Link below\n",
    "\"\"\"\n",
    "print('Click on the URL to view Vulnerability Dashboard (GUI): {}'.format(job_details.job_monitor_uri))"
   ]
  },
  {
   "cell_type": "code",
   "execution_count": 71,
   "id": "755c6bd6",
   "metadata": {
    "pycharm": {
     "name": "#%%\n"
    }
   },
   "outputs": [
    {
     "name": "stderr",
     "output_type": "stream",
     "text": [
      "2023-03-30 13:58:20,608 - INFO - Fetching job details for job id gAAAAABkJUgc3u_2lJiDYowUHLf4u_ciMcvaUghUJv1gON4R0c-xXid60uxSta8DjE4Xjnm9Y_Q1zteKY4MO-Nr8QsjuLwqUCA==\n",
      "2023-03-30 13:58:26,179 - INFO - ModelExploration_Status:inprogress\n"
     ]
    },
    {
     "name": "stdout",
     "output_type": "stream",
     "text": [
      "running...\r"
     ]
    },
    {
     "name": "stderr",
     "output_type": "stream",
     "text": [
      "2023-03-30 13:58:37,766 - INFO - ModelExploration_Status:completed\n",
      "2023-03-30 13:58:37,766 - INFO - SanityCheck_Status:passed\n"
     ]
    },
    {
     "name": "stdout",
     "output_type": "stream",
     "text": [
      "running...\r",
      "running...\r"
     ]
    },
    {
     "name": "stderr",
     "output_type": "stream",
     "text": [
      "2023-03-30 14:02:22,060 - INFO - EvasionAnalysis_Status:inprogress\n"
     ]
    },
    {
     "name": "stdout",
     "output_type": "stream",
     "text": [
      "running...\r"
     ]
    },
    {
     "name": "stderr",
     "output_type": "stream",
     "text": [
      "2023-03-30 14:11:02,951 - INFO - EvasionAnalysis_Status:completed\n",
      "2023-03-30 14:11:02,953 - INFO - DefenseReport_Status:inprogress\n"
     ]
    },
    {
     "name": "stdout",
     "output_type": "stream",
     "text": [
      "running...\r",
      "running...\r"
     ]
    },
    {
     "name": "stderr",
     "output_type": "stream",
     "text": [
      "2023-03-30 14:12:43,919 - INFO - DefenseReport_Status:completed\n",
      "2023-03-30 14:12:43,920 - INFO - Analysis completed for job id gAAAAABkJUgc3u_2lJiDYowUHLf4u_ciMcvaUghUJv1gON4R0c-xXid60uxSta8DjE4Xjnm9Y_Q1zteKY4MO-Nr8QsjuLwqUCA==\n"
     ]
    },
    {
     "name": "stdout",
     "output_type": "stream",
     "text": [
      "running...\r",
      "job run completed\n",
      "job status  success\n"
     ]
    }
   ],
   "source": [
    "\"\"\"\n",
    "Description: Fetch Job status using Job ID\n",
    "\"\"\"\n",
    "my_status = client.job_status (job_id = my_job_id)\n",
    "print('job status ', my_status)"
   ]
  },
  {
   "cell_type": "markdown",
   "id": "0d7daaec",
   "metadata": {
    "pycharm": {
     "name": "#%% md\n"
    }
   },
   "source": [
    "### Saving the Artifacts and the Reports\n"
   ]
  },
  {
   "cell_type": "code",
   "execution_count": 73,
   "id": "721cc0a0",
   "metadata": {
    "pycharm": {
     "name": "#%%\n"
    }
   },
   "outputs": [
    {
     "data": {
      "text/plain": [
       "'\\nDescription: Creating a directory to save the defense artifacts\\n'"
      ]
     },
     "execution_count": 73,
     "metadata": {},
     "output_type": "execute_result"
    }
   ],
   "source": [
    "\"\"\"\n",
    "Description: Creating a directory to save the defense artifacts\n",
    "\"\"\"\n",
    "OUTPUT_PATH = os.path.join(os.getcwd(),\"Output_Artifacts\")\n",
    "make_directory([OUTPUT_PATH])"
   ]
  },
  {
   "cell_type": "code",
   "execution_count": 75,
   "id": "23da5a29",
   "metadata": {
    "pycharm": {
     "name": "#%%\n"
    }
   },
   "outputs": [
    {
     "data": {
      "text/plain": [
       "'\\nDescription: Download the Vulnerability Report\\n'"
      ]
     },
     "execution_count": 75,
     "metadata": {},
     "output_type": "execute_result"
    }
   ],
   "source": [
    "\"\"\"\n",
    "Description: Download the Vulnerability Report\n",
    "\"\"\"\n",
    "if my_status == \"success\":\n",
    "    output_conf = ais.OutputConf(report_type=ais.get_type(\"report\", \"vulnerability\"),\n",
    "                                 file_format=ais.get_type(\"file_format\", \"pdf\"),\n",
    "                                 save_folder_path=OUTPUT_PATH)\n",
    "        \n",
    "    my_report = client.save_job_report(job_id=my_job_id, output_config=output_conf)"
   ]
  },
  {
   "cell_type": "code",
   "execution_count": 77,
   "id": "b3ebc785",
   "metadata": {
    "pycharm": {
     "name": "#%%\n"
    }
   },
   "outputs": [
    {
     "data": {
      "text/plain": [
       "'\\nDescription: Download the Defense Reports\\n'"
      ]
     },
     "execution_count": 77,
     "metadata": {},
     "output_type": "execute_result"
    }
   ],
   "source": [
    "\"\"\"\n",
    "Description: Download the Defense Reports\n",
    "\"\"\"\n",
    "if my_status == \"success\":\n",
    "    output_conf = ais.OutputConf(report_type=ais.get_type(\"report\", \"defense\"),\n",
    "                                 file_format=ais.get_type(\"file_format\", \"pdf\"),\n",
    "                                 save_folder_path=OUTPUT_PATH)\n",
    "        \n",
    "    my_report = client.save_job_report(job_id=my_job_id, output_config=output_conf)"
   ]
  },
  {
   "cell_type": "code",
   "execution_count": 80,
   "id": "7c863e6f",
   "metadata": {
    "pycharm": {
     "name": "#%%\n"
    }
   },
   "outputs": [
    {
     "data": {
      "text/plain": [
       "'\\nDescription: Download the Defense artifacts: Model\\n'"
      ]
     },
     "execution_count": 80,
     "metadata": {},
     "output_type": "execute_result"
    }
   ],
   "source": [
    "\"\"\"\n",
    "Description: Download the Defense artifacts: Model\n",
    "\"\"\"\n",
    "if my_status == \"success\":\n",
    "    output_conf = ais.OutputConf(report_type=ais.get_type(\"report\", \"defense_artifact\"),\n",
    "                                 file_format=ais.get_type(\"file_format\", \"pdf\"),\n",
    "                                 save_folder_path=OUTPUT_PATH)\n",
    "        \n",
    "    my_report = client.save_job_report(job_id=my_job_id, output_config=output_conf)"
   ]
  },
  {
   "cell_type": "code",
   "execution_count": 82,
   "id": "c1c2c663",
   "metadata": {
    "pycharm": {
     "name": "#%%\n"
    }
   },
   "outputs": [
    {
     "data": {
      "text/plain": [
       "'\\nDescription: Download the Attack Samples\\n'"
      ]
     },
     "execution_count": 82,
     "metadata": {},
     "output_type": "execute_result"
    }
   ],
   "source": [
    "\"\"\"\n",
    "Description: Download the Attack Samples\n",
    "\"\"\"\n",
    "if my_status == \"success\":\n",
    "    output_conf = ais.OutputConf(report_type=ais.get_type(\"report\", \"attack_samples\"),\n",
    "                                 save_folder_path=OUTPUT_PATH)\n",
    "        \n",
    "    my_report = client.save_job_report(job_id=my_job_id, output_config=output_conf)"
   ]
  },
  {
   "cell_type": "code",
   "execution_count": 2,
   "id": "5e9c1f7b",
   "metadata": {
    "pycharm": {
     "name": "#%%\n"
    }
   },
   "outputs": [],
   "source": [
    "def zip_extractor(file, extract_path=None, delete_zip=False):\n",
    "    \"\"\"\n",
    "    extract zip file to the given path\n",
    "\n",
    "    Parameters\n",
    "    ----------\n",
    "    file : path of zip file\n",
    "    extract_path : path to extract zip file, default considered parent directory\n",
    "    delete_zip: True, delete zip file after unzipping it\n",
    "\n",
    "    Returns\n",
    "    -------\n",
    "    None.\n",
    "    \"\"\"\n",
    "    if extract_path is None:\n",
    "        extract_path = os.path.dirname(file)\n",
    "    print(\"Extracting : {}\".format(file))\n",
    "    zf = zipfile.ZipFile(file=file, mode='r')\n",
    "    zf.extractall(extract_path)\n",
    "    zf.close()\n",
    "    if delete_zip:\n",
    "        os.remove(file)\n",
    "        print(\"{} removed successfully.\".format(file))\n"
   ]
  },
  {
   "cell_type": "code",
   "execution_count": 9,
   "id": "c7c8607b",
   "metadata": {
    "pycharm": {
     "name": "#%%\n"
    }
   },
   "outputs": [
    {
     "data": {
      "text/plain": [
       "'\\nDescription: Extracting defense artifact\\n'"
      ]
     },
     "execution_count": 9,
     "metadata": {},
     "output_type": "execute_result"
    }
   ],
   "source": [
    "\"\"\"\n",
    "Description: Extracting defense artifact\n",
    "\"\"\"\n",
    "zip_extractor(file=os.path.join(report_path, 'Defense_artifact.zip'))"
   ]
  },
  {
   "cell_type": "code",
   "execution_count": 11,
   "id": "e409f5a3",
   "metadata": {
    "pycharm": {
     "name": "#%%\n"
    }
   },
   "outputs": [
    {
     "data": {
      "text/plain": [
       "'\\nDescription: Load defense model\\n'"
      ]
     },
     "execution_count": 11,
     "metadata": {},
     "output_type": "execute_result"
    }
   ],
   "source": [
    "\"\"\"\n",
    "Description: Load defense model\n",
    "\"\"\"\n",
    "defense_model_path = os.path.join(report_path, 'defense_model.pkl')\n",
    "defense_model = pickle.load(open(defense_model_path,'rb'))"
   ]
  },
  {
   "cell_type": "code",
   "execution_count": 10,
   "id": "76853a82",
   "metadata": {
    "pycharm": {
     "name": "#%%\n"
    }
   },
   "outputs": [
    {
     "data": {
      "text/plain": [
       "'\\nDescription: Extracting attack sample\\n'"
      ]
     },
     "execution_count": 10,
     "metadata": {},
     "output_type": "execute_result"
    }
   ],
   "source": [
    "\"\"\"\n",
    "Description: Extracting attack sample\n",
    "\"\"\"\n",
    "zip_extractor(file=os.path.join(report_path, 'Attack_samples.zip'))"
   ]
  },
  {
   "cell_type": "code",
   "execution_count": 5,
   "id": "657f20b6",
   "metadata": {
    "pycharm": {
     "name": "#%%\n"
    }
   },
   "outputs": [],
   "source": [
    "\"\"\"\n",
    "Description: attack_data visualization\n",
    "\"\"\"\n",
    "\n",
    "attack_data = pd.read_csv(os.path.join(report_path,\"attack_samples.csv\"))"
   ]
  },
  {
   "cell_type": "code",
   "execution_count": 6,
   "id": "2a56e306",
   "metadata": {
    "pycharm": {
     "name": "#%%\n"
    }
   },
   "outputs": [
    {
     "data": {
      "text/html": [
       "<div>\n",
       "<style scoped>\n",
       "    .dataframe tbody tr th:only-of-type {\n",
       "        vertical-align: middle;\n",
       "    }\n",
       "\n",
       "    .dataframe tbody tr th {\n",
       "        vertical-align: top;\n",
       "    }\n",
       "\n",
       "    .dataframe thead th {\n",
       "        text-align: right;\n",
       "    }\n",
       "</style>\n",
       "<table border=\"1\" class=\"dataframe\">\n",
       "  <thead>\n",
       "    <tr style=\"text-align: right;\">\n",
       "      <th></th>\n",
       "      <th>age</th>\n",
       "      <th>job</th>\n",
       "      <th>marital</th>\n",
       "      <th>education</th>\n",
       "      <th>default</th>\n",
       "      <th>housing</th>\n",
       "      <th>loan</th>\n",
       "      <th>contact</th>\n",
       "      <th>duration</th>\n",
       "      <th>campaign</th>\n",
       "      <th>pdays</th>\n",
       "      <th>previous</th>\n",
       "      <th>poutcome</th>\n",
       "      <th>emp.var.rate</th>\n",
       "      <th>cons.price.idx</th>\n",
       "      <th>cons.conf.idx</th>\n",
       "      <th>euribor3m</th>\n",
       "      <th>nr.employed</th>\n",
       "    </tr>\n",
       "  </thead>\n",
       "  <tbody>\n",
       "    <tr>\n",
       "      <th>0</th>\n",
       "      <td>0.093354</td>\n",
       "      <td>0.730612</td>\n",
       "      <td>0.653131</td>\n",
       "      <td>0.791850</td>\n",
       "      <td>0.0</td>\n",
       "      <td>0.990764</td>\n",
       "      <td>0.996411</td>\n",
       "      <td>0.992500</td>\n",
       "      <td>0.121563</td>\n",
       "      <td>0.000000</td>\n",
       "      <td>0.991511</td>\n",
       "      <td>0.000000</td>\n",
       "      <td>0.502935</td>\n",
       "      <td>0.480186</td>\n",
       "      <td>0.776534</td>\n",
       "      <td>0.550559</td>\n",
       "      <td>0.035653</td>\n",
       "      <td>0.000000</td>\n",
       "    </tr>\n",
       "    <tr>\n",
       "      <th>1</th>\n",
       "      <td>0.121005</td>\n",
       "      <td>0.000000</td>\n",
       "      <td>0.693062</td>\n",
       "      <td>0.801084</td>\n",
       "      <td>0.0</td>\n",
       "      <td>1.000000</td>\n",
       "      <td>0.000000</td>\n",
       "      <td>0.000000</td>\n",
       "      <td>0.317266</td>\n",
       "      <td>0.002381</td>\n",
       "      <td>1.000000</td>\n",
       "      <td>0.000000</td>\n",
       "      <td>0.511468</td>\n",
       "      <td>0.663929</td>\n",
       "      <td>0.358310</td>\n",
       "      <td>0.340315</td>\n",
       "      <td>0.776495</td>\n",
       "      <td>0.843138</td>\n",
       "    </tr>\n",
       "    <tr>\n",
       "      <th>2</th>\n",
       "      <td>0.525601</td>\n",
       "      <td>0.009095</td>\n",
       "      <td>0.309480</td>\n",
       "      <td>0.199172</td>\n",
       "      <td>0.0</td>\n",
       "      <td>0.982245</td>\n",
       "      <td>0.003929</td>\n",
       "      <td>0.982974</td>\n",
       "      <td>0.274631</td>\n",
       "      <td>0.000000</td>\n",
       "      <td>0.973405</td>\n",
       "      <td>0.019302</td>\n",
       "      <td>0.514480</td>\n",
       "      <td>0.912410</td>\n",
       "      <td>0.618720</td>\n",
       "      <td>0.524683</td>\n",
       "      <td>0.990246</td>\n",
       "      <td>0.809770</td>\n",
       "    </tr>\n",
       "    <tr>\n",
       "      <th>3</th>\n",
       "      <td>0.031091</td>\n",
       "      <td>0.016219</td>\n",
       "      <td>0.627101</td>\n",
       "      <td>0.563320</td>\n",
       "      <td>0.0</td>\n",
       "      <td>0.003398</td>\n",
       "      <td>0.029189</td>\n",
       "      <td>0.009059</td>\n",
       "      <td>0.259990</td>\n",
       "      <td>0.000000</td>\n",
       "      <td>0.972987</td>\n",
       "      <td>0.000000</td>\n",
       "      <td>0.502052</td>\n",
       "      <td>0.956374</td>\n",
       "      <td>0.623677</td>\n",
       "      <td>0.320410</td>\n",
       "      <td>0.963832</td>\n",
       "      <td>0.956310</td>\n",
       "    </tr>\n",
       "    <tr>\n",
       "      <th>4</th>\n",
       "      <td>0.458831</td>\n",
       "      <td>0.178124</td>\n",
       "      <td>0.000000</td>\n",
       "      <td>0.776932</td>\n",
       "      <td>0.0</td>\n",
       "      <td>0.017754</td>\n",
       "      <td>0.025488</td>\n",
       "      <td>0.014317</td>\n",
       "      <td>0.256228</td>\n",
       "      <td>0.000000</td>\n",
       "      <td>0.990683</td>\n",
       "      <td>0.000000</td>\n",
       "      <td>0.498007</td>\n",
       "      <td>0.680622</td>\n",
       "      <td>0.364213</td>\n",
       "      <td>0.343457</td>\n",
       "      <td>0.787258</td>\n",
       "      <td>0.827779</td>\n",
       "    </tr>\n",
       "  </tbody>\n",
       "</table>\n",
       "</div>"
      ],
      "text/plain": [
       "        age       job   marital  education  default   housing      loan  \\\n",
       "0  0.093354  0.730612  0.653131   0.791850      0.0  0.990764  0.996411   \n",
       "1  0.121005  0.000000  0.693062   0.801084      0.0  1.000000  0.000000   \n",
       "2  0.525601  0.009095  0.309480   0.199172      0.0  0.982245  0.003929   \n",
       "3  0.031091  0.016219  0.627101   0.563320      0.0  0.003398  0.029189   \n",
       "4  0.458831  0.178124  0.000000   0.776932      0.0  0.017754  0.025488   \n",
       "\n",
       "    contact  duration  campaign     pdays  previous  poutcome  emp.var.rate  \\\n",
       "0  0.992500  0.121563  0.000000  0.991511  0.000000  0.502935      0.480186   \n",
       "1  0.000000  0.317266  0.002381  1.000000  0.000000  0.511468      0.663929   \n",
       "2  0.982974  0.274631  0.000000  0.973405  0.019302  0.514480      0.912410   \n",
       "3  0.009059  0.259990  0.000000  0.972987  0.000000  0.502052      0.956374   \n",
       "4  0.014317  0.256228  0.000000  0.990683  0.000000  0.498007      0.680622   \n",
       "\n",
       "   cons.price.idx  cons.conf.idx  euribor3m  nr.employed  \n",
       "0        0.776534       0.550559   0.035653     0.000000  \n",
       "1        0.358310       0.340315   0.776495     0.843138  \n",
       "2        0.618720       0.524683   0.990246     0.809770  \n",
       "3        0.623677       0.320410   0.963832     0.956310  \n",
       "4        0.364213       0.343457   0.787258     0.827779  "
      ]
     },
     "execution_count": 6,
     "metadata": {},
     "output_type": "execute_result"
    }
   ],
   "source": [
    "attack_data.head()"
   ]
  },
  {
   "cell_type": "code",
   "execution_count": null,
   "id": "65f65678",
   "metadata": {
    "pycharm": {
     "name": "#%%\n"
    }
   },
   "outputs": [],
   "source": []
  }
 ],
 "metadata": {
  "kernelspec": {
   "display_name": "Python 3",
   "language": "python",
   "name": "python3"
  },
  "language_info": {
   "codemirror_mode": {
    "name": "ipython",
    "version": 3
   },
   "file_extension": ".py",
   "mimetype": "text/x-python",
   "name": "python",
   "nbconvert_exporter": "python",
   "pygments_lexer": "ipython3",
   "version": "3.8.13"
  }
 },
 "nbformat": 4,
 "nbformat_minor": 5
}
