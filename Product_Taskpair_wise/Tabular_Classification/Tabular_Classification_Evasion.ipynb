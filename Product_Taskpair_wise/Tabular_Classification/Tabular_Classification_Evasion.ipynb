{
 "cells": [
  {
   "cell_type": "markdown",
   "id": "64ce47d1",
   "metadata": {
    "id": "64ce47d1"
   },
   "source": [
    "# Welcome to the AIShield Integration Notebook!\n",
    "\n",
    "**We are delighted to have you here!**\n",
    "\n",
    "## What to Expect !!\n",
    "This notebook serves as a comprehensive demonstration of the seamless integration capabilities of AIShield. As a powerful tool for securing your AI/ML assets against adversarial threats, AIShield ensures the integrity and robustness of your models, preventing financial loss, protecting brand reputation, and mitigating the risk of intellectual property theft.\n",
    "\n",
    "## What to Do !!\n",
    "- **Explore the notebook** at your own pace to gain deep insights into the functionalities and features offered by AIShield.\n",
    "- **Run the first code cell/block**, which includes **Support functionalities** crucial for the smooth execution of the notebook. This setup will enhance your experience and enable the seamless integration of AIShield.\n",
    "- Even without running the entire notebook, you can get a glimpse of AIShield's capabilities and its approach to vulnerability assessments through sample scenarios.\n",
    "- **Run the code cells** to witness firsthand how AIShield seamlessly integrates with your existing codebase, empowering you to protect your AI models against adversarial attacks.\n",
    "- **Experiment and adapt the code** to suit your specific use cases, leveraging the flexibility and customization options provided by AIShield.\n",
    "- Should you have any questions or require assistance, our dedicated [AIShield.Contact@bosch.com](mailto:AIShield.Contact@bosch.com) is just a click away.\n",
    "\n",
    "## What You'll Get !!\n",
    "Throughout this notebook, you'll find:\n",
    "- Code snippets demonstrating step-by-step procedures for incorporating AIShield into your existing workflows, ensuring comprehensive protection against adversarial threats.\n",
    "- Detailed guidance on the integration process, including any additional inputs required for thorough vulnerability analysis.\n",
    "- A comprehensive threat-informed defense model, empowering you to understand the vulnerabilities in your AI models and undertake appropriate remediation measures.\n",
    "- Report artifacts and a sample attack dataset, providing valuable insights into potential attack scenarios and assisting in devising robust defense strategies.\n",
    "- In-depth explanations of defense remediation techniques, equipping you with the knowledge and tools to safeguard your AI assets effectively.\n",
    "\n",
    "## <span style=\"color:teal\">AIShield Website and LinkedIn</span>\n",
    "To learn more about AIShield and its cutting-edge features, visit the official [AIShield website](https://www.boschaishield.com/). Connect with AIShield on [LinkedIn](https://www.linkedin.com/company/bosch-aishield/about/) to stay updated on the latest advancements in AI security.\n",
    "\n",
    "We hope this notebook empowers you to seamlessly integrate AIShield into your projects, ensuring the utmost protection for your AI/ML assets. If you have any questions or need further assistance, please don't hesitate to reach out. **Happy exploring!**\n"
   ]
  },
  {
   "cell_type": "markdown",
   "id": "eb481063",
   "metadata": {
    "id": "eb481063"
   },
   "source": [
    "<a target=\"_blank\" href=\"https://colab.research.google.com/github/bosch-aisecurity-aishield/Reference-Implementations/blob/main/Product_Taskpair_wise/Tabular_Classification/Tabular_Classification_Evasion.ipynb\">\n",
    "  <img src=\"https://colab.research.google.com/assets/colab-badge.svg\" alt=\"Open In Colab\"/>\n",
    "</a>"
   ]
  },
  {
   "cell_type": "markdown",
   "id": "5e5cabeb",
   "metadata": {
    "id": "5e5cabeb"
   },
   "source": [
    "## 1.0 Support Functionalities:"
   ]
  },
  {
   "cell_type": "code",
   "execution_count": 2,
   "id": "1e14ad2e",
   "metadata": {
    "id": "1e14ad2e"
   },
   "outputs": [],
   "source": [
    "\"\"\"\n",
    "Description : Use PyPi or AIShield API for Vulnerability Analysis\n",
    "              if PyPi = True (this notebook will use aishield pypi package for vulnerability analysis)\n",
    "              else = False (this notebook will use aishield api for vulnerability analysis)\n",
    "\"\"\"\n",
    "pypi = True"
   ]
  },
  {
   "cell_type": "code",
   "execution_count": 3,
   "id": "95fb5754",
   "metadata": {
    "colab": {
     "base_uri": "https://localhost:8080/",
     "height": 17
    },
    "id": "95fb5754",
    "outputId": "1ad36a31-9480-42db-dc2f-4be8274c4128"
   },
   "outputs": [
    {
     "data": {
      "text/html": [
       "\n",
       "        <style>\n",
       "        .scrollable-code-input {\n",
       "            max-height: 500px;\n",
       "            overflow-y: scroll;\n",
       "        }\n",
       "        </style>\n",
       "        <script>\n",
       "        var codeInputCells = document.querySelectorAll('div.code_cell .input');\n",
       "        codeInputCells.forEach(function(cell) {\n",
       "            cell.classList.add('scrollable-code-input');\n",
       "        });\n",
       "        </script>\n",
       "    "
      ],
      "text/plain": [
       "<IPython.core.display.HTML object>"
      ]
     },
     "metadata": {},
     "output_type": "display_data"
    }
   ],
   "source": [
    "def make_code_input_scrollable():\n",
    "    \"\"\"Description : To make the input code cell scrollable for jupyternotebook\"\"\"\n",
    "    from IPython.display import display, HTML\n",
    "    display(HTML('''\n",
    "        <style>\n",
    "        .scrollable-code-input {\n",
    "            max-height: 500px;\n",
    "            overflow-y: scroll;\n",
    "        }\n",
    "        </style>\n",
    "        <script>\n",
    "        var codeInputCells = document.querySelectorAll('div.code_cell .input');\n",
    "        codeInputCells.forEach(function(cell) {\n",
    "            cell.classList.add('scrollable-code-input');\n",
    "        });\n",
    "        </script>\n",
    "    '''))\n",
    "\n",
    "make_code_input_scrollable()\n",
    "\n",
    "def display_pdf(runtime_environment,output_filename, pdf_path=None, file_id=None):\n",
    "\n",
    "    \"\"\"Descrption : To embeded pdf file in the ntoebook\"\"\"\n",
    "\n",
    "    from IPython.display import display, HTML\n",
    "    import os\n",
    "    output_file = output_filename+'.html'\n",
    "\n",
    "    # Check if the output file exists\n",
    "    if os.path.exists(output_file):\n",
    "        with open(output_file, 'r') as f:\n",
    "            saved_output = f.read()\n",
    "            display(HTML(saved_output))\n",
    "    else:\n",
    "        if 'colab' in runtime_environment.lower():\n",
    "            # Generate the Google Drive Viewer URL\n",
    "            if file_id is None:\n",
    "                print(pdf_path)\n",
    "                # Generate the Google Drive Viewer URL\n",
    "                drive_viewer_url = f'https://drive.google.com/viewerng/viewer?embedded=true&url={pdf_path}'\n",
    "                html_code = f'<iframe src=\"{drive_viewer_url}\" width=\"100%\" height=\"600px\"></iframe>'\n",
    "            else:\n",
    "                viewer_url = f\"https://drive.google.com/file/d/{file_id}/preview\"\n",
    "                html_code = f'<iframe src=\"{viewer_url}\" width=\"100%\" height=\"600px\"></iframe>'\n",
    "        else:\n",
    "            html_code = f'<embed src=\"{pdf_path}\" width=\"100%\" height=\"600px\" type=\"application/pdf\">'\n",
    "        # Save the output to a file\n",
    "        with open(output_file, 'w') as f:\n",
    "            f.write(html_code)\n",
    "\n",
    "        # Display the output\n",
    "        display(HTML(html_code))\n",
    "\n",
    "\n",
    "def check_runtime_environment():\n",
    "    \"\"\"\n",
    "    Description : Check notebook is running on colab or jupyter-notebook\n",
    "    \"\"\"\n",
    "    import os\n",
    "    colab = False\n",
    "    if 'google.colab' in str(get_ipython()):\n",
    "        colab = True\n",
    "        return 'Colab' , colab\n",
    "    else:\n",
    "        return 'Jupyter Notebook' , colab\n",
    "\n",
    "# Check the runtime environment\n",
    "runtime_environment,colab_running  = check_runtime_environment()\n",
    "\n",
    "# print(\"Notebook is running in\", runtime_environment)\n",
    "\n",
    "\n"
   ]
  },
  {
   "cell_type": "markdown",
   "id": "452a83b9",
   "metadata": {
    "id": "452a83b9"
   },
   "source": [
    "    "
   ]
  },
  {
   "cell_type": "markdown",
   "id": "bfb01f37",
   "metadata": {
    "id": "bfb01f37"
   },
   "source": [
    "   "
   ]
  },
  {
   "cell_type": "markdown",
   "id": "e137bb2f",
   "metadata": {
    "id": "e137bb2f"
   },
   "source": [
    "\n",
    "<img src=\"https://aisdocs.blob.core.windows.net/reference/Workflow Images/wk1.png\"/>"
   ]
  },
  {
   "cell_type": "markdown",
   "id": "1bcb6716",
   "metadata": {
    "id": "1bcb6716"
   },
   "source": [
    "   "
   ]
  },
  {
   "cell_type": "markdown",
   "id": "09aafb23",
   "metadata": {
    "id": "09aafb23"
   },
   "source": [
    "  "
   ]
  },
  {
   "cell_type": "markdown",
   "id": "eb1f2642",
   "metadata": {
    "id": "eb1f2642"
   },
   "source": [
    "## 2.0 Below code cell/block performs Step 1 to 4 with following these sequential steps :\n",
    "**STEP 1 : Installing libraries:** The required libraries will be installed to provide necessary functionalities for the task at hand.\n",
    "\n",
    "**STEP 2 : Loading the dataset:** The dataset containing the relevant information will be loaded into the program, allowing access to the data for analysis and modeling.\n",
    "\n",
    "**STEP 3 : Model development and training:** A sophisticated model will be developed to analyze and interpret the dataset. The model will then be trained using appropriate techniques to optimize its performance.\n",
    "\n",
    "**STEP 4 : Preparing the Data, Model, and Label:** Prior to further analysis, essential steps such as data preprocessing, model configuration, and label preparation will be carried out. This will ensure that the data, model, and labels are properly structured and ready for subsequent stages needed for aishield.\n",
    "\n"
   ]
  },
  {
   "cell_type": "markdown",
   "id": "3e997a3c-9f60-4ca1-8adb-9002a90c3113",
   "metadata": {},
   "source": [
    "### Before running the notebook, please ensure the following:\n",
    "\n",
    "- **`run_code`:  by default value is set to False**\n",
    "    - Set to **`True`** to initiate original model training.\n",
    "    - Set to **`False`** to download the pre-trained model from the Hugging Face repository **[Hugging Face](https://huggingface.co/Pankaj001)**.\n",
    "\n",
    "\n",
    "- **`install`: by default value is set to Ture**\n",
    "   - Set to **`True`** to automatically download and install all necessary libraries before notebook execution.\n",
    "   - Set to **`False`** to proceed with library imports only."
   ]
  },
  {
   "cell_type": "code",
   "execution_count": 1,
   "id": "44b63715-b729-41a9-bf96-352e31a536a9",
   "metadata": {},
   "outputs": [],
   "source": [
    "\"\"\"\n",
    "Description: \n",
    "    run_code : True / False \n",
    "              if run_code is True , Original Model Training will be taken place\n",
    "                run_code is False , Pretrained Model will be downloaded from the hugging face [ https://huggingface.co/Pankaj001 ]\n",
    "\n",
    "    install : True / False \n",
    "            if install True , all the libraries needed to run the notebook will download first and then will import\n",
    "               install False, only import of the library will takes place\n",
    "\"\"\"\n",
    "\n",
    "run_code = False #True if training of model will take place, False if downloading of pretrained model,dataset and minmax file will take place\n",
    "install = True #to install the prerequisite libraries or not"
   ]
  },
  {
   "cell_type": "markdown",
   "id": "c464c44d-3eee-437a-9440-b08dab3b615d",
   "metadata": {},
   "source": [
    "- **`num_classes`**: Number of classes for classification tasks.\n",
    "- **`model_encryption`**: Indicates whether the model is uploaded directly as a zip file (**0**) or encrypted as `.pyc` and then uploaded as a zip file (**1**).\n",
    "- **`number_of_sample`**: Specifies the total number of samples in the dataset.\n",
    "- **`input_shape`**: Shape of the input data, defined as **(number_of_sample, number of features)**.\n",
    "- **`model_framework`**: Utilizes the **scikit-learn** framework for model implementation.\n",
    "\n",
    "#### These values are pre-configured for seamless execution in the notebook. Adjustments can be made as per your specific dataset and requirements.\n"
   ]
  },
  {
   "cell_type": "code",
   "execution_count": null,
   "id": "ef8d9fbc",
   "metadata": {
    "colab": {
     "base_uri": "https://localhost:8080/",
     "height": 1000
    },
    "id": "ef8d9fbc",
    "outputId": "57ae2083-4432-4e07-d694-de8039827c00"
   },
   "outputs": [
    {
     "name": "stdout",
     "output_type": "stream",
     "text": [
      "Starting installing aishield library\n",
      "Requirement already satisfied: aishield in /usr/local/lib/python3.10/dist-packages (0.1.5)\n",
      "Requirement already satisfied: requests in /usr/local/lib/python3.10/dist-packages (from aishield) (2.28.0)\n",
      "Requirement already satisfied: charset-normalizer~=2.0.0 in /usr/local/lib/python3.10/dist-packages (from requests->aishield) (2.0.12)\n",
      "Requirement already satisfied: idna<4,>=2.5 in /usr/local/lib/python3.10/dist-packages (from requests->aishield) (3.6)\n",
      "Requirement already satisfied: urllib3<1.27,>=1.21.1 in /usr/local/lib/python3.10/dist-packages (from requests->aishield) (1.26.18)\n",
      "Requirement already satisfied: certifi>=2017.4.17 in /usr/local/lib/python3.10/dist-packages (from requests->aishield) (2024.2.2)\n",
      "Started of installing all the prerequisites packages\n",
      "Collecting xgboost==1.6.2\n",
      "  Downloading xgboost-1.6.2-py3-none-manylinux2014_x86_64.whl (255.9 MB)\n",
      "\u001b[2K     \u001b[90m━━━━━━━━━━━━━━━━━━━━━━━━━━━━━━━━━━━━━━━━\u001b[0m \u001b[32m255.9/255.9 MB\u001b[0m \u001b[31m3.3 MB/s\u001b[0m eta \u001b[36m0:00:00\u001b[0m\n",
      "\u001b[?25hRequirement already satisfied: numpy in /usr/local/lib/python3.10/dist-packages (from xgboost==1.6.2) (1.23.5)\n",
      "Requirement already satisfied: scipy in /usr/local/lib/python3.10/dist-packages (from xgboost==1.6.2) (1.11.4)\n",
      "Installing collected packages: xgboost\n",
      "  Attempting uninstall: xgboost\n",
      "    Found existing installation: xgboost 2.0.3\n",
      "    Uninstalling xgboost-2.0.3:\n",
      "      Successfully uninstalled xgboost-2.0.3\n",
      "Successfully installed xgboost-1.6.2\n",
      "Collecting pandas==1.1.5\n",
      "  Downloading pandas-1.1.5.tar.gz (5.2 MB)\n",
      "\u001b[2K     \u001b[90m━━━━━━━━━━━━━━━━━━━━━━━━━━━━━━━━━━━━━━━━\u001b[0m \u001b[32m5.2/5.2 MB\u001b[0m \u001b[31m47.5 MB/s\u001b[0m eta \u001b[36m0:00:00\u001b[0m\n",
      "\u001b[?25h  Installing build dependencies ... \u001b[?25l\u001b[?25hdone\n",
      "  Getting requirements to build wheel ... \u001b[?25l\u001b[?25hcanceled\n",
      "\u001b[31mERROR: Operation cancelled by user\u001b[0m\u001b[31m\n",
      "\u001b[0mCollecting scikit-learn==1.0.2\n",
      "  Downloading scikit_learn-1.0.2-cp310-cp310-manylinux_2_17_x86_64.manylinux2014_x86_64.whl (26.5 MB)\n",
      "\u001b[2K     \u001b[90m━━━━━━━━━━━━━━━━━━━━━━━━━━━━━━━━━━━━━━━━\u001b[0m \u001b[32m26.5/26.5 MB\u001b[0m \u001b[31m47.2 MB/s\u001b[0m eta \u001b[36m0:00:00\u001b[0m\n",
      "\u001b[?25hRequirement already satisfied: numpy>=1.14.6 in /usr/local/lib/python3.10/dist-packages (from scikit-learn==1.0.2) (1.23.5)\n",
      "Requirement already satisfied: scipy>=1.1.0 in /usr/local/lib/python3.10/dist-packages (from scikit-learn==1.0.2) (1.11.4)\n",
      "Requirement already satisfied: joblib>=0.11 in /usr/local/lib/python3.10/dist-packages (from scikit-learn==1.0.2) (1.3.2)\n",
      "Requirement already satisfied: threadpoolctl>=2.0.0 in /usr/local/lib/python3.10/dist-packages (from scikit-learn==1.0.2) (3.2.0)\n",
      "Installing collected packages: scikit-learn\n",
      "  Attempting uninstall: scikit-learn\n",
      "    Found existing installation: scikit-learn 1.2.2\n",
      "    Uninstalling scikit-learn-1.2.2:\n",
      "      Successfully uninstalled scikit-learn-1.2.2\n",
      "\u001b[31mERROR: pip's dependency resolver does not currently take into account all the packages that are installed. This behaviour is the source of the following dependency conflicts.\n",
      "bigframes 0.20.1 requires scikit-learn>=1.2.2, but you have scikit-learn 1.0.2 which is incompatible.\u001b[0m\u001b[31m\n",
      "\u001b[0mSuccessfully installed scikit-learn-1.0.2\n",
      "Collecting numpy==1.22\n",
      "  Downloading numpy-1.22.0-cp310-cp310-manylinux_2_17_x86_64.manylinux2014_x86_64.whl (16.8 MB)\n",
      "\u001b[2K     \u001b[90m━━━━━━━━━━━━━━━━━━━━━━━━━━━━━━━━━━━━━━━━\u001b[0m \u001b[32m16.8/16.8 MB\u001b[0m \u001b[31m69.7 MB/s\u001b[0m eta \u001b[36m0:00:00\u001b[0m\n",
      "\u001b[?25hInstalling collected packages: numpy\n",
      "  Attempting uninstall: numpy\n",
      "    Found existing installation: numpy 1.23.5\n",
      "    Uninstalling numpy-1.23.5:\n",
      "      Successfully uninstalled numpy-1.23.5\n",
      "\u001b[31mERROR: pip's dependency resolver does not currently take into account all the packages that are installed. This behaviour is the source of the following dependency conflicts.\n",
      "lida 0.0.10 requires fastapi, which is not installed.\n",
      "lida 0.0.10 requires kaleido, which is not installed.\n",
      "lida 0.0.10 requires python-multipart, which is not installed.\n",
      "lida 0.0.10 requires uvicorn, which is not installed.\n",
      "librosa 0.10.1 requires numpy!=1.22.0,!=1.22.1,!=1.22.2,>=1.20.3, but you have numpy 1.22.0 which is incompatible.\n",
      "plotnine 0.12.4 requires numpy>=1.23.0, but you have numpy 1.22.0 which is incompatible.\n",
      "pywavelets 1.5.0 requires numpy<2.0,>=1.22.4, but you have numpy 1.22.0 which is incompatible.\n",
      "tensorflow 2.15.0 requires numpy<2.0.0,>=1.23.5, but you have numpy 1.22.0 which is incompatible.\n",
      "yfinance 0.2.36 requires requests>=2.31, but you have requests 2.28.0 which is incompatible.\u001b[0m\u001b[31m\n",
      "\u001b[0mSuccessfully installed numpy-1.22.0\n"
     ]
    },
    {
     "data": {
      "application/vnd.colab-display-data+json": {
       "pip_warning": {
        "packages": [
         "numpy"
        ]
       }
      }
     },
     "metadata": {},
     "output_type": "display_data"
    },
    {
     "name": "stdout",
     "output_type": "stream",
     "text": [
      "Requirement already satisfied: pyminizip in /usr/local/lib/python3.10/dist-packages (0.2.6)\n",
      "Requirement already satisfied: requests==2.28.0 in /usr/local/lib/python3.10/dist-packages (2.28.0)\n",
      "Requirement already satisfied: charset-normalizer~=2.0.0 in /usr/local/lib/python3.10/dist-packages (from requests==2.28.0) (2.0.12)\n",
      "Requirement already satisfied: idna<4,>=2.5 in /usr/local/lib/python3.10/dist-packages (from requests==2.28.0) (3.6)\n",
      "Requirement already satisfied: urllib3<1.27,>=1.21.1 in /usr/local/lib/python3.10/dist-packages (from requests==2.28.0) (1.26.18)\n",
      "Requirement already satisfied: certifi>=2017.4.17 in /usr/local/lib/python3.10/dist-packages (from requests==2.28.0) (2024.2.2)\n",
      "Collecting humanfriendly==9.2\n",
      "  Downloading humanfriendly-9.2-py2.py3-none-any.whl (86 kB)\n",
      "\u001b[2K     \u001b[90m━━━━━━━━━━━━━━━━━━━━━━━━━━━━━━━━━━━━━━━━\u001b[0m \u001b[32m86.7/86.7 kB\u001b[0m \u001b[31m2.7 MB/s\u001b[0m eta \u001b[36m0:00:00\u001b[0m\n",
      "\u001b[?25hInstalling collected packages: humanfriendly\n",
      "Successfully installed humanfriendly-9.2\n",
      "Installed all the prerequisites packages\n",
      "Removed: /content/data\n",
      "Removed: /content/model\n",
      "Removed: /content/minmax\n",
      "Removed: /content/encrypt_model\n",
      "Removed: /content/reports\n",
      "Removed: /content/zip\n",
      "Failed to removed: /content/reports/sample_data\n",
      "directory /content/data created successfully\n",
      "directory /content/model created successfully\n",
      "directory /content/minmax created successfully\n",
      "directory /content/reports created successfully\n",
      "directory /content/encrypt_model created successfully\n",
      "directory /content/zip created successfully\n",
      "directory /content/reports/sample_data created successfully\n"
     ]
    },
    {
     "name": "stderr",
     "output_type": "stream",
     "text": [
      "Loading the Dataset:   0%|          | 0/4 [00:00<?, ?it/s]"
     ]
    },
    {
     "name": "stdout",
     "output_type": "stream",
     "text": [
      "Extraction completed.\n",
      "Dataset Loaded\n"
     ]
    },
    {
     "name": "stderr",
     "output_type": "stream",
     "text": [
      "Model Development and Training:  25%|██▌       | 1/4 [00:01<00:05,  1.87s/it]"
     ]
    }
   ],
   "source": [
    "#@title Show/Hide Code\n",
    "'''\n",
    "Description: user input about dataset information, for eg: number of classes, input_shape\n",
    "'''\n",
    "\n",
    "num_classes=2\n",
    "model_encryption=0 #0 if model is uploaded directly as a zip, 1 if model is encryted as .pyc and uploaded as a zip\n",
    "number_of_sample = 22000\n",
    "input_shape = (number_of_sample, 18)\n",
    "model_framework = \"scikit-learn\"\n",
    "\n",
    "## installing libraries if not and then importing\n",
    "if install:\n",
    "    print(\"Starting installing aishield library\")\n",
    "    !pip install aishield\n",
    "    if not run_code:\n",
    "        print(\"Started of installing all the prerequisites packages\")\n",
    "        !pip install pyminizip\n",
    "        !pip install requests==2.31.0\n",
    "    else:\n",
    "        print(\"Started of installing all the prerequisites packages\")\n",
    "        ! pip install xgboost==2.0.3\n",
    "        ! pip install pandas==2.2.0\n",
    "        ! pip install scikit-learn\n",
    "        ! pip install numpy\n",
    "        ! pip install pyminizip\n",
    "        !pip install requests==2.31.0\n",
    "        !pip install humanfriendly==10.0\n",
    "\n",
    "\n",
    "        print(\"Installed all the prerequisites packages\")\n",
    "\n",
    "else:\n",
    "    print(\"Skipped the installation of all the prerequisites packages\")\n",
    "\n",
    "if run_code:\n",
    "    import io\n",
    "    import os\n",
    "    import copy\n",
    "    import json\n",
    "    import time\n",
    "    import pickle\n",
    "    import shutil\n",
    "    import requests\n",
    "    import py_compile\n",
    "    import pyminizip\n",
    "    import zipfile\n",
    "    import numpy as np\n",
    "    import pandas as pd\n",
    "    from sklearn import metrics\n",
    "    from xgboost import XGBClassifier\n",
    "    from sklearn.model_selection import train_test_split\n",
    "    from sklearn.preprocessing import MinMaxScaler, LabelEncoder\n",
    "    from sklearn.metrics import f1_score, accuracy_score, confusion_matrix\n",
    "    import tqdm\n",
    "    from time import sleep\n",
    "else:\n",
    "    import io\n",
    "    import os\n",
    "    import copy\n",
    "    import json\n",
    "    import time\n",
    "    import shutil\n",
    "    import requests\n",
    "    import py_compile\n",
    "    import pyminizip\n",
    "    import zipfile\n",
    "    import tqdm\n",
    "    from time import sleep\n",
    "\n",
    "import aishield as ais\n",
    "\n",
    "\n",
    "def download_data(url):\n",
    "    \"\"\"\n",
    "    Description :\n",
    "    This function will download the dataset from the given file_path and unzip the content\n",
    "    if the zip is nested zipped , then will extract from the same.\n",
    "\n",
    "    parameter:\n",
    "\n",
    "        input:\n",
    "        file_path : url of the dataset from where need to download the dataset\n",
    "\n",
    "        output: None\n",
    "    \"\"\"\n",
    "\n",
    "    file_path = os.path.basename(url)\n",
    "\n",
    "    # Download the file\n",
    "    response = requests.get(url)\n",
    "    with open(file_path, 'wb') as f:\n",
    "        f.write(response.content)\n",
    "\n",
    "\n",
    "    #extract content from the nested zip file\n",
    "    def extract_nested_zip(zip_file):\n",
    "        # Look for nested zip files\n",
    "        nested_zip_names = [name for name in zip_file.namelist() if name.endswith(\".zip\")]\n",
    "\n",
    "        if not nested_zip_names:\n",
    "            print(\"No nested zip files found.\")\n",
    "            return\n",
    "\n",
    "        for nested_zip_name in nested_zip_names:\n",
    "            with zip_file.open(nested_zip_name) as nested_zip_file:\n",
    "                with io.BytesIO(nested_zip_file.read()) as nested_buffer:\n",
    "                    with zipfile.ZipFile(nested_buffer, 'r') as nested_zip:\n",
    "                        # Extract the contents of the nested zip file\n",
    "                        nested_zip.extractall()\n",
    "\n",
    "    zip = zipfile.ZipFile(file_path)\n",
    "    extract_nested_zip(zip)\n",
    "    print(\"Extraction completed.\")\n",
    "\n",
    "def download_artifacts(url):\n",
    "    \"\"\"\n",
    "    Description :\n",
    "    This function will download the dataset from the given file_path\n",
    "    parameter:\n",
    "\n",
    "        input:\n",
    "        file_path : url of the dataset from where need to download the dataset\n",
    "\n",
    "        output: None\n",
    "    \"\"\"\n",
    "    file_path = os.path.basename(url)\n",
    "\n",
    "    # Download the file\n",
    "    response = requests.get(url)\n",
    "    with open(file_path, 'wb') as f:\n",
    "        f.write(response.content)\n",
    "\n",
    "#extract content from the nested zip file\n",
    "def extract_zip(zip_file_path, extract_to_folder):\n",
    "\n",
    "    \"\"\"\n",
    "    Description :\n",
    "    This function will extract the zipped file to a given destination folder\n",
    "\n",
    "        input:\n",
    "        zip_file_path : download zipped file path\n",
    "        extract_to_folder: destination folder to extract the content of zipped files\n",
    "\n",
    "        output: None\n",
    "    \"\"\"\n",
    "    with zipfile.ZipFile(zip_file_path, 'r') as zip_ref:\n",
    "        # Extract all contents into the target folder\n",
    "        zip_ref.extractall(extract_to_folder)\n",
    "    zip_ref.close()\n",
    "\n",
    "\n",
    "\n",
    "def download_extract_artifacts(download_url, zipped_file_path, destination_path):\n",
    "\n",
    "    \"\"\"\n",
    "    Description :\n",
    "    This function will trigger the download and extraction function one by one\n",
    "\n",
    "        input:\n",
    "        download_url: url from where content need to be downloaded\n",
    "        zip_file_path : download zipped file path\n",
    "        destination_path: destination folder to extract the content of zipped files\n",
    "\n",
    "        output: None\n",
    "    \"\"\"\n",
    "\n",
    "    # download the artifcats from the given url\n",
    "    try:\n",
    "        download_artifacts(download_url)\n",
    "        # extract the zipped artifacts in to given destination folder\n",
    "        extract_zip(zipped_file_path, destination_path)\n",
    "\n",
    "    except Exception as e:\n",
    "        print(\"Download / Extraction of artifacts failed {}\".format(str(e)))\n",
    "\n",
    "def load_data(file_path):\n",
    "\n",
    "        '''\n",
    "        Description :\n",
    "            Load the dataset.\n",
    "\n",
    "        input_parameter: None\n",
    "        return_parameter: return the training and testing the dataset\n",
    "            X_train, y_train , X_test, y_test\n",
    "\n",
    "\n",
    "        '''\n",
    "        '''\n",
    "        Description : Loading credit card fraud detection dataset\n",
    "        '''\n",
    "        try:\n",
    "            download_data(file_path)\n",
    "        except Exception as e:\n",
    "            print(str(e))\n",
    "\n",
    "        df = pd.read_csv('bank-additional/bank-additional-full.csv',delimiter=\";\")\n",
    "        print(\"Dataset Loaded\")\n",
    "\n",
    "        return df\n",
    "\n",
    "\n",
    "def preprocess_data(df):\n",
    "    df.replace(['basic.6y','basic.4y', 'basic.9y'], 'basic', inplace=True)\n",
    "    columns = ['day_of_week','month']\n",
    "    df.drop(columns, axis=1, inplace=True)\n",
    "\n",
    "    '''Description : Label Encoding the Categorical Columns'''\n",
    "\n",
    "    le =LabelEncoder()\n",
    "    df.job = le.fit_transform(df.job)\n",
    "    df.marital = le.fit_transform(df.marital)\n",
    "    df.education = le.fit_transform(df.education)\n",
    "    df.housing = le.fit_transform(df.housing)\n",
    "    df.loan = le.fit_transform(df.loan)\n",
    "    df.poutcome = le.fit_transform(df.poutcome)\n",
    "    df.contact = le.fit_transform(df.contact)\n",
    "    df.default = le.fit_transform(df.default)\n",
    "    df.y = le.fit_transform(df.y)\n",
    "\n",
    "    output = 'y'\n",
    "\n",
    "    X = df.loc[:, df.columns != output]\n",
    "    y = df['y']\n",
    "\n",
    "    '''\n",
    "    Description : Splitting data for validation\n",
    "    '''\n",
    "    X_train, X_test, y_train, y_test = train_test_split(X, y, test_size = 0.25, random_state = 1)\n",
    "\n",
    "    return  X_train, X_test, y_train, y_test,output\n",
    "\n",
    "def make_directory(directory):\n",
    "    \"\"\"\n",
    "    Create directory\n",
    "\n",
    "    Parameters\n",
    "    ----------\n",
    "    directorys : list containing the directory's path to create\n",
    "\n",
    "    Returns\n",
    "    -------\n",
    "    None.\n",
    "\n",
    "    \"\"\"\n",
    "    for d in directory:\n",
    "        if os.path.isdir(d):\n",
    "            print(\"directory {} already exist\".format(d))\n",
    "        if os.path.isdir(d)==False:\n",
    "            os.mkdir(path=d)\n",
    "            print(\"directory {} created successfully\".format(d))\n",
    "\n",
    "def delete_directory(directorys):\n",
    "    \"\"\"\n",
    "    Delete directory\n",
    "\n",
    "    Parameters\n",
    "    ----------\n",
    "    directorys : list containing the directory's path to delete along with all the files\n",
    "\n",
    "    Returns\n",
    "    -------\n",
    "    None.\n",
    "\n",
    "    \"\"\"\n",
    "    if len(directorys)>=1:\n",
    "        for d in directorys:\n",
    "            if os.path.isdir(d):\n",
    "                try:\n",
    "                    if os.path.isfile(d):\n",
    "                        os.remove(path=d)\n",
    "                    else:\n",
    "                        shutil.rmtree(path=d)\n",
    "                        print(\"Removed: {}\".format(d))\n",
    "                except:\n",
    "                    print(\"Failed to removed: {}\".format(d))\n",
    "            else:\n",
    "                print(\"Failed to removed: {}\".format(d))\n",
    "\n",
    "def make_archive(base_name,root_dir,zip_format='zip'):\n",
    "    \"\"\"\n",
    "    Creates zip for given folder\n",
    "\n",
    "    Parameters\n",
    "    ----------\n",
    "    base_name : name of zip file\n",
    "    root_dir : directory to archive/zip\n",
    "    zip_format : zip or tar\n",
    "        DESCRIPTION. The default is 'zip'.\n",
    "\n",
    "    Returns\n",
    "    -------\n",
    "    None.\n",
    "\n",
    "    \"\"\"\n",
    "    shutil.make_archive(base_name=base_name, format=zip_format, root_dir=root_dir)\n",
    "\n",
    "def create_folders():\n",
    "    '''\n",
    "        Descrption: this will remove(if present previously) and create folders needed\n",
    "                    to store the data , model and label for ease access\n",
    "\n",
    "        input_parameters: None\n",
    "        return_parameters: returns the path of the data , model , label , report, zip directory\n",
    "    '''\n",
    "\n",
    "    data_path=os.path.join(os.getcwd(),\"data\")\n",
    "    model_path=os.path.join(os.getcwd(),\"model\")\n",
    "    label_path=os.path.join(os.getcwd(),\"minmax\")\n",
    "    encrypt_model_path=os.path.join(os.getcwd(),\"encrypt_model\")\n",
    "\n",
    "    report_path=os.path.join(os.getcwd(),\"reports\")\n",
    "    sample_data = os.path.join(report_path, \"sample_data\")\n",
    "    #Create Zip Path which contains data , model and label zip files\n",
    "    zip_path=os.path.join(os.getcwd(),\"zip\")\n",
    "\n",
    "    #deleting previously generated folders\n",
    "    delete_directory(directorys=[data_path,model_path,label_path,encrypt_model_path,report_path,zip_path, sample_data])\n",
    "\n",
    "    #creating folders\n",
    "    make_directory([data_path,model_path,label_path,report_path,encrypt_model_path,zip_path, sample_data])\n",
    "\n",
    "    return data_path, model_path, label_path,encrypt_model_path,report_path, zip_path, sample_data\n",
    "\n",
    "def create_model():\n",
    "    \"\"\"\n",
    "    Description: Create model architecture\n",
    "    input_parameters: num_classes : number of classes\n",
    "    return_parameters: model\n",
    "    \"\"\"\n",
    "    XG = XGBClassifier(max_depth=8,\n",
    "            booster=\"gbtree\",\n",
    "            n_estimators=100000,\n",
    "            min_child_weight=300,\n",
    "            colsample_bytree=0.8,\n",
    "            subsample=0.8,\n",
    "            eta=0.3,\n",
    "            seed=42)\n",
    "    return XG\n",
    "\n",
    "def prepare_min_max(df):\n",
    "\n",
    "    \"\"\"Prepare MinMax\"\"\"\n",
    "\n",
    "    min_values = df.min().to_numpy()\n",
    "    max_values = df.max().to_numpy()\n",
    "    x= np.array([min_values,max_values])\n",
    "    df_m = pd.DataFrame(x,columns=df.columns)\n",
    "    df_m.to_csv(minmax_path+\"/minmax.csv\",index=False)\n",
    "\n",
    "\n",
    "\n",
    "def training(parameter_payload:dict):\n",
    "\n",
    "    X_train = parameter_payload['X_train']\n",
    "    y_train = parameter_payload['y_train']\n",
    "    X_test = parameter_payload['X_test']\n",
    "    y_test = parameter_payload['y_test']\n",
    "\n",
    "    #Creating the model\n",
    "    model = create_model()\n",
    "\n",
    "    \"\"\"\n",
    "    Description: Trainig the model\n",
    "    \"\"\"\n",
    "\n",
    "    model.fit(X_train,y_train)\n",
    "\n",
    "    \"\"\"\n",
    "    Saving the model under model directory\n",
    "    \"\"\"\n",
    "    modelname = parameter_payload['model_name']\n",
    "    pickle.dump(model, open(os.path.join(parameter_payload['model_path'], modelname), 'wb'))\n",
    "\n",
    "    return model\n",
    "\n",
    "\n",
    "def encrypt_model(model, modelname, model_framework,pyc_model_path):\n",
    "\n",
    "    \"\"\"\n",
    "    Description: Create encrypted Model\n",
    "    \"\"\"\n",
    "\n",
    "    if model_framework.lower() == \"scikit-learn\":\n",
    "\n",
    "        python_code ='''\n",
    "#importing libraries\n",
    "import pickle\n",
    "import zipfile\n",
    "import os\n",
    "\n",
    "\"\"\"\n",
    "    class for base model\n",
    "\"\"\"\n",
    "#define class\n",
    "class BaseModel():\n",
    "    def __init__(self,model_path=\"\"):\n",
    "\n",
    "        \"\"\"\n",
    "        constructor for class\n",
    "\n",
    "        Parameters\n",
    "        ----------\n",
    "        input_shape : TYPE, optional\n",
    "            DESCRIPTION. The default is (100,1).\n",
    "        Returns\n",
    "        -------\n",
    "        None.\n",
    "\n",
    "        \"\"\"\n",
    "        self.model_path = model_path\n",
    "\n",
    "    def load_protected_pickleModel(self,filename,password,picklemodelname):\n",
    "\n",
    "\n",
    "        \"\"\"\n",
    "        model architecture\n",
    "\n",
    "        Parameters\n",
    "        ----------\n",
    "        filename : string\n",
    "            DESCRIPTION.zipped protected filename\n",
    "\n",
    "        password : String\n",
    "            DESCRIPTION.zipped file password\n",
    "\n",
    "        picklemodelname  :String\n",
    "            DESCRIPTION.pickle file name present in a ziiped protected\n",
    "\n",
    "        Returns\n",
    "        -------\n",
    "        model : model\n",
    "            DESCRIPTION.\n",
    "\n",
    "        \"\"\"\n",
    "        filepath = os.path.join(self.model_path,filename)\n",
    "        #print(filepath)\n",
    "        #print(filename)\n",
    "        with zipfile.ZipFile(filepath, 'r') as file:\n",
    "            with file.open(picklemodelname,'r',pwd = bytes(password, 'utf-8')) as f:\n",
    "                pck = pickle.load(f)\n",
    "        return pck\n",
    "\n",
    "    def predict(self,X):\n",
    "\n",
    "        \"\"\"\n",
    "        predict for given data\n",
    "\n",
    "        Parameters\n",
    "        ----------\n",
    "        X : numpy array\n",
    "            DESCRIPTION.\n",
    "\n",
    "        Returns\n",
    "        -------\n",
    "        pred : numpy array\n",
    "            DESCRIPTION.\n",
    "\n",
    "        \"\"\"\n",
    "        filename = \"modelencrypt.zip\"\n",
    "        password = \"987654321\"\n",
    "        picklemodelname = \"xgboost_tc_mdl.pkl\"\n",
    "        model = self.load_protected_pickleModel(filename=filename,password=password,picklemodelname=picklemodelname)\n",
    "        pred = model.predict(X)\n",
    "        return pred'''\n",
    "        # Writing to file\n",
    "        with open(\"base_model.py\", \"w\") as file:\n",
    "            # Writing data to a file\n",
    "            file.writelines(python_code)\n",
    "\n",
    "        \"\"\"\n",
    "        Description: function to create .pyc file\n",
    "        \"\"\"\n",
    "        py_compile.compile(file=\"base_model.py\",cfile=pyc_model_path+'/base_model.pyc')\n",
    "\n",
    "        \"\"\"\n",
    "        Description: function to create zipped password protected pickle model file\n",
    "        \"\"\"\n",
    "\n",
    "        def zip_model(input_path,output_path,password,com_lvl=5):\n",
    "            pyminizip.compress(input_path, None, output_path,\n",
    "                               password, com_lvl)\n",
    "\n",
    "        zip_model(input_path =os.path.join(model_path,modelname),output_path = pyc_model_path+\"/modelencrypt.zip\" ,password = \"987654321\",com_lvl=5)\n",
    "\n",
    "if __name__ == \"__main__\":\n",
    "\n",
    "    user_workflow = {\n",
    "                 '1' : 'Loading the Dataset',\n",
    "                 '2' : 'Model Development and Training',\n",
    "                 '3' : 'Preparing Data, Model and Label',\n",
    "                 '4' : 'AIShield API Call'\n",
    "\n",
    "           }\n",
    "    data_path, model_path, minmax_path,encrypt_model_path,report_path, zip_path, sample_data = create_folders()\n",
    "    steps_tqdm = tqdm.tqdm(range(1,len(user_workflow)+1))\n",
    "    for step in steps_tqdm:\n",
    "        if step == 1 :\n",
    "            steps_tqdm.set_description(user_workflow[str(step)])\n",
    "            if not run_code:\n",
    "                print(\"Downloading of the Data Started\")\n",
    "                data_url = \"https://huggingface.co/Pankaj001/TabularClassification-banking-data/resolve/main/data.zip\"\n",
    "                download_extract_artifacts(data_url, os.path.basename(data_url), os.path.basename(data_path))\n",
    "                print(\"Data downloaded succesfully\")\n",
    "\n",
    "                print(\"Downloading of the Minmax Started\")\n",
    "                label_url = \"https://huggingface.co/Pankaj001/TabularClassification-banking-data/resolve/main/minmax.zip\"\n",
    "                download_extract_artifacts(label_url, os.path.basename(label_url), os.path.basename(minmax_path))\n",
    "                print(\"Minmax downloaded succesfully\")\n",
    "            else:\n",
    "                file_path = \"https://archive.ics.uci.edu/static/public/222/bank+marketing.zip\"\n",
    "                df = load_data(file_path)\n",
    "                number_of_sample = 100\n",
    "                input_shape = (number_of_sample, 18) #length of the dataset , number of features or number of cloumns-1\n",
    "\n",
    "        elif step == 2:\n",
    "\n",
    "            steps_tqdm.set_description(user_workflow[str(step)])\n",
    "            if not run_code:\n",
    "                print(\"Downloading of the Model file Started\")\n",
    "                if model_encryption ==0:\n",
    "                    model_url = \"https://huggingface.co/Pankaj001/TabularClassification-banking-data/resolve/main/model.zip\"\n",
    "                    download_extract_artifacts(model_url, os.path.basename(model_url), os.path.basename(model_path))\n",
    "                else:\n",
    "                    model_url = \"https://aisdocs.blob.core.windows.net/reference/upload/EncryptedModels/encrypt_model_TC_EVA.zip\"\n",
    "                    download_extract_artifacts(model_url, os.path.basename(model_url), os.path.basename(encrypt_model_path))\n",
    "\n",
    "                print(\"Model file downloaded succesfully\")\n",
    "            else:\n",
    "                X_train, X_test, y_train, y_test,output = preprocess_data(df)\n",
    "\n",
    "                scaler = MinMaxScaler()\n",
    "                x_train = scaler.fit_transform(X_train)\n",
    "                x_test = scaler.transform(X_test)\n",
    "\n",
    "                training_parameters = {'X_train' : x_train ,\n",
    "                              'y_train':y_train ,\n",
    "                              'X_test' : x_test ,\n",
    "                              'y_test' : y_test,\n",
    "                              'model_path' : model_path ,\n",
    "                              'model_name' : 'xgboost_tc_mdl.pkl',\n",
    "\n",
    "                              }\n",
    "                model = training(training_parameters)\n",
    "\n",
    "\n",
    "                \"\"\"\n",
    "                Description: Get prediction on validation data\n",
    "                \"\"\"\n",
    "                pred=model.predict(x_test)\n",
    "\n",
    "                print('Accuracy score of the Decision Tree model is {}'.format(accuracy_score(y_test, pred)))\n",
    "                print('F1 score of the Decision Tree model is {}'.format(f1_score(y_test, pred)))\n",
    "                print('Confusion Matrix \\n {}'.format(confusion_matrix(y_test, pred)))\n",
    "                print('Classification Report \\n {}'.format(metrics.classification_report(y_test, pred)))\n",
    "\n",
    "\n",
    "        elif step == 3:\n",
    "            steps_tqdm.set_description(user_workflow[str(step)])\n",
    "\n",
    "            if run_code:\n",
    "                x = np.concatenate((x_train, x_test))\n",
    "                y = np.concatenate((y_train, y_test))\n",
    "                number_of_sample = 100\n",
    "\n",
    "                final_df = pd.DataFrame(list(x),columns=df.columns[:-1])\n",
    "                final_df[output] = y\n",
    "                final_df[:number_of_sample].to_csv(os.path.join(data_path,\"banking_evasion.csv\"),index=False)\n",
    "\n",
    "                prepare_min_max(final_df)\n",
    "\n",
    "            #Zip Data\n",
    "            make_archive(base_name=os.path.join(zip_path,\"data\"),root_dir=data_path,zip_format='zip')\n",
    "\n",
    "            #Zip Minmax\n",
    "            make_archive(base_name=os.path.join(zip_path,\"minmax\"),root_dir=minmax_path,zip_format='zip')\n",
    "\n",
    "            #Description: Zip Model\n",
    "            if os.path.isfile(os.path.join(zip_path,\"model.zip\")):\n",
    "                delete_directory(directorys=[os.path.join(zip_path,\"model.zip\")])\n",
    "            if model_encryption:\n",
    "                if not run_code:\n",
    "                    make_archive(base_name=os.path.join(zip_path,\"encrypt_model\"),root_dir=encrypt_model_path,zip_format='zip')\n",
    "                else:\n",
    "                    encrypt_model(model, training_parameters[\"model_name\"], model_framework, encrypt_model_path)\n",
    "                    make_archive(base_name=os.path.join(zip_path,\"encrypt_model\"),root_dir=encrypt_model_path,zip_format='zip')\n",
    "            else:\n",
    "                make_archive(base_name=os.path.join(zip_path,\"model\"),root_dir=model_path,zip_format='zip')\n",
    "\n",
    "        elif step == 4:\n",
    "            steps_tqdm.set_description(user_workflow[str(step)])\n",
    "            print(\"Below Cells will see How to integrate and Call AIShield for Vulnerability Analysis\")\n",
    "            break\n",
    "\n",
    "        sleep(1)\n",
    "\n"
   ]
  },
  {
   "cell_type": "markdown",
   "id": "9775ce40",
   "metadata": {
    "id": "9775ce40"
   },
   "source": [
    "   "
   ]
  },
  {
   "cell_type": "markdown",
   "id": "aecb7b1b",
   "metadata": {
    "id": "aecb7b1b"
   },
   "source": [
    "  "
   ]
  },
  {
   "cell_type": "markdown",
   "id": "80782b1d",
   "metadata": {
    "id": "80782b1d"
   },
   "source": [
    "<img src=\"https://aisdocs.blob.core.windows.net/reference/Workflow Images/wk2.png\"/>"
   ]
  },
  {
   "cell_type": "markdown",
   "id": "d78d4789",
   "metadata": {
    "id": "d78d4789"
   },
   "source": [
    "  "
   ]
  },
  {
   "cell_type": "markdown",
   "id": "74404585",
   "metadata": {
    "id": "74404585"
   },
   "source": [
    "  "
   ]
  },
  {
   "cell_type": "markdown",
   "id": "7e49ea41",
   "metadata": {
    "id": "7e49ea41"
   },
   "source": [
    "## 3.0 Vulnerability Analysis by AIShield\n",
    "\n",
    "**STEP 5 :You can move to trigger the AIShield analysis by following steps given below. If you want to preview the generated artifact by vulnerability analysis like the report and dashboard, please find below a few samples of same, all without having to trigger an actual analysis.**\n",
    "\n",
    "By examining these Reports, we can gain a comprehensive understanding of the upcoming Vulnerability Analysis conducted by AIShield, which will enable us to prepare more effectively.\n"
   ]
  },
  {
   "cell_type": "markdown",
   "id": "dvJZEF4I2mUa",
   "metadata": {
    "id": "dvJZEF4I2mUa"
   },
   "source": [
    "<img src=\"https://aisdocs.blob.core.windows.net/reference/dashboard_images/Dashboard.png\"/>"
   ]
  },
  {
   "cell_type": "markdown",
   "id": "50d22eb4",
   "metadata": {
    "id": "50d22eb4"
   },
   "source": [
    "<img src=\"https://aisdocs.blob.core.windows.net/reference/dashboard_images/TC_EVA_Dashboard.png\"/>"
   ]
  },
  {
   "cell_type": "code",
   "execution_count": 9,
   "id": "0ca157e6",
   "metadata": {
    "colab": {
     "base_uri": "https://localhost:8080/",
     "height": 645
    },
    "hide_code": false,
    "id": "0ca157e6",
    "outputId": "ecc55d4d-b215-411c-a4d9-b494001b8ad9",
    "scrolled": true
   },
   "outputs": [
    {
     "data": {
      "text/html": [
       "<embed src=\"https://aisdocs.blob.core.windows.net/reference/Reports/Tabular/TabularClassification/Evasion/VulnerabilityReport.pdf\" width=\"100%\" height=\"600px\" type=\"application/pdf\">"
      ],
      "text/plain": [
       "<IPython.core.display.HTML object>"
      ]
     },
     "metadata": {},
     "output_type": "display_data"
    }
   ],
   "source": [
    "hosted_pdf_url = \"https://aisdocs.blob.core.windows.net/reference/Reports/Tabular/TabularClassification/Evasion/VulnerabilityReport.pdf\"\n",
    "display_pdf( output_filename = \"vul_sample\",runtime_environment = runtime_environment,pdf_path =hosted_pdf_url)\n"
   ]
  },
  {
   "cell_type": "code",
   "execution_count": 8,
   "id": "9ef68548",
   "metadata": {
    "colab": {
     "base_uri": "https://localhost:8080/",
     "height": 663
    },
    "hide_code": true,
    "id": "9ef68548",
    "outputId": "5023f187-50e5-4935-98e3-5680b411c60d",
    "scrolled": true
   },
   "outputs": [
    {
     "data": {
      "text/html": [
       "<embed src=\"https://aisdocs.blob.core.windows.net/reference/Reports/Tabular/TabularClassification/MEA/DefenseReport.pdf\" width=\"100%\" height=\"600px\" type=\"application/pdf\">"
      ],
      "text/plain": [
       "<IPython.core.display.HTML object>"
      ]
     },
     "metadata": {},
     "output_type": "display_data"
    }
   ],
   "source": [
    "hosted_defense_pdf_url = 'https://aisdocs.blob.core.windows.net/reference/Reports/Tabular/TabularClassification/MEA/DefenseReport.pdf'\n",
    "display_pdf(output_filename = \"def_sample\", runtime_environment=runtime_environment, pdf_path =hosted_defense_pdf_url)\n"
   ]
  },
  {
   "cell_type": "markdown",
   "id": "12bfb0e6",
   "metadata": {
    "id": "12bfb0e6"
   },
   "source": [
    "  "
   ]
  },
  {
   "cell_type": "markdown",
   "id": "5c51b0fe",
   "metadata": {
    "id": "5c51b0fe"
   },
   "source": [
    "   "
   ]
  },
  {
   "cell_type": "markdown",
   "id": "015d1110",
   "metadata": {
    "id": "015d1110"
   },
   "source": [
    "#### Let's proceed with the step-by-step process of calling and integrating AIShield for Vulnerability Analysis:\n",
    "\n",
    "1. **Initialize AIShield:** Ensure that AIShield is properly installed and its dependencies are set up. Also, initialize AIShield to prepare for the analysis.\n",
    "\n",
    "2. **Model Registration:** Register the specific task pair (e.g. image_classification) and analysis type (e.g. Extraction / MEA) to perform the vulnerability analysis accurately.\n",
    "\n",
    "3. **Upload Artifacts:** Upload the necessary artifacts that have been prepared previously in STEP 4 for analysis. These may include datasets, trained models, or any relevant files.\n",
    "\n",
    "4. **Model Analysis:** Trigger the model analysis API to initiate the vulnerability analysis assessment. AIShield will perform the analysis using the uploaded artifacts.\n",
    "\n",
    "5. **Monitor Analysis Status:** Keep track of the analysis progress and patiently wait for AIShield to generate the vulnerability assessment results. This may take some time depending on the complexity of the analysis.\n",
    "\n",
    "6. **Download Reports & Artifacts:** Once the analysis is complete, access and download the vulnerability analysis reports and any additional artifacts generated by AIShield. Analyze these reports to gain insights into potential vulnerabilities in your system or application.\n",
    "\n",
    "By following instructions, you can effectively call and integrate AIShield for Vulnerability Analysis."
   ]
  },
  {
   "cell_type": "markdown",
   "id": "8f15872b",
   "metadata": {
    "id": "8f15872b"
   },
   "source": [
    "<img src=\"https://aisdocs.blob.core.windows.net/reference/Workflow Images/aw.png\"/>"
   ]
  },
  {
   "cell_type": "markdown",
   "id": "c3e41392",
   "metadata": {
    "id": "c3e41392"
   },
   "source": [
    "### 3.1 Initialize AIShield"
   ]
  },
  {
   "cell_type": "code",
   "execution_count": null,
   "id": "91fcac5f",
   "metadata": {
    "id": "91fcac5f"
   },
   "outputs": [],
   "source": [
    "\"\"\"\n",
    "Description : AIShield URL , subscription key and orgid\n",
    "              Initialize the\n",
    "\"\"\"\n",
    "base_url = \"https://api.aws.boschaishield.com/prod\"\n",
    "url=base_url+\"/api/ais/v1.5\"\n",
    "org_id = 'XXXXXXXXXXXXXXXXXXXXXXXXXXXXXXXXXXXX' #<<Copy Org_id mentioned in welcome mail after AIShield Subscription>>\n",
    "\n",
    "\n",
    "\"\"\"\n",
    "Description: Initialize the AIShield API\n",
    "\"\"\"\n",
    "\n",
    "if pypi:\n",
    "    #if pypi then , x-api-key generation is taken care from pypi side using given org_id\n",
    "    aishield_client = ais.AIShieldApi(api_url=url,org_id=org_id)\n",
    "\n",
    "else:\n",
    "    #if using AIShield API then , need an x-api-key for accessing AIShield registration / Analysis APIs\n",
    "    # below function will get insight of how to generate the x-api-key\n",
    "    def get_aws_api_key(url, org_id):\n",
    "\n",
    "        \"\"\"\n",
    "        Description: to get the x_api_key\n",
    "        \"\"\"\n",
    "        url = url+\"/get_aws_api_key\"\n",
    "        headers = {'org_id': org_id}\n",
    "        payload = {}\n",
    "\n",
    "        x_api_key_request = requests.request(\"GET\", url, headers=headers, data=payload)\n",
    "        status_code = x_api_key_request.status_code\n",
    "        x_api_key_request = json.loads(x_api_key_request.text)\n",
    "\n",
    "\n",
    "        if status_code == 200:\n",
    "            x_api_key = x_api_key_request['x_api_key']\n",
    "            return x_api_key\n",
    "\n",
    "        else:\n",
    "            print(x_api_key_request)\n",
    "            return None\n",
    "\n",
    "    #generate the x-api-key\n",
    "    x_api_key = get_aws_api_key(url, org_id)\n",
    "    print(\"x_api_key is :\",x_api_key)\n",
    "\n",
    "    headers={'Cache-Control': 'no-cache',\n",
    "    'x-api-key': x_api_key,\n",
    "    'Org-Id' : org_id\n",
    "    }"
   ]
  },
  {
   "cell_type": "markdown",
   "id": "559d3410",
   "metadata": {
    "id": "559d3410"
   },
   "source": [
    "<img src=\"https://aisdocs.blob.core.windows.net/reference/Workflow Images/aw1.png\"/>"
   ]
  },
  {
   "cell_type": "markdown",
   "id": "b7914958",
   "metadata": {
    "id": "b7914958"
   },
   "source": [
    "### 3.2 Model Registration"
   ]
  },
  {
   "cell_type": "code",
   "execution_count": null,
   "id": "6f87cb0c",
   "metadata": {
    "id": "6f87cb0c"
   },
   "outputs": [],
   "source": [
    "\"\"\"\n",
    "Description: Define the task and analysis type for model registration\n",
    "              \"task_type\" : refers to the specific type of task being performed, for eg : \"tabular_classification.\"\n",
    "              \"analysis_type\" : refers to the specific type of analysis being performed,for eg : \"evasion.\n",
    "              For more information, check out [https://docs.boschaishield.com/api-docs/lesspostgreater-model-registration#-a-xGGsdVJB3d09cBAck-]\n",
    "\"\"\"\n",
    "\n",
    "if pypi:\n",
    "    task_type = ais.get_type(\"task\", \"tabular_classification\")\n",
    "    analysis_type = ais.get_type(\"analysis\", \"evasion\")\n",
    "\n",
    "\n",
    "\n",
    "    #Perform model registration\n",
    "    try:\n",
    "        status, model_registration_repsone = aishield_client.register_model(task_type=task_type, analysis_type=analysis_type)\n",
    "    except Exception as e:\n",
    "        print(str(e))\n",
    "\n",
    "else:\n",
    "    \"\"\"\n",
    "    Description: call Model registration api to get unique model it and url to upload data, model and label\n",
    "    \"\"\"\n",
    "    model_registration_url = url + \"/model_registration/upload\"\n",
    "    model_registration_payload = {\n",
    "        'task_type':\"tabular_classification\",\n",
    "        \"analysis_type\": \"evasion\"\n",
    "    }\n",
    "\n",
    "    new_request = requests.request(method=\"POST\", url=model_registration_url, headers=headers, json=model_registration_payload)\n",
    "    status_cd = new_request.status_code\n",
    "    new_request = json.loads(new_request.text)\n",
    "    try:\n",
    "        if status_cd == 200:\n",
    "            model_id = new_request['data']['model_id']\n",
    "            data_upload_obj = new_request['data']['urls']['data_upload_url']\n",
    "            minmax_upload_obj = new_request['data']['urls']['minmax_upload_url']\n",
    "            model_upload_obj = new_request['data']['urls']['model_upload_url']\n",
    "            print('model_id: ', model_id)\n",
    "        else:\n",
    "            print(new_request)\n",
    "\n",
    "    except Exception as e:\n",
    "        print(new_request, str(e))"
   ]
  },
  {
   "cell_type": "markdown",
   "id": "2aef1487",
   "metadata": {
    "id": "2aef1487"
   },
   "source": [
    "<img src=\"https://aisdocs.blob.core.windows.net/reference/Workflow Images/aw2.png\"/>"
   ]
  },
  {
   "cell_type": "markdown",
   "id": "c8769c47",
   "metadata": {
    "id": "c8769c47"
   },
   "source": [
    "### 3.3 Upload input artifacts"
   ]
  },
  {
   "cell_type": "code",
   "execution_count": null,
   "id": "bcb368b4",
   "metadata": {
    "colab": {
     "base_uri": "https://localhost:8080/"
    },
    "execution": {
     "iopub.execute_input": "2023-06-05T18:28:27.409855Z",
     "iopub.status.busy": "2023-06-05T18:28:27.404436Z",
     "iopub.status.idle": "2023-06-05T18:28:37.206324Z",
     "shell.execute_reply": "2023-06-05T18:28:37.204157Z"
    },
    "hide_code": false,
    "id": "bcb368b4",
    "outputId": "82ec0f8c-2032-4a07-eceb-c49f6e4d3a0c"
   },
   "outputs": [
    {
     "name": "stdout",
     "output_type": "stream",
     "text": [
      "Upload status: data file upload successful, minmax file upload successful, model file upload successful\n"
     ]
    }
   ],
   "source": [
    "\"\"\"\n",
    "Description: Full File paths and upload input artifacts\n",
    "\"\"\"\n",
    "zip_path = 'zip/'\n",
    "data_path=os.path.join(zip_path,'data.zip') #full path of data zip\n",
    "minmax_path=os.path.join(zip_path,'minmax.zip') #full path of label zip\n",
    "model_path=os.path.join(zip_path,'model.zip') #full path of model zip\n",
    "# model_path=os.path.join(zip_path,'encrypt_model.zip') #full path of model zip, uncomment it if model_encryption is 1\n",
    "\n",
    "\n",
    "if pypi:\n",
    "    #upload input artifacts\n",
    "    upload_status = aishield_client.upload_input_artifacts(job_details=model_registration_repsone,\n",
    "                                                  data_path=data_path,\n",
    "                                                  minmax_path=minmax_path,\n",
    "                                                  model_path=model_path, )\n",
    "    print('Upload status: {}'.format(', '.join(upload_status)))\n",
    "\n",
    "else:\n",
    "    def upload_file(upload_obj, file_path):\n",
    "\n",
    "        url = upload_obj['url']\n",
    "        request_payload = upload_obj['fields']\n",
    "        files=[\n",
    "                  ('file',(os.path.basename(file_path),open(file_path,'rb'),'application/zip'))\n",
    "                ]\n",
    "\n",
    "        headers = {}\n",
    "        new_request = requests.request(\"POST\", url, headers=headers, data=request_payload, files=files)\n",
    "        status_cd = new_request.status_code\n",
    "        if status_cd == 204:\n",
    "            status = 'upload sucessful'\n",
    "        else:\n",
    "            status = 'upload failed'\n",
    "        return status\n",
    "\n",
    "    \"\"\"\n",
    "    Description: Hit AIShield File Upload API\n",
    "    \"\"\"\n",
    "    data_upload_status = upload_file(data_upload_obj, data_path)\n",
    "    minmax_upload_status = upload_file(minmax_upload_obj, minmax_path)\n",
    "    model_upload_status = upload_file(model_upload_obj, model_path)\n",
    "    print('data_upload_status: ', data_upload_status)\n",
    "    print('minmax_upload_status: ', minmax_upload_status)\n",
    "    print('model_upload_status: ', model_upload_status)\n"
   ]
  },
  {
   "cell_type": "markdown",
   "id": "62353566",
   "metadata": {
    "id": "62353566"
   },
   "source": [
    "<img src=\"https://aisdocs.blob.core.windows.net/reference/Workflow Images/aw3.png\"/>"
   ]
  },
  {
   "cell_type": "markdown",
   "id": "0758139d",
   "metadata": {
    "id": "0758139d"
   },
   "source": [
    "### 3.4 Model Analysis"
   ]
  },
  {
   "cell_type": "code",
   "execution_count": null,
   "id": "a65baac1",
   "metadata": {
    "id": "a65baac1"
   },
   "outputs": [],
   "source": [
    "\"\"\"\n",
    "Description: Specify the appropriate configs required for vulnerability analysis and trigger model analysis\n",
    "\"\"\"\n",
    "\n",
    "\n",
    "if pypi:\n",
    "    vuln_config = ais.VulnConfig(task_type=task_type,\n",
    "                                 analysis_type=analysis_type,\n",
    "                                 defense_generate=True)\n",
    "\n",
    "    vuln_config.input_dimensions = input_shape # input dimension of banking marketing dataset\n",
    "    vuln_config.number_of_classes = 2  # number of classes of banking marketing dataset\n",
    "    vuln_config.is_category_columns = \"yes\"  # if cetgorical columns are present\n",
    "    vuln_config.categorical_columns_info = [\"job\",\"marital\",\"education\",\"default\",\"housing\",\"loan\",\"contact\",\"poutcome\"]  # name of categorical columns\n",
    "    vuln_config.encryption_strategy = model_encryption  # value 0 (or) 1, if model is unencrypted or encrypted(pyc) respectively\n",
    "\n",
    "    print('TC-Evasion parameters are: \\n {} '.format(vuln_config.get_all_params()))\n",
    "\n",
    "    #Run vulnerability analysis\n",
    "    job_status, job_details = aishield_client.vuln_analysis(model_id=model_registration_repsone.model_id, vuln_config=vuln_config)\n",
    "\n",
    "    #unique job_id for the analyis\n",
    "    job_id = job_details.job_id\n",
    "    print('\\nstatus: {} \\nJob_id: {} \\n'.format(job_status, job_id))\n",
    "\n",
    "    #Monitor progress for given Job ID using the Link below\n",
    "    print('Click on the URL to view Vulnerability Dashboard (GUI): {}'.format(job_details.job_dashboard_uri))\n",
    "\n",
    "else:\n",
    "\n",
    "    \"\"\"\n",
    "    Description: Payload for AIShield VulnerabilityReport api call\n",
    "    \"\"\"\n",
    "    payload={}\n",
    "    payload['use_model_api']=\"no\"\n",
    "    payload['model_api_details']=\"no\"\n",
    "    payload['normalize_data']=\"Yes\"\n",
    "    payload['input_dimensions']=str(input_shape)\n",
    "    payload['number_of_classes']=str(num_classes)\n",
    "    payload['model_framework']='scikit-learn'\n",
    "    payload['defense_bestonly']=\"no\"\n",
    "    payload['encryption_strategy']= model_encryption\n",
    "    payload['is_category_columns'] = \"yes\"\n",
    "    payload['categorical_columns_info'] = \"job,marital,education,default,housing,loan,contact,poutcome\"\n",
    "\n",
    "    print(\"TC-Evasion parameters are:\",payload)\n",
    "    \"\"\"\n",
    "    Description: Hit AIShield VulnerabilityReport api\n",
    "    \"\"\"\n",
    "    model_analysis_url = url + \"/model_analyse/{}\".format(model_id)\n",
    "    if data_upload_status == \"upload sucessful\" and model_upload_status == \"upload sucessful\" and minmax_upload_status == \"upload sucessful\":\n",
    "        new_request = requests.request(method=\"POST\", url=model_analysis_url, json=payload,headers=headers)\n",
    "        new_request=json.loads(new_request.text)\n",
    "        for k, v in new_request.items():\n",
    "            print(\"* {} : {}\".format(k,v))\n",
    "\n",
    "        job_id=new_request['job_id']\n"
   ]
  },
  {
   "cell_type": "markdown",
   "id": "00daeb82",
   "metadata": {
    "id": "00daeb82"
   },
   "source": [
    "<img src=\"https://aisdocs.blob.core.windows.net/reference/Workflow Images/aw4.png\"/>"
   ]
  },
  {
   "cell_type": "markdown",
   "id": "f46c938b",
   "metadata": {
    "id": "f46c938b"
   },
   "source": [
    "### 3.5 Monitor Analysis Status"
   ]
  },
  {
   "cell_type": "code",
   "execution_count": null,
   "id": "55003c2e",
   "metadata": {
    "execution": {
     "iopub.execute_input": "2023-06-05T18:28:38.360112Z",
     "iopub.status.busy": "2023-06-05T18:28:38.360112Z",
     "iopub.status.idle": "2023-06-05T18:33:26.590260Z",
     "shell.execute_reply": "2023-06-05T18:33:26.588183Z"
    },
    "hide_code": false,
    "id": "55003c2e"
   },
   "outputs": [],
   "source": [
    "\"\"\"\n",
    "Description: Fetch Job status using Job ID\n",
    "\"\"\"\n",
    "\n",
    "if pypi:\n",
    "    status = aishield_client.job_status (job_id = job_id)\n",
    "    print('job status ', status)\n",
    "\n",
    "else:\n",
    "    def monitor_api_progress(new_job_id):\n",
    "        job_status_url = url + \"/job_status_detailed?job_id=\" + new_job_id\n",
    "\n",
    "        # status dictionary\n",
    "        status_dictionary = {\n",
    "            'ModelExploration_Status': 'na',\n",
    "            'SanityCheck_Status': 'na',\n",
    "            'QueryGenerator_Status': 'na',\n",
    "            'VunerabilityEngine_Status': 'na',\n",
    "            'DefenseReport_Status': 'na',\n",
    "        }\n",
    "        counts = [0] * len(status_dictionary)\n",
    "        failed_api_hit_count = 0\n",
    "        while True:\n",
    "            time.sleep(2)\n",
    "            try:\n",
    "                job_status_response = requests.request(\"GET\", job_status_url, params={},\n",
    "                                                       headers=headers)\n",
    "\n",
    "                job_status_payload = json.loads(job_status_response.text)\n",
    "                failing_key = 'ModelExploration_Status'\n",
    "                for i, key in enumerate(status_dictionary.keys()):\n",
    "                    if status_dictionary[key] == 'na':\n",
    "                        if job_status_payload[key] == 'inprogress' and status_dictionary[key] == 'na':\n",
    "                            status_dictionary[key] = job_status_payload[key]\n",
    "                            print(str(key), \":\", status_dictionary[key])\n",
    "\n",
    "                        elif job_status_payload[key] == 'completed' or job_status_payload[key] == 'passed':\n",
    "                            status_dictionary[key] = job_status_payload[key]\n",
    "                            counts[i] += 1\n",
    "                            print(str(key), \":\", status_dictionary[key])\n",
    "\n",
    "                        if job_status_payload[key] == 'failed':\n",
    "                            failing_key = key\n",
    "                            status_dictionary[key] = job_status_payload[key]\n",
    "                            print(str(key), \":\", status_dictionary[key])\n",
    "\n",
    "                    elif job_status_payload[key] == 'completed' or job_status_payload[key] == 'passed':\n",
    "                        status_dictionary[key] = job_status_payload[key]\n",
    "                        if counts[i] < 1:\n",
    "                            print(str(key), \":\", status_dictionary[key])\n",
    "                        counts[i] += 1\n",
    "\n",
    "                    else:\n",
    "                        if job_status_payload[key] == 'failed':\n",
    "                            failing_key = key\n",
    "                            status_dictionary[key] = job_status_payload[key]\n",
    "                            print(str(key), \":\", status_dictionary[key])\n",
    "\n",
    "                if job_status_payload[failing_key] == 'failed':\n",
    "                    break\n",
    "\n",
    "                if status_dictionary['VunerabilityEngine_Status'] == 'passed' or status_dictionary[\n",
    "                    'VunerabilityEngine_Status'] == 'completed' and job_status_payload[\n",
    "                    'CurrentStatus'] == \"Defense generation is not triggered\":\n",
    "                    print(\"\\n Vulnerability score {} failed to cross vulnerability threshold of {}\".format(\n",
    "                        job_status_payload['VulnerabiltyScore'], payload['vulnerability_threshold']))\n",
    "                    break\n",
    "                if job_status_payload['DefenseReport_Status'] == 'completed':\n",
    "                    break\n",
    "            except Exception as e:\n",
    "                failed_api_hit_count += 1\n",
    "                print(\"Error {}. trying {} ...\".format(str(e), failed_api_hit_count))\n",
    "                if failed_api_hit_count >= 3:\n",
    "                    break\n",
    "        return status_dictionary\n",
    "\n",
    "    status_dictionary = monitor_api_progress(new_job_id=job_id)"
   ]
  },
  {
   "cell_type": "markdown",
   "id": "878ca69a",
   "metadata": {
    "id": "878ca69a"
   },
   "source": [
    "<img src=\"https://aisdocs.blob.core.windows.net/reference/Workflow Images/aw5.png\"/>"
   ]
  },
  {
   "cell_type": "markdown",
   "id": "0f27f7b1",
   "metadata": {
    "id": "0f27f7b1"
   },
   "source": [
    "### 3.6 Download Reports and artifacts"
   ]
  },
  {
   "cell_type": "code",
   "execution_count": null,
   "id": "56bd0d06",
   "metadata": {
    "execution": {
     "iopub.execute_input": "2023-06-05T18:33:26.599519Z",
     "iopub.status.busy": "2023-06-05T18:33:26.598522Z",
     "iopub.status.idle": "2023-06-05T18:33:26.617593Z",
     "shell.execute_reply": "2023-06-05T18:33:26.615601Z"
    },
    "id": "56bd0d06"
   },
   "outputs": [],
   "source": [
    "report_path = \"reports/\"\n",
    "status =\"success\""
   ]
  },
  {
   "cell_type": "code",
   "execution_count": null,
   "id": "93cb9175",
   "metadata": {
    "id": "93cb9175"
   },
   "outputs": [],
   "source": [
    "def download_artifact(job_id, report_path, report_type='Vulnerability', file_format=0):\n",
    "    \"\"\"\n",
    "    job_id: job_id  received after successful api call\n",
    "    report_type: report to be downloaded\n",
    "    file_format: change file_format to : 0- all report in zip\n",
    "                        1- report in .txt\n",
    "                        2- report in .pdf\n",
    "                        3- report in .json\n",
    "                        4- report in .xml\n",
    "    \"\"\"\n",
    "    print(\"received report_type : {} and file format is: {}\".format(report_type, file_format))\n",
    "    report_url = url + \"/\" + \"get_report?job_id=\" + str(\n",
    "        job_id) + \"&report_type=\" + report_type + \"&file_format=\" + str(file_format)\n",
    "\n",
    "    headers1 = headers\n",
    "    headers1[\"content-type\"] = \"application/zip\"\n",
    "\n",
    "    response = requests.request(\"GET\", report_url, params={}, headers=headers1)\n",
    "\n",
    "    file_path = None\n",
    "    if file_format == 0 or file_format == \"Attack_samples\":\n",
    "        file_path=os.path.join(report_path, report_type + \".zip\")\n",
    "        with open(file_path, 'wb') as f:\n",
    "            f.write(response.content)\n",
    "\n",
    "    elif file_format == 1:\n",
    "        file_path=os.path.join(report_path, report_type + \".txt\")\n",
    "        with open(file_path, 'wb') as f:\n",
    "            f.write(response.content)\n",
    "\n",
    "    elif file_format == 2:\n",
    "        file_path=os.path.join(report_path, report_type + \".pdf\")\n",
    "        with open(file_path, 'wb') as f:\n",
    "            f.write(response.content)\n",
    "\n",
    "    elif file_format == 3:\n",
    "        file_path=os.path.join(report_path, report_type + \".json\")\n",
    "        with open(file_path, 'wb') as f:\n",
    "            f.write(response.content)\n",
    "\n",
    "    elif file_format == 4:\n",
    "        file_path=os.path.join(report_path, report_type + \".xml\")\n",
    "        with open(file_path, 'wb') as f:\n",
    "            f.write(response.content)\n",
    "\n",
    "    return file_path"
   ]
  },
  {
   "cell_type": "code",
   "execution_count": null,
   "id": "ce56da2b",
   "metadata": {
    "execution": {
     "iopub.execute_input": "2023-06-05T18:33:26.623599Z",
     "iopub.status.busy": "2023-06-05T18:33:26.622603Z",
     "iopub.status.idle": "2023-06-05T18:33:29.924086Z",
     "shell.execute_reply": "2023-06-05T18:33:29.922601Z"
    },
    "hide_code": false,
    "id": "ce56da2b"
   },
   "outputs": [],
   "source": [
    "\"\"\"\n",
    "Description: Download the Defense Reports\n",
    "\"\"\"\n",
    "\n",
    "if pypi:\n",
    "    if status == \"success\":\n",
    "        output_conf = ais.OutputConf(report_type=ais.get_type(\"report\", \"vulnerability\"),\n",
    "                                     file_format=ais.get_type(\"file_format\", \"pdf\"),\n",
    "                                     save_folder_path=report_path)\n",
    "\n",
    "        vul_report = aishield_client.save_job_report(job_id=job_id, output_config=output_conf)\n",
    "\n",
    "else:\n",
    "\n",
    "    vul_report = download_artifact(job_id=job_id, report_path= report_path, report_type='Vulnerability', file_format=2)"
   ]
  },
  {
   "cell_type": "code",
   "execution_count": null,
   "id": "094f5a93",
   "metadata": {
    "execution": {
     "iopub.execute_input": "2023-06-05T18:33:29.927533Z",
     "iopub.status.busy": "2023-06-05T18:33:29.927533Z",
     "iopub.status.idle": "2023-06-05T18:33:30.753174Z",
     "shell.execute_reply": "2023-06-05T18:33:30.751183Z"
    },
    "hide_code": false,
    "id": "094f5a93"
   },
   "outputs": [],
   "source": [
    "\"\"\"\n",
    "Description: Download the Defense Reports\n",
    "\"\"\"\n",
    "if pypi:\n",
    "    if status == \"success\":\n",
    "        output_conf = ais.OutputConf(report_type=ais.get_type(\"report\", \"defense\"),\n",
    "                                     file_format=ais.get_type(\"file_format\", \"pdf\"),\n",
    "                                     save_folder_path=report_path)\n",
    "\n",
    "        def_report = aishield_client.save_job_report(job_id=job_id, output_config=output_conf)\n",
    "else:\n",
    "    def_report = download_artifact(job_id=job_id, report_path= report_path, report_type='Defense', file_format=2)"
   ]
  },
  {
   "cell_type": "code",
   "execution_count": null,
   "id": "6dda4e59",
   "metadata": {
    "execution": {
     "iopub.execute_input": "2023-06-05T18:33:30.755901Z",
     "iopub.status.busy": "2023-06-05T18:33:30.755901Z",
     "iopub.status.idle": "2023-06-05T18:33:31.600939Z",
     "shell.execute_reply": "2023-06-05T18:33:31.598946Z"
    },
    "hide_code": false,
    "id": "6dda4e59"
   },
   "outputs": [],
   "source": [
    "\"\"\"\n",
    "Description: Download the Defense artifacts: Model\n",
    "\"\"\"\n",
    "\n",
    "if pypi:\n",
    "    if status == \"success\":\n",
    "        output_conf = ais.OutputConf(report_type=ais.get_type(\"report\", \"defense_artifact\"),\n",
    "                                     file_format=ais.get_type(\"file_format\", \"pdf\"),\n",
    "                                     save_folder_path=report_path)\n",
    "\n",
    "        def_artifact_report = aishield_client.save_job_report(job_id=job_id, output_config=output_conf)\n",
    "else:\n",
    "    def_artifact_report = download_artifact(job_id=job_id, report_path= report_path, report_type='Defense_artifact', file_format=0)"
   ]
  },
  {
   "cell_type": "code",
   "execution_count": null,
   "id": "77c57373",
   "metadata": {
    "execution": {
     "iopub.execute_input": "2023-06-05T18:33:31.607651Z",
     "iopub.status.busy": "2023-06-05T18:33:31.607651Z",
     "iopub.status.idle": "2023-06-05T18:33:32.603112Z",
     "shell.execute_reply": "2023-06-05T18:33:32.600361Z"
    },
    "hide_code": false,
    "id": "77c57373"
   },
   "outputs": [],
   "source": [
    "\"\"\"\n",
    "Description: Download the Attack Samples\n",
    "\"\"\"\n",
    "if pypi:\n",
    "    if status == \"success\":\n",
    "        output_conf = ais.OutputConf(report_type=ais.get_type(\"report\", \"attack_samples\"),\n",
    "                                     save_folder_path=report_path)\n",
    "\n",
    "        attack_report = aishield_client.save_job_report(job_id=job_id, output_config=output_conf)\n",
    "else:\n",
    "    attack_report = download_artifact(job_id=job_id, report_path= report_path, report_type='Attack_samples', file_format=0)"
   ]
  },
  {
   "cell_type": "code",
   "execution_count": null,
   "id": "Odv5kzeYFTOZ",
   "metadata": {
    "execution": {
     "iopub.execute_input": "2023-06-05T18:33:32.606419Z",
     "iopub.status.busy": "2023-06-05T18:33:32.606419Z",
     "iopub.status.idle": "2023-06-05T18:33:32.645220Z",
     "shell.execute_reply": "2023-06-05T18:33:32.644077Z"
    },
    "hide_code": false,
    "id": "Odv5kzeYFTOZ"
   },
   "outputs": [],
   "source": [
    "\n",
    "def get_file_id(report_path):\n",
    "\n",
    "    file_id = None\n",
    "    !pip install --upgrade google-api-python-client google-auth-httplib2 google-auth-oauthlib\n",
    "\n",
    "    # from google.colab import drive\n",
    "    # drive.mount('/content/drive')\n",
    "    import os\n",
    "    from googleapiclient.discovery import build\n",
    "    from googleapiclient.http import MediaFileUpload\n",
    "\n",
    "    # Authenticate and authorize access to the Google Drive API\n",
    "    from google.colab import auth\n",
    "    auth.authenticate_user()\n",
    "\n",
    "    # Build the Drive API service\n",
    "    drive_service = build('drive', 'v3')\n",
    "\n",
    "    # Path to the PDF file in your local drive\n",
    "#         local_pdf_path = '/content/drive/MyDrive/Vulnerability.pdf'\n",
    "\n",
    "    # Upload the PDF file to Google Drive\n",
    "    pdf_file_name = os.path.basename(report_path)\n",
    "    file_metadata = {'name': pdf_file_name}\n",
    "    media = MediaFileUpload(report_path, mimetype='application/pdf')\n",
    "    file = drive_service.files().create(body=file_metadata, media_body=media, fields='id').execute()\n",
    "\n",
    "    # Set sharing permissions to \"Anyone with the link\"\n",
    "    file_id = file.get('id')\n",
    "    drive_service.permissions().create(\n",
    "        fileId=file_id,\n",
    "        body={'role': 'reader', 'type': 'anyone'}\n",
    "    ).execute()\n",
    "\n",
    "    return file_id"
   ]
  },
  {
   "cell_type": "code",
   "execution_count": null,
   "id": "6f2c29ad",
   "metadata": {
    "execution": {
     "iopub.execute_input": "2023-06-05T18:33:32.652937Z",
     "iopub.status.busy": "2023-06-05T18:33:32.652937Z",
     "iopub.status.idle": "2023-06-05T18:33:32.679968Z",
     "shell.execute_reply": "2023-06-05T18:33:32.678696Z"
    },
    "hide_code": false,
    "id": "6f2c29ad"
   },
   "outputs": [],
   "source": [
    "\"\"\"\n",
    "Description: Displaying the current Vulnerability Assement report\n",
    "\"\"\"\n",
    "\n",
    "if (\"colab\" in runtime_environment.lower()):\n",
    "    file_id = get_file_id(report_path = vul_report)\n",
    "    display_pdf(output_filename = \"vul_\"+job_id[-10:],runtime_environment=runtime_environment,file_id=file_id)\n",
    "else:\n",
    "    display_pdf(output_filename = \"vul_\"+job_id[-10:],runtime_environment=runtime_environment, pdf_path =os.path.join(report_path, os.path.basename(vul_report)))"
   ]
  },
  {
   "cell_type": "code",
   "execution_count": null,
   "id": "f67ff9a4",
   "metadata": {
    "hide_code": true,
    "id": "f67ff9a4"
   },
   "outputs": [],
   "source": [
    "\"\"\"\n",
    "Description: Displaying the current Defense Assement report\n",
    "\"\"\"\n",
    "\n",
    "if (\"colab\" in runtime_environment.lower()):\n",
    "    file_id = get_file_id(report_path = def_report)\n",
    "    display_pdf(output_filename = \"Defense_\"+job_id[-10:],runtime_environment=runtime_environment,file_id=file_id)\n",
    "else:\n",
    "    display_pdf(output_filename = \"Defense_\"+job_id[-10:],runtime_environment=runtime_environment, pdf_path =os.path.join(report_path, os.path.basename(def_report)))"
   ]
  },
  {
   "cell_type": "markdown",
   "id": "333a5ee5",
   "metadata": {
    "id": "333a5ee5"
   },
   "source": [
    "<img src=\"https://aisdocs.blob.core.windows.net/reference/Workflow Images/aw6.png\"/>"
   ]
  },
  {
   "cell_type": "markdown",
   "id": "c450fbca",
   "metadata": {
    "id": "c450fbca"
   },
   "source": [
    "### After conducting a Vulnerability Analysis by AIshield, if a defense recommendation is identified, then following actions can be taken:\n",
    "\n",
    "1. **Model Retraining:** It is advised to retrain the original model to enhance its robustness. By revisiting the training process and incorporating the insights gained from the vulnerability analysis, the model can be improved to better handle potential threats and mitigate vulnerabilities.\n",
    "\n",
    "\n",
    "2. **Deploying Threat-Informed Defense Model:** In addition to the original model, AIshield provides a specialized defense model that is specifically designed to address the identified threats. This threat-informed defense model can be deployed alongside the original model to provide an additional layer of protection and enhance the overall security posture. By leveraging the insights gained from the vulnerability analysis, the defense model offers targeted defenses against potential threats."
   ]
  },
  {
   "cell_type": "code",
   "execution_count": null,
   "id": "17772f1b",
   "metadata": {
    "id": "17772f1b"
   },
   "outputs": [],
   "source": []
  }
 ],
 "metadata": {
  "accelerator": "GPU",
  "codeState": [
   "",
   "",
   "",
   "none",
   "none",
   "none",
   "none",
   "none",
   "none",
   "none",
   "",
   "none",
   "none",
   "",
   "",
   "",
   "",
   "",
   "none",
   "",
   "",
   "none",
   "",
   "",
   "",
   "",
   "",
   "",
   "",
   "",
   "",
   "",
   "",
   "",
   "none",
   "",
   ""
  ],
  "colab": {
   "gpuType": "T4",
   "provenance": []
  },
  "custom_metadata": {
   "show_hide_code": true
  },
  "kernelspec": {
   "display_name": "Python 3 (ipykernel)",
   "language": "python",
   "name": "python3"
  },
  "language_info": {
   "codemirror_mode": {
    "name": "ipython",
    "version": 3
   },
   "file_extension": ".py",
   "mimetype": "text/x-python",
   "name": "python",
   "nbconvert_exporter": "python",
   "pygments_lexer": "ipython3",
   "version": "3.10.13"
  }
 },
 "nbformat": 4,
 "nbformat_minor": 5
}
