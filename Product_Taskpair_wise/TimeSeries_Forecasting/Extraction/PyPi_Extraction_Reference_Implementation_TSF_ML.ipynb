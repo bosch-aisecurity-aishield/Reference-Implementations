{
 "cells": [
  {
   "cell_type": "markdown",
   "id": "189ff123",
   "metadata": {},
   "source": [
    "## `TimeSeries Forecasting Model`\n",
    "* <b>File Name</b> : Reference_implementation\n",
    "* <b>Date of creation(dd-mm-yyyy)</b> : 08-05-2023\n",
    "* <b>Author Name/Dept</b> : AIShield\n",
    "* <b>Organization</b> : BGSW\n",
    "* <b>Description</b> : Source Code of reference implementation\n",
    "* <b>Copyright</b> : Copyright 2022 Bosch Global Software Technologies Private Limited. All Rights Reserved.\n",
    "\n",
    "### Metadata\n",
    "* <b>Dataset</b> : hourly energy consumption\n",
    "* <b>Size of training set</b>: 113927\n",
    "* <b>Size of testing set</b> : 31439\n",
    "* <b>Original Model</b>: XGBoost\n",
    "\n",
    "### Outcomes\n",
    "* <b>RMSE Score of model</b>: 0.013"
   ]
  },
  {
   "cell_type": "markdown",
   "id": "5624282e",
   "metadata": {},
   "source": [
    "<a target=\"_blank\" href=\"https://colab.research.google.com/github/bosch-aisecurity-aishield/Reference-Implementations/blob/main/Product_Taskpair_wise/TimeSeries_Forecasting/Extraction/PyPi_Extraction_Reference_Implementation_TSF_ML.ipynb\">\n",
    "  <img src=\"https://colab.research.google.com/assets/colab-badge.svg\" alt=\"Open In Colab\"/>\n",
    "</a>"
   ]
  },
  {
   "cell_type": "code",
   "execution_count": 33,
   "id": "2cd758fe",
   "metadata": {},
   "outputs": [],
   "source": [
    "# # Install AIShield SDK.\n",
    "# # If not already installed, install by uncommenting the code below\n",
    "\n",
    "# !pip install aishield"
   ]
  },
  {
   "cell_type": "code",
   "execution_count": 1,
   "id": "7dc53ee7",
   "metadata": {},
   "outputs": [
    {
     "data": {
      "text/plain": [
       "'\\nDescription: commands to install all the packages, remove comments to install all the libraries\\n'"
      ]
     },
     "execution_count": 1,
     "metadata": {},
     "output_type": "execute_result"
    }
   ],
   "source": [
    "\"\"\"\n",
    "Description: commands to install all the packages, remove comments to install all the libraries\n",
    "\"\"\"\n",
    "# ! pip install xgboost==1.6.2\n",
    "# ! pip install pandas==1.5.1\n",
    "# ! pip install scikit-learn==1.1.3\n",
    "# ! pip install numpy==1.23.4\n",
    "# ! pip install pyminizip\n",
    "# !pip install requests==2.28.0\n",
    "# !pip install humanfriendly==9.2"
   ]
  },
  {
   "cell_type": "markdown",
   "id": "d1601b38",
   "metadata": {},
   "source": [
    "## `1.0 Import Libraries`"
   ]
  },
  {
   "cell_type": "code",
   "execution_count": 35,
   "id": "ee3cf9ac",
   "metadata": {},
   "outputs": [],
   "source": [
    "\"\"\"\n",
    "Description: Import libraries\n",
    "\"\"\"\n",
    "import cv2\n",
    "import os\n",
    "import json\n",
    "import time\n",
    "import shutil\n",
    "import random\n",
    "import pickle\n",
    "import zipfile \n",
    "import requests\n",
    "import warnings\n",
    "import pyminizip\n",
    "import py_compile\n",
    "import numpy as np\n",
    "import pandas as pd\n",
    "import xgboost as xgb\n",
    "import matplotlib.pyplot as plt\n",
    "from sklearn.preprocessing import MinMaxScaler\n",
    "from sklearn.metrics import mean_squared_error\n",
    "from sklearn.model_selection import train_test_split\n",
    "\n",
    "import tensorflow as tf\n",
    "\n",
    "warnings.filterwarnings('ignore')\n",
    "\n",
    "\n",
    "#importing AIShield Library\n",
    "import aishield as ais"
   ]
  },
  {
   "cell_type": "markdown",
   "id": "51b73d3c",
   "metadata": {},
   "source": [
    "## `2.0 Data Loading and Pre-processing`\n",
    "\n",
    "#### Download dataset from the link https://www.kaggle.com/code/robikscube/tutorial-time-series-forecasting-with-xgboost/input?select=PJME_hourly.csv\n",
    "\n",
    "1. then download the PJME_hourly.csv file"
   ]
  },
  {
   "cell_type": "code",
   "execution_count": 4,
   "id": "0e1e8cf4",
   "metadata": {},
   "outputs": [],
   "source": [
    "'''\n",
    "Description : Loading hourlyenergy consumption dataset\n",
    "'''\n",
    "\n",
    "data =  pd.read_csv(\"PJME_hourly/PJME_hourly.csv\", index_col=[0], parse_dates=[0])"
   ]
  },
  {
   "cell_type": "code",
   "execution_count": 5,
   "id": "bc2de398",
   "metadata": {},
   "outputs": [
    {
     "data": {
      "text/plain": [
       "(145366, 1)"
      ]
     },
     "execution_count": 5,
     "metadata": {},
     "output_type": "execute_result"
    }
   ],
   "source": [
    "data.shape"
   ]
  },
  {
   "cell_type": "code",
   "execution_count": 6,
   "id": "a185b0e4",
   "metadata": {},
   "outputs": [],
   "source": [
    "'''\n",
    "convert series to supervised learning\n",
    "''' \n",
    "def series_to_supervised(data, n_vars_out, n_in, n_out=1, fillnan=True):\n",
    "    n_vars = 1 if type(data) is list else data.shape[1]\n",
    "    df = pd.DataFrame(data)\n",
    "    cols, names = list(), list()\n",
    "    \n",
    "    # input sequence (t-n, ... t-1)\n",
    "    for i in range(n_in, 0, -1):\n",
    "        cols.append(df.shift(i))\n",
    "        names += [('var%d(t-%d)' % (j+1, i)) for j in range(n_vars)]\n",
    "        \n",
    "    # forecast sequence (t, t+1, ... t+n)\n",
    "    for i in range(0, n_out):\n",
    "        cols.append(df.shift(-i).iloc[:,n_vars_out])\n",
    "        if i == 0:\n",
    "            names += [('var%d(t)' % (j+1)) for j in (n_vars_out)]\n",
    "        else:\n",
    "            names += [('var%d(t+%d)' % (j+1, i)) for j in (n_vars_out)]\n",
    "            \n",
    "    # put it all together\n",
    "    agg = pd.concat(cols, axis=1)\n",
    "    agg.columns = names\n",
    "    \n",
    "    # Replace nan values with 0\n",
    "    if fillnan:\n",
    "        agg = agg.fillna(0)\n",
    "    return agg"
   ]
  },
  {
   "cell_type": "code",
   "execution_count": 7,
   "id": "a5e98d44",
   "metadata": {},
   "outputs": [],
   "source": [
    "def data_prep(df, input_dims, pred_out):    \n",
    "    # convert input dims to number of timesteps and number of features\n",
    "    num_timesteps, num_features = 100,1#input_dims\n",
    "    \n",
    "    # generate data samples by window sliding through time series data\n",
    "    reframed = series_to_supervised(df, pred_out, num_timesteps)\n",
    "    data = reframed.values\n",
    "    \n",
    "    # split into input and outputs\n",
    "    n_obs = num_timesteps*num_features  # no. of timesteps * features \n",
    "    data_x, data_y = data[:, :n_obs], data[:, n_obs:]\n",
    "    \n",
    "    # reshape input to be 3D [samples, timesteps, features]\n",
    "    data_x = data_x.reshape((data_x.shape[0], num_timesteps, num_features))\n",
    "    \n",
    "    return data_x, data_y"
   ]
  },
  {
   "cell_type": "code",
   "execution_count": 8,
   "id": "80ee6185",
   "metadata": {},
   "outputs": [],
   "source": [
    "values = data.values\n",
    "scaler = MinMaxScaler(feature_range=(0, 1))\n",
    "scaled = scaler.fit_transform(values)"
   ]
  },
  {
   "cell_type": "code",
   "execution_count": 9,
   "id": "5efa4142",
   "metadata": {},
   "outputs": [],
   "source": [
    "'''\n",
    "Description : convert normalized dataset to a dataframe \n",
    "'''\n",
    "\n",
    "df_scaled = pd.DataFrame(scaled,columns = data.columns )"
   ]
  },
  {
   "cell_type": "code",
   "execution_count": 10,
   "id": "d36cf816",
   "metadata": {},
   "outputs": [],
   "source": [
    "'''\n",
    "Description : choosing train and testing dataset\n",
    "'''\n",
    "\n",
    "df_train = df_scaled.iloc[0:113927].copy()\n",
    "df_test = df_scaled.iloc[113927:145366].copy()"
   ]
  },
  {
   "cell_type": "code",
   "execution_count": 11,
   "id": "9b7c3e7f",
   "metadata": {},
   "outputs": [],
   "source": [
    "'''\n",
    "Description : Splitting data for training and testing \n",
    "'''\n",
    "\n",
    "input_shape = (100,1)\n",
    "pred_col_index = [len(df_train.columns) - 1]\n",
    "x_train, y_train = data_prep(df_train, input_shape, pred_col_index)\n",
    "x_test, y_test = data_prep(df_test, input_shape, pred_col_index)"
   ]
  },
  {
   "cell_type": "code",
   "execution_count": 12,
   "id": "f2da857c",
   "metadata": {},
   "outputs": [
    {
     "name": "stdout",
     "output_type": "stream",
     "text": [
      "x_train Shape : (113927, 100, 1)\n",
      "y_train Shape: (113927, 1)\n",
      "x_test Shape: (31439, 100, 1)\n",
      "y_test Shape: (31439, 1)\n"
     ]
    }
   ],
   "source": [
    "'''\n",
    "Description : Check size of dataset\n",
    "'''\n",
    "print(\"x_train Shape :\",x_train.shape)\n",
    "print(\"y_train Shape:\",y_train.shape)\n",
    "print(\"x_test Shape:\",x_test.shape)\n",
    "print(\"y_test Shape:\",y_test.shape)"
   ]
  },
  {
   "cell_type": "code",
   "execution_count": 13,
   "id": "8384f1cb",
   "metadata": {
    "scrolled": true
   },
   "outputs": [
    {
     "data": {
      "text/plain": [
       "array([<AxesSubplot:>], dtype=object)"
      ]
     },
     "execution_count": 13,
     "metadata": {},
     "output_type": "execute_result"
    },
    {
     "data": {
      "image/png": "[encoded data removed]",
      "text/plain": [
       "<Figure size 720x1440 with 1 Axes>"
      ]
     },
     "metadata": {
      "needs_background": "light"
     },
     "output_type": "display_data"
    }
   ],
   "source": [
    "'''\n",
    "Description : Plotting the graphs\n",
    "'''\n",
    "\n",
    "df_train.plot(subplots =True, sharex = True, figsize = (10,20))"
   ]
  },
  {
   "cell_type": "code",
   "execution_count": 14,
   "id": "ad60243d",
   "metadata": {},
   "outputs": [],
   "source": [
    "def make_directory(directory):\n",
    "    \"\"\"\n",
    "    create directory\n",
    "\n",
    "    Parameters\n",
    "    ----------\n",
    "    directorys : list containing the directorys path to create \n",
    "    Returns\n",
    "    -------q\n",
    "    None.\n",
    "\n",
    "    \"\"\"\n",
    "    for d in directory:\n",
    "        if os.path.isdir(d):\n",
    "            print(\"directory {} already exist\".format(d))\n",
    "        if os.path.isdir(d)==False:\n",
    "            os.mkdir(path=d)\n",
    "            print(\"directory {} created successfully\".format(d))"
   ]
  },
  {
   "cell_type": "code",
   "execution_count": 15,
   "id": "2edf6242",
   "metadata": {},
   "outputs": [],
   "source": [
    "def delete_directory(directorys):\n",
    "    \"\"\"\n",
    "    delete directory \n",
    "\n",
    "    Parameters\n",
    "    ----------\n",
    "    directorys : list containing the directorys to deleate along with all the files\n",
    "\n",
    "    Returns\n",
    "    -------\n",
    "    None.\n",
    "\n",
    "    \"\"\"\n",
    "    if len(directorys)>=1:\n",
    "        for d in directorys:\n",
    "            if os.path.isdir(d):\n",
    "                try:\n",
    "                    if os.path.isfile(d):\n",
    "                        os.remove(path=d)\n",
    "                    else:\n",
    "                        shutil.rmtree(path=d)\n",
    "                        print(\"Removed: {}\".format(d))\n",
    "                except:\n",
    "                    print(\"Failed to removed: {}\".format(d))\n",
    "            else:\n",
    "                print(\"Failed to removed: {}\".format(d))\n",
    "                "
   ]
  },
  {
   "cell_type": "code",
   "execution_count": 16,
   "id": "a74977a7",
   "metadata": {},
   "outputs": [],
   "source": [
    "def make_archive(base_name,root_dir,zip_format='zip'):\n",
    "    \"\"\"\n",
    "    created zip for given folder\n",
    "\n",
    "    Parameters\n",
    "    ----------\n",
    "    base_name : name of zip file\n",
    "    root_dir : directory to archive/zip\n",
    "    zip_format : zip or tar \n",
    "        DESCRIPTION. The default is 'zip'.\n",
    "\n",
    "    Returns\n",
    "    -------\n",
    "    None.\n",
    "\n",
    "    \"\"\"\n",
    "    shutil.make_archive(base_name=base_name, format=zip_format, root_dir=root_dir)\n",
    "    "
   ]
  },
  {
   "cell_type": "code",
   "execution_count": 93,
   "id": "9c4c6456",
   "metadata": {},
   "outputs": [
    {
     "data": {
      "text/plain": [
       "'Description : Create data, model and label folder'"
      ]
     },
     "execution_count": 93,
     "metadata": {},
     "output_type": "execute_result"
    }
   ],
   "source": [
    "\"Description : Create data, model and label folder\"\n",
    "data_path=os.path.join(os.getcwd(),\"data\")\n",
    "model_path=os.path.join(os.getcwd(),\"model\")\n",
    "minmax_path=os.path.join(os.getcwd(),\"minmax\")\n",
    "zip_path=os.path.join(os.getcwd(),\"zip\")\n",
    "pyc_model_path=os.path.join(os.getcwd(),\"pycmodel\")\n",
    "report_path = os.path.join(os.getcwd(),\"reports\")\n",
    "#deleting folder\n",
    "delete_directory(directorys=[data_path,model_path,minmax_path,zip_path,pyc_model_path,report_path])\n",
    "\n",
    "#creating folder\n",
    "make_directory([data_path,model_path,minmax_path,zip_path,pyc_model_path,report_path])\n"
   ]
  },
  {
   "cell_type": "markdown",
   "id": "8397b439",
   "metadata": {},
   "source": [
    "## `3.0 Model Development and Training`\n"
   ]
  },
  {
   "cell_type": "code",
   "execution_count": 18,
   "id": "6d358e6e",
   "metadata": {},
   "outputs": [],
   "source": [
    "\"\"\"\n",
    "Description: Create model architecture\n",
    "\"\"\"\n",
    "\n",
    "def getmodel():\n",
    "    model = xgb.XGBRegressor(n_estimators=1000)\n",
    "    \n",
    "    return model"
   ]
  },
  {
   "cell_type": "code",
   "execution_count": 19,
   "id": "8017da60",
   "metadata": {},
   "outputs": [],
   "source": [
    "\"\"\"\n",
    "Description: to get root mean squared error of the model \n",
    "\"\"\"\n",
    "def RMSE_score(model, test_x, test_y):\n",
    "    pred_y = model.predict(test_x)\n",
    "    return np.sqrt(mean_squared_error(pred_y, test_y))\n"
   ]
  },
  {
   "cell_type": "code",
   "execution_count": 20,
   "id": "60364b2a",
   "metadata": {},
   "outputs": [
    {
     "data": {
      "text/plain": [
       "XGBRegressor(base_score=None, booster=None, callbacks=None,\n",
       "             colsample_bylevel=None, colsample_bynode=None,\n",
       "             colsample_bytree=None, early_stopping_rounds=None,\n",
       "             enable_categorical=False, eval_metric=None, gamma=None,\n",
       "             gpu_id=None, grow_policy=None, importance_type=None,\n",
       "             interaction_constraints=None, learning_rate=None, max_bin=None,\n",
       "             max_cat_to_onehot=None, max_delta_step=None, max_depth=None,\n",
       "             max_leaves=None, min_child_weight=None, missing=nan,\n",
       "             monotone_constraints=None, n_estimators=1000, n_jobs=None,\n",
       "             num_parallel_tree=None, predictor=None, random_state=None,\n",
       "             reg_alpha=None, reg_lambda=None, ...)"
      ]
     },
     "execution_count": 20,
     "metadata": {},
     "output_type": "execute_result"
    }
   ],
   "source": [
    "\"\"\"\n",
    "Description: Model summary\n",
    "\"\"\"\n",
    "model= getmodel()\n",
    "model"
   ]
  },
  {
   "cell_type": "code",
   "execution_count": 21,
   "id": "775cb0cf",
   "metadata": {
    "scrolled": true
   },
   "outputs": [
    {
     "name": "stdout",
     "output_type": "stream",
     "text": [
      "[0]\tvalidation_0-rmse:0.13103\tvalidation_1-rmse:0.14142\n",
      "[1]\tvalidation_0-rmse:0.09309\tvalidation_1-rmse:0.10079\n",
      "[2]\tvalidation_0-rmse:0.06670\tvalidation_1-rmse:0.07240\n",
      "[3]\tvalidation_0-rmse:0.04852\tvalidation_1-rmse:0.05286\n",
      "[4]\tvalidation_0-rmse:0.03615\tvalidation_1-rmse:0.03957\n",
      "[5]\tvalidation_0-rmse:0.02790\tvalidation_1-rmse:0.03074\n",
      "[6]\tvalidation_0-rmse:0.02260\tvalidation_1-rmse:0.02509\n",
      "[7]\tvalidation_0-rmse:0.01926\tvalidation_1-rmse:0.02151\n",
      "[8]\tvalidation_0-rmse:0.01724\tvalidation_1-rmse:0.01940\n",
      "[9]\tvalidation_0-rmse:0.01600\tvalidation_1-rmse:0.01807\n",
      "[10]\tvalidation_0-rmse:0.01526\tvalidation_1-rmse:0.01731\n",
      "[11]\tvalidation_0-rmse:0.01476\tvalidation_1-rmse:0.01680\n",
      "[12]\tvalidation_0-rmse:0.01438\tvalidation_1-rmse:0.01643\n",
      "[13]\tvalidation_0-rmse:0.01409\tvalidation_1-rmse:0.01623\n",
      "[14]\tvalidation_0-rmse:0.01386\tvalidation_1-rmse:0.01608\n",
      "[15]\tvalidation_0-rmse:0.01371\tvalidation_1-rmse:0.01595\n",
      "[16]\tvalidation_0-rmse:0.01353\tvalidation_1-rmse:0.01583\n",
      "[17]\tvalidation_0-rmse:0.01332\tvalidation_1-rmse:0.01569\n",
      "[18]\tvalidation_0-rmse:0.01320\tvalidation_1-rmse:0.01564\n",
      "[19]\tvalidation_0-rmse:0.01307\tvalidation_1-rmse:0.01557\n",
      "[20]\tvalidation_0-rmse:0.01301\tvalidation_1-rmse:0.01552\n",
      "[21]\tvalidation_0-rmse:0.01288\tvalidation_1-rmse:0.01542\n",
      "[22]\tvalidation_0-rmse:0.01283\tvalidation_1-rmse:0.01540\n",
      "[23]\tvalidation_0-rmse:0.01276\tvalidation_1-rmse:0.01536\n",
      "[24]\tvalidation_0-rmse:0.01269\tvalidation_1-rmse:0.01533\n",
      "[25]\tvalidation_0-rmse:0.01259\tvalidation_1-rmse:0.01529\n",
      "[26]\tvalidation_0-rmse:0.01251\tvalidation_1-rmse:0.01526\n",
      "[27]\tvalidation_0-rmse:0.01243\tvalidation_1-rmse:0.01522\n",
      "[28]\tvalidation_0-rmse:0.01237\tvalidation_1-rmse:0.01518\n",
      "[29]\tvalidation_0-rmse:0.01234\tvalidation_1-rmse:0.01515\n",
      "[30]\tvalidation_0-rmse:0.01226\tvalidation_1-rmse:0.01512\n",
      "[31]\tvalidation_0-rmse:0.01219\tvalidation_1-rmse:0.01508\n",
      "[32]\tvalidation_0-rmse:0.01215\tvalidation_1-rmse:0.01507\n",
      "[33]\tvalidation_0-rmse:0.01205\tvalidation_1-rmse:0.01505\n",
      "[34]\tvalidation_0-rmse:0.01199\tvalidation_1-rmse:0.01502\n",
      "[35]\tvalidation_0-rmse:0.01193\tvalidation_1-rmse:0.01499\n",
      "[36]\tvalidation_0-rmse:0.01188\tvalidation_1-rmse:0.01496\n",
      "[37]\tvalidation_0-rmse:0.01180\tvalidation_1-rmse:0.01493\n",
      "[38]\tvalidation_0-rmse:0.01177\tvalidation_1-rmse:0.01491\n",
      "[39]\tvalidation_0-rmse:0.01167\tvalidation_1-rmse:0.01487\n",
      "[40]\tvalidation_0-rmse:0.01163\tvalidation_1-rmse:0.01484\n",
      "[41]\tvalidation_0-rmse:0.01157\tvalidation_1-rmse:0.01484\n",
      "[42]\tvalidation_0-rmse:0.01148\tvalidation_1-rmse:0.01478\n",
      "[43]\tvalidation_0-rmse:0.01142\tvalidation_1-rmse:0.01476\n",
      "[44]\tvalidation_0-rmse:0.01136\tvalidation_1-rmse:0.01475\n",
      "[45]\tvalidation_0-rmse:0.01133\tvalidation_1-rmse:0.01473\n",
      "[46]\tvalidation_0-rmse:0.01129\tvalidation_1-rmse:0.01472\n",
      "[47]\tvalidation_0-rmse:0.01125\tvalidation_1-rmse:0.01470\n",
      "[48]\tvalidation_0-rmse:0.01118\tvalidation_1-rmse:0.01468\n",
      "[49]\tvalidation_0-rmse:0.01114\tvalidation_1-rmse:0.01465\n",
      "[50]\tvalidation_0-rmse:0.01110\tvalidation_1-rmse:0.01464\n",
      "[51]\tvalidation_0-rmse:0.01105\tvalidation_1-rmse:0.01462\n",
      "[52]\tvalidation_0-rmse:0.01100\tvalidation_1-rmse:0.01460\n",
      "[53]\tvalidation_0-rmse:0.01097\tvalidation_1-rmse:0.01458\n",
      "[54]\tvalidation_0-rmse:0.01091\tvalidation_1-rmse:0.01458\n",
      "[55]\tvalidation_0-rmse:0.01089\tvalidation_1-rmse:0.01457\n",
      "[56]\tvalidation_0-rmse:0.01087\tvalidation_1-rmse:0.01455\n",
      "[57]\tvalidation_0-rmse:0.01084\tvalidation_1-rmse:0.01454\n",
      "[58]\tvalidation_0-rmse:0.01077\tvalidation_1-rmse:0.01450\n",
      "[59]\tvalidation_0-rmse:0.01075\tvalidation_1-rmse:0.01449\n",
      "[60]\tvalidation_0-rmse:0.01073\tvalidation_1-rmse:0.01447\n",
      "[61]\tvalidation_0-rmse:0.01071\tvalidation_1-rmse:0.01447\n",
      "[62]\tvalidation_0-rmse:0.01065\tvalidation_1-rmse:0.01448\n",
      "[63]\tvalidation_0-rmse:0.01060\tvalidation_1-rmse:0.01443\n",
      "[64]\tvalidation_0-rmse:0.01056\tvalidation_1-rmse:0.01442\n",
      "[65]\tvalidation_0-rmse:0.01052\tvalidation_1-rmse:0.01440\n",
      "[66]\tvalidation_0-rmse:0.01049\tvalidation_1-rmse:0.01439\n",
      "[67]\tvalidation_0-rmse:0.01044\tvalidation_1-rmse:0.01437\n",
      "[68]\tvalidation_0-rmse:0.01041\tvalidation_1-rmse:0.01435\n",
      "[69]\tvalidation_0-rmse:0.01037\tvalidation_1-rmse:0.01434\n",
      "[70]\tvalidation_0-rmse:0.01033\tvalidation_1-rmse:0.01432\n",
      "[71]\tvalidation_0-rmse:0.01032\tvalidation_1-rmse:0.01432\n",
      "[72]\tvalidation_0-rmse:0.01027\tvalidation_1-rmse:0.01431\n",
      "[73]\tvalidation_0-rmse:0.01024\tvalidation_1-rmse:0.01431\n",
      "[74]\tvalidation_0-rmse:0.01020\tvalidation_1-rmse:0.01429\n",
      "[75]\tvalidation_0-rmse:0.01018\tvalidation_1-rmse:0.01429\n",
      "[76]\tvalidation_0-rmse:0.01017\tvalidation_1-rmse:0.01428\n",
      "[77]\tvalidation_0-rmse:0.01012\tvalidation_1-rmse:0.01427\n",
      "[78]\tvalidation_0-rmse:0.01008\tvalidation_1-rmse:0.01425\n",
      "[79]\tvalidation_0-rmse:0.01001\tvalidation_1-rmse:0.01423\n",
      "[80]\tvalidation_0-rmse:0.00998\tvalidation_1-rmse:0.01422\n",
      "[81]\tvalidation_0-rmse:0.00993\tvalidation_1-rmse:0.01421\n",
      "[82]\tvalidation_0-rmse:0.00990\tvalidation_1-rmse:0.01419\n",
      "[83]\tvalidation_0-rmse:0.00987\tvalidation_1-rmse:0.01418\n",
      "[84]\tvalidation_0-rmse:0.00983\tvalidation_1-rmse:0.01415\n",
      "[85]\tvalidation_0-rmse:0.00979\tvalidation_1-rmse:0.01413\n",
      "[86]\tvalidation_0-rmse:0.00974\tvalidation_1-rmse:0.01410\n",
      "[87]\tvalidation_0-rmse:0.00971\tvalidation_1-rmse:0.01409\n",
      "[88]\tvalidation_0-rmse:0.00970\tvalidation_1-rmse:0.01408\n",
      "[89]\tvalidation_0-rmse:0.00966\tvalidation_1-rmse:0.01407\n",
      "[90]\tvalidation_0-rmse:0.00964\tvalidation_1-rmse:0.01406\n",
      "[91]\tvalidation_0-rmse:0.00962\tvalidation_1-rmse:0.01405\n",
      "[92]\tvalidation_0-rmse:0.00962\tvalidation_1-rmse:0.01405\n",
      "[93]\tvalidation_0-rmse:0.00956\tvalidation_1-rmse:0.01402\n",
      "[94]\tvalidation_0-rmse:0.00953\tvalidation_1-rmse:0.01401\n",
      "[95]\tvalidation_0-rmse:0.00950\tvalidation_1-rmse:0.01401\n",
      "[96]\tvalidation_0-rmse:0.00946\tvalidation_1-rmse:0.01400\n",
      "[97]\tvalidation_0-rmse:0.00942\tvalidation_1-rmse:0.01398\n",
      "[98]\tvalidation_0-rmse:0.00939\tvalidation_1-rmse:0.01397\n",
      "[99]\tvalidation_0-rmse:0.00936\tvalidation_1-rmse:0.01395\n",
      "[100]\tvalidation_0-rmse:0.00935\tvalidation_1-rmse:0.01394\n",
      "[101]\tvalidation_0-rmse:0.00932\tvalidation_1-rmse:0.01394\n",
      "[102]\tvalidation_0-rmse:0.00929\tvalidation_1-rmse:0.01394\n",
      "[103]\tvalidation_0-rmse:0.00928\tvalidation_1-rmse:0.01394\n",
      "[104]\tvalidation_0-rmse:0.00924\tvalidation_1-rmse:0.01392\n",
      "[105]\tvalidation_0-rmse:0.00923\tvalidation_1-rmse:0.01391\n",
      "[106]\tvalidation_0-rmse:0.00920\tvalidation_1-rmse:0.01392\n",
      "[107]\tvalidation_0-rmse:0.00919\tvalidation_1-rmse:0.01391\n",
      "[108]\tvalidation_0-rmse:0.00917\tvalidation_1-rmse:0.01390\n",
      "[109]\tvalidation_0-rmse:0.00915\tvalidation_1-rmse:0.01390\n",
      "[110]\tvalidation_0-rmse:0.00914\tvalidation_1-rmse:0.01390\n",
      "[111]\tvalidation_0-rmse:0.00909\tvalidation_1-rmse:0.01387\n",
      "[112]\tvalidation_0-rmse:0.00906\tvalidation_1-rmse:0.01388\n",
      "[113]\tvalidation_0-rmse:0.00903\tvalidation_1-rmse:0.01387\n",
      "[114]\tvalidation_0-rmse:0.00902\tvalidation_1-rmse:0.01387\n",
      "[115]\tvalidation_0-rmse:0.00900\tvalidation_1-rmse:0.01387\n",
      "[116]\tvalidation_0-rmse:0.00897\tvalidation_1-rmse:0.01387\n",
      "[117]\tvalidation_0-rmse:0.00897\tvalidation_1-rmse:0.01387\n",
      "[118]\tvalidation_0-rmse:0.00895\tvalidation_1-rmse:0.01386\n",
      "[119]\tvalidation_0-rmse:0.00893\tvalidation_1-rmse:0.01386\n",
      "[120]\tvalidation_0-rmse:0.00890\tvalidation_1-rmse:0.01385\n",
      "[121]\tvalidation_0-rmse:0.00889\tvalidation_1-rmse:0.01385\n",
      "[122]\tvalidation_0-rmse:0.00887\tvalidation_1-rmse:0.01384\n",
      "[123]\tvalidation_0-rmse:0.00884\tvalidation_1-rmse:0.01383\n",
      "[124]\tvalidation_0-rmse:0.00882\tvalidation_1-rmse:0.01383\n",
      "[125]\tvalidation_0-rmse:0.00879\tvalidation_1-rmse:0.01383\n",
      "[126]\tvalidation_0-rmse:0.00877\tvalidation_1-rmse:0.01381\n",
      "[127]\tvalidation_0-rmse:0.00876\tvalidation_1-rmse:0.01381\n",
      "[128]\tvalidation_0-rmse:0.00874\tvalidation_1-rmse:0.01380\n",
      "[129]\tvalidation_0-rmse:0.00871\tvalidation_1-rmse:0.01379\n",
      "[130]\tvalidation_0-rmse:0.00868\tvalidation_1-rmse:0.01377\n",
      "[131]\tvalidation_0-rmse:0.00867\tvalidation_1-rmse:0.01377\n",
      "[132]\tvalidation_0-rmse:0.00865\tvalidation_1-rmse:0.01376\n",
      "[133]\tvalidation_0-rmse:0.00864\tvalidation_1-rmse:0.01376\n",
      "[134]\tvalidation_0-rmse:0.00863\tvalidation_1-rmse:0.01376\n",
      "[135]\tvalidation_0-rmse:0.00861\tvalidation_1-rmse:0.01375\n",
      "[136]\tvalidation_0-rmse:0.00860\tvalidation_1-rmse:0.01375\n",
      "[137]\tvalidation_0-rmse:0.00859\tvalidation_1-rmse:0.01375\n",
      "[138]\tvalidation_0-rmse:0.00855\tvalidation_1-rmse:0.01373\n",
      "[139]\tvalidation_0-rmse:0.00851\tvalidation_1-rmse:0.01373\n",
      "[140]\tvalidation_0-rmse:0.00849\tvalidation_1-rmse:0.01373\n",
      "[141]\tvalidation_0-rmse:0.00847\tvalidation_1-rmse:0.01373\n",
      "[142]\tvalidation_0-rmse:0.00846\tvalidation_1-rmse:0.01372\n",
      "[143]\tvalidation_0-rmse:0.00845\tvalidation_1-rmse:0.01372\n"
     ]
    },
    {
     "name": "stdout",
     "output_type": "stream",
     "text": [
      "[144]\tvalidation_0-rmse:0.00843\tvalidation_1-rmse:0.01372\n",
      "[145]\tvalidation_0-rmse:0.00842\tvalidation_1-rmse:0.01371\n",
      "[146]\tvalidation_0-rmse:0.00839\tvalidation_1-rmse:0.01371\n",
      "[147]\tvalidation_0-rmse:0.00837\tvalidation_1-rmse:0.01370\n",
      "[148]\tvalidation_0-rmse:0.00834\tvalidation_1-rmse:0.01369\n",
      "[149]\tvalidation_0-rmse:0.00832\tvalidation_1-rmse:0.01369\n",
      "[150]\tvalidation_0-rmse:0.00830\tvalidation_1-rmse:0.01369\n",
      "[151]\tvalidation_0-rmse:0.00829\tvalidation_1-rmse:0.01369\n",
      "[152]\tvalidation_0-rmse:0.00827\tvalidation_1-rmse:0.01368\n",
      "[153]\tvalidation_0-rmse:0.00824\tvalidation_1-rmse:0.01368\n",
      "[154]\tvalidation_0-rmse:0.00823\tvalidation_1-rmse:0.01368\n",
      "[155]\tvalidation_0-rmse:0.00821\tvalidation_1-rmse:0.01368\n",
      "[156]\tvalidation_0-rmse:0.00820\tvalidation_1-rmse:0.01366\n",
      "[157]\tvalidation_0-rmse:0.00817\tvalidation_1-rmse:0.01367\n",
      "[158]\tvalidation_0-rmse:0.00816\tvalidation_1-rmse:0.01366\n",
      "[159]\tvalidation_0-rmse:0.00812\tvalidation_1-rmse:0.01366\n",
      "[160]\tvalidation_0-rmse:0.00809\tvalidation_1-rmse:0.01365\n",
      "[161]\tvalidation_0-rmse:0.00808\tvalidation_1-rmse:0.01365\n",
      "[162]\tvalidation_0-rmse:0.00806\tvalidation_1-rmse:0.01364\n",
      "[163]\tvalidation_0-rmse:0.00806\tvalidation_1-rmse:0.01364\n",
      "[164]\tvalidation_0-rmse:0.00804\tvalidation_1-rmse:0.01363\n",
      "[165]\tvalidation_0-rmse:0.00803\tvalidation_1-rmse:0.01363\n",
      "[166]\tvalidation_0-rmse:0.00802\tvalidation_1-rmse:0.01362\n",
      "[167]\tvalidation_0-rmse:0.00801\tvalidation_1-rmse:0.01362\n",
      "[168]\tvalidation_0-rmse:0.00799\tvalidation_1-rmse:0.01362\n",
      "[169]\tvalidation_0-rmse:0.00797\tvalidation_1-rmse:0.01361\n",
      "[170]\tvalidation_0-rmse:0.00795\tvalidation_1-rmse:0.01360\n",
      "[171]\tvalidation_0-rmse:0.00793\tvalidation_1-rmse:0.01360\n",
      "[172]\tvalidation_0-rmse:0.00791\tvalidation_1-rmse:0.01361\n",
      "[173]\tvalidation_0-rmse:0.00789\tvalidation_1-rmse:0.01360\n",
      "[174]\tvalidation_0-rmse:0.00788\tvalidation_1-rmse:0.01360\n",
      "[175]\tvalidation_0-rmse:0.00788\tvalidation_1-rmse:0.01360\n",
      "[176]\tvalidation_0-rmse:0.00786\tvalidation_1-rmse:0.01359\n",
      "[177]\tvalidation_0-rmse:0.00784\tvalidation_1-rmse:0.01359\n",
      "[178]\tvalidation_0-rmse:0.00782\tvalidation_1-rmse:0.01359\n",
      "[179]\tvalidation_0-rmse:0.00781\tvalidation_1-rmse:0.01358\n",
      "[180]\tvalidation_0-rmse:0.00779\tvalidation_1-rmse:0.01358\n",
      "[181]\tvalidation_0-rmse:0.00778\tvalidation_1-rmse:0.01358\n",
      "[182]\tvalidation_0-rmse:0.00775\tvalidation_1-rmse:0.01357\n",
      "[183]\tvalidation_0-rmse:0.00773\tvalidation_1-rmse:0.01357\n",
      "[184]\tvalidation_0-rmse:0.00773\tvalidation_1-rmse:0.01356\n",
      "[185]\tvalidation_0-rmse:0.00770\tvalidation_1-rmse:0.01356\n",
      "[186]\tvalidation_0-rmse:0.00769\tvalidation_1-rmse:0.01356\n",
      "[187]\tvalidation_0-rmse:0.00767\tvalidation_1-rmse:0.01356\n",
      "[188]\tvalidation_0-rmse:0.00766\tvalidation_1-rmse:0.01355\n",
      "[189]\tvalidation_0-rmse:0.00765\tvalidation_1-rmse:0.01355\n",
      "[190]\tvalidation_0-rmse:0.00763\tvalidation_1-rmse:0.01354\n",
      "[191]\tvalidation_0-rmse:0.00763\tvalidation_1-rmse:0.01354\n",
      "[192]\tvalidation_0-rmse:0.00762\tvalidation_1-rmse:0.01354\n",
      "[193]\tvalidation_0-rmse:0.00760\tvalidation_1-rmse:0.01353\n",
      "[194]\tvalidation_0-rmse:0.00758\tvalidation_1-rmse:0.01353\n",
      "[195]\tvalidation_0-rmse:0.00757\tvalidation_1-rmse:0.01353\n",
      "[196]\tvalidation_0-rmse:0.00755\tvalidation_1-rmse:0.01352\n",
      "[197]\tvalidation_0-rmse:0.00753\tvalidation_1-rmse:0.01351\n",
      "[198]\tvalidation_0-rmse:0.00752\tvalidation_1-rmse:0.01351\n",
      "[199]\tvalidation_0-rmse:0.00752\tvalidation_1-rmse:0.01351\n",
      "[200]\tvalidation_0-rmse:0.00750\tvalidation_1-rmse:0.01351\n",
      "[201]\tvalidation_0-rmse:0.00749\tvalidation_1-rmse:0.01351\n",
      "[202]\tvalidation_0-rmse:0.00748\tvalidation_1-rmse:0.01351\n",
      "[203]\tvalidation_0-rmse:0.00747\tvalidation_1-rmse:0.01351\n",
      "[204]\tvalidation_0-rmse:0.00746\tvalidation_1-rmse:0.01351\n"
     ]
    }
   ],
   "source": [
    "\"\"\"\n",
    "Description: Training model\n",
    "\"\"\"\n",
    "\n",
    "x_train = x_train[:,:,0]\n",
    "x_test = x_test[:,:,0]\n",
    "\n",
    "history = model.fit(x_train, y_train,\n",
    "        eval_set=[(x_train, y_train), (x_test, y_test)],\n",
    "        early_stopping_rounds=5,\n",
    "       verbose=True)"
   ]
  },
  {
   "cell_type": "code",
   "execution_count": 22,
   "id": "305ef45c",
   "metadata": {},
   "outputs": [
    {
     "data": {
      "text/plain": [
       "0.01350891481750004"
      ]
     },
     "execution_count": 22,
     "metadata": {},
     "output_type": "execute_result"
    }
   ],
   "source": [
    "\"\"\"\n",
    "Description: get rmse score \n",
    "\"\"\"\n",
    "\n",
    "RMSE_score(model,x_test, y_test)"
   ]
  },
  {
   "cell_type": "code",
   "execution_count": 23,
   "id": "6cc98728",
   "metadata": {},
   "outputs": [],
   "source": [
    "model_name = \"org_model.pkl\"\n",
    "pickle.dump(model, open(os.path.join(model_path, model_name), \"wb\"))"
   ]
  },
  {
   "cell_type": "markdown",
   "id": "1afc1711",
   "metadata": {},
   "source": [
    "## `4.0 Prepare Data , Model and MinMax`"
   ]
  },
  {
   "cell_type": "code",
   "execution_count": 24,
   "id": "efcafb17",
   "metadata": {},
   "outputs": [],
   "source": [
    "\"\"\"\n",
    "Description: Zip Data\n",
    "\"\"\"\n",
    "df_test.to_csv(os.path.join(data_path,\"data.csv\"),index=False)\n",
    "make_archive(base_name=os.path.join(zip_path,\"data\"),root_dir=data_path,zip_format='zip')"
   ]
  },
  {
   "cell_type": "markdown",
   "id": "f8e1b886",
   "metadata": {},
   "source": [
    "### `4.0.1 Prepare and creating minmax.zip file`"
   ]
  },
  {
   "cell_type": "code",
   "execution_count": 25,
   "id": "e778737d",
   "metadata": {},
   "outputs": [],
   "source": [
    "'''\n",
    "Description: Preparing Min_Max file\n",
    "'''\n",
    "min_values = df_test.min().to_numpy()\n",
    "max_values = df_test.max().to_numpy()\n",
    "x = np.array([min_values,max_values])\n",
    "df_m = pd.DataFrame(x,columns=df_test.columns)\n",
    "df_m.to_csv(minmax_path+'/minmax.csv',index = False)"
   ]
  },
  {
   "cell_type": "code",
   "execution_count": 26,
   "id": "3a9c9592",
   "metadata": {},
   "outputs": [],
   "source": [
    "\"\"\"\n",
    "Description: Minmax label\n",
    "\"\"\"\n",
    "make_archive(base_name=os.path.join(zip_path,\"minmax\"),root_dir=minmax_path,zip_format='zip')"
   ]
  },
  {
   "cell_type": "markdown",
   "id": "b047ba87",
   "metadata": {},
   "source": [
    "## `4.1.0 Convert python script (.py) to (.pyc)`\n"
   ]
  },
  {
   "cell_type": "markdown",
   "id": "ee6b2916",
   "metadata": {},
   "source": [
    "#### if model framework is scikit-learn , then need below two files for enc = 1\n",
    "\n",
    "1. base_model.pyc file\n",
    "2. Password protected Zip file – Containing Pickle file "
   ]
  },
  {
   "cell_type": "markdown",
   "id": "980e8f12",
   "metadata": {},
   "source": [
    "#### `4.1.1 Creating base_model.pyc file`"
   ]
  },
  {
   "cell_type": "code",
   "execution_count": 27,
   "id": "de09fe79",
   "metadata": {},
   "outputs": [],
   "source": [
    "\"\"\"\n",
    "Description: Create encrypted Model\n",
    "\"\"\"\n",
    "def create_model_pyc(model, model_framework,pyc_model_path, model_name):\n",
    "    \n",
    "    if model_framework.lower() == \"scikit-learn\":\n",
    "\n",
    "        python_code ='''\n",
    "#importing libraries\n",
    "import pickle\n",
    "import zipfile\n",
    "import os\n",
    "\n",
    "\"\"\"\n",
    "    class for base model\n",
    "\"\"\"\n",
    "#define class\n",
    "class BaseModel():\n",
    "    def __init__(self,model_path=\"\"):\n",
    "\n",
    "        \"\"\"\n",
    "        constructor for class\n",
    "\n",
    "        Parameters\n",
    "        ----------\n",
    "        input_shape : TYPE, optional\n",
    "            DESCRIPTION. The default is (100,1).\n",
    "        Returns\n",
    "        -------\n",
    "        None.\n",
    "\n",
    "        \"\"\"\n",
    "        self.model_path = model_path\n",
    "        \n",
    "    def load_protected_pickleModel(self,filename,password,picklemodelname):\n",
    "      \n",
    "\n",
    "        \"\"\"\n",
    "        model architecture\n",
    "\n",
    "        Parameters\n",
    "        ----------\n",
    "        filename : string\n",
    "            DESCRIPTION.zipped protected filename\n",
    "            \n",
    "        password : String\n",
    "            DESCRIPTION.zipped file password\n",
    "        \n",
    "        picklemodelname  :String\n",
    "            DESCRIPTION.pickle file name present in a ziiped protected\n",
    "            \n",
    "        Returns\n",
    "        -------\n",
    "        model : model\n",
    "            DESCRIPTION.\n",
    "\n",
    "        \"\"\"\n",
    "        filepath = os.path.join(self.model_path,filename)\n",
    "        #print(filepath)\n",
    "        #print(filename)\n",
    "        with zipfile.ZipFile(filepath, 'r') as file:\n",
    "            with file.open(picklemodelname,'r',pwd = bytes(password, 'utf-8')) as f:\n",
    "                pck = pickle.load(f)\n",
    "        return pck\n",
    "    \n",
    "    def predict(self,X):\n",
    "\n",
    "        \"\"\"\n",
    "        predict for given data\n",
    "\n",
    "        Parameters\n",
    "        ----------\n",
    "        X : numpy array \n",
    "            DESCRIPTION.\n",
    "\n",
    "        Returns\n",
    "        -------\n",
    "        pred : numpy array\n",
    "            DESCRIPTION.\n",
    "\n",
    "        \"\"\"\n",
    "        filename = \"modelencrypt.zip\"\n",
    "        password = \"987654321\"\n",
    "        picklemodelname = \"org_model.pkl\"\n",
    "        model = self.load_protected_pickleModel(filename=filename,password=password,picklemodelname=picklemodelname)\n",
    "        pred = model.predict(X)\n",
    "        return pred'''\n",
    "        # Writing to file\n",
    "        with open(\"base_model.py\", \"w\") as file:\n",
    "            # Writing data to a file\n",
    "            file.writelines(python_code)\n",
    "         \n",
    "        \"\"\"\n",
    "        Description: function to create .pyc file\n",
    "        \"\"\"\n",
    "        py_compile.compile(file=\"base_model.py\",cfile=pyc_model_path+'/base_model.pyc')\n",
    "        \n",
    "        \"\"\"\n",
    "        Description: function to create zipped password protected pickle model file\n",
    "        \"\"\"\n",
    "\n",
    "        def zip_model(input_path,output_path,password,com_lvl=5):\n",
    "            pyminizip.compress(input_path, None, output_path,\n",
    "                               password, com_lvl)\n",
    "            \n",
    "        zip_model(input_path =os.path.join(model_path,model_name),output_path = pyc_model_path+\"/modelencrypt.zip\" ,password = \"987654321\",com_lvl=5)\n",
    "            "
   ]
  },
  {
   "cell_type": "code",
   "execution_count": 28,
   "id": "08888eb4",
   "metadata": {},
   "outputs": [],
   "source": [
    "\"\"\"\n",
    "Description: Creating encrypted Model\n",
    "\"\"\"\n",
    "model_framework = \"scikit-learn\"\n",
    "model_encryption = 0 #0 for non encrypted file and 1 for encrypted (pyc) \n",
    "create_model_pyc(model,model_framework, pyc_model_path, model_name)"
   ]
  },
  {
   "cell_type": "markdown",
   "id": "fe983f34",
   "metadata": {},
   "source": [
    "* .pyc file with name base_model.pyc will get created\n",
    "* delete .py file and still import and other function will work\n",
    "* while AIShield API call , inplace of model.h5 file you can zip .pyc and model weight which will provide security to internal architecture"
   ]
  },
  {
   "cell_type": "code",
   "execution_count": 29,
   "id": "f2cb4b03",
   "metadata": {},
   "outputs": [],
   "source": [
    "\"\"\"\n",
    "Description: Zip model\n",
    "\"\"\"\n",
    "if os.path.isfile(os.path.join(zip_path,\"model.zip\")):\n",
    "    delete_directory(directorys=[os.path.join(zip_path,\"model.zip\")])\n",
    "if model_encryption:\n",
    "    make_archive(base_name=os.path.join(zip_path,\"model1\"),root_dir=pyc_model_path,zip_format='zip')\n",
    "else:\n",
    "    make_archive(base_name=os.path.join(zip_path,\"model0\"),root_dir=model_path,zip_format='zip')"
   ]
  },
  {
   "cell_type": "markdown",
   "id": "89a28115",
   "metadata": {},
   "source": [
    "### `5.0 AIShield API Call`"
   ]
  },
  {
   "cell_type": "code",
   "execution_count": 53,
   "id": "6d371492",
   "metadata": {},
   "outputs": [],
   "source": [
    "\"\"\"\n",
    "Description: AIShield API URL and subscription key\n",
    "\"\"\" \n",
    "\n",
    "baseurl = \"XXXXXXXXXXXXXXXXXXXXXXXXXXXXXXXXXXXXXXXXX\" # fill in API endpoint url from AIShield developer portal under API tab \n",
    "url = baseurl + \"/api/ais/v1.5\"\n",
    "headers={'Cache-Control': 'no-cache',\n",
    "'x-api-key': \"XXXXXXXXXXXXXXXXXXXXXXXXXXXXXx\", # fill in subscription key from AIShield developer portal under My Dashboard tab\n",
    "'Org-Id' : \"XXXXXXXXXXXXXXXXXXXXXXXXXXXXXXXXXXXXXXXXXXXXXXXXXXXXXXXXXXXXXXXXXXXXXXXXXXXX\"  # fill in Org_Id provided in welcome email\n",
    "}"
   ]
  },
  {
   "cell_type": "code",
   "execution_count": 49,
   "id": "2019b984",
   "metadata": {},
   "outputs": [],
   "source": [
    "\"\"\"\n",
    "Description: File paths\n",
    "\"\"\"\n",
    "data_path=os.path.join(zip_path,'data.zip') #full path of data zip\n",
    "minmax_path=os.path.join(zip_path,'minmax.zip') #full path of label zip\n",
    "model_path=os.path.join(zip_path,'model0.zip') #full uppath of model zip"
   ]
  },
  {
   "cell_type": "markdown",
   "id": "fc5894cd",
   "metadata": {},
   "source": [
    "### `Perform Vulnerability Analysis through VulConfig Function`"
   ]
  },
  {
   "cell_type": "code",
   "execution_count": 42,
   "id": "804a45a7",
   "metadata": {},
   "outputs": [],
   "source": [
    "\"\"\"\n",
    "Description: Initialize the AIShield API\n",
    "\"\"\"\n",
    "client = ais.AIShieldApi(api_url=url, api_key=api_key, org_id=org_id)"
   ]
  },
  {
   "cell_type": "code",
   "execution_count": 43,
   "id": "db018a4c",
   "metadata": {},
   "outputs": [],
   "source": [
    "\"\"\"\n",
    "Description: Define the task and analysis type\n",
    "\"\"\"\n",
    "task_type = ais.get_type(\"task\", \"timeseries_forecasting\")\n",
    "analysis_type = ais.get_type(\"analysis\", \"extraction\")"
   ]
  },
  {
   "cell_type": "code",
   "execution_count": 50,
   "id": "715d5723",
   "metadata": {},
   "outputs": [
    {
     "name": "stdout",
     "output_type": "stream",
     "text": [
      "Upload status: data file upload successful, minmax file upload successful, model file upload successful\n"
     ]
    }
   ],
   "source": [
    "\"\"\"\n",
    "Description: Perform model registration and upload the input artifacts\n",
    "\"\"\"\n",
    "status, job_details = client.register_model(task_type=task_type, analysis_type=analysis_type)\n",
    "model_id = job_details.model_id\n",
    "# print('Model id: {} \\nInput artifacts will be uploaded as:\\n data_upload_uri: {}\\n label_upload_uri: {}'\n",
    "#       '\\n model_upload_uri: {}'.format(model_id, job_details.data_upload_uri, job_details.label_upload_uri,\n",
    "#                                        job_details.model_upload_uri))\n",
    "\n",
    "upload_status = client.upload_input_artifacts(job_details=job_details,\n",
    "                                              data_path=data_path,\n",
    "                                              minmax_path=minmax_path,\n",
    "                                              model_path=model_path, )\n",
    "print('Upload status: {}'.format(', '.join(upload_status)))"
   ]
  },
  {
   "cell_type": "code",
   "execution_count": 57,
   "id": "9483e17e",
   "metadata": {},
   "outputs": [
    {
     "name": "stdout",
     "output_type": "stream",
     "text": [
      "TSF-Extraction parameters are: \n",
      " {'attack_type': 'greybox', 'defense_bestonly': 'no', 'encryption_strategy': 0, 'input_dimensions': '(100, 1)', 'model_api_details': '', 'model_framework': 'scikit-learn', 'number_of_attack_queries': 6000, 'use_model_api': 'no', 'vulnerability_threshold': 0} \n"
     ]
    }
   ],
   "source": [
    "\"\"\"\n",
    "Description: Specify the appropriate configs required for vulnerability analysis\n",
    "\"\"\"\n",
    "\n",
    "vuln_config = ais.VulnConfig(task_type=task_type,\n",
    "                             analysis_type=analysis_type,\n",
    "                             defense_generate=True)\n",
    "\n",
    "vuln_config.input_dimensions = (100,1)  # input dimension for mnist digit classification\n",
    "vuln_config.attack_type = \"greybox\"  # greybox or blackbox depending upon the availability of information about Model, Data and Parameters\n",
    "vuln_config.number_of_attack_queries = 6000  # Number of attack queries to be generated for testing model vulnerability \n",
    "vuln_config.encryption_strategy = 0  # value 0 (or) 1, if model is unencrypted or encrypted(pyc) respectively\n",
    "vuln_config.model_framework = \"scikit-learn\"\n",
    "print('TSF-Extraction parameters are: \\n {} '.format(vuln_config.get_all_params()))"
   ]
  },
  {
   "cell_type": "code",
   "execution_count": 83,
   "id": "7af850eb",
   "metadata": {},
   "outputs": [
    {
     "name": "stdout",
     "output_type": "stream",
     "text": [
      "status: success \n",
      "Job_id: XXXXXXXXXXXXXXXXXXXXXXXXXXXXXXXXXXXXXXXXXX \n"
     ]
    }
   ],
   "source": [
    "\"\"\"\n",
    "Description: Run vulnerability analysis\n",
    "\"\"\"\n",
    "my_status, job_details = client.vuln_analysis(model_id=model_id, vuln_config=vuln_config)\n",
    "my_job_id = job_details.job_id\n",
    "print('status: {} \\nJob_id: {} '.format(my_status, my_job_id))"
   ]
  },
  {
   "cell_type": "code",
   "execution_count": 84,
   "id": "1b8d4647",
   "metadata": {},
   "outputs": [
    {
     "name": "stdout",
     "output_type": "stream",
     "text": [
      "Click on the URL to view Vulnerability Dashboard (GUI): XXXXXXXXXXXXXXXXXXXXXXXXXXXXXXXXXXXXXXXXXXXXXXXXXXXXXXXXXXXXXXXXXXXXX\n"
     ]
    }
   ],
   "source": [
    "\"\"\"\n",
    "Description: Monitor progress for given Job ID using the Link below\n",
    "\"\"\"\n",
    "print('Click on the URL to view Vulnerability Dashboard (GUI): {}'.format(job_details.job_monitor_uri))"
   ]
  },
  {
   "cell_type": "code",
   "execution_count": 60,
   "id": "6db61f25",
   "metadata": {},
   "outputs": [
    {
     "name": "stderr",
     "output_type": "stream",
     "text": [
      "2023-06-07 13:52:14,989 - INFO - Fetching job details for job id gAAAAABkgD4qOLrhj_7rEAP8ih-e2XvhzIkKacGFseiJWd93pfRYEbvwd1QcQpZjvY4fJ54uooJKBJRf1BY5ohyKtmSlaIYxHg==\n",
      "2023-06-07 13:52:20,477 - INFO - ModelExploration_Status:inprogress\n"
     ]
    },
    {
     "name": "stdout",
     "output_type": "stream",
     "text": [
      "running...\r"
     ]
    },
    {
     "name": "stderr",
     "output_type": "stream",
     "text": [
      "2023-06-07 13:52:25,791 - INFO - ModelExploration_Status:completed\n",
      "2023-06-07 13:52:25,791 - INFO - SanityCheck_Status:passed\n",
      "2023-06-07 13:52:25,791 - INFO - QueryGenerator_Status:inprogress\n"
     ]
    },
    {
     "name": "stdout",
     "output_type": "stream",
     "text": [
      "running...\r",
      "running...\r",
      "running...\r"
     ]
    },
    {
     "name": "stderr",
     "output_type": "stream",
     "text": [
      "2023-06-07 13:52:47,571 - INFO - QueryGenerator_Status:completed\n",
      "2023-06-07 13:52:47,571 - INFO - VunerabilityEngine_Status:inprogress\n"
     ]
    },
    {
     "name": "stdout",
     "output_type": "stream",
     "text": [
      "running...\r",
      "running...\r"
     ]
    },
    {
     "name": "stderr",
     "output_type": "stream",
     "text": [
      "2023-06-07 13:53:09,047 - INFO - VunerabilityEngine_Status:completed\n",
      "2023-06-07 13:53:09,048 - INFO - DefenseReport_Status:inprogress\n"
     ]
    },
    {
     "name": "stdout",
     "output_type": "stream",
     "text": [
      "running...\r",
      "running...\r"
     ]
    },
    {
     "name": "stderr",
     "output_type": "stream",
     "text": [
      "2023-06-07 13:55:06,794 - INFO - DefenseReport_Status:completed\n",
      "2023-06-07 13:55:06,794 - INFO - Analysis completed for job id gAAAAABkgD4qOLrhj_7rEAP8ih-e2XvhzIkKacGFseiJWd93pfRYEbvwd1QcQpZjvY4fJ54uooJKBJRf1BY5ohyKtmSlaIYxHg==\n"
     ]
    },
    {
     "name": "stdout",
     "output_type": "stream",
     "text": [
      "running...\r",
      "job run completed\n",
      "job status  success\n"
     ]
    }
   ],
   "source": [
    "\"\"\"\n",
    "Description: Fetch Job status using Job ID\n",
    "\"\"\"\n",
    "my_status = client.job_status (job_id = my_job_id)\n",
    "print('job status ', my_status)"
   ]
  },
  {
   "cell_type": "markdown",
   "id": "d2775500",
   "metadata": {},
   "source": [
    "### `Saving the Artifacts and the Reports`"
   ]
  },
  {
   "cell_type": "code",
   "execution_count": 85,
   "id": "42bbf545",
   "metadata": {},
   "outputs": [
    {
     "data": {
      "text/plain": [
       "'\\nDescription: Creating a directory to save the defense artifacts\\n'"
      ]
     },
     "execution_count": 85,
     "metadata": {},
     "output_type": "execute_result"
    }
   ],
   "source": [
    "\"\"\"\n",
    "Description: Creating a directory to save the defense artifacts\n",
    "\"\"\"\n",
    "OUTPUT_PATH = os.path.join(os.getcwd(),\"Output_Artifacts\")\n",
    "make_directory([OUTPUT_PATH])"
   ]
  },
  {
   "cell_type": "code",
   "execution_count": 86,
   "id": "a56b8fd8",
   "metadata": {},
   "outputs": [
    {
     "data": {
      "text/plain": [
       "'\\nDescription: Download the Vulnerability Report\\n'"
      ]
     },
     "execution_count": 86,
     "metadata": {},
     "output_type": "execute_result"
    }
   ],
   "source": [
    "\"\"\"\n",
    "Description: Download the Vulnerability Report\n",
    "\"\"\"\n",
    "if my_status == \"success\":\n",
    "    output_conf = ais.OutputConf(report_type=ais.get_type(\"report\", \"vulnerability\"),\n",
    "                                 file_format=ais.get_type(\"file_format\", \"pdf\"),\n",
    "                                 save_folder_path=OUTPUT_PATH)\n",
    "        \n",
    "    my_report = client.save_job_report(job_id=my_job_id, output_config=output_conf)"
   ]
  },
  {
   "cell_type": "code",
   "execution_count": 87,
   "id": "28a4c850",
   "metadata": {},
   "outputs": [
    {
     "data": {
      "text/plain": [
       "'\\nDescription: Download the Defense Reports\\n'"
      ]
     },
     "execution_count": 87,
     "metadata": {},
     "output_type": "execute_result"
    }
   ],
   "source": [
    "\"\"\"\n",
    "Description: Download the Defense Reports\n",
    "\"\"\"\n",
    "if my_status == \"success\":\n",
    "    output_conf = ais.OutputConf(report_type=ais.get_type(\"report\", \"defense\"),\n",
    "                                 file_format=ais.get_type(\"file_format\", \"pdf\"),\n",
    "                                 save_folder_path=OUTPUT_PATH)\n",
    "        \n",
    "    my_report = client.save_job_report(job_id=my_job_id, output_config=output_conf)"
   ]
  },
  {
   "cell_type": "code",
   "execution_count": 88,
   "id": "4a522d11",
   "metadata": {},
   "outputs": [
    {
     "data": {
      "text/plain": [
       "'\\nDescription: Download the Defense artifacts: Model\\n'"
      ]
     },
     "execution_count": 88,
     "metadata": {},
     "output_type": "execute_result"
    }
   ],
   "source": [
    "\"\"\"\n",
    "Description: Download the Defense artifacts: Model\n",
    "\"\"\"\n",
    "if my_status == \"success\":\n",
    "    output_conf = ais.OutputConf(report_type=ais.get_type(\"report\", \"defense_artifact\"),\n",
    "                                 file_format=ais.get_type(\"file_format\", \"pdf\"),\n",
    "                                 save_folder_path=OUTPUT_PATH)\n",
    "        \n",
    "    defense_artifact = client.save_job_report(job_id=my_job_id, output_config=output_conf)"
   ]
  },
  {
   "cell_type": "code",
   "execution_count": 89,
   "id": "d5e5f1ee",
   "metadata": {},
   "outputs": [
    {
     "data": {
      "text/plain": [
       "'\\nDescription: Download the Attack Samples\\n'"
      ]
     },
     "execution_count": 89,
     "metadata": {},
     "output_type": "execute_result"
    }
   ],
   "source": [
    "\"\"\"\n",
    "Description: Download the Attack Samples\n",
    "\"\"\"\n",
    "if my_status == \"success\":\n",
    "    output_conf = ais.OutputConf(report_type=ais.get_type(\"report\", \"attack_samples\"),\n",
    "                                 save_folder_path=OUTPUT_PATH)\n",
    "        \n",
    "    attack_samples = client.save_job_report(job_id=my_job_id, output_config=output_conf)"
   ]
  },
  {
   "cell_type": "code",
   "execution_count": 66,
   "id": "d1e1aea2",
   "metadata": {},
   "outputs": [],
   "source": [
    "def zip_extractor(file, extract_path=None, delete_zip=False):\n",
    "    \"\"\"\n",
    "    extract zip file to the given path\n",
    "\n",
    "    Parameters\n",
    "    ----------\n",
    "    file : path of zip file\n",
    "    extract_path : path to extract zip file, default considered parent directory\n",
    "    delete_zip: True, delete zip file after unzipping it\n",
    "\n",
    "    Returns\n",
    "    -------\n",
    "    None.\n",
    "    \"\"\"\n",
    "    if extract_path is None:\n",
    "        extract_path = os.path.dirname(file)\n",
    "    print(\"Extracting : {}\".format(file))\n",
    "    zf = zipfile.ZipFile(file=file, mode='r')\n",
    "    zf.extractall(extract_path)\n",
    "    zf.close()\n",
    "    if delete_zip:\n",
    "        os.remove(file)\n",
    "        print(\"{} removed successfully.\".format(file))\n"
   ]
  },
  {
   "cell_type": "code",
   "execution_count": 90,
   "id": "9d8d7a2a",
   "metadata": {},
   "outputs": [
    {
     "data": {
      "text/plain": [
       "'\\nDescription: Extracting defense artifact\\n'"
      ]
     },
     "execution_count": 90,
     "metadata": {},
     "output_type": "execute_result"
    }
   ],
   "source": [
    "\"\"\"\n",
    "Description: Extracting defense artifact\n",
    "\"\"\"\n",
    "\n",
    "zip_extractor(file=defense_artifact)"
   ]
  },
  {
   "cell_type": "code",
   "execution_count": 91,
   "id": "621f49cb",
   "metadata": {},
   "outputs": [
    {
     "data": {
      "text/plain": [
       "'\\nDescription: Extracting attack sample\\n'"
      ]
     },
     "execution_count": 91,
     "metadata": {},
     "output_type": "execute_result"
    }
   ],
   "source": [
    "\"\"\"\n",
    "Description: Extracting attack sample\n",
    "\"\"\"\n",
    "\n",
    "zip_extractor(file=attack_samples)"
   ]
  },
  {
   "cell_type": "code",
   "execution_count": 75,
   "id": "2822dea8",
   "metadata": {},
   "outputs": [],
   "source": [
    "attack = pd.read_csv(os.path.join(OUTPUT_PATH,'attack_samples.csv'))"
   ]
  },
  {
   "cell_type": "code",
   "execution_count": 76,
   "id": "f1f0662c",
   "metadata": {},
   "outputs": [],
   "source": [
    "\"\"\"\n",
    "Description: Load defense model\n",
    "\"\"\"\n",
    "\n",
    "defense_model_path = os.path.join(OUTPUT_PATH, 'defense_model.h5')\n",
    "defense_model = tf.keras.models.load_model(defense_model_path)"
   ]
  },
  {
   "cell_type": "code",
   "execution_count": 77,
   "id": "3396b7ce",
   "metadata": {},
   "outputs": [
    {
     "name": "stdout",
     "output_type": "stream",
     "text": [
      "Model: \"model\"\n",
      "_________________________________________________________________\n",
      " Layer (type)                Output Shape              Param #   \n",
      "=================================================================\n",
      " input_data (InputLayer)     [(None, 100, 1)]          0         \n",
      "                                                                 \n",
      " conv1d (Conv1D)             (None, 98, 16)            64        \n",
      "                                                                 \n",
      " conv1d_1 (Conv1D)           (None, 96, 16)            784       \n",
      "                                                                 \n",
      " dense (Dense)               (None, 96, 32)            544       \n",
      "                                                                 \n",
      " flatten (Flatten)           (None, 3072)              0         \n",
      "                                                                 \n",
      " dense_1 (Dense)             (None, 2)                 6146      \n",
      "                                                                 \n",
      "=================================================================\n",
      "Total params: 7,538\n",
      "Trainable params: 7,538\n",
      "Non-trainable params: 0\n",
      "_________________________________________________________________\n"
     ]
    }
   ],
   "source": [
    "defense_model.summary()"
   ]
  },
  {
   "cell_type": "code",
   "execution_count": 79,
   "id": "0b439cd8",
   "metadata": {},
   "outputs": [],
   "source": [
    "\"\"\"\n",
    "Description: Use defense model\n",
    "\"\"\"\n",
    "\n",
    "from Output_Artifacts import predict\n",
    "defense = predict.AISDefenseModel(defense_model,input_shape = (100,1), pre_processed = False)"
   ]
  },
  {
   "cell_type": "code",
   "execution_count": 80,
   "id": "0c71d916",
   "metadata": {},
   "outputs": [
    {
     "name": "stdout",
     "output_type": "stream",
     "text": [
      "1/1 [==============================] - 4s 4s/step\n"
     ]
    },
    {
     "name": "stderr",
     "output_type": "stream",
     "text": [
      "100%|███████████████████████████████████████████████████████████████████████████████| 10/10 [00:00<00:00, 10036.62it/s]"
     ]
    },
    {
     "name": "stdout",
     "output_type": "stream",
     "text": [
      "['not-attack', 'not-attack', 'not-attack', 'not-attack', 'not-attack', 'not-attack', 'not-attack', 'not-attack', 'not-attack', 'not-attack']\n"
     ]
    },
    {
     "name": "stderr",
     "output_type": "stream",
     "text": [
      "\n"
     ]
    }
   ],
   "source": [
    "org_pred, org_pred_prob= defense.predict(df_test[:10])\n",
    "print(org_pred.tolist())"
   ]
  },
  {
   "cell_type": "code",
   "execution_count": 81,
   "id": "28f08993",
   "metadata": {},
   "outputs": [
    {
     "name": "stdout",
     "output_type": "stream",
     "text": [
      "10/10 [==============================] - 0s 10ms/step\n"
     ]
    },
    {
     "name": "stderr",
     "output_type": "stream",
     "text": [
      "100%|████████████████████████████████████████████████████████████████████████████████████████| 300/300 [00:00<?, ?it/s]"
     ]
    },
    {
     "name": "stdout",
     "output_type": "stream",
     "text": [
      "['not-attack', 'not-attack', 'not-attack', 'not-attack', 'not-attack', 'not-attack', 'attack', 'attack', 'attack', 'attack', 'attack', 'attack', 'attack', 'attack', 'attack', 'attack', 'attack', 'attack', 'attack', 'attack', 'attack', 'attack', 'attack', 'attack', 'attack', 'attack', 'attack', 'attack', 'attack', 'attack', 'attack', 'attack', 'attack', 'attack', 'attack', 'attack', 'attack', 'attack', 'attack', 'attack', 'attack', 'attack', 'attack', 'attack', 'attack', 'attack', 'attack', 'attack', 'attack', 'attack', 'attack', 'attack', 'attack', 'attack', 'attack', 'attack', 'attack', 'attack', 'attack', 'attack', 'attack', 'attack', 'attack', 'attack', 'attack', 'attack', 'attack', 'attack', 'attack', 'attack', 'attack', 'attack', 'attack', 'attack', 'attack', 'attack', 'attack', 'attack', 'attack', 'attack', 'attack', 'attack', 'attack', 'attack', 'attack', 'attack', 'attack', 'attack', 'attack', 'attack', 'attack', 'attack', 'attack', 'attack', 'attack', 'attack', 'attack', 'attack', 'attack', 'attack', 'attack', 'attack', 'attack', 'attack', 'attack', 'attack', 'attack', 'attack', 'attack', 'attack', 'attack', 'attack', 'attack', 'attack', 'attack', 'attack', 'attack', 'attack', 'attack', 'attack', 'attack', 'attack', 'attack', 'attack', 'attack', 'attack', 'attack', 'attack', 'attack', 'attack', 'attack', 'attack', 'attack', 'attack', 'attack', 'attack', 'attack', 'attack', 'attack', 'attack', 'attack', 'attack', 'attack', 'attack', 'attack', 'attack', 'attack', 'attack', 'attack', 'attack', 'attack', 'attack', 'attack', 'attack', 'attack', 'attack', 'attack', 'attack', 'attack', 'attack', 'attack', 'attack', 'attack', 'attack', 'attack', 'attack', 'attack', 'attack', 'attack', 'attack', 'attack', 'attack', 'attack', 'attack', 'attack', 'attack', 'attack', 'attack', 'attack', 'attack', 'attack', 'attack', 'attack', 'attack', 'attack', 'attack', 'attack', 'attack', 'attack', 'attack', 'attack', 'attack', 'attack', 'attack', 'attack', 'attack', 'attack', 'attack', 'attack', 'attack', 'attack', 'attack', 'attack', 'attack', 'attack', 'attack', 'attack', 'attack', 'attack', 'attack', 'attack', 'attack', 'attack', 'attack', 'attack', 'attack', 'attack', 'attack', 'attack', 'attack', 'attack', 'attack', 'attack', 'attack', 'attack', 'attack', 'attack', 'attack', 'attack', 'attack', 'attack', 'attack', 'attack', 'attack', 'attack', 'attack', 'attack', 'attack', 'attack', 'attack', 'attack', 'attack', 'attack', 'attack', 'attack', 'attack', 'attack', 'attack', 'attack', 'attack', 'attack', 'attack', 'attack', 'attack', 'attack', 'attack', 'attack', 'attack', 'attack', 'attack', 'attack', 'attack', 'attack', 'attack', 'attack', 'attack', 'attack', 'attack', 'attack', 'attack', 'attack', 'attack', 'attack', 'attack', 'attack', 'attack', 'attack', 'attack', 'attack', 'attack', 'attack', 'attack', 'attack', 'attack', 'attack', 'attack', 'attack', 'attack', 'attack', 'attack', 'attack', 'attack', 'attack', 'attack', 'attack', 'attack', 'attack', 'attack', 'attack', 'attack']\n"
     ]
    },
    {
     "name": "stderr",
     "output_type": "stream",
     "text": [
      "\n"
     ]
    }
   ],
   "source": [
    "attack_pred, attack_pred_prob= defense.predict(attack)\n",
    "print(attack_pred.tolist())"
   ]
  },
  {
   "cell_type": "code",
   "execution_count": null,
   "id": "cf74c2ac",
   "metadata": {},
   "outputs": [],
   "source": []
  }
 ],
 "metadata": {
  "kernelspec": {
   "display_name": "Python 3 (ipykernel)",
   "language": "python",
   "name": "python3"
  },
  "language_info": {
   "codemirror_mode": {
    "name": "ipython",
    "version": 3
   },
   "file_extension": ".py",
   "mimetype": "text/x-python",
   "name": "python",
   "nbconvert_exporter": "python",
   "pygments_lexer": "ipython3",
   "version": "3.9.0"
  }
 },
 "nbformat": 4,
 "nbformat_minor": 5
}
