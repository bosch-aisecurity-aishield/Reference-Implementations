{
 "cells": [
  {
   "cell_type": "markdown",
   "id": "189ff123",
   "metadata": {},
   "source": [
    "## `TimeSeries Forecasting Model`\n",
    "* <b>File Name</b> : Reference_implementation\n",
    "* <b>Date of creation(dd-mm-yyyy)</b> : 08-05-2023\n",
    "* <b>Author Name/Dept</b> : AIShield\n",
    "* <b>Organization</b> : BGSW\n",
    "* <b>Description</b> : Source Code of reference implementation\n",
    "* <b>Copyright</b> : Copyright 2022 Bosch Global Software Technologies Private Limited. All Rights Reserved.\n",
    "\n",
    "### Metadata\n",
    "* <b>Dataset</b> : hourly energy consumption\n",
    "* <b>Size of training set</b>: 113927\n",
    "* <b>Size of testing set</b> : 31439\n",
    "* <b>Original Model</b>: XGBoost\n",
    "\n",
    "### Outcomes\n",
    "* <b>RMSE Score of model</b>: 0.013"
   ]
  },
  {
   "cell_type": "code",
   "execution_count": 1,
   "id": "7dc53ee7",
   "metadata": {},
   "outputs": [
    {
     "data": {
      "text/plain": [
       "'\\nDescription: commands to install all the packages, remove comments to install all the libraries\\n'"
      ]
     },
     "execution_count": 1,
     "metadata": {},
     "output_type": "execute_result"
    }
   ],
   "source": [
    "\"\"\"\n",
    "Description: commands to install all the packages, remove comments to install all the libraries\n",
    "\"\"\"\n",
    "# ! pip install xgboost==1.6.2\n",
    "# ! pip install pandas==1.5.1\n",
    "# ! pip install scikit-learn==1.1.3\n",
    "# ! pip install numpy==1.23.4\n",
    "# ! pip install pyminizip\n",
    "# !pip install requests==2.28.0\n",
    "# !pip install humanfriendly==9.2"
   ]
  },
  {
   "cell_type": "markdown",
   "id": "d1601b38",
   "metadata": {},
   "source": [
    "## `1.0 Import Libraries`"
   ]
  },
  {
   "cell_type": "code",
   "execution_count": 2,
   "id": "ee3cf9ac",
   "metadata": {},
   "outputs": [
    {
     "name": "stderr",
     "output_type": "stream",
     "text": [
      "2023-05-12 10:07:54.159331: W tensorflow/stream_executor/platform/default/dso_loader.cc:64] Could not load dynamic library 'libcudart.so.11.0'; dlerror: libcudart.so.11.0: cannot open shared object file: No such file or directory; LD_LIBRARY_PATH: /home/dev/anaconda3/envs/aishield/lib/python3.8/site-packages/cv2/../../lib64:\n",
      "2023-05-12 10:07:54.159371: I tensorflow/stream_executor/cuda/cudart_stub.cc:29] Ignore above cudart dlerror if you do not have a GPU set up on your machine.\n"
     ]
    }
   ],
   "source": [
    "\"\"\"\n",
    "Description: Import libraries\n",
    "\"\"\"\n",
    "import cv2\n",
    "import os\n",
    "import json\n",
    "import time\n",
    "import shutil\n",
    "import random\n",
    "import pickle\n",
    "import zipfile \n",
    "import requests\n",
    "import warnings\n",
    "import pyminizip\n",
    "import py_compile\n",
    "import numpy as np\n",
    "import pandas as pd\n",
    "import xgboost as xgb\n",
    "import matplotlib.pyplot as plt\n",
    "from sklearn.preprocessing import MinMaxScaler\n",
    "from sklearn.metrics import mean_squared_error\n",
    "from sklearn.model_selection import train_test_split\n",
    "\n",
    "import tensorflow as tf\n",
    "\n",
    "warnings.filterwarnings('ignore')"
   ]
  },
  {
   "cell_type": "markdown",
   "id": "51b73d3c",
   "metadata": {},
   "source": [
    "## `2.0 Data Loading and Pre-processing`\n",
    "\n",
    "#### Download dataset from the linkhttps://www.kaggle.com/code/robikscube/tutorial-time-series-forecasting-with-xgboost\n",
    "\n",
    "1. then download the PJME_hourly.csv file"
   ]
  },
  {
   "cell_type": "code",
   "execution_count": 3,
   "id": "0e1e8cf4",
   "metadata": {},
   "outputs": [],
   "source": [
    "'''\n",
    "Description : Loading hourlyenergy consumption dataset\n",
    "'''\n",
    "\n",
    "data =  pd.read_csv(\"PJME_hourly.csv\", index_col=[0], parse_dates=[0])"
   ]
  },
  {
   "cell_type": "code",
   "execution_count": 4,
   "id": "bc2de398",
   "metadata": {},
   "outputs": [
    {
     "data": {
      "text/plain": [
       "(145366, 1)"
      ]
     },
     "execution_count": 4,
     "metadata": {},
     "output_type": "execute_result"
    }
   ],
   "source": [
    "data.shape"
   ]
  },
  {
   "cell_type": "code",
   "execution_count": 5,
   "id": "a185b0e4",
   "metadata": {},
   "outputs": [],
   "source": [
    "'''\n",
    "convert series to supervised learning\n",
    "''' \n",
    "def series_to_supervised(data, n_vars_out, n_in, n_out=1, fillnan=True):\n",
    "    n_vars = 1 if type(data) is list else data.shape[1]\n",
    "    df = pd.DataFrame(data)\n",
    "    cols, names = list(), list()\n",
    "    \n",
    "    # input sequence (t-n, ... t-1)\n",
    "    for i in range(n_in, 0, -1):\n",
    "        cols.append(df.shift(i))\n",
    "        names += [('var%d(t-%d)' % (j+1, i)) for j in range(n_vars)]\n",
    "        \n",
    "    # forecast sequence (t, t+1, ... t+n)\n",
    "    for i in range(0, n_out):\n",
    "        cols.append(df.shift(-i).iloc[:,n_vars_out])\n",
    "        if i == 0:\n",
    "            names += [('var%d(t)' % (j+1)) for j in (n_vars_out)]\n",
    "        else:\n",
    "            names += [('var%d(t+%d)' % (j+1, i)) for j in (n_vars_out)]\n",
    "            \n",
    "    # put it all together\n",
    "    agg = pd.concat(cols, axis=1)\n",
    "    agg.columns = names\n",
    "    \n",
    "    # Replace nan values with 0\n",
    "    if fillnan:\n",
    "        agg = agg.fillna(0)\n",
    "    return agg"
   ]
  },
  {
   "cell_type": "code",
   "execution_count": 6,
   "id": "a5e98d44",
   "metadata": {},
   "outputs": [],
   "source": [
    "def data_prep(df, input_dims, pred_out):    \n",
    "    # convert input dims to number of timesteps and number of features\n",
    "    num_timesteps, num_features = 100,1#input_dims\n",
    "    \n",
    "    # generate data samples by window sliding through time series data\n",
    "    reframed = series_to_supervised(df, pred_out, num_timesteps)\n",
    "    data = reframed.values\n",
    "    \n",
    "    # split into input and outputs\n",
    "    n_obs = num_timesteps*num_features  # no. of timesteps * features \n",
    "    data_x, data_y = data[:, :n_obs], data[:, n_obs:]\n",
    "    \n",
    "    # reshape input to be 3D [samples, timesteps, features]\n",
    "    data_x = data_x.reshape((data_x.shape[0], num_timesteps, num_features))\n",
    "    \n",
    "    return data_x, data_y"
   ]
  },
  {
   "cell_type": "code",
   "execution_count": 7,
   "id": "80ee6185",
   "metadata": {},
   "outputs": [],
   "source": [
    "values = data.values\n",
    "scaler = MinMaxScaler(feature_range=(0, 1))\n",
    "scaled = scaler.fit_transform(values)"
   ]
  },
  {
   "cell_type": "code",
   "execution_count": 8,
   "id": "5efa4142",
   "metadata": {},
   "outputs": [],
   "source": [
    "'''\n",
    "Description : convert normalized dataset to a dataframe \n",
    "'''\n",
    "\n",
    "df_scaled = pd.DataFrame(scaled,columns = data.columns )"
   ]
  },
  {
   "cell_type": "code",
   "execution_count": 9,
   "id": "d36cf816",
   "metadata": {},
   "outputs": [],
   "source": [
    "'''\n",
    "Description : choosing train and testing dataset\n",
    "'''\n",
    "\n",
    "df_train = df_scaled.iloc[0:113927].copy()\n",
    "df_test = df_scaled.iloc[113927:145366].copy()"
   ]
  },
  {
   "cell_type": "code",
   "execution_count": 10,
   "id": "9b7c3e7f",
   "metadata": {},
   "outputs": [],
   "source": [
    "'''\n",
    "Description : Splitting data for training and testing \n",
    "'''\n",
    "\n",
    "input_shape = (100,1)\n",
    "pred_col_index = [len(df_train.columns) - 1]\n",
    "x_train, y_train = data_prep(df_train, input_shape, pred_col_index)\n",
    "x_test, y_test = data_prep(df_test, input_shape, pred_col_index)"
   ]
  },
  {
   "cell_type": "code",
   "execution_count": 11,
   "id": "f2da857c",
   "metadata": {},
   "outputs": [
    {
     "name": "stdout",
     "output_type": "stream",
     "text": [
      "x_train Shape : (113927, 100, 1)\n",
      "y_train Shape: (113927, 1)\n",
      "x_test Shape: (31439, 100, 1)\n",
      "y_test Shape: (31439, 1)\n"
     ]
    }
   ],
   "source": [
    "'''\n",
    "Description : Check size of dataset\n",
    "'''\n",
    "print(\"x_train Shape :\",x_train.shape)\n",
    "print(\"y_train Shape:\",y_train.shape)\n",
    "print(\"x_test Shape:\",x_test.shape)\n",
    "print(\"y_test Shape:\",y_test.shape)"
   ]
  },
  {
   "cell_type": "code",
   "execution_count": 12,
   "id": "8384f1cb",
   "metadata": {
    "scrolled": true
   },
   "outputs": [
    {
     "data": {
      "text/plain": [
       "array([<Axes: >], dtype=object)"
      ]
     },
     "execution_count": 12,
     "metadata": {},
     "output_type": "execute_result"
    },
    {
     "data": {
      "image/png": "[encoded data removed]",
      "text/plain": [
       "<Figure size 1000x2000 with 1 Axes>"
      ]
     },
     "metadata": {},
     "output_type": "display_data"
    }
   ],
   "source": [
    "'''\n",
    "Description : Plotting the graphs\n",
    "'''\n",
    "\n",
    "df_train.plot(subplots =True, sharex = True, figsize = (10,20))"
   ]
  },
  {
   "cell_type": "code",
   "execution_count": 13,
   "id": "ad60243d",
   "metadata": {},
   "outputs": [],
   "source": [
    "def make_directory(directory):\n",
    "    \"\"\"\n",
    "    create directory\n",
    "\n",
    "    Parameters\n",
    "    ----------\n",
    "    directorys : list containing the directorys path to create \n",
    "    Returns\n",
    "    -------q\n",
    "    None.\n",
    "\n",
    "    \"\"\"\n",
    "    for d in directory:\n",
    "        if os.path.isdir(d):\n",
    "            print(\"directory {} already exist\".format(d))\n",
    "        if os.path.isdir(d)==False:\n",
    "            os.mkdir(path=d)\n",
    "            print(\"directory {} created successfully\".format(d))"
   ]
  },
  {
   "cell_type": "code",
   "execution_count": 14,
   "id": "2edf6242",
   "metadata": {},
   "outputs": [],
   "source": [
    "def delete_directory(directorys):\n",
    "    \"\"\"\n",
    "    delete directory \n",
    "\n",
    "    Parameters\n",
    "    ----------\n",
    "    directorys : list containing the directorys to deleate along with all the files\n",
    "\n",
    "    Returns\n",
    "    -------\n",
    "    None.\n",
    "\n",
    "    \"\"\"\n",
    "    if len(directorys)>=1:\n",
    "        for d in directorys:\n",
    "            if os.path.isdir(d):\n",
    "                try:\n",
    "                    if os.path.isfile(d):\n",
    "                        os.remove(path=d)\n",
    "                    else:\n",
    "                        shutil.rmtree(path=d)\n",
    "                        print(\"Removed: {}\".format(d))\n",
    "                except:\n",
    "                    print(\"Failed to removed: {}\".format(d))\n",
    "            else:\n",
    "                print(\"Failed to removed: {}\".format(d))\n",
    "                "
   ]
  },
  {
   "cell_type": "code",
   "execution_count": 15,
   "id": "a74977a7",
   "metadata": {},
   "outputs": [],
   "source": [
    "def make_archive(base_name,root_dir,zip_format='zip'):\n",
    "    \"\"\"\n",
    "    created zip for given folder\n",
    "\n",
    "    Parameters\n",
    "    ----------\n",
    "    base_name : name of zip file\n",
    "    root_dir : directory to archive/zip\n",
    "    zip_format : zip or tar \n",
    "        DESCRIPTION. The default is 'zip'.\n",
    "\n",
    "    Returns\n",
    "    -------\n",
    "    None.\n",
    "\n",
    "    \"\"\"\n",
    "    shutil.make_archive(base_name=base_name, format=zip_format, root_dir=root_dir)\n",
    "    "
   ]
  },
  {
   "cell_type": "code",
   "execution_count": 1,
   "id": "9c4c6456",
   "metadata": {},
   "outputs": [
    {
     "data": {
      "text/plain": [
       "'Description : Create data, model and label folder'"
      ]
     },
     "execution_count": 1,
     "metadata": {},
     "output_type": "execute_result"
    }
   ],
   "source": [
    "\"Description : Create data, model and label folder\"\n",
    "data_path=os.path.join(os.getcwd(),\"data\")\n",
    "model_path=os.path.join(os.getcwd(),\"model\")\n",
    "minmax_path=os.path.join(os.getcwd(),\"minmax\")\n",
    "zip_path=os.path.join(os.getcwd(),\"zip\")\n",
    "pyc_model_path=os.path.join(os.getcwd(),\"pycmodel\")\n",
    "report_path = os.path.join(os.getcwd(),\"reports\")\n",
    "#deleting folder\n",
    "delete_directory(directorys=[data_path,model_path,minmax_path,zip_path,pyc_model_path,report_path])\n",
    "\n",
    "#creating folder\n",
    "make_directory([data_path,model_path,minmax_path,zip_path,pyc_model_path,report_path])\n"
   ]
  },
  {
   "cell_type": "markdown",
   "id": "8397b439",
   "metadata": {},
   "source": [
    "## `3.0 Model Development and Training`\n"
   ]
  },
  {
   "cell_type": "code",
   "execution_count": 17,
   "id": "6d358e6e",
   "metadata": {},
   "outputs": [],
   "source": [
    "\"\"\"\n",
    "Description: Create model architecture\n",
    "\"\"\"\n",
    "\n",
    "def getmodel():\n",
    "    model = xgb.XGBRegressor(n_estimators=1000)\n",
    "    \n",
    "    return model"
   ]
  },
  {
   "cell_type": "code",
   "execution_count": 18,
   "id": "8017da60",
   "metadata": {},
   "outputs": [],
   "source": [
    "\"\"\"\n",
    "Description: to get root mean squared error of the model \n",
    "\"\"\"\n",
    "def RMSE_score(model, test_x, test_y):\n",
    "    pred_y = model.predict(test_x)\n",
    "    return np.sqrt(mean_squared_error(pred_y, test_y))\n"
   ]
  },
  {
   "cell_type": "code",
   "execution_count": 19,
   "id": "60364b2a",
   "metadata": {},
   "outputs": [
    {
     "data": {
      "text/plain": [
       "XGBRegressor(base_score=None, booster=None, callbacks=None,\n",
       "             colsample_bylevel=None, colsample_bynode=None,\n",
       "             colsample_bytree=None, early_stopping_rounds=None,\n",
       "             enable_categorical=False, eval_metric=None, gamma=None,\n",
       "             gpu_id=None, grow_policy=None, importance_type=None,\n",
       "             interaction_constraints=None, learning_rate=None, max_bin=None,\n",
       "             max_cat_to_onehot=None, max_delta_step=None, max_depth=None,\n",
       "             max_leaves=None, min_child_weight=None, missing=nan,\n",
       "             monotone_constraints=None, n_estimators=1000, n_jobs=None,\n",
       "             num_parallel_tree=None, predictor=None, random_state=None,\n",
       "             reg_alpha=None, reg_lambda=None, ...)"
      ]
     },
     "execution_count": 19,
     "metadata": {},
     "output_type": "execute_result"
    }
   ],
   "source": [
    "\"\"\"\n",
    "Description: Model summary\n",
    "\"\"\"\n",
    "model= getmodel()\n",
    "model"
   ]
  },
  {
   "cell_type": "code",
   "execution_count": 20,
   "id": "775cb0cf",
   "metadata": {
    "scrolled": true
   },
   "outputs": [
    {
     "name": "stdout",
     "output_type": "stream",
     "text": [
      "[0]\tvalidation_0-rmse:0.13103\tvalidation_1-rmse:0.14142\n",
      "[1]\tvalidation_0-rmse:0.09309\tvalidation_1-rmse:0.10079\n",
      "[2]\tvalidation_0-rmse:0.06670\tvalidation_1-rmse:0.07240\n",
      "[3]\tvalidation_0-rmse:0.04852\tvalidation_1-rmse:0.05286\n",
      "[4]\tvalidation_0-rmse:0.03615\tvalidation_1-rmse:0.03957\n",
      "[5]\tvalidation_0-rmse:0.02790\tvalidation_1-rmse:0.03074\n",
      "[6]\tvalidation_0-rmse:0.02260\tvalidation_1-rmse:0.02509\n",
      "[7]\tvalidation_0-rmse:0.01926\tvalidation_1-rmse:0.02151\n",
      "[8]\tvalidation_0-rmse:0.01724\tvalidation_1-rmse:0.01940\n",
      "[9]\tvalidation_0-rmse:0.01600\tvalidation_1-rmse:0.01807\n",
      "[10]\tvalidation_0-rmse:0.01526\tvalidation_1-rmse:0.01731\n",
      "[11]\tvalidation_0-rmse:0.01476\tvalidation_1-rmse:0.01680\n",
      "[12]\tvalidation_0-rmse:0.01438\tvalidation_1-rmse:0.01643\n",
      "[13]\tvalidation_0-rmse:0.01409\tvalidation_1-rmse:0.01623\n",
      "[14]\tvalidation_0-rmse:0.01386\tvalidation_1-rmse:0.01608\n",
      "[15]\tvalidation_0-rmse:0.01371\tvalidation_1-rmse:0.01595\n",
      "[16]\tvalidation_0-rmse:0.01353\tvalidation_1-rmse:0.01583\n",
      "[17]\tvalidation_0-rmse:0.01332\tvalidation_1-rmse:0.01569\n",
      "[18]\tvalidation_0-rmse:0.01320\tvalidation_1-rmse:0.01564\n",
      "[19]\tvalidation_0-rmse:0.01307\tvalidation_1-rmse:0.01557\n",
      "[20]\tvalidation_0-rmse:0.01301\tvalidation_1-rmse:0.01552\n",
      "[21]\tvalidation_0-rmse:0.01288\tvalidation_1-rmse:0.01542\n",
      "[22]\tvalidation_0-rmse:0.01283\tvalidation_1-rmse:0.01540\n",
      "[23]\tvalidation_0-rmse:0.01276\tvalidation_1-rmse:0.01536\n",
      "[24]\tvalidation_0-rmse:0.01269\tvalidation_1-rmse:0.01533\n",
      "[25]\tvalidation_0-rmse:0.01259\tvalidation_1-rmse:0.01529\n",
      "[26]\tvalidation_0-rmse:0.01251\tvalidation_1-rmse:0.01526\n",
      "[27]\tvalidation_0-rmse:0.01243\tvalidation_1-rmse:0.01522\n",
      "[28]\tvalidation_0-rmse:0.01237\tvalidation_1-rmse:0.01518\n",
      "[29]\tvalidation_0-rmse:0.01234\tvalidation_1-rmse:0.01515\n",
      "[30]\tvalidation_0-rmse:0.01226\tvalidation_1-rmse:0.01512\n",
      "[31]\tvalidation_0-rmse:0.01219\tvalidation_1-rmse:0.01508\n",
      "[32]\tvalidation_0-rmse:0.01215\tvalidation_1-rmse:0.01507\n",
      "[33]\tvalidation_0-rmse:0.01205\tvalidation_1-rmse:0.01505\n",
      "[34]\tvalidation_0-rmse:0.01199\tvalidation_1-rmse:0.01502\n",
      "[35]\tvalidation_0-rmse:0.01193\tvalidation_1-rmse:0.01499\n",
      "[36]\tvalidation_0-rmse:0.01188\tvalidation_1-rmse:0.01496\n",
      "[37]\tvalidation_0-rmse:0.01180\tvalidation_1-rmse:0.01493\n",
      "[38]\tvalidation_0-rmse:0.01177\tvalidation_1-rmse:0.01491\n",
      "[39]\tvalidation_0-rmse:0.01167\tvalidation_1-rmse:0.01487\n",
      "[40]\tvalidation_0-rmse:0.01163\tvalidation_1-rmse:0.01484\n",
      "[41]\tvalidation_0-rmse:0.01157\tvalidation_1-rmse:0.01484\n",
      "[42]\tvalidation_0-rmse:0.01148\tvalidation_1-rmse:0.01478\n",
      "[43]\tvalidation_0-rmse:0.01142\tvalidation_1-rmse:0.01476\n",
      "[44]\tvalidation_0-rmse:0.01136\tvalidation_1-rmse:0.01475\n",
      "[45]\tvalidation_0-rmse:0.01133\tvalidation_1-rmse:0.01473\n",
      "[46]\tvalidation_0-rmse:0.01129\tvalidation_1-rmse:0.01472\n",
      "[47]\tvalidation_0-rmse:0.01125\tvalidation_1-rmse:0.01470\n",
      "[48]\tvalidation_0-rmse:0.01118\tvalidation_1-rmse:0.01468\n",
      "[49]\tvalidation_0-rmse:0.01114\tvalidation_1-rmse:0.01465\n",
      "[50]\tvalidation_0-rmse:0.01110\tvalidation_1-rmse:0.01464\n",
      "[51]\tvalidation_0-rmse:0.01105\tvalidation_1-rmse:0.01462\n",
      "[52]\tvalidation_0-rmse:0.01100\tvalidation_1-rmse:0.01460\n",
      "[53]\tvalidation_0-rmse:0.01097\tvalidation_1-rmse:0.01458\n",
      "[54]\tvalidation_0-rmse:0.01091\tvalidation_1-rmse:0.01458\n",
      "[55]\tvalidation_0-rmse:0.01089\tvalidation_1-rmse:0.01457\n",
      "[56]\tvalidation_0-rmse:0.01087\tvalidation_1-rmse:0.01455\n",
      "[57]\tvalidation_0-rmse:0.01084\tvalidation_1-rmse:0.01454\n",
      "[58]\tvalidation_0-rmse:0.01077\tvalidation_1-rmse:0.01450\n",
      "[59]\tvalidation_0-rmse:0.01075\tvalidation_1-rmse:0.01449\n",
      "[60]\tvalidation_0-rmse:0.01073\tvalidation_1-rmse:0.01447\n",
      "[61]\tvalidation_0-rmse:0.01071\tvalidation_1-rmse:0.01447\n",
      "[62]\tvalidation_0-rmse:0.01065\tvalidation_1-rmse:0.01448\n",
      "[63]\tvalidation_0-rmse:0.01060\tvalidation_1-rmse:0.01443\n",
      "[64]\tvalidation_0-rmse:0.01056\tvalidation_1-rmse:0.01442\n",
      "[65]\tvalidation_0-rmse:0.01052\tvalidation_1-rmse:0.01440\n",
      "[66]\tvalidation_0-rmse:0.01049\tvalidation_1-rmse:0.01439\n",
      "[67]\tvalidation_0-rmse:0.01044\tvalidation_1-rmse:0.01437\n",
      "[68]\tvalidation_0-rmse:0.01041\tvalidation_1-rmse:0.01435\n",
      "[69]\tvalidation_0-rmse:0.01037\tvalidation_1-rmse:0.01434\n",
      "[70]\tvalidation_0-rmse:0.01033\tvalidation_1-rmse:0.01432\n",
      "[71]\tvalidation_0-rmse:0.01032\tvalidation_1-rmse:0.01432\n",
      "[72]\tvalidation_0-rmse:0.01027\tvalidation_1-rmse:0.01431\n",
      "[73]\tvalidation_0-rmse:0.01024\tvalidation_1-rmse:0.01431\n",
      "[74]\tvalidation_0-rmse:0.01020\tvalidation_1-rmse:0.01429\n",
      "[75]\tvalidation_0-rmse:0.01018\tvalidation_1-rmse:0.01429\n",
      "[76]\tvalidation_0-rmse:0.01017\tvalidation_1-rmse:0.01428\n",
      "[77]\tvalidation_0-rmse:0.01012\tvalidation_1-rmse:0.01427\n",
      "[78]\tvalidation_0-rmse:0.01008\tvalidation_1-rmse:0.01425\n",
      "[79]\tvalidation_0-rmse:0.01001\tvalidation_1-rmse:0.01423\n",
      "[80]\tvalidation_0-rmse:0.00998\tvalidation_1-rmse:0.01422\n",
      "[81]\tvalidation_0-rmse:0.00993\tvalidation_1-rmse:0.01421\n",
      "[82]\tvalidation_0-rmse:0.00990\tvalidation_1-rmse:0.01419\n",
      "[83]\tvalidation_0-rmse:0.00987\tvalidation_1-rmse:0.01418\n",
      "[84]\tvalidation_0-rmse:0.00983\tvalidation_1-rmse:0.01415\n",
      "[85]\tvalidation_0-rmse:0.00979\tvalidation_1-rmse:0.01413\n",
      "[86]\tvalidation_0-rmse:0.00974\tvalidation_1-rmse:0.01410\n",
      "[87]\tvalidation_0-rmse:0.00971\tvalidation_1-rmse:0.01409\n",
      "[88]\tvalidation_0-rmse:0.00970\tvalidation_1-rmse:0.01408\n",
      "[89]\tvalidation_0-rmse:0.00966\tvalidation_1-rmse:0.01407\n",
      "[90]\tvalidation_0-rmse:0.00964\tvalidation_1-rmse:0.01406\n",
      "[91]\tvalidation_0-rmse:0.00962\tvalidation_1-rmse:0.01405\n",
      "[92]\tvalidation_0-rmse:0.00962\tvalidation_1-rmse:0.01405\n",
      "[93]\tvalidation_0-rmse:0.00956\tvalidation_1-rmse:0.01402\n",
      "[94]\tvalidation_0-rmse:0.00953\tvalidation_1-rmse:0.01401\n",
      "[95]\tvalidation_0-rmse:0.00950\tvalidation_1-rmse:0.01401\n",
      "[96]\tvalidation_0-rmse:0.00946\tvalidation_1-rmse:0.01400\n",
      "[97]\tvalidation_0-rmse:0.00942\tvalidation_1-rmse:0.01398\n",
      "[98]\tvalidation_0-rmse:0.00939\tvalidation_1-rmse:0.01397\n",
      "[99]\tvalidation_0-rmse:0.00936\tvalidation_1-rmse:0.01395\n",
      "[100]\tvalidation_0-rmse:0.00935\tvalidation_1-rmse:0.01394\n",
      "[101]\tvalidation_0-rmse:0.00932\tvalidation_1-rmse:0.01394\n",
      "[102]\tvalidation_0-rmse:0.00929\tvalidation_1-rmse:0.01394\n",
      "[103]\tvalidation_0-rmse:0.00928\tvalidation_1-rmse:0.01394\n",
      "[104]\tvalidation_0-rmse:0.00924\tvalidation_1-rmse:0.01392\n",
      "[105]\tvalidation_0-rmse:0.00923\tvalidation_1-rmse:0.01391\n",
      "[106]\tvalidation_0-rmse:0.00920\tvalidation_1-rmse:0.01392\n",
      "[107]\tvalidation_0-rmse:0.00919\tvalidation_1-rmse:0.01391\n",
      "[108]\tvalidation_0-rmse:0.00917\tvalidation_1-rmse:0.01390\n",
      "[109]\tvalidation_0-rmse:0.00915\tvalidation_1-rmse:0.01390\n",
      "[110]\tvalidation_0-rmse:0.00914\tvalidation_1-rmse:0.01390\n",
      "[111]\tvalidation_0-rmse:0.00909\tvalidation_1-rmse:0.01387\n",
      "[112]\tvalidation_0-rmse:0.00906\tvalidation_1-rmse:0.01388\n",
      "[113]\tvalidation_0-rmse:0.00903\tvalidation_1-rmse:0.01387\n",
      "[114]\tvalidation_0-rmse:0.00902\tvalidation_1-rmse:0.01387\n",
      "[115]\tvalidation_0-rmse:0.00900\tvalidation_1-rmse:0.01387\n",
      "[116]\tvalidation_0-rmse:0.00897\tvalidation_1-rmse:0.01387\n",
      "[117]\tvalidation_0-rmse:0.00897\tvalidation_1-rmse:0.01387\n",
      "[118]\tvalidation_0-rmse:0.00895\tvalidation_1-rmse:0.01386\n",
      "[119]\tvalidation_0-rmse:0.00893\tvalidation_1-rmse:0.01386\n",
      "[120]\tvalidation_0-rmse:0.00890\tvalidation_1-rmse:0.01385\n",
      "[121]\tvalidation_0-rmse:0.00889\tvalidation_1-rmse:0.01385\n",
      "[122]\tvalidation_0-rmse:0.00887\tvalidation_1-rmse:0.01384\n",
      "[123]\tvalidation_0-rmse:0.00884\tvalidation_1-rmse:0.01383\n",
      "[124]\tvalidation_0-rmse:0.00882\tvalidation_1-rmse:0.01383\n",
      "[125]\tvalidation_0-rmse:0.00879\tvalidation_1-rmse:0.01383\n",
      "[126]\tvalidation_0-rmse:0.00877\tvalidation_1-rmse:0.01381\n",
      "[127]\tvalidation_0-rmse:0.00876\tvalidation_1-rmse:0.01381\n",
      "[128]\tvalidation_0-rmse:0.00874\tvalidation_1-rmse:0.01380\n",
      "[129]\tvalidation_0-rmse:0.00871\tvalidation_1-rmse:0.01379\n",
      "[130]\tvalidation_0-rmse:0.00868\tvalidation_1-rmse:0.01377\n",
      "[131]\tvalidation_0-rmse:0.00867\tvalidation_1-rmse:0.01377\n",
      "[132]\tvalidation_0-rmse:0.00865\tvalidation_1-rmse:0.01376\n",
      "[133]\tvalidation_0-rmse:0.00864\tvalidation_1-rmse:0.01376\n",
      "[134]\tvalidation_0-rmse:0.00863\tvalidation_1-rmse:0.01376\n",
      "[135]\tvalidation_0-rmse:0.00861\tvalidation_1-rmse:0.01375\n",
      "[136]\tvalidation_0-rmse:0.00860\tvalidation_1-rmse:0.01375\n",
      "[137]\tvalidation_0-rmse:0.00859\tvalidation_1-rmse:0.01375\n",
      "[138]\tvalidation_0-rmse:0.00855\tvalidation_1-rmse:0.01373\n",
      "[139]\tvalidation_0-rmse:0.00851\tvalidation_1-rmse:0.01373\n",
      "[140]\tvalidation_0-rmse:0.00849\tvalidation_1-rmse:0.01373\n",
      "[141]\tvalidation_0-rmse:0.00847\tvalidation_1-rmse:0.01373\n",
      "[142]\tvalidation_0-rmse:0.00846\tvalidation_1-rmse:0.01372\n",
      "[143]\tvalidation_0-rmse:0.00845\tvalidation_1-rmse:0.01372\n"
     ]
    },
    {
     "name": "stdout",
     "output_type": "stream",
     "text": [
      "[144]\tvalidation_0-rmse:0.00843\tvalidation_1-rmse:0.01372\n",
      "[145]\tvalidation_0-rmse:0.00842\tvalidation_1-rmse:0.01371\n",
      "[146]\tvalidation_0-rmse:0.00839\tvalidation_1-rmse:0.01371\n",
      "[147]\tvalidation_0-rmse:0.00837\tvalidation_1-rmse:0.01370\n",
      "[148]\tvalidation_0-rmse:0.00834\tvalidation_1-rmse:0.01369\n",
      "[149]\tvalidation_0-rmse:0.00832\tvalidation_1-rmse:0.01369\n",
      "[150]\tvalidation_0-rmse:0.00830\tvalidation_1-rmse:0.01369\n",
      "[151]\tvalidation_0-rmse:0.00829\tvalidation_1-rmse:0.01369\n",
      "[152]\tvalidation_0-rmse:0.00827\tvalidation_1-rmse:0.01368\n",
      "[153]\tvalidation_0-rmse:0.00824\tvalidation_1-rmse:0.01368\n",
      "[154]\tvalidation_0-rmse:0.00823\tvalidation_1-rmse:0.01368\n",
      "[155]\tvalidation_0-rmse:0.00821\tvalidation_1-rmse:0.01368\n",
      "[156]\tvalidation_0-rmse:0.00820\tvalidation_1-rmse:0.01366\n",
      "[157]\tvalidation_0-rmse:0.00817\tvalidation_1-rmse:0.01367\n",
      "[158]\tvalidation_0-rmse:0.00816\tvalidation_1-rmse:0.01366\n",
      "[159]\tvalidation_0-rmse:0.00812\tvalidation_1-rmse:0.01366\n",
      "[160]\tvalidation_0-rmse:0.00809\tvalidation_1-rmse:0.01365\n",
      "[161]\tvalidation_0-rmse:0.00808\tvalidation_1-rmse:0.01365\n",
      "[162]\tvalidation_0-rmse:0.00806\tvalidation_1-rmse:0.01364\n",
      "[163]\tvalidation_0-rmse:0.00806\tvalidation_1-rmse:0.01364\n",
      "[164]\tvalidation_0-rmse:0.00804\tvalidation_1-rmse:0.01363\n",
      "[165]\tvalidation_0-rmse:0.00803\tvalidation_1-rmse:0.01363\n",
      "[166]\tvalidation_0-rmse:0.00802\tvalidation_1-rmse:0.01362\n",
      "[167]\tvalidation_0-rmse:0.00801\tvalidation_1-rmse:0.01362\n",
      "[168]\tvalidation_0-rmse:0.00799\tvalidation_1-rmse:0.01362\n",
      "[169]\tvalidation_0-rmse:0.00797\tvalidation_1-rmse:0.01361\n",
      "[170]\tvalidation_0-rmse:0.00795\tvalidation_1-rmse:0.01360\n",
      "[171]\tvalidation_0-rmse:0.00793\tvalidation_1-rmse:0.01360\n",
      "[172]\tvalidation_0-rmse:0.00791\tvalidation_1-rmse:0.01361\n",
      "[173]\tvalidation_0-rmse:0.00789\tvalidation_1-rmse:0.01360\n",
      "[174]\tvalidation_0-rmse:0.00788\tvalidation_1-rmse:0.01360\n",
      "[175]\tvalidation_0-rmse:0.00788\tvalidation_1-rmse:0.01360\n",
      "[176]\tvalidation_0-rmse:0.00786\tvalidation_1-rmse:0.01359\n",
      "[177]\tvalidation_0-rmse:0.00784\tvalidation_1-rmse:0.01359\n",
      "[178]\tvalidation_0-rmse:0.00782\tvalidation_1-rmse:0.01359\n",
      "[179]\tvalidation_0-rmse:0.00781\tvalidation_1-rmse:0.01358\n",
      "[180]\tvalidation_0-rmse:0.00779\tvalidation_1-rmse:0.01358\n",
      "[181]\tvalidation_0-rmse:0.00778\tvalidation_1-rmse:0.01358\n",
      "[182]\tvalidation_0-rmse:0.00775\tvalidation_1-rmse:0.01357\n",
      "[183]\tvalidation_0-rmse:0.00773\tvalidation_1-rmse:0.01357\n",
      "[184]\tvalidation_0-rmse:0.00773\tvalidation_1-rmse:0.01356\n",
      "[185]\tvalidation_0-rmse:0.00770\tvalidation_1-rmse:0.01356\n",
      "[186]\tvalidation_0-rmse:0.00769\tvalidation_1-rmse:0.01356\n",
      "[187]\tvalidation_0-rmse:0.00767\tvalidation_1-rmse:0.01356\n",
      "[188]\tvalidation_0-rmse:0.00766\tvalidation_1-rmse:0.01355\n",
      "[189]\tvalidation_0-rmse:0.00765\tvalidation_1-rmse:0.01355\n",
      "[190]\tvalidation_0-rmse:0.00763\tvalidation_1-rmse:0.01354\n",
      "[191]\tvalidation_0-rmse:0.00763\tvalidation_1-rmse:0.01354\n",
      "[192]\tvalidation_0-rmse:0.00762\tvalidation_1-rmse:0.01354\n",
      "[193]\tvalidation_0-rmse:0.00760\tvalidation_1-rmse:0.01353\n",
      "[194]\tvalidation_0-rmse:0.00758\tvalidation_1-rmse:0.01353\n",
      "[195]\tvalidation_0-rmse:0.00757\tvalidation_1-rmse:0.01353\n",
      "[196]\tvalidation_0-rmse:0.00755\tvalidation_1-rmse:0.01352\n",
      "[197]\tvalidation_0-rmse:0.00753\tvalidation_1-rmse:0.01351\n",
      "[198]\tvalidation_0-rmse:0.00752\tvalidation_1-rmse:0.01351\n",
      "[199]\tvalidation_0-rmse:0.00752\tvalidation_1-rmse:0.01351\n",
      "[200]\tvalidation_0-rmse:0.00750\tvalidation_1-rmse:0.01351\n",
      "[201]\tvalidation_0-rmse:0.00749\tvalidation_1-rmse:0.01351\n",
      "[202]\tvalidation_0-rmse:0.00748\tvalidation_1-rmse:0.01351\n",
      "[203]\tvalidation_0-rmse:0.00747\tvalidation_1-rmse:0.01351\n"
     ]
    }
   ],
   "source": [
    "\"\"\"\n",
    "Description: Training model\n",
    "\"\"\"\n",
    "\n",
    "x_train = x_train[:,:,0]\n",
    "x_test = x_test[:,:,0]\n",
    "\n",
    "history = model.fit(x_train, y_train,\n",
    "        eval_set=[(x_train, y_train), (x_test, y_test)],\n",
    "        early_stopping_rounds=5,\n",
    "       verbose=True)"
   ]
  },
  {
   "cell_type": "code",
   "execution_count": 21,
   "id": "305ef45c",
   "metadata": {},
   "outputs": [
    {
     "data": {
      "text/plain": [
       "0.01350891481750004"
      ]
     },
     "execution_count": 21,
     "metadata": {},
     "output_type": "execute_result"
    }
   ],
   "source": [
    "\"\"\"\n",
    "Description: get rmse score \n",
    "\"\"\"\n",
    "\n",
    "RMSE_score(model,x_test, y_test)"
   ]
  },
  {
   "cell_type": "code",
   "execution_count": 22,
   "id": "6cc98728",
   "metadata": {},
   "outputs": [],
   "source": [
    "model_name = \"org_model.pkl\"\n",
    "pickle.dump(model, open(os.path.join(model_path, model_name), \"wb\"))"
   ]
  },
  {
   "cell_type": "markdown",
   "id": "1afc1711",
   "metadata": {},
   "source": [
    "## `4.0 Prepare Data , Model and MinMax`"
   ]
  },
  {
   "cell_type": "code",
   "execution_count": 23,
   "id": "efcafb17",
   "metadata": {},
   "outputs": [],
   "source": [
    "\"\"\"\n",
    "Description: Zip Data\n",
    "\"\"\"\n",
    "df_test.to_csv(os.path.join(data_path,\"data.csv\"),index=False)\n",
    "make_archive(base_name=os.path.join(zip_path,\"data\"),root_dir=data_path,zip_format='zip')"
   ]
  },
  {
   "cell_type": "markdown",
   "id": "f8e1b886",
   "metadata": {},
   "source": [
    "### `4.0.1 Prepare and creating minmax.zip file`"
   ]
  },
  {
   "cell_type": "code",
   "execution_count": 24,
   "id": "e778737d",
   "metadata": {},
   "outputs": [],
   "source": [
    "'''\n",
    "Description: Preparing Min_Max file\n",
    "'''\n",
    "min_values = df_test.min().to_numpy()\n",
    "max_values = df_test.max().to_numpy()\n",
    "x = np.array([min_values,max_values])\n",
    "df_m = pd.DataFrame(x,columns=df_test.columns)\n",
    "df_m.to_csv(minmax_path+'/minmax.csv',index = False)"
   ]
  },
  {
   "cell_type": "code",
   "execution_count": 25,
   "id": "3a9c9592",
   "metadata": {},
   "outputs": [],
   "source": [
    "\"\"\"\n",
    "Description: Minmax label\n",
    "\"\"\"\n",
    "make_archive(base_name=os.path.join(zip_path,\"minmax\"),root_dir=minmax_path,zip_format='zip')"
   ]
  },
  {
   "cell_type": "markdown",
   "id": "b047ba87",
   "metadata": {},
   "source": [
    "## `4.1.0 Convert python script (.py) to (.pyc)`\n"
   ]
  },
  {
   "cell_type": "markdown",
   "id": "ee6b2916",
   "metadata": {},
   "source": [
    "#### if model framework is scikit-learn , then need below two files for enc = 1\n",
    "\n",
    "1. base_model.pyc file\n",
    "2. Password protected Zip file – Containing Pickle file "
   ]
  },
  {
   "cell_type": "markdown",
   "id": "980e8f12",
   "metadata": {},
   "source": [
    "#### `4.1.1 Creating base_model.pyc file`"
   ]
  },
  {
   "cell_type": "code",
   "execution_count": 26,
   "id": "de09fe79",
   "metadata": {},
   "outputs": [],
   "source": [
    "\"\"\"\n",
    "Description: Create encrypted Model\n",
    "\"\"\"\n",
    "def create_model_pyc(model, model_framework,pyc_model_path, model_name):\n",
    "    \n",
    "    if model_framework.lower() == \"scikit-learn\":\n",
    "\n",
    "        python_code ='''\n",
    "#importing libraries\n",
    "import pickle\n",
    "import zipfile\n",
    "import os\n",
    "\n",
    "\"\"\"\n",
    "    class for base model\n",
    "\"\"\"\n",
    "#define class\n",
    "class BaseModel():\n",
    "    def __init__(self,model_path=\"\"):\n",
    "\n",
    "        \"\"\"\n",
    "        constructor for class\n",
    "\n",
    "        Parameters\n",
    "        ----------\n",
    "        input_shape : TYPE, optional\n",
    "            DESCRIPTION. The default is (100,1).\n",
    "        Returns\n",
    "        -------\n",
    "        None.\n",
    "\n",
    "        \"\"\"\n",
    "        self.model_path = model_path\n",
    "        \n",
    "    def load_protected_pickleModel(self,filename,password,picklemodelname):\n",
    "      \n",
    "\n",
    "        \"\"\"\n",
    "        model architecture\n",
    "\n",
    "        Parameters\n",
    "        ----------\n",
    "        filename : string\n",
    "            DESCRIPTION.zipped protected filename\n",
    "            \n",
    "        password : String\n",
    "            DESCRIPTION.zipped file password\n",
    "        \n",
    "        picklemodelname  :String\n",
    "            DESCRIPTION.pickle file name present in a ziiped protected\n",
    "            \n",
    "        Returns\n",
    "        -------\n",
    "        model : model\n",
    "            DESCRIPTION.\n",
    "\n",
    "        \"\"\"\n",
    "        filepath = os.path.join(self.model_path,filename)\n",
    "        #print(filepath)\n",
    "        #print(filename)\n",
    "        with zipfile.ZipFile(filepath, 'r') as file:\n",
    "            with file.open(picklemodelname,'r',pwd = bytes(password, 'utf-8')) as f:\n",
    "                pck = pickle.load(f)\n",
    "        return pck\n",
    "    \n",
    "    def predict(self,X):\n",
    "\n",
    "        \"\"\"\n",
    "        predict for given data\n",
    "\n",
    "        Parameters\n",
    "        ----------\n",
    "        X : numpy array \n",
    "            DESCRIPTION.\n",
    "\n",
    "        Returns\n",
    "        -------\n",
    "        pred : numpy array\n",
    "            DESCRIPTION.\n",
    "\n",
    "        \"\"\"\n",
    "        filename = \"modelencrypt.zip\"\n",
    "        password = \"987654321\"\n",
    "        picklemodelname = \"org_model.pkl\"\n",
    "        model = self.load_protected_pickleModel(filename=filename,password=password,picklemodelname=picklemodelname)\n",
    "        pred = model.predict(X)\n",
    "        return pred'''\n",
    "        # Writing to file\n",
    "        with open(\"base_model.py\", \"w\") as file:\n",
    "            # Writing data to a file\n",
    "            file.writelines(python_code)\n",
    "         \n",
    "        \"\"\"\n",
    "        Description: function to create .pyc file\n",
    "        \"\"\"\n",
    "        py_compile.compile(file=\"base_model.py\",cfile=pyc_model_path+'/base_model.pyc')\n",
    "        \n",
    "        \"\"\"\n",
    "        Description: function to create zipped password protected pickle model file\n",
    "        \"\"\"\n",
    "\n",
    "        def zip_model(input_path,output_path,password,com_lvl=5):\n",
    "            pyminizip.compress(input_path, None, output_path,\n",
    "                               password, com_lvl)\n",
    "            \n",
    "        zip_model(input_path =os.path.join(model_path,model_name),output_path = pyc_model_path+\"/modelencrypt.zip\" ,password = \"987654321\",com_lvl=5)\n",
    "            "
   ]
  },
  {
   "cell_type": "code",
   "execution_count": 27,
   "id": "08888eb4",
   "metadata": {},
   "outputs": [],
   "source": [
    "\"\"\"\n",
    "Description: Creating encrypted Model\n",
    "\"\"\"\n",
    "model_framework = \"scikit-learn\"\n",
    "model_encryption = 1 #0 for non encrypted file and 1 for encrypted (pyc) \n",
    "create_model_pyc(model,model_framework, pyc_model_path, model_name)"
   ]
  },
  {
   "cell_type": "markdown",
   "id": "fe983f34",
   "metadata": {},
   "source": [
    "* .pyc file with name base_model.pyc will get created\n",
    "* delete .py file and still import and other function will work\n",
    "* while AIShield API call , inplace of model.h5 file you can zip .pyc and model weight which will provide security to internal architecture"
   ]
  },
  {
   "cell_type": "code",
   "execution_count": 28,
   "id": "f2cb4b03",
   "metadata": {},
   "outputs": [],
   "source": [
    "\"\"\"\n",
    "Description: Zip model\n",
    "\"\"\"\n",
    "if os.path.isfile(os.path.join(zip_path,\"model.zip\")):\n",
    "    delete_directory(directorys=[os.path.join(zip_path,\"model.zip\")])\n",
    "if model_encryption:\n",
    "    make_archive(base_name=os.path.join(zip_path,\"model1\"),root_dir=pyc_model_path,zip_format='zip')\n",
    "else:\n",
    "    make_archive(base_name=os.path.join(zip_path,\"model0\"),root_dir=model_path,zip_format='zip')"
   ]
  },
  {
   "cell_type": "markdown",
   "id": "89a28115",
   "metadata": {},
   "source": [
    "### `5.0 AIShield API Call`"
   ]
  },
  {
   "cell_type": "code",
   "execution_count": 53,
   "id": "6d371492",
   "metadata": {},
   "outputs": [],
   "source": [
    "\"\"\"\n",
    "Description: AIShield API URL and subscription key\n",
    "\"\"\" \n",
    "\n",
    "baseurl = \"XXXXXXXXXXXXXXXXXXXXXXXXXXXXXXXXXXXXXXXXX\" # fill in API endpoint url from AIShield developer portal under API tab \n",
    "url = baseurl + \"/api/ais/v1.5\"\n",
    "headers={'Cache-Control': 'no-cache',\n",
    "'x-api-key': \"XXXXXXXXXXXXXXXXXXXXXXXXXXXXXx\", # fill in subscription key from AIShield developer portal under My Dashboard tab\n",
    "'Org-Id' : \"XXXXXXXXXXXXXXXXXXXXXXXXXXXXXXXXXXXXXXXXXXXXXXXXXXXXXXXXXXXXXXXXXXXXXXXXXXXX\"  # fill in Org_Id provided in welcome email\n",
    "}"
   ]
  },
  {
   "cell_type": "markdown",
   "id": "cd63eab5",
   "metadata": {},
   "source": [
    "### 5.1 Model Registration"
   ]
  },
  {
   "cell_type": "code",
   "execution_count": 2,
   "id": "9f930912",
   "metadata": {},
   "outputs": [
    {
     "data": {
      "text/plain": [
       "'\\nDescription: call Model registration api to get unique model it and url to upload data, model and label\\n'"
      ]
     },
     "execution_count": 2,
     "metadata": {},
     "output_type": "execute_result"
    }
   ],
   "source": [
    "\"\"\"\n",
    "Description: call Model registration api to get unique model it and url to upload data, model and label\n",
    "\"\"\"\n",
    "model_registration_url = url + \"/model_registration/upload\"\n",
    "model_registration_payload = {\n",
    "    'task_type':\"TSF\",\n",
    "    \"analysis_type\": \"MEA\"\n",
    "}\n",
    "new_request = requests.request(method=\"POST\", url=model_registration_url, headers=headers, json=model_registration_payload)\n",
    "new_request=json.loads(new_request.text)\n",
    "if 'data' in new_request.keys():\n",
    "    model_id = new_request[\"data\"]['model_id']\n",
    "    data_upload_url = new_request[\"data\"][\"urls\"]['data_upload_url']\n",
    "    label_upload_url = new_request[\"data\"][\"urls\"]['minmax_upload_url']\n",
    "    model_upload_url = new_request[\"data\"][\"urls\"]['model_upload_url']\n",
    "\n",
    "    print('model_id: ', model_id)\n",
    "else:\n",
    "    for k, v in new_request.items():\n",
    "        print(\"* {} : {}\".format(k,v))"
   ]
  },
  {
   "cell_type": "code",
   "execution_count": 55,
   "id": "e90e84a1",
   "metadata": {},
   "outputs": [],
   "source": [
    "\"\"\"\n",
    "Description: Files path\n",
    "\"\"\"\n",
    "\n",
    "data_path=os.path.join(zip_path,'data.zip')  # full path of data zip\n",
    "label_path=os.path.join(zip_path,'minmax.zip') # full path of label zip\n",
    "# model_path=os.path.join(zip_path,'bfsi_pyc_model.zip') # uncomment if model_encryption = 1 (pyc)\n",
    "model_path=os.path.join(zip_path,'model1.zip') # uncomment if model_encryption = 0 (unencrypted)"
   ]
  },
  {
   "cell_type": "code",
   "execution_count": 56,
   "id": "208b7d14",
   "metadata": {},
   "outputs": [],
   "source": [
    "def upload_file(url, file_path):\n",
    "    \"\"\"\n",
    "    url: URL to upload\n",
    "    file_path: file to be uploaded\n",
    "    \"\"\"\n",
    "    new_request = requests.request(method=\"PUT\", url=url, data=open(file_path,'rb'))\n",
    "    status_cd = new_request.status_code\n",
    "    if status_cd == 200:\n",
    "        status = 'upload sucessful'\n",
    "    else:\n",
    "        status = 'upload failed'\n",
    "    return status"
   ]
  },
  {
   "cell_type": "code",
   "execution_count": 57,
   "id": "b7f2c6df",
   "metadata": {},
   "outputs": [
    {
     "name": "stdout",
     "output_type": "stream",
     "text": [
      "data_upload_status:  upload sucessful\n",
      "label_upload_status:  upload sucessful\n",
      "model_upload_status:  upload sucessful\n"
     ]
    }
   ],
   "source": [
    "\"\"\"\n",
    "Description: Hit AIShield File Upload API\n",
    "\"\"\"\n",
    "data_upload_status = upload_file(data_upload_url, data_path)\n",
    "print('data_upload_status: ', data_upload_status)\n",
    "label_upload_status = upload_file(label_upload_url, label_path)\n",
    "print('label_upload_status: ', label_upload_status)\n",
    "model_upload_status = upload_file(model_upload_url, model_path)\n",
    "print('model_upload_status: ', model_upload_status)\n"
   ]
  },
  {
   "cell_type": "markdown",
   "id": "2e827d18",
   "metadata": {},
   "source": [
    "### 5.2 Model Analysis"
   ]
  },
  {
   "cell_type": "code",
   "execution_count": 58,
   "id": "3f0b2ac4",
   "metadata": {},
   "outputs": [],
   "source": [
    "\"\"\"\n",
    "Description: Request payload\n",
    "\"\"\"\n",
    "\n",
    "payload = {\n",
    "            \"attack_type\": \"greybox\",\n",
    "            \"defense_bestonly\": \"no\",\n",
    "            \"encryption_strategy\": model_encryption,\n",
    "            \"input_dimensions\": str(input_shape),\n",
    "            \"model_api_details\": \"na\",\n",
    "            \"model_framework\": \"scikit-learn\",\n",
    "            \"number_of_attack_queries\": \"20000\",\n",
    "            \"use_model_api\": \"no\",\n",
    "            \"vulnerability_threshold\": \"0\"\n",
    "        }"
   ]
  },
  {
   "cell_type": "code",
   "execution_count": 3,
   "id": "5e0e5b22",
   "metadata": {},
   "outputs": [
    {
     "name": "stdout",
     "output_type": "stream",
     "text": [
      "* api_version : 1.5\n",
      "* job_id : XXXXXXXXXXXX\n",
      "* monitor_link : XXXXXXXXXXXXXX\n"
     ]
    }
   ],
   "source": [
    "\"\"\"\n",
    "Description: Hit AIShield VulnerabilityReport api\n",
    "\"\"\"\n",
    "\n",
    "model_analysis_url = url + \"/model_analyse/\"+model_id\n",
    "if data_upload_status == \"upload sucessful\" and model_upload_status == \"upload sucessful\" and label_upload_status == \"upload sucessful\":\n",
    "    new_request = requests.request(method=\"POST\", url=model_analysis_url, json=payload,headers=headers)\n",
    "    new_request=json.loads(new_request.text)\n",
    "    for k, v in new_request.items():\n",
    "        print(\"* {} : {}\".format(k,v))\n"
   ]
  },
  {
   "cell_type": "code",
   "execution_count": 4,
   "id": "f07bdf6f",
   "metadata": {},
   "outputs": [
    {
     "name": "stdout",
     "output_type": "stream",
     "text": [
      "Job id : XXXXXXXXXXXX\n"
     ]
    }
   ],
   "source": [
    "\"\"\"\n",
    "Description: Get job id from api response\n",
    "\"\"\"\n",
    "job_id=new_request['job_id']\n",
    "print(f\"Job id : {job_id}\")"
   ]
  },
  {
   "cell_type": "code",
   "execution_count": 61,
   "id": "59605b1a",
   "metadata": {},
   "outputs": [],
   "source": [
    "def monitor_api_progress(new_job_id):\n",
    "        job_status_url = url + \"/job_status_detailed?job_id=\" + new_job_id\n",
    "\n",
    "        # status dictionary\n",
    "        status_dictionary = {\n",
    "            'ModelExploration_Status': 'na',\n",
    "            'SanityCheck_Status': 'na',\n",
    "            'QueryGenerator_Status': 'na',\n",
    "            'VunerabilityEngine_Status': 'na',\n",
    "            'DefenseReport_Status': 'na',\n",
    "        }\n",
    "        counts = [0] * len(status_dictionary)\n",
    "        failed_api_hit_count = 0\n",
    "        while True:\n",
    "            time.sleep(2)\n",
    "            try:\n",
    "                job_status_response = requests.request(\"GET\", job_status_url, params={},\n",
    "                                                       headers=headers)\n",
    "\n",
    "                job_status_payload = json.loads(job_status_response.text)\n",
    "                failing_key = 'ModelExploration_Status'\n",
    "                for i, key in enumerate(status_dictionary.keys()):\n",
    "                    if status_dictionary[key] == 'na':\n",
    "                        if job_status_payload[key] == 'inprogress' and status_dictionary[key] == 'na':\n",
    "                            status_dictionary[key] = job_status_payload[key]\n",
    "                            print(str(key), \":\", status_dictionary[key])\n",
    "\n",
    "                        elif job_status_payload[key] == 'completed' or job_status_payload[key] == 'passed':\n",
    "                            status_dictionary[key] = job_status_payload[key]\n",
    "                            counts[i] += 1\n",
    "                            print(str(key), \":\", status_dictionary[key])\n",
    "\n",
    "                        if job_status_payload[key] == 'failed':\n",
    "                            failing_key = key\n",
    "                            status_dictionary[key] = job_status_payload[key]\n",
    "                            print(str(key), \":\", status_dictionary[key])\n",
    "\n",
    "                    elif job_status_payload[key] == 'completed' or job_status_payload[key] == 'passed':\n",
    "                        status_dictionary[key] = job_status_payload[key]\n",
    "                        if counts[i] < 1:\n",
    "                            print(str(key), \":\", status_dictionary[key])\n",
    "                        counts[i] += 1\n",
    "\n",
    "                    else:\n",
    "                        if job_status_payload[key] == 'failed':\n",
    "                            failing_key = key\n",
    "                            status_dictionary[key] = job_status_payload[key]\n",
    "                            print(str(key), \":\", status_dictionary[key])\n",
    "\n",
    "                if job_status_payload[failing_key] == 'failed':\n",
    "                    break\n",
    "\n",
    "                if status_dictionary['VunerabilityEngine_Status'] == 'passed' or status_dictionary[\n",
    "                    'VunerabilityEngine_Status'] == 'completed' and job_status_payload[\n",
    "                    'CurrentStatus'] == \"Defense generation is not triggered\":\n",
    "                    print(\"\\n Vulnerability score {} failed to cross vulnerability threshold of {}\".format(\n",
    "                        job_status_payload['VulnerabiltyScore'], payload['vulnerability_threshold']))\n",
    "                    break\n",
    "                if job_status_payload['DefenseReport_Status'] == 'completed':\n",
    "                    break\n",
    "            except Exception as e:\n",
    "                failed_api_hit_count += 1\n",
    "                print(\"Error {}. trying {} ...\".format(str(e), failed_api_hit_count))\n",
    "                if failed_api_hit_count >= 3:\n",
    "                    break\n",
    "        return status_dictionary"
   ]
  },
  {
   "cell_type": "code",
   "execution_count": 62,
   "id": "097e519b",
   "metadata": {},
   "outputs": [
    {
     "name": "stdout",
     "output_type": "stream",
     "text": [
      "ModelExploration_Status : inprogress\n",
      "ModelExploration_Status : completed\n",
      "SanityCheck_Status : passed\n",
      "QueryGenerator_Status : inprogress\n",
      "QueryGenerator_Status : completed\n",
      "VunerabilityEngine_Status : inprogress\n",
      "VunerabilityEngine_Status : completed\n",
      "DefenseReport_Status : inprogress\n",
      "DefenseReport_Status : completed\n"
     ]
    }
   ],
   "source": [
    "\"\"\"\n",
    "Description: Continuos monitoring of jod progress\n",
    "\"\"\"\n",
    "status_dictionary = monitor_api_progress(new_job_id=job_id)"
   ]
  },
  {
   "cell_type": "code",
   "execution_count": 63,
   "id": "de8477e0",
   "metadata": {},
   "outputs": [],
   "source": [
    "def download_artifact(job_id, report_type='Vulnerability', file_format=0):\n",
    "    \"\"\"\n",
    "    job_id: job_id  received after successful api call\n",
    "    report_type: report to be downloaded\n",
    "    file_format: change file_format to : 0- all report in zip \n",
    "                        1- report in .txt \n",
    "                        2- report in .pdf\n",
    "                        3- report in .json\n",
    "                        4- report in .xml\n",
    "    \"\"\"\n",
    "    report_url = url + \"/get_report?job_id=\" + str(\n",
    "        job_id) + \"&report_type=\" + report_type + \"&file_format=\" + str(file_format)\n",
    "\n",
    "    headers1=headers\n",
    "    headers1[\"content-type\"]= \"application/zip\"\n",
    "\n",
    "    response = requests.request(\"GET\", report_url, params={}, headers=headers1)\n",
    "\n",
    "    if file_format == 0 or \"Attack_samples\":\n",
    "        with open(os.path.join(report_path, report_type + \".zip\"), 'wb') as f:\n",
    "            f.write(response.content)\n",
    "    elif file_format == 1:\n",
    "        with open(os.path.join(report_path, report_type + \".txt\"), 'wb') as f:\n",
    "            f.write(response.content)\n",
    "    elif file_format == 2:\n",
    "        with open(os.path.join(report_path, report_type + \".pdf\"), 'wb') as f:\n",
    "            f.write(response.content)\n",
    "    elif file_format == 3:\n",
    "        with open(os.path.join(report_path, report_type + \".json\"), 'wb') as f:\n",
    "            f.write(response.content)\n",
    "    elif file_format == 4:\n",
    "        with open(os.path.join(report_path, report_type + \".xml\"), 'wb') as f:\n",
    "            f.write(response.content)"
   ]
  },
  {
   "cell_type": "code",
   "execution_count": 64,
   "id": "b0d1c438",
   "metadata": {},
   "outputs": [],
   "source": [
    "\"\"\"\n",
    "Description: download generated artifact\n",
    "\"\"\"\n",
    "if status_dictionary[\"VunerabilityEngine_Status\"] == 'completed':\n",
    "    download_artifact(job_id=job_id, report_type='Vulnerability', file_format=0) \n",
    "    download_artifact(job_id=job_id, report_type='Attack_samples', file_format=0)\n",
    "\n",
    "if status_dictionary[\"DefenseReport_Status\"] == 'completed':\n",
    "    download_artifact(job_id=job_id, report_type='Defense', file_format=0)\n",
    "    download_artifact(job_id=job_id, report_type='Defense_artifact', file_format=0)"
   ]
  },
  {
   "cell_type": "code",
   "execution_count": 65,
   "id": "d1e1aea2",
   "metadata": {},
   "outputs": [],
   "source": [
    "def zip_extractor(file, extract_path=None, delete_zip=False):\n",
    "    \"\"\"\n",
    "    extract zip file to the given path\n",
    "\n",
    "    Parameters\n",
    "    ----------\n",
    "    file : path of zip file\n",
    "    extract_path : path to extract zip file, default considered parent directory\n",
    "    delete_zip: True, delete zip file after unzipping it\n",
    "\n",
    "    Returns\n",
    "    -------\n",
    "    None.\n",
    "    \"\"\"\n",
    "    if extract_path is None:\n",
    "        extract_path = os.path.dirname(file)\n",
    "    print(\"Extracting : {}\".format(file))\n",
    "    zf = zipfile.ZipFile(file=file, mode='r')\n",
    "    zf.extractall(extract_path)\n",
    "    zf.close()\n",
    "    if delete_zip:\n",
    "        os.remove(file)\n",
    "        print(\"{} removed successfully.\".format(file))\n"
   ]
  },
  {
   "cell_type": "code",
   "execution_count": 5,
   "id": "9d8d7a2a",
   "metadata": {},
   "outputs": [
    {
     "data": {
      "text/plain": [
       "'\\nDescription: Extracting defense artifact\\n'"
      ]
     },
     "execution_count": 5,
     "metadata": {},
     "output_type": "execute_result"
    }
   ],
   "source": [
    "\"\"\"\n",
    "Description: Extracting defense artifact\n",
    "\"\"\"\n",
    "\n",
    "zip_extractor(file=os.path.join(report_path, 'Defense_artifact.zip'))"
   ]
  },
  {
   "cell_type": "code",
   "execution_count": 6,
   "id": "621f49cb",
   "metadata": {},
   "outputs": [
    {
     "data": {
      "text/plain": [
       "'\\nDescription: Extracting attack sample\\n'"
      ]
     },
     "execution_count": 6,
     "metadata": {},
     "output_type": "execute_result"
    }
   ],
   "source": [
    "\"\"\"\n",
    "Description: Extracting attack sample\n",
    "\"\"\"\n",
    "\n",
    "zip_extractor(file=os.path.join(report_path, 'Attack_samples.zip'))"
   ]
  },
  {
   "cell_type": "code",
   "execution_count": 68,
   "id": "2822dea8",
   "metadata": {},
   "outputs": [],
   "source": [
    "attack = pd.read_csv('reports/attack_samples.csv')"
   ]
  },
  {
   "cell_type": "code",
   "execution_count": 69,
   "id": "f1f0662c",
   "metadata": {},
   "outputs": [],
   "source": [
    "\"\"\"\n",
    "Description: Load defense model\n",
    "\"\"\"\n",
    "\n",
    "defense_model_path = os.path.join(report_path, 'defense_model.h5')\n",
    "defense_model = tf.keras.models.load_model(defense_model_path)"
   ]
  },
  {
   "cell_type": "code",
   "execution_count": 70,
   "id": "3396b7ce",
   "metadata": {},
   "outputs": [
    {
     "name": "stdout",
     "output_type": "stream",
     "text": [
      "Model: \"model_6\"\n",
      "_________________________________________________________________\n",
      " Layer (type)                Output Shape              Param #   \n",
      "=================================================================\n",
      " input_data (InputLayer)     [(None, 100, 1)]          0         \n",
      "                                                                 \n",
      " conv1d_32 (Conv1D)          (None, 98, 16)            64        \n",
      "                                                                 \n",
      " conv1d_33 (Conv1D)          (None, 96, 16)            784       \n",
      "                                                                 \n",
      " dense_12 (Dense)            (None, 96, 32)            544       \n",
      "                                                                 \n",
      " flatten_6 (Flatten)         (None, 3072)              0         \n",
      "                                                                 \n",
      " dense_13 (Dense)            (None, 2)                 6146      \n",
      "                                                                 \n",
      "=================================================================\n",
      "Total params: 7,538\n",
      "Trainable params: 7,538\n",
      "Non-trainable params: 0\n",
      "_________________________________________________________________\n"
     ]
    }
   ],
   "source": [
    "defense_model.summary()"
   ]
  },
  {
   "cell_type": "code",
   "execution_count": 71,
   "id": "0b439cd8",
   "metadata": {},
   "outputs": [],
   "source": [
    "\"\"\"\n",
    "Description: Use defense model\n",
    "\"\"\"\n",
    "\n",
    "from reports import predict\n",
    "defense = predict.AISDefenseModel(defense_model,input_shape = (100,1), pre_processed = False)"
   ]
  },
  {
   "cell_type": "code",
   "execution_count": 72,
   "id": "0c71d916",
   "metadata": {},
   "outputs": [
    {
     "name": "stdout",
     "output_type": "stream",
     "text": [
      "1/1 [==============================] - 0s 182ms/step\n"
     ]
    },
    {
     "name": "stderr",
     "output_type": "stream",
     "text": [
      "100%|██████████████████████████████████████████████████████████████████████████████████████████████████████████████████████████████████████████████████████████████████| 10/10 [00:00<00:00, 123000.12it/s]"
     ]
    },
    {
     "name": "stdout",
     "output_type": "stream",
     "text": [
      "['attack', 'attack', 'attack', 'attack', 'attack', 'attack', 'not-attack', 'not-attack', 'not-attack', 'not-attack']\n"
     ]
    },
    {
     "name": "stderr",
     "output_type": "stream",
     "text": [
      "\n"
     ]
    }
   ],
   "source": [
    "org_pred, org_pred_prob= defense.predict(df_test[:10])\n",
    "print(org_pred.tolist())"
   ]
  },
  {
   "cell_type": "code",
   "execution_count": 73,
   "id": "28f08993",
   "metadata": {},
   "outputs": [
    {
     "name": "stdout",
     "output_type": "stream",
     "text": [
      "10/10 [==============================] - 0s 13ms/step\n"
     ]
    },
    {
     "name": "stderr",
     "output_type": "stream",
     "text": [
      "100%|████████████████████████████████████████████████████████████████████████████████████████████████████████████████████████████████████████████████████████████████| 300/300 [00:00<00:00, 711300.85it/s]"
     ]
    },
    {
     "name": "stdout",
     "output_type": "stream",
     "text": [
      "['attack', 'attack', 'attack', 'attack', 'attack', 'attack', 'attack', 'attack', 'attack', 'attack', 'attack', 'attack', 'attack', 'attack', 'attack', 'attack', 'attack', 'attack', 'attack', 'attack', 'attack', 'attack', 'attack', 'attack', 'attack', 'attack', 'attack', 'attack', 'attack', 'attack', 'attack', 'attack', 'attack', 'attack', 'attack', 'attack', 'attack', 'attack', 'attack', 'attack', 'attack', 'attack', 'attack', 'attack', 'attack', 'attack', 'attack', 'attack', 'attack', 'attack', 'attack', 'attack', 'attack', 'attack', 'attack', 'attack', 'attack', 'attack', 'attack', 'attack', 'attack', 'attack', 'attack', 'attack', 'attack', 'attack', 'attack', 'attack', 'attack', 'attack', 'attack', 'attack', 'attack', 'attack', 'attack', 'attack', 'attack', 'attack', 'attack', 'attack', 'attack', 'attack', 'attack', 'attack', 'attack', 'attack', 'attack', 'attack', 'attack', 'attack', 'attack', 'attack', 'attack', 'attack', 'attack', 'attack', 'attack', 'attack', 'attack', 'attack', 'attack', 'attack', 'attack', 'attack', 'attack', 'attack', 'attack', 'attack', 'attack', 'attack', 'attack', 'attack', 'attack', 'attack', 'attack', 'attack', 'attack', 'attack', 'attack', 'attack', 'attack', 'attack', 'attack', 'attack', 'attack', 'attack', 'attack', 'attack', 'attack', 'attack', 'attack', 'attack', 'attack', 'attack', 'attack', 'attack', 'attack', 'attack', 'attack', 'attack', 'attack', 'attack', 'attack', 'attack', 'attack', 'attack', 'attack', 'attack', 'attack', 'attack', 'attack', 'attack', 'attack', 'attack', 'attack', 'attack', 'attack', 'attack', 'attack', 'attack', 'attack', 'attack', 'attack', 'attack', 'attack', 'attack', 'attack', 'attack', 'attack', 'attack', 'attack', 'attack', 'attack', 'attack', 'attack', 'attack', 'attack', 'attack', 'attack', 'attack', 'attack', 'attack', 'attack', 'attack', 'attack', 'attack', 'attack', 'attack', 'attack', 'attack', 'attack', 'attack', 'attack', 'attack', 'attack', 'attack', 'attack', 'attack', 'attack', 'attack', 'attack', 'attack', 'attack', 'attack', 'attack', 'attack', 'attack', 'attack', 'attack', 'attack', 'attack', 'attack', 'attack', 'attack', 'attack', 'attack', 'attack', 'attack', 'attack', 'attack', 'attack', 'attack', 'attack', 'attack', 'attack', 'attack', 'attack', 'attack', 'attack', 'attack', 'attack', 'attack', 'attack', 'attack', 'attack', 'attack', 'attack', 'attack', 'attack', 'attack', 'attack', 'attack', 'attack', 'attack', 'attack', 'attack', 'attack', 'attack', 'attack', 'attack', 'attack', 'attack', 'attack', 'attack', 'attack', 'attack', 'attack', 'attack', 'attack', 'attack', 'attack', 'attack', 'attack', 'attack', 'attack', 'attack', 'attack', 'attack', 'attack', 'attack', 'attack', 'attack', 'attack', 'attack', 'attack', 'attack', 'attack', 'attack', 'attack', 'attack', 'attack', 'attack', 'attack', 'attack', 'attack', 'attack', 'attack', 'attack', 'attack', 'attack', 'attack', 'attack', 'attack', 'attack', 'attack', 'attack', 'attack', 'attack', 'attack', 'attack']\n"
     ]
    },
    {
     "name": "stderr",
     "output_type": "stream",
     "text": [
      "\n"
     ]
    }
   ],
   "source": [
    "attack_pred, attack_pred_prob= defense.predict(attack)\n",
    "print(attack_pred.tolist())"
   ]
  },
  {
   "cell_type": "code",
   "execution_count": null,
   "id": "cf74c2ac",
   "metadata": {},
   "outputs": [],
   "source": []
  }
 ],
 "metadata": {
  "kernelspec": {
   "display_name": "Python 3",
   "language": "python",
   "name": "python3"
  },
  "language_info": {
   "codemirror_mode": {
    "name": "ipython",
    "version": 3
   },
   "file_extension": ".py",
   "mimetype": "text/x-python",
   "name": "python",
   "nbconvert_exporter": "python",
   "pygments_lexer": "ipython3",
   "version": "3.8.13"
  }
 },
 "nbformat": 4,
 "nbformat_minor": 5
}
