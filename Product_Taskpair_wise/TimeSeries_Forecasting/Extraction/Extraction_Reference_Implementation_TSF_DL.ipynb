{
 "cells": [
  {
   "cell_type": "markdown",
   "id": "189ff123",
   "metadata": {},
   "source": [
    "## `TimeSeries Forecasting Model`\n",
    "* <b>File Name</b> : Reference_implementation\n",
    "* <b>Date of creation(dd-mm-yyyy)</b> : 08-05-2023\n",
    "* <b>Author Name/Dept</b> : AIShield\n",
    "* <b>Organization</b> : BGSW\n",
    "* <b>Description</b> : Source Code of reference implementation\n",
    "* <b>Copyright</b> : Copyright 2022 Bosch Global Software Technologies Private Limited. All Rights Reserved.\n",
    "\n",
    "### Metadata\n",
    "* <b>Dataset</b> : pumpsensor\n",
    "* <b>Size of training set</b>: 50000\n",
    "* <b>Size of testing set</b> : 164251\n",
    "* <b>Original Model</b>: LSTM\n",
    "\n",
    "### Outcomes\n",
    "* <b>RMSE Score of model</b>: 0.043"
   ]
  },
  {
   "cell_type": "markdown",
   "id": "86daea16",
   "metadata": {},
   "source": [
    "<a target=\"_blank\" href=\"https://colab.research.google.com/github/bosch-aisecurity-aishield/Reference-Implementations/blob/main/Product_Taskpair_wise/TimeSeries_Forecasting/Extraction/Extraction_Reference_Implementation_TSF_DL.ipynb\">\n",
    "  <img src=\"https://colab.research.google.com/assets/colab-badge.svg\" alt=\"Open In Colab\"/>\n",
    "</a>"
   ]
  },
  {
   "cell_type": "code",
   "execution_count": 1,
   "id": "c92dda69",
   "metadata": {},
   "outputs": [
    {
     "data": {
      "text/plain": [
       "'\\nDescription: commands to install all the packages, remove comments to install all the libraries\\n'"
      ]
     },
     "execution_count": 1,
     "metadata": {},
     "output_type": "execute_result"
    }
   ],
   "source": [
    "\"\"\"\n",
    "Description: commands to install all the packages, remove comments to install all the libraries\n",
    "\"\"\"\n",
    "# ! pip install xgboost==1.6.2\n",
    "# ! pip install pandas==1.5.1\n",
    "# ! pip install scikit-learn==1.1.3\n",
    "# ! pip install numpy==1.23.4\n",
    "# ! pip install pyminizip\n",
    "# !pip install requests==2.28.0\n",
    "# !pip install humanfriendly==9.2"
   ]
  },
  {
   "cell_type": "markdown",
   "id": "d1601b38",
   "metadata": {},
   "source": [
    "## `1.0 Import Libraries`"
   ]
  },
  {
   "cell_type": "code",
   "execution_count": 9,
   "id": "ee3cf9ac",
   "metadata": {},
   "outputs": [],
   "source": [
    "\"\"\"\n",
    "Description: Import libraries\n",
    "\"\"\"\n",
    "import os \n",
    "import cv2\n",
    "import os\n",
    "import json\n",
    "import time\n",
    "import shutil\n",
    "import random\n",
    "import zipfile\n",
    "import requests\n",
    "import numpy as np\n",
    "import pandas as pd\n",
    "import tensorflow as tf\n",
    "import matplotlib.pyplot as plt\n",
    "from sklearn.preprocessing import MinMaxScaler\n",
    "from sklearn.metrics import mean_squared_error\n",
    "from sklearn.model_selection import train_test_split\n",
    "from tensorflow.keras.layers import Dropout, LSTM, Dense\n",
    "from tensorflow.keras.models import Sequential, load_model\n",
    "\n"
   ]
  },
  {
   "cell_type": "markdown",
   "id": "51b73d3c",
   "metadata": {},
   "source": [
    "## `2.0 Data Loading and Pre-processing`\n",
    "\n",
    "#### Download dataset from the link https://www.kaggle.com/code/winternguyen/water-pump-maintenance-shutdown-prediction/notebook\n",
    "\n",
    "1. then download the sensor.csv file"
   ]
  },
  {
   "cell_type": "code",
   "execution_count": 3,
   "id": "02943d6f",
   "metadata": {},
   "outputs": [],
   "source": [
    "'''\n",
    "Description : Loading pumpsensor dataset\n",
    "'''\n",
    "\n",
    "data =  pd.read_csv(\"Data/sensor.csv\")"
   ]
  },
  {
   "cell_type": "code",
   "execution_count": 4,
   "id": "77d77d86",
   "metadata": {},
   "outputs": [],
   "source": [
    "# Let remove first all NaN columns and all columns have zero standard values\n",
    "data.drop(['Unnamed: 0', 'timestamp','sensor_00','sensor_15','sensor_50','sensor_51'],axis=1, inplace=True)\n",
    "\n",
    "conditions = [(data['machine_status'] =='NORMAL'), (data['machine_status'] =='BROKEN'), (data['machine_status'] =='RECOVERING')]\n",
    "choices = [1, 0, 0.5]\n",
    "data['Operation'] = np.select(conditions, choices, default=0)"
   ]
  },
  {
   "cell_type": "code",
   "execution_count": 5,
   "id": "6cd422f0",
   "metadata": {},
   "outputs": [],
   "source": [
    "df = pd.DataFrame(data, columns=['sensor_04', 'sensor_06', 'sensor_07', 'sensor_08', 'sensor_09','Operation'])"
   ]
  },
  {
   "cell_type": "code",
   "execution_count": 6,
   "id": "2d629c6a",
   "metadata": {},
   "outputs": [],
   "source": [
    "'''\n",
    "Description : Normalized the dataset \n",
    "'''\n",
    "\n",
    "values = df.values\n",
    "scaler = MinMaxScaler(feature_range=(0, 1))\n",
    "scaled = scaler.fit_transform(values)"
   ]
  },
  {
   "cell_type": "code",
   "execution_count": 7,
   "id": "7317d82b",
   "metadata": {},
   "outputs": [],
   "source": [
    "'''\n",
    "Description : convert normalized dataset to a dataframe \n",
    "'''\n",
    "\n",
    "df_scaled = pd.DataFrame(scaled, columns=df.columns)\n",
    "df_scaled = df_scaled.dropna()"
   ]
  },
  {
   "cell_type": "code",
   "execution_count": 8,
   "id": "5407e410",
   "metadata": {},
   "outputs": [],
   "source": [
    "'''\n",
    "Description : choosing train and testing dataset\n",
    "'''\n",
    "\n",
    "df_train = df_scaled.iloc[:50000,:]\n",
    "df_test = df_scaled.iloc[50000:,:]"
   ]
  },
  {
   "cell_type": "code",
   "execution_count": 9,
   "id": "be2a99f0",
   "metadata": {},
   "outputs": [],
   "source": [
    "'''\n",
    "Description : convert series to supervised learning\n",
    "''' \n",
    "\n",
    "def series_to_supervised(data, n_vars_out, n_in, n_out=1, fillnan=True):\n",
    "    n_vars = 1 if type(data) is list else data.shape[1]\n",
    "    df = pd.DataFrame(data)\n",
    "    cols, names = list(), list()\n",
    "    \n",
    "    # input sequence (t-n, ... t-1)\n",
    "    for i in range(n_in, 0, -1):\n",
    "        cols.append(df.shift(i))\n",
    "        names += [('var%d(t-%d)' % (j+1, i)) for j in range(n_vars)]\n",
    "        \n",
    "    # forecast sequence (t, t+1, ... t+n)\n",
    "    for i in range(0, n_out):\n",
    "        cols.append(df.shift(-i).iloc[:,n_vars_out])\n",
    "        if i == 0:\n",
    "            names += [('var%d(t)' % (j+1)) for j in (n_vars_out)]\n",
    "        else:\n",
    "            names += [('var%d(t+%d)' % (j+1, i)) for j in (n_vars_out)]\n",
    "            \n",
    "    # put it all together\n",
    "    agg = pd.concat(cols, axis=1)\n",
    "    agg.columns = names\n",
    "    \n",
    "    # Replace nan values with 0\n",
    "    if fillnan:\n",
    "        agg = agg.fillna(0)\n",
    "    return agg"
   ]
  },
  {
   "cell_type": "code",
   "execution_count": 10,
   "id": "e43e607f",
   "metadata": {},
   "outputs": [],
   "source": [
    "'''\n",
    "Description : convert input dims to number of timesteps and number of features and \n",
    "            generate data samples by window sliding through time series data\n",
    "'''\n",
    "\n",
    "def data_prep(df, input_dims, pred_out):    \n",
    "    # convert input dims to number of timesteps and number of features\n",
    "    num_timesteps, num_features = 100,6#input_dims\n",
    "    \n",
    "    # generate data samples by window sliding through time series data\n",
    "    reframed = series_to_supervised(df, pred_out, num_timesteps)\n",
    "    data = reframed.values\n",
    "    \n",
    "    # split into input and outputs\n",
    "    n_obs = num_timesteps*num_features  # no. of timesteps * features \n",
    "    data_x, data_y = data[:, :n_obs], data[:, n_obs:]\n",
    "    \n",
    "    # reshape input to be 3D [samples, timesteps, features]\n",
    "    data_x = data_x.reshape((data_x.shape[0], num_timesteps, num_features))\n",
    "    \n",
    "    return data_x, data_y"
   ]
  },
  {
   "cell_type": "code",
   "execution_count": 11,
   "id": "be98f814",
   "metadata": {},
   "outputs": [],
   "source": [
    "'''\n",
    "Description : Splitting data for training and testing \n",
    "'''\n",
    "\n",
    "input_shape = (100,6)\n",
    "pred_col_index = [len(df_train.columns) - 1]\n",
    "x_train, y_train = data_prep(df_train, input_shape, pred_col_index)\n",
    "x_test, y_test = data_prep(df_test, input_shape, pred_col_index)"
   ]
  },
  {
   "cell_type": "code",
   "execution_count": 12,
   "id": "6c0221e3",
   "metadata": {},
   "outputs": [
    {
     "name": "stdout",
     "output_type": "stream",
     "text": [
      "x_train Shape : (50000, 100, 6)\n",
      "y_train Shape: (50000, 1)\n",
      "x_test Shape: (164251, 100, 6)\n",
      "y_test Shape: (164251, 1)\n"
     ]
    }
   ],
   "source": [
    "'''\n",
    "Description : Check size of dataset\n",
    "'''\n",
    "print(\"x_train Shape :\",x_train.shape)\n",
    "print(\"y_train Shape:\",y_train.shape)\n",
    "print(\"x_test Shape:\",x_test.shape)\n",
    "print(\"y_test Shape:\",y_test.shape)"
   ]
  },
  {
   "cell_type": "code",
   "execution_count": 13,
   "id": "66c086a5",
   "metadata": {
    "scrolled": true
   },
   "outputs": [
    {
     "data": {
      "text/plain": [
       "array([<Axes: >, <Axes: >, <Axes: >, <Axes: >, <Axes: >, <Axes: >],\n",
       "      dtype=object)"
      ]
     },
     "execution_count": 13,
     "metadata": {},
     "output_type": "execute_result"
    },
    {
     "data": {
      "image/png": "[encoded data removed]",
      "text/plain": [
       "<Figure size 1000x2000 with 6 Axes>"
      ]
     },
     "metadata": {},
     "output_type": "display_data"
    }
   ],
   "source": [
    "'''\n",
    "Description : Plotting the graphs\n",
    "'''\n",
    "\n",
    "df_train.plot(subplots =True, sharex = True, figsize = (10,20))"
   ]
  },
  {
   "cell_type": "code",
   "execution_count": 14,
   "id": "d8532c08",
   "metadata": {},
   "outputs": [],
   "source": [
    "def make_directory(directory):\n",
    "    \"\"\"\n",
    "    create directory\n",
    "\n",
    "    Parameters\n",
    "    ----------\n",
    "    directorys : list containing the directorys path to create \n",
    "    Returns\n",
    "    -------\n",
    "    None.\n",
    "\n",
    "    \"\"\"\n",
    "    for d in directory:\n",
    "        if os.path.isdir(d):\n",
    "            print(\"directory {} already exist\".format(d))\n",
    "        if os.path.isdir(d)==False:\n",
    "            os.mkdir(path=d)\n",
    "            print(\"directory {} created successfully\".format(d))"
   ]
  },
  {
   "cell_type": "code",
   "execution_count": 15,
   "id": "86661423",
   "metadata": {},
   "outputs": [],
   "source": [
    "def delete_directory(directorys):\n",
    "    \"\"\"\n",
    "    delete directory \n",
    "\n",
    "    Parameters\n",
    "    ----------\n",
    "    directorys : list containing the directorys to deleate along with all the files\n",
    "\n",
    "    Returns\n",
    "    -------\n",
    "    None.\n",
    "\n",
    "    \"\"\"\n",
    "    if len(directorys)>=1:\n",
    "        for d in directorys:\n",
    "            if os.path.isdir(d):\n",
    "                try:\n",
    "                    if os.path.isfile(d):\n",
    "                        os.remove(path=d)\n",
    "                    else:\n",
    "                        shutil.rmtree(path=d)\n",
    "                        print(\"Removed: {}\".format(d))\n",
    "                except:\n",
    "                    print(\"Failed to removed: {}\".format(d))\n",
    "            else:\n",
    "                print(\"Failed to removed: {}\".format(d))\n",
    "                "
   ]
  },
  {
   "cell_type": "code",
   "execution_count": 16,
   "id": "80dd0f86",
   "metadata": {},
   "outputs": [],
   "source": [
    "def make_archive(base_name,root_dir,zip_format='zip'):\n",
    "    \"\"\"\n",
    "    created zip for given folder\n",
    "\n",
    "    Parameters\n",
    "    ----------\n",
    "    base_name : name of zip file\n",
    "    root_dir : directory to archive/zip\n",
    "    zip_format : zip or tar \n",
    "        DESCRIPTION. The default is 'zip'.\n",
    "\n",
    "    Returns\n",
    "    -------\n",
    "    None.\n",
    "\n",
    "    \"\"\"\n",
    "    shutil.make_archive(base_name=base_name, format=zip_format, root_dir=root_dir)\n",
    "    "
   ]
  },
  {
   "cell_type": "code",
   "execution_count": 7,
   "id": "f8429eac",
   "metadata": {},
   "outputs": [
    {
     "data": {
      "text/plain": [
       "'\\nDescription : Create data, model and label folder\\n'"
      ]
     },
     "execution_count": 7,
     "metadata": {},
     "output_type": "execute_result"
    }
   ],
   "source": [
    "'''\n",
    "Description : Create data, model and label folder\n",
    "'''\n",
    "\n",
    "data_path=os.path.join(os.getcwd(),\"data\")\n",
    "model_path=os.path.join(os.getcwd(),\"model\")\n",
    "minmax_path=os.path.join(os.getcwd(),\"minmax\")\n",
    "zip_path=os.path.join(os.getcwd(),\"zip\")\n",
    "pyc_model_path=os.path.join(os.getcwd(),\"pycmodel\")\n",
    "report_path = os.path.join(os.getcwd(),\"reports\")\n",
    "\n",
    "#deleting folder\n",
    "delete_directory(directorys=[data_path,model_path,minmax_path,zip_path,pyc_model_path,report_path])\n",
    "\n",
    "#creating folder\n",
    "make_directory([data_path,model_path,minmax_path,zip_path,pyc_model_path,report_path])"
   ]
  },
  {
   "cell_type": "markdown",
   "id": "8397b439",
   "metadata": {},
   "source": [
    "## `3.0 Model Development and Training`\n"
   ]
  },
  {
   "cell_type": "code",
   "execution_count": 18,
   "id": "6d358e6e",
   "metadata": {},
   "outputs": [],
   "source": [
    "\"\"\"\n",
    "Description: Create model architecture\n",
    "\"\"\"\n",
    "\n",
    "def getmodel():\n",
    "    model = Sequential()\n",
    "    model.add(LSTM(100, input_shape=(100,6)))\n",
    "    model.add(Dropout(0.2))\n",
    "    model.add(Dense(1))\n",
    "    model.compile(loss='mean_squared_error', optimizer='adam')\n",
    "    \n",
    "    return model"
   ]
  },
  {
   "cell_type": "code",
   "execution_count": 19,
   "id": "8017da60",
   "metadata": {},
   "outputs": [],
   "source": [
    "\"\"\"\n",
    "Description: to get root mean squared error of the model \n",
    "\"\"\"\n",
    "\n",
    "def RMSE_score(model, test_x, test_y):\n",
    "    pred_y = model.predict(test_x)\n",
    "    return np.sqrt(mean_squared_error(pred_y, test_y))\n"
   ]
  },
  {
   "cell_type": "code",
   "execution_count": 6,
   "id": "60364b2a",
   "metadata": {},
   "outputs": [
    {
     "data": {
      "text/plain": [
       "'\\nDescription: Model summary\\n'"
      ]
     },
     "execution_count": 6,
     "metadata": {},
     "output_type": "execute_result"
    }
   ],
   "source": [
    "\"\"\"\n",
    "Description: Model summary\n",
    "\"\"\"\n",
    "\n",
    "model= getmodel()\n",
    "model.summary()"
   ]
  },
  {
   "cell_type": "code",
   "execution_count": 21,
   "id": "775cb0cf",
   "metadata": {},
   "outputs": [
    {
     "name": "stdout",
     "output_type": "stream",
     "text": [
      "Epoch 1/2\n",
      "715/715 - 103s - loss: 0.0127 - val_loss: 0.0012 - 103s/epoch - 144ms/step\n",
      "Epoch 2/2\n",
      "715/715 - 107s - loss: 0.0046 - val_loss: 0.0019 - 107s/epoch - 150ms/step\n"
     ]
    }
   ],
   "source": [
    "\"\"\"\n",
    "Description: Training model\n",
    "\"\"\"\n",
    "\n",
    "history = model.fit(x_train, y_train, epochs=2, batch_size=70, validation_data=(x_test, y_test), verbose=2, shuffle=False)"
   ]
  },
  {
   "cell_type": "code",
   "execution_count": 22,
   "id": "305ef45c",
   "metadata": {},
   "outputs": [
    {
     "name": "stdout",
     "output_type": "stream",
     "text": [
      "5133/5133 [==============================] - 65s 13ms/step\n"
     ]
    },
    {
     "data": {
      "text/plain": [
       "0.04384175837314182"
      ]
     },
     "execution_count": 22,
     "metadata": {},
     "output_type": "execute_result"
    }
   ],
   "source": [
    "\"\"\"\n",
    "Description: get rmse score \n",
    "\"\"\"\n",
    "\n",
    "RMSE_score(model,x_test, y_test)"
   ]
  },
  {
   "cell_type": "code",
   "execution_count": 23,
   "id": "6cc98728",
   "metadata": {},
   "outputs": [],
   "source": [
    "\"\"\"\n",
    "Saving the model under model directory\n",
    "\"\"\"\n",
    "model_name = \"org_model.h5\"\n",
    "model.save(os.path.join(model_path,model_name))"
   ]
  },
  {
   "cell_type": "markdown",
   "id": "1afc1711",
   "metadata": {},
   "source": [
    "## `4.0 Prepare Data , Model and MinMax`"
   ]
  },
  {
   "cell_type": "code",
   "execution_count": 24,
   "id": "efcafb17",
   "metadata": {},
   "outputs": [],
   "source": [
    "\"\"\"\n",
    "Description: Zip Data\n",
    "\"\"\"\n",
    "df_test.to_csv(os.path.join(data_path,\"data.csv\"),index=False)\n",
    "make_archive(base_name=os.path.join(zip_path,\"data\"),root_dir=data_path,zip_format='zip')"
   ]
  },
  {
   "cell_type": "markdown",
   "id": "f8e1b886",
   "metadata": {},
   "source": [
    "### `4.0.1 Prepare and creating minmax.zip file`"
   ]
  },
  {
   "cell_type": "code",
   "execution_count": 25,
   "id": "e778737d",
   "metadata": {},
   "outputs": [],
   "source": [
    "'''\n",
    "Description: Preparing Min_Max file\n",
    "'''\n",
    "min_values = df_test.min().to_numpy()\n",
    "max_values = df_test.max().to_numpy()\n",
    "x = np.array([min_values,max_values])\n",
    "df_m = pd.DataFrame(x,columns=df_test.columns)\n",
    "df_m.to_csv(minmax_path+'/minmax.csv',index = False)"
   ]
  },
  {
   "cell_type": "code",
   "execution_count": 26,
   "id": "3a9c9592",
   "metadata": {},
   "outputs": [],
   "source": [
    "\"\"\"\n",
    "Description: Minmax label\n",
    "\"\"\"\n",
    "make_archive(base_name=os.path.join(zip_path,\"minmax\"),root_dir=minmax_path,zip_format='zip')"
   ]
  },
  {
   "cell_type": "markdown",
   "id": "291da9e0",
   "metadata": {},
   "source": [
    "## `4.1.0 Convert python script (.py) to (.pyc)`\n"
   ]
  },
  {
   "cell_type": "code",
   "execution_count": 27,
   "id": "66f5d55b",
   "metadata": {},
   "outputs": [],
   "source": [
    "\"\"\"\n",
    "Description: save weight of model\n",
    "\"\"\"\n",
    "\n",
    "model.save_weights(os.path.join(pyc_model_path,\"model_weight.h5\"))"
   ]
  },
  {
   "cell_type": "code",
   "execution_count": 28,
   "id": "0f888b14",
   "metadata": {},
   "outputs": [],
   "source": [
    "\"\"\"\n",
    "Description: Create encrypted Model\n",
    "\"\"\"\n",
    "\n",
    "python_code='''\n",
    "#import library\n",
    "from tensorflow.keras import Sequential\n",
    "from tensorflow.keras.layers import Dropout, LSTM, Dense\n",
    "\n",
    "\"\"\"\n",
    "    class for base model\n",
    "\"\"\"\n",
    "#define class\n",
    "class BaseModel():\n",
    "\n",
    "    \n",
    "    def __init__(self,input_shape=(100,6),model_weight_path=\"model_weight.h5\"):\n",
    "\n",
    "        \"\"\"\n",
    "        constructor for class\n",
    "\n",
    "        Parameters\n",
    "        ----------\n",
    "        input_shape : TYPE, optional\n",
    "            DESCRIPTION. The default is (100,6).\n",
    "        model_weight_path : string, optional\n",
    "            DESCRIPTION. the relative path to model weight\n",
    "\n",
    "        Returns\n",
    "        -------\n",
    "        None.\n",
    "\n",
    "        \"\"\"\n",
    "\n",
    "        self.input_shape=input_shape\n",
    "        self.model_weight_path=model_weight_path\n",
    "        \n",
    "\n",
    "    def get_model(self,input_shape):\n",
    "\n",
    "        \"\"\"\n",
    "        model architecture\n",
    "\n",
    "        Parameters\n",
    "        ----------\n",
    "        input_shape : string\n",
    "            DESCRIPTION.input_shape for model e.g (100,6)\n",
    "        \n",
    "        Returns\n",
    "        -------\n",
    "        model : model\n",
    "            DESCRIPTION.\n",
    "\n",
    "        \"\"\"\n",
    "        \n",
    "        model = Sequential()\n",
    "        model.add(LSTM(100, input_shape=self.input_shape))\n",
    "        model.add(Dropout(0.2))\n",
    "        model.add(Dense(1))\n",
    "        model.compile(loss='mean_squared_error', optimizer='adam')\n",
    "        \n",
    "        return model\n",
    "    \n",
    "    def predict(self,X):\n",
    "        \"\"\"\n",
    "        predict for given data\n",
    "\n",
    "        Parameters\n",
    "        ----------\n",
    "        X : numpy array \n",
    "            DESCRIPTION.\n",
    "\n",
    "        Returns\n",
    "        -------\n",
    "        pred : numpy array\n",
    "            DESCRIPTION.\n",
    "\n",
    "        \"\"\"\n",
    "\n",
    "        model=self.get_model(input_shape=self.input_shape)\n",
    "        model.load_weights(self.model_weight_path)\n",
    "        \n",
    "        pred=model.predict(X)\n",
    "        return pred  '''"
   ]
  },
  {
   "cell_type": "code",
   "execution_count": 29,
   "id": "cb9d2eee",
   "metadata": {},
   "outputs": [],
   "source": [
    "# Writing to file\n",
    "with open(\"base_model.py\", \"w\") as file:\n",
    "    # Writing data to a file\n",
    "    file.writelines(python_code)"
   ]
  },
  {
   "cell_type": "code",
   "execution_count": 5,
   "id": "2d98d612",
   "metadata": {},
   "outputs": [
    {
     "data": {
      "text/plain": [
       "'\\nDescription: function to create .pyc file\\n'"
      ]
     },
     "execution_count": 5,
     "metadata": {},
     "output_type": "execute_result"
    }
   ],
   "source": [
    "\"\"\"\n",
    "Description: function to create .pyc file\n",
    "\"\"\"\n",
    "\n",
    "import py_compile\n",
    "py_compile.compile(file='base_model.py',cfile=os.path.join(pyc_model_path,'base_model.pyc'))"
   ]
  },
  {
   "cell_type": "markdown",
   "id": "64ea3a69",
   "metadata": {},
   "source": [
    "* .pyc file with name base_model.pyc will get created\n",
    "* delete .py file and still import and other function will work\n",
    "* while AIShield API call , inplace of model.h5 file you can zip .pyc and model weight which will provide security to internal architecture"
   ]
  },
  {
   "cell_type": "code",
   "execution_count": 31,
   "id": "2c41307a",
   "metadata": {},
   "outputs": [],
   "source": [
    "\"\"\"\n",
    "Description: check import from .pyc file\n",
    "\"\"\"\n",
    "from pycmodel.base_model import BaseModel\n",
    "base_model=BaseModel(model_weight_path=r\"pycmodel/model_weight.h5\")"
   ]
  },
  {
   "cell_type": "code",
   "execution_count": 32,
   "id": "1a384018",
   "metadata": {},
   "outputs": [
    {
     "name": "stdout",
     "output_type": "stream",
     "text": [
      "1/1 [==============================] - 0s 324ms/step\n",
      "[[0.36162612]]\n"
     ]
    }
   ],
   "source": [
    "\"\"\"\n",
    "Description : getting prediction from function imported from .pyc file\n",
    "\"\"\"\n",
    "print(base_model.predict(x_test[:1]))"
   ]
  },
  {
   "cell_type": "code",
   "execution_count": 33,
   "id": "15f36fd2",
   "metadata": {},
   "outputs": [],
   "source": [
    "\"\"\"\n",
    "Description: Zip model\n",
    "\"\"\"\n",
    "model_encryption=1 #0 if model is uploaded directly as a zip, 1 if model is encryted as .pyc and uploaded as a zip\n",
    "if os.path.isfile(os.path.join(zip_path,\"model.zip\")):\n",
    "    delete_directory(directorys=[os.path.join(zip_path,\"model.zip\")])\n",
    "if model_encryption:\n",
    "    make_archive(base_name=os.path.join(zip_path,\"model1\"),root_dir=pyc_model_path,zip_format='zip')\n",
    "else:\n",
    "    make_archive(base_name=os.path.join(zip_path,\"model0\"),root_dir=model_path,zip_format='zip')"
   ]
  },
  {
   "cell_type": "markdown",
   "id": "89a28115",
   "metadata": {},
   "source": [
    "## `5.0 AIShield API Call`"
   ]
  },
  {
   "cell_type": "code",
   "execution_count": 34,
   "id": "6d371492",
   "metadata": {},
   "outputs": [],
   "source": [
    "\"\"\"\n",
    "Description: AIShield API URL and subscription key\n",
    "\"\"\" \n",
    "\n",
    "baseurl = \"XXXXXXXXXXXXXXXXXXXXXXXXXXXXXXXXXXXXXXXXX\" # fill in API endpoint url from AIShield developer portal under API tab \n",
    "url = baseurl + \"/api/ais/v1.5\"\n",
    "headers={'Cache-Control': 'no-cache',\n",
    "'x-api-key': \"XXXXXXXXXXXXXXXXXXXXXXXXXXXXXx\", # fill in subscription key from AIShield developer portal under My Dashboard tab\n",
    "'Org-Id' : \"XXXXXXXXXXXXXXXXXXXXXXXXXXXXXXXXXXXXXXXXXXXXXXXXXXXXXXXXXXXXXXXXXXXXXXXXXXXX\"  # fill in Org_Id provided in welcome email\n",
    "}"
   ]
  },
  {
   "cell_type": "markdown",
   "id": "b9497b47",
   "metadata": {},
   "source": [
    "### 5.1 Model Registration"
   ]
  },
  {
   "cell_type": "code",
   "execution_count": 10,
   "id": "9c063b1e",
   "metadata": {},
   "outputs": [
    {
     "data": {
      "text/plain": [
       "'\\nDescription: call Model registration api to get unique model it and url to upload data, model and label\\n'"
      ]
     },
     "execution_count": 10,
     "metadata": {},
     "output_type": "execute_result"
    }
   ],
   "source": [
    "\"\"\"\n",
    "Description: call Model registration api to get unique model it and url to upload data, model and label\n",
    "\"\"\"\n",
    "model_registration_url = url + \"/model_registration/upload\"\n",
    "model_registration_payload = {\n",
    "    'task_type':\"TSF\",\n",
    "    \"analysis_type\": \"MEA\"\n",
    "}\n",
    "new_request = requests.request(method=\"POST\", url=model_registration_url, headers=headers, json=model_registration_payload)\n",
    "new_request=json.loads(new_request.text)\n",
    "if 'data' in new_request.keys():\n",
    "    model_id = new_request[\"data\"]['model_id']\n",
    "    data_upload_url = new_request[\"data\"][\"urls\"]['data_upload_url']\n",
    "    label_upload_url = new_request[\"data\"][\"urls\"]['minmax_upload_url']\n",
    "    model_upload_url = new_request[\"data\"][\"urls\"]['model_upload_url']\n",
    "\n",
    "    print('model_id: ', model_id)\n",
    "else:\n",
    "    for k, v in new_request.items():\n",
    "        print(\"* {} : {}\".format(k,v))"
   ]
  },
  {
   "cell_type": "code",
   "execution_count": 40,
   "id": "24fcafd8",
   "metadata": {},
   "outputs": [],
   "source": [
    "\"\"\"\n",
    "Description: Files path\n",
    "\"\"\"\n",
    "\n",
    "data_path=os.path.join(zip_path,'data.zip')  # full path of data zip\n",
    "label_path=os.path.join(zip_path,'minmax.zip') # full path of label zip\n",
    "# model_path=os.path.join(zip_path,'bfsi_pyc_model.zip') # uncomment if model_encryption = 1 (pyc)\n",
    "model_path=os.path.join(zip_path,'model1.zip') # uncomment if model_encryption = 0 (unencrypted)"
   ]
  },
  {
   "cell_type": "code",
   "execution_count": 41,
   "id": "6831fc0e",
   "metadata": {},
   "outputs": [],
   "source": [
    "def upload_file(url, file_path):\n",
    "    \"\"\"\n",
    "    url: URL to upload\n",
    "    file_path: file to be uploaded\n",
    "    \"\"\"\n",
    "    new_request = requests.request(method=\"PUT\", url=url, data=open(file_path,'rb'))\n",
    "    status_cd = new_request.status_code\n",
    "    if status_cd == 200:\n",
    "        status = 'upload sucessful'\n",
    "    else:\n",
    "        status = 'upload failed'\n",
    "    return status"
   ]
  },
  {
   "cell_type": "code",
   "execution_count": 42,
   "id": "dab5d922",
   "metadata": {},
   "outputs": [
    {
     "name": "stdout",
     "output_type": "stream",
     "text": [
      "data_upload_status:  upload sucessful\n",
      "label_upload_status:  upload sucessful\n",
      "model_upload_status:  upload sucessful\n"
     ]
    }
   ],
   "source": [
    "\"\"\"\n",
    "Description: Hit AIShield File Upload API\n",
    "\"\"\"\n",
    "data_upload_status = upload_file(data_upload_url, data_path)\n",
    "print('data_upload_status: ', data_upload_status)\n",
    "label_upload_status = upload_file(label_upload_url, label_path)\n",
    "print('label_upload_status: ', label_upload_status)\n",
    "model_upload_status = upload_file(model_upload_url, model_path)\n",
    "print('model_upload_status: ', model_upload_status)\n"
   ]
  },
  {
   "cell_type": "markdown",
   "id": "cb9d7cd9",
   "metadata": {},
   "source": [
    "### 5.2 Model Analysis"
   ]
  },
  {
   "cell_type": "code",
   "execution_count": 52,
   "id": "c5fd4942",
   "metadata": {},
   "outputs": [],
   "source": [
    "\"\"\"\n",
    "Description: Request payload\n",
    "\"\"\"\n",
    "\n",
    "payload = {\n",
    "            \"attack_type\": \"blackbox\",\n",
    "            \"defense_bestonly\": \"no\",\n",
    "            \"encryption_strategy\": \"1\",\n",
    "            \"input_dimensions\": \"100,6\",\n",
    "            \"model_api_details\": \"na\",\n",
    "            \"model_framework\": \"tensorflow\",\n",
    "            \"number_of_attack_queries\": \"100\",\n",
    "            \"use_model_api\": \"no\",\n",
    "            \"vulnerability_threshold\": \"0\"\n",
    "        }"
   ]
  },
  {
   "cell_type": "code",
   "execution_count": 1,
   "id": "f7fd9acf",
   "metadata": {},
   "outputs": [
    {
     "name": "stdout",
     "output_type": "stream",
     "text": [
      "* api_version : 1.5\n",
      "* job_id : XXXXXXXXXXXX\n",
      "* monitor_link : XXXXXXXXXXXXXX\n"
     ]
    }
   ],
   "source": [
    "\"\"\"\n",
    "Description: Hit AIShield VulnerabilityReport api\n",
    "\"\"\"\n",
    "\n",
    "model_analysis_url = url + \"/model_analyse/\"+model_id\n",
    "if data_upload_status == \"upload sucessful\" and model_upload_status == \"upload sucessful\" and label_upload_status == \"upload sucessful\":\n",
    "    new_request = requests.request(method=\"POST\", url=model_analysis_url, json=payload,headers=headers)\n",
    "    new_request=json.loads(new_request.text)\n",
    "    for k, v in new_request.items():\n",
    "        print(\"* {} : {}\".format(k,v))\n"
   ]
  },
  {
   "cell_type": "code",
   "execution_count": 2,
   "id": "de8477e0",
   "metadata": {},
   "outputs": [
    {
     "name": "stdout",
     "output_type": "stream",
     "text": [
      "Job id : XXXXXXXXXXXX\n"
     ]
    }
   ],
   "source": [
    "\"\"\"\n",
    "Description: Get job id from api response\n",
    "\"\"\"\n",
    "job_id=new_request['job_id']\n",
    "print(f\"Job id : {job_id}\")"
   ]
  },
  {
   "cell_type": "code",
   "execution_count": 55,
   "id": "b0d1c438",
   "metadata": {},
   "outputs": [],
   "source": [
    "def monitor_api_progress(new_job_id):\n",
    "        job_status_url = url + \"/job_status_detailed?job_id=\" + new_job_id\n",
    "\n",
    "        # status dictionary\n",
    "        status_dictionary = {\n",
    "            'ModelExploration_Status': 'na',\n",
    "            'SanityCheck_Status': 'na',\n",
    "            'QueryGenerator_Status': 'na',\n",
    "            'VunerabilityEngine_Status': 'na',\n",
    "            'DefenseReport_Status': 'na',\n",
    "        }\n",
    "        counts = [0] * len(status_dictionary)\n",
    "        failed_api_hit_count = 0\n",
    "        while True:\n",
    "            time.sleep(2)\n",
    "            try:\n",
    "                job_status_response = requests.request(\"GET\", job_status_url, params={},\n",
    "                                                       headers=headers)\n",
    "\n",
    "                job_status_payload = json.loads(job_status_response.text)\n",
    "                failing_key = 'ModelExploration_Status'\n",
    "                for i, key in enumerate(status_dictionary.keys()):\n",
    "                    if status_dictionary[key] == 'na':\n",
    "                        if job_status_payload[key] == 'inprogress' and status_dictionary[key] == 'na':\n",
    "                            status_dictionary[key] = job_status_payload[key]\n",
    "                            print(str(key), \":\", status_dictionary[key])\n",
    "\n",
    "                        elif job_status_payload[key] == 'completed' or job_status_payload[key] == 'passed':\n",
    "                            status_dictionary[key] = job_status_payload[key]\n",
    "                            counts[i] += 1\n",
    "                            print(str(key), \":\", status_dictionary[key])\n",
    "\n",
    "                        if job_status_payload[key] == 'failed':\n",
    "                            failing_key = key\n",
    "                            status_dictionary[key] = job_status_payload[key]\n",
    "                            print(str(key), \":\", status_dictionary[key])\n",
    "\n",
    "                    elif job_status_payload[key] == 'completed' or job_status_payload[key] == 'passed':\n",
    "                        status_dictionary[key] = job_status_payload[key]\n",
    "                        if counts[i] < 1:\n",
    "                            print(str(key), \":\", status_dictionary[key])\n",
    "                        counts[i] += 1\n",
    "\n",
    "                    else:\n",
    "                        if job_status_payload[key] == 'failed':\n",
    "                            failing_key = key\n",
    "                            status_dictionary[key] = job_status_payload[key]\n",
    "                            print(str(key), \":\", status_dictionary[key])\n",
    "\n",
    "                if job_status_payload[failing_key] == 'failed':\n",
    "                    break\n",
    "\n",
    "                if status_dictionary['VunerabilityEngine_Status'] == 'passed' or status_dictionary[\n",
    "                    'VunerabilityEngine_Status'] == 'completed' and job_status_payload[\n",
    "                    'CurrentStatus'] == \"Defense generation is not triggered\":\n",
    "                    print(\"\\n Vulnerability score {} failed to cross vulnerability threshold of {}\".format(\n",
    "                        job_status_payload['VulnerabiltyScore'], payload['vulnerability_threshold']))\n",
    "                    break\n",
    "                if job_status_payload['DefenseReport_Status'] == 'completed':\n",
    "                    break\n",
    "            except Exception as e:\n",
    "                failed_api_hit_count += 1\n",
    "                print(\"Error {}. trying {} ...\".format(str(e), failed_api_hit_count))\n",
    "                if failed_api_hit_count >= 3:\n",
    "                    break\n",
    "        return status_dictionary"
   ]
  },
  {
   "cell_type": "code",
   "execution_count": 56,
   "id": "d1e1aea2",
   "metadata": {},
   "outputs": [
    {
     "name": "stdout",
     "output_type": "stream",
     "text": [
      "ModelExploration_Status : inprogress\n",
      "ModelExploration_Status : completed\n",
      "SanityCheck_Status : passed\n",
      "QueryGenerator_Status : inprogress\n",
      "QueryGenerator_Status : completed\n",
      "VunerabilityEngine_Status : inprogress\n",
      "VunerabilityEngine_Status : completed\n",
      "DefenseReport_Status : inprogress\n",
      "DefenseReport_Status : completed\n"
     ]
    }
   ],
   "source": [
    "\"\"\"\n",
    "Description: Continuos monitoring of jod progress\n",
    "\"\"\"\n",
    "status_dictionary = monitor_api_progress(new_job_id=job_id)"
   ]
  },
  {
   "cell_type": "code",
   "execution_count": 57,
   "id": "9e1e2f8b",
   "metadata": {},
   "outputs": [],
   "source": [
    "def download_artifact(job_id, report_type='Vulnerability', file_format=0):\n",
    "    \"\"\"\n",
    "    job_id: job_id  received after successful api call\n",
    "    report_type: report to be downloaded\n",
    "    file_format: change file_format to : 0- all report in zip \n",
    "                        1- report in .txt \n",
    "                        2- report in .pdf\n",
    "                        3- report in .json\n",
    "                        4- report in .xml\n",
    "    \"\"\"\n",
    "    report_url = url + \"/get_report?job_id=\" + str(\n",
    "        job_id) + \"&report_type=\" + report_type + \"&file_format=\" + str(file_format)\n",
    "\n",
    "    headers1=headers\n",
    "    headers1[\"content-type\"]= \"application/zip\"\n",
    "\n",
    "    response = requests.request(\"GET\", report_url, params={}, headers=headers1)\n",
    "\n",
    "    if file_format == 0 or \"Attack_samples\":\n",
    "        with open(os.path.join(report_path, report_type + \".zip\"), 'wb') as f:\n",
    "            f.write(response.content)\n",
    "    elif file_format == 1:\n",
    "        with open(os.path.join(report_path, report_type + \".txt\"), 'wb') as f:\n",
    "            f.write(response.content)\n",
    "    elif file_format == 2:\n",
    "        with open(os.path.join(report_path, report_type + \".pdf\"), 'wb') as f:\n",
    "            f.write(response.content)\n",
    "    elif file_format == 3:\n",
    "        with open(os.path.join(report_path, report_type + \".json\"), 'wb') as f:\n",
    "            f.write(response.content)\n",
    "    elif file_format == 4:\n",
    "        with open(os.path.join(report_path, report_type + \".xml\"), 'wb') as f:\n",
    "            f.write(response.content)"
   ]
  },
  {
   "cell_type": "code",
   "execution_count": 58,
   "id": "d2892058",
   "metadata": {},
   "outputs": [],
   "source": [
    "\"\"\"\n",
    "Description: download generated artifact\n",
    "\"\"\"\n",
    "if status_dictionary[\"VunerabilityEngine_Status\"] == 'completed':\n",
    "    download_artifact(job_id=job_id, report_type='Vulnerability', file_format=0) \n",
    "    download_artifact(job_id=job_id, report_type='Attack_samples', file_format=0)\n",
    "\n",
    "if status_dictionary[\"DefenseReport_Status\"] == 'completed':\n",
    "    download_artifact(job_id=job_id, report_type='Defense', file_format=0)\n",
    "    download_artifact(job_id=job_id, report_type='Defense_artifact', file_format=0)"
   ]
  },
  {
   "cell_type": "code",
   "execution_count": 59,
   "id": "e77366d7",
   "metadata": {},
   "outputs": [],
   "source": [
    "def zip_extractor(file, extract_path=None, delete_zip=False):\n",
    "    \"\"\"\n",
    "    extract zip file to the given path\n",
    "\n",
    "    Parameters\n",
    "    ----------\n",
    "    file : path of zip file\n",
    "    extract_path : path to extract zip file, default considered parent directory\n",
    "    delete_zip: True, delete zip file after unzipping it\n",
    "\n",
    "    Returns\n",
    "    -------\n",
    "    None.\n",
    "    \"\"\"\n",
    "    if extract_path is None:\n",
    "        extract_path = os.path.dirname(file)\n",
    "    print(\"Extracting : {}\".format(file))\n",
    "    zf = zipfile.ZipFile(file=file, mode='r')\n",
    "    zf.extractall(extract_path)\n",
    "    zf.close()\n",
    "    if delete_zip:\n",
    "        os.remove(file)\n",
    "        print(\"{} removed successfully.\".format(file))\n"
   ]
  },
  {
   "cell_type": "code",
   "execution_count": 3,
   "id": "6b7a5297",
   "metadata": {},
   "outputs": [
    {
     "data": {
      "text/plain": [
       "'\\nDescription: Extracting defense artifact\\n'"
      ]
     },
     "execution_count": 3,
     "metadata": {},
     "output_type": "execute_result"
    }
   ],
   "source": [
    "\"\"\"\n",
    "Description: Extracting defense artifact\n",
    "\"\"\"\n",
    "\n",
    "zip_extractor(file=os.path.join(report_path, 'Defense_artifact.zip'))"
   ]
  },
  {
   "cell_type": "code",
   "execution_count": 4,
   "id": "e78cebbe",
   "metadata": {},
   "outputs": [
    {
     "data": {
      "text/plain": [
       "'\\nDescription: Extracting attack sample\\n'"
      ]
     },
     "execution_count": 4,
     "metadata": {},
     "output_type": "execute_result"
    }
   ],
   "source": [
    "\"\"\"\n",
    "Description: Extracting attack sample\n",
    "\"\"\"\n",
    "\n",
    "zip_extractor(file=os.path.join(report_path, 'Attack_samples.zip'))"
   ]
  },
  {
   "cell_type": "code",
   "execution_count": 62,
   "id": "844a1184",
   "metadata": {},
   "outputs": [],
   "source": [
    "attack = pd.read_csv('reports/attack_samples.csv')"
   ]
  },
  {
   "cell_type": "code",
   "execution_count": 64,
   "id": "4eb68b2f",
   "metadata": {},
   "outputs": [],
   "source": [
    "\"\"\"\n",
    "Description: Load defense model\n",
    "\"\"\"\n",
    "\n",
    "defense_model_path = os.path.join(report_path, 'defense_model.h5')\n",
    "defense_model = tf.keras.models.load_model(defense_model_path)"
   ]
  },
  {
   "cell_type": "code",
   "execution_count": 67,
   "id": "9464e4cd",
   "metadata": {},
   "outputs": [
    {
     "name": "stdout",
     "output_type": "stream",
     "text": [
      "Model: \"model\"\n",
      "_________________________________________________________________\n",
      " Layer (type)                Output Shape              Param #   \n",
      "=================================================================\n",
      " input_data (InputLayer)     [(None, 100, 6)]          0         \n",
      "                                                                 \n",
      " conv1d (Conv1D)             (None, 98, 16)            304       \n",
      "                                                                 \n",
      " conv1d_1 (Conv1D)           (None, 96, 16)            784       \n",
      "                                                                 \n",
      " dense (Dense)               (None, 96, 32)            544       \n",
      "                                                                 \n",
      " flatten (Flatten)           (None, 3072)              0         \n",
      "                                                                 \n",
      " dense_1 (Dense)             (None, 2)                 6146      \n",
      "                                                                 \n",
      "=================================================================\n",
      "Total params: 7,778\n",
      "Trainable params: 7,778\n",
      "Non-trainable params: 0\n",
      "_________________________________________________________________\n"
     ]
    }
   ],
   "source": [
    "defense_model.summary()"
   ]
  },
  {
   "cell_type": "code",
   "execution_count": 68,
   "id": "99f602c6",
   "metadata": {},
   "outputs": [],
   "source": [
    "\"\"\"\n",
    "Description: Use defense model\n",
    "\"\"\"\n",
    "\n",
    "from reports import predict\n",
    "defense = predict.AISDefenseModel(defense_model,input_shape = (100,6), pre_processed = False)"
   ]
  },
  {
   "cell_type": "code",
   "execution_count": 69,
   "id": "a1b515e4",
   "metadata": {},
   "outputs": [
    {
     "name": "stdout",
     "output_type": "stream",
     "text": [
      "1/1 [==============================] - 0s 143ms/step\n"
     ]
    },
    {
     "name": "stderr",
     "output_type": "stream",
     "text": [
      "100%|████████████████████████████████████████| 10/10 [00:00<00:00, 51400.78it/s]"
     ]
    },
    {
     "name": "stdout",
     "output_type": "stream",
     "text": [
      "['not-attack', 'not-attack', 'not-attack', 'not-attack', 'not-attack', 'not-attack', 'not-attack', 'not-attack', 'not-attack', 'not-attack']\n"
     ]
    },
    {
     "name": "stderr",
     "output_type": "stream",
     "text": [
      "\n"
     ]
    }
   ],
   "source": [
    "org_pred, org_pred_prob= defense.predict(df_test[:10])\n",
    "print(org_pred.tolist())"
   ]
  },
  {
   "cell_type": "code",
   "execution_count": 70,
   "id": "0c561547",
   "metadata": {},
   "outputs": [
    {
     "name": "stdout",
     "output_type": "stream",
     "text": [
      "4/4 [==============================] - 0s 7ms/step\n"
     ]
    },
    {
     "name": "stderr",
     "output_type": "stream",
     "text": [
      "100%|█████████████████████████████████████| 100/100 [00:00<00:00, 272534.37it/s]"
     ]
    },
    {
     "name": "stdout",
     "output_type": "stream",
     "text": [
      "['not-attack', 'not-attack', 'attack', 'attack', 'attack', 'attack', 'attack', 'attack', 'attack', 'attack', 'attack', 'attack', 'attack', 'attack', 'attack', 'attack', 'attack', 'attack', 'attack', 'attack', 'attack', 'attack', 'attack', 'attack', 'attack', 'attack', 'attack', 'attack', 'attack', 'attack', 'attack', 'attack', 'attack', 'attack', 'attack', 'attack', 'attack', 'attack', 'attack', 'attack', 'attack', 'attack', 'attack', 'attack', 'attack', 'attack', 'attack', 'attack', 'attack', 'attack', 'attack', 'attack', 'attack', 'attack', 'attack', 'attack', 'attack', 'attack', 'attack', 'attack', 'attack', 'attack', 'attack', 'attack', 'attack', 'attack', 'attack', 'attack', 'attack', 'attack', 'attack', 'attack', 'attack', 'attack', 'attack', 'attack', 'attack', 'attack', 'attack', 'attack', 'attack', 'attack', 'attack', 'attack', 'attack', 'attack', 'attack', 'attack', 'attack', 'attack', 'attack', 'attack', 'attack', 'attack', 'attack', 'attack', 'attack', 'attack', 'attack', 'attack']\n"
     ]
    },
    {
     "name": "stderr",
     "output_type": "stream",
     "text": [
      "\n"
     ]
    }
   ],
   "source": [
    "attack_pred, attack_pred_prob= defense.predict(attack)\n",
    "print(attack_pred.tolist())"
   ]
  }
 ],
 "metadata": {
  "kernelspec": {
   "display_name": "Python 3 (ipykernel)",
   "language": "python",
   "name": "python3"
  },
  "language_info": {
   "codemirror_mode": {
    "name": "ipython",
    "version": 3
   },
   "file_extension": ".py",
   "mimetype": "text/x-python",
   "name": "python",
   "nbconvert_exporter": "python",
   "pygments_lexer": "ipython3",
   "version": "3.9.0"
  }
 },
 "nbformat": 4,
 "nbformat_minor": 5
}
