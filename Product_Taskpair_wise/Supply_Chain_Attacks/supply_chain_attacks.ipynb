{
 "cells": [
  {
   "cell_type": "markdown",
   "id": "64ce47d1",
   "metadata": {
    "id": "64ce47d1",
    "pycharm": {
     "name": "#%% md\n"
    }
   },
   "source": [
    "# Welcome to the AIShield Integration Notebook!\n",
    "\n",
    "**We are delighted to have you here!**\n",
    "\n",
    "## What to Expect !!\n",
    "This notebook serves as a comprehensive demonstration of the seamless integration capabilities of AIShield. As a powerful tool for securing your AI/ML assets against supply-chain threats, AIShield ensures the integrity and robustness of your models, preventing financial loss, protecting brand reputation, and mitigating the risk of intellectual property theft.\n",
    "\n",
    "## What to Do !!\n",
    "- **Explore the notebook** at your own pace to gain deep insights into the functionalities and features offered by AIShield.\n",
    "- **Run the first code cell/block**, which includes **Support functionalities** crucial for the smooth execution of the notebook. This setup will enhance your experience and enable the seamless integration of AIShield.\n",
    "- Even without running the entire notebook, you can get a glimpse of AIShield's capabilities and its approach to vulnerability assessments through sample scenarios.\n",
    "- **Run the code cells** to witness firsthand how AIShield seamlessly integrates with your existing codebase, empowering you to protect your AI models against adversarial attacks.\n",
    "- **Experiment and adapt the code** to suit your specific use cases, leveraging the flexibility and customization options provided by AIShield.\n",
    "- Should you have any questions or require assistance, our dedicated [AIShield.Contact@bosch.com](mailto:AIShield.Contact@bosch.com) is just a click away.\n",
    "\n",
    "## What You'll Get !!\n",
    "Throughout this notebook, you'll find:\n",
    "- Code snippets demonstrating step-by-step procedures for incorporating AIShield into your existing workflows, ensuring comprehensive protection against supply-chain threats.\n",
    "- Detailed guidance on the integration process, including any additional inputs required for thorough vulnerability analysis.\n",
    "- Report artifacts providing valuable insights into potential attack scenarios\n",
    "\n",
    "## <span style=\"color:teal\">AIShield Website and LinkedIn</span>\n",
    "To learn more about AIShield and its cutting-edge features, visit the official [AIShield website](https://www.boschaishield.com/). Connect with AIShield on [LinkedIn](https://www.linkedin.com/company/bosch-aishield/about/) to stay updated on the latest advancements in AI security.\n",
    "\n",
    "We hope this notebook empowers you to seamlessly integrate AIShield into your projects, ensuring the utmost protection for your AI/ML assets. If you have any questions or need further assistance, please don't hesitate to reach out. **Happy exploring!**\n"
   ]
  },
  {
   "cell_type": "markdown",
   "id": "cc04dd47",
   "metadata": {
    "id": "cc04dd47",
    "pycharm": {
     "name": "#%% md\n"
    }
   },
   "source": [
    "<a target=\"_blank\" href=\"https://colab.research.google.com/github/bosch-aisecurity-aishield/Reference-Implementations/blob/main/Product_Taskpair_wise/Supply_Chain_Attacks/supply_chain_attacks.ipynb\">\n",
    "  <img src=\"https://colab.research.google.com/assets/colab-badge.svg\" alt=\"Open In Colab\"/>\n",
    "</a>\n"
   ]
  },
  {
   "cell_type": "markdown",
   "id": "5e5cabeb",
   "metadata": {
    "id": "5e5cabeb",
    "pycharm": {
     "name": "#%% md\n"
    }
   },
   "source": [
    "## 1.0 Support Functionalities:"
   ]
  },
  {
   "cell_type": "code",
   "execution_count": 80,
   "id": "8b91984f",
   "metadata": {
    "id": "8b91984f",
    "pycharm": {
     "name": "#%%\n"
    }
   },
   "outputs": [],
   "source": [
    "\"\"\"\n",
    "Description : Use PyPi or AIShield API for Vulnerability Analysis\n",
    "              if PyPi = True (this notebook will use aishield pypi package for vulnerability analysis)\n",
    "              else = False (this notebook will use aishield api for vulnerability analysis)\n",
    "\"\"\"\n",
    "pypi = True"
   ]
  },
  {
   "cell_type": "code",
   "execution_count": 81,
   "id": "95fb5754",
   "metadata": {
    "colab": {
     "base_uri": "https://localhost:8080/",
     "height": 17
    },
    "id": "95fb5754",
    "outputId": "7784e194-3d09-41de-a13e-2474525e928b",
    "pycharm": {
     "name": "#%%\n"
    }
   },
   "outputs": [
    {
     "data": {
      "text/html": [
       "\n",
       "        <style>\n",
       "        .scrollable-code-input {\n",
       "            max-height: 500px;\n",
       "            overflow-y: scroll;\n",
       "        }\n",
       "        </style>\n",
       "        <script>\n",
       "        var codeInputCells = document.querySelectorAll('div.code_cell .input');\n",
       "        codeInputCells.forEach(function(cell) {\n",
       "            cell.classList.add('scrollable-code-input');\n",
       "        });\n",
       "        </script>\n",
       "    "
      ],
      "text/plain": [
       "<IPython.core.display.HTML object>"
      ]
     },
     "metadata": {},
     "output_type": "display_data"
    }
   ],
   "source": [
    "def make_code_input_scrollable():\n",
    "    \"\"\"Description : To make the input code cell scrollable for jupyternotebook\"\"\"\n",
    "    from IPython.display import display, HTML\n",
    "    display(HTML('''\n",
    "        <style>\n",
    "        .scrollable-code-input {\n",
    "            max-height: 500px;\n",
    "            overflow-y: scroll;\n",
    "        }\n",
    "        </style>\n",
    "        <script>\n",
    "        var codeInputCells = document.querySelectorAll('div.code_cell .input');\n",
    "        codeInputCells.forEach(function(cell) {\n",
    "            cell.classList.add('scrollable-code-input');\n",
    "        });\n",
    "        </script>\n",
    "    '''))\n",
    "\n",
    "make_code_input_scrollable()\n",
    "\n",
    "def display_pdf(runtime_environment,output_filename, pdf_path=None, file_id=None):\n",
    "\n",
    "    \"\"\"Descrption : To embeded pdf file in the ntoebook\"\"\"\n",
    "\n",
    "    from IPython.display import display, HTML\n",
    "    import os\n",
    "    output_file = output_filename+'.html'\n",
    "\n",
    "    # Check if the output file exists\n",
    "    if os.path.exists(output_file):\n",
    "        with open(output_file, 'r') as f:\n",
    "            saved_output = f.read()\n",
    "            display(HTML(saved_output))\n",
    "    else:\n",
    "        if 'colab' in runtime_environment.lower():\n",
    "            # Generate the Google Drive Viewer URL\n",
    "            if file_id is None:\n",
    "                print(pdf_path)\n",
    "                # Generate the Google Drive Viewer URL\n",
    "                drive_viewer_url = f'https://drive.google.com/viewerng/viewer?embedded=true&url={pdf_path}'\n",
    "                html_code = f'<iframe src=\"{drive_viewer_url}\" width=\"100%\" height=\"600px\"></iframe>'\n",
    "            else:\n",
    "                viewer_url = f\"https://drive.google.com/file/d/{file_id}/preview\"\n",
    "                html_code = f'<iframe src=\"{viewer_url}\" width=\"100%\" height=\"600px\"></iframe>'\n",
    "        else:\n",
    "            html_code = f'<embed src=\"{pdf_path}\" width=\"100%\" height=\"600px\" type=\"application/pdf\">'\n",
    "        # Save the output to a file\n",
    "        with open(output_file, 'w') as f:\n",
    "            f.write(html_code)\n",
    "\n",
    "        # Display the output\n",
    "        display(HTML(html_code))\n",
    "\n",
    "\n",
    "def check_runtime_environment():\n",
    "    \"\"\"\n",
    "    Description : Check notebook is running on colab or jupyter-notebook\n",
    "    \"\"\"\n",
    "    import os\n",
    "    colab = False\n",
    "    if 'google.colab' in str(get_ipython()):\n",
    "        colab = True\n",
    "        return 'Colab' , colab\n",
    "    else:\n",
    "        return 'Jupyter Notebook' , colab\n",
    "\n",
    "# Check the runtime environment\n",
    "runtime_environment,colab_running  = check_runtime_environment()\n",
    "\n",
    "# print(\"Notebook is running in\", runtime_environment)\n",
    "\n",
    "\n",
    "\n"
   ]
  },
  {
   "cell_type": "markdown",
   "id": "452a83b9",
   "metadata": {
    "id": "452a83b9",
    "pycharm": {
     "name": "#%% md\n"
    }
   },
   "source": [
    "    "
   ]
  },
  {
   "cell_type": "markdown",
   "id": "bfb01f37",
   "metadata": {
    "id": "bfb01f37",
    "pycharm": {
     "name": "#%% md\n"
    }
   },
   "source": [
    "   "
   ]
  },
  {
   "cell_type": "markdown",
   "id": "e137bb2f",
   "metadata": {
    "id": "e137bb2f",
    "pycharm": {
     "name": "#%% md\n"
    }
   },
   "source": [
    "\n",
    "<img src=\"https://aisdocs.blob.core.windows.net/reference/Workflow Images/wk1.png\"/>"
   ]
  },
  {
   "cell_type": "markdown",
   "id": "1bcb6716",
   "metadata": {
    "id": "1bcb6716",
    "pycharm": {
     "name": "#%% md\n"
    }
   },
   "source": [
    "   "
   ]
  },
  {
   "cell_type": "markdown",
   "id": "09aafb23",
   "metadata": {
    "id": "09aafb23",
    "pycharm": {
     "name": "#%% md\n"
    }
   },
   "source": [
    "  "
   ]
  },
  {
   "cell_type": "markdown",
   "id": "eb1f2642",
   "metadata": {
    "id": "eb1f2642",
    "pycharm": {
     "name": "#%% md\n"
    }
   },
   "source": [
    "## 2.0 Below code cell/block performs Step 1 to 4 with following these sequential steps :\n",
    "**STEP 1 : Installing libraries:** The required libraries will be installed to provide necessary functionalities for the task at hand."
   ]
  },
  {
   "cell_type": "code",
   "execution_count": 82,
   "id": "75b1807a",
   "metadata": {
    "execution": {
     "iopub.execute_input": "2023-06-05T18:27:59.754298Z",
     "iopub.status.busy": "2023-06-05T18:27:59.754298Z",
     "iopub.status.idle": "2023-06-05T18:28:23.490327Z",
     "shell.execute_reply": "2023-06-05T18:28:23.488117Z"
    },
    "hide_code": false,
    "id": "75b1807a",
    "pycharm": {
     "name": "#%%\n"
    }
   },
   "outputs": [],
   "source": [
    "# #@title Show/Hide Code\n",
    "# '''\n",
    "# Description: user input about dataset information, for eg: number of classes, input_shape\n",
    "# '''\n",
    "\n",
    "print(\"Starting installing aishield library\")\n",
    "!pip install aishield\n",
    "print(\"Installed all the prerequisites packages\")\n",
    "!pip install tqdm==4.61.1\n",
    "!pip install requests==2.28.0\n",
    "\n",
    "import os\n",
    "import requests\n",
    "import zipfile\n",
    "import tqdm\n",
    "import shutil\n",
    "import time\n",
    "from time import sleep\n",
    "import json\n",
    "\n",
    "\n",
    "import aishield as ais\n",
    "\n",
    "\n",
    "def make_directory(directory):\n",
    "    \"\"\"\n",
    "    Create directory\n",
    "\n",
    "    Parameters\n",
    "    ----------\n",
    "    directorys : list containing the directory's path to create\n",
    "\n",
    "    Returns\n",
    "    -------\n",
    "    None.\n",
    "\n",
    "    \"\"\"\n",
    "    for d in directory:\n",
    "        if os.path.isdir(d):\n",
    "            print(\"directory {} already exist\".format(d))\n",
    "        if os.path.isdir(d)==False:\n",
    "            os.mkdir(path=d)\n",
    "            print(\"directory {} created successfully\".format(d))\n",
    "\n",
    "def delete_directory(directorys):\n",
    "    \"\"\"\n",
    "    Delete directory\n",
    "\n",
    "    Parameters\n",
    "    ----------\n",
    "    directorys : list containing the directory's path to delete along with all the files\n",
    "\n",
    "    Returns\n",
    "    -------\n",
    "    None.\n",
    "\n",
    "    \"\"\"\n",
    "    if len(directorys)>=1:\n",
    "        for d in directorys:\n",
    "            if os.path.isdir(d):\n",
    "                try:\n",
    "                    if os.path.isfile(d):\n",
    "                        os.remove(path=d)\n",
    "                    else:\n",
    "                        shutil.rmtree(path=d)\n",
    "                        print(\"Removed: {}\".format(d))\n",
    "                except:\n",
    "                    print(\"Failed to removed: {}\".format(d))\n",
    "            else:\n",
    "                print(\"Failed to removed: {}\".format(d))\n",
    "\n",
    "\n",
    "def create_folders():\n",
    "    '''\n",
    "        Descrption: this will remove(if present previously) and create folders needed\n",
    "                    to store the data , model and label for ease access\n",
    "\n",
    "        input_parameters: None\n",
    "        return_parameters: returns the path of the data , model , label , report, zip directory\n",
    "    '''\n",
    "\n",
    "    report_path=os.path.join(os.getcwd(),\"reports\")\n",
    "\n",
    "    #deleting previously generated folders\n",
    "    delete_directory(directorys=[report_path])\n",
    "\n",
    "    #creating folders\n",
    "    make_directory([report_path])\n",
    "\n",
    "    return report_path\n",
    "\n",
    "\n",
    "if __name__ == \"__main__\":\n",
    "\n",
    "    report_path = create_folders()\n"
   ]
  },
  {
   "cell_type": "markdown",
   "id": "9775ce40",
   "metadata": {
    "id": "9775ce40",
    "pycharm": {
     "name": "#%% md\n"
    }
   },
   "source": [
    "   "
   ]
  },
  {
   "cell_type": "markdown",
   "id": "aecb7b1b",
   "metadata": {
    "id": "aecb7b1b",
    "pycharm": {
     "name": "#%% md\n"
    }
   },
   "source": [
    "  "
   ]
  },
  {
   "cell_type": "markdown",
   "id": "80782b1d",
   "metadata": {
    "id": "80782b1d",
    "pycharm": {
     "name": "#%% md\n"
    }
   },
   "source": [
    "<img src=\"https://aisdocs.blob.core.windows.net/reference/Workflow Images/wk2.png\"/>"
   ]
  },
  {
   "cell_type": "markdown",
   "id": "d78d4789",
   "metadata": {
    "id": "d78d4789",
    "pycharm": {
     "name": "#%% md\n"
    }
   },
   "source": [
    "  "
   ]
  },
  {
   "cell_type": "markdown",
   "id": "74404585",
   "metadata": {
    "id": "74404585",
    "pycharm": {
     "name": "#%% md\n"
    }
   },
   "source": [
    "  "
   ]
  },
  {
   "cell_type": "markdown",
   "id": "7e49ea41",
   "metadata": {
    "id": "7e49ea41",
    "pycharm": {
     "name": "#%% md\n"
    }
   },
   "source": [
    "## 3.0 Vulnerability Analysis by AIShield\n",
    "\n",
    "**STEP 2  :You can move to trigger the AIShield analysis by following steps given below. If you want to preview the generated artifact by vulnerability analysis like the report and dashboard, please find below a few samples of same, all without having to trigger an actual analysis.**\n",
    "\n",
    "By examining these Reports, we can gain a comprehensive understanding of the upcoming Vulnerability Analysis conducted by AIShield, which will enable us to prepare more effectively.\n"
   ]
  },
  {
   "cell_type": "markdown",
   "id": "5a5c2dd7",
   "metadata": {
    "id": "5a5c2dd7"
   },
   "source": [
    "<img src=\"https://aisdocs.blob.core.windows.net/reference/dashboard_images/Dashboard.png\"/>"
   ]
  },
  {
   "cell_type": "markdown",
   "id": "6475ab6a",
   "metadata": {
    "id": "6475ab6a"
   },
   "source": [
    "<img src=\"https://aisdocs.blob.core.windows.net/reference/dashboard_images/supply_chain_dashboard.png\"/>"
   ]
  },
  {
   "cell_type": "code",
   "execution_count": null,
   "id": "0ca157e6",
   "metadata": {
    "colab": {
     "base_uri": "https://localhost:8080/",
     "height": 662
    },
    "hide_code": false,
    "id": "0ca157e6",
    "outputId": "7cb577ef-5d38-4ee1-a361-4916b0c5a72d",
    "pycharm": {
     "name": "#%%\n"
    },
    "scrolled": true
   },
   "outputs": [
    {
     "data": {
      "text/html": [
       "<embed src=\"https://aisdocs.blob.core.windows.net/reference/Reports/supply-chain/VulnerabilityReport.pdf\" width=\"100%\" height=\"600px\" type=\"application/pdf\">"
      ],
      "text/plain": [
       "<IPython.core.display.HTML object>"
      ]
     },
     "metadata": {},
     "output_type": "display_data"
    }
   ],
   "source": [
    "hosted_pdf_url = 'https://aisdocs.blob.core.windows.net/reference/Reports/supply-chain/VulnerabilityReport.pdf'\n",
    "display_pdf( output_filename = \"vul_sample\",runtime_environment = runtime_environment,pdf_path =hosted_pdf_url)\n"
   ]
  },
  {
   "cell_type": "markdown",
   "id": "12bfb0e6",
   "metadata": {
    "id": "12bfb0e6",
    "pycharm": {
     "name": "#%% md\n"
    }
   },
   "source": [
    "  "
   ]
  },
  {
   "cell_type": "markdown",
   "id": "5c51b0fe",
   "metadata": {
    "id": "5c51b0fe",
    "pycharm": {
     "name": "#%% md\n"
    }
   },
   "source": [
    "   "
   ]
  },
  {
   "cell_type": "markdown",
   "id": "015d1110",
   "metadata": {
    "id": "015d1110",
    "pycharm": {
     "name": "#%% md\n"
    }
   },
   "source": [
    "#### Let's proceed with the step-by-step process of calling and integrating AIShield for Vulnerability Analysis:\n",
    "\n",
    "1. **Initialize AIShield:** Ensure that AIShield is properly installed and its dependencies are set up. Also, initialize AIShield to prepare for the analysis.\n",
    "\n",
    "2. **Model Registration:** Register the specific task pair (e.g. image_classification) and analysis type (e.g. supply-chain) to perform the vulnerability analysis accurately.\n",
    "\n",
    "3. **Upload Artifacts:** Select the necessary file for scanning\n",
    "\n",
    "4. **Model Analysis:** Trigger the model analysis API to initiate the vulnerability analysis assessment. AIShield will perform the analysis using the uploaded artifacts.\n",
    "\n",
    "5. **Monitor Analysis Status:** Keep track of the analysis progress and patiently wait for AIShield to generate the vulnerability assessment results. This may take some time depending on the complexity of the analysis.\n",
    "\n",
    "6. **Download Reports & Artifacts:** Once the analysis is complete, access and download the vulnerability analysis reports and any additional artifacts generated by AIShield. Analyze these reports to gain insights into potential vulnerabilities in your system or application.\n",
    "\n",
    "By following instructions, you can effectively call and integrate AIShield for Vulnerability Analysis."
   ]
  },
  {
   "cell_type": "markdown",
   "id": "8f15872b",
   "metadata": {
    "id": "8f15872b",
    "pycharm": {
     "name": "#%% md\n"
    }
   },
   "source": [
    "<img src=\"https://aisdocs.blob.core.windows.net/reference/Workflow Images/aw.png\"/>"
   ]
  },
  {
   "cell_type": "markdown",
   "id": "c3e41392",
   "metadata": {
    "id": "c3e41392",
    "pycharm": {
     "name": "#%% md\n"
    }
   },
   "source": [
    "### 3.1 Initialize AIShield"
   ]
  },
  {
   "cell_type": "code",
   "execution_count": 83,
   "id": "91fcac5f",
   "metadata": {
    "id": "91fcac5f",
    "pycharm": {
     "name": "#%%\n"
    }
   },
   "outputs": [],
   "source": [
    "\"\"\"\n",
    "Description : AIShield URL , subscription key and orgid\n",
    "              Initialize the\n",
    "\"\"\"\n",
    "base_url = \"https://api.aws.boschaishield.com/prod\"\n",
    "url=base_url+\"/api/ais/v1.5\"\n",
    "org_id = 'XXXXXXXXXXXXXXXXXXXXXXXXXXXXXXXXXXXX' #<<Copy Org_id mentioned in welcome mail after AIShield Subscription>>\n",
    "\n",
    "\"\"\"\n",
    "Description: Initialize the AIShield API\n",
    "\"\"\"\n",
    "if pypi:\n",
    "    #if pypi then , x-api-key generation is taken care from pypi side using given org_id\n",
    "    aishield_client = ais.AIShieldApi(api_url=url,org_id=org_id)\n",
    "\n",
    "else:\n",
    "\n",
    "    #if using AIShield API then , need an x-api-key for accessing AIShield registration / Analysis APIs\n",
    "    # below function will get insight of how to generate the x-api-key\n",
    "    def get_aws_api_key(url, org_id):\n",
    "\n",
    "        \"\"\"\n",
    "        Description: to get the x_api_key\n",
    "        \"\"\"\n",
    "        url = url+\"/get_aws_api_key\"\n",
    "        headers = {'Org-Id': org_id}\n",
    "        payload = {}\n",
    "\n",
    "        x_api_key_request = requests.request(\"GET\", url, headers=headers, data=payload)\n",
    "        status_code = x_api_key_request.status_code\n",
    "        x_api_key_request = json.loads(x_api_key_request.text)\n",
    "\n",
    "        if status_code == 200:\n",
    "            x_api_key = x_api_key_request['x_api_key']\n",
    "            return x_api_key\n",
    "\n",
    "        else:\n",
    "            print(x_api_key_request)\n",
    "            return None\n",
    "\n",
    "    #generate the x-api-key\n",
    "    x_api_key = get_aws_api_key(url, org_id)\n",
    "    print(\"x_api_key is :\",x_api_key)\n",
    "\n",
    "    headers={'Cache-Control': 'no-cache',\n",
    "    'x-api-key': x_api_key,\n",
    "    'Org-Id' : org_id\n",
    "    }"
   ]
  },
  {
   "cell_type": "markdown",
   "id": "81cdb00a",
   "metadata": {
    "id": "81cdb00a",
    "pycharm": {
     "name": "#%% md\n"
    }
   },
   "source": [
    "<img src=\"https://aisdocs.blob.core.windows.net/reference/Workflow Images/aw1.png\"/>"
   ]
  },
  {
   "cell_type": "markdown",
   "id": "b7914958",
   "metadata": {
    "id": "b7914958",
    "pycharm": {
     "name": "#%% md\n"
    }
   },
   "source": [
    "### 3.2 Model Registration"
   ]
  },
  {
   "cell_type": "code",
   "execution_count": 86,
   "id": "e5db4de5",
   "metadata": {
    "execution": {
     "iopub.execute_input": "2023-06-05T18:28:23.926951Z",
     "iopub.status.busy": "2023-06-05T18:28:23.926951Z",
     "iopub.status.idle": "2023-06-05T18:28:27.401047Z",
     "shell.execute_reply": "2023-06-05T18:28:27.398910Z"
    },
    "hide_code": false,
    "id": "e5db4de5",
    "pycharm": {
     "name": "#%%\n"
    }
   },
   "outputs": [],
   "source": [
    "\"\"\"\n",
    "Description: Define the task and analysis type for model registration\n",
    "              \"task_type\" : refers to the specific type of task being performed, for eg : \"image_classification.\"\n",
    "              \"analysis_type\" : refers to the specific type of analysis being performed,for eg : \"supply-chain.\n",
    "              For more information, check out [https://docs.boschaishield.com/api-docs/lesspostgreater-model-registration#-a-xGGsdVJB3d09cBAck-]\n",
    "\"\"\"\n",
    "\n",
    "if pypi:\n",
    "\n",
    "    task_type = ais.get_type(\"task\", \"image_classification\")\n",
    "    analysis_type = ais.get_type(\"analysis\", \"supply-chain\")\n",
    "\n",
    "\n",
    "    #Perform model registration\n",
    "    try:\n",
    "        status, job_details = aishield_client.register_model(task_type=task_type, analysis_type=analysis_type)\n",
    "        model_id, file_upload_url, model_upload_url = job_details.model_id, job_details.file_upload_uri, \\\n",
    "                                                                job_details.model_upload_uri\n",
    "\n",
    "        print('Model id is: {}. Input artifacts will be uploaded as \\n file_upload_url: {} \\n'\n",
    "        '\\n model_upload_url: {}'.format(model_id, file_upload_url, model_upload_url))\n",
    "    except Exception as e:\n",
    "        print(str(e))\n",
    "\n",
    "else:\n",
    "    \"\"\"\n",
    "    Description: call Model registration api to get unique model it and url to upload data, model and label\n",
    "    \"\"\"\n",
    "    model_registration_url = url + \"/model_registration/upload\"\n",
    "\n",
    "    model_registration_payload = {\n",
    "        'task_type':\"image_classification\",\n",
    "        \"analysis_type\": \"supply-chain\"\n",
    "    }\n",
    "\n",
    "    try:\n",
    "        new_request = requests.request(method=\"POST\", url=model_registration_url, headers=headers, json=model_registration_payload)\n",
    "        new_request = json.loads(new_request.text)\n",
    "        model_id = new_request['data']['model_id']\n",
    "        model_upload_obj = new_request['data']['urls']['model_upload_url']\n",
    "        files_upload_obj = new_request['data']['urls']['file_upload_url']\n",
    "\n",
    "        print('model_id: ', model_id)\n",
    "\n",
    "    except Exception as e:\n",
    "        print(new_request, str(e))"
   ]
  },
  {
   "cell_type": "markdown",
   "id": "CN8Tw6heBU59",
   "metadata": {
    "id": "CN8Tw6heBU59"
   },
   "source": [
    "### 3.3 Upload files (model and notebook) directly in .zip format"
   ]
  },
  {
   "cell_type": "code",
   "execution_count": 71,
   "id": "Ha0AKOgJGn9u",
   "metadata": {
    "id": "Ha0AKOgJGn9u"
   },
   "outputs": [],
   "source": [
    "\"\"\"\n",
    "Description: Define to_clone for user to provide option to clone a repository from huggingface or github\n",
    "            or can directly give the path of model or notebook in zip format for performing supply chain scanning\n",
    "\n",
    "\"\"\"\n",
    "\n",
    "to_clone = False #True for clone repository and false for upload directly to cloud"
   ]
  },
  {
   "cell_type": "code",
   "execution_count": 87,
   "id": "7tqfRmKV3KdE",
   "metadata": {
    "id": "7tqfRmKV3KdE"
   },
   "outputs": [],
   "source": [
    "\"\"\"\n",
    "Description: Upload model or notebook in zip format\n",
    "\n",
    "\"\"\"\n",
    "\n",
    "if not to_clone:\n",
    "    file_path = \"\" #full path of files(Notebooks) with file name of 'files.zip'\n",
    "    model_path = \"\"  #full path of model zip with name of 'model.zip'\n",
    "    file_upload=True\n",
    "    model_upload=True\n",
    "\n",
    "    if not os.path.isfile(model_path):\n",
    "        model_upload = False\n",
    "    if not os.path.isfile(file_path):\n",
    "        file_upload = False\n",
    "\n",
    "    if pypi:\n",
    "        print(\"Currently pypi is not available for direct upload\")\n",
    "    else:\n",
    "        def upload_file(upload_obj, file_path):\n",
    "\n",
    "            url = upload_obj['url']\n",
    "            request_payload = upload_obj['fields']\n",
    "            files=[\n",
    "                      ('file',(os.path.basename(file_path),open(file_path,'rb'),'application/zip'))\n",
    "                    ]\n",
    "\n",
    "            headers = {}\n",
    "            new_request = requests.request(\"POST\", url, headers=headers, data=request_payload, files=files)\n",
    "            status_cd = new_request.status_code\n",
    "            if status_cd == 204:\n",
    "                status = 'upload sucessful'\n",
    "            else:\n",
    "                status = 'upload failed'\n",
    "            return status\n",
    "\n",
    "        \"\"\"\n",
    "        Description: Hit AIShield File Upload API\n",
    "        \"\"\"\n",
    "\n",
    "        if file_upload:\n",
    "          file_upload_status = upload_file(files_upload_obj, file_path)\n",
    "          print('files_upload_status: ', file_upload_status)\n",
    "        else:\n",
    "          print(\"file is not present at file path\")\n",
    "\n",
    "        if model_upload:\n",
    "           model_upload_status = upload_file(model_upload_obj, model_path)\n",
    "           print('model_upload_status: ', model_upload_status)\n",
    "        else:\n",
    "          print(\"model is not present at model path\")"
   ]
  },
  {
   "cell_type": "markdown",
   "id": "8475dc38",
   "metadata": {
    "id": "8475dc38",
    "pycharm": {
     "name": "#%% md\n"
    }
   },
   "source": [
    "<img src=\"https://aisdocs.blob.core.windows.net/reference/Workflow Images/aw2.png\"/>"
   ]
  },
  {
   "cell_type": "markdown",
   "id": "6eba2da6",
   "metadata": {
    "id": "6eba2da6"
   },
   "source": [
    "### 3.4 Clone Repository to detect files (model and notebook)"
   ]
  },
  {
   "cell_type": "code",
   "execution_count": 73,
   "id": "NEWVwLeipyJE",
   "metadata": {
    "id": "NEWVwLeipyJE"
   },
   "outputs": [],
   "source": [
    "\n",
    "\"\"\"\n",
    "Description: Define the repo_type and repo_url for scanning of models and files\n",
    "              \"repo_type\" : refers to the repository type that supply chain support . e.g - huggingface, github\n",
    "              \"repo_url\" : refers to the url of repository either from github or huggingface.\n",
    "              For more information, check out [https://docs.boschaishield.com/api-docs/supply-chain-attacks#qxjssSdXPwcv1agc6L12_]\n",
    "\"\"\"\n",
    "if to_clone:\n",
    "    if pypi:\n",
    "        repo_type='huggingface' # github or huggingface\n",
    "        repo_url='url of repository'#url of repository that need to be analysed\n",
    "        branch_name='main' #by default it is main\n",
    "        depth=1 # by default it is 1\n",
    "\n",
    "        status, detected_files, detected_models = aishield_client.file_and_model_detector(repo_type=repo_type,\n",
    "                                                                                repo_url=repo_url,\n",
    "                                                                                branch_name=branch_name,\n",
    "                                                                                depth=depth)\n",
    "        print('Detected models: {}'.format(detected_models))\n",
    "        print('Detected files: {}'.format(detected_files))\n",
    "\n",
    "    else:\n",
    "        repo_type = \"huggingface\"  # github or huggingface\n",
    "        # repo_type = 'github'\n",
    "        repo_url = \"url of the repository\" # url of repository that need to be analysed\n",
    "        payload = {\n",
    "                'repo_type':repo_type,\n",
    "                \"repo_url\": repo_url,\n",
    "                \"branch_name\":\"main\", # default value is  main branch\n",
    "                \"depth\": 1 # default value is 1\n",
    "            }\n",
    "\n",
    "        supply_chain_url = url + \"/supplychain\"\n",
    "\n",
    "        new_request = requests.request(method=\"POST\", url=supply_chain_url, headers=headers, json=payload)\n",
    "        new_request = json.loads(new_request.text)\n",
    "\n",
    "        for key, value in new_request.items():\n",
    "            if key != \"status\":\n",
    "                print(\"{} are : \".format(key))\n",
    "                for file in value:\n",
    "                    print(\" \"*20+file)\n",
    "            else:\n",
    "                print(\"{}: {}\".format(key, value))\n",
    "            print(\"\\n\")\n"
   ]
  },
  {
   "cell_type": "markdown",
   "id": "c8769c47",
   "metadata": {
    "id": "c8769c47",
    "pycharm": {
     "name": "#%% md\n"
    }
   },
   "source": [
    "### 3.5 Select files to Upload for performing supply chain scanning"
   ]
  },
  {
   "cell_type": "code",
   "execution_count": 74,
   "id": "2210e50f",
   "metadata": {
    "id": "2210e50f"
   },
   "outputs": [],
   "source": [
    "if to_clone:\n",
    "    if pypi:\n",
    "        model_file_for_scan = 'path of model separated by comma'\n",
    "        file_for_scan = 'path of notebooks separated by commma'\n",
    "\n",
    "        upload_status = aishield_client.upload_repo_artifacts(model_id=model_id,\n",
    "                                                    repo_type=repo_type,\n",
    "                                                    repo_url=repo_url,\n",
    "                                                    branch_name=branch_name,\n",
    "                                                    depth=depth,\n",
    "                                                    model_file=model_file_for_scan,\n",
    "                                                    files=file_for_scan)\n",
    "        print('upload status: {}'.format(', '.join(upload_status)))\n",
    "    else:\n",
    "        payload[\"upload_file\"] = \"yes\"\n",
    "        payload[\"model_id\"] = model_id\n",
    "        payload[\"model_file\"] = [\"path of the model\"]# give coma separated list of model path from repo\n",
    "        payload[\"files\"] = [\"path of file\"] # give coma separated list of notebooks and requirements.txt files\n",
    "\n",
    "        new_request_upload = requests.request(method=\"POST\", url=supply_chain_url, headers=headers, json=payload)\n",
    "        data_upload_status = json.loads(new_request_upload.text)\n",
    "\n",
    "        print(\"model and file upload status\",data_upload_status)"
   ]
  },
  {
   "cell_type": "markdown",
   "id": "f705377c",
   "metadata": {
    "id": "f705377c",
    "pycharm": {
     "name": "#%% md\n"
    }
   },
   "source": [
    "<img src=\"https://aisdocs.blob.core.windows.net/reference/Workflow Images/aw3.png\"/>"
   ]
  },
  {
   "cell_type": "markdown",
   "id": "0758139d",
   "metadata": {
    "id": "0758139d",
    "pycharm": {
     "name": "#%% md\n"
    }
   },
   "source": [
    "### 3.6 Model Analysis"
   ]
  },
  {
   "cell_type": "code",
   "execution_count": 88,
   "id": "251ad457",
   "metadata": {
    "execution": {
     "iopub.execute_input": "2023-06-05T18:28:37.208991Z",
     "iopub.status.busy": "2023-06-05T18:28:37.208991Z",
     "iopub.status.idle": "2023-06-05T18:28:38.353099Z",
     "shell.execute_reply": "2023-06-05T18:28:38.349996Z"
    },
    "hide_code": false,
    "id": "251ad457",
    "pycharm": {
     "name": "#%%\n"
    }
   },
   "outputs": [],
   "source": [
    "\"\"\"\n",
    "Description: Specify the appropriate configs required for vulnerability analysis and trigger model analysis\n",
    "\"\"\"\n",
    "\n",
    "\n",
    "if pypi:\n",
    "    vuln_config = ais.VulnConfig(task_type=task_type,\n",
    "                                 analysis_type=analysis_type,\n",
    "                                 defense_generate=False)\n",
    "\n",
    "\n",
    "    my_status, job_details = aishield_client.vuln_analysis(model_id=model_id, vuln_config=vuln_config)\n",
    "    job_id = job_details.job_id\n",
    "    job_dashboard_uri = job_details.job_dashboard_uri\n",
    "    print('status: {}. Job_id: {}. Please save this job_id for future reference'.format(my_status, job_id))\n",
    "    print('job_dashboard_uri: {}'.format(job_dashboard_uri))\n",
    "\n",
    "\n",
    "else:\n",
    "\n",
    "    \"\"\"\n",
    "    Description: Payload for AIShield VulnerabilityReport api call\n",
    "    \"\"\"\n",
    "    payload={}\n",
    "\n",
    "    print(\"IC--Supply_chain parameters are:\",payload)\n",
    "    \"\"\"\n",
    "    Description: Hit AIShield VulnerabilityReport api\n",
    "    \"\"\"\n",
    "    model_analysis_url = url + \"/model_analyse/{}\".format(model_id)\n",
    "    if to_clone:\n",
    "\n",
    "        if data_upload_status['model_upload_status'] == \"successful\" :\n",
    "            new_request = requests.request(method=\"POST\", url=model_analysis_url, json=payload,headers=headers)\n",
    "            new_request=json.loads(new_request.text)\n",
    "            for k, v in new_request.items():\n",
    "                print(\"* {} : {}\".format(k,v))\n",
    "\n",
    "    else:\n",
    "\n",
    "        if model_upload_status=='upload sucessful':\n",
    "            new_request = requests.request(method=\"POST\", url=model_analysis_url, json=payload,headers=headers)\n",
    "            new_request=json.loads(new_request.text)\n",
    "            for k, v in new_request.items():\n",
    "                print(\"* {} : {}\".format(k,v))\n",
    "        else:\n",
    "            if model_upload_status ==\"upload failed\":\n",
    "                print(\"Model or notebook is not uploaded.\")\n",
    "\n",
    "    job_id=new_request['job_id']"
   ]
  },
  {
   "cell_type": "markdown",
   "id": "f46c938b",
   "metadata": {
    "id": "f46c938b",
    "pycharm": {
     "name": "#%% md\n"
    }
   },
   "source": [
    "### 3.6 Monitor Analysis Status"
   ]
  },
  {
   "cell_type": "code",
   "execution_count": 90,
   "id": "55003c2e",
   "metadata": {
    "execution": {
     "iopub.execute_input": "2023-06-05T18:28:38.360112Z",
     "iopub.status.busy": "2023-06-05T18:28:38.360112Z",
     "iopub.status.idle": "2023-06-05T18:33:26.590260Z",
     "shell.execute_reply": "2023-06-05T18:33:26.588183Z"
    },
    "hide_code": false,
    "id": "55003c2e",
    "pycharm": {
     "name": "#%%\n"
    }
   },
   "outputs": [],
   "source": [
    "\"\"\"\n",
    "Description: Fetch Job status using Job ID\n",
    "\"\"\"\n",
    "# to get the status of job, just rerun again until job got successfull\n",
    "if pypi:\n",
    "    status = aishield_client.job_status (job_id = job_id)\n",
    "    print('job status ', status)\n",
    "\n",
    "else:\n",
    "    def monitor_api_progress(new_job_id):\n",
    "        job_status_url = url + \"/job_status_detailed?job_id=\" + new_job_id\n",
    "\n",
    "        # status dictionary\n",
    "        status_dictionary = {\n",
    "            \"SupplyChainStatus\":'na'\n",
    "        }\n",
    "        counts = [0] * len(status_dictionary)\n",
    "        failed_api_hit_count = 0\n",
    "        while True:\n",
    "            time.sleep(15)\n",
    "            try:\n",
    "                job_status_response = requests.request(\"GET\", job_status_url, params={},\n",
    "                                                       headers=headers)\n",
    "\n",
    "                job_status_payload = json.loads(job_status_response.text)\n",
    "                failing_key = 'SupplyChainStatus'\n",
    "                for i, key in enumerate(status_dictionary.keys()):\n",
    "                    if status_dictionary[key] == 'na':\n",
    "                        if job_status_payload[key] == 'inprogress' and status_dictionary[key] == 'na':\n",
    "                            status_dictionary[key] = job_status_payload[key]\n",
    "                            print(str(key), \":\", status_dictionary[key])\n",
    "\n",
    "                        elif job_status_payload[key] == 'completed' or job_status_payload[key] == 'passed':\n",
    "                            status_dictionary[key] = job_status_payload[key]\n",
    "                            counts[i] += 1\n",
    "                            print(str(key), \":\", status_dictionary[key])\n",
    "\n",
    "                        if job_status_payload[key] == 'failed':\n",
    "                            failing_key = key\n",
    "                            status_dictionary[key] = job_status_payload[key]\n",
    "                            print(str(key), \":\", status_dictionary[key])\n",
    "\n",
    "                    elif job_status_payload[key] == 'completed' or job_status_payload[key] == 'passed':\n",
    "                        status_dictionary[key] = job_status_payload[key]\n",
    "                        if counts[i] < 1:\n",
    "                            print(str(key), \":\", status_dictionary[key])\n",
    "                        counts[i] += 1\n",
    "\n",
    "                    else:\n",
    "                        if job_status_payload[key] == 'failed':\n",
    "                            failing_key = key\n",
    "                            status_dictionary[key] = job_status_payload[key]\n",
    "                            print(str(key), \":\", status_dictionary[key])\n",
    "\n",
    "                if job_status_payload[failing_key] == 'failed':\n",
    "                    break\n",
    "\n",
    "                if status_dictionary['SupplyChainStatus'] == 'passed' or status_dictionary[\n",
    "                    'SupplyChainStatus'] == 'completed':\n",
    "                    print(\"\\n job success\")\n",
    "                    break\n",
    "            except Exception as e:\n",
    "                failed_api_hit_count += 1\n",
    "                print(\"Error {}. trying {} ...\".format(str(e), failed_api_hit_count))\n",
    "                if failed_api_hit_count >= 3:\n",
    "                    break\n",
    "        return status_dictionary\n",
    "\n",
    "    status_dictionary = monitor_api_progress(new_job_id=job_id)"
   ]
  },
  {
   "cell_type": "markdown",
   "id": "066faf3e",
   "metadata": {
    "id": "066faf3e",
    "pycharm": {
     "name": "#%% md\n"
    }
   },
   "source": [
    "<img src=\"https://aisdocs.blob.core.windows.net/reference/Workflow Images/aw5.png\"/>"
   ]
  },
  {
   "cell_type": "markdown",
   "id": "0f27f7b1",
   "metadata": {
    "id": "0f27f7b1",
    "pycharm": {
     "name": "#%% md\n"
    }
   },
   "source": [
    "### 3.7 Download Reports and artifacts"
   ]
  },
  {
   "cell_type": "code",
   "execution_count": 77,
   "id": "56bd0d06",
   "metadata": {
    "execution": {
     "iopub.execute_input": "2023-06-05T18:33:26.599519Z",
     "iopub.status.busy": "2023-06-05T18:33:26.598522Z",
     "iopub.status.idle": "2023-06-05T18:33:26.617593Z",
     "shell.execute_reply": "2023-06-05T18:33:26.615601Z"
    },
    "id": "56bd0d06",
    "pycharm": {
     "name": "#%%\n"
    }
   },
   "outputs": [],
   "source": [
    "report_path = \"reports/\"\n",
    "status =\"success\""
   ]
  },
  {
   "cell_type": "code",
   "execution_count": 78,
   "id": "1f8a5a01",
   "metadata": {
    "id": "1f8a5a01",
    "pycharm": {
     "name": "#%%\n"
    }
   },
   "outputs": [],
   "source": [
    "def download_artifact(job_id, report_path, report_type='Vulnerability', file_format=0):\n",
    "    \"\"\"\n",
    "    job_id: job_id  received after successful api call\n",
    "    report_type: report to be downloaded\n",
    "    file_format: change file_format to : 0- all report in zip\n",
    "                        1- report in .txt\n",
    "                        2- report in .pdf\n",
    "                        3- report in .json\n",
    "                        4- report in .xml\n",
    "    \"\"\"\n",
    "    print(\"received report_type : {} and file format is: {}\".format(report_type, file_format))\n",
    "    report_url = url + \"/\" + \"get_report?job_id=\" + str(\n",
    "        job_id) + \"&report_type=\" + report_type + \"&file_format=\" + str(file_format)\n",
    "\n",
    "    headers1 = headers\n",
    "    headers1[\"content-type\"] = \"application/zip\"\n",
    "\n",
    "    response = requests.request(\"GET\", report_url, params={}, headers=headers1)\n",
    "\n",
    "    file_path = None\n",
    "    if file_format == 0 or file_format == \"Attack_samples\":\n",
    "        file_path=os.path.join(report_path, report_type + \".zip\")\n",
    "        with open(file_path, 'wb') as f:\n",
    "            f.write(response.content)\n",
    "\n",
    "    elif file_format == 1:\n",
    "        file_path=os.path.join(report_path, report_type + \".txt\")\n",
    "        with open(file_path, 'wb') as f:\n",
    "            f.write(response.content)\n",
    "\n",
    "    elif file_format == 2:\n",
    "        file_path=os.path.join(report_path, report_type + \".pdf\")\n",
    "        with open(file_path, 'wb') as f:\n",
    "            f.write(response.content)\n",
    "\n",
    "    elif file_format == 3:\n",
    "        file_path=os.path.join(report_path, report_type + \".json\")\n",
    "        with open(file_path, 'wb') as f:\n",
    "            f.write(response.content)\n",
    "\n",
    "    elif file_format == 4:\n",
    "        file_path=os.path.join(report_path, report_type + \".xml\")\n",
    "        with open(file_path, 'wb') as f:\n",
    "            f.write(response.content)\n",
    "\n",
    "    return file_path"
   ]
  },
  {
   "cell_type": "code",
   "execution_count": 79,
   "id": "ce56da2b",
   "metadata": {
    "colab": {
     "base_uri": "https://localhost:8080/"
    },
    "hide_code": false,
    "id": "ce56da2b",
    "outputId": "410e7395-a3b4-425c-be9d-3b6905b4a472",
    "pycharm": {
     "name": "#%%\n"
    }
   },
   "outputs": [
    {
     "name": "stdout",
     "output_type": "stream",
     "text": [
      "received report_type : Vulnerability and file format is: 2\n"
     ]
    }
   ],
   "source": [
    "\"\"\"\n",
    "Description: Download the Vulnerability Reports\n",
    "\"\"\"\n",
    "import os\n",
    "if pypi:\n",
    "    if status == \"success\":\n",
    "        output_conf = ais.OutputConf(report_type=ais.get_type(\"report\", \"vulnerability\"),\n",
    "                                     file_format=ais.get_type(\"file_format\", \"pdf\"),\n",
    "                                     save_folder_path=report_path)\n",
    "\n",
    "        vul_report = aishield_client.save_job_report(job_id=job_id, output_config=output_conf)\n",
    "\n",
    "else:\n",
    "\n",
    "    vul_report = download_artifact(job_id=job_id, report_path= report_path, report_type='Vulnerability', file_format=2)"
   ]
  },
  {
   "cell_type": "code",
   "execution_count": null,
   "id": "Odv5kzeYFTOZ",
   "metadata": {
    "execution": {
     "iopub.execute_input": "2023-06-05T18:33:32.606419Z",
     "iopub.status.busy": "2023-06-05T18:33:32.606419Z",
     "iopub.status.idle": "2023-06-05T18:33:32.645220Z",
     "shell.execute_reply": "2023-06-05T18:33:32.644077Z"
    },
    "hide_code": false,
    "id": "Odv5kzeYFTOZ",
    "pycharm": {
     "name": "#%%\n"
    }
   },
   "outputs": [],
   "source": [
    "def get_file_id(report_path):\n",
    "\n",
    "    file_id = None\n",
    "    !pip install --upgrade google-api-python-client google-auth-httplib2 google-auth-oauthlib\n",
    "\n",
    "    # from google.colab import drive\n",
    "    # drive.mount('/content/drive')\n",
    "    import os\n",
    "    from googleapiclient.discovery import build\n",
    "    from googleapiclient.http import MediaFileUpload\n",
    "\n",
    "    # Authenticate and authorize access to the Google Drive API\n",
    "    from google.colab import auth\n",
    "    auth.authenticate_user()\n",
    "\n",
    "    # Build the Drive API service\n",
    "    drive_service = build('drive', 'v3')\n",
    "\n",
    "    # Path to the PDF file in your local drive\n",
    "#         local_pdf_path = '/content/drive/MyDrive/Vulnerability.pdf'\n",
    "\n",
    "    # Upload the PDF file to Google Drive\n",
    "    pdf_file_name = os.path.basename(report_path)\n",
    "    file_metadata = {'name': pdf_file_name}\n",
    "    media = MediaFileUpload(report_path, mimetype='application/pdf')\n",
    "    file = drive_service.files().create(body=file_metadata, media_body=media, fields='id').execute()\n",
    "\n",
    "    # Set sharing permissions to \"Anyone with the link\"\n",
    "    file_id = file.get('id')\n",
    "    drive_service.permissions().create(\n",
    "        fileId=file_id,\n",
    "        body={'role': 'reader', 'type': 'anyone'}\n",
    "    ).execute()\n",
    "\n",
    "    return file_id"
   ]
  },
  {
   "cell_type": "code",
   "execution_count": null,
   "id": "6f2c29ad",
   "metadata": {
    "execution": {
     "iopub.execute_input": "2023-06-05T18:33:32.652937Z",
     "iopub.status.busy": "2023-06-05T18:33:32.652937Z",
     "iopub.status.idle": "2023-06-05T18:33:32.679968Z",
     "shell.execute_reply": "2023-06-05T18:33:32.678696Z"
    },
    "hide_code": false,
    "id": "6f2c29ad",
    "pycharm": {
     "name": "#%%\n"
    }
   },
   "outputs": [],
   "source": [
    "\"\"\"\n",
    "Description: Displaying the current Vulnerability Assement report\n",
    "\"\"\"\n",
    "\n",
    "if (\"colab\" in runtime_environment.lower()):\n",
    "    file_id = get_file_id(report_path = vul_report)\n",
    "    display_pdf(output_filename = \"vul_\"+job_id[-10:],runtime_environment=runtime_environment,file_id=file_id)\n",
    "else:\n",
    "    display_pdf(output_filename = \"vul_\"+job_id[-10:],runtime_environment=runtime_environment, pdf_path =os.path.join(report_path, os.path.basename(vul_report)))"
   ]
  },
  {
   "cell_type": "markdown",
   "id": "d3b6693e",
   "metadata": {
    "id": "d3b6693e",
    "pycharm": {
     "name": "#%% md\n"
    }
   },
   "source": [
    "<img src=\"https://aisdocs.blob.core.windows.net/reference/Workflow Images/aw6.png\"/>"
   ]
  },
  {
   "cell_type": "code",
   "execution_count": null,
   "id": "odBqenUoLVCw",
   "metadata": {
    "id": "odBqenUoLVCw"
   },
   "outputs": [],
   "source": []
  }
 ],
 "metadata": {
  "accelerator": "GPU",
  "codeState": [
   "",
   "",
   "",
   "none",
   "none",
   "none",
   "none",
   "none",
   "none",
   "none",
   "",
   "none",
   "none",
   "",
   "",
   "",
   "",
   "",
   "none",
   "",
   "",
   "none",
   "",
   "",
   "",
   "",
   "",
   "",
   "",
   "",
   "",
   "",
   "",
   "",
   "none",
   "",
   ""
  ],
  "colab": {
   "gpuType": "T4",
   "provenance": []
  },
  "custom_metadata": {
   "show_hide_code": true
  },
  "kernelspec": {
   "display_name": "Python 3 (ipykernel)",
   "language": "python",
   "name": "python3"
  },
  "language_info": {
   "codemirror_mode": {
    "name": "ipython",
    "version": 3
   },
   "file_extension": ".py",
   "mimetype": "text/x-python",
   "name": "python",
   "nbconvert_exporter": "python",
   "pygments_lexer": "ipython3",
   "version": "3.10.13"
  }
 },
 "nbformat": 4,
 "nbformat_minor": 5
}
